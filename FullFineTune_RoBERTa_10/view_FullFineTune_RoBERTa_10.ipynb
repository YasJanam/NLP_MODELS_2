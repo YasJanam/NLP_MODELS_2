{
 "cells": [
  {
   "cell_type": "code",
   "execution_count": 1,
   "metadata": {
    "id": "MGFKS-5iSNmQ"
   },
   "outputs": [],
   "source": [
    "from transformers import (\n",
    "    AutoTokenizer,\n",
    "    AutoModelForSequenceClassification,\n",
    "    Trainer,\n",
    "    TrainingArguments\n",
    ")\n",
    "from datasets import load_dataset, Dataset\n",
    "import torch\n",
    "import numpy as np\n",
    "import pandas as pd\n",
    "from torch.utils.data import DataLoader\n",
    "from torch.nn.utils.rnn import pad_sequence\n",
    "from sklearn.metrics import accuracy_score\n",
    "from google.colab import files\n",
    "\n",
    "device = torch.device(\"cuda\" if torch.cuda.is_available() else \"cpu\")"
   ]
  },
  {
   "cell_type": "markdown",
   "metadata": {
    "id": "0P-RcfrKPUbd"
   },
   "source": [
    "##### **Load Datasets**"
   ]
  },
  {
   "cell_type": "code",
   "execution_count": 2,
   "metadata": {
    "colab": {
     "base_uri": "https://localhost:8080/",
     "height": 301,
     "referenced_widgets": [
      "a32c38ca155b458b8a0dfa3a284536d4",
      "9e42b6911963419daca6a3296b81dab5",
      "703ad65a6828424f808a9fa55fa2c647",
      "95be251436a14ea3b4f8b509b48f0c23",
      "ef332738cf4043ce81c8cce9c554cc45",
      "abc251438682456b9c7228fe8f22e6ae",
      "2f4e9eb9a75a45faa0c0ae59efadc0b5",
      "920369c155174e16976cbbced68d4f5a",
      "d5eb0ca4ff1e41fa8bb393d85e9c3981",
      "009e31a2e5e6404b809fbd0497a64982",
      "6fd864192c684aaf858846e42d0d8ca9",
      "f27aa1cb552a4ab189382172cb335305",
      "1ed8d23a21474bcfb8c866662509a2c8",
      "c90cff408090411fa5dd343766eb6752",
      "1498855e5e4249108138d6d03dca8c76",
      "dc49c80e672346a29f3ebf3976dc16d0",
      "3054b37cbb844ea39d474036b752df91",
      "beba7a4c828f4a7e9a3faec5e66539f6",
      "2632cc497ae44c168b0dbdf46d7c5f29",
      "3d8da8d72f89497b9c2684b08f5787ce",
      "d0f321cb97b44a70b5b13f794f442da4",
      "28f204c0de664f1fad08b837d55a6e03",
      "8b078601ee594b9b81ca3fbd946c1080",
      "26f65839b2f6434a9cb9a3392e6ae498",
      "35d14aa433994a0a8468797779bc9283",
      "f5b772e679644a3fbab45b2a345a1921",
      "6a9fa91478814e83a8acbd0671446d59",
      "a1b6c7adeca545449f9907845d654573",
      "8ce6274758104ee39969e51de8b828f6",
      "7185821cf1824e98b138b40a099b1982",
      "fe1c1eb7fd0d4dd6a8c99b0b16bdd29c",
      "a39922dc709f47c697ecbd8f4fe8a125",
      "0d619d4f307c48179cbb33d2968630d0",
      "51d5babb0be74bbfbc5d1b068cbdb2a7",
      "6b71c57ac14a471ebfbf04ee2fa1f6c3",
      "fa7b0d4466a04e29a0c812f404916c26",
      "c6de19a134d64b2681b67241075ea0a2",
      "6c4e6c752687497da1fb5c2df73e6c21",
      "ce7f29a0c6d24052810e522911a99867",
      "10087ee6abb94991ac8b87ab446c43fc",
      "dbc4c08c6f0c4e9884be0a5da9101e7a",
      "2a98af4c691a48afaf8523aa56a2f7af",
      "76375d5967e74854bd9b701ff3e61fbd",
      "4e9f211440044efbbd53b5ac9b281673",
      "d17f01f9da2e4412a78d1a401b862f69",
      "c474e79396774f92befafe7e81353bba",
      "92875e98e40b456d9771680019fcd301",
      "91b9145c9b1a476bae4764d1e5fc7917",
      "3e5216f091ff4eaf8fcdc74a74ac2b2b",
      "e2dc8a5b9a8d4a76a8d8c07ba3d5fafd",
      "f997203cb67e496194cc596feabd1526",
      "82dd365e41b54a6f9de57297d6d83f51",
      "6ef9519154f94feea66ef3bb2bdef783",
      "b50a3fc382684561adf9e0c9361eabf7",
      "8498f0c7b76a448cae48b450b2481dae"
     ]
    },
    "collapsed": true,
    "id": "cU6GT93oPU3c",
    "jupyter": {
     "outputs_hidden": true
    },
    "outputId": "f9abb304-dbf8-4804-eed2-6f48b539ddc7"
   },
   "outputs": [
    {
     "name": "stderr",
     "output_type": "stream",
     "text": [
      "/usr/local/lib/python3.12/dist-packages/huggingface_hub/utils/_auth.py:94: UserWarning: \n",
      "The secret `HF_TOKEN` does not exist in your Colab secrets.\n",
      "To authenticate with the Hugging Face Hub, create a token in your settings tab (https://huggingface.co/settings/tokens), set it as secret in your Google Colab and restart your session.\n",
      "You will be able to reuse this secret in all of your notebooks.\n",
      "Please note that authentication is recommended but still optional to access public models or datasets.\n",
      "  warnings.warn(\n"
     ]
    },
    {
     "data": {
      "application/vnd.jupyter.widget-view+json": {
       "model_id": "a32c38ca155b458b8a0dfa3a284536d4",
       "version_major": 2,
       "version_minor": 0
      },
      "text/plain": [
       "tokenizer_config.json:   0%|          | 0.00/25.0 [00:00<?, ?B/s]"
      ]
     },
     "metadata": {},
     "output_type": "display_data"
    },
    {
     "data": {
      "application/vnd.jupyter.widget-view+json": {
       "model_id": "f27aa1cb552a4ab189382172cb335305",
       "version_major": 2,
       "version_minor": 0
      },
      "text/plain": [
       "config.json:   0%|          | 0.00/481 [00:00<?, ?B/s]"
      ]
     },
     "metadata": {},
     "output_type": "display_data"
    },
    {
     "data": {
      "application/vnd.jupyter.widget-view+json": {
       "model_id": "8b078601ee594b9b81ca3fbd946c1080",
       "version_major": 2,
       "version_minor": 0
      },
      "text/plain": [
       "vocab.json:   0%|          | 0.00/899k [00:00<?, ?B/s]"
      ]
     },
     "metadata": {},
     "output_type": "display_data"
    },
    {
     "data": {
      "application/vnd.jupyter.widget-view+json": {
       "model_id": "51d5babb0be74bbfbc5d1b068cbdb2a7",
       "version_major": 2,
       "version_minor": 0
      },
      "text/plain": [
       "merges.txt:   0%|          | 0.00/456k [00:00<?, ?B/s]"
      ]
     },
     "metadata": {},
     "output_type": "display_data"
    },
    {
     "data": {
      "application/vnd.jupyter.widget-view+json": {
       "model_id": "d17f01f9da2e4412a78d1a401b862f69",
       "version_major": 2,
       "version_minor": 0
      },
      "text/plain": [
       "tokenizer.json:   0%|          | 0.00/1.36M [00:00<?, ?B/s]"
      ]
     },
     "metadata": {},
     "output_type": "display_data"
    }
   ],
   "source": [
    "def upload_dataset_from_system():\n",
    "  uploaded = files.upload()\n",
    "  data = Dataset.from_pandas(pd.read_parquet(list(uploaded.keys())[0]))\n",
    "  return data\n",
    "\n",
    "# --- return dataset classes ---\n",
    "def dataset_classes(dataset):\n",
    "  return list(set([item['label'] for item in dataset]))\n",
    "\n",
    "# --- model name\n",
    "model_name = \"roberta-base\"\n",
    "\n",
    "# --- tokenizer ---\n",
    "tokenizer = AutoTokenizer.from_pretrained(model_name)"
   ]
  },
  {
   "cell_type": "code",
   "execution_count": 4,
   "metadata": {
    "colab": {
     "base_uri": "https://localhost:8080/",
     "height": 184
    },
    "collapsed": true,
    "id": "Ie7BFs9_PaCp",
    "jupyter": {
     "outputs_hidden": true
    },
    "outputId": "f6985ac4-8f1a-4469-d134-9a8b413adbac"
   },
   "outputs": [
    {
     "data": {
      "text/html": [
       "\n",
       "     <input type=\"file\" id=\"files-2f3cf653-a424-4e4e-a44e-dcf0668be24b\" name=\"files[]\" multiple disabled\n",
       "        style=\"border:none\" />\n",
       "     <output id=\"result-2f3cf653-a424-4e4e-a44e-dcf0668be24b\">\n",
       "      Upload widget is only available when the cell has been executed in the\n",
       "      current browser session. Please rerun this cell to enable.\n",
       "      </output>\n",
       "      <script>// Copyright 2017 Google LLC\n",
       "//\n",
       "// Licensed under the Apache License, Version 2.0 (the \"License\");\n",
       "// you may not use this file except in compliance with the License.\n",
       "// You may obtain a copy of the License at\n",
       "//\n",
       "//      http://www.apache.org/licenses/LICENSE-2.0\n",
       "//\n",
       "// Unless required by applicable law or agreed to in writing, software\n",
       "// distributed under the License is distributed on an \"AS IS\" BASIS,\n",
       "// WITHOUT WARRANTIES OR CONDITIONS OF ANY KIND, either express or implied.\n",
       "// See the License for the specific language governing permissions and\n",
       "// limitations under the License.\n",
       "\n",
       "/**\n",
       " * @fileoverview Helpers for google.colab Python module.\n",
       " */\n",
       "(function(scope) {\n",
       "function span(text, styleAttributes = {}) {\n",
       "  const element = document.createElement('span');\n",
       "  element.textContent = text;\n",
       "  for (const key of Object.keys(styleAttributes)) {\n",
       "    element.style[key] = styleAttributes[key];\n",
       "  }\n",
       "  return element;\n",
       "}\n",
       "\n",
       "// Max number of bytes which will be uploaded at a time.\n",
       "const MAX_PAYLOAD_SIZE = 100 * 1024;\n",
       "\n",
       "function _uploadFiles(inputId, outputId) {\n",
       "  const steps = uploadFilesStep(inputId, outputId);\n",
       "  const outputElement = document.getElementById(outputId);\n",
       "  // Cache steps on the outputElement to make it available for the next call\n",
       "  // to uploadFilesContinue from Python.\n",
       "  outputElement.steps = steps;\n",
       "\n",
       "  return _uploadFilesContinue(outputId);\n",
       "}\n",
       "\n",
       "// This is roughly an async generator (not supported in the browser yet),\n",
       "// where there are multiple asynchronous steps and the Python side is going\n",
       "// to poll for completion of each step.\n",
       "// This uses a Promise to block the python side on completion of each step,\n",
       "// then passes the result of the previous step as the input to the next step.\n",
       "function _uploadFilesContinue(outputId) {\n",
       "  const outputElement = document.getElementById(outputId);\n",
       "  const steps = outputElement.steps;\n",
       "\n",
       "  const next = steps.next(outputElement.lastPromiseValue);\n",
       "  return Promise.resolve(next.value.promise).then((value) => {\n",
       "    // Cache the last promise value to make it available to the next\n",
       "    // step of the generator.\n",
       "    outputElement.lastPromiseValue = value;\n",
       "    return next.value.response;\n",
       "  });\n",
       "}\n",
       "\n",
       "/**\n",
       " * Generator function which is called between each async step of the upload\n",
       " * process.\n",
       " * @param {string} inputId Element ID of the input file picker element.\n",
       " * @param {string} outputId Element ID of the output display.\n",
       " * @return {!Iterable<!Object>} Iterable of next steps.\n",
       " */\n",
       "function* uploadFilesStep(inputId, outputId) {\n",
       "  const inputElement = document.getElementById(inputId);\n",
       "  inputElement.disabled = false;\n",
       "\n",
       "  const outputElement = document.getElementById(outputId);\n",
       "  outputElement.innerHTML = '';\n",
       "\n",
       "  const pickedPromise = new Promise((resolve) => {\n",
       "    inputElement.addEventListener('change', (e) => {\n",
       "      resolve(e.target.files);\n",
       "    });\n",
       "  });\n",
       "\n",
       "  const cancel = document.createElement('button');\n",
       "  inputElement.parentElement.appendChild(cancel);\n",
       "  cancel.textContent = 'Cancel upload';\n",
       "  const cancelPromise = new Promise((resolve) => {\n",
       "    cancel.onclick = () => {\n",
       "      resolve(null);\n",
       "    };\n",
       "  });\n",
       "\n",
       "  // Wait for the user to pick the files.\n",
       "  const files = yield {\n",
       "    promise: Promise.race([pickedPromise, cancelPromise]),\n",
       "    response: {\n",
       "      action: 'starting',\n",
       "    }\n",
       "  };\n",
       "\n",
       "  cancel.remove();\n",
       "\n",
       "  // Disable the input element since further picks are not allowed.\n",
       "  inputElement.disabled = true;\n",
       "\n",
       "  if (!files) {\n",
       "    return {\n",
       "      response: {\n",
       "        action: 'complete',\n",
       "      }\n",
       "    };\n",
       "  }\n",
       "\n",
       "  for (const file of files) {\n",
       "    const li = document.createElement('li');\n",
       "    li.append(span(file.name, {fontWeight: 'bold'}));\n",
       "    li.append(span(\n",
       "        `(${file.type || 'n/a'}) - ${file.size} bytes, ` +\n",
       "        `last modified: ${\n",
       "            file.lastModifiedDate ? file.lastModifiedDate.toLocaleDateString() :\n",
       "                                    'n/a'} - `));\n",
       "    const percent = span('0% done');\n",
       "    li.appendChild(percent);\n",
       "\n",
       "    outputElement.appendChild(li);\n",
       "\n",
       "    const fileDataPromise = new Promise((resolve) => {\n",
       "      const reader = new FileReader();\n",
       "      reader.onload = (e) => {\n",
       "        resolve(e.target.result);\n",
       "      };\n",
       "      reader.readAsArrayBuffer(file);\n",
       "    });\n",
       "    // Wait for the data to be ready.\n",
       "    let fileData = yield {\n",
       "      promise: fileDataPromise,\n",
       "      response: {\n",
       "        action: 'continue',\n",
       "      }\n",
       "    };\n",
       "\n",
       "    // Use a chunked sending to avoid message size limits. See b/62115660.\n",
       "    let position = 0;\n",
       "    do {\n",
       "      const length = Math.min(fileData.byteLength - position, MAX_PAYLOAD_SIZE);\n",
       "      const chunk = new Uint8Array(fileData, position, length);\n",
       "      position += length;\n",
       "\n",
       "      const base64 = btoa(String.fromCharCode.apply(null, chunk));\n",
       "      yield {\n",
       "        response: {\n",
       "          action: 'append',\n",
       "          file: file.name,\n",
       "          data: base64,\n",
       "        },\n",
       "      };\n",
       "\n",
       "      let percentDone = fileData.byteLength === 0 ?\n",
       "          100 :\n",
       "          Math.round((position / fileData.byteLength) * 100);\n",
       "      percent.textContent = `${percentDone}% done`;\n",
       "\n",
       "    } while (position < fileData.byteLength);\n",
       "  }\n",
       "\n",
       "  // All done.\n",
       "  yield {\n",
       "    response: {\n",
       "      action: 'complete',\n",
       "    }\n",
       "  };\n",
       "}\n",
       "\n",
       "scope.google = scope.google || {};\n",
       "scope.google.colab = scope.google.colab || {};\n",
       "scope.google.colab._files = {\n",
       "  _uploadFiles,\n",
       "  _uploadFilesContinue,\n",
       "};\n",
       "})(self);\n",
       "</script> "
      ],
      "text/plain": [
       "<IPython.core.display.HTML object>"
      ]
     },
     "metadata": {},
     "output_type": "display_data"
    },
    {
     "name": "stdout",
     "output_type": "stream",
     "text": [
      "Saving train-00000-of-00001.parquet to train-00000-of-00001.parquet\n"
     ]
    },
    {
     "data": {
      "text/html": [
       "\n",
       "     <input type=\"file\" id=\"files-eeb51191-084b-426d-aa7f-00ad1b2d1c65\" name=\"files[]\" multiple disabled\n",
       "        style=\"border:none\" />\n",
       "     <output id=\"result-eeb51191-084b-426d-aa7f-00ad1b2d1c65\">\n",
       "      Upload widget is only available when the cell has been executed in the\n",
       "      current browser session. Please rerun this cell to enable.\n",
       "      </output>\n",
       "      <script>// Copyright 2017 Google LLC\n",
       "//\n",
       "// Licensed under the Apache License, Version 2.0 (the \"License\");\n",
       "// you may not use this file except in compliance with the License.\n",
       "// You may obtain a copy of the License at\n",
       "//\n",
       "//      http://www.apache.org/licenses/LICENSE-2.0\n",
       "//\n",
       "// Unless required by applicable law or agreed to in writing, software\n",
       "// distributed under the License is distributed on an \"AS IS\" BASIS,\n",
       "// WITHOUT WARRANTIES OR CONDITIONS OF ANY KIND, either express or implied.\n",
       "// See the License for the specific language governing permissions and\n",
       "// limitations under the License.\n",
       "\n",
       "/**\n",
       " * @fileoverview Helpers for google.colab Python module.\n",
       " */\n",
       "(function(scope) {\n",
       "function span(text, styleAttributes = {}) {\n",
       "  const element = document.createElement('span');\n",
       "  element.textContent = text;\n",
       "  for (const key of Object.keys(styleAttributes)) {\n",
       "    element.style[key] = styleAttributes[key];\n",
       "  }\n",
       "  return element;\n",
       "}\n",
       "\n",
       "// Max number of bytes which will be uploaded at a time.\n",
       "const MAX_PAYLOAD_SIZE = 100 * 1024;\n",
       "\n",
       "function _uploadFiles(inputId, outputId) {\n",
       "  const steps = uploadFilesStep(inputId, outputId);\n",
       "  const outputElement = document.getElementById(outputId);\n",
       "  // Cache steps on the outputElement to make it available for the next call\n",
       "  // to uploadFilesContinue from Python.\n",
       "  outputElement.steps = steps;\n",
       "\n",
       "  return _uploadFilesContinue(outputId);\n",
       "}\n",
       "\n",
       "// This is roughly an async generator (not supported in the browser yet),\n",
       "// where there are multiple asynchronous steps and the Python side is going\n",
       "// to poll for completion of each step.\n",
       "// This uses a Promise to block the python side on completion of each step,\n",
       "// then passes the result of the previous step as the input to the next step.\n",
       "function _uploadFilesContinue(outputId) {\n",
       "  const outputElement = document.getElementById(outputId);\n",
       "  const steps = outputElement.steps;\n",
       "\n",
       "  const next = steps.next(outputElement.lastPromiseValue);\n",
       "  return Promise.resolve(next.value.promise).then((value) => {\n",
       "    // Cache the last promise value to make it available to the next\n",
       "    // step of the generator.\n",
       "    outputElement.lastPromiseValue = value;\n",
       "    return next.value.response;\n",
       "  });\n",
       "}\n",
       "\n",
       "/**\n",
       " * Generator function which is called between each async step of the upload\n",
       " * process.\n",
       " * @param {string} inputId Element ID of the input file picker element.\n",
       " * @param {string} outputId Element ID of the output display.\n",
       " * @return {!Iterable<!Object>} Iterable of next steps.\n",
       " */\n",
       "function* uploadFilesStep(inputId, outputId) {\n",
       "  const inputElement = document.getElementById(inputId);\n",
       "  inputElement.disabled = false;\n",
       "\n",
       "  const outputElement = document.getElementById(outputId);\n",
       "  outputElement.innerHTML = '';\n",
       "\n",
       "  const pickedPromise = new Promise((resolve) => {\n",
       "    inputElement.addEventListener('change', (e) => {\n",
       "      resolve(e.target.files);\n",
       "    });\n",
       "  });\n",
       "\n",
       "  const cancel = document.createElement('button');\n",
       "  inputElement.parentElement.appendChild(cancel);\n",
       "  cancel.textContent = 'Cancel upload';\n",
       "  const cancelPromise = new Promise((resolve) => {\n",
       "    cancel.onclick = () => {\n",
       "      resolve(null);\n",
       "    };\n",
       "  });\n",
       "\n",
       "  // Wait for the user to pick the files.\n",
       "  const files = yield {\n",
       "    promise: Promise.race([pickedPromise, cancelPromise]),\n",
       "    response: {\n",
       "      action: 'starting',\n",
       "    }\n",
       "  };\n",
       "\n",
       "  cancel.remove();\n",
       "\n",
       "  // Disable the input element since further picks are not allowed.\n",
       "  inputElement.disabled = true;\n",
       "\n",
       "  if (!files) {\n",
       "    return {\n",
       "      response: {\n",
       "        action: 'complete',\n",
       "      }\n",
       "    };\n",
       "  }\n",
       "\n",
       "  for (const file of files) {\n",
       "    const li = document.createElement('li');\n",
       "    li.append(span(file.name, {fontWeight: 'bold'}));\n",
       "    li.append(span(\n",
       "        `(${file.type || 'n/a'}) - ${file.size} bytes, ` +\n",
       "        `last modified: ${\n",
       "            file.lastModifiedDate ? file.lastModifiedDate.toLocaleDateString() :\n",
       "                                    'n/a'} - `));\n",
       "    const percent = span('0% done');\n",
       "    li.appendChild(percent);\n",
       "\n",
       "    outputElement.appendChild(li);\n",
       "\n",
       "    const fileDataPromise = new Promise((resolve) => {\n",
       "      const reader = new FileReader();\n",
       "      reader.onload = (e) => {\n",
       "        resolve(e.target.result);\n",
       "      };\n",
       "      reader.readAsArrayBuffer(file);\n",
       "    });\n",
       "    // Wait for the data to be ready.\n",
       "    let fileData = yield {\n",
       "      promise: fileDataPromise,\n",
       "      response: {\n",
       "        action: 'continue',\n",
       "      }\n",
       "    };\n",
       "\n",
       "    // Use a chunked sending to avoid message size limits. See b/62115660.\n",
       "    let position = 0;\n",
       "    do {\n",
       "      const length = Math.min(fileData.byteLength - position, MAX_PAYLOAD_SIZE);\n",
       "      const chunk = new Uint8Array(fileData, position, length);\n",
       "      position += length;\n",
       "\n",
       "      const base64 = btoa(String.fromCharCode.apply(null, chunk));\n",
       "      yield {\n",
       "        response: {\n",
       "          action: 'append',\n",
       "          file: file.name,\n",
       "          data: base64,\n",
       "        },\n",
       "      };\n",
       "\n",
       "      let percentDone = fileData.byteLength === 0 ?\n",
       "          100 :\n",
       "          Math.round((position / fileData.byteLength) * 100);\n",
       "      percent.textContent = `${percentDone}% done`;\n",
       "\n",
       "    } while (position < fileData.byteLength);\n",
       "  }\n",
       "\n",
       "  // All done.\n",
       "  yield {\n",
       "    response: {\n",
       "      action: 'complete',\n",
       "    }\n",
       "  };\n",
       "}\n",
       "\n",
       "scope.google = scope.google || {};\n",
       "scope.google.colab = scope.google.colab || {};\n",
       "scope.google.colab._files = {\n",
       "  _uploadFiles,\n",
       "  _uploadFilesContinue,\n",
       "};\n",
       "})(self);\n",
       "</script> "
      ],
      "text/plain": [
       "<IPython.core.display.HTML object>"
      ]
     },
     "metadata": {},
     "output_type": "display_data"
    },
    {
     "name": "stdout",
     "output_type": "stream",
     "text": [
      "Saving validation-00000-of-00001.parquet to validation-00000-of-00001.parquet\n"
     ]
    },
    {
     "data": {
      "text/html": [
       "\n",
       "     <input type=\"file\" id=\"files-74adddba-b490-42d3-b3ea-2e877f23c5b5\" name=\"files[]\" multiple disabled\n",
       "        style=\"border:none\" />\n",
       "     <output id=\"result-74adddba-b490-42d3-b3ea-2e877f23c5b5\">\n",
       "      Upload widget is only available when the cell has been executed in the\n",
       "      current browser session. Please rerun this cell to enable.\n",
       "      </output>\n",
       "      <script>// Copyright 2017 Google LLC\n",
       "//\n",
       "// Licensed under the Apache License, Version 2.0 (the \"License\");\n",
       "// you may not use this file except in compliance with the License.\n",
       "// You may obtain a copy of the License at\n",
       "//\n",
       "//      http://www.apache.org/licenses/LICENSE-2.0\n",
       "//\n",
       "// Unless required by applicable law or agreed to in writing, software\n",
       "// distributed under the License is distributed on an \"AS IS\" BASIS,\n",
       "// WITHOUT WARRANTIES OR CONDITIONS OF ANY KIND, either express or implied.\n",
       "// See the License for the specific language governing permissions and\n",
       "// limitations under the License.\n",
       "\n",
       "/**\n",
       " * @fileoverview Helpers for google.colab Python module.\n",
       " */\n",
       "(function(scope) {\n",
       "function span(text, styleAttributes = {}) {\n",
       "  const element = document.createElement('span');\n",
       "  element.textContent = text;\n",
       "  for (const key of Object.keys(styleAttributes)) {\n",
       "    element.style[key] = styleAttributes[key];\n",
       "  }\n",
       "  return element;\n",
       "}\n",
       "\n",
       "// Max number of bytes which will be uploaded at a time.\n",
       "const MAX_PAYLOAD_SIZE = 100 * 1024;\n",
       "\n",
       "function _uploadFiles(inputId, outputId) {\n",
       "  const steps = uploadFilesStep(inputId, outputId);\n",
       "  const outputElement = document.getElementById(outputId);\n",
       "  // Cache steps on the outputElement to make it available for the next call\n",
       "  // to uploadFilesContinue from Python.\n",
       "  outputElement.steps = steps;\n",
       "\n",
       "  return _uploadFilesContinue(outputId);\n",
       "}\n",
       "\n",
       "// This is roughly an async generator (not supported in the browser yet),\n",
       "// where there are multiple asynchronous steps and the Python side is going\n",
       "// to poll for completion of each step.\n",
       "// This uses a Promise to block the python side on completion of each step,\n",
       "// then passes the result of the previous step as the input to the next step.\n",
       "function _uploadFilesContinue(outputId) {\n",
       "  const outputElement = document.getElementById(outputId);\n",
       "  const steps = outputElement.steps;\n",
       "\n",
       "  const next = steps.next(outputElement.lastPromiseValue);\n",
       "  return Promise.resolve(next.value.promise).then((value) => {\n",
       "    // Cache the last promise value to make it available to the next\n",
       "    // step of the generator.\n",
       "    outputElement.lastPromiseValue = value;\n",
       "    return next.value.response;\n",
       "  });\n",
       "}\n",
       "\n",
       "/**\n",
       " * Generator function which is called between each async step of the upload\n",
       " * process.\n",
       " * @param {string} inputId Element ID of the input file picker element.\n",
       " * @param {string} outputId Element ID of the output display.\n",
       " * @return {!Iterable<!Object>} Iterable of next steps.\n",
       " */\n",
       "function* uploadFilesStep(inputId, outputId) {\n",
       "  const inputElement = document.getElementById(inputId);\n",
       "  inputElement.disabled = false;\n",
       "\n",
       "  const outputElement = document.getElementById(outputId);\n",
       "  outputElement.innerHTML = '';\n",
       "\n",
       "  const pickedPromise = new Promise((resolve) => {\n",
       "    inputElement.addEventListener('change', (e) => {\n",
       "      resolve(e.target.files);\n",
       "    });\n",
       "  });\n",
       "\n",
       "  const cancel = document.createElement('button');\n",
       "  inputElement.parentElement.appendChild(cancel);\n",
       "  cancel.textContent = 'Cancel upload';\n",
       "  const cancelPromise = new Promise((resolve) => {\n",
       "    cancel.onclick = () => {\n",
       "      resolve(null);\n",
       "    };\n",
       "  });\n",
       "\n",
       "  // Wait for the user to pick the files.\n",
       "  const files = yield {\n",
       "    promise: Promise.race([pickedPromise, cancelPromise]),\n",
       "    response: {\n",
       "      action: 'starting',\n",
       "    }\n",
       "  };\n",
       "\n",
       "  cancel.remove();\n",
       "\n",
       "  // Disable the input element since further picks are not allowed.\n",
       "  inputElement.disabled = true;\n",
       "\n",
       "  if (!files) {\n",
       "    return {\n",
       "      response: {\n",
       "        action: 'complete',\n",
       "      }\n",
       "    };\n",
       "  }\n",
       "\n",
       "  for (const file of files) {\n",
       "    const li = document.createElement('li');\n",
       "    li.append(span(file.name, {fontWeight: 'bold'}));\n",
       "    li.append(span(\n",
       "        `(${file.type || 'n/a'}) - ${file.size} bytes, ` +\n",
       "        `last modified: ${\n",
       "            file.lastModifiedDate ? file.lastModifiedDate.toLocaleDateString() :\n",
       "                                    'n/a'} - `));\n",
       "    const percent = span('0% done');\n",
       "    li.appendChild(percent);\n",
       "\n",
       "    outputElement.appendChild(li);\n",
       "\n",
       "    const fileDataPromise = new Promise((resolve) => {\n",
       "      const reader = new FileReader();\n",
       "      reader.onload = (e) => {\n",
       "        resolve(e.target.result);\n",
       "      };\n",
       "      reader.readAsArrayBuffer(file);\n",
       "    });\n",
       "    // Wait for the data to be ready.\n",
       "    let fileData = yield {\n",
       "      promise: fileDataPromise,\n",
       "      response: {\n",
       "        action: 'continue',\n",
       "      }\n",
       "    };\n",
       "\n",
       "    // Use a chunked sending to avoid message size limits. See b/62115660.\n",
       "    let position = 0;\n",
       "    do {\n",
       "      const length = Math.min(fileData.byteLength - position, MAX_PAYLOAD_SIZE);\n",
       "      const chunk = new Uint8Array(fileData, position, length);\n",
       "      position += length;\n",
       "\n",
       "      const base64 = btoa(String.fromCharCode.apply(null, chunk));\n",
       "      yield {\n",
       "        response: {\n",
       "          action: 'append',\n",
       "          file: file.name,\n",
       "          data: base64,\n",
       "        },\n",
       "      };\n",
       "\n",
       "      let percentDone = fileData.byteLength === 0 ?\n",
       "          100 :\n",
       "          Math.round((position / fileData.byteLength) * 100);\n",
       "      percent.textContent = `${percentDone}% done`;\n",
       "\n",
       "    } while (position < fileData.byteLength);\n",
       "  }\n",
       "\n",
       "  // All done.\n",
       "  yield {\n",
       "    response: {\n",
       "      action: 'complete',\n",
       "    }\n",
       "  };\n",
       "}\n",
       "\n",
       "scope.google = scope.google || {};\n",
       "scope.google.colab = scope.google.colab || {};\n",
       "scope.google.colab._files = {\n",
       "  _uploadFiles,\n",
       "  _uploadFilesContinue,\n",
       "};\n",
       "})(self);\n",
       "</script> "
      ],
      "text/plain": [
       "<IPython.core.display.HTML object>"
      ]
     },
     "metadata": {},
     "output_type": "display_data"
    },
    {
     "name": "stdout",
     "output_type": "stream",
     "text": [
      "Saving test-00000-of-00001.parquet to test-00000-of-00001.parquet\n"
     ]
    }
   ],
   "source": [
    "# --- load dataset 20-classes ---\n",
    "train_data = upload_dataset_from_system()\n",
    "val_data = upload_dataset_from_system()\n",
    "test_data = upload_dataset_from_system()  # max_length -> 40"
   ]
  },
  {
   "cell_type": "code",
   "execution_count": 3,
   "metadata": {
    "colab": {
     "base_uri": "https://localhost:8080/",
     "height": 500,
     "referenced_widgets": [
      "6ffeb2fdfbe74d92abd00523985a29a1",
      "002bba2265784aa18b078911e10d5f21",
      "721a960352b6416095d65ed2c7824ca4",
      "b6706619bdfd42b5a3f01b1a1b8025c5",
      "938d480368b24f578b8482a1ff03124f",
      "6fa476f3bb534a59b7c0669aa96136c8",
      "5ec3b3cef3374bd58ba843599c2d503e",
      "a70f6879644641aa8e9403c1d30e58fc",
      "bfb68dcc38cb453d9141ca3d0be7c099",
      "f2a4490bdc4d4f71843d364958689330",
      "cfab4961f4194a2d83eabbf6ae3995ee",
      "040ac400e93249e1840715e35c8f6357",
      "e791dd9858fd477ca9998d54f691a897",
      "e1d57f98558e4071a1ad2cea4c5d6242",
      "25122a7f9d234d3b8f042acf7919164c",
      "ec5a0fa561b848889051045c6c01252e",
      "59e98f02b98c4ed8b9fd09ae2c5d5927",
      "3b2c5e6ac22746d49e324f7dee189313",
      "a75c4cb290f34c41ac34c3f6cecfef1f",
      "43b30e894c3a468eaff56508d0b1193c",
      "0947e4ced90e458db268416bf3599c12",
      "8fee0d81144c47c1871c3bbed60a65dc",
      "275ca1dc327e4a35ac9c19b43d1cebf3",
      "a1fe69de1bce42b7a1b5cf93a2c0d7b5",
      "eaed5118c4974d52a1f7a9c061fb1fcb",
      "9627501e7fb642a6aed45f560bb75df3",
      "dedc37fc1f8e4656aca8d36c7a207816",
      "0538756f249744ab9edbac5fa921b83d",
      "76e7c3ad581f46eb8c67b14862b50559",
      "9af6b45de13b48beafab372d5f82c623",
      "3aa688b54d15455bae8c0806b0eaa10b",
      "a1ffbf4904534d82a7a39f8c17243e42",
      "b15d6db8b16946e9b447bdb32c3169be",
      "960ecbf7f3a74bcea449c4faab8d89b4",
      "7a46a575ee7746d5a25919a1e24f39fc",
      "e68d6798b1c347b3b98dd38244363d8f",
      "15251df42b274480b8a33e8a2961a54d",
      "546de67379334eaf8c01d49a87269bf1",
      "62bc2c223cc4409baeef40cafa54f000",
      "eece46f4615746d8a5f3eba4b40e8b91",
      "8d512ee3a15245629924c7398fca26b6",
      "b32518a878454028a87cb362c3123323",
      "35163ad210ad4efda0bed702fc84eee6",
      "fe450959cf024aada3d2faae9d48e7ef",
      "4e2f35839cc149079270e0ab5d22c96a",
      "7d6f88c4533845b9a7ffdcc28582f0fb",
      "d74680363cf94a6ea88113ddcaba030e",
      "ca97895b403747c6806393cd1457ea43",
      "46ba5b3d42e04b31a9e550cf82d8d383",
      "8184e21a8dde494680ae49319167c444",
      "440557210bf7468c86579d37b7c2ca99",
      "fe9a6925a31a42cb83032959a20d2d8f",
      "8654511bbfa84d338cb2977e1fb4ba67",
      "4e1b1cf438b9426bbc0650e951cbe907",
      "2dc79b9f469b4833b48d3592fc92a598",
      "60afb87976434ef686254bc1ec306c80",
      "beba8519756344d59b747763aa2e150b",
      "0e245dd8e99846a796cf1f6da45656b6",
      "885a6385ca99480d9eb605e30278ad86",
      "9c7ffeb2dcbe47a094b0580eb13da753",
      "ffda49ba45ad4d82b16dc1beae4e6a63",
      "62d07b2cbf224c76a91bea9f7d6687ec",
      "7c9ad4d3eb514e138398d7e8dd7b6e35",
      "3b8fdbb6e34e4c6a987fadc0298a5a0e",
      "143c32f320f240a3893925862bded0bc",
      "03c1b601e50244d7b434d03aee69a693",
      "7f5a104e0f6d4d5b958d2ab74dc36ee0",
      "a8ba7400772645faafabc6c16f6cb428",
      "a1568a97adea48bb83ab205887cbae08",
      "c0d09ed99f6d48a7b4b029c2e42e9231",
      "13eae89dcaa143b0bd0100b0653c2dcd",
      "951ae8c2b17c4f50aa36187222333b67",
      "3954833320264aacbe732eb14d7dd04a",
      "8d35affbed9b4158a5b6453e46c32328",
      "544d8373e60740f8b249968b5fc681a3",
      "124620b6239e4d8b9ce5b598093ae24e",
      "7c8bcd54839841d1a93a316161ddd928",
      "d3d1007611ed4b6da1b978c0ca80ba7a",
      "119d2209146542fd933b99855a46d76b",
      "c0ddd134d77e4ae2abcbca4cf1ce66be",
      "5a0c6c8863594a658e7db9a0b69c5817",
      "22b8818373404a34b46e9a639dbc9be7",
      "d51b75a5f0e44389b3c65d47b5bd4f03",
      "f23e309c2c62452e8d98393e57835372",
      "8f0d2504fa1b4794982dc174cee97cf8",
      "bcb3723821a24f558d43b9d548ed7a7b",
      "1ae8bebdfcf14ce1aebe49c3388034f4",
      "128ec5b5a3d14c3aac6c634664ce64a3",
      "f4d245999b0e420aa02cf06874bee930",
      "7459b44e7b2143c2a589c1872754064f",
      "c4a4adaed9164ca5bdae800993d9d013",
      "ac7b6dd34cae4254a60e2836aacdafd4",
      "cc25eb1de64645d58741194078022a10",
      "9cbff2ab7a9c43b587b60d4c9b3092ae",
      "7854a71a890d482e8aa8ff34e3d11401",
      "1108cfd21970431ab313662ca55b3546",
      "75445bf02fed4af080f9ef8ff90d0fff",
      "b71a6befec164052a343b304b5dd0803",
      "d72f4cad45414af9a756529485446881",
      "8aec01ccb2e04632b09d7b24ebe79be4",
      "a050c421d8ae4b009cb43bc710592fe9",
      "8678c987293d4065acd0fb000ad440fd",
      "17ec2415524243a3ac4b70e268d27b4d",
      "f074d90ed14a4e91ac9c1137369829a9",
      "e10ea6e90a7e42a49562622d4d5d0e0b",
      "f61bf890e8c746d6a7b1e0036eb30542",
      "c8722959366a4e0a8a1cad50ee2bba88",
      "7eb1fd4d446b49bb9eda94e3d0cc85f5",
      "03afbac12b5946deb1a058a9f44dfe21",
      "ee41672f477c42f5a06effa3d50ea2b4",
      "954a52e2a8f145cd985f17d5e3b990bb",
      "e4d2544a39ec4a81968953bc909a0697",
      "fafa4f85c4e645cca5570e9cdfe1a13b",
      "05ef86c2c06b4a6b800563f8e6982f25",
      "6b26d46704b14de2adca69c02715c17f",
      "53b0d94788e94bb79fe973238d8e618f",
      "471f970ffb9a410cbf1a8f9d70d0f20d",
      "e5f283bed2b74dea893d6e8685d932cb",
      "fd452b60703641a583509f1afee57391",
      "f830601fd261437a9e638052bcb15102",
      "b2091ba54bdc4137826590629e67da9d",
      "bcf52b10aca043d1959ea6016c3b1b05",
      "f46af1d4e33b487d923c9879e0d9fe98",
      "1bb9ada0d5de4c06bbe6c9830e9f8dca",
      "6b7c345f483b49a5ac68b8752745a158",
      "d8018ee06e684083a15e9c2000d07e2d",
      "67066a6c29e74e989d11f77f931da67b",
      "923dff7c37c4401d96fe9bf065f5fe8c",
      "d6c98c1d2909448f9750f9a1e39331eb",
      "8ab6120fb3834ac39e2ba85db42fe98b",
      "45fabdcf23b246619ee31ac7a4313f9d",
      "7dc398980eb64240a01e493859f1be97",
      "911c80a943d0443bb367bb5c15b578d7",
      "816d0ad81ee34fcb8f175389c55f34f0",
      "3bf860fa4ad647edbc67ab185e8db083",
      "24ef176db830463c97ac997897613f49",
      "52792994c29f4c14a9ef24ed3cb62c3f",
      "2fde8653fd16480389d7e6d37bfe0f6c",
      "72412311deaf488586dd47c67cdbbdf5",
      "afe42b925cb0401891a9a43aece937da",
      "f081d12ec1ec481491627432c8689ff6",
      "fe3295ac63fa4d828e9d1de445096518",
      "f4574b90d3394d8e933a13935d37bbf7",
      "631c415d131b4642951c9c2061477c1e",
      "5c3b7bb3932e45158efce35c4dea6a88",
      "327ebc52617a4eef8b3a22a140b9c386",
      "b337276990434fa284654468dae5c5d5",
      "c21f4ba681214518a5eb7c4f69715096",
      "ad7a7af3ed584bb7a781a496c24bfbb2",
      "a0d78c580afc4363a8a21afca2daf854",
      "6ce756a3301b4804b5bea9bf0e14aa49",
      "7a745fed53484f7390613cea8476ba4f",
      "6eab69c10c154081bcd151ad2383e511",
      "ef16991fc3384223b2bbf615a3819436"
     ]
    },
    "collapsed": true,
    "id": "jZB15Vh7PfC_",
    "jupyter": {
     "outputs_hidden": true
    },
    "outputId": "24a525d8-b827-4643-a20f-7d5b2b4f06b5"
   },
   "outputs": [
    {
     "data": {
      "application/vnd.jupyter.widget-view+json": {
       "model_id": "6ffeb2fdfbe74d92abd00523985a29a1",
       "version_major": 2,
       "version_minor": 0
      },
      "text/plain": [
       "README.md:   0%|          | 0.00/421 [00:00<?, ?B/s]"
      ]
     },
     "metadata": {},
     "output_type": "display_data"
    },
    {
     "name": "stderr",
     "output_type": "stream",
     "text": [
      "Repo card metadata block was not found. Setting CardData to empty.\n",
      "WARNING:huggingface_hub.repocard:Repo card metadata block was not found. Setting CardData to empty.\n"
     ]
    },
    {
     "data": {
      "application/vnd.jupyter.widget-view+json": {
       "model_id": "040ac400e93249e1840715e35c8f6357",
       "version_major": 2,
       "version_minor": 0
      },
      "text/plain": [
       "train.jsonl: 0.00B [00:00, ?B/s]"
      ]
     },
     "metadata": {},
     "output_type": "display_data"
    },
    {
     "data": {
      "application/vnd.jupyter.widget-view+json": {
       "model_id": "275ca1dc327e4a35ac9c19b43d1cebf3",
       "version_major": 2,
       "version_minor": 0
      },
      "text/plain": [
       "dev.jsonl: 0.00B [00:00, ?B/s]"
      ]
     },
     "metadata": {},
     "output_type": "display_data"
    },
    {
     "data": {
      "application/vnd.jupyter.widget-view+json": {
       "model_id": "960ecbf7f3a74bcea449c4faab8d89b4",
       "version_major": 2,
       "version_minor": 0
      },
      "text/plain": [
       "test.jsonl: 0.00B [00:00, ?B/s]"
      ]
     },
     "metadata": {},
     "output_type": "display_data"
    },
    {
     "data": {
      "application/vnd.jupyter.widget-view+json": {
       "model_id": "4e2f35839cc149079270e0ab5d22c96a",
       "version_major": 2,
       "version_minor": 0
      },
      "text/plain": [
       "Generating train split:   0%|          | 0/8544 [00:00<?, ? examples/s]"
      ]
     },
     "metadata": {},
     "output_type": "display_data"
    },
    {
     "data": {
      "application/vnd.jupyter.widget-view+json": {
       "model_id": "60afb87976434ef686254bc1ec306c80",
       "version_major": 2,
       "version_minor": 0
      },
      "text/plain": [
       "Generating validation split:   0%|          | 0/1101 [00:00<?, ? examples/s]"
      ]
     },
     "metadata": {},
     "output_type": "display_data"
    },
    {
     "data": {
      "application/vnd.jupyter.widget-view+json": {
       "model_id": "7f5a104e0f6d4d5b958d2ab74dc36ee0",
       "version_major": 2,
       "version_minor": 0
      },
      "text/plain": [
       "Generating test split:   0%|          | 0/2210 [00:00<?, ? examples/s]"
      ]
     },
     "metadata": {},
     "output_type": "display_data"
    },
    {
     "data": {
      "application/vnd.jupyter.widget-view+json": {
       "model_id": "d3d1007611ed4b6da1b978c0ca80ba7a",
       "version_major": 2,
       "version_minor": 0
      },
      "text/plain": [
       "README.md: 0.00B [00:00, ?B/s]"
      ]
     },
     "metadata": {},
     "output_type": "display_data"
    },
    {
     "data": {
      "application/vnd.jupyter.widget-view+json": {
       "model_id": "f4d245999b0e420aa02cf06874bee930",
       "version_major": 2,
       "version_minor": 0
      },
      "text/plain": [
       "plain_text/train-00000-of-00001.parquet:   0%|          | 0.00/21.0M [00:00<?, ?B/s]"
      ]
     },
     "metadata": {},
     "output_type": "display_data"
    },
    {
     "data": {
      "application/vnd.jupyter.widget-view+json": {
       "model_id": "8aec01ccb2e04632b09d7b24ebe79be4",
       "version_major": 2,
       "version_minor": 0
      },
      "text/plain": [
       "plain_text/test-00000-of-00001.parquet:   0%|          | 0.00/20.5M [00:00<?, ?B/s]"
      ]
     },
     "metadata": {},
     "output_type": "display_data"
    },
    {
     "data": {
      "application/vnd.jupyter.widget-view+json": {
       "model_id": "954a52e2a8f145cd985f17d5e3b990bb",
       "version_major": 2,
       "version_minor": 0
      },
      "text/plain": [
       "plain_text/unsupervised-00000-of-00001.p(…):   0%|          | 0.00/42.0M [00:00<?, ?B/s]"
      ]
     },
     "metadata": {},
     "output_type": "display_data"
    },
    {
     "data": {
      "application/vnd.jupyter.widget-view+json": {
       "model_id": "bcf52b10aca043d1959ea6016c3b1b05",
       "version_major": 2,
       "version_minor": 0
      },
      "text/plain": [
       "Generating train split:   0%|          | 0/25000 [00:00<?, ? examples/s]"
      ]
     },
     "metadata": {},
     "output_type": "display_data"
    },
    {
     "data": {
      "application/vnd.jupyter.widget-view+json": {
       "model_id": "911c80a943d0443bb367bb5c15b578d7",
       "version_major": 2,
       "version_minor": 0
      },
      "text/plain": [
       "Generating test split:   0%|          | 0/25000 [00:00<?, ? examples/s]"
      ]
     },
     "metadata": {},
     "output_type": "display_data"
    },
    {
     "data": {
      "application/vnd.jupyter.widget-view+json": {
       "model_id": "631c415d131b4642951c9c2061477c1e",
       "version_major": 2,
       "version_minor": 0
      },
      "text/plain": [
       "Generating unsupervised split:   0%|          | 0/50000 [00:00<?, ? examples/s]"
      ]
     },
     "metadata": {},
     "output_type": "display_data"
    }
   ],
   "source": [
    "# --- load sst5 ---\n",
    "sst = load_dataset(\"SetFit/sst5\")  # max_length -> 60"
   ]
  },
  {
   "cell_type": "markdown",
   "metadata": {
    "id": "wDlvwT8C30a3"
   },
   "source": [
    "##### **preprocess & Dataset-utilities**"
   ]
  },
  {
   "cell_type": "code",
   "execution_count": 5,
   "metadata": {
    "id": "hXJLZBi0LoDO"
   },
   "outputs": [],
   "source": [
    "\n",
    "def preproces_data(example,max_len,text ='text',label = 'label'):\n",
    "  tokenized_item = tokenizer(example[text],truncation=True,max_length=max_len,padding=\"max_length\")\n",
    "  inp_ids = tokenized_item['input_ids']\n",
    "  attn_msk = tokenized_item['attention_mask']\n",
    "  label = example[label]\n",
    "\n",
    "  return {\n",
    "         \"input_ids\": inp_ids, # Convert list to tensor\n",
    "          \"attention_mask\": attn_msk, # Convert list to tensor\n",
    "          \"labels\": label # Return the original label index\n",
    "    }"
   ]
  },
  {
   "cell_type": "code",
   "execution_count": 6,
   "metadata": {
    "colab": {
     "base_uri": "https://localhost:8080/",
     "height": 113,
     "referenced_widgets": [
      "905d5795ed924ef587efe3212c96b44f",
      "f7755b68627a446b9ab95a62044da158",
      "ffee2cd7cc404411afe1006eec673d1b",
      "75a54cb37d3a4074bc3a7e8bd428830d",
      "ba14b5d4c9a2467fbab5358ca3544230",
      "e24632dee3eb4766b72a44757813bbdb",
      "1a42f7b5fe044bd5abd5c508409167fd",
      "353538712cbe45eb9e0249feb074ee6c",
      "cacc1aa04da5450a8b5fe145003a1241",
      "26e328a9fe7741fa89f7c79c93fea563",
      "83e7c163d3f948a78dde4cee4e26365f",
      "802762fc60384e468a60dcd18c677484",
      "5b7317d498a04ba59be36f0e25436c74",
      "468d909e38e84188b1b2fa634e132e14",
      "8df077c672a44bda86ae84c7087bea2e",
      "6427ccaab07e4e31ac1250ae576cc967",
      "1c1643eef8db4a94ab05962f698257b0",
      "b0b77be1a53e4547a7ea2a50ded84e66",
      "fe42a66f45754c52a35e347dd02bd921",
      "0c49847111094c6aa9a82f952504bf5d",
      "7996326da92d4eba94024264fd8fc27c",
      "ce7e94cc4aeb49d1897e83db9f7eaae8",
      "dac4336c187d438c9d550eabfb0fbc77",
      "22ee1a7685224ad0a94069ab147246c6",
      "6c8689b32fbd41269b24b877aaa79fc5",
      "4639edef4c4a4717be3dd8e2f6175a29",
      "85f16457c2914a79907b8955d276d0ea",
      "5a8cd1f6adf743118f8171b2b13dbddf",
      "9b4f17ad131e4c08b02a7dd19f0f1b74",
      "c0e2ae07307645b98379b8139c98a5dd",
      "66f9c0c13d97438c8831307a713d07c2",
      "16bb3e7fe30c44d5bb67dafb6a77454b",
      "8de16bf7539146ad9eeed998513e228b"
     ]
    },
    "id": "373VZgLSnVuk",
    "outputId": "1ac49ab4-746b-4efa-a027-80e5985bf8b1"
   },
   "outputs": [
    {
     "data": {
      "application/vnd.jupyter.widget-view+json": {
       "model_id": "905d5795ed924ef587efe3212c96b44f",
       "version_major": 2,
       "version_minor": 0
      },
      "text/plain": [
       "Map:   0%|          | 0/45000 [00:00<?, ? examples/s]"
      ]
     },
     "metadata": {},
     "output_type": "display_data"
    },
    {
     "data": {
      "application/vnd.jupyter.widget-view+json": {
       "model_id": "802762fc60384e468a60dcd18c677484",
       "version_major": 2,
       "version_minor": 0
      },
      "text/plain": [
       "Map:   0%|          | 0/5000 [00:00<?, ? examples/s]"
      ]
     },
     "metadata": {},
     "output_type": "display_data"
    },
    {
     "data": {
      "application/vnd.jupyter.widget-view+json": {
       "model_id": "dac4336c187d438c9d550eabfb0fbc77",
       "version_major": 2,
       "version_minor": 0
      },
      "text/plain": [
       "Map:   0%|          | 0/50000 [00:00<?, ? examples/s]"
      ]
     },
     "metadata": {},
     "output_type": "display_data"
    }
   ],
   "source": [
    "# --- 20 classes dataset ---\n",
    "train_dataset = train_data.map(preproces_data, fn_kwargs={'max_len': 40}, remove_columns=['text','label'])\n",
    "val_dataset = val_data.map(preproces_data, fn_kwargs={'max_len': 40}, remove_columns=['text','label'])\n",
    "test_dataset = test_data.map(preproces_data, fn_kwargs={'max_len': 40}, remove_columns=['text','label'])"
   ]
  },
  {
   "cell_type": "code",
   "execution_count": 7,
   "metadata": {
    "colab": {
     "base_uri": "https://localhost:8080/",
     "height": 177,
     "referenced_widgets": [
      "9a373ca7f2614365858e755d46cbbc64",
      "ecedf613f112495e993c692f92a308e3",
      "816106c8ec204ed2821b2fb40a414887",
      "1569c0349b3845728ac58ac416b315bc",
      "9687bdba5c9d44d89e8d782643c18749",
      "0a526adbb7d546f8818eceacecd1b670",
      "cae92f2fe686432aa221b66645bd7c0a",
      "d1115f97603c4bc283e3b077f487b3bc",
      "48523a5942c147bd9cd607026e9ff8d1",
      "9ea54317537e423da28ec2883210af49",
      "e3729013784c4f7699e4d3b576825083",
      "5ec66907fdf34faf843a8a6cd878a327",
      "bedbb91ec44d40df983c73d6fe3f2b32",
      "d69202fd07c74fb18b65b71d0238724a",
      "781540773a8d44b388225a55722b73a5",
      "c866d003728e479481ccd31628548196",
      "a0d4fe750623414f8faddd0ba3d696da",
      "72552f97ea7341f89cc5bf5076b2cab2",
      "e33366836d1d44dc8e9b36f012621166",
      "5e27b1c736044a6f930d69f46d81e008",
      "8b183925edda46afbcfda090561f8279",
      "fa5ee983dc2d4c499095c807321de1fe",
      "fb62fda5b0ad43d093176750536888d2",
      "e4e37d773f044a1fb925f49e4d917452",
      "23daf4daff2545fd8905e2421143404e",
      "b08fc9e9bfd2467fa47d1c26edf3ced1",
      "124fbaa9171f49b399f9f6c9bb7c2b09",
      "971a4f21d4754fcbb0ebab4037a0de74",
      "c3a546ae74b04ef899349c1326399380",
      "90804ac783604333abf40cffcccb9013",
      "0c25175221b843e4a41d2645f7368bfb",
      "a52d067eac244c2e94f9c0140d1a2316",
      "f3f146db98c74999a7010a357804641e",
      "e9cfa8c4543b464482b4e30e47924427",
      "7d02b504e9454a018e4acdbd503db97b",
      "5660648023a34af3898a1dbc0e86de9b",
      "8bfe95a27f1142fcbc2e2b44f3a07509",
      "c8b707d98e5d4b4a8ea15d490963e593",
      "e19fc3684acd41929e3e09fab47ca37b",
      "8b7dc425a1eb4e7b9c176983246cb52b",
      "4a8afa0430df42e08fa40914bf2cd21a",
      "a6197e5bcdcf464185d017c722f86b3f",
      "60f75372343e41e89dbddd25f6ec64b3",
      "84a21980034f4dafaa244f7199cffa6a",
      "46db0c2797334734920758b74fc3416d",
      "4b38596bc78d41e8aecbb46d58727113",
      "d7cae1061c584c11bf3f2017c7ebb12d",
      "e649a9ae2a6f4fdd8268db61023d3d42",
      "6d090b21445245e9bae814c83c2cbd34",
      "fe73c49210594964b46e9012dc39a8d2",
      "9bb608ac15b3413eba08fb4e0d4aaa29",
      "2c500f4e6eca4a2f8bc39862db05dd6c",
      "c0003e9b99c94f4d9dd359049891bb61",
      "d92b946424f94f208132a1f83cdd868f",
      "ce1fa6420cff483ebd0f079109363c05"
     ]
    },
    "id": "sw4-lBOhN09d",
    "outputId": "92dcde25-85e6-4f67-ca1b-a2aaa16cd342"
   },
   "outputs": [
    {
     "data": {
      "application/vnd.jupyter.widget-view+json": {
       "model_id": "9a373ca7f2614365858e755d46cbbc64",
       "version_major": 2,
       "version_minor": 0
      },
      "text/plain": [
       "Map:   0%|          | 0/8544 [00:00<?, ? examples/s]"
      ]
     },
     "metadata": {},
     "output_type": "display_data"
    },
    {
     "data": {
      "application/vnd.jupyter.widget-view+json": {
       "model_id": "5ec66907fdf34faf843a8a6cd878a327",
       "version_major": 2,
       "version_minor": 0
      },
      "text/plain": [
       "Map:   0%|          | 0/1101 [00:00<?, ? examples/s]"
      ]
     },
     "metadata": {},
     "output_type": "display_data"
    },
    {
     "data": {
      "application/vnd.jupyter.widget-view+json": {
       "model_id": "fb62fda5b0ad43d093176750536888d2",
       "version_major": 2,
       "version_minor": 0
      },
      "text/plain": [
       "Map:   0%|          | 0/2210 [00:00<?, ? examples/s]"
      ]
     },
     "metadata": {},
     "output_type": "display_data"
    },
    {
     "data": {
      "application/vnd.jupyter.widget-view+json": {
       "model_id": "e9cfa8c4543b464482b4e30e47924427",
       "version_major": 2,
       "version_minor": 0
      },
      "text/plain": [
       "Map:   0%|          | 0/25000 [00:00<?, ? examples/s]"
      ]
     },
     "metadata": {},
     "output_type": "display_data"
    },
    {
     "data": {
      "application/vnd.jupyter.widget-view+json": {
       "model_id": "46db0c2797334734920758b74fc3416d",
       "version_major": 2,
       "version_minor": 0
      },
      "text/plain": [
       "Map:   0%|          | 0/25000 [00:00<?, ? examples/s]"
      ]
     },
     "metadata": {},
     "output_type": "display_data"
    }
   ],
   "source": [
    "# --- preprocess sst5 ---\n",
    "sst_train = sst['train'].map(preproces_data,fn_kwargs={'max_len': 60},remove_columns=['text','label','label_text'])\n",
    "sst_val = sst['validation'].map(preproces_data,fn_kwargs={'max_len': 60},remove_columns=['text','label','label_text'])\n",
    "sst_test = sst['test'].map(preproces_data,fn_kwargs={'max_len': 60},remove_columns=['text','label','label_text'])"
   ]
  },
  {
   "cell_type": "code",
   "execution_count": 8,
   "metadata": {
    "id": "AW61SrZLks7i"
   },
   "outputs": [],
   "source": [
    "def collate_fn(batch):\n",
    "    input_ids = [\n",
    "        torch.tensor(item['input_ids'], dtype=torch.long)\n",
    "        if not isinstance(item['input_ids'], torch.Tensor) else item['input_ids'].long()\n",
    "        for item in batch\n",
    "    ]\n",
    "    attention_mask = [\n",
    "        torch.tensor(item['attention_mask'], dtype=torch.long)\n",
    "        if not isinstance(item['attention_mask'], torch.Tensor) else item['attention_mask'].long()\n",
    "        for item in batch\n",
    "    ]\n",
    "\n",
    "    labels = torch.stack([\n",
    "        torch.tensor(item['labels'], dtype=torch.long) # Changed to torch.long\n",
    "        if not isinstance(item['labels'], torch.Tensor) else item['labels'].long()\n",
    "        for item in batch\n",
    "    ])\n",
    "\n",
    "\n",
    "    input_ids_padded = pad_sequence(\n",
    "        input_ids, batch_first=True, padding_value=tokenizer.pad_token_id\n",
    "    )\n",
    "    attention_mask_padded = pad_sequence(\n",
    "        attention_mask, batch_first=True, padding_value=0\n",
    "    )\n",
    "\n",
    "    return {\n",
    "        \"input_ids\": input_ids_padded,        # (batch_size, seq_len)\n",
    "        \"attention_mask\": attention_mask_padded,  # (batch_size, seq_len)\n",
    "        \"labels\": labels                      # (batch_size, num_classes)\n",
    "    }"
   ]
  },
  {
   "cell_type": "markdown",
   "metadata": {
    "id": "BeZcVR99TIIt"
   },
   "source": [
    "##### **train , test methods**"
   ]
  },
  {
   "cell_type": "code",
   "execution_count": 9,
   "metadata": {
    "id": "Uah6OQ2GW6cc"
   },
   "outputs": [],
   "source": [
    "def compute_metrics(pred):\n",
    "    labels = pred.label_ids\n",
    "    preds = pred.predictions.argmax(-1)\n",
    "    acc = accuracy_score(labels, preds)\n",
    "    return {\n",
    "        'accuracy': acc,\n",
    "    }"
   ]
  },
  {
   "cell_type": "code",
   "execution_count": 10,
   "metadata": {
    "id": "zKsjlMVRVzP3"
   },
   "outputs": [],
   "source": [
    "def FineTune(model,train_data,val_data,num_epochs,batch_size,lr):\n",
    "\n",
    "  training_args = TrainingArguments(\n",
    "      output_dir='./results',\n",
    "      num_train_epochs=num_epochs,\n",
    "      per_device_train_batch_size=batch_size,\n",
    "      per_device_eval_batch_size=batch_size,\n",
    "      learning_rate=lr,\n",
    "      weight_decay=0.01,\n",
    "      eval_strategy=\"epoch\",\n",
    "      save_strategy=\"epoch\",\n",
    "      load_best_model_at_end=True,\n",
    "      logging_steps=500,\n",
    "      report_to = \"tensorboard\"\n",
    "  )\n",
    "\n",
    "  trainer = Trainer(\n",
    "      model=model,\n",
    "      args=training_args,\n",
    "      train_dataset=train_data,\n",
    "      eval_dataset=val_data,\n",
    "      compute_metrics=compute_metrics,\n",
    "      data_collator=collate_fn\n",
    "  )\n",
    "\n",
    "  trainer.train()\n",
    "\n",
    "  return trainer.model"
   ]
  },
  {
   "cell_type": "code",
   "execution_count": 11,
   "metadata": {
    "id": "e0c77544"
   },
   "outputs": [],
   "source": [
    "def test_func(model, test_data, batch_size):\n",
    "    model.eval()\n",
    "    args = TrainingArguments(\n",
    "        output_dir='./results',\n",
    "        per_device_eval_batch_size=batch_size,\n",
    "        logging_steps=500,\n",
    "        report_to = \"tensorboard\"\n",
    "    )\n",
    "    trainer = Trainer(\n",
    "        model=model,\n",
    "        args=args,\n",
    "        eval_dataset=test_data,\n",
    "        compute_metrics=compute_metrics,\n",
    "        data_collator=collate_fn\n",
    "    )\n",
    "\n",
    "    eval_results = trainer.evaluate()\n",
    "    return eval_results"
   ]
  },
  {
   "cell_type": "markdown",
   "metadata": {
    "id": "N-kYngy3Y6BQ"
   },
   "source": [
    "##### **RoBERTa & sst5**"
   ]
  },
  {
   "cell_type": "code",
   "execution_count": 12,
   "metadata": {
    "colab": {
     "base_uri": "https://localhost:8080/",
     "height": 104,
     "referenced_widgets": [
      "b6dc02f9fde3470f99f77c2282cf64b7",
      "2f92793e14d041b9839967572d266665",
      "e2c6bea9a0234105b9f8f305c064dfc8",
      "4f59430555f44f079b73c9b6df1a9aa7",
      "fe76331e44f24cc8bcf531da84a082d6",
      "820528e417cb4c52914887e6e48e7f51",
      "89e487806e3c4ab7a6fee8ee6b3a048e",
      "bd1754651eb149978e329727b5c04245",
      "01a4c28b219a4b139e687d3491e3ab98",
      "a6b12a68550d4be690758a20df1169e7",
      "fdfb5c0c63ca48ff80da1933a1c1e8c2"
     ]
    },
    "id": "5lOPp2S2dUdB",
    "outputId": "4a16acee-d59b-43e0-f45d-ed1f4875867b"
   },
   "outputs": [
    {
     "data": {
      "application/vnd.jupyter.widget-view+json": {
       "model_id": "b6dc02f9fde3470f99f77c2282cf64b7",
       "version_major": 2,
       "version_minor": 0
      },
      "text/plain": [
       "model.safetensors:   0%|          | 0.00/499M [00:00<?, ?B/s]"
      ]
     },
     "metadata": {},
     "output_type": "display_data"
    },
    {
     "name": "stderr",
     "output_type": "stream",
     "text": [
      "Some weights of RobertaForSequenceClassification were not initialized from the model checkpoint at roberta-base and are newly initialized: ['classifier.dense.bias', 'classifier.dense.weight', 'classifier.out_proj.bias', 'classifier.out_proj.weight']\n",
      "You should probably TRAIN this model on a down-stream task to be able to use it for predictions and inference.\n"
     ]
    }
   ],
   "source": [
    "# --- load model ---\n",
    "model = AutoModelForSequenceClassification.from_pretrained(model_name, num_labels=5).to(device)"
   ]
  },
  {
   "cell_type": "code",
   "execution_count": 13,
   "metadata": {
    "colab": {
     "base_uri": "https://localhost:8080/",
     "height": 74
    },
    "id": "3lSZ2CNKY9Aa",
    "outputId": "f3e02273-5c0c-4383-9d34-cf7258522554"
   },
   "outputs": [
    {
     "data": {
      "text/html": [
       "\n",
       "    <div>\n",
       "      \n",
       "      <progress value='139' max='139' style='width:300px; height:20px; vertical-align: middle;'></progress>\n",
       "      [139/139 00:07]\n",
       "    </div>\n",
       "    "
      ],
      "text/plain": [
       "<IPython.core.display.HTML object>"
      ]
     },
     "metadata": {},
     "output_type": "display_data"
    },
    {
     "name": "stdout",
     "output_type": "stream",
     "text": [
      "{'eval_loss': 1.6069600582122803, 'eval_model_preparation_time': 0.0028, 'eval_accuracy': 0.23076923076923078, 'eval_runtime': 8.1455, 'eval_samples_per_second': 271.314, 'eval_steps_per_second': 17.065}\n"
     ]
    }
   ],
   "source": [
    "# --- test before fine-tune\n",
    "eval_res = test_func(model,sst_test,16)\n",
    "print(eval_res)"
   ]
  },
  {
   "cell_type": "code",
   "execution_count": 19,
   "metadata": {
    "colab": {
     "base_uri": "https://localhost:8080/",
     "height": 169
    },
    "id": "0h5cPb7EIDva",
    "outputId": "a82260a6-7798-4782-856a-21c7bd6c913a"
   },
   "outputs": [
    {
     "data": {
      "text/html": [
       "\n",
       "    <div>\n",
       "      \n",
       "      <progress value='801' max='801' style='width:300px; height:20px; vertical-align: middle;'></progress>\n",
       "      [801/801 05:26, Epoch 3/3]\n",
       "    </div>\n",
       "    <table border=\"1\" class=\"dataframe\">\n",
       "  <thead>\n",
       " <tr style=\"text-align: left;\">\n",
       "      <th>Epoch</th>\n",
       "      <th>Training Loss</th>\n",
       "      <th>Validation Loss</th>\n",
       "      <th>Accuracy</th>\n",
       "    </tr>\n",
       "  </thead>\n",
       "  <tbody>\n",
       "    <tr>\n",
       "      <td>1</td>\n",
       "      <td>No log</td>\n",
       "      <td>1.480280</td>\n",
       "      <td>0.491371</td>\n",
       "    </tr>\n",
       "    <tr>\n",
       "      <td>2</td>\n",
       "      <td>0.655500</td>\n",
       "      <td>1.393746</td>\n",
       "      <td>0.500454</td>\n",
       "    </tr>\n",
       "    <tr>\n",
       "      <td>3</td>\n",
       "      <td>0.655500</td>\n",
       "      <td>1.434074</td>\n",
       "      <td>0.520436</td>\n",
       "    </tr>\n",
       "  </tbody>\n",
       "</table><p>"
      ],
      "text/plain": [
       "<IPython.core.display.HTML object>"
      ]
     },
     "metadata": {},
     "output_type": "display_data"
    }
   ],
   "source": [
    "# --- fine tune\n",
    "tuned_model = FineTune(model,sst_train,sst_val,3,32,3e-5)"
   ]
  },
  {
   "cell_type": "code",
   "execution_count": 20,
   "metadata": {
    "colab": {
     "base_uri": "https://localhost:8080/",
     "height": 74
    },
    "id": "h5bqhGVeJEmS",
    "outputId": "18eb1f3d-ecaa-4fb0-c5a2-0d85c0d9dc8e"
   },
   "outputs": [
    {
     "data": {
      "text/html": [
       "\n",
       "    <div>\n",
       "      \n",
       "      <progress value='139' max='139' style='width:300px; height:20px; vertical-align: middle;'></progress>\n",
       "      [139/139 00:07]\n",
       "    </div>\n",
       "    "
      ],
      "text/plain": [
       "<IPython.core.display.HTML object>"
      ]
     },
     "metadata": {},
     "output_type": "display_data"
    },
    {
     "name": "stdout",
     "output_type": "stream",
     "text": [
      "{'eval_loss': 1.2211315631866455, 'eval_model_preparation_time': 0.0024, 'eval_accuracy': 0.5285067873303168, 'eval_runtime': 7.4432, 'eval_samples_per_second': 296.913, 'eval_steps_per_second': 18.675}\n"
     ]
    }
   ],
   "source": [
    "# --- test after fine-tune\n",
    "eval_res = test_func(tuned_model,sst_test,16)\n",
    "print(eval_res)"
   ]
  },
  {
   "cell_type": "markdown",
   "metadata": {
    "id": "2COCzMGb72p3"
   },
   "source": [
    "##### **RoBERTa & 20-classes**"
   ]
  },
  {
   "cell_type": "code",
   "execution_count": 21,
   "metadata": {
    "colab": {
     "base_uri": "https://localhost:8080/"
    },
    "id": "W0-Nsdum72p4",
    "outputId": "b78c585e-ae60-4a65-b4c1-912219bc032b"
   },
   "outputs": [
    {
     "name": "stderr",
     "output_type": "stream",
     "text": [
      "Some weights of RobertaForSequenceClassification were not initialized from the model checkpoint at roberta-base and are newly initialized: ['classifier.dense.bias', 'classifier.dense.weight', 'classifier.out_proj.bias', 'classifier.out_proj.weight']\n",
      "You should probably TRAIN this model on a down-stream task to be able to use it for predictions and inference.\n"
     ]
    }
   ],
   "source": [
    "# --- load model ---\n",
    "model = AutoModelForSequenceClassification.from_pretrained(model_name, num_labels=20).to(device)"
   ]
  },
  {
   "cell_type": "code",
   "execution_count": 22,
   "metadata": {
    "colab": {
     "base_uri": "https://localhost:8080/",
     "height": 74
    },
    "id": "OVXztGjG72p5",
    "outputId": "bb08262b-2463-40ab-9c93-0d2c8383f35f"
   },
   "outputs": [
    {
     "data": {
      "text/html": [
       "\n",
       "    <div>\n",
       "      \n",
       "      <progress value='1563' max='1563' style='width:300px; height:20px; vertical-align: middle;'></progress>\n",
       "      [1563/1563 01:50]\n",
       "    </div>\n",
       "    "
      ],
      "text/plain": [
       "<IPython.core.display.HTML object>"
      ]
     },
     "metadata": {},
     "output_type": "display_data"
    },
    {
     "name": "stdout",
     "output_type": "stream",
     "text": [
      "{'eval_loss': 3.0298681259155273, 'eval_model_preparation_time': 0.0024, 'eval_accuracy': 0.02494, 'eval_runtime': 110.2237, 'eval_samples_per_second': 453.623, 'eval_steps_per_second': 14.18}\n"
     ]
    }
   ],
   "source": [
    "# --- test before fine-tune\n",
    "eval_res = test_func(model,test_dataset,32)\n",
    "print(eval_res)"
   ]
  },
  {
   "cell_type": "code",
   "execution_count": 23,
   "metadata": {
    "colab": {
     "base_uri": "https://localhost:8080/",
     "height": 169
    },
    "id": "xEjk8Lr272p5",
    "outputId": "e0eecf3e-9bbd-40d4-8d62-7ca4feef1608"
   },
   "outputs": [
    {
     "data": {
      "text/html": [
       "\n",
       "    <div>\n",
       "      \n",
       "      <progress value='4221' max='4221' style='width:300px; height:20px; vertical-align: middle;'></progress>\n",
       "      [4221/4221 18:02, Epoch 3/3]\n",
       "    </div>\n",
       "    <table border=\"1\" class=\"dataframe\">\n",
       "  <thead>\n",
       " <tr style=\"text-align: left;\">\n",
       "      <th>Epoch</th>\n",
       "      <th>Training Loss</th>\n",
       "      <th>Validation Loss</th>\n",
       "      <th>Accuracy</th>\n",
       "    </tr>\n",
       "  </thead>\n",
       "  <tbody>\n",
       "    <tr>\n",
       "      <td>1</td>\n",
       "      <td>1.918600</td>\n",
       "      <td>2.393428</td>\n",
       "      <td>0.276800</td>\n",
       "    </tr>\n",
       "    <tr>\n",
       "      <td>2</td>\n",
       "      <td>1.686100</td>\n",
       "      <td>2.299417</td>\n",
       "      <td>0.294000</td>\n",
       "    </tr>\n",
       "    <tr>\n",
       "      <td>3</td>\n",
       "      <td>1.520100</td>\n",
       "      <td>2.280521</td>\n",
       "      <td>0.308800</td>\n",
       "    </tr>\n",
       "  </tbody>\n",
       "</table><p>"
      ],
      "text/plain": [
       "<IPython.core.display.HTML object>"
      ]
     },
     "metadata": {},
     "output_type": "display_data"
    }
   ],
   "source": [
    "# --- fine tune\n",
    "tuned_model = FineTune(model,train_dataset,val_dataset,3,32,3e-5)"
   ]
  },
  {
   "cell_type": "code",
   "execution_count": 24,
   "metadata": {
    "colab": {
     "base_uri": "https://localhost:8080/",
     "height": 74
    },
    "id": "tymdkPLr72p5",
    "outputId": "46a30feb-02a9-492f-9c35-6c20bd94e655"
   },
   "outputs": [
    {
     "data": {
      "text/html": [
       "\n",
       "    <div>\n",
       "      \n",
       "      <progress value='1563' max='1563' style='width:300px; height:20px; vertical-align: middle;'></progress>\n",
       "      [1563/1563 01:48]\n",
       "    </div>\n",
       "    "
      ],
      "text/plain": [
       "<IPython.core.display.HTML object>"
      ]
     },
     "metadata": {},
     "output_type": "display_data"
    },
    {
     "name": "stdout",
     "output_type": "stream",
     "text": [
      "{'eval_loss': 1.7327722311019897, 'eval_model_preparation_time': 0.0024, 'eval_accuracy': 0.4726, 'eval_runtime': 108.2832, 'eval_samples_per_second': 461.752, 'eval_steps_per_second': 14.434}\n"
     ]
    }
   ],
   "source": [
    "# --- test after fine-tune\n",
    "eval_res = test_func(tuned_model,test_dataset,32)\n",
    "print(eval_res)"
   ]
  }
 ],
 "metadata": {
  "cells": [],
  "kernelspec": {
   "display_name": "",
   "name": ""
  },
  "language_info": {
   "name": ""
  },
  "metadata": {
   "kernelspec": {
    "display_name": "Python 3",
    "language": "python",
    "name": "python3"
   },
   "language_info": {
    "name": "python",
    "version": "3.10.12"
   }
  },
  "nbformat": 4,
  "nbformat_minor": 5
 },
 "nbformat": 4,
 "nbformat_minor": 4
}
