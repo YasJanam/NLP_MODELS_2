{
 "cells": [
  {
   "cell_type": "code",
   "execution_count": null,
   "metadata": {
    "colab": {
     "base_uri": "https://localhost:8080/"
    },
    "id": "MKXmzlNBPQuo",
    "outputId": "75dfbac1-baca-4195-b232-a9468a24a8d9"
   },
   "outputs": [],
   "source": [
    "!pip install pytorch_lightning  seqeval evaluate"
   ]
  },
  {
   "cell_type": "code",
   "execution_count": 3,
   "metadata": {
    "id": "VfgkWyGSPCpF"
   },
   "outputs": [],
   "source": [
    "import torch\n",
    "import torch.nn as nn\n",
    "import torch.nn.functional as F\n",
    "import math\n",
    "from torch.utils.data import Dataset, DataLoader, WeightedRandomSampler\n",
    "import pytorch_lightning as pl\n",
    "from torch.nn.utils.rnn import pad_sequence\n",
    "from sklearn.metrics import f1_score\n",
    "from datasets import load_dataset, Dataset, concatenate_datasets\n",
    "from evaluate import load as load_metric\n",
    "from transformers import AutoTokenizer\n",
    "from pytorch_lightning.callbacks import EarlyStopping\n",
    "import random\n",
    "import pandas as pd\n",
    "from google.colab import files\n",
    "import builtins\n",
    "import statistics\n",
    "import numpy as np\n",
    "\n",
    "device = \"cuda\" if torch.cuda.is_available() else \"cpu\""
   ]
  },
  {
   "cell_type": "markdown",
   "metadata": {
    "id": "0P-RcfrKPUbd"
   },
   "source": [
    "#### **Load Datasets**"
   ]
  },
  {
   "cell_type": "code",
   "execution_count": 4,
   "metadata": {
    "colab": {
     "base_uri": "https://localhost:8080/",
     "height": 269,
     "referenced_widgets": [
      "d59398b923d24de6bed781569ab5793e",
      "77f50b5d05f94dc29690245c36ccd260",
      "bc0c0991598543f2b0190c15254cfb7e",
      "2155aaa9cc19470aa42adda38f2737bf",
      "b4e78259a2714c2790a1a50446c5b045",
      "cce69262646f4ca89cd0a402aa7d4b61",
      "0e2d9a4032c34d65b8d037c22c441af1",
      "7288271372cb4cdf8998d27d78a6cd03",
      "c27afbe9cacb4d1589735c8c36d4ee66",
      "ff202ce5081c44f68482abf7ce94c531",
      "c9935a97e5a44e2aa7514041f5cb39b1",
      "33709ddf1ccc4adebaef0ef0002bf450",
      "44b298bd1e1b460487365f0bb633fd29",
      "d16be072e1054972aeaeee258818ad69",
      "0374939bd3f24370a147be75d45addef",
      "671caef01dee4afa9d07867a5809ce43",
      "207f467838b541d89b0b8c1fe0fb794f",
      "32d03b3b507c4a27a56ea78862e7adc2",
      "659271ad7d8b4caea1f33985661f99dd",
      "4e133ad65a95455e9321df8a148c60de",
      "8293dc2a8e08414483b1c3648ae92975",
      "2fb2607e4e9d40e88ce021367c18ead5",
      "ce9430dcac63498eae8cfce8de744cdb",
      "c550903f428845ac96b819667f6da756",
      "071f21e41beb447aa18b4b8706db39d9",
      "9c53075496714e43b650dc23dd8a2fe1",
      "71602aec6e134791841b3d9f9ae7922e",
      "3ef48ca638ff4775818e576e6869173b",
      "f1cf08124f984aaa8891854636017477",
      "0421e9678f8d4f3b99fc344016cb7ba9",
      "68d4bb7c9b4b436d9d0d929e44e94d9d",
      "9f31ea09352f4cd2b212038e873bb650",
      "0cc413c255ce428bb238648a6d1c7624",
      "79628c11108944f2a47a388a8e46ed91",
      "bc1c2f6fc7884c40bd38bb36231f5d9d",
      "29951310986b4530af0fd5d97d706c04",
      "6817902804a14c6aa755c11c01da3968",
      "f77daf93710446f5bb7c50b49be98e2f",
      "9c9c2e0e1c724b5c953af5aaa45a9c52",
      "7e37c33342f64d8ba1aa2dd12895e529",
      "552c3fe98fb94d068e180d7376b7ac4d",
      "ec842a9ab5a24570b7ff0ef1074d823d",
      "3eb5b29df9d6490da7cc4ca50f56b520",
      "c99ccdfc40c14e938def9bca5312b814"
     ]
    },
    "id": "cU6GT93oPU3c",
    "outputId": "76c7cf92-6dc6-4cae-aa9d-ebd33fbefe38"
   },
   "outputs": [
    {
     "name": "stderr",
     "output_type": "stream",
     "text": [
      "/usr/local/lib/python3.12/dist-packages/huggingface_hub/utils/_auth.py:94: UserWarning: \n",
      "The secret `HF_TOKEN` does not exist in your Colab secrets.\n",
      "To authenticate with the Hugging Face Hub, create a token in your settings tab (https://huggingface.co/settings/tokens), set it as secret in your Google Colab and restart your session.\n",
      "You will be able to reuse this secret in all of your notebooks.\n",
      "Please note that authentication is recommended but still optional to access public models or datasets.\n",
      "  warnings.warn(\n"
     ]
    },
    {
     "data": {
      "application/vnd.jupyter.widget-view+json": {
       "model_id": "d59398b923d24de6bed781569ab5793e",
       "version_major": 2,
       "version_minor": 0
      },
      "text/plain": [
       "tokenizer_config.json:   0%|          | 0.00/48.0 [00:00<?, ?B/s]"
      ]
     },
     "metadata": {},
     "output_type": "display_data"
    },
    {
     "data": {
      "application/vnd.jupyter.widget-view+json": {
       "model_id": "33709ddf1ccc4adebaef0ef0002bf450",
       "version_major": 2,
       "version_minor": 0
      },
      "text/plain": [
       "config.json:   0%|          | 0.00/570 [00:00<?, ?B/s]"
      ]
     },
     "metadata": {},
     "output_type": "display_data"
    },
    {
     "data": {
      "application/vnd.jupyter.widget-view+json": {
       "model_id": "ce9430dcac63498eae8cfce8de744cdb",
       "version_major": 2,
       "version_minor": 0
      },
      "text/plain": [
       "vocab.txt:   0%|          | 0.00/232k [00:00<?, ?B/s]"
      ]
     },
     "metadata": {},
     "output_type": "display_data"
    },
    {
     "data": {
      "application/vnd.jupyter.widget-view+json": {
       "model_id": "79628c11108944f2a47a388a8e46ed91",
       "version_major": 2,
       "version_minor": 0
      },
      "text/plain": [
       "tokenizer.json:   0%|          | 0.00/466k [00:00<?, ?B/s]"
      ]
     },
     "metadata": {},
     "output_type": "display_data"
    }
   ],
   "source": [
    "def upload_dataset_from_system():\n",
    "  uploaded = files.upload()\n",
    "  data = Dataset.from_pandas(pd.read_parquet(list(uploaded.keys())[0]))\n",
    "  return data\n",
    "\n",
    "# --- return dataset classes ---\n",
    "def dataset_classes(dataset):\n",
    "  return list(set([item['label'] for item in dataset]))\n",
    "\n",
    "# --- tokenizer ---\n",
    "tokenizer = AutoTokenizer.from_pretrained(\"bert-base-uncased\")\n",
    "VOCAB_SIZE = tokenizer.vocab_size\n",
    "\n",
    "# --- max , mean of dataset lengths ---\n",
    "def get_max_mean_length(dataset,text='text'):\n",
    "  lengths = [len(tokenizer(x)['input_ids']) for x in dataset[text]]\n",
    "  return {\"max\":builtins.max(lengths) , \"mean\":statistics.mean(lengths)}\n",
    "\n",
    "# --- percentile ---\n",
    "def get_percentile(dataset,per_list=[98,99,99.9],text='text'):\n",
    "  lengths = np.array([len(tokenizer(x)['input_ids']) for x in dataset[text]])\n",
    "  return np.percentile(lengths,per_list)"
   ]
  },
  {
   "cell_type": "code",
   "execution_count": 8,
   "metadata": {
    "colab": {
     "base_uri": "https://localhost:8080/",
     "height": 184
    },
    "id": "Ie7BFs9_PaCp",
    "outputId": "4993835e-544d-4d7a-affa-3f42956f28f5"
   },
   "outputs": [
    {
     "data": {
      "text/html": [
       "\n",
       "     <input type=\"file\" id=\"files-e962943d-97fc-4703-bcc0-5bf6a2100b0c\" name=\"files[]\" multiple disabled\n",
       "        style=\"border:none\" />\n",
       "     <output id=\"result-e962943d-97fc-4703-bcc0-5bf6a2100b0c\">\n",
       "      Upload widget is only available when the cell has been executed in the\n",
       "      current browser session. Please rerun this cell to enable.\n",
       "      </output>\n",
       "      <script>// Copyright 2017 Google LLC\n",
       "//\n",
       "// Licensed under the Apache License, Version 2.0 (the \"License\");\n",
       "// you may not use this file except in compliance with the License.\n",
       "// You may obtain a copy of the License at\n",
       "//\n",
       "//      http://www.apache.org/licenses/LICENSE-2.0\n",
       "//\n",
       "// Unless required by applicable law or agreed to in writing, software\n",
       "// distributed under the License is distributed on an \"AS IS\" BASIS,\n",
       "// WITHOUT WARRANTIES OR CONDITIONS OF ANY KIND, either express or implied.\n",
       "// See the License for the specific language governing permissions and\n",
       "// limitations under the License.\n",
       "\n",
       "/**\n",
       " * @fileoverview Helpers for google.colab Python module.\n",
       " */\n",
       "(function(scope) {\n",
       "function span(text, styleAttributes = {}) {\n",
       "  const element = document.createElement('span');\n",
       "  element.textContent = text;\n",
       "  for (const key of Object.keys(styleAttributes)) {\n",
       "    element.style[key] = styleAttributes[key];\n",
       "  }\n",
       "  return element;\n",
       "}\n",
       "\n",
       "// Max number of bytes which will be uploaded at a time.\n",
       "const MAX_PAYLOAD_SIZE = 100 * 1024;\n",
       "\n",
       "function _uploadFiles(inputId, outputId) {\n",
       "  const steps = uploadFilesStep(inputId, outputId);\n",
       "  const outputElement = document.getElementById(outputId);\n",
       "  // Cache steps on the outputElement to make it available for the next call\n",
       "  // to uploadFilesContinue from Python.\n",
       "  outputElement.steps = steps;\n",
       "\n",
       "  return _uploadFilesContinue(outputId);\n",
       "}\n",
       "\n",
       "// This is roughly an async generator (not supported in the browser yet),\n",
       "// where there are multiple asynchronous steps and the Python side is going\n",
       "// to poll for completion of each step.\n",
       "// This uses a Promise to block the python side on completion of each step,\n",
       "// then passes the result of the previous step as the input to the next step.\n",
       "function _uploadFilesContinue(outputId) {\n",
       "  const outputElement = document.getElementById(outputId);\n",
       "  const steps = outputElement.steps;\n",
       "\n",
       "  const next = steps.next(outputElement.lastPromiseValue);\n",
       "  return Promise.resolve(next.value.promise).then((value) => {\n",
       "    // Cache the last promise value to make it available to the next\n",
       "    // step of the generator.\n",
       "    outputElement.lastPromiseValue = value;\n",
       "    return next.value.response;\n",
       "  });\n",
       "}\n",
       "\n",
       "/**\n",
       " * Generator function which is called between each async step of the upload\n",
       " * process.\n",
       " * @param {string} inputId Element ID of the input file picker element.\n",
       " * @param {string} outputId Element ID of the output display.\n",
       " * @return {!Iterable<!Object>} Iterable of next steps.\n",
       " */\n",
       "function* uploadFilesStep(inputId, outputId) {\n",
       "  const inputElement = document.getElementById(inputId);\n",
       "  inputElement.disabled = false;\n",
       "\n",
       "  const outputElement = document.getElementById(outputId);\n",
       "  outputElement.innerHTML = '';\n",
       "\n",
       "  const pickedPromise = new Promise((resolve) => {\n",
       "    inputElement.addEventListener('change', (e) => {\n",
       "      resolve(e.target.files);\n",
       "    });\n",
       "  });\n",
       "\n",
       "  const cancel = document.createElement('button');\n",
       "  inputElement.parentElement.appendChild(cancel);\n",
       "  cancel.textContent = 'Cancel upload';\n",
       "  const cancelPromise = new Promise((resolve) => {\n",
       "    cancel.onclick = () => {\n",
       "      resolve(null);\n",
       "    };\n",
       "  });\n",
       "\n",
       "  // Wait for the user to pick the files.\n",
       "  const files = yield {\n",
       "    promise: Promise.race([pickedPromise, cancelPromise]),\n",
       "    response: {\n",
       "      action: 'starting',\n",
       "    }\n",
       "  };\n",
       "\n",
       "  cancel.remove();\n",
       "\n",
       "  // Disable the input element since further picks are not allowed.\n",
       "  inputElement.disabled = true;\n",
       "\n",
       "  if (!files) {\n",
       "    return {\n",
       "      response: {\n",
       "        action: 'complete',\n",
       "      }\n",
       "    };\n",
       "  }\n",
       "\n",
       "  for (const file of files) {\n",
       "    const li = document.createElement('li');\n",
       "    li.append(span(file.name, {fontWeight: 'bold'}));\n",
       "    li.append(span(\n",
       "        `(${file.type || 'n/a'}) - ${file.size} bytes, ` +\n",
       "        `last modified: ${\n",
       "            file.lastModifiedDate ? file.lastModifiedDate.toLocaleDateString() :\n",
       "                                    'n/a'} - `));\n",
       "    const percent = span('0% done');\n",
       "    li.appendChild(percent);\n",
       "\n",
       "    outputElement.appendChild(li);\n",
       "\n",
       "    const fileDataPromise = new Promise((resolve) => {\n",
       "      const reader = new FileReader();\n",
       "      reader.onload = (e) => {\n",
       "        resolve(e.target.result);\n",
       "      };\n",
       "      reader.readAsArrayBuffer(file);\n",
       "    });\n",
       "    // Wait for the data to be ready.\n",
       "    let fileData = yield {\n",
       "      promise: fileDataPromise,\n",
       "      response: {\n",
       "        action: 'continue',\n",
       "      }\n",
       "    };\n",
       "\n",
       "    // Use a chunked sending to avoid message size limits. See b/62115660.\n",
       "    let position = 0;\n",
       "    do {\n",
       "      const length = Math.min(fileData.byteLength - position, MAX_PAYLOAD_SIZE);\n",
       "      const chunk = new Uint8Array(fileData, position, length);\n",
       "      position += length;\n",
       "\n",
       "      const base64 = btoa(String.fromCharCode.apply(null, chunk));\n",
       "      yield {\n",
       "        response: {\n",
       "          action: 'append',\n",
       "          file: file.name,\n",
       "          data: base64,\n",
       "        },\n",
       "      };\n",
       "\n",
       "      let percentDone = fileData.byteLength === 0 ?\n",
       "          100 :\n",
       "          Math.round((position / fileData.byteLength) * 100);\n",
       "      percent.textContent = `${percentDone}% done`;\n",
       "\n",
       "    } while (position < fileData.byteLength);\n",
       "  }\n",
       "\n",
       "  // All done.\n",
       "  yield {\n",
       "    response: {\n",
       "      action: 'complete',\n",
       "    }\n",
       "  };\n",
       "}\n",
       "\n",
       "scope.google = scope.google || {};\n",
       "scope.google.colab = scope.google.colab || {};\n",
       "scope.google.colab._files = {\n",
       "  _uploadFiles,\n",
       "  _uploadFilesContinue,\n",
       "};\n",
       "})(self);\n",
       "</script> "
      ],
      "text/plain": [
       "<IPython.core.display.HTML object>"
      ]
     },
     "metadata": {},
     "output_type": "display_data"
    },
    {
     "name": "stdout",
     "output_type": "stream",
     "text": [
      "Saving train-00000-of-00001.parquet to train-00000-of-00001.parquet\n"
     ]
    },
    {
     "data": {
      "text/html": [
       "\n",
       "     <input type=\"file\" id=\"files-fa2452d6-8f98-4f07-a3c8-ccfc2a1e5459\" name=\"files[]\" multiple disabled\n",
       "        style=\"border:none\" />\n",
       "     <output id=\"result-fa2452d6-8f98-4f07-a3c8-ccfc2a1e5459\">\n",
       "      Upload widget is only available when the cell has been executed in the\n",
       "      current browser session. Please rerun this cell to enable.\n",
       "      </output>\n",
       "      <script>// Copyright 2017 Google LLC\n",
       "//\n",
       "// Licensed under the Apache License, Version 2.0 (the \"License\");\n",
       "// you may not use this file except in compliance with the License.\n",
       "// You may obtain a copy of the License at\n",
       "//\n",
       "//      http://www.apache.org/licenses/LICENSE-2.0\n",
       "//\n",
       "// Unless required by applicable law or agreed to in writing, software\n",
       "// distributed under the License is distributed on an \"AS IS\" BASIS,\n",
       "// WITHOUT WARRANTIES OR CONDITIONS OF ANY KIND, either express or implied.\n",
       "// See the License for the specific language governing permissions and\n",
       "// limitations under the License.\n",
       "\n",
       "/**\n",
       " * @fileoverview Helpers for google.colab Python module.\n",
       " */\n",
       "(function(scope) {\n",
       "function span(text, styleAttributes = {}) {\n",
       "  const element = document.createElement('span');\n",
       "  element.textContent = text;\n",
       "  for (const key of Object.keys(styleAttributes)) {\n",
       "    element.style[key] = styleAttributes[key];\n",
       "  }\n",
       "  return element;\n",
       "}\n",
       "\n",
       "// Max number of bytes which will be uploaded at a time.\n",
       "const MAX_PAYLOAD_SIZE = 100 * 1024;\n",
       "\n",
       "function _uploadFiles(inputId, outputId) {\n",
       "  const steps = uploadFilesStep(inputId, outputId);\n",
       "  const outputElement = document.getElementById(outputId);\n",
       "  // Cache steps on the outputElement to make it available for the next call\n",
       "  // to uploadFilesContinue from Python.\n",
       "  outputElement.steps = steps;\n",
       "\n",
       "  return _uploadFilesContinue(outputId);\n",
       "}\n",
       "\n",
       "// This is roughly an async generator (not supported in the browser yet),\n",
       "// where there are multiple asynchronous steps and the Python side is going\n",
       "// to poll for completion of each step.\n",
       "// This uses a Promise to block the python side on completion of each step,\n",
       "// then passes the result of the previous step as the input to the next step.\n",
       "function _uploadFilesContinue(outputId) {\n",
       "  const outputElement = document.getElementById(outputId);\n",
       "  const steps = outputElement.steps;\n",
       "\n",
       "  const next = steps.next(outputElement.lastPromiseValue);\n",
       "  return Promise.resolve(next.value.promise).then((value) => {\n",
       "    // Cache the last promise value to make it available to the next\n",
       "    // step of the generator.\n",
       "    outputElement.lastPromiseValue = value;\n",
       "    return next.value.response;\n",
       "  });\n",
       "}\n",
       "\n",
       "/**\n",
       " * Generator function which is called between each async step of the upload\n",
       " * process.\n",
       " * @param {string} inputId Element ID of the input file picker element.\n",
       " * @param {string} outputId Element ID of the output display.\n",
       " * @return {!Iterable<!Object>} Iterable of next steps.\n",
       " */\n",
       "function* uploadFilesStep(inputId, outputId) {\n",
       "  const inputElement = document.getElementById(inputId);\n",
       "  inputElement.disabled = false;\n",
       "\n",
       "  const outputElement = document.getElementById(outputId);\n",
       "  outputElement.innerHTML = '';\n",
       "\n",
       "  const pickedPromise = new Promise((resolve) => {\n",
       "    inputElement.addEventListener('change', (e) => {\n",
       "      resolve(e.target.files);\n",
       "    });\n",
       "  });\n",
       "\n",
       "  const cancel = document.createElement('button');\n",
       "  inputElement.parentElement.appendChild(cancel);\n",
       "  cancel.textContent = 'Cancel upload';\n",
       "  const cancelPromise = new Promise((resolve) => {\n",
       "    cancel.onclick = () => {\n",
       "      resolve(null);\n",
       "    };\n",
       "  });\n",
       "\n",
       "  // Wait for the user to pick the files.\n",
       "  const files = yield {\n",
       "    promise: Promise.race([pickedPromise, cancelPromise]),\n",
       "    response: {\n",
       "      action: 'starting',\n",
       "    }\n",
       "  };\n",
       "\n",
       "  cancel.remove();\n",
       "\n",
       "  // Disable the input element since further picks are not allowed.\n",
       "  inputElement.disabled = true;\n",
       "\n",
       "  if (!files) {\n",
       "    return {\n",
       "      response: {\n",
       "        action: 'complete',\n",
       "      }\n",
       "    };\n",
       "  }\n",
       "\n",
       "  for (const file of files) {\n",
       "    const li = document.createElement('li');\n",
       "    li.append(span(file.name, {fontWeight: 'bold'}));\n",
       "    li.append(span(\n",
       "        `(${file.type || 'n/a'}) - ${file.size} bytes, ` +\n",
       "        `last modified: ${\n",
       "            file.lastModifiedDate ? file.lastModifiedDate.toLocaleDateString() :\n",
       "                                    'n/a'} - `));\n",
       "    const percent = span('0% done');\n",
       "    li.appendChild(percent);\n",
       "\n",
       "    outputElement.appendChild(li);\n",
       "\n",
       "    const fileDataPromise = new Promise((resolve) => {\n",
       "      const reader = new FileReader();\n",
       "      reader.onload = (e) => {\n",
       "        resolve(e.target.result);\n",
       "      };\n",
       "      reader.readAsArrayBuffer(file);\n",
       "    });\n",
       "    // Wait for the data to be ready.\n",
       "    let fileData = yield {\n",
       "      promise: fileDataPromise,\n",
       "      response: {\n",
       "        action: 'continue',\n",
       "      }\n",
       "    };\n",
       "\n",
       "    // Use a chunked sending to avoid message size limits. See b/62115660.\n",
       "    let position = 0;\n",
       "    do {\n",
       "      const length = Math.min(fileData.byteLength - position, MAX_PAYLOAD_SIZE);\n",
       "      const chunk = new Uint8Array(fileData, position, length);\n",
       "      position += length;\n",
       "\n",
       "      const base64 = btoa(String.fromCharCode.apply(null, chunk));\n",
       "      yield {\n",
       "        response: {\n",
       "          action: 'append',\n",
       "          file: file.name,\n",
       "          data: base64,\n",
       "        },\n",
       "      };\n",
       "\n",
       "      let percentDone = fileData.byteLength === 0 ?\n",
       "          100 :\n",
       "          Math.round((position / fileData.byteLength) * 100);\n",
       "      percent.textContent = `${percentDone}% done`;\n",
       "\n",
       "    } while (position < fileData.byteLength);\n",
       "  }\n",
       "\n",
       "  // All done.\n",
       "  yield {\n",
       "    response: {\n",
       "      action: 'complete',\n",
       "    }\n",
       "  };\n",
       "}\n",
       "\n",
       "scope.google = scope.google || {};\n",
       "scope.google.colab = scope.google.colab || {};\n",
       "scope.google.colab._files = {\n",
       "  _uploadFiles,\n",
       "  _uploadFilesContinue,\n",
       "};\n",
       "})(self);\n",
       "</script> "
      ],
      "text/plain": [
       "<IPython.core.display.HTML object>"
      ]
     },
     "metadata": {},
     "output_type": "display_data"
    },
    {
     "name": "stdout",
     "output_type": "stream",
     "text": [
      "Saving validation-00000-of-00001.parquet to validation-00000-of-00001.parquet\n"
     ]
    },
    {
     "data": {
      "text/html": [
       "\n",
       "     <input type=\"file\" id=\"files-d3c284e5-7e53-4e63-bc67-5621eb7a1fb5\" name=\"files[]\" multiple disabled\n",
       "        style=\"border:none\" />\n",
       "     <output id=\"result-d3c284e5-7e53-4e63-bc67-5621eb7a1fb5\">\n",
       "      Upload widget is only available when the cell has been executed in the\n",
       "      current browser session. Please rerun this cell to enable.\n",
       "      </output>\n",
       "      <script>// Copyright 2017 Google LLC\n",
       "//\n",
       "// Licensed under the Apache License, Version 2.0 (the \"License\");\n",
       "// you may not use this file except in compliance with the License.\n",
       "// You may obtain a copy of the License at\n",
       "//\n",
       "//      http://www.apache.org/licenses/LICENSE-2.0\n",
       "//\n",
       "// Unless required by applicable law or agreed to in writing, software\n",
       "// distributed under the License is distributed on an \"AS IS\" BASIS,\n",
       "// WITHOUT WARRANTIES OR CONDITIONS OF ANY KIND, either express or implied.\n",
       "// See the License for the specific language governing permissions and\n",
       "// limitations under the License.\n",
       "\n",
       "/**\n",
       " * @fileoverview Helpers for google.colab Python module.\n",
       " */\n",
       "(function(scope) {\n",
       "function span(text, styleAttributes = {}) {\n",
       "  const element = document.createElement('span');\n",
       "  element.textContent = text;\n",
       "  for (const key of Object.keys(styleAttributes)) {\n",
       "    element.style[key] = styleAttributes[key];\n",
       "  }\n",
       "  return element;\n",
       "}\n",
       "\n",
       "// Max number of bytes which will be uploaded at a time.\n",
       "const MAX_PAYLOAD_SIZE = 100 * 1024;\n",
       "\n",
       "function _uploadFiles(inputId, outputId) {\n",
       "  const steps = uploadFilesStep(inputId, outputId);\n",
       "  const outputElement = document.getElementById(outputId);\n",
       "  // Cache steps on the outputElement to make it available for the next call\n",
       "  // to uploadFilesContinue from Python.\n",
       "  outputElement.steps = steps;\n",
       "\n",
       "  return _uploadFilesContinue(outputId);\n",
       "}\n",
       "\n",
       "// This is roughly an async generator (not supported in the browser yet),\n",
       "// where there are multiple asynchronous steps and the Python side is going\n",
       "// to poll for completion of each step.\n",
       "// This uses a Promise to block the python side on completion of each step,\n",
       "// then passes the result of the previous step as the input to the next step.\n",
       "function _uploadFilesContinue(outputId) {\n",
       "  const outputElement = document.getElementById(outputId);\n",
       "  const steps = outputElement.steps;\n",
       "\n",
       "  const next = steps.next(outputElement.lastPromiseValue);\n",
       "  return Promise.resolve(next.value.promise).then((value) => {\n",
       "    // Cache the last promise value to make it available to the next\n",
       "    // step of the generator.\n",
       "    outputElement.lastPromiseValue = value;\n",
       "    return next.value.response;\n",
       "  });\n",
       "}\n",
       "\n",
       "/**\n",
       " * Generator function which is called between each async step of the upload\n",
       " * process.\n",
       " * @param {string} inputId Element ID of the input file picker element.\n",
       " * @param {string} outputId Element ID of the output display.\n",
       " * @return {!Iterable<!Object>} Iterable of next steps.\n",
       " */\n",
       "function* uploadFilesStep(inputId, outputId) {\n",
       "  const inputElement = document.getElementById(inputId);\n",
       "  inputElement.disabled = false;\n",
       "\n",
       "  const outputElement = document.getElementById(outputId);\n",
       "  outputElement.innerHTML = '';\n",
       "\n",
       "  const pickedPromise = new Promise((resolve) => {\n",
       "    inputElement.addEventListener('change', (e) => {\n",
       "      resolve(e.target.files);\n",
       "    });\n",
       "  });\n",
       "\n",
       "  const cancel = document.createElement('button');\n",
       "  inputElement.parentElement.appendChild(cancel);\n",
       "  cancel.textContent = 'Cancel upload';\n",
       "  const cancelPromise = new Promise((resolve) => {\n",
       "    cancel.onclick = () => {\n",
       "      resolve(null);\n",
       "    };\n",
       "  });\n",
       "\n",
       "  // Wait for the user to pick the files.\n",
       "  const files = yield {\n",
       "    promise: Promise.race([pickedPromise, cancelPromise]),\n",
       "    response: {\n",
       "      action: 'starting',\n",
       "    }\n",
       "  };\n",
       "\n",
       "  cancel.remove();\n",
       "\n",
       "  // Disable the input element since further picks are not allowed.\n",
       "  inputElement.disabled = true;\n",
       "\n",
       "  if (!files) {\n",
       "    return {\n",
       "      response: {\n",
       "        action: 'complete',\n",
       "      }\n",
       "    };\n",
       "  }\n",
       "\n",
       "  for (const file of files) {\n",
       "    const li = document.createElement('li');\n",
       "    li.append(span(file.name, {fontWeight: 'bold'}));\n",
       "    li.append(span(\n",
       "        `(${file.type || 'n/a'}) - ${file.size} bytes, ` +\n",
       "        `last modified: ${\n",
       "            file.lastModifiedDate ? file.lastModifiedDate.toLocaleDateString() :\n",
       "                                    'n/a'} - `));\n",
       "    const percent = span('0% done');\n",
       "    li.appendChild(percent);\n",
       "\n",
       "    outputElement.appendChild(li);\n",
       "\n",
       "    const fileDataPromise = new Promise((resolve) => {\n",
       "      const reader = new FileReader();\n",
       "      reader.onload = (e) => {\n",
       "        resolve(e.target.result);\n",
       "      };\n",
       "      reader.readAsArrayBuffer(file);\n",
       "    });\n",
       "    // Wait for the data to be ready.\n",
       "    let fileData = yield {\n",
       "      promise: fileDataPromise,\n",
       "      response: {\n",
       "        action: 'continue',\n",
       "      }\n",
       "    };\n",
       "\n",
       "    // Use a chunked sending to avoid message size limits. See b/62115660.\n",
       "    let position = 0;\n",
       "    do {\n",
       "      const length = Math.min(fileData.byteLength - position, MAX_PAYLOAD_SIZE);\n",
       "      const chunk = new Uint8Array(fileData, position, length);\n",
       "      position += length;\n",
       "\n",
       "      const base64 = btoa(String.fromCharCode.apply(null, chunk));\n",
       "      yield {\n",
       "        response: {\n",
       "          action: 'append',\n",
       "          file: file.name,\n",
       "          data: base64,\n",
       "        },\n",
       "      };\n",
       "\n",
       "      let percentDone = fileData.byteLength === 0 ?\n",
       "          100 :\n",
       "          Math.round((position / fileData.byteLength) * 100);\n",
       "      percent.textContent = `${percentDone}% done`;\n",
       "\n",
       "    } while (position < fileData.byteLength);\n",
       "  }\n",
       "\n",
       "  // All done.\n",
       "  yield {\n",
       "    response: {\n",
       "      action: 'complete',\n",
       "    }\n",
       "  };\n",
       "}\n",
       "\n",
       "scope.google = scope.google || {};\n",
       "scope.google.colab = scope.google.colab || {};\n",
       "scope.google.colab._files = {\n",
       "  _uploadFiles,\n",
       "  _uploadFilesContinue,\n",
       "};\n",
       "})(self);\n",
       "</script> "
      ],
      "text/plain": [
       "<IPython.core.display.HTML object>"
      ]
     },
     "metadata": {},
     "output_type": "display_data"
    },
    {
     "name": "stdout",
     "output_type": "stream",
     "text": [
      "Saving test-00000-of-00001.parquet to test-00000-of-00001.parquet\n"
     ]
    }
   ],
   "source": [
    "# --- load dataset 20-classes ---\n",
    "train_data = upload_dataset_from_system()\n",
    "val_data = upload_dataset_from_system()\n",
    "test_data = upload_dataset_from_system()"
   ]
  },
  {
   "cell_type": "code",
   "execution_count": null,
   "metadata": {
    "colab": {
     "base_uri": "https://localhost:8080/"
    },
    "id": "QRzhTCJeWhQ6",
    "outputId": "13edc805-c3bb-4e2d-bd13-49c4bcf0f8c2"
   },
   "outputs": [
    {
     "name": "stdout",
     "output_type": "stream",
     "text": [
      "train {'max': 75, 'mean': 21.237466666666666}\n",
      "val {'max': 57, 'mean': 19.7332}\n",
      "test {'max': 93, 'mean': 21.28922}\n",
      "train_percentile [34. 35. 37. 42.]\n",
      "val_percentile [33. 34. 36. 40.]\n",
      "test_percentile [34. 35. 37. 42.]\n"
     ]
    }
   ],
   "source": [
    "print(\"train\",get_max_mean_length(train_data))\n",
    "print(\"val\",get_max_mean_length(val_data))\n",
    "print(\"test\",get_max_mean_length(test_data))\n",
    "print(\"train_percentile\",get_percentile(train_data,per_list=[97,98,99,99.8]))\n",
    "print(\"val_percentile\",get_percentile(val_data,per_list=[97,98,99,99.8]))\n",
    "print(\"test_percentile\",get_percentile(test_data,per_list=[97,98,99,99.8]))   # max_length -> 40"
   ]
  },
  {
   "cell_type": "code",
   "execution_count": 7,
   "metadata": {
    "colab": {
     "base_uri": "https://localhost:8080/",
     "height": 276,
     "referenced_widgets": [
      "7ae55e80d816433685bf956d317f2931",
      "699b72af989a4780b4d6e10cb0ad6e5a",
      "dafb1e83bf3445f0939158aa1c33e195",
      "91098e0ec64f491189f92292e09b82ca",
      "55db13e05c784c74b588462a1495ac35",
      "806091515fdb45be840c3cf4f9769495",
      "3415f88810844a5cadbb106238277472",
      "b19a6a96b9ed415ab8bf5455d00dcacd",
      "333fff0ec1ed4f1b98425f34f5a7da17",
      "a8688a06a2dc4c82845209d588594b42",
      "8c2c9bbf3e8b4ce4a92ca8caf677f864",
      "3744ffe329164f9d828912c953a221d4",
      "b0050fb579aa4f1f8ea75892f3969564",
      "18ebca56597942fb86ee65d878237e26",
      "8e67f89c4d5b45e39a816bdadaf79800",
      "d9a1b2b50b1b4291b0e68d12e0de2a62",
      "d5e0ede2bf354747af9418aaf5ae5230",
      "79043e852f684c2bb657366314265073",
      "ac8f887610474cc1826bf3d9e3a73a7d",
      "39369679676142a3b1419e122910e99a",
      "f3282390255f45178aa8248674725493",
      "c6d1ee87612f44cbba295278ef6788ca",
      "c78eafb7684348a3993b1287e0dd328a",
      "ed253856555d4366bba3b0c428c20a52",
      "bf207363604f47b1aed2c4b1ecfdd0ee",
      "22226f1e44ea46f3a9678a22531ea003",
      "95785884a0e1469eb9e6d9d056096e5a",
      "02f064564c2b47da9cbe99efcb3a6a25",
      "33a059be215742319bff57f985e10b8a",
      "6aa28d0bbe8d4bb28885c5d207e7795d",
      "0f0fad78010342919ca7a2e6b26fb020",
      "ec1e9cf202484b7f8df5e283072c3aa4",
      "d9005ec6db704ca9805b861fb4ad04d7",
      "5b76de7d81554e3d93adebfc1ced5d20",
      "edbb609454b741d48c53fb50e9bbbe35",
      "7e6ca8fe68a3449dbd959ff202c3a7a4",
      "7e83c68bbf984d9ebb1350734e06de0f",
      "01a1c5cccb474c62959c24e00204edfe",
      "c1555f08534846a385ab5f43c02ce2b5",
      "85a5fe2554c64e3c9a534695a2f12cf5",
      "ce547946cc5642bcba5d0386bfb3f525",
      "94fafb4d44e04fd0b2611d9c41eb985d",
      "3a1f5baf8ff64b4f907850a02cdf6d40",
      "5dea237823ee4d419ab138e71289bb62",
      "bf29e0054d6145c1882689dff5a3e43b",
      "f43fad721ec04e25944f766d93f73f4b",
      "3f8ce7721ed14933af29bb0b6dbb8bef",
      "15616c0274764b10b9fb473bc82f71cd",
      "7e8307feec55484eb8c55b1280552431",
      "4077b7d28d1e44139e797304727b333d",
      "f83bf8492c9e4df886af8a84bd9da9ee",
      "dd3d9983f4024bb4bf27c6ff59917c57",
      "202b47cb48834fcd9c8eef40d87b7085",
      "edb4f9571eb54a0a921cbfa162a774e5",
      "2539e60fe82b433695e1c10e9ec77186",
      "44daa1ab27974afb9717a3e0d144f219",
      "8ac4bd9a006b4b319f15fcd31a63586f",
      "a8d388076be94e9986b3e052d35b4641",
      "946ee76dbbc24e7f8e5ee1b0b742e3cd",
      "790c8cf18fcb4bc7a33d63901a86b5b0",
      "1c535c59ee724db69d2874c96da549ab",
      "eefda3473c1042a098cbd6816fa13d42",
      "1f74c0fa68b645d6b6b7e1ae8f0955c8",
      "31445d7ba6114ffb8afd27bd77dc597b",
      "c42994c9817443ed8a60a1940b291325",
      "e428df7e9ba5400bbb018ca455724506",
      "f34761ec64d5433d8e5f79fc4431392c",
      "797d82bf8f354218bd7dd24209dd7abb",
      "1108fa661b654c15923070a4aa4d4161",
      "b2c6aec5eb9842e8a93eeaa10104481e",
      "94240fe530e54dc0a620cd6e382e7bb5",
      "f0c5638f71a344a2b7550cf9ae0bc719",
      "9d3982fc2da240a9ae8a9e43f40bfafa",
      "35e78db002594e218bcdf1e575574a1d",
      "7f3596e68b2b4007aed0263e01f03cc6",
      "c907c5036dbd49a18f37146b7d4b2a6d",
      "e690c63e041b43889562fdad27aff40a"
     ]
    },
    "collapsed": true,
    "id": "jZB15Vh7PfC_",
    "jupyter": {
     "outputs_hidden": true
    },
    "outputId": "7bd88965-bb8d-4726-a1d9-b1714a65b70c"
   },
   "outputs": [
    {
     "data": {
      "application/vnd.jupyter.widget-view+json": {
       "model_id": "7ae55e80d816433685bf956d317f2931",
       "version_major": 2,
       "version_minor": 0
      },
      "text/plain": [
       "README.md:   0%|          | 0.00/421 [00:00<?, ?B/s]"
      ]
     },
     "metadata": {},
     "output_type": "display_data"
    },
    {
     "name": "stderr",
     "output_type": "stream",
     "text": [
      "Repo card metadata block was not found. Setting CardData to empty.\n",
      "WARNING:huggingface_hub.repocard:Repo card metadata block was not found. Setting CardData to empty.\n"
     ]
    },
    {
     "data": {
      "application/vnd.jupyter.widget-view+json": {
       "model_id": "3744ffe329164f9d828912c953a221d4",
       "version_major": 2,
       "version_minor": 0
      },
      "text/plain": [
       "train.jsonl: 0.00B [00:00, ?B/s]"
      ]
     },
     "metadata": {},
     "output_type": "display_data"
    },
    {
     "data": {
      "application/vnd.jupyter.widget-view+json": {
       "model_id": "c78eafb7684348a3993b1287e0dd328a",
       "version_major": 2,
       "version_minor": 0
      },
      "text/plain": [
       "dev.jsonl: 0.00B [00:00, ?B/s]"
      ]
     },
     "metadata": {},
     "output_type": "display_data"
    },
    {
     "data": {
      "application/vnd.jupyter.widget-view+json": {
       "model_id": "5b76de7d81554e3d93adebfc1ced5d20",
       "version_major": 2,
       "version_minor": 0
      },
      "text/plain": [
       "test.jsonl: 0.00B [00:00, ?B/s]"
      ]
     },
     "metadata": {},
     "output_type": "display_data"
    },
    {
     "data": {
      "application/vnd.jupyter.widget-view+json": {
       "model_id": "bf29e0054d6145c1882689dff5a3e43b",
       "version_major": 2,
       "version_minor": 0
      },
      "text/plain": [
       "Generating train split:   0%|          | 0/8544 [00:00<?, ? examples/s]"
      ]
     },
     "metadata": {},
     "output_type": "display_data"
    },
    {
     "data": {
      "application/vnd.jupyter.widget-view+json": {
       "model_id": "44daa1ab27974afb9717a3e0d144f219",
       "version_major": 2,
       "version_minor": 0
      },
      "text/plain": [
       "Generating validation split:   0%|          | 0/1101 [00:00<?, ? examples/s]"
      ]
     },
     "metadata": {},
     "output_type": "display_data"
    },
    {
     "data": {
      "application/vnd.jupyter.widget-view+json": {
       "model_id": "f34761ec64d5433d8e5f79fc4431392c",
       "version_major": 2,
       "version_minor": 0
      },
      "text/plain": [
       "Generating test split:   0%|          | 0/2210 [00:00<?, ? examples/s]"
      ]
     },
     "metadata": {},
     "output_type": "display_data"
    }
   ],
   "source": [
    "# --- load sst5 ---\n",
    "sst = load_dataset(\"SetFit/sst5\")"
   ]
  },
  {
   "cell_type": "code",
   "execution_count": null,
   "metadata": {
    "colab": {
     "base_uri": "https://localhost:8080/"
    },
    "id": "GneNS1t-SYEP",
    "outputId": "c0d6abdd-e289-4f3f-b907-fe8f69be1873"
   },
   "outputs": [
    {
     "name": "stdout",
     "output_type": "stream",
     "text": [
      "train {'max': 80, 'mean': 25.039911048689138}\n",
      "val {'max': 60, 'mean': 25.236148955495004}\n",
      "test {'max': 70, 'mean': 25.000452488687785}\n",
      "train_percentile [49. 52. 55. 61.]\n",
      "val_percentile [48.  50.  53.  56.6]\n",
      "test_percentile [48.   50.   53.91 59.  ]\n"
     ]
    }
   ],
   "source": [
    "print(\"train\",get_max_mean_length(sst['train']))\n",
    "print(\"val\",get_max_mean_length(sst['validation']))\n",
    "print(\"test\",get_max_mean_length(sst['test']))\n",
    "print(\"train_percentile\",get_percentile(sst['train'],per_list=[97,98,99,99.8]))\n",
    "print(\"val_percentile\",get_percentile(sst['validation'],per_list=[97,98,99,99.8]))\n",
    "print(\"test_percentile\",get_percentile(sst['test'],per_list=[97,98,99,99.8]))      # max_length -> 60"
   ]
  },
  {
   "cell_type": "code",
   "execution_count": 5,
   "metadata": {
    "colab": {
     "base_uri": "https://localhost:8080/",
     "height": 484,
     "referenced_widgets": [
      "6fbe18443e4c48cda8367aa8fa25977b",
      "9e8541758eb6436c99da49a8afbf6f44",
      "c7e32d12ec7f4270a9d2268d580d1ed6",
      "648af4eb63424a07ac21c22cdb2fda40",
      "dea6b87fa43d46ada046d66aa3b88334",
      "31c9bfe1a9ea4b849a4a52dc0ed04a01",
      "cd22e370957949e09d6070002aafcf0a",
      "35e939f4a5684a1fa390c0f44f78976c",
      "b391300f360d41d2ab6cd14f9f7c2515",
      "bd97eebaa8ab425daa43b96e456953fc",
      "643ff622da904f6ba1471c19a5475523",
      "d9b81a4fc3494a25b4bb4635d548b22c",
      "b8ae927ff86541a8bfd4ea9283ed0f97",
      "79d124a75d474a9d91775d7efe366d25",
      "1e5da4bc4fcb4297ad1c3cae3e1e09ce",
      "846899aad24e4439a622a0738087938e",
      "d0c4eb84fd944102a14acb0c6659f786",
      "ada33cadede9467c900f3d3f60ce1007",
      "a9658880d88d4ad5876940063b390ca4",
      "1e6240f8abf5498481c62943d1b0ba2f",
      "2e9c6c3f05254af7a09302b4aef127dc",
      "962432b6698b4d88bf3eb9761f2a495c",
      "34e99024292c45c886c6f2beab2e83a0",
      "d8e71a2ea1414109a70fbeba63ff8854",
      "b018578f7b78404bafdb7bf457586ea0",
      "3249db025fca4d12a6a056afdbfb8ca4",
      "888ec59e26474688817c8dfd11450886",
      "8704a7f378934050834c5d4e8d2e1dfb",
      "5021681d2f794637bb89431c9441c6d8",
      "26fb835d2f704478b5c3f96007241dbd",
      "e83fef9b998a485a98df37f8570fe1c2",
      "87b21d52cc5c416b810a325f9253a9c9",
      "a9b9237b98a1406ba03b9697a73ee974",
      "b69c837dc59d459b96cded4bd12905a7",
      "99fd55b1bae34939b10a01a38e730271",
      "95fc17e4b28c4a1fb95b5670fcad9b96",
      "0952ef14940240089fc852e4c3709064",
      "06ed8c2de34a4e738d400c88aa1334e9",
      "2988aa55f380494eb046007674c369bd",
      "b425a575d620445dbf1d9c71d7ee8a22",
      "421ad503da834986bb0274fed41948be",
      "187ec3efcb97465bab1894c0773a8712",
      "75091334bd7c4f02a72f0d4840231eaf",
      "0c48bff366a74a259a6d1f67ab3869fd",
      "6f917f7a25f543ec8dd10487f4fce401",
      "b665754bcf6f4987a5d4a2ef7fb7c11c",
      "07a853ae5b854b2489e36c0ecd92173d",
      "12fecae3298546b187c2bc6a52f664f8",
      "74b814f9aee14153bebba70a89677782",
      "ebd1f6781e5a492f85dfbe29a66ea40d",
      "e68bf60d31fd45c1981a0672c0679fc5",
      "d4e7da98035649c3920480551f86892d",
      "df7c014f29434805b109276740872116",
      "34194f2f92a24d80b5b456e4b09f44ef",
      "f9ec2f0e0b834b1cb70749c70b4c7c91",
      "99db6e919c274c35928b84a18f62566a",
      "c42a765a77ab4e17a3a93645e8cff32e",
      "a6291eee46c944adb7b9e85de4cac4af",
      "fef3527fcdb94c01a083d3ebf908b9fd",
      "822c8850ccb64511bbd149573fd17809",
      "76b7ef48f8b14a85b970e5d185cbb4ba",
      "02a48e79affc4dd5ba92d2d8a42fec73",
      "2c6b43c7dcbd49c59e4dd4e43171a72d",
      "16a3b56549bb4ddba2e2a779404cbebf",
      "18f2980bdee54783bcdceca8bbee3033",
      "03bd5c3c01454f61a3d4d02f59bdc537",
      "5401f5f93e7d403298bcc1ab7337d6ff",
      "c2a7224e719e4c5380118c8cfd805caf",
      "3bc409882d104887b0070e163e8c0b62",
      "373cfb318cf3455b9b8f996e070a1eab",
      "7de79888042641efa5aa68130beeab4e",
      "497263acc480456491cdf4ec42c6e88d",
      "dfe4a5378ada4835a8340e626008310b",
      "6886eb80ded144039ffe27b5ebd1133f",
      "5ae037a3e9754fcca5e7e6ba149a7a14",
      "59d5b37da88647d7909f51080c3656fe",
      "dcdd5370b2ad4925959972b2227b34c6"
     ]
    },
    "id": "ycm6lOkzPiNS",
    "outputId": "5ee47da3-fd62-4eee-a2cf-6f0ddceb04c3"
   },
   "outputs": [
    {
     "data": {
      "application/vnd.jupyter.widget-view+json": {
       "model_id": "6fbe18443e4c48cda8367aa8fa25977b",
       "version_major": 2,
       "version_minor": 0
      },
      "text/plain": [
       "README.md: 0.00B [00:00, ?B/s]"
      ]
     },
     "metadata": {},
     "output_type": "display_data"
    },
    {
     "data": {
      "application/vnd.jupyter.widget-view+json": {
       "model_id": "d9b81a4fc3494a25b4bb4635d548b22c",
       "version_major": 2,
       "version_minor": 0
      },
      "text/plain": [
       "plain_text/train-00000-of-00001.parquet:   0%|          | 0.00/21.0M [00:00<?, ?B/s]"
      ]
     },
     "metadata": {},
     "output_type": "display_data"
    },
    {
     "data": {
      "application/vnd.jupyter.widget-view+json": {
       "model_id": "34e99024292c45c886c6f2beab2e83a0",
       "version_major": 2,
       "version_minor": 0
      },
      "text/plain": [
       "plain_text/test-00000-of-00001.parquet:   0%|          | 0.00/20.5M [00:00<?, ?B/s]"
      ]
     },
     "metadata": {},
     "output_type": "display_data"
    },
    {
     "data": {
      "application/vnd.jupyter.widget-view+json": {
       "model_id": "b69c837dc59d459b96cded4bd12905a7",
       "version_major": 2,
       "version_minor": 0
      },
      "text/plain": [
       "plain_text/unsupervised-00000-of-00001.p(…):   0%|          | 0.00/42.0M [00:00<?, ?B/s]"
      ]
     },
     "metadata": {},
     "output_type": "display_data"
    },
    {
     "data": {
      "application/vnd.jupyter.widget-view+json": {
       "model_id": "6f917f7a25f543ec8dd10487f4fce401",
       "version_major": 2,
       "version_minor": 0
      },
      "text/plain": [
       "Generating train split:   0%|          | 0/25000 [00:00<?, ? examples/s]"
      ]
     },
     "metadata": {},
     "output_type": "display_data"
    },
    {
     "data": {
      "application/vnd.jupyter.widget-view+json": {
       "model_id": "99db6e919c274c35928b84a18f62566a",
       "version_major": 2,
       "version_minor": 0
      },
      "text/plain": [
       "Generating test split:   0%|          | 0/25000 [00:00<?, ? examples/s]"
      ]
     },
     "metadata": {},
     "output_type": "display_data"
    },
    {
     "data": {
      "application/vnd.jupyter.widget-view+json": {
       "model_id": "5401f5f93e7d403298bcc1ab7337d6ff",
       "version_major": 2,
       "version_minor": 0
      },
      "text/plain": [
       "Generating unsupervised split:   0%|          | 0/50000 [00:00<?, ? examples/s]"
      ]
     },
     "metadata": {},
     "output_type": "display_data"
    },
    {
     "data": {
      "text/plain": [
       "DatasetDict({\n",
       "    train: Dataset({\n",
       "        features: ['text', 'label'],\n",
       "        num_rows: 25000\n",
       "    })\n",
       "    test: Dataset({\n",
       "        features: ['text', 'label'],\n",
       "        num_rows: 25000\n",
       "    })\n",
       "    unsupervised: Dataset({\n",
       "        features: ['text', 'label'],\n",
       "        num_rows: 50000\n",
       "    })\n",
       "})"
      ]
     },
     "execution_count": 5,
     "metadata": {},
     "output_type": "execute_result"
    }
   ],
   "source": [
    "# --- load imdb ---\n",
    "imdb = load_dataset(\"imdb\")"
   ]
  },
  {
   "cell_type": "code",
   "execution_count": 6,
   "metadata": {
    "colab": {
     "base_uri": "https://localhost:8080/"
    },
    "id": "NGBTSuFGSycA",
    "outputId": "31cc645f-14ff-4930-a5d4-6cb3c46bd40e"
   },
   "outputs": [
    {
     "name": "stderr",
     "output_type": "stream",
     "text": [
      "Token indices sequence length is longer than the specified maximum sequence length for this model (720 > 512). Running this sequence through the model will result in indexing errors\n"
     ]
    },
    {
     "name": "stdout",
     "output_type": "stream",
     "text": [
      "train {'max': 3127, 'mean': 313.87132}\n",
      "test {'max': 3157, 'mean': 306.771}\n",
      "train_percentile [ 948.03  1055.    1206.    1420.008]\n",
      "test_percentile [ 920.03  1032.    1192.01  1362.002]\n"
     ]
    }
   ],
   "source": [
    "print(\"train\",get_max_mean_length(imdb['train']))\n",
    "print(\"test\",get_max_mean_length(imdb['test']))\n",
    "print(\"train_percentile\",get_percentile(imdb['train'],per_list=[97,98,99,99.8]))\n",
    "print(\"test_percentile\",get_percentile(imdb['test'],per_list=[97,98,99,99.8]))"
   ]
  },
  {
   "cell_type": "markdown",
   "metadata": {
    "id": "wDlvwT8C30a3"
   },
   "source": [
    "#### **preprocess & Dataset-utilities**"
   ]
  },
  {
   "cell_type": "markdown",
   "metadata": {
    "id": "DwtnfeH7ZiTb"
   },
   "source": [
    "**preprocess_data :**\n",
    "\n",
    "رو ورودی دادم. اما چرا ؟ max_length در این متد\n",
    "\n",
    "sst چون بعضی دیتاست ها تسکت هاشون کوتاهه. مثل  \n",
    "\n",
    "- sst_max_length : 80\n",
    "\n",
    "imdb و بعضی دیتاست ها تکست هاشون بلنده. مثل\n",
    "\n",
    "- imdb_max_length : 3157\n",
    "\n",
    "دیتاست 20 کلاسه :    \n",
    "\n",
    "- 20_cls_data_max_length : 93   \n",
    "\n",
    "متناسب با دیتاست انتخاب بشه max_length پس بهتره\n"
   ]
  },
  {
   "cell_type": "code",
   "execution_count": 9,
   "metadata": {
    "id": "hXJLZBi0LoDO"
   },
   "outputs": [],
   "source": [
    "\n",
    "def preproces_data(example,max_len,text ='text',label = 'label'):\n",
    "  tokenized_item = tokenizer(example[text],truncation=True,max_length=max_len,padding=\"max_length\")\n",
    "  inp_ids = tokenized_item['input_ids']\n",
    "  attn_msk = tokenized_item['attention_mask']\n",
    "  label = example[label]\n",
    "\n",
    "  return {\n",
    "         \"input_ids\": inp_ids, # Convert list to tensor\n",
    "          \"attention_mask\": attn_msk, # Convert list to tensor\n",
    "          \"labels\": label # Return the original label index\n",
    "    }"
   ]
  },
  {
   "cell_type": "code",
   "execution_count": 10,
   "metadata": {
    "colab": {
     "base_uri": "https://localhost:8080/",
     "height": 182,
     "referenced_widgets": [
      "69037c849aa7463c9b075aa200beea0e",
      "d4fcc979c2a54090af401b6d98d4181e",
      "c543a1ec021e4daa8f37d4a44edb61ee",
      "b42c095b05a6487db16c7da8357b035e",
      "f9763b234eea4afa8c324d590985df7c",
      "eb79b525e6f04a72946d0503d4bc41c4",
      "c96a226f44af4855bd370adedcb4c95d",
      "62acc2ac1f7c425aad462c07ce408f5a",
      "ecb00e1c12644341851c0971da2fc553",
      "74c218a0f0924603902a85cab853fb81",
      "7b71b1fb17974e5e87e0eb0f1ea4c7d0",
      "d07544a0e7d94464bfc6391a30219db9",
      "f8cb79bf26ff48809e94cc1e285ebf06",
      "ba33cd6596114d49af674f61539f1cbb",
      "eb9e64c290c443a3869fcdc26d8b656d",
      "8574a2bbcf464a53b0fe728f16248651",
      "289fd94f942347588468555fe951a664",
      "f2dfe14b96fb438cad2f0f9c4bb38a4c",
      "c4f7b832fb5b46ca821252cb49315534",
      "573e5455856a464e875725e5e91c9e0a",
      "b6ea5975cb1044d3bc839b593d62895b",
      "cb46a49656c44f95aae39e4fb93844eb",
      "db1f65f0991f490899328dd844f9746f",
      "ea5bc26b04a04fe7b2e3bffcce3892d1",
      "914d5d997e074eb0bd895af523209d58",
      "22fa830dcace4d1eac3a0adcbce6f22b",
      "06dee773668346708796f552c041b2b2",
      "1757f5be35b147cdaf4ba5449db60f69",
      "cfac96d4bf164eadac6ebe77b301ad10",
      "860e7f4cab0545919e0186ed4d4b6ef5",
      "25deb80fdb974c048711bed45da7aafc",
      "4abf5b6161004c87a183d6abd0107622",
      "dc77b8e1e0aa4c68abf92e0f63fd0e81"
     ]
    },
    "id": "373VZgLSnVuk",
    "outputId": "141ea9ec-ecac-48f2-b003-65a63396dddb"
   },
   "outputs": [
    {
     "data": {
      "application/vnd.jupyter.widget-view+json": {
       "model_id": "69037c849aa7463c9b075aa200beea0e",
       "version_major": 2,
       "version_minor": 0
      },
      "text/plain": [
       "Map:   0%|          | 0/45000 [00:00<?, ? examples/s]"
      ]
     },
     "metadata": {},
     "output_type": "display_data"
    },
    {
     "data": {
      "application/vnd.jupyter.widget-view+json": {
       "model_id": "d07544a0e7d94464bfc6391a30219db9",
       "version_major": 2,
       "version_minor": 0
      },
      "text/plain": [
       "Map:   0%|          | 0/5000 [00:00<?, ? examples/s]"
      ]
     },
     "metadata": {},
     "output_type": "display_data"
    },
    {
     "data": {
      "application/vnd.jupyter.widget-view+json": {
       "model_id": "db1f65f0991f490899328dd844f9746f",
       "version_major": 2,
       "version_minor": 0
      },
      "text/plain": [
       "Map:   0%|          | 0/50000 [00:00<?, ? examples/s]"
      ]
     },
     "metadata": {},
     "output_type": "display_data"
    },
    {
     "data": {
      "text/plain": [
       "Dataset({\n",
       "    features: ['input_ids', 'attention_mask', 'labels'],\n",
       "    num_rows: 45000\n",
       "})"
      ]
     },
     "execution_count": 10,
     "metadata": {},
     "output_type": "execute_result"
    }
   ],
   "source": [
    "# --- 20 classes dataset ---\n",
    "train_dataset = train_data.map(preproces_data, fn_kwargs={'max_len': 40}, remove_columns=['text','label'])\n",
    "val_dataset = val_data.map(preproces_data, fn_kwargs={'max_len': 40}, remove_columns=['text','label'])\n",
    "test_dataset = test_data.map(preproces_data, fn_kwargs={'max_len': 40}, remove_columns=['text','label'])\n",
    "train_dataset"
   ]
  },
  {
   "cell_type": "code",
   "execution_count": 11,
   "metadata": {
    "colab": {
     "base_uri": "https://localhost:8080/",
     "height": 182,
     "referenced_widgets": [
      "f6a4d5fbd9634c4cb055e41d5b92cf18",
      "acf3eb5bf1e64b4e814c6598abadbe08",
      "41eaad3eb2ec42f1abaec2b7c38b9cc6",
      "6b8d5f99a4ed4f58b18abc727776f76a",
      "a81e9799887349fa807af6be553174fc",
      "23165904df0240dd8ea3b3180f92fa17",
      "ae7d7f3b90914ae8b32ce6bfa31ff4b3",
      "bdb3da877dd1401cb6ddc2e3350d7c25",
      "c6817d87762c4a2aa5bcd8b7da08efeb",
      "6f5dc869fe0d44df9938fcfab681d998",
      "f0d1491c90fb467d88da7eb8f6714870",
      "be10b4d3db9745129b147cf2e40a46f4",
      "41c98fafd3b445d9bb5470e8d2d7bc23",
      "fa500c4b874b4b98b1089228926b827b",
      "a3a570dfb4aa4f67966c1b8a3ce23c19",
      "23ce32fc2ba1462184ea5c383d19f1b3",
      "a14b83cc3d2d4d3599e811abc9806630",
      "45e842cc7ac3415bb97715e27056b580",
      "b1ad91c0b6214662b1e6a7b0f84de036",
      "ac04ab094c5849819687813446b15306",
      "0e95a1c8e63745e383071e34eabfe29f",
      "b4a6303ec5344b4da8f34244c3cfd721",
      "5f669dc30ef64beda5ddf5f131eaf4fd",
      "3ae7f110a91544c3b4518e93973542a6",
      "dd07b3ca43c546dc9eef858bff8b6bd3",
      "edac81c9feae48069f4dc546c602ddf8",
      "9ea5547974d34696ab6e9139282965bb",
      "48c915758734478898d6818e3b6c727a",
      "4bfe2a06f2454ceeb6ab407262e77279",
      "2b6be5795df646059031ef1ba56ae641",
      "5b596ed3ac6e46dc8fbc8d963964e850",
      "958ac093375041939a1e0d54f8cb8fcf",
      "e2c426ec90a846c7b6f8ce70830e03dc"
     ]
    },
    "id": "sw4-lBOhN09d",
    "outputId": "f1450df5-bce8-49cc-c854-4868d2c900e9"
   },
   "outputs": [
    {
     "data": {
      "application/vnd.jupyter.widget-view+json": {
       "model_id": "f6a4d5fbd9634c4cb055e41d5b92cf18",
       "version_major": 2,
       "version_minor": 0
      },
      "text/plain": [
       "Map:   0%|          | 0/8544 [00:00<?, ? examples/s]"
      ]
     },
     "metadata": {},
     "output_type": "display_data"
    },
    {
     "data": {
      "application/vnd.jupyter.widget-view+json": {
       "model_id": "be10b4d3db9745129b147cf2e40a46f4",
       "version_major": 2,
       "version_minor": 0
      },
      "text/plain": [
       "Map:   0%|          | 0/1101 [00:00<?, ? examples/s]"
      ]
     },
     "metadata": {},
     "output_type": "display_data"
    },
    {
     "data": {
      "application/vnd.jupyter.widget-view+json": {
       "model_id": "5f669dc30ef64beda5ddf5f131eaf4fd",
       "version_major": 2,
       "version_minor": 0
      },
      "text/plain": [
       "Map:   0%|          | 0/2210 [00:00<?, ? examples/s]"
      ]
     },
     "metadata": {},
     "output_type": "display_data"
    },
    {
     "data": {
      "text/plain": [
       "Dataset({\n",
       "    features: ['input_ids', 'attention_mask', 'labels'],\n",
       "    num_rows: 8544\n",
       "})"
      ]
     },
     "execution_count": 11,
     "metadata": {},
     "output_type": "execute_result"
    }
   ],
   "source": [
    "# --- sst5 ---\n",
    "sst_train = sst['train'].map(preproces_data,fn_kwargs={'max_len': 60},remove_columns=['text','label','label_text'])\n",
    "sst_val = sst['validation'].map(preproces_data,fn_kwargs={'max_len': 60},remove_columns=['text','label','label_text'])\n",
    "sst_test = sst['test'].map(preproces_data,fn_kwargs={'max_len': 60},remove_columns=['text','label','label_text'])\n",
    "sst_train"
   ]
  },
  {
   "cell_type": "code",
   "execution_count": 12,
   "metadata": {
    "colab": {
     "base_uri": "https://localhost:8080/",
     "height": 150,
     "referenced_widgets": [
      "f10b11c1bb8949f292d21180dc25aef5",
      "4d0d7df8b6bd4a6682402ca93f1f3124",
      "8be96968b50146af893247bd392759fc",
      "55e6e730bc90436d8b0e41c03bbdb8d2",
      "5ede37475910431d95ed0bbe4d438208",
      "15c4f4937e7346b1bdd11e786fdc51f8",
      "7be2c89c5842441986771a9a8e9d31de",
      "ebc1a1e2a9ec42aaad45af772108a4e8",
      "6056501b6a2149b0b23957c1c12751c5",
      "c2fde3c5097e428d9ca9fe647bc9a39d",
      "cf3a7704f9a84b4b9c2b23d877dfd396",
      "476b5510516d435eb79cef0bb0881808",
      "8778c63a273a4a3da00a298a6fc77e30",
      "f08dd19261404c6ca3ac4e4f40816001",
      "5560896ffa014e26926cf28d2164e27b",
      "9c4082e30e9c44ef81a0f7edfc669001",
      "282edd6d7c98424cb34e94525f4f6618",
      "fde066831a904a93b38b820bb60b8e97",
      "f6d321d4dbd043b8829196f08e6642c4",
      "28ffa5827f764a69afde844dd2f6d785",
      "d358efdba8df4bbba346f21c28bef71e",
      "06f44173f2014ee384acea2667ed4bd0"
     ]
    },
    "id": "BmPvp_kznQdt",
    "outputId": "28cdf9e2-cfb9-4a00-dcf4-d0b129147150"
   },
   "outputs": [
    {
     "data": {
      "application/vnd.jupyter.widget-view+json": {
       "model_id": "f10b11c1bb8949f292d21180dc25aef5",
       "version_major": 2,
       "version_minor": 0
      },
      "text/plain": [
       "Map:   0%|          | 0/25000 [00:00<?, ? examples/s]"
      ]
     },
     "metadata": {},
     "output_type": "display_data"
    },
    {
     "data": {
      "application/vnd.jupyter.widget-view+json": {
       "model_id": "476b5510516d435eb79cef0bb0881808",
       "version_major": 2,
       "version_minor": 0
      },
      "text/plain": [
       "Map:   0%|          | 0/25000 [00:00<?, ? examples/s]"
      ]
     },
     "metadata": {},
     "output_type": "display_data"
    },
    {
     "data": {
      "text/plain": [
       "Dataset({\n",
       "    features: ['input_ids', 'attention_mask', 'labels'],\n",
       "    num_rows: 25000\n",
       "})"
      ]
     },
     "execution_count": 12,
     "metadata": {},
     "output_type": "execute_result"
    }
   ],
   "source": [
    "imdb_train = imdb['train'].map(preproces_data,fn_kwargs={'max_len': 1200},remove_columns=['text','label'])\n",
    "imdb_test = imdb['test'].map(preproces_data,fn_kwargs={'max_len': 1200},remove_columns=['text','label'])\n",
    "imdb_train"
   ]
  },
  {
   "cell_type": "code",
   "execution_count": 13,
   "metadata": {
    "id": "AW61SrZLks7i"
   },
   "outputs": [],
   "source": [
    "def collate_fn(batch):\n",
    "    input_ids = [\n",
    "        torch.tensor(item['input_ids'], dtype=torch.long)\n",
    "        if not isinstance(item['input_ids'], torch.Tensor) else item['input_ids'].long()\n",
    "        for item in batch\n",
    "    ]\n",
    "    attention_mask = [\n",
    "        torch.tensor(item['attention_mask'], dtype=torch.long)\n",
    "        if not isinstance(item['attention_mask'], torch.Tensor) else item['attention_mask'].long()\n",
    "        for item in batch\n",
    "    ]\n",
    "\n",
    "    labels = torch.stack([\n",
    "        torch.tensor(item['labels'], dtype=torch.long) # Changed to torch.long\n",
    "        if not isinstance(item['labels'], torch.Tensor) else item['labels'].long()\n",
    "        for item in batch\n",
    "    ])\n",
    "\n",
    "\n",
    "    input_ids_padded = pad_sequence(\n",
    "        input_ids, batch_first=True, padding_value=tokenizer.pad_token_id\n",
    "    )\n",
    "    attention_mask_padded = pad_sequence(\n",
    "        attention_mask, batch_first=True, padding_value=0\n",
    "    )\n",
    "\n",
    "    return {\n",
    "        \"input_ids\": input_ids_padded,        # (batch_size, seq_len)\n",
    "        \"attention_mask\": attention_mask_padded,  # (batch_size, seq_len)\n",
    "        \"labels\": labels                      # (batch_size, num_classes)\n",
    "    }"
   ]
  },
  {
   "cell_type": "markdown",
   "metadata": {
    "id": "M9yNhxHHOIxe"
   },
   "source": [
    "##### **LitModule**"
   ]
  },
  {
   "cell_type": "code",
   "execution_count": 14,
   "metadata": {
    "id": "0ZRwL32pELzn"
   },
   "outputs": [],
   "source": [
    "import torchmetrics\n",
    "from torch.optim.lr_scheduler import ReduceLROnPlateau # Import ReduceLROnPlateau\n",
    "\n",
    "class LitModule(pl.LightningModule):\n",
    "  def __init__(self,model,batch_size=64,lr=1e-3,train_dataset=train_dataset,val_dataset=val_dataset,test_dataset=test_dataset):\n",
    "    super().__init__()\n",
    "    self.model = model\n",
    "    self.batch_size = batch_size\n",
    "    self.lr = lr\n",
    "    self.train_dataset = train_dataset\n",
    "    self.validation_dataset = val_dataset\n",
    "    self.test_dataset = test_dataset\n",
    "\n",
    "    self.loss_fn =  nn.CrossEntropyLoss()\n",
    "\n",
    "    self.train_accuracy = torchmetrics.Accuracy(task=\"multiclass\", num_classes=self.model.classifier.out_features)\n",
    "    self.val_accuracy = torchmetrics.Accuracy(task=\"multiclass\", num_classes=self.model.classifier.out_features)\n",
    "    self.train_f1 = torchmetrics.F1Score(task=\"multiclass\", num_classes=self.model.classifier.out_features)\n",
    "    self.val_f1 = torchmetrics.F1Score(task=\"multiclass\", num_classes=self.model.classifier.out_features)\n",
    "    self.test_accuracy = torchmetrics.Accuracy(task=\"multiclass\", num_classes=self.model.classifier.out_features)\n",
    "    self.test_f1 = torchmetrics.F1Score(task=\"multiclass\", num_classes=self.model.classifier.out_features)\n",
    "\n",
    "    # F1 per-class\n",
    "    self.test_f1_per_class = torchmetrics.F1Score(\n",
    "        task=\"multiclass\",\n",
    "        num_classes=self.model.classifier.out_features,\n",
    "        average=None\n",
    "    )\n",
    "\n",
    "  def forward(self,input_ids):\n",
    "    return self.model(input_ids)\n",
    "\n",
    "  def train_dataloader(self):\n",
    "    return DataLoader(self.train_dataset,batch_size=self.batch_size,shuffle=True,collate_fn=collate_fn) #sampler=self.sampler\n",
    "\n",
    "  def val_dataloader(self):\n",
    "    return DataLoader(self.validation_dataset,batch_size=self.batch_size, collate_fn=collate_fn)\n",
    "\n",
    "  def test_dataloader(self):\n",
    "    return DataLoader(self.test_dataset,batch_size=self.batch_size, collate_fn=collate_fn)\n",
    "\n",
    "\n",
    "  def training_step(self,batch,batch_idx):\n",
    "     input_ids = batch['input_ids']\n",
    "     labels = batch['labels'].long()\n",
    "\n",
    "     logits = self.model(input_ids)\n",
    "     loss = self.loss_fn(logits, labels)#self.loss_fn(logits.view(-1, logits.shape[-1]), labels.view(-1))\n",
    "     self.log(\"train_loss\",loss)\n",
    "\n",
    "     preds = torch.argmax(logits, dim=-1)\n",
    "\n",
    "     self.log('train_acc', self.train_accuracy(preds, labels), on_step=False, on_epoch=True, prog_bar=True)\n",
    "     self.log('train_f1', self.train_f1(preds, labels), on_step=False, on_epoch=True, prog_bar=True)\n",
    "\n",
    "\n",
    "     return loss\n",
    "\n",
    "  def validation_step(self, batch, batch_idx):\n",
    "    input_ids = batch['input_ids']\n",
    "    labels = batch['labels'].long()  # shape: [batch_size]\n",
    "\n",
    "    logits = self.model(input_ids)              # shape: [batch_size, num_classes]\n",
    "    loss = self.loss_fn(logits, labels)\n",
    "    self.log(\"val_loss\", loss, prog_bar=True)\n",
    "\n",
    "    preds = torch.argmax(logits, dim=-1)        # shape: [batch_size]\n",
    "    self.val_accuracy.update(preds, labels)\n",
    "    self.val_f1.update(preds, labels)\n",
    "\n",
    "    self.log('val_acc', self.val_accuracy, on_step=False, on_epoch=True, prog_bar=True)\n",
    "    self.log('val_f1', self.val_f1, on_step=False, on_epoch=True, prog_bar=True)\n",
    "\n",
    "\n",
    "  def test_step(self, batch, batch_idx):\n",
    "    input_ids = batch['input_ids']\n",
    "    labels = batch['labels'].long()\n",
    "\n",
    "    logits = self.model(input_ids)\n",
    "    loss = self.loss_fn(logits, labels)\n",
    "\n",
    "    preds = torch.argmax(logits, dim=-1)\n",
    "\n",
    "    # فقط update کنیم\n",
    "    self.test_accuracy.update(preds, labels)\n",
    "    self.test_f1.update(preds, labels)\n",
    "    self.test_f1_per_class.update(preds, labels)\n",
    "\n",
    "    self.log(\"-- test_loss --\", loss, prog_bar=True)\n",
    "\n",
    "  def on_test_epoch_end(self):\n",
    "    acc = self.test_accuracy.compute()\n",
    "    f1_macro = self.test_f1.compute()\n",
    "    f1_per_class = self.test_f1_per_class.compute()\n",
    "\n",
    "    # لاگ نهایی\n",
    "    self.log(\"-- test_acc --\", acc)\n",
    "    self.log(\"-- test_f1 --\", f1_macro)\n",
    "    for i, score in enumerate(f1_per_class):\n",
    "        self.log(f\"test_f1_class_{i}\", score)\n",
    "\n",
    "    # ریست کردن\n",
    "    self.test_accuracy.reset()\n",
    "    self.test_f1.reset()\n",
    "    self.test_f1_per_class.reset()\n",
    "\n",
    "\n",
    "  def configure_optimizers(self):\n",
    "     optimizer = torch.optim.Adam(self.parameters(), lr=self.lr)\n",
    "     scheduler = ReduceLROnPlateau(optimizer, mode='min', factor=0.1, patience=3)  # ✅ روی val_loss باید min باشه\n",
    "     return {\"optimizer\": optimizer,\"lr_scheduler\": {\"scheduler\": scheduler, \"monitor\": \"val_loss\"}}\n"
   ]
  },
  {
   "cell_type": "markdown",
   "metadata": {
    "id": "O225dzxe0hvo"
   },
   "source": [
    "#### **weight-initialize**"
   ]
  },
  {
   "cell_type": "code",
   "execution_count": 52,
   "metadata": {
    "id": "6OIM8xam0mQP"
   },
   "outputs": [],
   "source": [
    "class InitWeight:\n",
    "    def __call__(self, m):\n",
    "        if isinstance(m, nn.LSTM):\n",
    "            for name, param in m.named_parameters():\n",
    "                with torch.no_grad():\n",
    "                    if \"weight_ih\" in name:\n",
    "                        nn.init.xavier_uniform_(param.data)\n",
    "                    elif \"weight_hh\" in name:\n",
    "                        nn.init.orthogonal_(param.data)\n",
    "                    elif \"bias\" in name:\n",
    "                        param.fill_(0)\n",
    "        elif isinstance(m,nn.GRU):\n",
    "            for name, param in m.named_parameters(): # Added loop for GRU\n",
    "                with torch.no_grad():\n",
    "                    if \"weight_ih\" in name:\n",
    "                        nn.init.xavier_uniform_(param.data)\n",
    "                    elif \"weight_hh\" in name:\n",
    "                        nn.init.orthogonal_(param.data)\n",
    "                    elif \"bias\" in name:\n",
    "                        param.fill_(0)\n",
    "        elif isinstance(m, nn.Conv1d):\n",
    "            with torch.no_grad():\n",
    "                nn.init.kaiming_uniform_(m.weight, nonlinearity=\"relu\")\n",
    "                if m.bias is not None:\n",
    "                    nn.init.zeros_(m.bias)\n",
    "\n",
    "        elif isinstance(m, nn.Linear):\n",
    "            with torch.no_grad():\n",
    "                nn.init.normal_(m.weight, mean=0.0, std=0.02)\n",
    "                if m.bias is not None:\n",
    "                    nn.init.zeros_(m.bias)"
   ]
  },
  {
   "cell_type": "markdown",
   "metadata": {
    "id": "0OJXp5whREd2"
   },
   "source": [
    "#### **Attentions**"
   ]
  },
  {
   "cell_type": "code",
   "execution_count": 54,
   "metadata": {
    "id": "cfvfYWrLRITz"
   },
   "outputs": [],
   "source": [
    "class gru_Attention(nn.Module):\n",
    "    def __init__(self, hidden_dim=128):\n",
    "        super().__init__()\n",
    "        self.hidden_dim = hidden_dim\n",
    "        self.key = nn.GRU(hidden_dim, hidden_dim, batch_first=True)\n",
    "        self.value = nn.GRU(hidden_dim, hidden_dim, batch_first=True)\n",
    "        self.query = nn.GRU(hidden_dim, hidden_dim, batch_first=True)\n",
    "        self.attn_drop = nn.Dropout(0.2)\n",
    "        self.resid_drop = nn.Dropout(0.2)\n",
    "        self.apply(InitWeight())\n",
    "\n",
    "    def forward(self, x):\n",
    "        B, T, C = x.size()\n",
    "\n",
    "        # output, h_n = gru(x)\n",
    "        _, k = self.key(x)   # h_n\n",
    "        _, q = self.query(x)  # h_n\n",
    "        _, v = self.value(x)  # h_n\n",
    "\n",
    "        k = k.squeeze(0)\n",
    "        q = q.squeeze(0)\n",
    "        v = v.squeeze(0)\n",
    "\n",
    "        att = (q @ k.transpose(-2, -1)) / math.sqrt(C)\n",
    "        att = F.softmax(att, dim=-1)\n",
    "        att = self.attn_drop(att)\n",
    "\n",
    "        y = att @ v\n",
    "        y = self.resid_drop(y)\n",
    "        y = y.unsqueeze(1)\n",
    "        return y"
   ]
  },
  {
   "cell_type": "code",
   "execution_count": 55,
   "metadata": {
    "id": "9SfLsiyYRZuP"
   },
   "outputs": [],
   "source": [
    "class conv_Attention(nn.Module):\n",
    "    def __init__(self, hidden_dim=128):\n",
    "        super().__init__()\n",
    "        self.hidden_dim = hidden_dim\n",
    "        # Conv1d expects input (batch_size, channels, sequence_length)\n",
    "        self.key = nn.Conv1d(hidden_dim, hidden_dim, kernel_size=3,padding='same')\n",
    "        self.value = nn.Conv1d(hidden_dim, hidden_dim, kernel_size=3,padding='same')\n",
    "        self.query = nn.Conv1d(hidden_dim, hidden_dim, kernel_size=3,padding='same')\n",
    "        self.attn_drop = nn.Dropout(0.15)\n",
    "        self.resid_drop = nn.Dropout(0.15)\n",
    "        self.apply(InitWeight())\n",
    "\n",
    "    def forward(self, x):\n",
    "        B, T, C = x.size()\n",
    "\n",
    "        # Permute dimensions for Conv1d: (B, T, C) -> (B, C, T)\n",
    "        x_permuted = x.permute(0, 2, 1)\n",
    "\n",
    "        k = self.key(x_permuted)\n",
    "        q = self.query(x_permuted)\n",
    "        v = self.value(x_permuted)\n",
    "\n",
    "        # Permute back to (B, T, C) for attention calculation\n",
    "        k = k.permute(0, 2, 1)\n",
    "        q = q.permute(0, 2, 1)\n",
    "        v = v.permute(0, 2, 1)\n",
    "\n",
    "\n",
    "        att = (q @ k.transpose(-2, -1)) / math.sqrt(C)\n",
    "        att = F.softmax(att, dim=-1)\n",
    "        att = self.attn_drop(att)\n",
    "\n",
    "        y = att @ v\n",
    "        y = self.resid_drop(y)\n",
    "        return y"
   ]
  },
  {
   "cell_type": "code",
   "execution_count": 56,
   "metadata": {
    "id": "-jkD75cYZEiL"
   },
   "outputs": [],
   "source": [
    "class gru_Attention_2(nn.Module):\n",
    "    def __init__(self, hidden_dim=128):\n",
    "        super().__init__()\n",
    "        self.hidden_dim = hidden_dim\n",
    "        self.key = nn.GRU(hidden_dim, hidden_dim, batch_first=True)\n",
    "        self.value = nn.GRU(hidden_dim, hidden_dim, batch_first=True)\n",
    "        self.query = nn.GRU(hidden_dim, hidden_dim, batch_first=True)\n",
    "        self.attn_drop = nn.Dropout(0.2)\n",
    "        self.resid_drop = nn.Dropout(0.2)\n",
    "        self.apply(InitWeight())\n",
    "\n",
    "    def forward(self, x):\n",
    "        B, T, C = x.size()\n",
    "\n",
    "        # output, h_n = gru(x)\n",
    "        k, _ = self.key(x)   # output\n",
    "        q, _ = self.query(x)  # output\n",
    "        v, _ = self.value(x)  # output\n",
    "\n",
    "        att = (q @ k.transpose(-2, -1)) / math.sqrt(C)\n",
    "        att = F.softmax(att, dim=-1)\n",
    "        att = self.attn_drop(att)\n",
    "\n",
    "        y = att @ v\n",
    "        y = self.resid_drop(y)\n",
    "        return y"
   ]
  },
  {
   "cell_type": "code",
   "execution_count": 57,
   "metadata": {
    "id": "cePDmegtZb_3"
   },
   "outputs": [],
   "source": [
    "class _MultiheadAttention(nn.Module):\n",
    "    def __init__(self, hidden_dim=128, num_heads=4):\n",
    "        super().__init__()\n",
    "        self.attn = nn.MultiheadAttention(\n",
    "              embed_dim=hidden_dim,\n",
    "              num_heads=num_heads,\n",
    "              batch_first=True\n",
    "           )\n",
    "        self.apply(InitWeight())\n",
    "    def forward(self, x):\n",
    "        return self.attn(x,x,x)[0]"
   ]
  },
  {
   "cell_type": "markdown",
   "metadata": {
    "id": "SI9oOrZqRuWP"
   },
   "source": [
    "#### **FFN**"
   ]
  },
  {
   "cell_type": "code",
   "execution_count": 58,
   "metadata": {
    "id": "xYPQcw2cRxLI"
   },
   "outputs": [],
   "source": [
    "class conv_lstm_ffn(nn.Module):\n",
    "  def __init__(self,hidden_dim=128,ff_dim=128):\n",
    "    super().__init__()\n",
    "    self.fc = nn.Linear(hidden_dim,ff_dim)\n",
    "    self.conv1 = nn.Conv1d(ff_dim, ff_dim, kernel_size=3, padding=\"same\")\n",
    "    self.conv2 = nn.Conv1d(ff_dim, ff_dim, kernel_size=5, padding=\"same\")\n",
    "    self.lstm = nn.LSTM(ff_dim*2, hidden_dim, batch_first=True, bidirectional=False)\n",
    "    self.apply(InitWeight())\n",
    "\n",
    "  def forward(self,x):\n",
    "      x = self.fc(x)\n",
    "      y1 = self.conv1(x.permute(0, 2, 1)).permute(0, 2, 1)  # (B, 1, ff_dim)\n",
    "      y2 = self.conv2(x.permute(0, 2, 1)).permute(0, 2, 1)  # (B, 1, ff_dim)\n",
    "      y = torch.cat([y1, y2], dim=-1)        # (B, 1, ff_dim*2)\n",
    "      y = F.relu(y)\n",
    "      y, _ = self.lstm(y)                   # (B, 1, hidden_dim)\n",
    "      return y\n"
   ]
  },
  {
   "cell_type": "code",
   "execution_count": 59,
   "metadata": {
    "id": "tXVg2vfoT8dX"
   },
   "outputs": [],
   "source": [
    "class conv_lin_ffn(nn.Module):\n",
    "  def __init__(self,hidden_dim=128,ff_dim=128):\n",
    "    super().__init__()\n",
    "    self.fc = nn.Linear(hidden_dim,ff_dim)\n",
    "    self.conv1 = nn.Conv1d(ff_dim, ff_dim, kernel_size=3, padding=\"same\")\n",
    "    self.conv2 = nn.Conv1d(ff_dim, ff_dim, kernel_size=5, padding=\"same\")\n",
    "    self.proj = nn.Linear(ff_dim*2,hidden_dim)\n",
    "    self.apply(InitWeight())\n",
    "\n",
    "  def forward(self,x):\n",
    "      x = self.fc(x)\n",
    "      y1 = self.conv1(x.permute(0, 2, 1)).permute(0, 2, 1)  # (B, 1, ff_dim)\n",
    "      y2 = self.conv2(x.permute(0, 2, 1)).permute(0, 2, 1)  # (B, 1, ff_dim)\n",
    "      y = torch.cat([y1, y2], dim=-1)        # (B, 1, ff_dim*2)\n",
    "      y = F.relu(y)\n",
    "      y = self.proj(y)                       # (B, 1, hidden_dim)\n",
    "      return y\n"
   ]
  },
  {
   "cell_type": "code",
   "execution_count": 60,
   "metadata": {
    "id": "sP5lbkmLYu9Z"
   },
   "outputs": [],
   "source": [
    "class lin_relu_ffn(nn.Module):\n",
    "  def __init__(self,hidden_dim=128,ff_dim=128):\n",
    "    super().__init__()\n",
    "    self.ffn = nn.Sequential(\n",
    "            nn.Linear(hidden_dim, ff_dim),\n",
    "            nn.ReLU(),\n",
    "            nn.Linear(ff_dim, hidden_dim)\n",
    "        )\n",
    "    self.apply(InitWeight())\n",
    "\n",
    "  def forward(self,x):\n",
    "    return self.ffn(x)"
   ]
  },
  {
   "cell_type": "code",
   "execution_count": 61,
   "metadata": {
    "id": "q6ia8b_WwfFo"
   },
   "outputs": [],
   "source": [
    "class lin_gelu_ffn(nn.Module):\n",
    "  def __init__(self,hidden_dim=128,ff_dim=128):\n",
    "    super().__init__()\n",
    "    self.ffn = nn.Sequential(\n",
    "            nn.Linear(hidden_dim, ff_dim),\n",
    "            nn.GELU(),\n",
    "            nn.Linear(ff_dim, hidden_dim)\n",
    "        )\n",
    "    self.apply(InitWeight())\n",
    "\n",
    "  def forward(self,x):\n",
    "    return self.ffn(x)"
   ]
  },
  {
   "cell_type": "markdown",
   "metadata": {
    "id": "E8xBzMdbUumU"
   },
   "source": [
    "#### **CustomTransformer**"
   ]
  },
  {
   "cell_type": "code",
   "execution_count": 62,
   "metadata": {
    "id": "zTmIbHgKU1cG"
   },
   "outputs": [],
   "source": [
    "class CustomTransformer(nn.Module):\n",
    "  def __init__(self, hidden_dim=128, attn=None,FFN=None,num_heads=4, ff_dim=256, dropout=0.1):\n",
    "      super().__init__()\n",
    "\n",
    "      # Attention\n",
    "      self.attn=attn if attn is not None else _MultiheadAttention(hidden_dim,num_heads)\n",
    "      # Feed Forward\n",
    "      self.ffn=FFN if FFN is not None else lin_relu_ffn(hidden_dim,ff_dim)\n",
    "\n",
    "      self.ln1 = nn.LayerNorm(hidden_dim)\n",
    "      self.ln2 = nn.LayerNorm(hidden_dim)\n",
    "      self.drop1 = nn.Dropout(dropout)\n",
    "      self.drop2 = nn.Dropout(dropout)\n",
    "\n",
    "  def forward(self, x, mask=None):\n",
    "        # Self-Attention + Residual\n",
    "        attn_out = self.attn(x)\n",
    "        x = self.ln1(x + self.drop1(attn_out))\n",
    "\n",
    "        # FeedForward + Residual\n",
    "        ff_out = self.ffn(x)\n",
    "        x = self.ln2(x + self.drop2(ff_out))\n",
    "\n",
    "        return x"
   ]
  },
  {
   "cell_type": "markdown",
   "metadata": {
    "id": "ccxONoBok4w3"
   },
   "source": [
    "#### **Creat_Module_List**"
   ]
  },
  {
   "cell_type": "code",
   "execution_count": 63,
   "metadata": {
    "id": "EeBp8Qyuk733"
   },
   "outputs": [],
   "source": [
    "class Create_Module_list(nn.Module):\n",
    "  def __init__(self,hidden_dim=128,ff_dim=128,attn_ffn_tuples=None,num_heads=4,drop=0.1):\n",
    "    super().__init__()\n",
    "    self.drop=0.1\n",
    "    self.num_heads = num_heads\n",
    "    self.tuples = attn_ffn_tuples\n",
    "    self.hidden_dim = hidden_dim\n",
    "    self.ff_dim = ff_dim\n",
    "\n",
    "\n",
    "  def forward(self):\n",
    "    module_list = [CustomTransformer(hidden_dim=self.hidden_dim,\n",
    "                                           attn = item[0](hidden_dim=self.hidden_dim) if item[0] is not None else None,\n",
    "                                           FFN = item[1](hidden_dim=self.hidden_dim,ff_dim=self.ff_dim) if item[1] is not None else None,\n",
    "                                           ff_dim=self.ff_dim,\n",
    "                                           num_heads=self.num_heads,\n",
    "                                           dropout=self.drop) for item in self.tuples]\n",
    "\n",
    "    return module_list"
   ]
  },
  {
   "cell_type": "markdown",
   "metadata": {
    "id": "hHEaCi2Paix2"
   },
   "source": [
    "#### **Model**"
   ]
  },
  {
   "cell_type": "code",
   "execution_count": 64,
   "metadata": {
    "id": "BdBYTEKKamce"
   },
   "outputs": [],
   "source": [
    "class Model(nn.Module):\n",
    "  def __init__(self,vocab_size=VOCAB_SIZE,max_leng=256,hidden_dim=128,vocab=None,module_list=None,num_labels=20,num_repeats=4):\n",
    "    super().__init__()\n",
    "    self.word_embed = nn.Embedding(vocab_size, hidden_dim)\n",
    "    self.pos_embed = nn.Embedding(max_leng, hidden_dim)\n",
    "\n",
    "    self.layers = nn.ModuleList([item for item in module_list for _ in range(num_repeats)])\n",
    "    self.classifier = nn.Linear(hidden_dim, num_labels)\n",
    "    self.apply(self._init_weights)\n",
    "\n",
    "  def _init_weights(self, m):\n",
    "        if isinstance(m, nn.Linear):\n",
    "            nn.init.normal_(m.weight, mean=0.0, std=0.02)\n",
    "            if m.bias is not None:\n",
    "                nn.init.zeros_(m.bias)\n",
    "        elif isinstance(m, nn.Embedding):\n",
    "            nn.init.normal_(m.weight, mean=0.0, std=0.02)\n",
    "  def forward(self, input_ids):\n",
    "        batch_size, seq_len = input_ids.size()\n",
    "        positions = torch.arange(seq_len, device=input_ids.device).unsqueeze(0).expand(batch_size, seq_len)\n",
    "\n",
    "        # word + positional embedding\n",
    "        x = self.word_embed(input_ids) + self.pos_embed(positions)\n",
    "\n",
    "        # Transformer layers\n",
    "        for layer in self.layers:\n",
    "            x = layer(x)\n",
    "\n",
    "        # Sequence pooling (mean pooling)\n",
    "        x = x.mean(dim=1)  # (B, H)\n",
    "\n",
    "        # Classification head\n",
    "        logits = self.classifier(x)\n",
    "        return logits"
   ]
  },
  {
   "cell_type": "markdown",
   "metadata": {
    "id": "cUpss0lfeWFe"
   },
   "source": [
    "#### **Train-Method**"
   ]
  },
  {
   "cell_type": "code",
   "execution_count": 65,
   "metadata": {
    "id": "daXR_amnebjE"
   },
   "outputs": [],
   "source": [
    "def train_model(attn_ffn_tuples=None,\n",
    "                num_labels=20,\n",
    "                hidden_dim=32,\n",
    "                max_leng=256,\n",
    "                ffn_dim=64,\n",
    "                num_heads=4,\n",
    "                dropout=0.1,\n",
    "                lr = 1e-3,\n",
    "                batch_size=32,\n",
    "                num_repeat_modules=3,\n",
    "                vocab=None,\n",
    "                train_data=None,\n",
    "                val_data=None,\n",
    "                test_data=None,\n",
    "                early_stop=False,\n",
    "                patience=7,\n",
    "                max_epochs=5,\n",
    "                gradient_clip_val=5.0\n",
    "                ):\n",
    "\n",
    "  module_list_creator = Create_Module_list(hidden_dim=hidden_dim,\n",
    "                                           ff_dim=ffn_dim,\n",
    "                                           attn_ffn_tuples=attn_ffn_tuples,\n",
    "                                           num_heads=num_heads,\n",
    "                                           drop=dropout\n",
    "                                           )\n",
    "  module_list = module_list_creator()\n",
    "\n",
    "  model = Model(hidden_dim = hidden_dim,\n",
    "                max_leng = max_leng,\n",
    "                num_labels=num_labels,\n",
    "                module_list=module_list,\n",
    "                num_repeats=num_repeat_modules,\n",
    "                vocab=vocab\n",
    "                )\n",
    "\n",
    "  lit_module = LitModule(model,\n",
    "                         batch_size=batch_size,\n",
    "                         lr=lr,\n",
    "                         train_dataset=train_data,\n",
    "                         val_dataset=val_data,\n",
    "                         test_dataset=test_data\n",
    "                         )\n",
    "\n",
    "  early_stop_callback = EarlyStopping(monitor='val_f1',min_delta=1e-4,patience=patience,verbose=True,mode='max')\n",
    "\n",
    "  callbacks=[]\n",
    "  if early_stop:\n",
    "    callbacks.append(early_stop_callback)\n",
    "\n",
    "  trainer = pl.Trainer(\n",
    "    max_epochs=max_epochs,\n",
    "    accelerator=device,\n",
    "    logger=False,\n",
    "    callbacks=callbacks,\n",
    "    gradient_clip_val=gradient_clip_val\n",
    "  )\n",
    "\n",
    "  trainer.fit(lit_module)\n",
    "  trainer.test(lit_module)\n",
    "\n",
    "  return model, lit_module"
   ]
  },
  {
   "cell_type": "markdown",
   "metadata": {
    "id": "W7K6YKPTuNTS"
   },
   "source": [
    "#### **Labs**"
   ]
  },
  {
   "cell_type": "code",
   "execution_count": 69,
   "metadata": {
    "colab": {
     "base_uri": "https://localhost:8080/",
     "height": 718,
     "referenced_widgets": [
      "dde5268865f549d8a68000b6fe5877dd",
      "925185ce522e40aeb4a4fbb84e3c6677",
      "2ed3dd48a229422aba658ff95de9900b",
      "d2c23f1026e7441296faeba1b70679b1",
      "84c3252216d34b1ca474392eac0b87d8",
      "db8b6dcd72a94f48ad6a66d0432c186e",
      "dd1b602e6cd442f8939c74588dbf6f27",
      "d899dd45955e43788704bf8f844e6aad",
      "15daa15dce46497dbfccea3f63c105db",
      "947143ce66684604820f565190f1dd9d",
      "ffd968383eaa4ab6bd38c177b0a7a570",
      "d85672a1b26645d2ba68d6528b9febde",
      "e906794c6ed84846b3e39f1878f86ed9",
      "b44d638c00644f05bab6d6953b1c3bf6",
      "416f66f94f2340d3992110310d57e04a",
      "fd88466107254da98911a6bf83f4ed26",
      "110e019fb3374ac198fb3a3eeeca4a8f",
      "2a025135fef84a12ab2283fdd61d41bb",
      "2729be4b9d95425c885da22fc819f275",
      "5a48e2fc6f9443d5a89f9858df0d8f67",
      "c807299817324077986e502ac170cff4",
      "6fc8e59a3456497095f487370080a604",
      "94c06a5c876a4254aa3c65b79e76851c",
      "c7058ef539cd40a491f08f8889a2cfbc",
      "1ce80d3523e342f8a32a51baf2ce21ab",
      "2fde06fc27c2454683f71983818c6561",
      "5a2aad10e6dd4906b65469f5abd3fe89",
      "c6289e5132974d8c960b7e0ad2854ce5",
      "68275a9c05c34edfa7042bd8754e1531",
      "35385c338cc94901bc307651d2ce19b9",
      "1871a2b51a3749f38869a09c6f4db38b",
      "628731f9f0274a28a7f020b4ade40f25",
      "d94eaae504b14629ad7f39f61ad74d22",
      "b67ea4e0d3c44717b91b5560018b1675",
      "10eb531e762e452aad5a8fec4290cdb7",
      "5b844edfb7ba46e69f38efb71dce67a1",
      "3680fdd5ffbd42998cac1967faf52928",
      "73b4ec7b736648eb8201af1b7f8ae1b5",
      "ed7ada83e0cf4055ab62c0fbf036978e",
      "e0fce873b95c4e2bbd7acf1a40be61ae",
      "7c25fad1de6e47f9bd9df130face36d9",
      "054bfb370a9848f4819976be47f86196",
      "521813db6219461da26d103298476bfb",
      "75bfa707330941f8a75b5b51d3248f1b",
      "58e1206944cb4a3f96d84f79fa489c20",
      "b10e1c3495c94107968023c17c6cfb24",
      "c32bb1f8979a408799e2b54fdb0a475e",
      "d4fe877b69334519843eab594fedac34",
      "9c857f96c71d4e39b1d8ea883d8fc8de",
      "ab076d85e3c749c497d5c000b6b09481",
      "df715e3789dd41ff82cb198d7addcb12",
      "54c2443991e44b9b939043232479ca61",
      "30fdfb0024cb4c30a80be82351e8d6e0",
      "e4d0464927be4cfbb2847b380389ad74",
      "c954540b03e5449588f9ade1958db670",
      "80b9d25b165d4db0825cbf94829ddfab",
      "7f266533a11649f59306cb70d51f3d54",
      "bac81f254d514ba29a09aa3573312b8b",
      "d927f6d72f5b473f860d556631391fb6",
      "749630f54ac14e1aa79560df60e0eb11",
      "8292d9b0e31541c6ad4c24af189c73c3",
      "bf775f7d72a04c5384f1619189f10ca0",
      "85c6d3bce0cf4b5bbe08bb95a2688a3b",
      "b08422d72bf74a74aab7b2b81cb9085e",
      "a4d7eaad3794415eb5f59d918c7a6807",
      "35cb1b21bc534400a4d93f4d0b8da629"
     ]
    },
    "id": "90FfiBkJHmOV",
    "outputId": "cb7e21f8-8fb4-41ee-88c7-505d52280bf8"
   },
   "outputs": [
    {
     "name": "stderr",
     "output_type": "stream",
     "text": [
      "INFO:pytorch_lightning.utilities.rank_zero:💡 Tip: For seamless cloud uploads and versioning, try installing [litmodels](https://pypi.org/project/litmodels/) to enable LitModelCheckpoint, which syncs automatically with the Lightning model registry.\n",
      "INFO:pytorch_lightning.utilities.rank_zero:GPU available: False, used: False\n",
      "INFO:pytorch_lightning.utilities.rank_zero:TPU available: False, using: 0 TPU cores\n",
      "INFO:pytorch_lightning.utilities.rank_zero:HPU available: False, using: 0 HPUs\n",
      "INFO:pytorch_lightning.callbacks.model_summary:\n",
      "  | Name              | Type               | Params | Mode \n",
      "-----------------------------------------------------------------\n",
      "0 | model             | Model              | 379 K  | train\n",
      "1 | loss_fn           | CrossEntropyLoss   | 0      | train\n",
      "2 | train_accuracy    | MulticlassAccuracy | 0      | train\n",
      "3 | val_accuracy      | MulticlassAccuracy | 0      | train\n",
      "4 | train_f1          | MulticlassF1Score  | 0      | train\n",
      "5 | val_f1            | MulticlassF1Score  | 0      | train\n",
      "6 | test_accuracy     | MulticlassAccuracy | 0      | train\n",
      "7 | test_f1           | MulticlassF1Score  | 0      | train\n",
      "8 | test_f1_per_class | MulticlassF1Score  | 0      | train\n",
      "-----------------------------------------------------------------\n",
      "379 K     Trainable params\n",
      "0         Non-trainable params\n",
      "379 K     Total params\n",
      "1.518     Total estimated model params size (MB)\n",
      "61        Modules in train mode\n",
      "0         Modules in eval mode\n"
     ]
    },
    {
     "data": {
      "application/vnd.jupyter.widget-view+json": {
       "model_id": "dde5268865f549d8a68000b6fe5877dd",
       "version_major": 2,
       "version_minor": 0
      },
      "text/plain": [
       "Sanity Checking: |          | 0/? [00:00<?, ?it/s]"
      ]
     },
     "metadata": {},
     "output_type": "display_data"
    },
    {
     "data": {
      "application/vnd.jupyter.widget-view+json": {
       "model_id": "d85672a1b26645d2ba68d6528b9febde",
       "version_major": 2,
       "version_minor": 0
      },
      "text/plain": [
       "Training: |          | 0/? [00:00<?, ?it/s]"
      ]
     },
     "metadata": {},
     "output_type": "display_data"
    },
    {
     "data": {
      "application/vnd.jupyter.widget-view+json": {
       "model_id": "94c06a5c876a4254aa3c65b79e76851c",
       "version_major": 2,
       "version_minor": 0
      },
      "text/plain": [
       "Validation: |          | 0/? [00:00<?, ?it/s]"
      ]
     },
     "metadata": {},
     "output_type": "display_data"
    },
    {
     "data": {
      "application/vnd.jupyter.widget-view+json": {
       "model_id": "b67ea4e0d3c44717b91b5560018b1675",
       "version_major": 2,
       "version_minor": 0
      },
      "text/plain": [
       "Validation: |          | 0/? [00:00<?, ?it/s]"
      ]
     },
     "metadata": {},
     "output_type": "display_data"
    },
    {
     "data": {
      "application/vnd.jupyter.widget-view+json": {
       "model_id": "58e1206944cb4a3f96d84f79fa489c20",
       "version_major": 2,
       "version_minor": 0
      },
      "text/plain": [
       "Validation: |          | 0/? [00:00<?, ?it/s]"
      ]
     },
     "metadata": {},
     "output_type": "display_data"
    },
    {
     "name": "stderr",
     "output_type": "stream",
     "text": [
      "INFO:pytorch_lightning.utilities.rank_zero:`Trainer.fit` stopped: `max_epochs=3` reached.\n"
     ]
    },
    {
     "data": {
      "application/vnd.jupyter.widget-view+json": {
       "model_id": "80b9d25b165d4db0825cbf94829ddfab",
       "version_major": 2,
       "version_minor": 0
      },
      "text/plain": [
       "Testing: |          | 0/? [00:00<?, ?it/s]"
      ]
     },
     "metadata": {},
     "output_type": "display_data"
    },
    {
     "data": {
      "text/html": [
       "<pre style=\"white-space:pre;overflow-x:auto;line-height:normal;font-family:Menlo,'DejaVu Sans Mono',consolas,'Courier New',monospace\">┏━━━━━━━━━━━━━━━━━━━━━━━━━━━┳━━━━━━━━━━━━━━━━━━━━━━━━━━━┓\n",
       "┃<span style=\"font-weight: bold\">        Test metric        </span>┃<span style=\"font-weight: bold\">       DataLoader 0        </span>┃\n",
       "┡━━━━━━━━━━━━━━━━━━━━━━━━━━━╇━━━━━━━━━━━━━━━━━━━━━━━━━━━┩\n",
       "│<span style=\"color: #008080; text-decoration-color: #008080\">      -- test_acc --       </span>│<span style=\"color: #800080; text-decoration-color: #800080\">    0.40904977917671204    </span>│\n",
       "│<span style=\"color: #008080; text-decoration-color: #008080\">       -- test_f1 --       </span>│<span style=\"color: #800080; text-decoration-color: #800080\">    0.40904977917671204    </span>│\n",
       "│<span style=\"color: #008080; text-decoration-color: #008080\">      -- test_loss --      </span>│<span style=\"color: #800080; text-decoration-color: #800080\">    1.4293838739395142     </span>│\n",
       "│<span style=\"color: #008080; text-decoration-color: #008080\">      test_f1_class_0      </span>│<span style=\"color: #800080; text-decoration-color: #800080\">    0.0469798669219017     </span>│\n",
       "│<span style=\"color: #008080; text-decoration-color: #008080\">      test_f1_class_1      </span>│<span style=\"color: #800080; text-decoration-color: #800080\">    0.5430379509925842     </span>│\n",
       "│<span style=\"color: #008080; text-decoration-color: #008080\">      test_f1_class_2      </span>│<span style=\"color: #800080; text-decoration-color: #800080\">    0.23933975398540497    </span>│\n",
       "│<span style=\"color: #008080; text-decoration-color: #008080\">      test_f1_class_3      </span>│<span style=\"color: #800080; text-decoration-color: #800080\">    0.44390636682510376    </span>│\n",
       "│<span style=\"color: #008080; text-decoration-color: #008080\">      test_f1_class_4      </span>│<span style=\"color: #800080; text-decoration-color: #800080\">    0.3680555522441864     </span>│\n",
       "└───────────────────────────┴───────────────────────────┘\n",
       "</pre>\n"
      ],
      "text/plain": [
       "┏━━━━━━━━━━━━━━━━━━━━━━━━━━━┳━━━━━━━━━━━━━━━━━━━━━━━━━━━┓\n",
       "┃\u001b[1m \u001b[0m\u001b[1m       Test metric       \u001b[0m\u001b[1m \u001b[0m┃\u001b[1m \u001b[0m\u001b[1m      DataLoader 0       \u001b[0m\u001b[1m \u001b[0m┃\n",
       "┡━━━━━━━━━━━━━━━━━━━━━━━━━━━╇━━━━━━━━━━━━━━━━━━━━━━━━━━━┩\n",
       "│\u001b[36m \u001b[0m\u001b[36m     -- test_acc --      \u001b[0m\u001b[36m \u001b[0m│\u001b[35m \u001b[0m\u001b[35m   0.40904977917671204   \u001b[0m\u001b[35m \u001b[0m│\n",
       "│\u001b[36m \u001b[0m\u001b[36m      -- test_f1 --      \u001b[0m\u001b[36m \u001b[0m│\u001b[35m \u001b[0m\u001b[35m   0.40904977917671204   \u001b[0m\u001b[35m \u001b[0m│\n",
       "│\u001b[36m \u001b[0m\u001b[36m     -- test_loss --     \u001b[0m\u001b[36m \u001b[0m│\u001b[35m \u001b[0m\u001b[35m   1.4293838739395142    \u001b[0m\u001b[35m \u001b[0m│\n",
       "│\u001b[36m \u001b[0m\u001b[36m     test_f1_class_0     \u001b[0m\u001b[36m \u001b[0m│\u001b[35m \u001b[0m\u001b[35m   0.0469798669219017    \u001b[0m\u001b[35m \u001b[0m│\n",
       "│\u001b[36m \u001b[0m\u001b[36m     test_f1_class_1     \u001b[0m\u001b[36m \u001b[0m│\u001b[35m \u001b[0m\u001b[35m   0.5430379509925842    \u001b[0m\u001b[35m \u001b[0m│\n",
       "│\u001b[36m \u001b[0m\u001b[36m     test_f1_class_2     \u001b[0m\u001b[36m \u001b[0m│\u001b[35m \u001b[0m\u001b[35m   0.23933975398540497   \u001b[0m\u001b[35m \u001b[0m│\n",
       "│\u001b[36m \u001b[0m\u001b[36m     test_f1_class_3     \u001b[0m\u001b[36m \u001b[0m│\u001b[35m \u001b[0m\u001b[35m   0.44390636682510376   \u001b[0m\u001b[35m \u001b[0m│\n",
       "│\u001b[36m \u001b[0m\u001b[36m     test_f1_class_4     \u001b[0m\u001b[36m \u001b[0m│\u001b[35m \u001b[0m\u001b[35m   0.3680555522441864    \u001b[0m\u001b[35m \u001b[0m│\n",
       "└───────────────────────────┴───────────────────────────┘\n"
      ]
     },
     "metadata": {},
     "output_type": "display_data"
    }
   ],
   "source": [
    "tuples = [(conv_Attention,None),(conv_Attention,conv_lin_ffn),(gru_Attention,lin_gelu_ffn)]\n",
    "model, _ = train_model(num_labels=5,\n",
    "                hidden_dim=12,\n",
    "                max_leng=60,\n",
    "                attn_ffn_tuples=tuples,\n",
    "                ffn_dim=24,\n",
    "                batch_size=16,\n",
    "                num_repeat_modules=2,\n",
    "                train_data=sst_train,\n",
    "                val_data=sst_test,\n",
    "                test_data=sst_test,\n",
    "                max_epochs=3)"
   ]
  },
  {
   "cell_type": "code",
   "execution_count": null,
   "metadata": {
    "colab": {
     "base_uri": "https://localhost:8080/",
     "height": 1000,
     "referenced_widgets": [
      "a8cc43ab6ea64d0f8d168a612b58f2f6",
      "9b2b1125b0224dc3bfc72bfe4c1cd937",
      "ca67941c337c4facbd98b9637c8d7e96",
      "6a4d85b4c97642e4ac6ee1219cae9a03",
      "9cd7931d90904dd0a9532f804557c6fd",
      "211b2961e0b243f2a15e480c3a20e46c",
      "d237b416c404423a83a8ebba8c922738",
      "cf3635a9cc004d8d9007c0238239b489",
      "efaaf1defcc44f2a91e7210d60feb63c",
      "e4686edefb084b6389e0a9ad08de0c90",
      "676dc5ab8c71451798cd2ca1b260c05d",
      "91619d103e5d40d4aeed8c4acf6e708c",
      "9a4a45f7eb5c4cb8b3370e0140b2e904",
      "2a611c8409e44c9e9087875c01298d00",
      "17d2fcda026b4840b06f8ab5233bf63d",
      "a238b77b5a944a6897654a003f7f2fe3",
      "d84d88aaa2d948a7be5e8347e9e11e93",
      "1ae1aa7b02d341fbbfb86f6594cebfa7",
      "1ec1dc6506ab405895e7fa5f3584f824",
      "689d42992936461bbec4747067bf329b",
      "890916d4cc434e5d9bde30337cc2ded6",
      "73b0c998c6e2409ab39b75df07df4657",
      "76ff2397ddfb4a38b02dde542a0a0776",
      "6b46da9b0662487fb3296940e54393e8",
      "015fc2734d324bdd94d6e07492fca0c2",
      "1ffba8b4487047f1a7edf56c1c7d5b48",
      "a02e259f31d14ad29a13cc60a37829a0",
      "985ed620fc95458e8fddf455e1670566",
      "da6fa3908d7a4270b8264a0e0e37f4d4",
      "82aa8a8e88944670b1dde5cb63284b68",
      "8f061a1244da406e84ee1c73dd1a73eb",
      "0b443b24f5864c5699e7786bbd748ea6",
      "42dd323e29d44a88bb215517ac4c77a4",
      "e7a02ac82a2941f9baba3312ccceacad",
      "aa5dbac559d94e8098eb3d96e59a08e1",
      "f4459594e1ce415b9b9019be5b447335",
      "22388411aab5459f83ac1f896790bfc0",
      "7a40bbb68e1d45fdbb23488a9a0b287d",
      "07ab0f1d299d42ed9cb7e68a153c9363",
      "e511b7bf5e0b40dfa387e03dceaa27c9",
      "a41d83c528c8413692856a0904dc609e",
      "0ea59883b4f34bb7a515956dbe18e3e3",
      "2a8447a7ef2c4a5c9f916271164c0b5d",
      "4bed9aa6bf644948959d79044df66b76",
      "d5a3e66f7fd042698ad4e5471441b7d1",
      "326f3d7f3022402795d37cda5dfb8dc8",
      "a7152106a37e47eb86f994c0de244054",
      "78ec9ac375be4869ba796a6f6ed883dd",
      "4ed09246ee1446d88027b07873d9079c",
      "700be771c49542db86136e90c1c80065",
      "98b8eae82efd4a619c2685c8854cdd63",
      "03da4a4b43a544d8a77ec751ca5cf119",
      "718404eb7f334050a11311462db09287",
      "d76999c4bbe94096af828da02de91b35",
      "698b0715261f416ab868291317aae713",
      "0353f098ecdf4262863ff702c2ab9fa2",
      "04783f70e117468291fca82f49fa6a23",
      "b6d743460560448f8900ea413946c575",
      "3c97c77d6dc74d6e88af9992d02ec1f7",
      "01279c2888e64ea0885887b3a87bb8bf",
      "1f166229e89d4ef7953284f75959d1ac",
      "5cdb118441564ab98ee0bf9ad9f23f71",
      "4f26b7bf3f504ec9af65e7f2212e1a41",
      "bbdab6328ac7449a93088394547a52b2",
      "590f4f4699a74237ac60e72d273ac726",
      "dced0c2a60b44ef2909a882513e0cb3f",
      "00f37d210221400e8cc32893f8035b4f",
      "2d01ae9370b2466b85f234ed8fd55614",
      "7ec5f628ca48464e9c19eb2dad6207aa",
      "8e6c5f8753724e4e83c738d56d85ea78",
      "3a4e0e53c6f9415db1704fa81785d0b0",
      "4ad940b87fc04a3bacd15fc481e957e2",
      "cbbebc639e0346d7b9d744677365d7f2",
      "3b89edae500142b0aa5ca30c2af5caa6",
      "ec34f931f80d4e879898e39af9fbe9c9",
      "20d70ea325d14cd4821093b9c4db03b8",
      "d58232019c794f2c801c174cdbbec653"
     ]
    },
    "collapsed": true,
    "id": "WFlrNoxyfIni",
    "jupyter": {
     "outputs_hidden": true
    },
    "outputId": "0f09c96d-d7d3-4bac-d084-12774549fe41"
   },
   "outputs": [
    {
     "name": "stderr",
     "output_type": "stream",
     "text": [
      "INFO:pytorch_lightning.utilities.rank_zero:💡 Tip: For seamless cloud uploads and versioning, try installing [litmodels](https://pypi.org/project/litmodels/) to enable LitModelCheckpoint, which syncs automatically with the Lightning model registry.\n",
      "INFO:pytorch_lightning.utilities.rank_zero:GPU available: True (cuda), used: True\n",
      "INFO:pytorch_lightning.utilities.rank_zero:TPU available: False, using: 0 TPU cores\n",
      "INFO:pytorch_lightning.utilities.rank_zero:HPU available: False, using: 0 HPUs\n",
      "/usr/local/lib/python3.12/dist-packages/pytorch_lightning/callbacks/model_checkpoint.py:751: Checkpoint directory /content/checkpoints exists and is not empty.\n",
      "INFO:pytorch_lightning.accelerators.cuda:LOCAL_RANK: 0 - CUDA_VISIBLE_DEVICES: [0]\n",
      "INFO:pytorch_lightning.callbacks.model_summary:\n",
      "  | Name              | Type               | Params | Mode \n",
      "-----------------------------------------------------------------\n",
      "0 | model             | Model              | 509 K  | train\n",
      "1 | loss_fn           | CrossEntropyLoss   | 0      | train\n",
      "2 | train_accuracy    | MulticlassAccuracy | 0      | train\n",
      "3 | val_accuracy      | MulticlassAccuracy | 0      | train\n",
      "4 | train_f1          | MulticlassF1Score  | 0      | train\n",
      "5 | val_f1            | MulticlassF1Score  | 0      | train\n",
      "6 | test_accuracy     | MulticlassAccuracy | 0      | train\n",
      "7 | test_f1           | MulticlassF1Score  | 0      | train\n",
      "8 | test_f1_per_class | MulticlassF1Score  | 0      | train\n",
      "-----------------------------------------------------------------\n",
      "509 K     Trainable params\n",
      "0         Non-trainable params\n",
      "509 K     Total params\n",
      "2.037     Total estimated model params size (MB)\n",
      "61        Modules in train mode\n",
      "0         Modules in eval mode\n"
     ]
    },
    {
     "data": {
      "application/vnd.jupyter.widget-view+json": {
       "model_id": "a8cc43ab6ea64d0f8d168a612b58f2f6",
       "version_major": 2,
       "version_minor": 0
      },
      "text/plain": [
       "Sanity Checking: |          | 0/? [00:00<?, ?it/s]"
      ]
     },
     "metadata": {},
     "output_type": "display_data"
    },
    {
     "data": {
      "application/vnd.jupyter.widget-view+json": {
       "model_id": "91619d103e5d40d4aeed8c4acf6e708c",
       "version_major": 2,
       "version_minor": 0
      },
      "text/plain": [
       "Training: |          | 0/? [00:00<?, ?it/s]"
      ]
     },
     "metadata": {},
     "output_type": "display_data"
    },
    {
     "data": {
      "application/vnd.jupyter.widget-view+json": {
       "model_id": "76ff2397ddfb4a38b02dde542a0a0776",
       "version_major": 2,
       "version_minor": 0
      },
      "text/plain": [
       "Validation: |          | 0/? [00:00<?, ?it/s]"
      ]
     },
     "metadata": {},
     "output_type": "display_data"
    },
    {
     "data": {
      "application/vnd.jupyter.widget-view+json": {
       "model_id": "e7a02ac82a2941f9baba3312ccceacad",
       "version_major": 2,
       "version_minor": 0
      },
      "text/plain": [
       "Validation: |          | 0/? [00:00<?, ?it/s]"
      ]
     },
     "metadata": {},
     "output_type": "display_data"
    },
    {
     "data": {
      "application/vnd.jupyter.widget-view+json": {
       "model_id": "d5a3e66f7fd042698ad4e5471441b7d1",
       "version_major": 2,
       "version_minor": 0
      },
      "text/plain": [
       "Validation: |          | 0/? [00:00<?, ?it/s]"
      ]
     },
     "metadata": {},
     "output_type": "display_data"
    },
    {
     "data": {
      "application/vnd.jupyter.widget-view+json": {
       "model_id": "0353f098ecdf4262863ff702c2ab9fa2",
       "version_major": 2,
       "version_minor": 0
      },
      "text/plain": [
       "Validation: |          | 0/? [00:00<?, ?it/s]"
      ]
     },
     "metadata": {},
     "output_type": "display_data"
    },
    {
     "name": "stderr",
     "output_type": "stream",
     "text": [
      "INFO:pytorch_lightning.utilities.rank_zero:`Trainer.fit` stopped: `max_epochs=4` reached.\n",
      "INFO:pytorch_lightning.accelerators.cuda:LOCAL_RANK: 0 - CUDA_VISIBLE_DEVICES: [0]\n"
     ]
    },
    {
     "data": {
      "application/vnd.jupyter.widget-view+json": {
       "model_id": "00f37d210221400e8cc32893f8035b4f",
       "version_major": 2,
       "version_minor": 0
      },
      "text/plain": [
       "Testing: |          | 0/? [00:00<?, ?it/s]"
      ]
     },
     "metadata": {},
     "output_type": "display_data"
    },
    {
     "data": {
      "text/html": [
       "<pre style=\"white-space:pre;overflow-x:auto;line-height:normal;font-family:Menlo,'DejaVu Sans Mono',consolas,'Courier New',monospace\">┏━━━━━━━━━━━━━━━━━━━━━━━━━━━┳━━━━━━━━━━━━━━━━━━━━━━━━━━━┓\n",
       "┃<span style=\"font-weight: bold\">        Test metric        </span>┃<span style=\"font-weight: bold\">       DataLoader 0        </span>┃\n",
       "┡━━━━━━━━━━━━━━━━━━━━━━━━━━━╇━━━━━━━━━━━━━━━━━━━━━━━━━━━┩\n",
       "│<span style=\"color: #008080; text-decoration-color: #008080\">      -- test_acc --       </span>│<span style=\"color: #800080; text-decoration-color: #800080\">    0.2964800000190735     </span>│\n",
       "│<span style=\"color: #008080; text-decoration-color: #008080\">       -- test_f1 --       </span>│<span style=\"color: #800080; text-decoration-color: #800080\">    0.2964800000190735     </span>│\n",
       "│<span style=\"color: #008080; text-decoration-color: #008080\">      -- test_loss --      </span>│<span style=\"color: #800080; text-decoration-color: #800080\">    2.5512807369232178     </span>│\n",
       "│<span style=\"color: #008080; text-decoration-color: #008080\">      test_f1_class_0      </span>│<span style=\"color: #800080; text-decoration-color: #800080\">    0.43967124819755554    </span>│\n",
       "│<span style=\"color: #008080; text-decoration-color: #008080\">      test_f1_class_1      </span>│<span style=\"color: #800080; text-decoration-color: #800080\">    0.15866129100322723    </span>│\n",
       "│<span style=\"color: #008080; text-decoration-color: #008080\">     test_f1_class_10      </span>│<span style=\"color: #800080; text-decoration-color: #800080\">    0.3428892493247986     </span>│\n",
       "│<span style=\"color: #008080; text-decoration-color: #008080\">     test_f1_class_11      </span>│<span style=\"color: #800080; text-decoration-color: #800080\">    0.4580000042915344     </span>│\n",
       "│<span style=\"color: #008080; text-decoration-color: #008080\">     test_f1_class_12      </span>│<span style=\"color: #800080; text-decoration-color: #800080\">    0.29192546010017395    </span>│\n",
       "│<span style=\"color: #008080; text-decoration-color: #008080\">     test_f1_class_13      </span>│<span style=\"color: #800080; text-decoration-color: #800080\">            0.0            </span>│\n",
       "│<span style=\"color: #008080; text-decoration-color: #008080\">     test_f1_class_14      </span>│<span style=\"color: #800080; text-decoration-color: #800080\">   0.017004577443003654    </span>│\n",
       "│<span style=\"color: #008080; text-decoration-color: #008080\">     test_f1_class_15      </span>│<span style=\"color: #800080; text-decoration-color: #800080\">   0.007830853573977947    </span>│\n",
       "│<span style=\"color: #008080; text-decoration-color: #008080\">     test_f1_class_16      </span>│<span style=\"color: #800080; text-decoration-color: #800080\">            0.0            </span>│\n",
       "│<span style=\"color: #008080; text-decoration-color: #008080\">     test_f1_class_17      </span>│<span style=\"color: #800080; text-decoration-color: #800080\">    0.6001644134521484     </span>│\n",
       "│<span style=\"color: #008080; text-decoration-color: #008080\">     test_f1_class_18      </span>│<span style=\"color: #800080; text-decoration-color: #800080\">    0.09200283139944077    </span>│\n",
       "│<span style=\"color: #008080; text-decoration-color: #008080\">     test_f1_class_19      </span>│<span style=\"color: #800080; text-decoration-color: #800080\">   0.005240174476057291    </span>│\n",
       "│<span style=\"color: #008080; text-decoration-color: #008080\">      test_f1_class_2      </span>│<span style=\"color: #800080; text-decoration-color: #800080\">    0.32866305112838745    </span>│\n",
       "│<span style=\"color: #008080; text-decoration-color: #008080\">      test_f1_class_3      </span>│<span style=\"color: #800080; text-decoration-color: #800080\">   0.0015308074653148651   </span>│\n",
       "│<span style=\"color: #008080; text-decoration-color: #008080\">      test_f1_class_4      </span>│<span style=\"color: #800080; text-decoration-color: #800080\">    0.35183316469192505    </span>│\n",
       "│<span style=\"color: #008080; text-decoration-color: #008080\">      test_f1_class_5      </span>│<span style=\"color: #800080; text-decoration-color: #800080\">    0.0677146315574646     </span>│\n",
       "│<span style=\"color: #008080; text-decoration-color: #008080\">      test_f1_class_6      </span>│<span style=\"color: #800080; text-decoration-color: #800080\">    0.09471556544303894    </span>│\n",
       "│<span style=\"color: #008080; text-decoration-color: #008080\">      test_f1_class_7      </span>│<span style=\"color: #800080; text-decoration-color: #800080\">    0.1620788425207138     </span>│\n",
       "│<span style=\"color: #008080; text-decoration-color: #008080\">      test_f1_class_8      </span>│<span style=\"color: #800080; text-decoration-color: #800080\">            0.0            </span>│\n",
       "│<span style=\"color: #008080; text-decoration-color: #008080\">      test_f1_class_9      </span>│<span style=\"color: #800080; text-decoration-color: #800080\">   0.003338898066431284    </span>│\n",
       "└───────────────────────────┴───────────────────────────┘\n",
       "</pre>\n"
      ],
      "text/plain": [
       "┏━━━━━━━━━━━━━━━━━━━━━━━━━━━┳━━━━━━━━━━━━━━━━━━━━━━━━━━━┓\n",
       "┃\u001b[1m \u001b[0m\u001b[1m       Test metric       \u001b[0m\u001b[1m \u001b[0m┃\u001b[1m \u001b[0m\u001b[1m      DataLoader 0       \u001b[0m\u001b[1m \u001b[0m┃\n",
       "┡━━━━━━━━━━━━━━━━━━━━━━━━━━━╇━━━━━━━━━━━━━━━━━━━━━━━━━━━┩\n",
       "│\u001b[36m \u001b[0m\u001b[36m     -- test_acc --      \u001b[0m\u001b[36m \u001b[0m│\u001b[35m \u001b[0m\u001b[35m   0.2964800000190735    \u001b[0m\u001b[35m \u001b[0m│\n",
       "│\u001b[36m \u001b[0m\u001b[36m      -- test_f1 --      \u001b[0m\u001b[36m \u001b[0m│\u001b[35m \u001b[0m\u001b[35m   0.2964800000190735    \u001b[0m\u001b[35m \u001b[0m│\n",
       "│\u001b[36m \u001b[0m\u001b[36m     -- test_loss --     \u001b[0m\u001b[36m \u001b[0m│\u001b[35m \u001b[0m\u001b[35m   2.5512807369232178    \u001b[0m\u001b[35m \u001b[0m│\n",
       "│\u001b[36m \u001b[0m\u001b[36m     test_f1_class_0     \u001b[0m\u001b[36m \u001b[0m│\u001b[35m \u001b[0m\u001b[35m   0.43967124819755554   \u001b[0m\u001b[35m \u001b[0m│\n",
       "│\u001b[36m \u001b[0m\u001b[36m     test_f1_class_1     \u001b[0m\u001b[36m \u001b[0m│\u001b[35m \u001b[0m\u001b[35m   0.15866129100322723   \u001b[0m\u001b[35m \u001b[0m│\n",
       "│\u001b[36m \u001b[0m\u001b[36m    test_f1_class_10     \u001b[0m\u001b[36m \u001b[0m│\u001b[35m \u001b[0m\u001b[35m   0.3428892493247986    \u001b[0m\u001b[35m \u001b[0m│\n",
       "│\u001b[36m \u001b[0m\u001b[36m    test_f1_class_11     \u001b[0m\u001b[36m \u001b[0m│\u001b[35m \u001b[0m\u001b[35m   0.4580000042915344    \u001b[0m\u001b[35m \u001b[0m│\n",
       "│\u001b[36m \u001b[0m\u001b[36m    test_f1_class_12     \u001b[0m\u001b[36m \u001b[0m│\u001b[35m \u001b[0m\u001b[35m   0.29192546010017395   \u001b[0m\u001b[35m \u001b[0m│\n",
       "│\u001b[36m \u001b[0m\u001b[36m    test_f1_class_13     \u001b[0m\u001b[36m \u001b[0m│\u001b[35m \u001b[0m\u001b[35m           0.0           \u001b[0m\u001b[35m \u001b[0m│\n",
       "│\u001b[36m \u001b[0m\u001b[36m    test_f1_class_14     \u001b[0m\u001b[36m \u001b[0m│\u001b[35m \u001b[0m\u001b[35m  0.017004577443003654   \u001b[0m\u001b[35m \u001b[0m│\n",
       "│\u001b[36m \u001b[0m\u001b[36m    test_f1_class_15     \u001b[0m\u001b[36m \u001b[0m│\u001b[35m \u001b[0m\u001b[35m  0.007830853573977947   \u001b[0m\u001b[35m \u001b[0m│\n",
       "│\u001b[36m \u001b[0m\u001b[36m    test_f1_class_16     \u001b[0m\u001b[36m \u001b[0m│\u001b[35m \u001b[0m\u001b[35m           0.0           \u001b[0m\u001b[35m \u001b[0m│\n",
       "│\u001b[36m \u001b[0m\u001b[36m    test_f1_class_17     \u001b[0m\u001b[36m \u001b[0m│\u001b[35m \u001b[0m\u001b[35m   0.6001644134521484    \u001b[0m\u001b[35m \u001b[0m│\n",
       "│\u001b[36m \u001b[0m\u001b[36m    test_f1_class_18     \u001b[0m\u001b[36m \u001b[0m│\u001b[35m \u001b[0m\u001b[35m   0.09200283139944077   \u001b[0m\u001b[35m \u001b[0m│\n",
       "│\u001b[36m \u001b[0m\u001b[36m    test_f1_class_19     \u001b[0m\u001b[36m \u001b[0m│\u001b[35m \u001b[0m\u001b[35m  0.005240174476057291   \u001b[0m\u001b[35m \u001b[0m│\n",
       "│\u001b[36m \u001b[0m\u001b[36m     test_f1_class_2     \u001b[0m\u001b[36m \u001b[0m│\u001b[35m \u001b[0m\u001b[35m   0.32866305112838745   \u001b[0m\u001b[35m \u001b[0m│\n",
       "│\u001b[36m \u001b[0m\u001b[36m     test_f1_class_3     \u001b[0m\u001b[36m \u001b[0m│\u001b[35m \u001b[0m\u001b[35m  0.0015308074653148651  \u001b[0m\u001b[35m \u001b[0m│\n",
       "│\u001b[36m \u001b[0m\u001b[36m     test_f1_class_4     \u001b[0m\u001b[36m \u001b[0m│\u001b[35m \u001b[0m\u001b[35m   0.35183316469192505   \u001b[0m\u001b[35m \u001b[0m│\n",
       "│\u001b[36m \u001b[0m\u001b[36m     test_f1_class_5     \u001b[0m\u001b[36m \u001b[0m│\u001b[35m \u001b[0m\u001b[35m   0.0677146315574646    \u001b[0m\u001b[35m \u001b[0m│\n",
       "│\u001b[36m \u001b[0m\u001b[36m     test_f1_class_6     \u001b[0m\u001b[36m \u001b[0m│\u001b[35m \u001b[0m\u001b[35m   0.09471556544303894   \u001b[0m\u001b[35m \u001b[0m│\n",
       "│\u001b[36m \u001b[0m\u001b[36m     test_f1_class_7     \u001b[0m\u001b[36m \u001b[0m│\u001b[35m \u001b[0m\u001b[35m   0.1620788425207138    \u001b[0m\u001b[35m \u001b[0m│\n",
       "│\u001b[36m \u001b[0m\u001b[36m     test_f1_class_8     \u001b[0m\u001b[36m \u001b[0m│\u001b[35m \u001b[0m\u001b[35m           0.0           \u001b[0m\u001b[35m \u001b[0m│\n",
       "│\u001b[36m \u001b[0m\u001b[36m     test_f1_class_9     \u001b[0m\u001b[36m \u001b[0m│\u001b[35m \u001b[0m\u001b[35m  0.003338898066431284   \u001b[0m\u001b[35m \u001b[0m│\n",
       "└───────────────────────────┴───────────────────────────┘\n"
      ]
     },
     "metadata": {},
     "output_type": "display_data"
    }
   ],
   "source": [
    "tuples = [(conv_Attention,None),(gru_Attention_2,conv_lin_ffn),(gru_Attention,lin_gelu_ffn)]\n",
    "model, _ = train_model(num_labels=20,\n",
    "                hidden_dim=16,\n",
    "                max_leng=40,\n",
    "                attn_ffn_tuples=tuples,\n",
    "                ffn_dim=24,\n",
    "                batch_size=16,\n",
    "                       lr = 1e-3,\n",
    "                num_repeat_modules=2,\n",
    "                train_data=train_dataset,\n",
    "                val_data=val_dataset,\n",
    "                test_data=test_dataset,\n",
    "                max_epochs=4)"
   ]
  },
  {
   "cell_type": "code",
   "execution_count": null,
   "metadata": {
    "colab": {
     "base_uri": "https://localhost:8080/",
     "height": 1000,
     "referenced_widgets": [
      "19de74770b5c44e987588660a3544eb8",
      "576de64781724ceba00d5f9ed29e1758",
      "5d00a9a98bc9489c84d28544eea85a3c",
      "5b4526f3c0fc45e98bb46810b8df2eca",
      "1be738e27a184fa8af9065856ea0d74e",
      "227f0cf7826e4be6ae4b210be1c1da5d",
      "0c2f5e8bdf6946d6a0534aa8244c2d89",
      "a48169234e784004aa692817ce151659",
      "9f969433db804056adcbcd490f183bcf",
      "5d7f8799c7ea452cb12177b10b5796f7",
      "597d6cb5d03d4f19b34d4adc4c93a248",
      "93a5c6acb4d9404a922fbf31e4320fdf",
      "28d9b8a92ad6454cac6e804f20c5833d",
      "f7b1af46a9a545b89087b8fc57694fb2",
      "c627343248fa459da9e8987d404c0193",
      "38983e6114cd4a1b95763766cac99306",
      "3a15d5e34a00411ab056dbd20b64f80e",
      "d7273bef491c49fbab2dfae44a4c8243",
      "5f9424d35c774e3aba75b3dc4f6009ef",
      "d5863dbc66c34f80a80e025854b29393",
      "c7fa0ec4a049440e94f7f675743b093a",
      "8173e0fa2e274814a6841981871ceb1a",
      "3976c0bcd28449e9aa84363cff54ecc3",
      "24e931cc6cfa4c39ad0f17a443fd220b",
      "65863a1e3e57431bbc36e3d577f79cab",
      "6f4948ad19e24c9b9cab855fca01dd4a",
      "931d52f209ca4176aa2afb89cea8ad16",
      "015ba4d2115146888ffd6156c8f92c4e",
      "5a1de29442e040c08b0a0a58da66f9d0",
      "8ba8d67ac10a4dfba3e3f330da64888a",
      "cc97d2555fba49979ae3581cbe06853a",
      "0fcd2d99a05843f588e8b8ee4b907938",
      "6f559bf8a6634196a067465d66833525",
      "5c1f9a544003427b81b3a4cfbfb78a91",
      "09d18a07fa5d4bb79691c2f165426d65",
      "e35fce87911f4e99af61898f0238033f",
      "ebf8c64d18da462b824fbd4ff9bfd1a3",
      "32e12767ca954c2f99fec412b30c5b3c",
      "9a419ee32f634f5a84b3c5845df93774",
      "55173325806240108b61986f638b1a3a",
      "b1e6607984484268bc291d28e9f3c9c3",
      "86a0e370807e46958488ec7dc2979b1a",
      "33e658c835e7471293c9d1d21a0263a2",
      "71f9bd282ac941b2ab1a7d080457a0a1",
      "a0cc18374e884c3a98537fa6ce331f46",
      "7d4992868f4844ccb576f00f70f99383",
      "f49bf782d7aa4eae829bd110f7f4a536",
      "bcf48a97d60640a6b9a3260eae5bc54a",
      "3cfebb02fbac4cd1b36bbe8d9dd1f5b9",
      "92a6d2a1b9744cf3b5c437990c14c9e3",
      "9fb65cdb7ee6400b9ec9f899b494d848",
      "05f3893a9d6d4e33a4d1529e07cf2817",
      "ea6c524ab83547fba4d343782c6e8f57",
      "7d1a3d3a8c7b46bc9c34a21b4f6a383c",
      "a60a1550844c446ca96d45cbdfe1df26",
      "7abef7f41cb04439a9f823c8434fc2ad",
      "32ff85650064457c8ed386c044917b41",
      "09ba3171c2364b17a671262aef3eaec7",
      "fed674f2519a4be29fb66ee3ddf5d83f",
      "447d7b2ea3524b99bf2013e92b42a1bd",
      "573a0cd576484f0ca0e220b94c988869",
      "edc8ea1972564adcaa1f78edbd7ef688",
      "382464b986f641d69b89563a55bb11f2",
      "64f77c887ef44a278a608a37636fda9d",
      "359b509907fb4da88157cb09bb5bb9e5",
      "2f0d46c0d3164383ba005ef1181a0204",
      "002d11fab0cc4444bd5a7b0cd05429c3",
      "e0519df372da4747947c9f78aa814005",
      "c7c58213ea1d4b4894745bb9b0d2cad3",
      "31df3ba92d5546bea55acadcdae3c202",
      "c35623a76886414d941bb2257e5a4d5a",
      "0f2e0bac8d3941938709fc0a9880e30f",
      "f82d307033bb4552999b374b773baeb9",
      "f599fb930e0542da9addeb67db9c23ec",
      "071ba7d40ae446e784a35d0220c813f3",
      "d3f440e7fbdf4ace91d208e7e87ab4e8",
      "7305e7888f3a4ef19c69df4340753fe3"
     ]
    },
    "collapsed": true,
    "id": "nQ35VMnCh8Oo",
    "jupyter": {
     "outputs_hidden": true
    },
    "outputId": "13eab260-2c99-4673-a2f3-1f52a6fb6bbd"
   },
   "outputs": [
    {
     "name": "stderr",
     "output_type": "stream",
     "text": [
      "INFO:pytorch_lightning.utilities.rank_zero:💡 Tip: For seamless cloud uploads and versioning, try installing [litmodels](https://pypi.org/project/litmodels/) to enable LitModelCheckpoint, which syncs automatically with the Lightning model registry.\n",
      "INFO:pytorch_lightning.utilities.rank_zero:GPU available: True (cuda), used: True\n",
      "INFO:pytorch_lightning.utilities.rank_zero:TPU available: False, using: 0 TPU cores\n",
      "INFO:pytorch_lightning.utilities.rank_zero:HPU available: False, using: 0 HPUs\n",
      "INFO:pytorch_lightning.accelerators.cuda:LOCAL_RANK: 0 - CUDA_VISIBLE_DEVICES: [0]\n",
      "INFO:pytorch_lightning.callbacks.model_summary:\n",
      "  | Name              | Type               | Params | Mode \n",
      "-----------------------------------------------------------------\n",
      "0 | model             | Model              | 500 K  | train\n",
      "1 | loss_fn           | CrossEntropyLoss   | 0      | train\n",
      "2 | train_accuracy    | MulticlassAccuracy | 0      | train\n",
      "3 | val_accuracy      | MulticlassAccuracy | 0      | train\n",
      "4 | train_f1          | MulticlassF1Score  | 0      | train\n",
      "5 | val_f1            | MulticlassF1Score  | 0      | train\n",
      "6 | test_accuracy     | MulticlassAccuracy | 0      | train\n",
      "7 | test_f1           | MulticlassF1Score  | 0      | train\n",
      "8 | test_f1_per_class | MulticlassF1Score  | 0      | train\n",
      "-----------------------------------------------------------------\n",
      "500 K     Trainable params\n",
      "0         Non-trainable params\n",
      "500 K     Total params\n",
      "2.003     Total estimated model params size (MB)\n",
      "45        Modules in train mode\n",
      "0         Modules in eval mode\n"
     ]
    },
    {
     "data": {
      "application/vnd.jupyter.widget-view+json": {
       "model_id": "19de74770b5c44e987588660a3544eb8",
       "version_major": 2,
       "version_minor": 0
      },
      "text/plain": [
       "Sanity Checking: |          | 0/? [00:00<?, ?it/s]"
      ]
     },
     "metadata": {},
     "output_type": "display_data"
    },
    {
     "data": {
      "application/vnd.jupyter.widget-view+json": {
       "model_id": "93a5c6acb4d9404a922fbf31e4320fdf",
       "version_major": 2,
       "version_minor": 0
      },
      "text/plain": [
       "Training: |          | 0/? [00:00<?, ?it/s]"
      ]
     },
     "metadata": {},
     "output_type": "display_data"
    },
    {
     "data": {
      "application/vnd.jupyter.widget-view+json": {
       "model_id": "3976c0bcd28449e9aa84363cff54ecc3",
       "version_major": 2,
       "version_minor": 0
      },
      "text/plain": [
       "Validation: |          | 0/? [00:00<?, ?it/s]"
      ]
     },
     "metadata": {},
     "output_type": "display_data"
    },
    {
     "data": {
      "application/vnd.jupyter.widget-view+json": {
       "model_id": "5c1f9a544003427b81b3a4cfbfb78a91",
       "version_major": 2,
       "version_minor": 0
      },
      "text/plain": [
       "Validation: |          | 0/? [00:00<?, ?it/s]"
      ]
     },
     "metadata": {},
     "output_type": "display_data"
    },
    {
     "data": {
      "application/vnd.jupyter.widget-view+json": {
       "model_id": "a0cc18374e884c3a98537fa6ce331f46",
       "version_major": 2,
       "version_minor": 0
      },
      "text/plain": [
       "Validation: |          | 0/? [00:00<?, ?it/s]"
      ]
     },
     "metadata": {},
     "output_type": "display_data"
    },
    {
     "data": {
      "application/vnd.jupyter.widget-view+json": {
       "model_id": "7abef7f41cb04439a9f823c8434fc2ad",
       "version_major": 2,
       "version_minor": 0
      },
      "text/plain": [
       "Validation: |          | 0/? [00:00<?, ?it/s]"
      ]
     },
     "metadata": {},
     "output_type": "display_data"
    },
    {
     "name": "stderr",
     "output_type": "stream",
     "text": [
      "INFO:pytorch_lightning.utilities.rank_zero:`Trainer.fit` stopped: `max_epochs=4` reached.\n",
      "INFO:pytorch_lightning.accelerators.cuda:LOCAL_RANK: 0 - CUDA_VISIBLE_DEVICES: [0]\n"
     ]
    },
    {
     "data": {
      "application/vnd.jupyter.widget-view+json": {
       "model_id": "002d11fab0cc4444bd5a7b0cd05429c3",
       "version_major": 2,
       "version_minor": 0
      },
      "text/plain": [
       "Testing: |          | 0/? [00:00<?, ?it/s]"
      ]
     },
     "metadata": {},
     "output_type": "display_data"
    },
    {
     "data": {
      "text/html": [
       "<pre style=\"white-space:pre;overflow-x:auto;line-height:normal;font-family:Menlo,'DejaVu Sans Mono',consolas,'Courier New',monospace\">┏━━━━━━━━━━━━━━━━━━━━━━━━━━━┳━━━━━━━━━━━━━━━━━━━━━━━━━━━┓\n",
       "┃<span style=\"font-weight: bold\">        Test metric        </span>┃<span style=\"font-weight: bold\">       DataLoader 0        </span>┃\n",
       "┡━━━━━━━━━━━━━━━━━━━━━━━━━━━╇━━━━━━━━━━━━━━━━━━━━━━━━━━━┩\n",
       "│<span style=\"color: #008080; text-decoration-color: #008080\">      -- test_acc --       </span>│<span style=\"color: #800080; text-decoration-color: #800080\">    0.2842000126838684     </span>│\n",
       "│<span style=\"color: #008080; text-decoration-color: #008080\">       -- test_f1 --       </span>│<span style=\"color: #800080; text-decoration-color: #800080\">    0.2842000126838684     </span>│\n",
       "│<span style=\"color: #008080; text-decoration-color: #008080\">      -- test_loss --      </span>│<span style=\"color: #800080; text-decoration-color: #800080\">     2.647862195968628     </span>│\n",
       "│<span style=\"color: #008080; text-decoration-color: #008080\">      test_f1_class_0      </span>│<span style=\"color: #800080; text-decoration-color: #800080\">    0.4267321527004242     </span>│\n",
       "│<span style=\"color: #008080; text-decoration-color: #008080\">      test_f1_class_1      </span>│<span style=\"color: #800080; text-decoration-color: #800080\">    0.20317740738391876    </span>│\n",
       "│<span style=\"color: #008080; text-decoration-color: #008080\">     test_f1_class_10      </span>│<span style=\"color: #800080; text-decoration-color: #800080\">    0.2883758544921875     </span>│\n",
       "│<span style=\"color: #008080; text-decoration-color: #008080\">     test_f1_class_11      </span>│<span style=\"color: #800080; text-decoration-color: #800080\">    0.4413203001022339     </span>│\n",
       "│<span style=\"color: #008080; text-decoration-color: #008080\">     test_f1_class_12      </span>│<span style=\"color: #800080; text-decoration-color: #800080\">    0.26388272643089294    </span>│\n",
       "│<span style=\"color: #008080; text-decoration-color: #008080\">     test_f1_class_13      </span>│<span style=\"color: #800080; text-decoration-color: #800080\">   0.027234042063355446    </span>│\n",
       "│<span style=\"color: #008080; text-decoration-color: #008080\">     test_f1_class_14      </span>│<span style=\"color: #800080; text-decoration-color: #800080\">    0.02044728398323059    </span>│\n",
       "│<span style=\"color: #008080; text-decoration-color: #008080\">     test_f1_class_15      </span>│<span style=\"color: #800080; text-decoration-color: #800080\">   0.035225048661231995    </span>│\n",
       "│<span style=\"color: #008080; text-decoration-color: #008080\">     test_f1_class_16      </span>│<span style=\"color: #800080; text-decoration-color: #800080\">            0.0            </span>│\n",
       "│<span style=\"color: #008080; text-decoration-color: #008080\">     test_f1_class_17      </span>│<span style=\"color: #800080; text-decoration-color: #800080\">    0.6085911393165588     </span>│\n",
       "│<span style=\"color: #008080; text-decoration-color: #008080\">     test_f1_class_18      </span>│<span style=\"color: #800080; text-decoration-color: #800080\">    0.12109978497028351    </span>│\n",
       "│<span style=\"color: #008080; text-decoration-color: #008080\">     test_f1_class_19      </span>│<span style=\"color: #800080; text-decoration-color: #800080\">    0.01413427572697401    </span>│\n",
       "│<span style=\"color: #008080; text-decoration-color: #008080\">      test_f1_class_2      </span>│<span style=\"color: #800080; text-decoration-color: #800080\">    0.3263643682003021     </span>│\n",
       "│<span style=\"color: #008080; text-decoration-color: #008080\">      test_f1_class_3      </span>│<span style=\"color: #800080; text-decoration-color: #800080\">    0.03589232265949249    </span>│\n",
       "│<span style=\"color: #008080; text-decoration-color: #008080\">      test_f1_class_4      </span>│<span style=\"color: #800080; text-decoration-color: #800080\">    0.3756789267063141     </span>│\n",
       "│<span style=\"color: #008080; text-decoration-color: #008080\">      test_f1_class_5      </span>│<span style=\"color: #800080; text-decoration-color: #800080\">    0.06534870713949203    </span>│\n",
       "│<span style=\"color: #008080; text-decoration-color: #008080\">      test_f1_class_6      </span>│<span style=\"color: #800080; text-decoration-color: #800080\">    0.10834473371505737    </span>│\n",
       "│<span style=\"color: #008080; text-decoration-color: #008080\">      test_f1_class_7      </span>│<span style=\"color: #800080; text-decoration-color: #800080\">    0.19527500867843628    </span>│\n",
       "│<span style=\"color: #008080; text-decoration-color: #008080\">      test_f1_class_8      </span>│<span style=\"color: #800080; text-decoration-color: #800080\">   0.016364699229598045    </span>│\n",
       "│<span style=\"color: #008080; text-decoration-color: #008080\">      test_f1_class_9      </span>│<span style=\"color: #800080; text-decoration-color: #800080\">   0.011251757852733135    </span>│\n",
       "└───────────────────────────┴───────────────────────────┘\n",
       "</pre>\n"
      ],
      "text/plain": [
       "┏━━━━━━━━━━━━━━━━━━━━━━━━━━━┳━━━━━━━━━━━━━━━━━━━━━━━━━━━┓\n",
       "┃\u001b[1m \u001b[0m\u001b[1m       Test metric       \u001b[0m\u001b[1m \u001b[0m┃\u001b[1m \u001b[0m\u001b[1m      DataLoader 0       \u001b[0m\u001b[1m \u001b[0m┃\n",
       "┡━━━━━━━━━━━━━━━━━━━━━━━━━━━╇━━━━━━━━━━━━━━━━━━━━━━━━━━━┩\n",
       "│\u001b[36m \u001b[0m\u001b[36m     -- test_acc --      \u001b[0m\u001b[36m \u001b[0m│\u001b[35m \u001b[0m\u001b[35m   0.2842000126838684    \u001b[0m\u001b[35m \u001b[0m│\n",
       "│\u001b[36m \u001b[0m\u001b[36m      -- test_f1 --      \u001b[0m\u001b[36m \u001b[0m│\u001b[35m \u001b[0m\u001b[35m   0.2842000126838684    \u001b[0m\u001b[35m \u001b[0m│\n",
       "│\u001b[36m \u001b[0m\u001b[36m     -- test_loss --     \u001b[0m\u001b[36m \u001b[0m│\u001b[35m \u001b[0m\u001b[35m    2.647862195968628    \u001b[0m\u001b[35m \u001b[0m│\n",
       "│\u001b[36m \u001b[0m\u001b[36m     test_f1_class_0     \u001b[0m\u001b[36m \u001b[0m│\u001b[35m \u001b[0m\u001b[35m   0.4267321527004242    \u001b[0m\u001b[35m \u001b[0m│\n",
       "│\u001b[36m \u001b[0m\u001b[36m     test_f1_class_1     \u001b[0m\u001b[36m \u001b[0m│\u001b[35m \u001b[0m\u001b[35m   0.20317740738391876   \u001b[0m\u001b[35m \u001b[0m│\n",
       "│\u001b[36m \u001b[0m\u001b[36m    test_f1_class_10     \u001b[0m\u001b[36m \u001b[0m│\u001b[35m \u001b[0m\u001b[35m   0.2883758544921875    \u001b[0m\u001b[35m \u001b[0m│\n",
       "│\u001b[36m \u001b[0m\u001b[36m    test_f1_class_11     \u001b[0m\u001b[36m \u001b[0m│\u001b[35m \u001b[0m\u001b[35m   0.4413203001022339    \u001b[0m\u001b[35m \u001b[0m│\n",
       "│\u001b[36m \u001b[0m\u001b[36m    test_f1_class_12     \u001b[0m\u001b[36m \u001b[0m│\u001b[35m \u001b[0m\u001b[35m   0.26388272643089294   \u001b[0m\u001b[35m \u001b[0m│\n",
       "│\u001b[36m \u001b[0m\u001b[36m    test_f1_class_13     \u001b[0m\u001b[36m \u001b[0m│\u001b[35m \u001b[0m\u001b[35m  0.027234042063355446   \u001b[0m\u001b[35m \u001b[0m│\n",
       "│\u001b[36m \u001b[0m\u001b[36m    test_f1_class_14     \u001b[0m\u001b[36m \u001b[0m│\u001b[35m \u001b[0m\u001b[35m   0.02044728398323059   \u001b[0m\u001b[35m \u001b[0m│\n",
       "│\u001b[36m \u001b[0m\u001b[36m    test_f1_class_15     \u001b[0m\u001b[36m \u001b[0m│\u001b[35m \u001b[0m\u001b[35m  0.035225048661231995   \u001b[0m\u001b[35m \u001b[0m│\n",
       "│\u001b[36m \u001b[0m\u001b[36m    test_f1_class_16     \u001b[0m\u001b[36m \u001b[0m│\u001b[35m \u001b[0m\u001b[35m           0.0           \u001b[0m\u001b[35m \u001b[0m│\n",
       "│\u001b[36m \u001b[0m\u001b[36m    test_f1_class_17     \u001b[0m\u001b[36m \u001b[0m│\u001b[35m \u001b[0m\u001b[35m   0.6085911393165588    \u001b[0m\u001b[35m \u001b[0m│\n",
       "│\u001b[36m \u001b[0m\u001b[36m    test_f1_class_18     \u001b[0m\u001b[36m \u001b[0m│\u001b[35m \u001b[0m\u001b[35m   0.12109978497028351   \u001b[0m\u001b[35m \u001b[0m│\n",
       "│\u001b[36m \u001b[0m\u001b[36m    test_f1_class_19     \u001b[0m\u001b[36m \u001b[0m│\u001b[35m \u001b[0m\u001b[35m   0.01413427572697401   \u001b[0m\u001b[35m \u001b[0m│\n",
       "│\u001b[36m \u001b[0m\u001b[36m     test_f1_class_2     \u001b[0m\u001b[36m \u001b[0m│\u001b[35m \u001b[0m\u001b[35m   0.3263643682003021    \u001b[0m\u001b[35m \u001b[0m│\n",
       "│\u001b[36m \u001b[0m\u001b[36m     test_f1_class_3     \u001b[0m\u001b[36m \u001b[0m│\u001b[35m \u001b[0m\u001b[35m   0.03589232265949249   \u001b[0m\u001b[35m \u001b[0m│\n",
       "│\u001b[36m \u001b[0m\u001b[36m     test_f1_class_4     \u001b[0m\u001b[36m \u001b[0m│\u001b[35m \u001b[0m\u001b[35m   0.3756789267063141    \u001b[0m\u001b[35m \u001b[0m│\n",
       "│\u001b[36m \u001b[0m\u001b[36m     test_f1_class_5     \u001b[0m\u001b[36m \u001b[0m│\u001b[35m \u001b[0m\u001b[35m   0.06534870713949203   \u001b[0m\u001b[35m \u001b[0m│\n",
       "│\u001b[36m \u001b[0m\u001b[36m     test_f1_class_6     \u001b[0m\u001b[36m \u001b[0m│\u001b[35m \u001b[0m\u001b[35m   0.10834473371505737   \u001b[0m\u001b[35m \u001b[0m│\n",
       "│\u001b[36m \u001b[0m\u001b[36m     test_f1_class_7     \u001b[0m\u001b[36m \u001b[0m│\u001b[35m \u001b[0m\u001b[35m   0.19527500867843628   \u001b[0m\u001b[35m \u001b[0m│\n",
       "│\u001b[36m \u001b[0m\u001b[36m     test_f1_class_8     \u001b[0m\u001b[36m \u001b[0m│\u001b[35m \u001b[0m\u001b[35m  0.016364699229598045   \u001b[0m\u001b[35m \u001b[0m│\n",
       "│\u001b[36m \u001b[0m\u001b[36m     test_f1_class_9     \u001b[0m\u001b[36m \u001b[0m│\u001b[35m \u001b[0m\u001b[35m  0.011251757852733135   \u001b[0m\u001b[35m \u001b[0m│\n",
       "└───────────────────────────┴───────────────────────────┘\n"
      ]
     },
     "metadata": {},
     "output_type": "display_data"
    }
   ],
   "source": [
    "tuples = [(gru_Attention_2,None),(gru_Attention_2,lin_gelu_ffn)]\n",
    "model, _ = train_model(num_labels=20,\n",
    "                hidden_dim=16,\n",
    "                max_leng=40,\n",
    "                attn_ffn_tuples=tuples,\n",
    "                ffn_dim=24,\n",
    "                batch_size=16,\n",
    "                       lr = 1e-3,\n",
    "                num_repeat_modules=2,\n",
    "                train_data=train_dataset,\n",
    "                val_data=val_dataset,\n",
    "                test_data=test_dataset,\n",
    "                max_epochs=4)"
   ]
  },
  {
   "cell_type": "code",
   "execution_count": null,
   "metadata": {
    "colab": {
     "base_uri": "https://localhost:8080/",
     "height": 1000,
     "referenced_widgets": [
      "daefc9a4430044f49bf90a8f0a27ce18",
      "fa59fcf67bbc43e6b5e8783063ccc91e",
      "153d5b1d99984134ae7d2f973a2f000c",
      "3bd228c607d94a6ba10e34b56eb0f4fa",
      "b64091e222104249b4cd705f81ded6ce",
      "2392ca8e51184750863742aa2d0da62d",
      "603a059b56864ab5a3fc237491b8d33e",
      "badba109d6844e2e8a49f46493a41400",
      "6fe96eb8411d471387cf378f402f213d",
      "0566a2e9055b4f45b60915d3ef5fce3d",
      "48975d858297468cb50b44173cb30c8f",
      "d44d25c0fd7a491283c7ea0bc2186e17",
      "d3f39723c52f42fb994931fd361805cb",
      "1e54774d1e554b939e0abcd292e38a5e",
      "30a4c21a4f8043f09af93b68117ee4e6",
      "53e2170eb3424efd9a6d0165a3576509",
      "04887dc4876b4ffd837cfe902c18cae8",
      "5f070d7b5b0d42aa95b72222f62a56b3",
      "82ae6036437f4865ae646966ba4060c8",
      "877dbcf26572487bbb7f8233adae1c07",
      "f346933414dd4d509447fbc7e6928bc7",
      "181156a7af57493b89465673aa1a14d9",
      "d8c9f13d892e4e94b067bc44f6c89bcc",
      "e88be426f0bd41d89e2f397e7393dc9f",
      "38999afe69094779a21fed8f204de006",
      "17ba556aa1824bccbb2206bdf652704d",
      "21613bc68a1d43b6b989c4424250a47a",
      "5da732918f054ec3925f9209dca7f5fe",
      "8afe95b8ecbf4244a056856842cc7243",
      "0b79ce2274f74bfc940a7f2f8616ffd8",
      "ae8630da6ee64767b1717c99ca645e13",
      "4bb8f33c0ab947a0a22a1697fa325dc2",
      "7256d18192964f1a971498e8e3567549",
      "289635c157474b13be40e61f6fea441d",
      "49df45314f954605b6b3eb4270c7254a",
      "4aedd27f9f524fac849c32d61766ce61",
      "a4b440f8a17148eea91ce405f0f67214",
      "11e5702049624fb2a7a285cd59fe4b7a",
      "6e140bde23a94b9d9fcbbd2746669a37",
      "57b669acd8c6403aae0efbcec7ac34b8",
      "0b30dd07eb794913b59b887da3917f28",
      "46b8fb09b9a94de18d9bf34c18d91aef",
      "e7f66dca8dbf45a6b01ddc0a2f8fd2ce",
      "c975fe32c64948ed9a7da0509c5ce351",
      "a4a18e40340f491da9f1077400b9d0cc",
      "8cbcf78af0754be8a1aa016f2f81d7e3",
      "444db10023554765b84768d8fa5e3520",
      "6a475fe6fb2e4a91b89e3e0c79c39aac",
      "7a15206835554d42a1532ecf62bd92dd",
      "d88a8c0dec1f458b9dacd972ad95d295",
      "30cd67757b4c48ab80dffe2eca7394c9",
      "5c9e9e07e55e487dbe9aff95e9ef6483",
      "5ea5fb36399d4bcda7ed63bfc8a5b1df",
      "6e4edaf8b5f949c791758d27e084c363",
      "38c0bc3db9af45f9b07ecf7c13d030fc",
      "8ead0903b1c24400932a93b229434494",
      "c1d5348469094ce08b805f552d0eaf77",
      "1f03cbf2506c4fe9964513596bfeca24",
      "ab67afa3e0e54b3faed53108776c1f89",
      "91bf47a9c22943309677388e1fd17cc8",
      "1979b9974a4541929b1d70f76b20c3e6",
      "979e66e5b8f3499aa0363adc85ef1034",
      "7492b7136d0841069da68aabc2804291",
      "bc578118e7f24b15addaeb9b791873f5",
      "3a5e2370c6e044cea3e5c47253df0447",
      "54091147304e44d5ace10a9da6625fd5"
     ]
    },
    "collapsed": true,
    "id": "a3jBxeV-jTr-",
    "jupyter": {
     "outputs_hidden": true
    },
    "outputId": "6822fa9a-3a97-482d-c55c-52fa0f4dd3fe"
   },
   "outputs": [
    {
     "name": "stderr",
     "output_type": "stream",
     "text": [
      "INFO:pytorch_lightning.utilities.rank_zero:💡 Tip: For seamless cloud uploads and versioning, try installing [litmodels](https://pypi.org/project/litmodels/) to enable LitModelCheckpoint, which syncs automatically with the Lightning model registry.\n",
      "INFO:pytorch_lightning.utilities.rank_zero:GPU available: True (cuda), used: True\n",
      "INFO:pytorch_lightning.utilities.rank_zero:TPU available: False, using: 0 TPU cores\n",
      "INFO:pytorch_lightning.utilities.rank_zero:HPU available: False, using: 0 HPUs\n",
      "/usr/local/lib/python3.12/dist-packages/pytorch_lightning/callbacks/model_checkpoint.py:751: Checkpoint directory /content/checkpoints exists and is not empty.\n",
      "INFO:pytorch_lightning.accelerators.cuda:LOCAL_RANK: 0 - CUDA_VISIBLE_DEVICES: [0]\n",
      "INFO:pytorch_lightning.callbacks.model_summary:\n",
      "  | Name              | Type               | Params | Mode \n",
      "-----------------------------------------------------------------\n",
      "0 | model             | Model              | 500 K  | train\n",
      "1 | loss_fn           | CrossEntropyLoss   | 0      | train\n",
      "2 | train_accuracy    | MulticlassAccuracy | 0      | train\n",
      "3 | val_accuracy      | MulticlassAccuracy | 0      | train\n",
      "4 | train_f1          | MulticlassF1Score  | 0      | train\n",
      "5 | val_f1            | MulticlassF1Score  | 0      | train\n",
      "6 | test_accuracy     | MulticlassAccuracy | 0      | train\n",
      "7 | test_f1           | MulticlassF1Score  | 0      | train\n",
      "8 | test_f1_per_class | MulticlassF1Score  | 0      | train\n",
      "-----------------------------------------------------------------\n",
      "500 K     Trainable params\n",
      "0         Non-trainable params\n",
      "500 K     Total params\n",
      "2.003     Total estimated model params size (MB)\n",
      "45        Modules in train mode\n",
      "0         Modules in eval mode\n"
     ]
    },
    {
     "data": {
      "application/vnd.jupyter.widget-view+json": {
       "model_id": "daefc9a4430044f49bf90a8f0a27ce18",
       "version_major": 2,
       "version_minor": 0
      },
      "text/plain": [
       "Sanity Checking: |          | 0/? [00:00<?, ?it/s]"
      ]
     },
     "metadata": {},
     "output_type": "display_data"
    },
    {
     "data": {
      "application/vnd.jupyter.widget-view+json": {
       "model_id": "d44d25c0fd7a491283c7ea0bc2186e17",
       "version_major": 2,
       "version_minor": 0
      },
      "text/plain": [
       "Training: |          | 0/? [00:00<?, ?it/s]"
      ]
     },
     "metadata": {},
     "output_type": "display_data"
    },
    {
     "data": {
      "application/vnd.jupyter.widget-view+json": {
       "model_id": "d8c9f13d892e4e94b067bc44f6c89bcc",
       "version_major": 2,
       "version_minor": 0
      },
      "text/plain": [
       "Validation: |          | 0/? [00:00<?, ?it/s]"
      ]
     },
     "metadata": {},
     "output_type": "display_data"
    },
    {
     "data": {
      "application/vnd.jupyter.widget-view+json": {
       "model_id": "289635c157474b13be40e61f6fea441d",
       "version_major": 2,
       "version_minor": 0
      },
      "text/plain": [
       "Validation: |          | 0/? [00:00<?, ?it/s]"
      ]
     },
     "metadata": {},
     "output_type": "display_data"
    },
    {
     "data": {
      "application/vnd.jupyter.widget-view+json": {
       "model_id": "a4a18e40340f491da9f1077400b9d0cc",
       "version_major": 2,
       "version_minor": 0
      },
      "text/plain": [
       "Validation: |          | 0/? [00:00<?, ?it/s]"
      ]
     },
     "metadata": {},
     "output_type": "display_data"
    },
    {
     "name": "stderr",
     "output_type": "stream",
     "text": [
      "INFO:pytorch_lightning.utilities.rank_zero:`Trainer.fit` stopped: `max_epochs=3` reached.\n",
      "INFO:pytorch_lightning.accelerators.cuda:LOCAL_RANK: 0 - CUDA_VISIBLE_DEVICES: [0]\n"
     ]
    },
    {
     "data": {
      "application/vnd.jupyter.widget-view+json": {
       "model_id": "8ead0903b1c24400932a93b229434494",
       "version_major": 2,
       "version_minor": 0
      },
      "text/plain": [
       "Testing: |          | 0/? [00:00<?, ?it/s]"
      ]
     },
     "metadata": {},
     "output_type": "display_data"
    },
    {
     "data": {
      "text/html": [
       "<pre style=\"white-space:pre;overflow-x:auto;line-height:normal;font-family:Menlo,'DejaVu Sans Mono',consolas,'Courier New',monospace\">┏━━━━━━━━━━━━━━━━━━━━━━━━━━━┳━━━━━━━━━━━━━━━━━━━━━━━━━━━┓\n",
       "┃<span style=\"font-weight: bold\">        Test metric        </span>┃<span style=\"font-weight: bold\">       DataLoader 0        </span>┃\n",
       "┡━━━━━━━━━━━━━━━━━━━━━━━━━━━╇━━━━━━━━━━━━━━━━━━━━━━━━━━━┩\n",
       "│<span style=\"color: #008080; text-decoration-color: #008080\">      -- test_acc --       </span>│<span style=\"color: #800080; text-decoration-color: #800080\">     0.296860009431839     </span>│\n",
       "│<span style=\"color: #008080; text-decoration-color: #008080\">       -- test_f1 --       </span>│<span style=\"color: #800080; text-decoration-color: #800080\">     0.296860009431839     </span>│\n",
       "│<span style=\"color: #008080; text-decoration-color: #008080\">      -- test_loss --      </span>│<span style=\"color: #800080; text-decoration-color: #800080\">    2.4367027282714844     </span>│\n",
       "│<span style=\"color: #008080; text-decoration-color: #008080\">      test_f1_class_0      </span>│<span style=\"color: #800080; text-decoration-color: #800080\">    0.44590118527412415    </span>│\n",
       "│<span style=\"color: #008080; text-decoration-color: #008080\">      test_f1_class_1      </span>│<span style=\"color: #800080; text-decoration-color: #800080\">    0.20573294162750244    </span>│\n",
       "│<span style=\"color: #008080; text-decoration-color: #008080\">     test_f1_class_10      </span>│<span style=\"color: #800080; text-decoration-color: #800080\">    0.3054457902908325     </span>│\n",
       "│<span style=\"color: #008080; text-decoration-color: #008080\">     test_f1_class_11      </span>│<span style=\"color: #800080; text-decoration-color: #800080\">    0.47703301906585693    </span>│\n",
       "│<span style=\"color: #008080; text-decoration-color: #008080\">     test_f1_class_12      </span>│<span style=\"color: #800080; text-decoration-color: #800080\">    0.2918586730957031     </span>│\n",
       "│<span style=\"color: #008080; text-decoration-color: #008080\">     test_f1_class_13      </span>│<span style=\"color: #800080; text-decoration-color: #800080\">            0.0            </span>│\n",
       "│<span style=\"color: #008080; text-decoration-color: #008080\">     test_f1_class_14      </span>│<span style=\"color: #800080; text-decoration-color: #800080\">            0.0            </span>│\n",
       "│<span style=\"color: #008080; text-decoration-color: #008080\">     test_f1_class_15      </span>│<span style=\"color: #800080; text-decoration-color: #800080\">            0.0            </span>│\n",
       "│<span style=\"color: #008080; text-decoration-color: #008080\">     test_f1_class_16      </span>│<span style=\"color: #800080; text-decoration-color: #800080\">            0.0            </span>│\n",
       "│<span style=\"color: #008080; text-decoration-color: #008080\">     test_f1_class_17      </span>│<span style=\"color: #800080; text-decoration-color: #800080\">    0.6333659887313843     </span>│\n",
       "│<span style=\"color: #008080; text-decoration-color: #008080\">     test_f1_class_18      </span>│<span style=\"color: #800080; text-decoration-color: #800080\">            0.0            </span>│\n",
       "│<span style=\"color: #008080; text-decoration-color: #008080\">     test_f1_class_19      </span>│<span style=\"color: #800080; text-decoration-color: #800080\">            0.0            </span>│\n",
       "│<span style=\"color: #008080; text-decoration-color: #008080\">      test_f1_class_2      </span>│<span style=\"color: #800080; text-decoration-color: #800080\">    0.34103962779045105    </span>│\n",
       "│<span style=\"color: #008080; text-decoration-color: #008080\">      test_f1_class_3      </span>│<span style=\"color: #800080; text-decoration-color: #800080\">            0.0            </span>│\n",
       "│<span style=\"color: #008080; text-decoration-color: #008080\">      test_f1_class_4      </span>│<span style=\"color: #800080; text-decoration-color: #800080\">    0.3859362304210663     </span>│\n",
       "│<span style=\"color: #008080; text-decoration-color: #008080\">      test_f1_class_5      </span>│<span style=\"color: #800080; text-decoration-color: #800080\">    0.01316511258482933    </span>│\n",
       "│<span style=\"color: #008080; text-decoration-color: #008080\">      test_f1_class_6      </span>│<span style=\"color: #800080; text-decoration-color: #800080\">    0.09737047553062439    </span>│\n",
       "│<span style=\"color: #008080; text-decoration-color: #008080\">      test_f1_class_7      </span>│<span style=\"color: #800080; text-decoration-color: #800080\">    0.14729776978492737    </span>│\n",
       "│<span style=\"color: #008080; text-decoration-color: #008080\">      test_f1_class_8      </span>│<span style=\"color: #800080; text-decoration-color: #800080\">            0.0            </span>│\n",
       "│<span style=\"color: #008080; text-decoration-color: #008080\">      test_f1_class_9      </span>│<span style=\"color: #800080; text-decoration-color: #800080\">            0.0            </span>│\n",
       "└───────────────────────────┴───────────────────────────┘\n",
       "</pre>\n"
      ],
      "text/plain": [
       "┏━━━━━━━━━━━━━━━━━━━━━━━━━━━┳━━━━━━━━━━━━━━━━━━━━━━━━━━━┓\n",
       "┃\u001b[1m \u001b[0m\u001b[1m       Test metric       \u001b[0m\u001b[1m \u001b[0m┃\u001b[1m \u001b[0m\u001b[1m      DataLoader 0       \u001b[0m\u001b[1m \u001b[0m┃\n",
       "┡━━━━━━━━━━━━━━━━━━━━━━━━━━━╇━━━━━━━━━━━━━━━━━━━━━━━━━━━┩\n",
       "│\u001b[36m \u001b[0m\u001b[36m     -- test_acc --      \u001b[0m\u001b[36m \u001b[0m│\u001b[35m \u001b[0m\u001b[35m    0.296860009431839    \u001b[0m\u001b[35m \u001b[0m│\n",
       "│\u001b[36m \u001b[0m\u001b[36m      -- test_f1 --      \u001b[0m\u001b[36m \u001b[0m│\u001b[35m \u001b[0m\u001b[35m    0.296860009431839    \u001b[0m\u001b[35m \u001b[0m│\n",
       "│\u001b[36m \u001b[0m\u001b[36m     -- test_loss --     \u001b[0m\u001b[36m \u001b[0m│\u001b[35m \u001b[0m\u001b[35m   2.4367027282714844    \u001b[0m\u001b[35m \u001b[0m│\n",
       "│\u001b[36m \u001b[0m\u001b[36m     test_f1_class_0     \u001b[0m\u001b[36m \u001b[0m│\u001b[35m \u001b[0m\u001b[35m   0.44590118527412415   \u001b[0m\u001b[35m \u001b[0m│\n",
       "│\u001b[36m \u001b[0m\u001b[36m     test_f1_class_1     \u001b[0m\u001b[36m \u001b[0m│\u001b[35m \u001b[0m\u001b[35m   0.20573294162750244   \u001b[0m\u001b[35m \u001b[0m│\n",
       "│\u001b[36m \u001b[0m\u001b[36m    test_f1_class_10     \u001b[0m\u001b[36m \u001b[0m│\u001b[35m \u001b[0m\u001b[35m   0.3054457902908325    \u001b[0m\u001b[35m \u001b[0m│\n",
       "│\u001b[36m \u001b[0m\u001b[36m    test_f1_class_11     \u001b[0m\u001b[36m \u001b[0m│\u001b[35m \u001b[0m\u001b[35m   0.47703301906585693   \u001b[0m\u001b[35m \u001b[0m│\n",
       "│\u001b[36m \u001b[0m\u001b[36m    test_f1_class_12     \u001b[0m\u001b[36m \u001b[0m│\u001b[35m \u001b[0m\u001b[35m   0.2918586730957031    \u001b[0m\u001b[35m \u001b[0m│\n",
       "│\u001b[36m \u001b[0m\u001b[36m    test_f1_class_13     \u001b[0m\u001b[36m \u001b[0m│\u001b[35m \u001b[0m\u001b[35m           0.0           \u001b[0m\u001b[35m \u001b[0m│\n",
       "│\u001b[36m \u001b[0m\u001b[36m    test_f1_class_14     \u001b[0m\u001b[36m \u001b[0m│\u001b[35m \u001b[0m\u001b[35m           0.0           \u001b[0m\u001b[35m \u001b[0m│\n",
       "│\u001b[36m \u001b[0m\u001b[36m    test_f1_class_15     \u001b[0m\u001b[36m \u001b[0m│\u001b[35m \u001b[0m\u001b[35m           0.0           \u001b[0m\u001b[35m \u001b[0m│\n",
       "│\u001b[36m \u001b[0m\u001b[36m    test_f1_class_16     \u001b[0m\u001b[36m \u001b[0m│\u001b[35m \u001b[0m\u001b[35m           0.0           \u001b[0m\u001b[35m \u001b[0m│\n",
       "│\u001b[36m \u001b[0m\u001b[36m    test_f1_class_17     \u001b[0m\u001b[36m \u001b[0m│\u001b[35m \u001b[0m\u001b[35m   0.6333659887313843    \u001b[0m\u001b[35m \u001b[0m│\n",
       "│\u001b[36m \u001b[0m\u001b[36m    test_f1_class_18     \u001b[0m\u001b[36m \u001b[0m│\u001b[35m \u001b[0m\u001b[35m           0.0           \u001b[0m\u001b[35m \u001b[0m│\n",
       "│\u001b[36m \u001b[0m\u001b[36m    test_f1_class_19     \u001b[0m\u001b[36m \u001b[0m│\u001b[35m \u001b[0m\u001b[35m           0.0           \u001b[0m\u001b[35m \u001b[0m│\n",
       "│\u001b[36m \u001b[0m\u001b[36m     test_f1_class_2     \u001b[0m\u001b[36m \u001b[0m│\u001b[35m \u001b[0m\u001b[35m   0.34103962779045105   \u001b[0m\u001b[35m \u001b[0m│\n",
       "│\u001b[36m \u001b[0m\u001b[36m     test_f1_class_3     \u001b[0m\u001b[36m \u001b[0m│\u001b[35m \u001b[0m\u001b[35m           0.0           \u001b[0m\u001b[35m \u001b[0m│\n",
       "│\u001b[36m \u001b[0m\u001b[36m     test_f1_class_4     \u001b[0m\u001b[36m \u001b[0m│\u001b[35m \u001b[0m\u001b[35m   0.3859362304210663    \u001b[0m\u001b[35m \u001b[0m│\n",
       "│\u001b[36m \u001b[0m\u001b[36m     test_f1_class_5     \u001b[0m\u001b[36m \u001b[0m│\u001b[35m \u001b[0m\u001b[35m   0.01316511258482933   \u001b[0m\u001b[35m \u001b[0m│\n",
       "│\u001b[36m \u001b[0m\u001b[36m     test_f1_class_6     \u001b[0m\u001b[36m \u001b[0m│\u001b[35m \u001b[0m\u001b[35m   0.09737047553062439   \u001b[0m\u001b[35m \u001b[0m│\n",
       "│\u001b[36m \u001b[0m\u001b[36m     test_f1_class_7     \u001b[0m\u001b[36m \u001b[0m│\u001b[35m \u001b[0m\u001b[35m   0.14729776978492737   \u001b[0m\u001b[35m \u001b[0m│\n",
       "│\u001b[36m \u001b[0m\u001b[36m     test_f1_class_8     \u001b[0m\u001b[36m \u001b[0m│\u001b[35m \u001b[0m\u001b[35m           0.0           \u001b[0m\u001b[35m \u001b[0m│\n",
       "│\u001b[36m \u001b[0m\u001b[36m     test_f1_class_9     \u001b[0m\u001b[36m \u001b[0m│\u001b[35m \u001b[0m\u001b[35m           0.0           \u001b[0m\u001b[35m \u001b[0m│\n",
       "└───────────────────────────┴───────────────────────────┘\n"
      ]
     },
     "metadata": {},
     "output_type": "display_data"
    }
   ],
   "source": [
    "tuples = [(gru_Attention_2,None),(gru_Attention,lin_gelu_ffn)]\n",
    "model, _ = train_model(num_labels=20,\n",
    "                hidden_dim=16,\n",
    "                max_leng=40,\n",
    "                attn_ffn_tuples=tuples,\n",
    "                ffn_dim=24,\n",
    "                batch_size=16,\n",
    "                       num_heads=1,\n",
    "                       lr = 1e-3,\n",
    "                num_repeat_modules=2,\n",
    "                train_data=train_dataset,\n",
    "                val_data=val_dataset,\n",
    "                test_data=test_dataset,\n",
    "                max_epochs=3)"
   ]
  },
  {
   "cell_type": "code",
   "execution_count": null,
   "metadata": {
    "colab": {
     "base_uri": "https://localhost:8080/",
     "height": 720,
     "referenced_widgets": [
      "62d3579a7410463f8e8494ebd83f07de",
      "c631c0e0947a44628c4428da01a8fc39",
      "a0efd4f71c4345f7b3e5c482437b0897",
      "0bc6e24693c440738ef7dd45f1f65b16",
      "d7ce92746e0e4787860cbf475c4d43e6",
      "eca568f4a52546cfb028f84cb88729e0",
      "2d6c38b8369042a1b6a89189c5bcc906",
      "fd6fc952c63e45559f40539b30e99df2",
      "383c580804aa4de4ba5da67a2ef72cca",
      "638f2f821ecd494b99052988d9b40713",
      "e7c258f5a19245fa9f4e5996019ae630",
      "e4df03244cc445f8af41278f8069a78a",
      "7baf626b6f844824892ab00e52af6079",
      "9826e0e0f3814403a377855a9b5002bc",
      "2e164cefc0c2419bb984c9ee4ae00624",
      "979de6d684fb4426850f64fd725b2571",
      "846dfa4223b74009a1bafa7fbf3d63b5",
      "f8cda37d6f3346c0bf93ec048233446f",
      "42ac130ca3694f2292e52b6ead927a25",
      "d35709463a85490b8e67c54ca550c4a4",
      "bfcde77ab27743c9aae7d3349d79915e",
      "234bfffca34745b387ddc0357799e7d9",
      "c207c34544a546b6ac1583971d437a22",
      "cf3292a4ab1b49cda528bbdd88d41a92",
      "c8036c99950147d0a3850865c51a0f54",
      "4774d6c0f4e747378f6a761f5293731c",
      "dce1a08a30bc4b98b30f85c453f48651",
      "18e841dfe1df410895e93663a1bd9f11",
      "c9581c3e561644e1988749dc11e4dbae",
      "7d83e05635fe40a1a9c32524728d9a59",
      "7caeaf10bdb84038873de9879ddd85e0",
      "a9f1a27d623c419b97a3bb5be9e3fad8",
      "8248137cfd964fb8af641fa3525ac56b",
      "884a01dbd7754b7c8bfc98c3b132b1eb",
      "168cf4cc99464d62b8f8694dd5e5391a",
      "125c23260b1342f6a078c2ac6db83f49",
      "61bf7164f00c4c1fbc735550cf4a802c",
      "d4e389d6a49d4b518f885c10486e251b",
      "242d5fee8e9340d895286f634e2af16a",
      "de584bef76fd4f3289bdc21b498ca61e",
      "ed4b2853c9cd4375a5cf78b4a5016486",
      "4f044b2888c0431aadb450166dd0d536",
      "a9c27e031dc74320873142ec240c5856",
      "f31ac00e07dc4ed982bce865c69548ef",
      "438ba53629324911be97a0dbc09fb769",
      "48c2da681d634ae6be485ba7de9104f6",
      "b1f94fc220164659903656575cfa16f1",
      "35d64020603a4409be5731f78fa1a729",
      "dc59864b745e4a1381f4c4e8d3dd016b",
      "9df83c048da94ff4ad5c9fc1d0f9fe74",
      "2a6b31f100264b06ae511932d078743f",
      "c16a07c2f40c4fd0b4b91512e0a161ca",
      "3f3344ea4267471185dcb9f6b1ee4b11",
      "98bc7cf385164eadae0de28f5244cb7b",
      "5c1e0e9c8c9147e08be74c234c45aab9",
      "9292543b0da74c13b8eeac98a17a0e02",
      "e8497b201251479ba993e6f7d3b8a8bb",
      "68e0544272744bcfadc591fca925f16d",
      "c63d1039ee884c94b9da88f570d2a1c4",
      "90604847b6a44087be95b82225a07c16",
      "e5bba5120bc046cba18c552c891e44b9",
      "8cae3d12426a4b658d0950c46f4e6b14",
      "85a1b552d635449abbf68933bc453fd8",
      "9d5582bcc57b44c88325b7d99634327f",
      "fb2edb6dc11d4de48c377569d8644581",
      "0d018852b6aa4e4ca2362cd68bdcc2da",
      "4d6066124b9e4596ae0518dbcaf2fd4a",
      "2cc93fab55ff42b19e62d514b2adb6fa",
      "c9cdf1cef4b843df9bd715c78eeee4e5",
      "d01c1afc6f564993ae5b7675d6f186ea",
      "b50dc624610c44d28368f687f4932a85",
      "f4c5e5c3eb804868a202a96fef6855dc",
      "745e50b797d045f78ac906eae7c82ac7",
      "f7053f1c46cb47238369f4cd8acf75f0",
      "41edad4122f3460faec30872ef2acfcf",
      "9e4e01d227514041831600145d3bd227",
      "3bd902b82ab841d0ab55ce48c544df74"
     ]
    },
    "collapsed": true,
    "id": "ZuqsQqewaQdN",
    "jupyter": {
     "outputs_hidden": true
    },
    "outputId": "3418c0af-28e9-4b6d-abdc-52cdcbc2e1ea"
   },
   "outputs": [
    {
     "name": "stderr",
     "output_type": "stream",
     "text": [
      "INFO:pytorch_lightning.utilities.rank_zero:💡 Tip: For seamless cloud uploads and versioning, try installing [litmodels](https://pypi.org/project/litmodels/) to enable LitModelCheckpoint, which syncs automatically with the Lightning model registry.\n",
      "INFO:pytorch_lightning.utilities.rank_zero:GPU available: True (cuda), used: True\n",
      "INFO:pytorch_lightning.utilities.rank_zero:TPU available: False, using: 0 TPU cores\n",
      "INFO:pytorch_lightning.utilities.rank_zero:HPU available: False, using: 0 HPUs\n",
      "/usr/local/lib/python3.12/dist-packages/pytorch_lightning/callbacks/model_checkpoint.py:751: Checkpoint directory /content/checkpoints exists and is not empty.\n",
      "INFO:pytorch_lightning.accelerators.cuda:LOCAL_RANK: 0 - CUDA_VISIBLE_DEVICES: [0]\n",
      "INFO:pytorch_lightning.callbacks.model_summary:\n",
      "  | Name              | Type               | Params | Mode \n",
      "-----------------------------------------------------------------\n",
      "0 | model             | Model              | 591 K  | train\n",
      "1 | loss_fn           | CrossEntropyLoss   | 0      | train\n",
      "2 | train_accuracy    | MulticlassAccuracy | 0      | train\n",
      "3 | val_accuracy      | MulticlassAccuracy | 0      | train\n",
      "4 | train_f1          | MulticlassF1Score  | 0      | train\n",
      "5 | val_f1            | MulticlassF1Score  | 0      | train\n",
      "6 | test_accuracy     | MulticlassAccuracy | 0      | train\n",
      "7 | test_f1           | MulticlassF1Score  | 0      | train\n",
      "8 | test_f1_per_class | MulticlassF1Score  | 0      | train\n",
      "-----------------------------------------------------------------\n",
      "591 K     Trainable params\n",
      "0         Non-trainable params\n",
      "591 K     Total params\n",
      "2.367     Total estimated model params size (MB)\n",
      "61        Modules in train mode\n",
      "0         Modules in eval mode\n"
     ]
    },
    {
     "data": {
      "application/vnd.jupyter.widget-view+json": {
       "model_id": "62d3579a7410463f8e8494ebd83f07de",
       "version_major": 2,
       "version_minor": 0
      },
      "text/plain": [
       "Sanity Checking: |          | 0/? [00:00<?, ?it/s]"
      ]
     },
     "metadata": {},
     "output_type": "display_data"
    },
    {
     "data": {
      "application/vnd.jupyter.widget-view+json": {
       "model_id": "e4df03244cc445f8af41278f8069a78a",
       "version_major": 2,
       "version_minor": 0
      },
      "text/plain": [
       "Training: |          | 0/? [00:00<?, ?it/s]"
      ]
     },
     "metadata": {},
     "output_type": "display_data"
    },
    {
     "data": {
      "application/vnd.jupyter.widget-view+json": {
       "model_id": "c207c34544a546b6ac1583971d437a22",
       "version_major": 2,
       "version_minor": 0
      },
      "text/plain": [
       "Validation: |          | 0/? [00:00<?, ?it/s]"
      ]
     },
     "metadata": {},
     "output_type": "display_data"
    },
    {
     "data": {
      "application/vnd.jupyter.widget-view+json": {
       "model_id": "884a01dbd7754b7c8bfc98c3b132b1eb",
       "version_major": 2,
       "version_minor": 0
      },
      "text/plain": [
       "Validation: |          | 0/? [00:00<?, ?it/s]"
      ]
     },
     "metadata": {},
     "output_type": "display_data"
    },
    {
     "data": {
      "application/vnd.jupyter.widget-view+json": {
       "model_id": "438ba53629324911be97a0dbc09fb769",
       "version_major": 2,
       "version_minor": 0
      },
      "text/plain": [
       "Validation: |          | 0/? [00:00<?, ?it/s]"
      ]
     },
     "metadata": {},
     "output_type": "display_data"
    },
    {
     "data": {
      "application/vnd.jupyter.widget-view+json": {
       "model_id": "9292543b0da74c13b8eeac98a17a0e02",
       "version_major": 2,
       "version_minor": 0
      },
      "text/plain": [
       "Validation: |          | 0/? [00:00<?, ?it/s]"
      ]
     },
     "metadata": {},
     "output_type": "display_data"
    },
    {
     "name": "stderr",
     "output_type": "stream",
     "text": [
      "INFO:pytorch_lightning.utilities.rank_zero:`Trainer.fit` stopped: `max_epochs=4` reached.\n",
      "INFO:pytorch_lightning.accelerators.cuda:LOCAL_RANK: 0 - CUDA_VISIBLE_DEVICES: [0]\n"
     ]
    },
    {
     "data": {
      "application/vnd.jupyter.widget-view+json": {
       "model_id": "4d6066124b9e4596ae0518dbcaf2fd4a",
       "version_major": 2,
       "version_minor": 0
      },
      "text/plain": [
       "Testing: |          | 0/? [00:00<?, ?it/s]"
      ]
     },
     "metadata": {},
     "output_type": "display_data"
    },
    {
     "data": {
      "text/html": [
       "<pre style=\"white-space:pre;overflow-x:auto;line-height:normal;font-family:Menlo,'DejaVu Sans Mono',consolas,'Courier New',monospace\">┏━━━━━━━━━━━━━━━━━━━━━━━━━━━┳━━━━━━━━━━━━━━━━━━━━━━━━━━━┓\n",
       "┃<span style=\"font-weight: bold\">        Test metric        </span>┃<span style=\"font-weight: bold\">       DataLoader 0        </span>┃\n",
       "┡━━━━━━━━━━━━━━━━━━━━━━━━━━━╇━━━━━━━━━━━━━━━━━━━━━━━━━━━┩\n",
       "│<span style=\"color: #008080; text-decoration-color: #008080\">      -- test_acc --       </span>│<span style=\"color: #800080; text-decoration-color: #800080\">    0.8705000281333923     </span>│\n",
       "│<span style=\"color: #008080; text-decoration-color: #008080\">       -- test_f1 --       </span>│<span style=\"color: #800080; text-decoration-color: #800080\">    0.8705000281333923     </span>│\n",
       "│<span style=\"color: #008080; text-decoration-color: #008080\">      -- test_loss --      </span>│<span style=\"color: #800080; text-decoration-color: #800080\">    0.42332208156585693    </span>│\n",
       "│<span style=\"color: #008080; text-decoration-color: #008080\">      test_f1_class_0      </span>│<span style=\"color: #800080; text-decoration-color: #800080\">    0.8764312863349915     </span>│\n",
       "│<span style=\"color: #008080; text-decoration-color: #008080\">      test_f1_class_1      </span>│<span style=\"color: #800080; text-decoration-color: #800080\">    0.8639705777168274     </span>│\n",
       "└───────────────────────────┴───────────────────────────┘\n",
       "</pre>\n"
      ],
      "text/plain": [
       "┏━━━━━━━━━━━━━━━━━━━━━━━━━━━┳━━━━━━━━━━━━━━━━━━━━━━━━━━━┓\n",
       "┃\u001b[1m \u001b[0m\u001b[1m       Test metric       \u001b[0m\u001b[1m \u001b[0m┃\u001b[1m \u001b[0m\u001b[1m      DataLoader 0       \u001b[0m\u001b[1m \u001b[0m┃\n",
       "┡━━━━━━━━━━━━━━━━━━━━━━━━━━━╇━━━━━━━━━━━━━━━━━━━━━━━━━━━┩\n",
       "│\u001b[36m \u001b[0m\u001b[36m     -- test_acc --      \u001b[0m\u001b[36m \u001b[0m│\u001b[35m \u001b[0m\u001b[35m   0.8705000281333923    \u001b[0m\u001b[35m \u001b[0m│\n",
       "│\u001b[36m \u001b[0m\u001b[36m      -- test_f1 --      \u001b[0m\u001b[36m \u001b[0m│\u001b[35m \u001b[0m\u001b[35m   0.8705000281333923    \u001b[0m\u001b[35m \u001b[0m│\n",
       "│\u001b[36m \u001b[0m\u001b[36m     -- test_loss --     \u001b[0m\u001b[36m \u001b[0m│\u001b[35m \u001b[0m\u001b[35m   0.42332208156585693   \u001b[0m\u001b[35m \u001b[0m│\n",
       "│\u001b[36m \u001b[0m\u001b[36m     test_f1_class_0     \u001b[0m\u001b[36m \u001b[0m│\u001b[35m \u001b[0m\u001b[35m   0.8764312863349915    \u001b[0m\u001b[35m \u001b[0m│\n",
       "│\u001b[36m \u001b[0m\u001b[36m     test_f1_class_1     \u001b[0m\u001b[36m \u001b[0m│\u001b[35m \u001b[0m\u001b[35m   0.8639705777168274    \u001b[0m\u001b[35m \u001b[0m│\n",
       "└───────────────────────────┴───────────────────────────┘\n"
      ]
     },
     "metadata": {},
     "output_type": "display_data"
    }
   ],
   "source": [
    "tuples = [(conv_Attention,None),(gru_Attention_2,conv_lin_ffn),(conv_Attention,lin_gelu_ffn)]\n",
    "model, _ = train_model(num_labels=2,\n",
    "                hidden_dim=18,\n",
    "                max_leng = 1200,\n",
    "                #num_heads=2,\n",
    "                attn_ffn_tuples=tuples,\n",
    "                ffn_dim=25,\n",
    "                batch_size=64,\n",
    "                lr=1e-3,\n",
    "                num_repeat_modules=2,\n",
    "                train_data=imdb_train,\n",
    "                val_data=imdb_test.shuffle().select(range(9000)),\n",
    "                test_data=imdb_test.shuffle().select(range(9000,25000)),\n",
    "                max_epochs=4)"
   ]
  },
  {
   "cell_type": "code",
   "execution_count": null,
   "metadata": {
    "colab": {
     "base_uri": "https://localhost:8080/",
     "height": 703,
     "referenced_widgets": [
      "ad860e0156fd4c8eb351fb6b361a05ca",
      "329156c43baf41f99359bb98fae52182",
      "c982100718fa42deb318848126b13c61",
      "e86311f0b5804f6e9a8c5640c0c66457",
      "2954ec7d22ce40a38115991c4096b4df",
      "80be375de3cf4b21bad1c2dac7de8c4b",
      "70c500d7f15248cc88828bdf3a76c3da",
      "b06fa51d9e3c411b93ab6123eed0eb49",
      "be2a29163fd341909e92cee2c839fe93",
      "76d08dbb0d244043bfba3b2e405ff4a7",
      "28f5a876e67a49e0b5c7c59c9c2c2891",
      "44a83ed519674d58918b07dfa712081e",
      "81098605108843d78472f2787055ffbc",
      "e8532655cb394c8ebf69ba6d22b61ba8",
      "c2d2cac6c464466db669b3339c7a4853",
      "78b52b947a9d4200a7e9ecc3fa8a519d",
      "22ff3522689548a3bb5f616371988080",
      "9605ccae6cce4608862ceea7440c8ade",
      "d585ff892a4242a3b9e3a07609da65bc",
      "15228e9a08c84f08b40c8d6d6ab71c8b",
      "6b68c117c9b243638de19db9aa0907b5",
      "90ac8989eace4e979783a9f792815a7b",
      "5eaa170386a842458486b4619cdc66e4",
      "0f738cbc4e7c4f3ca32f7ef759c86d6d",
      "28da3b99fab84454a35519ea4d95a557",
      "d897fa320af54245acc6fcd2739b6f7a",
      "6583074fde834e03ae91345ace24efb5",
      "4672130c40d94ef6ac58d883e2c8ffce",
      "2c3260db68504c218c6cb4a9595ecfa2",
      "c91ee6d58c284a95b360e6611370798e",
      "aeb71a2a89104c848ed41fc5006c5805",
      "3749f00671db47bc99467de4204711c0",
      "da9cf40a80304fe88b048ea10e5196e9",
      "af051737766947589e18254f5c2033d5",
      "74503ecec88842cfa69cbdb902b395fe",
      "ddef63dfe3e74ba49dbf6051bf722e0d",
      "fd0e5a4934a34d18ab88c4ca8ab3dc75",
      "bacfe422613b4c7780ad923450816994",
      "96404a5696b74049b8604e1dda45dac2",
      "552263c3e3134796b133fee0629de459",
      "104b92696a5f493f99011a406bbbf8c1",
      "724f1825077d413aae488ef453f01796",
      "db37b23e8c264d429698116875c4e312",
      "edb9866a75494a4487d81842fddfab72",
      "afe14a5d75754442b436f869793e3175",
      "10b836b9ae4f4bc1aa93f621e4b3850f",
      "ebf1114e2a31497986c31b83da854a1f",
      "3416f38e52144bfc9b9dcc911e67994d",
      "6bc4fbd76d424be3ad21868a0e8b2ac2",
      "052c6189baff44428005e75a67c4ba20",
      "5ac3ad33cea44f1d89b8efa158f32def",
      "c2425b1c9d9341beb50efbb635e125cc",
      "abc497f9b2d74edf8cde24195e210918",
      "01759022aa4343e990816c326582fd17",
      "2db05ad01af3415581d77854e595698a",
      "7ef31dc17e5b40a3b42263ced7d16a68",
      "98fa85b7d6a0489fbe67d54ba7708cf1",
      "e46b6f6e9e3a412ea2ee648e8f021ab5",
      "2039dc945068484fb87e33df60ddb211",
      "a4b16f6579a9422db8e9aef1da13c24f",
      "504deb75020145a9ba1ba72ea0815166",
      "7327e0b4d9de42c784468710f0e630a0",
      "82ec670a2bbf40979292fa4d9584cea5",
      "2b9eea82a8494e40a88c79bf470b93fe",
      "dc810c8593ec474fbd4095775728ba19",
      "a50adc3992804b2d9c8870d99b9015f0"
     ]
    },
    "collapsed": true,
    "id": "BWfRz87VlIZx",
    "jupyter": {
     "outputs_hidden": true
    },
    "outputId": "bb8b2624-fcc4-4f85-b8b6-6bdd7580270f"
   },
   "outputs": [
    {
     "name": "stderr",
     "output_type": "stream",
     "text": [
      "INFO:pytorch_lightning.utilities.rank_zero:💡 Tip: For seamless cloud uploads and versioning, try installing [litmodels](https://pypi.org/project/litmodels/) to enable LitModelCheckpoint, which syncs automatically with the Lightning model registry.\n",
      "INFO:pytorch_lightning.utilities.rank_zero:GPU available: True (cuda), used: True\n",
      "INFO:pytorch_lightning.utilities.rank_zero:TPU available: False, using: 0 TPU cores\n",
      "INFO:pytorch_lightning.utilities.rank_zero:HPU available: False, using: 0 HPUs\n",
      "INFO:pytorch_lightning.accelerators.cuda:LOCAL_RANK: 0 - CUDA_VISIBLE_DEVICES: [0]\n",
      "INFO:pytorch_lightning.callbacks.model_summary:\n",
      "  | Name              | Type               | Params | Mode \n",
      "-----------------------------------------------------------------\n",
      "0 | model             | Model              | 599 K  | train\n",
      "1 | loss_fn           | CrossEntropyLoss   | 0      | train\n",
      "2 | train_accuracy    | MulticlassAccuracy | 0      | train\n",
      "3 | val_accuracy      | MulticlassAccuracy | 0      | train\n",
      "4 | train_f1          | MulticlassF1Score  | 0      | train\n",
      "5 | val_f1            | MulticlassF1Score  | 0      | train\n",
      "6 | test_accuracy     | MulticlassAccuracy | 0      | train\n",
      "7 | test_f1           | MulticlassF1Score  | 0      | train\n",
      "8 | test_f1_per_class | MulticlassF1Score  | 0      | train\n",
      "-----------------------------------------------------------------\n",
      "599 K     Trainable params\n",
      "0         Non-trainable params\n",
      "599 K     Total params\n",
      "2.399     Total estimated model params size (MB)\n",
      "61        Modules in train mode\n",
      "0         Modules in eval mode\n"
     ]
    },
    {
     "data": {
      "application/vnd.jupyter.widget-view+json": {
       "model_id": "ad860e0156fd4c8eb351fb6b361a05ca",
       "version_major": 2,
       "version_minor": 0
      },
      "text/plain": [
       "Sanity Checking: |          | 0/? [00:00<?, ?it/s]"
      ]
     },
     "metadata": {},
     "output_type": "display_data"
    },
    {
     "data": {
      "application/vnd.jupyter.widget-view+json": {
       "model_id": "44a83ed519674d58918b07dfa712081e",
       "version_major": 2,
       "version_minor": 0
      },
      "text/plain": [
       "Training: |          | 0/? [00:00<?, ?it/s]"
      ]
     },
     "metadata": {},
     "output_type": "display_data"
    },
    {
     "data": {
      "application/vnd.jupyter.widget-view+json": {
       "model_id": "5eaa170386a842458486b4619cdc66e4",
       "version_major": 2,
       "version_minor": 0
      },
      "text/plain": [
       "Validation: |          | 0/? [00:00<?, ?it/s]"
      ]
     },
     "metadata": {},
     "output_type": "display_data"
    },
    {
     "data": {
      "application/vnd.jupyter.widget-view+json": {
       "model_id": "af051737766947589e18254f5c2033d5",
       "version_major": 2,
       "version_minor": 0
      },
      "text/plain": [
       "Validation: |          | 0/? [00:00<?, ?it/s]"
      ]
     },
     "metadata": {},
     "output_type": "display_data"
    },
    {
     "data": {
      "application/vnd.jupyter.widget-view+json": {
       "model_id": "afe14a5d75754442b436f869793e3175",
       "version_major": 2,
       "version_minor": 0
      },
      "text/plain": [
       "Validation: |          | 0/? [00:00<?, ?it/s]"
      ]
     },
     "metadata": {},
     "output_type": "display_data"
    },
    {
     "name": "stderr",
     "output_type": "stream",
     "text": [
      "INFO:pytorch_lightning.utilities.rank_zero:`Trainer.fit` stopped: `max_epochs=3` reached.\n",
      "INFO:pytorch_lightning.accelerators.cuda:LOCAL_RANK: 0 - CUDA_VISIBLE_DEVICES: [0]\n"
     ]
    },
    {
     "data": {
      "application/vnd.jupyter.widget-view+json": {
       "model_id": "7ef31dc17e5b40a3b42263ced7d16a68",
       "version_major": 2,
       "version_minor": 0
      },
      "text/plain": [
       "Testing: |          | 0/? [00:00<?, ?it/s]"
      ]
     },
     "metadata": {},
     "output_type": "display_data"
    },
    {
     "data": {
      "text/html": [
       "<pre style=\"white-space:pre;overflow-x:auto;line-height:normal;font-family:Menlo,'DejaVu Sans Mono',consolas,'Courier New',monospace\">┏━━━━━━━━━━━━━━━━━━━━━━━━━━━┳━━━━━━━━━━━━━━━━━━━━━━━━━━━┓\n",
       "┃<span style=\"font-weight: bold\">        Test metric        </span>┃<span style=\"font-weight: bold\">       DataLoader 0        </span>┃\n",
       "┡━━━━━━━━━━━━━━━━━━━━━━━━━━━╇━━━━━━━━━━━━━━━━━━━━━━━━━━━┩\n",
       "│<span style=\"color: #008080; text-decoration-color: #008080\">      -- test_acc --       </span>│<span style=\"color: #800080; text-decoration-color: #800080\">    0.8881250023841858     </span>│\n",
       "│<span style=\"color: #008080; text-decoration-color: #008080\">       -- test_f1 --       </span>│<span style=\"color: #800080; text-decoration-color: #800080\">    0.8881250023841858     </span>│\n",
       "│<span style=\"color: #008080; text-decoration-color: #008080\">      -- test_loss --      </span>│<span style=\"color: #800080; text-decoration-color: #800080\">    0.28510233759880066    </span>│\n",
       "│<span style=\"color: #008080; text-decoration-color: #008080\">      test_f1_class_0      </span>│<span style=\"color: #800080; text-decoration-color: #800080\">    0.8879989981651306     </span>│\n",
       "│<span style=\"color: #008080; text-decoration-color: #008080\">      test_f1_class_1      </span>│<span style=\"color: #800080; text-decoration-color: #800080\">    0.8882507085800171     </span>│\n",
       "└───────────────────────────┴───────────────────────────┘\n",
       "</pre>\n"
      ],
      "text/plain": [
       "┏━━━━━━━━━━━━━━━━━━━━━━━━━━━┳━━━━━━━━━━━━━━━━━━━━━━━━━━━┓\n",
       "┃\u001b[1m \u001b[0m\u001b[1m       Test metric       \u001b[0m\u001b[1m \u001b[0m┃\u001b[1m \u001b[0m\u001b[1m      DataLoader 0       \u001b[0m\u001b[1m \u001b[0m┃\n",
       "┡━━━━━━━━━━━━━━━━━━━━━━━━━━━╇━━━━━━━━━━━━━━━━━━━━━━━━━━━┩\n",
       "│\u001b[36m \u001b[0m\u001b[36m     -- test_acc --      \u001b[0m\u001b[36m \u001b[0m│\u001b[35m \u001b[0m\u001b[35m   0.8881250023841858    \u001b[0m\u001b[35m \u001b[0m│\n",
       "│\u001b[36m \u001b[0m\u001b[36m      -- test_f1 --      \u001b[0m\u001b[36m \u001b[0m│\u001b[35m \u001b[0m\u001b[35m   0.8881250023841858    \u001b[0m\u001b[35m \u001b[0m│\n",
       "│\u001b[36m \u001b[0m\u001b[36m     -- test_loss --     \u001b[0m\u001b[36m \u001b[0m│\u001b[35m \u001b[0m\u001b[35m   0.28510233759880066   \u001b[0m\u001b[35m \u001b[0m│\n",
       "│\u001b[36m \u001b[0m\u001b[36m     test_f1_class_0     \u001b[0m\u001b[36m \u001b[0m│\u001b[35m \u001b[0m\u001b[35m   0.8879989981651306    \u001b[0m\u001b[35m \u001b[0m│\n",
       "│\u001b[36m \u001b[0m\u001b[36m     test_f1_class_1     \u001b[0m\u001b[36m \u001b[0m│\u001b[35m \u001b[0m\u001b[35m   0.8882507085800171    \u001b[0m\u001b[35m \u001b[0m│\n",
       "└───────────────────────────┴───────────────────────────┘\n"
      ]
     },
     "metadata": {},
     "output_type": "display_data"
    }
   ],
   "source": [
    "tuples = [(gru_Attention_2,None),(gru_Attention,conv_lin_ffn),(gru_Attention_2,lin_gelu_ffn)]\n",
    "model, _ = train_model(num_labels=2,\n",
    "                hidden_dim=18,\n",
    "                max_leng = 1200,\n",
    "                attn_ffn_tuples=tuples,\n",
    "                ffn_dim=28,\n",
    "                batch_size=64,\n",
    "                lr=1e-3,\n",
    "                num_repeat_modules=2,\n",
    "                train_data=imdb_train,\n",
    "                val_data=imdb_test.shuffle().select(range(9000)),\n",
    "                test_data=imdb_test.shuffle().select(range(9000,25000)),\n",
    "                max_epochs=3)"
   ]
  }
 ],
 "metadata": {
  "cells": [],
  "kernelspec": {
   "display_name": "",
   "name": ""
  },
  "language_info": {
   "name": ""
  },
  "metadata": {
   "kernelspec": {
    "display_name": "Python 3",
    "language": "python",
    "name": "python3"
   },
   "language_info": {
    "name": "python",
    "version": "3.10.12"
   }
  },
  "nbformat": 4,
  "nbformat_minor": 5
 },
 "nbformat": 4,
 "nbformat_minor": 4
}
