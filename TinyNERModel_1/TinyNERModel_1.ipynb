{
  "nbformat": 4,
  "nbformat_minor": 0,
  "metadata": {
    "colab": {
      "provenance": [],
      "authorship_tag": "ABX9TyOd+mgr1kBBzYAToaNIfUYz",
      "include_colab_link": true
    },
    "kernelspec": {
      "name": "python3",
      "display_name": "Python 3"
    },
    "language_info": {
      "name": "python"
    },
    "widgets": {
      "application/vnd.jupyter.widget-state+json": {
        "14ff817b2d304f07a9b0071312fe9cd4": {
          "model_module": "@jupyter-widgets/controls",
          "model_name": "HBoxModel",
          "model_module_version": "1.5.0",
          "state": {
            "_dom_classes": [],
            "_model_module": "@jupyter-widgets/controls",
            "_model_module_version": "1.5.0",
            "_model_name": "HBoxModel",
            "_view_count": null,
            "_view_module": "@jupyter-widgets/controls",
            "_view_module_version": "1.5.0",
            "_view_name": "HBoxView",
            "box_style": "",
            "children": [
              "IPY_MODEL_06791e8e8b604178929023d73a7738e3",
              "IPY_MODEL_2d5ba3b2038945bfadb27cadaca548c5",
              "IPY_MODEL_6e32dc77af6148798b7e675b5b04096e"
            ],
            "layout": "IPY_MODEL_39cb80caf3554c11b4fcf4a025d84f0b"
          }
        },
        "06791e8e8b604178929023d73a7738e3": {
          "model_module": "@jupyter-widgets/controls",
          "model_name": "HTMLModel",
          "model_module_version": "1.5.0",
          "state": {
            "_dom_classes": [],
            "_model_module": "@jupyter-widgets/controls",
            "_model_module_version": "1.5.0",
            "_model_name": "HTMLModel",
            "_view_count": null,
            "_view_module": "@jupyter-widgets/controls",
            "_view_module_version": "1.5.0",
            "_view_name": "HTMLView",
            "description": "",
            "description_tooltip": null,
            "layout": "IPY_MODEL_7b02626e29f048c3b75543c71a9c77e4",
            "placeholder": "​",
            "style": "IPY_MODEL_a7d693da7b0b48f8847676c9aebdf587",
            "value": "Epoch 2: 100%"
          }
        },
        "2d5ba3b2038945bfadb27cadaca548c5": {
          "model_module": "@jupyter-widgets/controls",
          "model_name": "FloatProgressModel",
          "model_module_version": "1.5.0",
          "state": {
            "_dom_classes": [],
            "_model_module": "@jupyter-widgets/controls",
            "_model_module_version": "1.5.0",
            "_model_name": "FloatProgressModel",
            "_view_count": null,
            "_view_module": "@jupyter-widgets/controls",
            "_view_module_version": "1.5.0",
            "_view_name": "ProgressView",
            "bar_style": "success",
            "description": "",
            "description_tooltip": null,
            "layout": "IPY_MODEL_2fbb2bd5ef9040889be0ab8c3e77e719",
            "max": 1,
            "min": 0,
            "orientation": "horizontal",
            "style": "IPY_MODEL_3dac884f59fc4f9f89b869caeaad6072",
            "value": 1
          }
        },
        "6e32dc77af6148798b7e675b5b04096e": {
          "model_module": "@jupyter-widgets/controls",
          "model_name": "HTMLModel",
          "model_module_version": "1.5.0",
          "state": {
            "_dom_classes": [],
            "_model_module": "@jupyter-widgets/controls",
            "_model_module_version": "1.5.0",
            "_model_name": "HTMLModel",
            "_view_count": null,
            "_view_module": "@jupyter-widgets/controls",
            "_view_module_version": "1.5.0",
            "_view_name": "HTMLView",
            "description": "",
            "description_tooltip": null,
            "layout": "IPY_MODEL_79460ebb2b924c788595f11a93c4d8b4",
            "placeholder": "​",
            "style": "IPY_MODEL_d1b1b71be2ef40dfbf319ad88ec75bcb",
            "value": " 2/2 [00:00&lt;00:00, 43.63it/s]"
          }
        },
        "39cb80caf3554c11b4fcf4a025d84f0b": {
          "model_module": "@jupyter-widgets/base",
          "model_name": "LayoutModel",
          "model_module_version": "1.2.0",
          "state": {
            "_model_module": "@jupyter-widgets/base",
            "_model_module_version": "1.2.0",
            "_model_name": "LayoutModel",
            "_view_count": null,
            "_view_module": "@jupyter-widgets/base",
            "_view_module_version": "1.2.0",
            "_view_name": "LayoutView",
            "align_content": null,
            "align_items": null,
            "align_self": null,
            "border": null,
            "bottom": null,
            "display": "inline-flex",
            "flex": null,
            "flex_flow": "row wrap",
            "grid_area": null,
            "grid_auto_columns": null,
            "grid_auto_flow": null,
            "grid_auto_rows": null,
            "grid_column": null,
            "grid_gap": null,
            "grid_row": null,
            "grid_template_areas": null,
            "grid_template_columns": null,
            "grid_template_rows": null,
            "height": null,
            "justify_content": null,
            "justify_items": null,
            "left": null,
            "margin": null,
            "max_height": null,
            "max_width": null,
            "min_height": null,
            "min_width": null,
            "object_fit": null,
            "object_position": null,
            "order": null,
            "overflow": null,
            "overflow_x": null,
            "overflow_y": null,
            "padding": null,
            "right": null,
            "top": null,
            "visibility": null,
            "width": "100%"
          }
        },
        "7b02626e29f048c3b75543c71a9c77e4": {
          "model_module": "@jupyter-widgets/base",
          "model_name": "LayoutModel",
          "model_module_version": "1.2.0",
          "state": {
            "_model_module": "@jupyter-widgets/base",
            "_model_module_version": "1.2.0",
            "_model_name": "LayoutModel",
            "_view_count": null,
            "_view_module": "@jupyter-widgets/base",
            "_view_module_version": "1.2.0",
            "_view_name": "LayoutView",
            "align_content": null,
            "align_items": null,
            "align_self": null,
            "border": null,
            "bottom": null,
            "display": null,
            "flex": null,
            "flex_flow": null,
            "grid_area": null,
            "grid_auto_columns": null,
            "grid_auto_flow": null,
            "grid_auto_rows": null,
            "grid_column": null,
            "grid_gap": null,
            "grid_row": null,
            "grid_template_areas": null,
            "grid_template_columns": null,
            "grid_template_rows": null,
            "height": null,
            "justify_content": null,
            "justify_items": null,
            "left": null,
            "margin": null,
            "max_height": null,
            "max_width": null,
            "min_height": null,
            "min_width": null,
            "object_fit": null,
            "object_position": null,
            "order": null,
            "overflow": null,
            "overflow_x": null,
            "overflow_y": null,
            "padding": null,
            "right": null,
            "top": null,
            "visibility": null,
            "width": null
          }
        },
        "a7d693da7b0b48f8847676c9aebdf587": {
          "model_module": "@jupyter-widgets/controls",
          "model_name": "DescriptionStyleModel",
          "model_module_version": "1.5.0",
          "state": {
            "_model_module": "@jupyter-widgets/controls",
            "_model_module_version": "1.5.0",
            "_model_name": "DescriptionStyleModel",
            "_view_count": null,
            "_view_module": "@jupyter-widgets/base",
            "_view_module_version": "1.2.0",
            "_view_name": "StyleView",
            "description_width": ""
          }
        },
        "2fbb2bd5ef9040889be0ab8c3e77e719": {
          "model_module": "@jupyter-widgets/base",
          "model_name": "LayoutModel",
          "model_module_version": "1.2.0",
          "state": {
            "_model_module": "@jupyter-widgets/base",
            "_model_module_version": "1.2.0",
            "_model_name": "LayoutModel",
            "_view_count": null,
            "_view_module": "@jupyter-widgets/base",
            "_view_module_version": "1.2.0",
            "_view_name": "LayoutView",
            "align_content": null,
            "align_items": null,
            "align_self": null,
            "border": null,
            "bottom": null,
            "display": null,
            "flex": "2",
            "flex_flow": null,
            "grid_area": null,
            "grid_auto_columns": null,
            "grid_auto_flow": null,
            "grid_auto_rows": null,
            "grid_column": null,
            "grid_gap": null,
            "grid_row": null,
            "grid_template_areas": null,
            "grid_template_columns": null,
            "grid_template_rows": null,
            "height": null,
            "justify_content": null,
            "justify_items": null,
            "left": null,
            "margin": null,
            "max_height": null,
            "max_width": null,
            "min_height": null,
            "min_width": null,
            "object_fit": null,
            "object_position": null,
            "order": null,
            "overflow": null,
            "overflow_x": null,
            "overflow_y": null,
            "padding": null,
            "right": null,
            "top": null,
            "visibility": null,
            "width": null
          }
        },
        "3dac884f59fc4f9f89b869caeaad6072": {
          "model_module": "@jupyter-widgets/controls",
          "model_name": "ProgressStyleModel",
          "model_module_version": "1.5.0",
          "state": {
            "_model_module": "@jupyter-widgets/controls",
            "_model_module_version": "1.5.0",
            "_model_name": "ProgressStyleModel",
            "_view_count": null,
            "_view_module": "@jupyter-widgets/base",
            "_view_module_version": "1.2.0",
            "_view_name": "StyleView",
            "bar_color": null,
            "description_width": ""
          }
        },
        "79460ebb2b924c788595f11a93c4d8b4": {
          "model_module": "@jupyter-widgets/base",
          "model_name": "LayoutModel",
          "model_module_version": "1.2.0",
          "state": {
            "_model_module": "@jupyter-widgets/base",
            "_model_module_version": "1.2.0",
            "_model_name": "LayoutModel",
            "_view_count": null,
            "_view_module": "@jupyter-widgets/base",
            "_view_module_version": "1.2.0",
            "_view_name": "LayoutView",
            "align_content": null,
            "align_items": null,
            "align_self": null,
            "border": null,
            "bottom": null,
            "display": null,
            "flex": null,
            "flex_flow": null,
            "grid_area": null,
            "grid_auto_columns": null,
            "grid_auto_flow": null,
            "grid_auto_rows": null,
            "grid_column": null,
            "grid_gap": null,
            "grid_row": null,
            "grid_template_areas": null,
            "grid_template_columns": null,
            "grid_template_rows": null,
            "height": null,
            "justify_content": null,
            "justify_items": null,
            "left": null,
            "margin": null,
            "max_height": null,
            "max_width": null,
            "min_height": null,
            "min_width": null,
            "object_fit": null,
            "object_position": null,
            "order": null,
            "overflow": null,
            "overflow_x": null,
            "overflow_y": null,
            "padding": null,
            "right": null,
            "top": null,
            "visibility": null,
            "width": null
          }
        },
        "d1b1b71be2ef40dfbf319ad88ec75bcb": {
          "model_module": "@jupyter-widgets/controls",
          "model_name": "DescriptionStyleModel",
          "model_module_version": "1.5.0",
          "state": {
            "_model_module": "@jupyter-widgets/controls",
            "_model_module_version": "1.5.0",
            "_model_name": "DescriptionStyleModel",
            "_view_count": null,
            "_view_module": "@jupyter-widgets/base",
            "_view_module_version": "1.2.0",
            "_view_name": "StyleView",
            "description_width": ""
          }
        }
      }
    }
  },
  "cells": [
    {
      "cell_type": "markdown",
      "metadata": {
        "id": "view-in-github",
        "colab_type": "text"
      },
      "source": [
        "<a href=\"https://colab.research.google.com/github/YasJanam/NLP_MODELS_2/blob/main/TinyNERModel_1/TinyNERModel_1.ipynb\" target=\"_parent\"><img src=\"https://colab.research.google.com/assets/colab-badge.svg\" alt=\"Open In Colab\"/></a>"
      ]
    },
    {
      "cell_type": "code",
      "source": [
        "!pip install pytorch_lightning"
      ],
      "metadata": {
        "collapsed": true,
        "id": "qXdL4Q0OYiUm"
      },
      "execution_count": null,
      "outputs": []
    },
    {
      "cell_type": "code",
      "execution_count": 1,
      "metadata": {
        "id": "vrq_gmU8X1b7"
      },
      "outputs": [],
      "source": [
        "import torch\n",
        "import torch.nn as nn\n",
        "from torch.utils.data import Dataset, DataLoader\n",
        "import pytorch_lightning as pl\n",
        "from torch.nn.utils.rnn import pad_sequence\n",
        "from sklearn.metrics import f1_score\n",
        "from datasets import load_dataset"
      ]
    },
    {
      "cell_type": "code",
      "source": [
        "# ===== Mini Dataset =====\n",
        "data = [\n",
        "    (\"Ali lives in Tehran\", [\"PER\",\"O\",\"O\",\"LOC\"]),\n",
        "    (\"Sara works at Google\", [\"PER\",\"O\",\"O\",\"ORG\"]),\n",
        "    (\"I saw John in Paris\", [\"O\",\"O\",\"PER\",\"O\",\"LOC\"])\n",
        "]\n",
        "\n",
        "label2id = {\"O\":0, \"PER\":1, \"LOC\":2, \"ORG\":3}\n",
        "id2label = {0:\"O\", 1:\"PER\", 2:\"LOC\", 3:\"ORG\"}"
      ],
      "metadata": {
        "id": "4gFd9YZVYbLl"
      },
      "execution_count": 3,
      "outputs": []
    },
    {
      "cell_type": "code",
      "source": [
        "# ===== vocab =====\n",
        "vocab = {\"<PAD>\":0}\n",
        "for sentence, _ in data:\n",
        "  for tok in sentence.split():\n",
        "    if tok not in vocab:\n",
        "      vocab[tok] = len(vocab)"
      ],
      "metadata": {
        "id": "sSAGTY6Pj5Z3"
      },
      "execution_count": 4,
      "outputs": []
    },
    {
      "cell_type": "code",
      "source": [
        "class MiniNERDataset(Dataset):\n",
        "  def __init__(self, data, vocab, label2id):\n",
        "    self.data = data\n",
        "    self.vocab = vocab\n",
        "    self.label2id = label2id\n",
        "\n",
        "  def __len__(self):\n",
        "    return len(self.data)\n",
        "\n",
        "  def __getitem__(self, idx):\n",
        "    tokens, labels = self.data[idx]\n",
        "    tokens = tokens.split()\n",
        "    input_ids = [self.vocab[tok] for tok in tokens]\n",
        "    label_ids = [self.label2id[l] for l in labels]\n",
        "    return torch.tensor(input_ids), torch.tensor(label_ids)"
      ],
      "metadata": {
        "id": "J0nWNXSuZwVf"
      },
      "execution_count": 5,
      "outputs": []
    },
    {
      "cell_type": "code",
      "source": [
        "def collate_fn(batch):\n",
        "  input_ids, label_ids = zip(*batch)\n",
        "  input_ids_padded = pad_sequence(input_ids, batch_first=True, padding_value=0)\n",
        "  label_ids_padded = pad_sequence(label_ids, batch_first=True, padding_value=-100)\n",
        "  return input_ids_padded, label_ids_padded"
      ],
      "metadata": {
        "id": "AW61SrZLks7i"
      },
      "execution_count": 6,
      "outputs": []
    },
    {
      "cell_type": "code",
      "source": [
        "# ===== Simple Encoder =====\n",
        "class SimpleEncoder(nn.Module):\n",
        "  def __init__(self, vocab_size=1000, hidden_dim=32):\n",
        "    super().__init__()\n",
        "    self.embedding = nn.Embedding(vocab_size, hidden_dim)\n",
        "    self.lstm = nn.LSTM(hidden_dim, hidden_dim, batch_first=True, bidirectional=True)\n",
        "\n",
        "  def forward(self, input_ids):\n",
        "    x = self.embedding(input_ids)\n",
        "    x,_ = self.lstm(x)\n",
        "    return x"
      ],
      "metadata": {
        "id": "hZ9oVX8XbK6W"
      },
      "execution_count": 7,
      "outputs": []
    },
    {
      "cell_type": "code",
      "source": [
        "# ===== TokenClassifier Model =====\n",
        "class TokenClassifier(nn.Module):\n",
        "  def __init__(self, encoder, num_labels):\n",
        "    super().__init__()\n",
        "    self.encoder = encoder\n",
        "    self.classifier = nn.Linear(encoder.lstm.hidden_size * 2, num_labels)\n",
        "\n",
        "  def forward(self, input_ids):\n",
        "    x = self.encoder(input_ids)\n",
        "    logits = self.classifier(x)\n",
        "    return logits"
      ],
      "metadata": {
        "id": "VaJvLhizcUiY"
      },
      "execution_count": 12,
      "outputs": []
    },
    {
      "cell_type": "code",
      "source": [
        "# ===== Lightning Module =====\n",
        "class NERModule(pl.LightningModule):\n",
        "  def __init__(self, model, lr=1e-3):\n",
        "    super().__init__()\n",
        "    self.model = model\n",
        "    self.loss_fn = nn.CrossEntropyLoss()\n",
        "    self.lr = lr\n",
        "    self.dataset = MiniNERDataset(data, vocab, label2id) # Store dataset as an attribute\n",
        "\n",
        "\n",
        "  def train_dataloader(self):\n",
        "    return DataLoader(self.dataset, batch_size=2, shuffle=True, collate_fn=collate_fn) # Use collate_fn\n",
        "\n",
        "  def training_step(self, batch, batch_idx):\n",
        "    # Unpack the tuple provided by the DataLoader with collate_fn\n",
        "    input_ids, labels = batch\n",
        "\n",
        "    logits = self.model(input_ids)\n",
        "    loss = self.loss_fn(logits.view(-1, logits.shape[-1]), labels.view(-1))\n",
        "    self.log(\"train_loss\", loss)\n",
        "    return loss\n",
        "\n",
        "\n",
        "  def configure_optimizers(self):\n",
        "    return torch.optim.Adam(self.parameters(), lr=self.lr)"
      ],
      "metadata": {
        "id": "r0p6TIiwdLi-"
      },
      "execution_count": 9,
      "outputs": []
    },
    {
      "cell_type": "code",
      "source": [
        "dataset = MiniNERDataset(data, vocab, label2id)\n",
        "loader = DataLoader(dataset, batch_size=2, shuffle=True, collate_fn=collate_fn)"
      ],
      "metadata": {
        "id": "5XR__TdSqpZg"
      },
      "execution_count": 10,
      "outputs": []
    },
    {
      "cell_type": "code",
      "source": [
        "# ===== Training =====\n",
        "encoder = SimpleEncoder(vocab_size=len(vocab))\n",
        "model = TokenClassifier(encoder, num_labels=len(label2id))\n",
        "ner_module = NERModule(model)\n",
        "\n",
        "trainer = pl.Trainer(max_epochs=3, accelerator='cpu',logger=False)\n",
        "trainer.fit(ner_module, loader)"
      ],
      "metadata": {
        "colab": {
          "base_uri": "https://localhost:8080/",
          "height": 381,
          "referenced_widgets": [
            "14ff817b2d304f07a9b0071312fe9cd4",
            "06791e8e8b604178929023d73a7738e3",
            "2d5ba3b2038945bfadb27cadaca548c5",
            "6e32dc77af6148798b7e675b5b04096e",
            "39cb80caf3554c11b4fcf4a025d84f0b",
            "7b02626e29f048c3b75543c71a9c77e4",
            "a7d693da7b0b48f8847676c9aebdf587",
            "2fbb2bd5ef9040889be0ab8c3e77e719",
            "3dac884f59fc4f9f89b869caeaad6072",
            "79460ebb2b924c788595f11a93c4d8b4",
            "d1b1b71be2ef40dfbf319ad88ec75bcb"
          ]
        },
        "id": "z_LTg9DEfqLQ",
        "outputId": "7099d1c9-d035-4a0f-f6f1-76060c7f8946"
      },
      "execution_count": 11,
      "outputs": [
        {
          "output_type": "stream",
          "name": "stderr",
          "text": [
            "INFO:pytorch_lightning.utilities.rank_zero:💡 Tip: For seamless cloud uploads and versioning, try installing [litmodels](https://pypi.org/project/litmodels/) to enable LitModelCheckpoint, which syncs automatically with the Lightning model registry.\n",
            "INFO:pytorch_lightning.utilities.rank_zero:GPU available: False, used: False\n",
            "INFO:pytorch_lightning.utilities.rank_zero:TPU available: False, using: 0 TPU cores\n",
            "INFO:pytorch_lightning.utilities.rank_zero:HPU available: False, using: 0 HPUs\n",
            "/usr/local/lib/python3.12/dist-packages/pytorch_lightning/callbacks/model_checkpoint.py:751: Checkpoint directory /content/checkpoints exists and is not empty.\n",
            "INFO:pytorch_lightning.callbacks.model_summary:\n",
            "  | Name    | Type             | Params | Mode \n",
            "-----------------------------------------------------\n",
            "0 | model   | TokenClassifier  | 17.6 K | train\n",
            "1 | loss_fn | CrossEntropyLoss | 0      | train\n",
            "-----------------------------------------------------\n",
            "17.6 K    Trainable params\n",
            "0         Non-trainable params\n",
            "17.6 K    Total params\n",
            "0.070     Total estimated model params size (MB)\n",
            "6         Modules in train mode\n",
            "0         Modules in eval mode\n"
          ]
        },
        {
          "output_type": "display_data",
          "data": {
            "text/plain": [
              "Training: |          | 0/? [00:00<?, ?it/s]"
            ],
            "application/vnd.jupyter.widget-view+json": {
              "version_major": 2,
              "version_minor": 0,
              "model_id": "14ff817b2d304f07a9b0071312fe9cd4"
            }
          },
          "metadata": {}
        },
        {
          "output_type": "stream",
          "name": "stderr",
          "text": [
            "INFO:pytorch_lightning.utilities.rank_zero:`Trainer.fit` stopped: `max_epochs=3` reached.\n"
          ]
        }
      ]
    },
    {
      "cell_type": "code",
      "source": [
        "print(ner_module)"
      ],
      "metadata": {
        "colab": {
          "base_uri": "https://localhost:8080/"
        },
        "id": "mGtGfr0JsQGa",
        "outputId": "2d7346aa-48b6-45dc-e94d-05b55a16d5f7"
      },
      "execution_count": 14,
      "outputs": [
        {
          "output_type": "stream",
          "name": "stdout",
          "text": [
            "NERModule(\n",
            "  (model): TokenClassifier(\n",
            "    (encoder): SimpleEncoder(\n",
            "      (embedding): Embedding(13, 32)\n",
            "      (lstm): LSTM(32, 32, batch_first=True, bidirectional=True)\n",
            "    )\n",
            "    (classifier): Linear(in_features=64, out_features=4, bias=True)\n",
            "  )\n",
            "  (loss_fn): CrossEntropyLoss()\n",
            ")\n"
          ]
        }
      ]
    }
  ]
}