{
 "cells": [
  {
   "cell_type": "code",
   "execution_count": null,
   "metadata": {
    "colab": {
     "base_uri": "https://localhost:8080/"
    },
    "id": "MKXmzlNBPQuo",
    "outputId": "b3c47c0c-5fdb-42f7-bac7-ea9b594edbdb"
   },
   "outputs": [],
   "source": [
    "!pip install pytorch_lightning  seqeval evaluate"
   ]
  },
  {
   "cell_type": "code",
   "execution_count": 2,
   "metadata": {
    "id": "VfgkWyGSPCpF"
   },
   "outputs": [],
   "source": [
    "import torch\n",
    "import torch.nn as nn\n",
    "import torch.nn.functional as F\n",
    "import math\n",
    "from torch.utils.data import Dataset, DataLoader, WeightedRandomSampler\n",
    "import pytorch_lightning as pl\n",
    "from torch.nn.utils.rnn import pad_sequence\n",
    "from sklearn.metrics import f1_score\n",
    "from datasets import load_dataset, Dataset, concatenate_datasets\n",
    "from evaluate import load as load_metric\n",
    "from transformers import AutoTokenizer\n",
    "from pytorch_lightning.callbacks import EarlyStopping\n",
    "import random\n",
    "import pandas as pd\n",
    "from google.colab import files\n",
    "import builtins\n",
    "import statistics\n",
    "import numpy as np\n",
    "\n",
    "device = \"cuda\" if torch.cuda.is_available() else \"cpu\""
   ]
  },
  {
   "cell_type": "markdown",
   "metadata": {
    "id": "0P-RcfrKPUbd"
   },
   "source": [
    "#### **Load Datasets**"
   ]
  },
  {
   "cell_type": "code",
   "execution_count": 3,
   "metadata": {
    "colab": {
     "base_uri": "https://localhost:8080/",
     "height": 269,
     "referenced_widgets": [
      "1fd1eb626ca74a44aaeb6c105d28ddc5",
      "3efc1020aca94aacbf619336135acbd3",
      "427d4f75b4be4c70b6b9b05e1852aa4c",
      "0da0a33b69ce4994a1e0de3eaacbf24a",
      "322aa42c4c924b80add1563bee9041b2",
      "d6c680c7b29b457f945b7cb6974e5a5b",
      "b4d9e467dc3c41deabc251618f0ac546",
      "e1f8edaa02e540559becf7291a5ca0bf",
      "8d3e92aee241473da373f41b61a66344",
      "dec6212004df4a83852c22e1aef1dce3",
      "af57df775060460aaf6f992624a4fdda",
      "4d92e036502f4368af2e5421d9b1ccef",
      "1755d6fb0f394d37b6514f0e93a6c407",
      "ca6d7987435f4d849a1b949793bd4a9c",
      "a441c6a93fd241aca2dffcacc7ca78a4",
      "98e65da83e0545cca10d3aa8bf746739",
      "bdc7c4a137bb4243bda05b6cf8b70681",
      "04507d8a460e4dca8ed217c3d614ac94",
      "7a94a16ba8a843f08a87245f0550c05d",
      "eacdb1b9dad54a6286f19692cd15a8cf",
      "43c5bd7e956f42afaecb272c59813b4e",
      "7ef6c4beccff46c2b4bef1224eeba8a4",
      "64d00987a5cb4f6cb4e0816a56454be4",
      "4ba018aea98b49f8bc07dee57bcc09bb",
      "aaa56c6055074ec9bc780dcf5dd358cd",
      "7e781e0a9ffb456db08b6225bca7ee9d",
      "404cc8c05a6f451398768e54e1066a9b",
      "b9765582870c466abca8e4bbc36ee240",
      "25318132c3df4dc3983325f0624bdc85",
      "0b72c313b2584804806fcb3d2297fc10",
      "862a5c66086e4b49bc8d595a945eb30c",
      "e94e5b6c1585494b85db71c82f4b30bc",
      "1492a9e081f94fa9bc011d87e2cf72b1",
      "aa7671578f314ba782a7ad12300c5814",
      "f0dddbdf2fb841c5952dc9f60d358578",
      "c096a856b6fb4c6c9b524dd195b0cf9b",
      "c0723dc9934b40a28b657c1347cd8690",
      "f33ae70aa1534b7c8a539e9b00f9ce0a",
      "6af932706ad940cfaa3db149a32bab7d",
      "e4061138a93f427a9e7e4241973a7023",
      "fea48546c95a41bf94fc576abbba23fc",
      "802ed4cd44a54b05bdad58d2a45f9ec4",
      "34847082d6fa4b788ff12904c0b2857f",
      "58eb249098784450b9e40d1d8b7b8a1c"
     ]
    },
    "id": "cU6GT93oPU3c",
    "outputId": "ea60f516-9079-4de3-fc60-525739ad70c5"
   },
   "outputs": [
    {
     "name": "stderr",
     "output_type": "stream",
     "text": [
      "/usr/local/lib/python3.12/dist-packages/huggingface_hub/utils/_auth.py:94: UserWarning: \n",
      "The secret `HF_TOKEN` does not exist in your Colab secrets.\n",
      "To authenticate with the Hugging Face Hub, create a token in your settings tab (https://huggingface.co/settings/tokens), set it as secret in your Google Colab and restart your session.\n",
      "You will be able to reuse this secret in all of your notebooks.\n",
      "Please note that authentication is recommended but still optional to access public models or datasets.\n",
      "  warnings.warn(\n"
     ]
    },
    {
     "data": {
      "application/vnd.jupyter.widget-view+json": {
       "model_id": "1fd1eb626ca74a44aaeb6c105d28ddc5",
       "version_major": 2,
       "version_minor": 0
      },
      "text/plain": [
       "tokenizer_config.json:   0%|          | 0.00/48.0 [00:00<?, ?B/s]"
      ]
     },
     "metadata": {},
     "output_type": "display_data"
    },
    {
     "data": {
      "application/vnd.jupyter.widget-view+json": {
       "model_id": "4d92e036502f4368af2e5421d9b1ccef",
       "version_major": 2,
       "version_minor": 0
      },
      "text/plain": [
       "config.json:   0%|          | 0.00/570 [00:00<?, ?B/s]"
      ]
     },
     "metadata": {},
     "output_type": "display_data"
    },
    {
     "data": {
      "application/vnd.jupyter.widget-view+json": {
       "model_id": "64d00987a5cb4f6cb4e0816a56454be4",
       "version_major": 2,
       "version_minor": 0
      },
      "text/plain": [
       "vocab.txt:   0%|          | 0.00/232k [00:00<?, ?B/s]"
      ]
     },
     "metadata": {},
     "output_type": "display_data"
    },
    {
     "data": {
      "application/vnd.jupyter.widget-view+json": {
       "model_id": "aa7671578f314ba782a7ad12300c5814",
       "version_major": 2,
       "version_minor": 0
      },
      "text/plain": [
       "tokenizer.json:   0%|          | 0.00/466k [00:00<?, ?B/s]"
      ]
     },
     "metadata": {},
     "output_type": "display_data"
    }
   ],
   "source": [
    "def upload_dataset_from_system():\n",
    "  uploaded = files.upload()\n",
    "  data = Dataset.from_pandas(pd.read_parquet(list(uploaded.keys())[0]))\n",
    "  return data\n",
    "\n",
    "# --- return dataset classes ---\n",
    "def dataset_classes(dataset):\n",
    "  return list(set([item['label'] for item in dataset]))\n",
    "\n",
    "# --- tokenizer ---\n",
    "tokenizer = AutoTokenizer.from_pretrained(\"bert-base-uncased\")\n",
    "VOCAB_SIZE = tokenizer.vocab_size\n",
    "\n",
    "# --- max , mean of dataset lengths ---\n",
    "def get_max_mean_length(dataset,text='text'):\n",
    "  lengths = [len(tokenizer(x)['input_ids']) for x in dataset[text]]\n",
    "  return {\"max\":builtins.max(lengths) , \"mean\":statistics.mean(lengths)}\n",
    "\n",
    "# --- percentile ---\n",
    "def get_percentile(dataset,per_list=[98,99,99.9],text='text'):\n",
    "  lengths = np.array([len(tokenizer(x)['input_ids']) for x in dataset[text]])\n",
    "  return np.percentile(lengths,per_list)"
   ]
  },
  {
   "cell_type": "code",
   "execution_count": 32,
   "metadata": {
    "colab": {
     "base_uri": "https://localhost:8080/",
     "height": 184
    },
    "id": "Ie7BFs9_PaCp",
    "outputId": "63176f9e-6e0d-470a-933f-5b0cc58ad7df"
   },
   "outputs": [
    {
     "data": {
      "text/html": [
       "\n",
       "     <input type=\"file\" id=\"files-dcc6295b-c837-4f9c-843c-7ba16fb69937\" name=\"files[]\" multiple disabled\n",
       "        style=\"border:none\" />\n",
       "     <output id=\"result-dcc6295b-c837-4f9c-843c-7ba16fb69937\">\n",
       "      Upload widget is only available when the cell has been executed in the\n",
       "      current browser session. Please rerun this cell to enable.\n",
       "      </output>\n",
       "      <script>// Copyright 2017 Google LLC\n",
       "//\n",
       "// Licensed under the Apache License, Version 2.0 (the \"License\");\n",
       "// you may not use this file except in compliance with the License.\n",
       "// You may obtain a copy of the License at\n",
       "//\n",
       "//      http://www.apache.org/licenses/LICENSE-2.0\n",
       "//\n",
       "// Unless required by applicable law or agreed to in writing, software\n",
       "// distributed under the License is distributed on an \"AS IS\" BASIS,\n",
       "// WITHOUT WARRANTIES OR CONDITIONS OF ANY KIND, either express or implied.\n",
       "// See the License for the specific language governing permissions and\n",
       "// limitations under the License.\n",
       "\n",
       "/**\n",
       " * @fileoverview Helpers for google.colab Python module.\n",
       " */\n",
       "(function(scope) {\n",
       "function span(text, styleAttributes = {}) {\n",
       "  const element = document.createElement('span');\n",
       "  element.textContent = text;\n",
       "  for (const key of Object.keys(styleAttributes)) {\n",
       "    element.style[key] = styleAttributes[key];\n",
       "  }\n",
       "  return element;\n",
       "}\n",
       "\n",
       "// Max number of bytes which will be uploaded at a time.\n",
       "const MAX_PAYLOAD_SIZE = 100 * 1024;\n",
       "\n",
       "function _uploadFiles(inputId, outputId) {\n",
       "  const steps = uploadFilesStep(inputId, outputId);\n",
       "  const outputElement = document.getElementById(outputId);\n",
       "  // Cache steps on the outputElement to make it available for the next call\n",
       "  // to uploadFilesContinue from Python.\n",
       "  outputElement.steps = steps;\n",
       "\n",
       "  return _uploadFilesContinue(outputId);\n",
       "}\n",
       "\n",
       "// This is roughly an async generator (not supported in the browser yet),\n",
       "// where there are multiple asynchronous steps and the Python side is going\n",
       "// to poll for completion of each step.\n",
       "// This uses a Promise to block the python side on completion of each step,\n",
       "// then passes the result of the previous step as the input to the next step.\n",
       "function _uploadFilesContinue(outputId) {\n",
       "  const outputElement = document.getElementById(outputId);\n",
       "  const steps = outputElement.steps;\n",
       "\n",
       "  const next = steps.next(outputElement.lastPromiseValue);\n",
       "  return Promise.resolve(next.value.promise).then((value) => {\n",
       "    // Cache the last promise value to make it available to the next\n",
       "    // step of the generator.\n",
       "    outputElement.lastPromiseValue = value;\n",
       "    return next.value.response;\n",
       "  });\n",
       "}\n",
       "\n",
       "/**\n",
       " * Generator function which is called between each async step of the upload\n",
       " * process.\n",
       " * @param {string} inputId Element ID of the input file picker element.\n",
       " * @param {string} outputId Element ID of the output display.\n",
       " * @return {!Iterable<!Object>} Iterable of next steps.\n",
       " */\n",
       "function* uploadFilesStep(inputId, outputId) {\n",
       "  const inputElement = document.getElementById(inputId);\n",
       "  inputElement.disabled = false;\n",
       "\n",
       "  const outputElement = document.getElementById(outputId);\n",
       "  outputElement.innerHTML = '';\n",
       "\n",
       "  const pickedPromise = new Promise((resolve) => {\n",
       "    inputElement.addEventListener('change', (e) => {\n",
       "      resolve(e.target.files);\n",
       "    });\n",
       "  });\n",
       "\n",
       "  const cancel = document.createElement('button');\n",
       "  inputElement.parentElement.appendChild(cancel);\n",
       "  cancel.textContent = 'Cancel upload';\n",
       "  const cancelPromise = new Promise((resolve) => {\n",
       "    cancel.onclick = () => {\n",
       "      resolve(null);\n",
       "    };\n",
       "  });\n",
       "\n",
       "  // Wait for the user to pick the files.\n",
       "  const files = yield {\n",
       "    promise: Promise.race([pickedPromise, cancelPromise]),\n",
       "    response: {\n",
       "      action: 'starting',\n",
       "    }\n",
       "  };\n",
       "\n",
       "  cancel.remove();\n",
       "\n",
       "  // Disable the input element since further picks are not allowed.\n",
       "  inputElement.disabled = true;\n",
       "\n",
       "  if (!files) {\n",
       "    return {\n",
       "      response: {\n",
       "        action: 'complete',\n",
       "      }\n",
       "    };\n",
       "  }\n",
       "\n",
       "  for (const file of files) {\n",
       "    const li = document.createElement('li');\n",
       "    li.append(span(file.name, {fontWeight: 'bold'}));\n",
       "    li.append(span(\n",
       "        `(${file.type || 'n/a'}) - ${file.size} bytes, ` +\n",
       "        `last modified: ${\n",
       "            file.lastModifiedDate ? file.lastModifiedDate.toLocaleDateString() :\n",
       "                                    'n/a'} - `));\n",
       "    const percent = span('0% done');\n",
       "    li.appendChild(percent);\n",
       "\n",
       "    outputElement.appendChild(li);\n",
       "\n",
       "    const fileDataPromise = new Promise((resolve) => {\n",
       "      const reader = new FileReader();\n",
       "      reader.onload = (e) => {\n",
       "        resolve(e.target.result);\n",
       "      };\n",
       "      reader.readAsArrayBuffer(file);\n",
       "    });\n",
       "    // Wait for the data to be ready.\n",
       "    let fileData = yield {\n",
       "      promise: fileDataPromise,\n",
       "      response: {\n",
       "        action: 'continue',\n",
       "      }\n",
       "    };\n",
       "\n",
       "    // Use a chunked sending to avoid message size limits. See b/62115660.\n",
       "    let position = 0;\n",
       "    do {\n",
       "      const length = Math.min(fileData.byteLength - position, MAX_PAYLOAD_SIZE);\n",
       "      const chunk = new Uint8Array(fileData, position, length);\n",
       "      position += length;\n",
       "\n",
       "      const base64 = btoa(String.fromCharCode.apply(null, chunk));\n",
       "      yield {\n",
       "        response: {\n",
       "          action: 'append',\n",
       "          file: file.name,\n",
       "          data: base64,\n",
       "        },\n",
       "      };\n",
       "\n",
       "      let percentDone = fileData.byteLength === 0 ?\n",
       "          100 :\n",
       "          Math.round((position / fileData.byteLength) * 100);\n",
       "      percent.textContent = `${percentDone}% done`;\n",
       "\n",
       "    } while (position < fileData.byteLength);\n",
       "  }\n",
       "\n",
       "  // All done.\n",
       "  yield {\n",
       "    response: {\n",
       "      action: 'complete',\n",
       "    }\n",
       "  };\n",
       "}\n",
       "\n",
       "scope.google = scope.google || {};\n",
       "scope.google.colab = scope.google.colab || {};\n",
       "scope.google.colab._files = {\n",
       "  _uploadFiles,\n",
       "  _uploadFilesContinue,\n",
       "};\n",
       "})(self);\n",
       "</script> "
      ],
      "text/plain": [
       "<IPython.core.display.HTML object>"
      ]
     },
     "metadata": {},
     "output_type": "display_data"
    },
    {
     "name": "stdout",
     "output_type": "stream",
     "text": [
      "Saving train-00000-of-00001.parquet to train-00000-of-00001.parquet\n"
     ]
    },
    {
     "data": {
      "text/html": [
       "\n",
       "     <input type=\"file\" id=\"files-f9f1f58b-e4b5-4c0a-9caa-2309be89abc9\" name=\"files[]\" multiple disabled\n",
       "        style=\"border:none\" />\n",
       "     <output id=\"result-f9f1f58b-e4b5-4c0a-9caa-2309be89abc9\">\n",
       "      Upload widget is only available when the cell has been executed in the\n",
       "      current browser session. Please rerun this cell to enable.\n",
       "      </output>\n",
       "      <script>// Copyright 2017 Google LLC\n",
       "//\n",
       "// Licensed under the Apache License, Version 2.0 (the \"License\");\n",
       "// you may not use this file except in compliance with the License.\n",
       "// You may obtain a copy of the License at\n",
       "//\n",
       "//      http://www.apache.org/licenses/LICENSE-2.0\n",
       "//\n",
       "// Unless required by applicable law or agreed to in writing, software\n",
       "// distributed under the License is distributed on an \"AS IS\" BASIS,\n",
       "// WITHOUT WARRANTIES OR CONDITIONS OF ANY KIND, either express or implied.\n",
       "// See the License for the specific language governing permissions and\n",
       "// limitations under the License.\n",
       "\n",
       "/**\n",
       " * @fileoverview Helpers for google.colab Python module.\n",
       " */\n",
       "(function(scope) {\n",
       "function span(text, styleAttributes = {}) {\n",
       "  const element = document.createElement('span');\n",
       "  element.textContent = text;\n",
       "  for (const key of Object.keys(styleAttributes)) {\n",
       "    element.style[key] = styleAttributes[key];\n",
       "  }\n",
       "  return element;\n",
       "}\n",
       "\n",
       "// Max number of bytes which will be uploaded at a time.\n",
       "const MAX_PAYLOAD_SIZE = 100 * 1024;\n",
       "\n",
       "function _uploadFiles(inputId, outputId) {\n",
       "  const steps = uploadFilesStep(inputId, outputId);\n",
       "  const outputElement = document.getElementById(outputId);\n",
       "  // Cache steps on the outputElement to make it available for the next call\n",
       "  // to uploadFilesContinue from Python.\n",
       "  outputElement.steps = steps;\n",
       "\n",
       "  return _uploadFilesContinue(outputId);\n",
       "}\n",
       "\n",
       "// This is roughly an async generator (not supported in the browser yet),\n",
       "// where there are multiple asynchronous steps and the Python side is going\n",
       "// to poll for completion of each step.\n",
       "// This uses a Promise to block the python side on completion of each step,\n",
       "// then passes the result of the previous step as the input to the next step.\n",
       "function _uploadFilesContinue(outputId) {\n",
       "  const outputElement = document.getElementById(outputId);\n",
       "  const steps = outputElement.steps;\n",
       "\n",
       "  const next = steps.next(outputElement.lastPromiseValue);\n",
       "  return Promise.resolve(next.value.promise).then((value) => {\n",
       "    // Cache the last promise value to make it available to the next\n",
       "    // step of the generator.\n",
       "    outputElement.lastPromiseValue = value;\n",
       "    return next.value.response;\n",
       "  });\n",
       "}\n",
       "\n",
       "/**\n",
       " * Generator function which is called between each async step of the upload\n",
       " * process.\n",
       " * @param {string} inputId Element ID of the input file picker element.\n",
       " * @param {string} outputId Element ID of the output display.\n",
       " * @return {!Iterable<!Object>} Iterable of next steps.\n",
       " */\n",
       "function* uploadFilesStep(inputId, outputId) {\n",
       "  const inputElement = document.getElementById(inputId);\n",
       "  inputElement.disabled = false;\n",
       "\n",
       "  const outputElement = document.getElementById(outputId);\n",
       "  outputElement.innerHTML = '';\n",
       "\n",
       "  const pickedPromise = new Promise((resolve) => {\n",
       "    inputElement.addEventListener('change', (e) => {\n",
       "      resolve(e.target.files);\n",
       "    });\n",
       "  });\n",
       "\n",
       "  const cancel = document.createElement('button');\n",
       "  inputElement.parentElement.appendChild(cancel);\n",
       "  cancel.textContent = 'Cancel upload';\n",
       "  const cancelPromise = new Promise((resolve) => {\n",
       "    cancel.onclick = () => {\n",
       "      resolve(null);\n",
       "    };\n",
       "  });\n",
       "\n",
       "  // Wait for the user to pick the files.\n",
       "  const files = yield {\n",
       "    promise: Promise.race([pickedPromise, cancelPromise]),\n",
       "    response: {\n",
       "      action: 'starting',\n",
       "    }\n",
       "  };\n",
       "\n",
       "  cancel.remove();\n",
       "\n",
       "  // Disable the input element since further picks are not allowed.\n",
       "  inputElement.disabled = true;\n",
       "\n",
       "  if (!files) {\n",
       "    return {\n",
       "      response: {\n",
       "        action: 'complete',\n",
       "      }\n",
       "    };\n",
       "  }\n",
       "\n",
       "  for (const file of files) {\n",
       "    const li = document.createElement('li');\n",
       "    li.append(span(file.name, {fontWeight: 'bold'}));\n",
       "    li.append(span(\n",
       "        `(${file.type || 'n/a'}) - ${file.size} bytes, ` +\n",
       "        `last modified: ${\n",
       "            file.lastModifiedDate ? file.lastModifiedDate.toLocaleDateString() :\n",
       "                                    'n/a'} - `));\n",
       "    const percent = span('0% done');\n",
       "    li.appendChild(percent);\n",
       "\n",
       "    outputElement.appendChild(li);\n",
       "\n",
       "    const fileDataPromise = new Promise((resolve) => {\n",
       "      const reader = new FileReader();\n",
       "      reader.onload = (e) => {\n",
       "        resolve(e.target.result);\n",
       "      };\n",
       "      reader.readAsArrayBuffer(file);\n",
       "    });\n",
       "    // Wait for the data to be ready.\n",
       "    let fileData = yield {\n",
       "      promise: fileDataPromise,\n",
       "      response: {\n",
       "        action: 'continue',\n",
       "      }\n",
       "    };\n",
       "\n",
       "    // Use a chunked sending to avoid message size limits. See b/62115660.\n",
       "    let position = 0;\n",
       "    do {\n",
       "      const length = Math.min(fileData.byteLength - position, MAX_PAYLOAD_SIZE);\n",
       "      const chunk = new Uint8Array(fileData, position, length);\n",
       "      position += length;\n",
       "\n",
       "      const base64 = btoa(String.fromCharCode.apply(null, chunk));\n",
       "      yield {\n",
       "        response: {\n",
       "          action: 'append',\n",
       "          file: file.name,\n",
       "          data: base64,\n",
       "        },\n",
       "      };\n",
       "\n",
       "      let percentDone = fileData.byteLength === 0 ?\n",
       "          100 :\n",
       "          Math.round((position / fileData.byteLength) * 100);\n",
       "      percent.textContent = `${percentDone}% done`;\n",
       "\n",
       "    } while (position < fileData.byteLength);\n",
       "  }\n",
       "\n",
       "  // All done.\n",
       "  yield {\n",
       "    response: {\n",
       "      action: 'complete',\n",
       "    }\n",
       "  };\n",
       "}\n",
       "\n",
       "scope.google = scope.google || {};\n",
       "scope.google.colab = scope.google.colab || {};\n",
       "scope.google.colab._files = {\n",
       "  _uploadFiles,\n",
       "  _uploadFilesContinue,\n",
       "};\n",
       "})(self);\n",
       "</script> "
      ],
      "text/plain": [
       "<IPython.core.display.HTML object>"
      ]
     },
     "metadata": {},
     "output_type": "display_data"
    },
    {
     "name": "stdout",
     "output_type": "stream",
     "text": [
      "Saving validation-00000-of-00001.parquet to validation-00000-of-00001.parquet\n"
     ]
    },
    {
     "data": {
      "text/html": [
       "\n",
       "     <input type=\"file\" id=\"files-70233885-a976-40a4-96f8-2f6520b09cf3\" name=\"files[]\" multiple disabled\n",
       "        style=\"border:none\" />\n",
       "     <output id=\"result-70233885-a976-40a4-96f8-2f6520b09cf3\">\n",
       "      Upload widget is only available when the cell has been executed in the\n",
       "      current browser session. Please rerun this cell to enable.\n",
       "      </output>\n",
       "      <script>// Copyright 2017 Google LLC\n",
       "//\n",
       "// Licensed under the Apache License, Version 2.0 (the \"License\");\n",
       "// you may not use this file except in compliance with the License.\n",
       "// You may obtain a copy of the License at\n",
       "//\n",
       "//      http://www.apache.org/licenses/LICENSE-2.0\n",
       "//\n",
       "// Unless required by applicable law or agreed to in writing, software\n",
       "// distributed under the License is distributed on an \"AS IS\" BASIS,\n",
       "// WITHOUT WARRANTIES OR CONDITIONS OF ANY KIND, either express or implied.\n",
       "// See the License for the specific language governing permissions and\n",
       "// limitations under the License.\n",
       "\n",
       "/**\n",
       " * @fileoverview Helpers for google.colab Python module.\n",
       " */\n",
       "(function(scope) {\n",
       "function span(text, styleAttributes = {}) {\n",
       "  const element = document.createElement('span');\n",
       "  element.textContent = text;\n",
       "  for (const key of Object.keys(styleAttributes)) {\n",
       "    element.style[key] = styleAttributes[key];\n",
       "  }\n",
       "  return element;\n",
       "}\n",
       "\n",
       "// Max number of bytes which will be uploaded at a time.\n",
       "const MAX_PAYLOAD_SIZE = 100 * 1024;\n",
       "\n",
       "function _uploadFiles(inputId, outputId) {\n",
       "  const steps = uploadFilesStep(inputId, outputId);\n",
       "  const outputElement = document.getElementById(outputId);\n",
       "  // Cache steps on the outputElement to make it available for the next call\n",
       "  // to uploadFilesContinue from Python.\n",
       "  outputElement.steps = steps;\n",
       "\n",
       "  return _uploadFilesContinue(outputId);\n",
       "}\n",
       "\n",
       "// This is roughly an async generator (not supported in the browser yet),\n",
       "// where there are multiple asynchronous steps and the Python side is going\n",
       "// to poll for completion of each step.\n",
       "// This uses a Promise to block the python side on completion of each step,\n",
       "// then passes the result of the previous step as the input to the next step.\n",
       "function _uploadFilesContinue(outputId) {\n",
       "  const outputElement = document.getElementById(outputId);\n",
       "  const steps = outputElement.steps;\n",
       "\n",
       "  const next = steps.next(outputElement.lastPromiseValue);\n",
       "  return Promise.resolve(next.value.promise).then((value) => {\n",
       "    // Cache the last promise value to make it available to the next\n",
       "    // step of the generator.\n",
       "    outputElement.lastPromiseValue = value;\n",
       "    return next.value.response;\n",
       "  });\n",
       "}\n",
       "\n",
       "/**\n",
       " * Generator function which is called between each async step of the upload\n",
       " * process.\n",
       " * @param {string} inputId Element ID of the input file picker element.\n",
       " * @param {string} outputId Element ID of the output display.\n",
       " * @return {!Iterable<!Object>} Iterable of next steps.\n",
       " */\n",
       "function* uploadFilesStep(inputId, outputId) {\n",
       "  const inputElement = document.getElementById(inputId);\n",
       "  inputElement.disabled = false;\n",
       "\n",
       "  const outputElement = document.getElementById(outputId);\n",
       "  outputElement.innerHTML = '';\n",
       "\n",
       "  const pickedPromise = new Promise((resolve) => {\n",
       "    inputElement.addEventListener('change', (e) => {\n",
       "      resolve(e.target.files);\n",
       "    });\n",
       "  });\n",
       "\n",
       "  const cancel = document.createElement('button');\n",
       "  inputElement.parentElement.appendChild(cancel);\n",
       "  cancel.textContent = 'Cancel upload';\n",
       "  const cancelPromise = new Promise((resolve) => {\n",
       "    cancel.onclick = () => {\n",
       "      resolve(null);\n",
       "    };\n",
       "  });\n",
       "\n",
       "  // Wait for the user to pick the files.\n",
       "  const files = yield {\n",
       "    promise: Promise.race([pickedPromise, cancelPromise]),\n",
       "    response: {\n",
       "      action: 'starting',\n",
       "    }\n",
       "  };\n",
       "\n",
       "  cancel.remove();\n",
       "\n",
       "  // Disable the input element since further picks are not allowed.\n",
       "  inputElement.disabled = true;\n",
       "\n",
       "  if (!files) {\n",
       "    return {\n",
       "      response: {\n",
       "        action: 'complete',\n",
       "      }\n",
       "    };\n",
       "  }\n",
       "\n",
       "  for (const file of files) {\n",
       "    const li = document.createElement('li');\n",
       "    li.append(span(file.name, {fontWeight: 'bold'}));\n",
       "    li.append(span(\n",
       "        `(${file.type || 'n/a'}) - ${file.size} bytes, ` +\n",
       "        `last modified: ${\n",
       "            file.lastModifiedDate ? file.lastModifiedDate.toLocaleDateString() :\n",
       "                                    'n/a'} - `));\n",
       "    const percent = span('0% done');\n",
       "    li.appendChild(percent);\n",
       "\n",
       "    outputElement.appendChild(li);\n",
       "\n",
       "    const fileDataPromise = new Promise((resolve) => {\n",
       "      const reader = new FileReader();\n",
       "      reader.onload = (e) => {\n",
       "        resolve(e.target.result);\n",
       "      };\n",
       "      reader.readAsArrayBuffer(file);\n",
       "    });\n",
       "    // Wait for the data to be ready.\n",
       "    let fileData = yield {\n",
       "      promise: fileDataPromise,\n",
       "      response: {\n",
       "        action: 'continue',\n",
       "      }\n",
       "    };\n",
       "\n",
       "    // Use a chunked sending to avoid message size limits. See b/62115660.\n",
       "    let position = 0;\n",
       "    do {\n",
       "      const length = Math.min(fileData.byteLength - position, MAX_PAYLOAD_SIZE);\n",
       "      const chunk = new Uint8Array(fileData, position, length);\n",
       "      position += length;\n",
       "\n",
       "      const base64 = btoa(String.fromCharCode.apply(null, chunk));\n",
       "      yield {\n",
       "        response: {\n",
       "          action: 'append',\n",
       "          file: file.name,\n",
       "          data: base64,\n",
       "        },\n",
       "      };\n",
       "\n",
       "      let percentDone = fileData.byteLength === 0 ?\n",
       "          100 :\n",
       "          Math.round((position / fileData.byteLength) * 100);\n",
       "      percent.textContent = `${percentDone}% done`;\n",
       "\n",
       "    } while (position < fileData.byteLength);\n",
       "  }\n",
       "\n",
       "  // All done.\n",
       "  yield {\n",
       "    response: {\n",
       "      action: 'complete',\n",
       "    }\n",
       "  };\n",
       "}\n",
       "\n",
       "scope.google = scope.google || {};\n",
       "scope.google.colab = scope.google.colab || {};\n",
       "scope.google.colab._files = {\n",
       "  _uploadFiles,\n",
       "  _uploadFilesContinue,\n",
       "};\n",
       "})(self);\n",
       "</script> "
      ],
      "text/plain": [
       "<IPython.core.display.HTML object>"
      ]
     },
     "metadata": {},
     "output_type": "display_data"
    },
    {
     "name": "stdout",
     "output_type": "stream",
     "text": [
      "Saving test-00000-of-00001.parquet to test-00000-of-00001.parquet\n"
     ]
    }
   ],
   "source": [
    "# --- load dataset 20-classes ---\n",
    "train_data = upload_dataset_from_system()\n",
    "val_data = upload_dataset_from_system()\n",
    "test_data = upload_dataset_from_system()"
   ]
  },
  {
   "cell_type": "code",
   "execution_count": null,
   "metadata": {
    "colab": {
     "base_uri": "https://localhost:8080/"
    },
    "id": "QRzhTCJeWhQ6",
    "outputId": "13edc805-c3bb-4e2d-bd13-49c4bcf0f8c2"
   },
   "outputs": [
    {
     "name": "stdout",
     "output_type": "stream",
     "text": [
      "train {'max': 75, 'mean': 21.237466666666666}\n",
      "val {'max': 57, 'mean': 19.7332}\n",
      "test {'max': 93, 'mean': 21.28922}\n",
      "train_percentile [34. 35. 37. 42.]\n",
      "val_percentile [33. 34. 36. 40.]\n",
      "test_percentile [34. 35. 37. 42.]\n"
     ]
    }
   ],
   "source": [
    "print(\"train\",get_max_mean_length(train_data))\n",
    "print(\"val\",get_max_mean_length(val_data))\n",
    "print(\"test\",get_max_mean_length(test_data))\n",
    "print(\"train_percentile\",get_percentile(train_data,per_list=[97,98,99,99.8]))\n",
    "print(\"val_percentile\",get_percentile(val_data,per_list=[97,98,99,99.8]))\n",
    "print(\"test_percentile\",get_percentile(test_data,per_list=[97,98,99,99.8]))   # max_length -> 40"
   ]
  },
  {
   "cell_type": "code",
   "execution_count": 4,
   "metadata": {
    "colab": {
     "base_uri": "https://localhost:8080/",
     "height": 276,
     "referenced_widgets": [
      "ac4e20f9717d442bbe270fbcfe5e9e57",
      "b931e9337c1b46408bb3fd330530d405",
      "906fb5107eec4de4b444a83cd388ccc8",
      "6c73b6f864e4472f94c9927aec1aaf29",
      "3cbabfeb2a7e4ecb80f1ad68c8793a26",
      "99a5ca1719824754bb03199bda333fab",
      "ed0119617a324fb7ba57c1a5af2e2220",
      "590aba7436b24062bc76f449755beaaf",
      "fccdc08746fa4372938d13a52261cfee",
      "fc7f543a0bf84bd9b5d97933a108e64f",
      "1b21c7cc36924dfaa350697c0450e28e",
      "66c7f060f6d7475eae1dcfbbe38f8d45",
      "47c5b7bca0d340cba0c35ffd51fefd2e",
      "89bc3ff469a64e4ca10c0d70036878a0",
      "d1be27192c12426db81edfe4b6853262",
      "e1088630a0b7485582e9b605a9432d30",
      "6896a3d9e6ca4a94bb3fd887e9825f0d",
      "e09111dc7b1445c98f18229f94ff0096",
      "04dc8133b2234355a3bb3c3d946da797",
      "4c575ef423014f27932e7d46ff57fd54",
      "56d9ec504f3f4682a3a0c5613650a00a",
      "13bc5d2dd4fc4e6aa0a2851c2cec1496",
      "ddfeb6788a41477c96a807a457c32f74",
      "5827d3ee64414a3dac814186d15d2a4e",
      "ace90c97b0f8404181d7a9bc6582d78a",
      "b198b4b5a1084501aca652031d9b6a51",
      "e386c1c9c602490a882e15047df5ef62",
      "7c5bb22f1d304055901cb5365c577b10",
      "0faf94de015f495d9c95869683d0dc2f",
      "9eb51ad690674112a92cdf1856301870",
      "49cff84193fb45aaaa874a9210db83ab",
      "60304faf1646445e8fc32afc89faf4b0",
      "1b8ab0b320ba4571903daf804b368c7a",
      "640c0d63a7744bea83a5c1334c73ac45",
      "18bffc0c46694c60bb634a6e99e2703d",
      "2356d4a7389943e7be394368fdc0b9c9",
      "708e327eb9aa4d0ab308005f25f59b10",
      "fd489eaeb75d434a9249c79c63238be7",
      "1406bbf9aa6f45318d765ffe2efc8433",
      "45736c8193e6449eb6f5f8f7924f99f2",
      "07f09c19a6c84210aa25c7e00df9c6c6",
      "2ad2846a89e94a66a0c41c5b69f7dc5b",
      "3a3b5a8220c64adeb99b2e3cff0a38b7",
      "56d07665ca6b4152851b0fb0f46b16f0",
      "43681b306eee4e1da4c75156529345c2",
      "faca18290a454a04a11a305953fdd8ba",
      "020c348969244626bc9d2fa605f03153",
      "84ba51ebb69e4f649b4c5508f8dd8b41",
      "233ee408ac7d48cbbef557bd262971ed",
      "d043f26ef2cd4bc382d9c643201c03ce",
      "ed2337114f6d4beba68291aa4a9dc378",
      "b6e093da667f4293a74709258e9ab84b",
      "7cee4aa708ee4a12b432601a45f34a5c",
      "a0e6dec01380417ba6bf9204a0dbbbd8",
      "f8bd2caae4864f2d98f64f7d13c9446f",
      "e9723f3d64ac43f1b379e19ded82b778",
      "dc973d3c5d2e45c0aa8a68b84e127bea",
      "1b1f0807b14e4c81b5c8fa47d7fcd0be",
      "d668ade16ac742f3ae157beac0916713",
      "59c7be7fac6044c3aefcc9605d8619e8",
      "7052c34993dd44edb530efc538486e5e",
      "c3062c6bdd0d4c92b1e22f79ec7e496d",
      "2dce2cbd494349d786132a114c1fc874",
      "c4e8851bd27448c491973f0da99d1f5b",
      "0b9db2d294c347e184a23d32cb369d17",
      "8c8a4649e9d243249243d460fd0fc6e0",
      "bb67ff6b60a84f15b6ad01449feb4afa",
      "ecb3bfa86da1499087b34dcf633034f8",
      "e509d8469680486bad1c874a86c738f8",
      "c1affe8e9818478190cddf3f34b42b39",
      "876c42ed89774b56aa3bcae308ac01ad",
      "27b12547ffdd495ab21b0b7fe8c37fc4",
      "c105d16daf6147bc9b8ce5695b37a72c",
      "4ab5ed9ba4854441bac30fe07dbded9a",
      "72dc29cf70da4e3f8bed4f16aa3ea30d",
      "20383d11d46f48a095bbecc5aed0b6c8",
      "b487939ce86f43c3852fda2f2a31fef6"
     ]
    },
    "collapsed": true,
    "id": "jZB15Vh7PfC_",
    "jupyter": {
     "outputs_hidden": true
    },
    "outputId": "1378551e-1392-479f-e6fd-815122b24fb6"
   },
   "outputs": [
    {
     "data": {
      "application/vnd.jupyter.widget-view+json": {
       "model_id": "ac4e20f9717d442bbe270fbcfe5e9e57",
       "version_major": 2,
       "version_minor": 0
      },
      "text/plain": [
       "README.md:   0%|          | 0.00/421 [00:00<?, ?B/s]"
      ]
     },
     "metadata": {},
     "output_type": "display_data"
    },
    {
     "name": "stderr",
     "output_type": "stream",
     "text": [
      "Repo card metadata block was not found. Setting CardData to empty.\n",
      "WARNING:huggingface_hub.repocard:Repo card metadata block was not found. Setting CardData to empty.\n"
     ]
    },
    {
     "data": {
      "application/vnd.jupyter.widget-view+json": {
       "model_id": "66c7f060f6d7475eae1dcfbbe38f8d45",
       "version_major": 2,
       "version_minor": 0
      },
      "text/plain": [
       "train.jsonl: 0.00B [00:00, ?B/s]"
      ]
     },
     "metadata": {},
     "output_type": "display_data"
    },
    {
     "data": {
      "application/vnd.jupyter.widget-view+json": {
       "model_id": "ddfeb6788a41477c96a807a457c32f74",
       "version_major": 2,
       "version_minor": 0
      },
      "text/plain": [
       "dev.jsonl: 0.00B [00:00, ?B/s]"
      ]
     },
     "metadata": {},
     "output_type": "display_data"
    },
    {
     "data": {
      "application/vnd.jupyter.widget-view+json": {
       "model_id": "640c0d63a7744bea83a5c1334c73ac45",
       "version_major": 2,
       "version_minor": 0
      },
      "text/plain": [
       "test.jsonl: 0.00B [00:00, ?B/s]"
      ]
     },
     "metadata": {},
     "output_type": "display_data"
    },
    {
     "data": {
      "application/vnd.jupyter.widget-view+json": {
       "model_id": "43681b306eee4e1da4c75156529345c2",
       "version_major": 2,
       "version_minor": 0
      },
      "text/plain": [
       "Generating train split:   0%|          | 0/8544 [00:00<?, ? examples/s]"
      ]
     },
     "metadata": {},
     "output_type": "display_data"
    },
    {
     "data": {
      "application/vnd.jupyter.widget-view+json": {
       "model_id": "e9723f3d64ac43f1b379e19ded82b778",
       "version_major": 2,
       "version_minor": 0
      },
      "text/plain": [
       "Generating validation split:   0%|          | 0/1101 [00:00<?, ? examples/s]"
      ]
     },
     "metadata": {},
     "output_type": "display_data"
    },
    {
     "data": {
      "application/vnd.jupyter.widget-view+json": {
       "model_id": "bb67ff6b60a84f15b6ad01449feb4afa",
       "version_major": 2,
       "version_minor": 0
      },
      "text/plain": [
       "Generating test split:   0%|          | 0/2210 [00:00<?, ? examples/s]"
      ]
     },
     "metadata": {},
     "output_type": "display_data"
    }
   ],
   "source": [
    "# --- load sst5 ---\n",
    "sst = load_dataset(\"SetFit/sst5\")"
   ]
  },
  {
   "cell_type": "code",
   "execution_count": null,
   "metadata": {
    "colab": {
     "base_uri": "https://localhost:8080/"
    },
    "id": "GneNS1t-SYEP",
    "outputId": "c0d6abdd-e289-4f3f-b907-fe8f69be1873"
   },
   "outputs": [
    {
     "name": "stdout",
     "output_type": "stream",
     "text": [
      "train {'max': 80, 'mean': 25.039911048689138}\n",
      "val {'max': 60, 'mean': 25.236148955495004}\n",
      "test {'max': 70, 'mean': 25.000452488687785}\n",
      "train_percentile [49. 52. 55. 61.]\n",
      "val_percentile [48.  50.  53.  56.6]\n",
      "test_percentile [48.   50.   53.91 59.  ]\n"
     ]
    }
   ],
   "source": [
    "print(\"train\",get_max_mean_length(sst['train']))\n",
    "print(\"val\",get_max_mean_length(sst['validation']))\n",
    "print(\"test\",get_max_mean_length(sst['test']))\n",
    "print(\"train_percentile\",get_percentile(sst['train'],per_list=[97,98,99,99.8]))\n",
    "print(\"val_percentile\",get_percentile(sst['validation'],per_list=[97,98,99,99.8]))\n",
    "print(\"test_percentile\",get_percentile(sst['test'],per_list=[97,98,99,99.8]))      # max_length -> 60"
   ]
  },
  {
   "cell_type": "code",
   "execution_count": 4,
   "metadata": {
    "colab": {
     "base_uri": "https://localhost:8080/",
     "height": 241,
     "referenced_widgets": [
      "4a43030458ff40d98ed009610b2d1cf6",
      "285777d6f2ac45d6a04295b5cea81d67",
      "deb60fd84161467eb35288083afbf8d5",
      "1fa03de389414c9595c1f1f0e218584c",
      "1582a30e7282485a8a00829e17597724",
      "382420a064e741cab9cbba34250477b2",
      "6a54c68e7989478c95aac5cc4661e2da",
      "c68bfc5a74c64d008533a921ded77093",
      "19662c4c376f46058aca24e4754ca170",
      "ac1a380b7b4e4f52aa71037cd4795d56",
      "c263e0ca4d1e44c68d79048ed57e3b98",
      "c496e22751544e639ac853cabc84e33d",
      "fe087be9d0df4957b17e9869aaf3d6fb",
      "c5452a1bb14845398ed3e46424a04f75",
      "68e079d9afe6489cbf9649804d747191",
      "3f98b314ef0d47038bb385718c830549",
      "a37447d59dd84297be493a766f9f8822",
      "3edb122dcb6246f886d28fd53f581c45",
      "23db958b8e1948e1ba3b02b44dbad238",
      "9345871bafdc4687ad132db01f866443",
      "9f22c0857d79473b831fc0ad33409c9b",
      "4136d35973c14b218eabeb2443aeb26e",
      "fd0edd9a9a164f068fbaae718aa3d542",
      "5d539fcd2dde42a6bbb9c8ec1ae11585",
      "349be36480044b2d936904105bf4c1c9",
      "468787f5ecbf4affb5097f837ff0e895",
      "e3a543bcc14f451b850c33c546125137",
      "923ac15f6f274f548c6dcd0600ea6246",
      "01da29a165e8481ca69807afdb8d5824",
      "730ff459a38449da82d58f06ea393128",
      "595906baed1d4e4a9901d39fa9e6dd0a",
      "0dfd06cd28444d9bbe51ea44b0acf6a0",
      "3761b2cb62bb42bcb2f762c05cb49ce7",
      "20295c2ae45c4bd28ad9564a744203ec",
      "051d7cd3b12d48c9bfece0d5797fd7fc",
      "2085b905a1f84c49be3886f20866e064",
      "c576daa2add5457d86cba19c388f5e2b",
      "70322743dcd4441687d9319db8649661",
      "a9ff459e17874bd28db82d51eb838f61",
      "44d20893de2f4251a7eadba18c8f2cbe",
      "8016cd6a59b74548a6df45217a50db8e",
      "8c7d2bc41f0a4605b1d5249932ca2624",
      "9875cc2d609c4c34bd05cd65d8546ab6",
      "fd8a67bcd5504a97ade32692bda74139",
      "efb02d901515444a909a1980e09b554e",
      "d027edb0ba7c4d78aa59cdf66f96cf2f",
      "3068d72a3bc6498a876e3c1d4d2a52be",
      "c00bcfcbff3143cfa35b2ed8515c0cf2",
      "77dcb4f64d0f44b294c1c1978a28337c",
      "433a9dede87046faa715111ec1d04677",
      "f413a3ae6b6b45bca3238d19dd6e64a3",
      "5852afbac2084e889061b87898129d2c",
      "7df91bf65d704910a8e28d9d26a177b7",
      "d8915599f0724549a69abcad4ce6bdfa",
      "8692b5b82e244bc68c28848b7ea7713f",
      "7dcea6e8fa4144d8b251d40d3c074a86",
      "04666f6481f842e19693ef4c00645a09",
      "460153c5e0ca4d28a8dc2e035a4d6129",
      "b0f0bb300c044c018ccb6a7f71624535",
      "1ab35fc2f06a45f7889ee30b570de0be",
      "b519ae314bfb445ba2e0eea35881c0b0",
      "dac3a72924b644d79a1f82d2ab3c7daf",
      "7e1ab031ece54cb3be101ea25c578838",
      "bccc6b93baa84df2baa0f2173281a169",
      "cbc744314568437eacb8f8f2cd7f9fb5",
      "423363d72f3745b2bd136c7a7260c58c",
      "24b9480827134e55864c645b9bfaef33",
      "d4553c5471a74ff486d066fb355d131a",
      "8bf78023e8e048789be42dd5dc5ec21c",
      "3844abffd481483da55627d67ee4fa95",
      "e13fe08dabb94d9cad535c277b254d19",
      "d58dcd6436e243258973c2bedfd23cdc",
      "13a6609d7acf4b0aa86cc7b74b9e90cd",
      "33b4d6025a38494ea1eacd8d01371ee4",
      "b4c5fb1f83af426d86e6c2b0a799ba55",
      "2dc11deab3ef4281a3b3f5bb48530c28",
      "b0ed66536bf94b9d967ce67d650363e6"
     ]
    },
    "id": "ycm6lOkzPiNS",
    "outputId": "2b4fe5b6-5b28-40b5-fd69-b144632a80dd"
   },
   "outputs": [
    {
     "data": {
      "application/vnd.jupyter.widget-view+json": {
       "model_id": "4a43030458ff40d98ed009610b2d1cf6",
       "version_major": 2,
       "version_minor": 0
      },
      "text/plain": [
       "README.md: 0.00B [00:00, ?B/s]"
      ]
     },
     "metadata": {},
     "output_type": "display_data"
    },
    {
     "data": {
      "application/vnd.jupyter.widget-view+json": {
       "model_id": "c496e22751544e639ac853cabc84e33d",
       "version_major": 2,
       "version_minor": 0
      },
      "text/plain": [
       "plain_text/train-00000-of-00001.parquet:   0%|          | 0.00/21.0M [00:00<?, ?B/s]"
      ]
     },
     "metadata": {},
     "output_type": "display_data"
    },
    {
     "data": {
      "application/vnd.jupyter.widget-view+json": {
       "model_id": "fd0edd9a9a164f068fbaae718aa3d542",
       "version_major": 2,
       "version_minor": 0
      },
      "text/plain": [
       "plain_text/test-00000-of-00001.parquet:   0%|          | 0.00/20.5M [00:00<?, ?B/s]"
      ]
     },
     "metadata": {},
     "output_type": "display_data"
    },
    {
     "data": {
      "application/vnd.jupyter.widget-view+json": {
       "model_id": "20295c2ae45c4bd28ad9564a744203ec",
       "version_major": 2,
       "version_minor": 0
      },
      "text/plain": [
       "plain_text/unsupervised-00000-of-00001.p(…):   0%|          | 0.00/42.0M [00:00<?, ?B/s]"
      ]
     },
     "metadata": {},
     "output_type": "display_data"
    },
    {
     "data": {
      "application/vnd.jupyter.widget-view+json": {
       "model_id": "efb02d901515444a909a1980e09b554e",
       "version_major": 2,
       "version_minor": 0
      },
      "text/plain": [
       "Generating train split:   0%|          | 0/25000 [00:00<?, ? examples/s]"
      ]
     },
     "metadata": {},
     "output_type": "display_data"
    },
    {
     "data": {
      "application/vnd.jupyter.widget-view+json": {
       "model_id": "7dcea6e8fa4144d8b251d40d3c074a86",
       "version_major": 2,
       "version_minor": 0
      },
      "text/plain": [
       "Generating test split:   0%|          | 0/25000 [00:00<?, ? examples/s]"
      ]
     },
     "metadata": {},
     "output_type": "display_data"
    },
    {
     "data": {
      "application/vnd.jupyter.widget-view+json": {
       "model_id": "24b9480827134e55864c645b9bfaef33",
       "version_major": 2,
       "version_minor": 0
      },
      "text/plain": [
       "Generating unsupervised split:   0%|          | 0/50000 [00:00<?, ? examples/s]"
      ]
     },
     "metadata": {},
     "output_type": "display_data"
    }
   ],
   "source": [
    "# --- load imdb ---\n",
    "imdb = load_dataset(\"imdb\")"
   ]
  },
  {
   "cell_type": "code",
   "execution_count": null,
   "metadata": {
    "colab": {
     "base_uri": "https://localhost:8080/"
    },
    "collapsed": true,
    "id": "NGBTSuFGSycA",
    "jupyter": {
     "outputs_hidden": true
    },
    "outputId": "31cc645f-14ff-4930-a5d4-6cb3c46bd40e"
   },
   "outputs": [
    {
     "name": "stderr",
     "output_type": "stream",
     "text": [
      "Token indices sequence length is longer than the specified maximum sequence length for this model (720 > 512). Running this sequence through the model will result in indexing errors\n"
     ]
    },
    {
     "name": "stdout",
     "output_type": "stream",
     "text": [
      "train {'max': 3127, 'mean': 313.87132}\n",
      "test {'max': 3157, 'mean': 306.771}\n",
      "train_percentile [ 948.03  1055.    1206.    1420.008]\n",
      "test_percentile [ 920.03  1032.    1192.01  1362.002]\n"
     ]
    }
   ],
   "source": [
    "print(\"train\",get_max_mean_length(imdb['train']))\n",
    "print(\"test\",get_max_mean_length(imdb['test']))\n",
    "print(\"train_percentile\",get_percentile(imdb['train'],per_list=[97,98,99,99.8]))\n",
    "print(\"test_percentile\",get_percentile(imdb['test'],per_list=[97,98,99,99.8])) # max_length -> 1200"
   ]
  },
  {
   "cell_type": "markdown",
   "metadata": {
    "id": "wDlvwT8C30a3"
   },
   "source": [
    "#### **preprocess & Dataset-utilities**"
   ]
  },
  {
   "cell_type": "code",
   "execution_count": 5,
   "metadata": {
    "id": "hXJLZBi0LoDO"
   },
   "outputs": [],
   "source": [
    "\n",
    "def preproces_data(example,max_len,text ='text',label = 'label'):\n",
    "  tokenized_item = tokenizer(example[text],truncation=True,max_length=max_len,padding=\"max_length\")\n",
    "  inp_ids = tokenized_item['input_ids']\n",
    "  attn_msk = tokenized_item['attention_mask']\n",
    "  label = example[label]\n",
    "\n",
    "  return {\n",
    "         \"input_ids\": inp_ids, # Convert list to tensor\n",
    "          \"attention_mask\": attn_msk, # Convert list to tensor\n",
    "          \"labels\": label # Return the original label index\n",
    "    }"
   ]
  },
  {
   "cell_type": "code",
   "execution_count": 33,
   "metadata": {
    "colab": {
     "base_uri": "https://localhost:8080/",
     "height": 182,
     "referenced_widgets": [
      "dfb437d8485b495cb7909bfbc531a4ba",
      "88b6a0a17fe249febaa5137b429e93c6",
      "03ddfaf41e1341fc835f565cba7d55bc",
      "23e7a53cea7d4883a0ea434e8c039cba",
      "d05182f2c2b7469790b3088097d0b5a7",
      "c85f40e4b19e41edbc2cc9836ea30ca3",
      "16531a831a64490b893ca04494471e30",
      "5099f797f9e544f791f0fa841df844e7",
      "f288ae2e15ad48f7b4e904a343f77fbc",
      "20bdbdeb9f0746c4a59efd4b4400b5ed",
      "50ce2c3ec1d34d11b4dbbb2d675c8591",
      "df03c25faf9141139d9560040a4762b4",
      "f7e671ce94a94eb5832aac6befad7ce9",
      "86d89da346b7490b9086158bfd1e8b6b",
      "6f2f501b9a344b059b25d7a98b6eb5eb",
      "4afb343d70a24dd1ab7ad64728b801f9",
      "20956b50e4c64bb6abc90995b80aaaaa",
      "6993d4b3643344bb815f7cec996bc536",
      "effc0f35e7d5481cbaa8295d983743fd",
      "207de5c43e2b41ffb03da263130fe635",
      "b319f277ab5e4f72a6d6529e96d77b17",
      "908c0d31468e4f4891d9c84d2ea5f6e5",
      "1dd89178c8084f2bac1518e8d37b9e0b",
      "1675dccd49af4b65aacd6d86fa957565",
      "c961ab6a00974b5d97389b5e0811cae6",
      "b3d7677370f94e2081d2400c4f9fb6cc",
      "4a0d383d33fe409582788c33901166b3",
      "676a33a0c2884f66ac51145acde59102",
      "31a94035e13b45e1a111f710a54a1eff",
      "ef317cadbe5e4962913d05ef09055105",
      "faac393f91064a7a97e7aa5ae9cdebf8",
      "e0dad68df8ad477e948e66f15403d1b2",
      "74f2aeb5f0f94871a5075960a87d4625"
     ]
    },
    "id": "373VZgLSnVuk",
    "outputId": "dc08e395-8c3a-4acd-b541-572346cfdc97"
   },
   "outputs": [
    {
     "data": {
      "application/vnd.jupyter.widget-view+json": {
       "model_id": "dfb437d8485b495cb7909bfbc531a4ba",
       "version_major": 2,
       "version_minor": 0
      },
      "text/plain": [
       "Map:   0%|          | 0/45000 [00:00<?, ? examples/s]"
      ]
     },
     "metadata": {},
     "output_type": "display_data"
    },
    {
     "data": {
      "application/vnd.jupyter.widget-view+json": {
       "model_id": "df03c25faf9141139d9560040a4762b4",
       "version_major": 2,
       "version_minor": 0
      },
      "text/plain": [
       "Map:   0%|          | 0/5000 [00:00<?, ? examples/s]"
      ]
     },
     "metadata": {},
     "output_type": "display_data"
    },
    {
     "data": {
      "application/vnd.jupyter.widget-view+json": {
       "model_id": "1dd89178c8084f2bac1518e8d37b9e0b",
       "version_major": 2,
       "version_minor": 0
      },
      "text/plain": [
       "Map:   0%|          | 0/50000 [00:00<?, ? examples/s]"
      ]
     },
     "metadata": {},
     "output_type": "display_data"
    },
    {
     "data": {
      "text/plain": [
       "Dataset({\n",
       "    features: ['input_ids', 'attention_mask', 'labels'],\n",
       "    num_rows: 45000\n",
       "})"
      ]
     },
     "execution_count": 33,
     "metadata": {},
     "output_type": "execute_result"
    }
   ],
   "source": [
    "# --- 20 classes dataset ---\n",
    "train_dataset = train_data.map(preproces_data, fn_kwargs={'max_len': 32}, remove_columns=['text','label'])\n",
    "val_dataset = val_data.map(preproces_data, fn_kwargs={'max_len': 32}, remove_columns=['text','label'])\n",
    "test_dataset = test_data.map(preproces_data, fn_kwargs={'max_len': 32}, remove_columns=['text','label'])\n",
    "train_dataset"
   ]
  },
  {
   "cell_type": "code",
   "execution_count": 7,
   "metadata": {
    "colab": {
     "base_uri": "https://localhost:8080/",
     "height": 182,
     "referenced_widgets": [
      "784628efdc444bc98290d5ebaa7f8e94",
      "4c2f485d9ce24373bb9c150b516c0dd1",
      "3eb33802d52041ccbf0c28afba6662c8",
      "7e98855894044dd4b4d49d6ac6651973",
      "273d9cddd88240efb7ec57bd17d3f2ff",
      "bfeaf4885c454f47bdb24b33a883c4d2",
      "91f76dd1a6b940dda449229269d76665",
      "c41701fa8c5a4e4c99e49ffb6fbc15c1",
      "dab1ecd9c3a24cda8c9ddc8f3ff4c6f6",
      "cfb9d7c81430493faf471b73c1e44661",
      "72ac5a9217384ba7bb5518f4ae2d86b2",
      "d00ec06c8a2a46bca74b287a27673036",
      "1d632d9e7a6c4f81b7b2f3edf921d592",
      "3844b43ca00047b4b605937717818328",
      "44c782272b784c1dba8742c8586c6349",
      "e5080bf1baec4ff1bfece88fbece4b39",
      "95fd3b22c4054656a3bfff55e76c0146",
      "4dbf0dffb9984d01b2272717a9319a69",
      "2d7527f877ed419e82f28c5ae690fee2",
      "9b40175bb11c4f6cba36ddaf7e309b80",
      "413222728175435a9dd020c684e29e0b",
      "a0ae16231d864ede9f25c5284e5285c2",
      "4d091629f4034cfca4aa4327457294f1",
      "a73538e130014010a5b4a35031aa62c2",
      "343d1190423a4be0af00f15359feff14",
      "15e1083828894826904a35d21e3cbfee",
      "89f5dfb9b73645dcb8a8818a42999153",
      "8391ee55cb0741279978e4657ccec0fb",
      "d93ee93738cf46b082c4b76345bdef89",
      "252b7d06af6246808bfdc718b769f992",
      "7663df3ab2ed4da7b8e380f5018c974a",
      "b94f5a46c4c34bf5899db6646fc3aeac",
      "46727aef426942f0befde08172492990"
     ]
    },
    "id": "sw4-lBOhN09d",
    "outputId": "1cf1622c-b5cb-442d-ffaf-7d36c8343a57"
   },
   "outputs": [
    {
     "data": {
      "application/vnd.jupyter.widget-view+json": {
       "model_id": "784628efdc444bc98290d5ebaa7f8e94",
       "version_major": 2,
       "version_minor": 0
      },
      "text/plain": [
       "Map:   0%|          | 0/8544 [00:00<?, ? examples/s]"
      ]
     },
     "metadata": {},
     "output_type": "display_data"
    },
    {
     "data": {
      "application/vnd.jupyter.widget-view+json": {
       "model_id": "d00ec06c8a2a46bca74b287a27673036",
       "version_major": 2,
       "version_minor": 0
      },
      "text/plain": [
       "Map:   0%|          | 0/1101 [00:00<?, ? examples/s]"
      ]
     },
     "metadata": {},
     "output_type": "display_data"
    },
    {
     "data": {
      "application/vnd.jupyter.widget-view+json": {
       "model_id": "4d091629f4034cfca4aa4327457294f1",
       "version_major": 2,
       "version_minor": 0
      },
      "text/plain": [
       "Map:   0%|          | 0/2210 [00:00<?, ? examples/s]"
      ]
     },
     "metadata": {},
     "output_type": "display_data"
    },
    {
     "data": {
      "text/plain": [
       "Dataset({\n",
       "    features: ['input_ids', 'attention_mask', 'labels'],\n",
       "    num_rows: 8544\n",
       "})"
      ]
     },
     "execution_count": 7,
     "metadata": {},
     "output_type": "execute_result"
    }
   ],
   "source": [
    "# --- sst5 ---\n",
    "sst_train = sst['train'].map(preproces_data,fn_kwargs={'max_len': 48},remove_columns=['text','label','label_text'])\n",
    "sst_val = sst['validation'].map(preproces_data,fn_kwargs={'max_len': 48},remove_columns=['text','label','label_text'])\n",
    "sst_test = sst['test'].map(preproces_data,fn_kwargs={'max_len': 48},remove_columns=['text','label','label_text'])\n",
    "sst_train"
   ]
  },
  {
   "cell_type": "code",
   "execution_count": 6,
   "metadata": {
    "colab": {
     "base_uri": "https://localhost:8080/",
     "height": 150,
     "referenced_widgets": [
      "2ef66e32af4943579f1bd093bbcf70ba",
      "3e1fdcc62e974fdbad81ce72d1327545",
      "bc09dcdbff2c4af3a42e4fa597ea9e38",
      "9f15a07f9335458abb30195c2a22da1b",
      "cbea61e7519445afae6e2f49742ceca2",
      "1cd3ec366af54b35832b25a946828a41",
      "4e4a6b98616a4b7cad3679d70af584d0",
      "d4d4099a60f74667895c19021d1207e8",
      "14b4f91a2ed547ff8da1cb9ca8bb1472",
      "9848a9454d2342ce817e1785f5dccc53",
      "12159eb33c6b408d955d9b2425e035b4",
      "6151b13d7d244ea09ff537253c8c2204",
      "e498c30b564f4f2c8195e877809ba843",
      "bc8fd1ee3098467c97c62736f0fc7fde",
      "ec715ee8944c403d916e12cbf22db53a",
      "6dd0e329faea458b814cea7bf5889391",
      "05eec5852f8d45808a63febfb153da06",
      "a18fb98f12644ab3bee09475f09286f9",
      "f005361dd53f42b692c4d764562d672a",
      "734ceb41dcdc480d8fd8a697c225c11a",
      "2d656ee4ebcf4e4aaf4100731e622774",
      "07873c2ef3d6482aa66b435c1d4937c4"
     ]
    },
    "id": "BmPvp_kznQdt",
    "outputId": "efffc51d-7d68-4485-8c48-8f1735bbab3a"
   },
   "outputs": [
    {
     "data": {
      "application/vnd.jupyter.widget-view+json": {
       "model_id": "2ef66e32af4943579f1bd093bbcf70ba",
       "version_major": 2,
       "version_minor": 0
      },
      "text/plain": [
       "Map:   0%|          | 0/25000 [00:00<?, ? examples/s]"
      ]
     },
     "metadata": {},
     "output_type": "display_data"
    },
    {
     "data": {
      "application/vnd.jupyter.widget-view+json": {
       "model_id": "6151b13d7d244ea09ff537253c8c2204",
       "version_major": 2,
       "version_minor": 0
      },
      "text/plain": [
       "Map:   0%|          | 0/25000 [00:00<?, ? examples/s]"
      ]
     },
     "metadata": {},
     "output_type": "display_data"
    },
    {
     "data": {
      "text/plain": [
       "Dataset({\n",
       "    features: ['input_ids', 'attention_mask', 'labels'],\n",
       "    num_rows: 25000\n",
       "})"
      ]
     },
     "execution_count": 6,
     "metadata": {},
     "output_type": "execute_result"
    }
   ],
   "source": [
    "imdb_train = imdb['train'].map(preproces_data,fn_kwargs={'max_len': 1024},remove_columns=['text','label'])\n",
    "imdb_test = imdb['test'].map(preproces_data,fn_kwargs={'max_len': 1024},remove_columns=['text','label'])\n",
    "imdb_test"
   ]
  },
  {
   "cell_type": "code",
   "execution_count": 7,
   "metadata": {
    "id": "AW61SrZLks7i"
   },
   "outputs": [],
   "source": [
    "def collate_fn(batch):\n",
    "    input_ids = [\n",
    "        torch.tensor(item['input_ids'], dtype=torch.long)\n",
    "        if not isinstance(item['input_ids'], torch.Tensor) else item['input_ids'].long()\n",
    "        for item in batch\n",
    "    ]\n",
    "    attention_mask = [\n",
    "        torch.tensor(item['attention_mask'], dtype=torch.long)\n",
    "        if not isinstance(item['attention_mask'], torch.Tensor) else item['attention_mask'].long()\n",
    "        for item in batch\n",
    "    ]\n",
    "\n",
    "    labels = torch.stack([\n",
    "        torch.tensor(item['labels'], dtype=torch.long) # Changed to torch.long\n",
    "        if not isinstance(item['labels'], torch.Tensor) else item['labels'].long()\n",
    "        for item in batch\n",
    "    ])\n",
    "\n",
    "\n",
    "    input_ids_padded = pad_sequence(\n",
    "        input_ids, batch_first=True, padding_value=tokenizer.pad_token_id\n",
    "    )\n",
    "    attention_mask_padded = pad_sequence(\n",
    "        attention_mask, batch_first=True, padding_value=0\n",
    "    )\n",
    "\n",
    "    return {\n",
    "        \"input_ids\": input_ids_padded,        # (batch_size, seq_len)\n",
    "        \"attention_mask\": attention_mask_padded,  # (batch_size, seq_len)\n",
    "        \"labels\": labels                      # (batch_size, num_classes)\n",
    "    }"
   ]
  },
  {
   "cell_type": "markdown",
   "metadata": {
    "id": "M9yNhxHHOIxe"
   },
   "source": [
    "##### **LitModule**"
   ]
  },
  {
   "cell_type": "code",
   "execution_count": 8,
   "metadata": {
    "id": "0ZRwL32pELzn"
   },
   "outputs": [],
   "source": [
    "import torchmetrics\n",
    "from torch.optim.lr_scheduler import ReduceLROnPlateau # Import ReduceLROnPlateau\n",
    "\n",
    "class LitModule(pl.LightningModule):\n",
    "  def __init__(self,model,batch_size=64,lr=1e-3,train_dataset=None,val_dataset=None,test_dataset=None):\n",
    "    super().__init__()\n",
    "    self.model = model\n",
    "    self.batch_size = batch_size\n",
    "    self.lr = lr\n",
    "    self.train_dataset = train_dataset\n",
    "    self.validation_dataset = val_dataset\n",
    "    self.test_dataset = test_dataset\n",
    "\n",
    "    self.loss_fn =  nn.CrossEntropyLoss()\n",
    "\n",
    "    self.train_accuracy = torchmetrics.Accuracy(task=\"multiclass\", num_classes=self.model.classifier.out_features)\n",
    "    self.val_accuracy = torchmetrics.Accuracy(task=\"multiclass\", num_classes=self.model.classifier.out_features)\n",
    "    self.train_f1 = torchmetrics.F1Score(task=\"multiclass\", num_classes=self.model.classifier.out_features)\n",
    "    self.val_f1 = torchmetrics.F1Score(task=\"multiclass\", num_classes=self.model.classifier.out_features)\n",
    "    self.test_accuracy = torchmetrics.Accuracy(task=\"multiclass\", num_classes=self.model.classifier.out_features)\n",
    "    self.test_f1 = torchmetrics.F1Score(task=\"multiclass\", num_classes=self.model.classifier.out_features)\n",
    "\n",
    "    # F1 per-class\n",
    "    self.test_f1_per_class = torchmetrics.F1Score(\n",
    "        task=\"multiclass\",\n",
    "        num_classes=self.model.classifier.out_features,\n",
    "        average=None\n",
    "    )\n",
    "\n",
    "  def forward(self,input_ids):\n",
    "    return self.model(input_ids)\n",
    "\n",
    "  def train_dataloader(self):\n",
    "    return DataLoader(self.train_dataset,batch_size=self.batch_size,shuffle=True,collate_fn=collate_fn) #sampler=self.sampler\n",
    "\n",
    "  def val_dataloader(self):\n",
    "    return DataLoader(self.validation_dataset,batch_size=self.batch_size, collate_fn=collate_fn)\n",
    "\n",
    "  def test_dataloader(self):\n",
    "    return DataLoader(self.test_dataset,batch_size=self.batch_size, collate_fn=collate_fn)\n",
    "\n",
    "\n",
    "  def training_step(self,batch,batch_idx):\n",
    "     input_ids = batch['input_ids']\n",
    "     labels = batch['labels'].long()\n",
    "\n",
    "     logits = self.model(input_ids)\n",
    "     loss = self.loss_fn(logits, labels)#self.loss_fn(logits.view(-1, logits.shape[-1]), labels.view(-1))\n",
    "     self.log(\"train_loss\",loss)\n",
    "\n",
    "     preds = torch.argmax(logits, dim=-1)\n",
    "\n",
    "     self.log('train_acc', self.train_accuracy(preds, labels), on_step=False, on_epoch=True, prog_bar=True)\n",
    "     self.log('train_f1', self.train_f1(preds, labels), on_step=False, on_epoch=True, prog_bar=True)\n",
    "\n",
    "\n",
    "     return loss\n",
    "\n",
    "  def validation_step(self, batch, batch_idx):\n",
    "    input_ids = batch['input_ids']\n",
    "    labels = batch['labels'].long()  # shape: [batch_size]\n",
    "\n",
    "    logits = self.model(input_ids)              # shape: [batch_size, num_classes]\n",
    "    loss = self.loss_fn(logits, labels)\n",
    "    self.log(\"val_loss\", loss, prog_bar=True)\n",
    "\n",
    "    preds = torch.argmax(logits, dim=-1)        # shape: [batch_size]\n",
    "    self.val_accuracy.update(preds, labels)\n",
    "    self.val_f1.update(preds, labels)\n",
    "\n",
    "    self.log('val_acc', self.val_accuracy, on_step=False, on_epoch=True, prog_bar=True)\n",
    "    self.log('val_f1', self.val_f1, on_step=False, on_epoch=True, prog_bar=True)\n",
    "\n",
    "\n",
    "  def test_step(self, batch, batch_idx):\n",
    "    input_ids = batch['input_ids']\n",
    "    labels = batch['labels'].long()\n",
    "\n",
    "    logits = self.model(input_ids)\n",
    "    loss = self.loss_fn(logits, labels)\n",
    "\n",
    "    preds = torch.argmax(logits, dim=-1)\n",
    "\n",
    "    # فقط update کنیم\n",
    "    self.test_accuracy.update(preds, labels)\n",
    "    self.test_f1.update(preds, labels)\n",
    "    self.test_f1_per_class.update(preds, labels)\n",
    "\n",
    "    self.log(\"-- test_loss --\", loss, prog_bar=True)\n",
    "\n",
    "  def on_test_epoch_end(self):\n",
    "    acc = self.test_accuracy.compute()\n",
    "    f1_macro = self.test_f1.compute()\n",
    "    f1_per_class = self.test_f1_per_class.compute()\n",
    "\n",
    "    # لاگ نهایی\n",
    "    self.log(\"-- test_acc --\", acc)\n",
    "    self.log(\"-- test_f1 --\", f1_macro)\n",
    "    for i, score in enumerate(f1_per_class):\n",
    "        self.log(f\"test_f1_class_{i}\", score)\n",
    "\n",
    "    # ریست کردن\n",
    "    self.test_accuracy.reset()\n",
    "    self.test_f1.reset()\n",
    "    self.test_f1_per_class.reset()\n",
    "\n",
    "\n",
    "  def configure_optimizers(self):\n",
    "     optimizer = torch.optim.Adam(self.parameters(), lr=self.lr)\n",
    "     scheduler = ReduceLROnPlateau(optimizer, mode='min', factor=0.1, patience=3)  # ✅ روی val_loss باید min باشه\n",
    "     return {\"optimizer\": optimizer,\"lr_scheduler\": {\"scheduler\": scheduler, \"monitor\": \"val_loss\"}}\n"
   ]
  },
  {
   "cell_type": "markdown",
   "metadata": {
    "id": "O225dzxe0hvo"
   },
   "source": [
    "#### **weight-initialize**"
   ]
  },
  {
   "cell_type": "code",
   "execution_count": 9,
   "metadata": {
    "id": "6OIM8xam0mQP"
   },
   "outputs": [],
   "source": [
    "class InitWeight:\n",
    "    def __call__(self, m):\n",
    "        if isinstance(m, nn.LSTM):\n",
    "            for name, param in m.named_parameters():\n",
    "                with torch.no_grad():\n",
    "                    if \"weight_ih\" in name:\n",
    "                        nn.init.xavier_uniform_(param.data)\n",
    "                    elif \"weight_hh\" in name:\n",
    "                        nn.init.orthogonal_(param.data)\n",
    "                    elif \"bias\" in name:\n",
    "                        param.fill_(0)\n",
    "        elif isinstance(m,nn.GRU):\n",
    "            for name, param in m.named_parameters(): # Added loop for GRU\n",
    "                with torch.no_grad():\n",
    "                    if \"weight_ih\" in name:\n",
    "                        nn.init.xavier_uniform_(param.data)\n",
    "                    elif \"weight_hh\" in name:\n",
    "                        nn.init.orthogonal_(param.data)\n",
    "                    elif \"bias\" in name:\n",
    "                        param.fill_(0)\n",
    "        elif isinstance(m, nn.Conv1d):\n",
    "            with torch.no_grad():\n",
    "                nn.init.kaiming_uniform_(m.weight, nonlinearity=\"relu\")\n",
    "                if m.bias is not None:\n",
    "                    nn.init.zeros_(m.bias)\n",
    "\n",
    "        elif isinstance(m, nn.Linear):\n",
    "            with torch.no_grad():\n",
    "                nn.init.normal_(m.weight, mean=0.0, std=0.02)\n",
    "                if m.bias is not None:\n",
    "                    nn.init.zeros_(m.bias)\n",
    "        elif isinstance(m, nn.Embedding):\n",
    "            nn.init.normal_(m.weight, mean=0.0, std=0.02)"
   ]
  },
  {
   "cell_type": "markdown",
   "metadata": {
    "id": "0OJXp5whREd2"
   },
   "source": [
    "#### **Attentions**"
   ]
  },
  {
   "cell_type": "code",
   "execution_count": 10,
   "metadata": {
    "id": "cfvfYWrLRITz"
   },
   "outputs": [],
   "source": [
    "class gru_Attention(nn.Module):\n",
    "    def __init__(self, hidden_dim=128,out_dim=0):\n",
    "        super().__init__()\n",
    "        self.hidden_dim = hidden_dim\n",
    "        self.out_dim = out_dim if out_dim !=0 else hidden_dim\n",
    "        self.key = nn.GRU(hidden_dim, self.out_dim, batch_first=True)\n",
    "        self.value = nn.GRU(hidden_dim, self.out_dim, batch_first=True)\n",
    "        self.query = nn.GRU(hidden_dim, self.out_dim, batch_first=True)\n",
    "        self.attn_drop = nn.Dropout(0.2)\n",
    "        self.resid_drop = nn.Dropout(0.2)\n",
    "        self.apply(InitWeight())\n",
    "\n",
    "    def forward(self, x):\n",
    "        B, T, C = x.size()\n",
    "\n",
    "        # output, h_n = gru(x)\n",
    "        _, k = self.key(x)   # h_n\n",
    "        _, q = self.query(x)  # h_n\n",
    "        _, v = self.value(x)  # h_n\n",
    "\n",
    "        k = k.squeeze(0)\n",
    "        q = q.squeeze(0)\n",
    "        v = v.squeeze(0)\n",
    "\n",
    "        att = (q @ k.transpose(-2, -1)) / math.sqrt(C)\n",
    "        att = F.softmax(att, dim=-1)\n",
    "        att = self.attn_drop(att)\n",
    "\n",
    "        y = att @ v\n",
    "        y = self.resid_drop(y)\n",
    "        y = y.unsqueeze(1)\n",
    "        return y"
   ]
  },
  {
   "cell_type": "code",
   "execution_count": 11,
   "metadata": {
    "id": "9SfLsiyYRZuP"
   },
   "outputs": [],
   "source": [
    "class conv_Attention(nn.Module):\n",
    "    def __init__(self, hidden_dim=128,out_dim=0):\n",
    "        super().__init__()\n",
    "        self.hidden_dim = hidden_dim\n",
    "        self.out_dim = out_dim if out_dim !=0 else hidden_dim\n",
    "        # Conv1d expects input (batch_size, channels, sequence_length)\n",
    "        self.key = nn.Conv1d(hidden_dim, self.out_dim, kernel_size=3,padding='same')\n",
    "        self.value = nn.Conv1d(hidden_dim, self.out_dim, kernel_size=3,padding='same')\n",
    "        self.query = nn.Conv1d(hidden_dim, self.out_dim, kernel_size=3,padding='same')\n",
    "        self.attn_drop = nn.Dropout(0.15)\n",
    "        self.resid_drop = nn.Dropout(0.15)\n",
    "        self.apply(InitWeight())\n",
    "\n",
    "    def forward(self, x):\n",
    "        B, T, C = x.size()\n",
    "\n",
    "        # Permute dimensions for Conv1d: (B, T, C) -> (B, C, T)\n",
    "        x_permuted = x.permute(0, 2, 1)\n",
    "\n",
    "        k = self.key(x_permuted)\n",
    "        q = self.query(x_permuted)\n",
    "        v = self.value(x_permuted)\n",
    "\n",
    "        # Permute back to (B, T, C) for attention calculation\n",
    "        k = k.permute(0, 2, 1)\n",
    "        q = q.permute(0, 2, 1)\n",
    "        v = v.permute(0, 2, 1)\n",
    "\n",
    "\n",
    "        att = (q @ k.transpose(-2, -1)) / math.sqrt(C)\n",
    "        att = F.softmax(att, dim=-1)\n",
    "        att = self.attn_drop(att)\n",
    "\n",
    "        y = att @ v\n",
    "        y = self.resid_drop(y)\n",
    "        return y"
   ]
  },
  {
   "cell_type": "code",
   "execution_count": 12,
   "metadata": {
    "id": "-jkD75cYZEiL"
   },
   "outputs": [],
   "source": [
    "class gru_Attention_2(nn.Module):\n",
    "    def __init__(self, hidden_dim=128,out_dim=0):\n",
    "        super().__init__()\n",
    "        self.hidden_dim = hidden_dim\n",
    "        self.out_dim = out_dim if out_dim !=0 else hidden_dim\n",
    "        self.key = nn.GRU(hidden_dim, self.out_dim, batch_first=True)\n",
    "        self.value = nn.GRU(hidden_dim, self.out_dim, batch_first=True)\n",
    "        self.query = nn.GRU(hidden_dim, self.out_dim, batch_first=True)\n",
    "        self.attn_drop = nn.Dropout(0.2)\n",
    "        self.resid_drop = nn.Dropout(0.2)\n",
    "        self.apply(InitWeight())\n",
    "\n",
    "    def forward(self, x):\n",
    "        B, T, C = x.size()\n",
    "\n",
    "        # output, h_n = gru(x)\n",
    "        k, _ = self.key(x)   # output\n",
    "        q, _ = self.query(x)  # output\n",
    "        v, _ = self.value(x)  # output\n",
    "\n",
    "        att = (q @ k.transpose(-2, -1)) / math.sqrt(C)\n",
    "        att = F.softmax(att, dim=-1)\n",
    "        att = self.attn_drop(att)\n",
    "\n",
    "        y = att @ v\n",
    "        y = self.resid_drop(y)\n",
    "        return y"
   ]
  },
  {
   "cell_type": "code",
   "execution_count": 13,
   "metadata": {
    "id": "cePDmegtZb_3"
   },
   "outputs": [],
   "source": [
    "class _MultiheadAttention(nn.Module):\n",
    "    def __init__(self, hidden_dim=128, num_heads=4):\n",
    "        super().__init__()\n",
    "        self.attn = nn.MultiheadAttention(\n",
    "              embed_dim=hidden_dim,\n",
    "              num_heads=num_heads,\n",
    "              batch_first=True\n",
    "           )\n",
    "        self.apply(InitWeight())\n",
    "    def forward(self, x):\n",
    "        return self.attn(x,x,x)[0]"
   ]
  },
  {
   "cell_type": "markdown",
   "metadata": {
    "id": "SI9oOrZqRuWP"
   },
   "source": [
    "#### **FFN**"
   ]
  },
  {
   "cell_type": "code",
   "execution_count": 14,
   "metadata": {
    "id": "xYPQcw2cRxLI"
   },
   "outputs": [],
   "source": [
    "class conv_lstm_ffn(nn.Module):\n",
    "  def __init__(self,hidden_dim=128,ff_dim=128):\n",
    "    super().__init__()\n",
    "    self.fc = nn.Linear(hidden_dim,ff_dim)\n",
    "    self.conv1 = nn.Conv1d(ff_dim, ff_dim, kernel_size=3, padding=\"same\")\n",
    "    self.conv2 = nn.Conv1d(ff_dim, ff_dim, kernel_size=5, padding=\"same\")\n",
    "    self.lstm = nn.LSTM(ff_dim*2, hidden_dim, batch_first=True, bidirectional=False)\n",
    "    self.apply(InitWeight())\n",
    "\n",
    "  def forward(self,x):\n",
    "      x = self.fc(x)\n",
    "      y1 = self.conv1(x.permute(0, 2, 1)).permute(0, 2, 1)  # (B, 1, ff_dim)\n",
    "      y2 = self.conv2(x.permute(0, 2, 1)).permute(0, 2, 1)  # (B, 1, ff_dim)\n",
    "      y = torch.cat([y1, y2], dim=-1)        # (B, 1, ff_dim*2)\n",
    "      y = F.relu(y)\n",
    "      y, _ = self.lstm(y)                   # (B, 1, hidden_dim)\n",
    "      return y\n"
   ]
  },
  {
   "cell_type": "code",
   "execution_count": 15,
   "metadata": {
    "id": "tXVg2vfoT8dX"
   },
   "outputs": [],
   "source": [
    "class conv_lin_ffn(nn.Module):\n",
    "  def __init__(self,hidden_dim=128,ff_dim=128):\n",
    "    super().__init__()\n",
    "    self.fc = nn.Linear(hidden_dim,ff_dim)\n",
    "    self.conv1 = nn.Conv1d(ff_dim, ff_dim, kernel_size=3, padding=\"same\")\n",
    "    self.conv2 = nn.Conv1d(ff_dim, ff_dim, kernel_size=5, padding=\"same\")\n",
    "    self.proj = nn.Linear(ff_dim*2,hidden_dim)\n",
    "    self.apply(InitWeight())\n",
    "\n",
    "  def forward(self,x):\n",
    "      x = self.fc(x)\n",
    "      y1 = self.conv1(x.permute(0, 2, 1)).permute(0, 2, 1)  # (B, 1, ff_dim)\n",
    "      y2 = self.conv2(x.permute(0, 2, 1)).permute(0, 2, 1)  # (B, 1, ff_dim)\n",
    "      y = torch.cat([y1, y2], dim=-1)        # (B, 1, ff_dim*2)\n",
    "      y = F.relu(y)\n",
    "      y = self.proj(y)                       # (B, 1, hidden_dim)\n",
    "      return y\n"
   ]
  },
  {
   "cell_type": "code",
   "execution_count": 16,
   "metadata": {
    "id": "sP5lbkmLYu9Z"
   },
   "outputs": [],
   "source": [
    "class lin_relu_ffn(nn.Module):\n",
    "  def __init__(self,hidden_dim=128,ff_dim=128):\n",
    "    super().__init__()\n",
    "    self.ffn = nn.Sequential(\n",
    "            nn.Linear(hidden_dim, ff_dim),\n",
    "            nn.ReLU(),\n",
    "            nn.Linear(ff_dim, hidden_dim)\n",
    "        )\n",
    "    self.apply(InitWeight())\n",
    "\n",
    "  def forward(self,x):\n",
    "    return self.ffn(x)"
   ]
  },
  {
   "cell_type": "code",
   "execution_count": 17,
   "metadata": {
    "id": "q6ia8b_WwfFo"
   },
   "outputs": [],
   "source": [
    "class lin_gelu_ffn(nn.Module):\n",
    "  def __init__(self,hidden_dim=128,ff_dim=128):\n",
    "    super().__init__()\n",
    "    self.ffn = nn.Sequential(\n",
    "            nn.Linear(hidden_dim, ff_dim),\n",
    "            nn.GELU(),\n",
    "            nn.Linear(ff_dim, hidden_dim)\n",
    "        )\n",
    "    self.apply(InitWeight())\n",
    "\n",
    "  def forward(self,x):\n",
    "    return self.ffn(x)"
   ]
  },
  {
   "cell_type": "markdown",
   "metadata": {
    "id": "Ig7IUv3hueUj"
   },
   "source": [
    "#### **MultiHeadAttention**"
   ]
  },
  {
   "cell_type": "code",
   "execution_count": 18,
   "metadata": {
    "id": "jWCpt5ueuklz"
   },
   "outputs": [],
   "source": [
    "class MultiHeadAttention(nn.Module):\n",
    "  def __init__(self,attention,hidden_dim=128,num_heads=4):\n",
    "    super().__init__()\n",
    "    self.num_heads = num_heads\n",
    "    self.hidden_dim = hidden_dim\n",
    "    self.head_dim = self.hidden_dim // self.num_heads\n",
    "    self.heads = nn.ModuleList([attention(hidden_dim=self.hidden_dim,out_dim=self.head_dim)\n",
    "     for _ in range(self.num_heads)])\n",
    "    self.fc_out = nn.Linear(self.hidden_dim,self.hidden_dim)\n",
    "    self.apply(InitWeight())\n",
    "\n",
    "  def forward(self,x):\n",
    "    out = torch.cat([head(x) for head in self.heads], dim=-1)\n",
    "    return self.fc_out(out)"
   ]
  },
  {
   "cell_type": "markdown",
   "metadata": {
    "id": "E8xBzMdbUumU"
   },
   "source": [
    "#### **CustomTransformer**"
   ]
  },
  {
   "cell_type": "code",
   "execution_count": 19,
   "metadata": {
    "id": "zTmIbHgKU1cG"
   },
   "outputs": [],
   "source": [
    "class CustomTransformer(nn.Module):\n",
    "  def __init__(self, hidden_dim=128, attn=None,FFN=None, dropout=0.1): #num_heads=4,\n",
    "      super().__init__()\n",
    "\n",
    "      # Attention\n",
    "      self.attn=attn\n",
    "      # Feed Forward\n",
    "      self.ffn=FFN\n",
    "\n",
    "      self.ln1 = nn.LayerNorm(hidden_dim)\n",
    "      self.ln2 = nn.LayerNorm(hidden_dim)\n",
    "      self.drop1 = nn.Dropout(dropout)\n",
    "      self.drop2 = nn.Dropout(dropout)\n",
    "\n",
    "  def forward(self, x, mask=None):\n",
    "        # Self-Attention + Residual\n",
    "        attn_out = self.attn(x)\n",
    "        x = self.ln1(x + self.drop1(attn_out))\n",
    "\n",
    "        # FeedForward + Residual\n",
    "        ff_out = self.ffn(x)\n",
    "        x = self.ln2(x + self.drop2(ff_out))\n",
    "\n",
    "        return x"
   ]
  },
  {
   "cell_type": "markdown",
   "metadata": {
    "id": "hHEaCi2Paix2"
   },
   "source": [
    "#### **Model**"
   ]
  },
  {
   "cell_type": "code",
   "execution_count": 20,
   "metadata": {
    "id": "BdBYTEKKamce"
   },
   "outputs": [],
   "source": [
    "class Model(nn.Module):\n",
    "  def __init__(self,vocab_size=VOCAB_SIZE,max_leng=256,hidden_dim=128,module_list=None,num_labels=20,num_repeats=4):\n",
    "    super().__init__()\n",
    "    self.word_embed = nn.Embedding(vocab_size, hidden_dim)\n",
    "    self.pos_embed = nn.Embedding(max_leng, hidden_dim)\n",
    "\n",
    "    self.layers = nn.ModuleList([item for item in module_list for _ in range(num_repeats)])\n",
    "    self.classifier = nn.Linear(hidden_dim, num_labels)\n",
    "    self.apply(InitWeight())\n",
    "\n",
    "  def forward(self, input_ids):\n",
    "        batch_size, seq_len = input_ids.size()\n",
    "        positions = torch.arange(seq_len, device=input_ids.device).unsqueeze(0).expand(batch_size, seq_len)\n",
    "\n",
    "        # word + positional embedding\n",
    "        x = self.word_embed(input_ids) + self.pos_embed(positions)\n",
    "\n",
    "        # Transformer layers\n",
    "        for layer in self.layers:\n",
    "            x = layer(x)\n",
    "\n",
    "        # Sequence pooling (mean pooling)\n",
    "        x = x.mean(dim=1)  # (B, H)\n",
    "\n",
    "        # Classification head\n",
    "        logits = self.classifier(x)\n",
    "        return logits"
   ]
  },
  {
   "cell_type": "markdown",
   "metadata": {
    "id": "ccxONoBok4w3"
   },
   "source": [
    "#### **Creat_Module_List**"
   ]
  },
  {
   "cell_type": "code",
   "execution_count": 21,
   "metadata": {
    "id": "-PQ5rDTZz1DL"
   },
   "outputs": [],
   "source": [
    "class Create_Module_list(nn.Module):\n",
    "  def __init__(self,hidden_dim=128,ff_dim=128,attn_ffn_tuples=None,num_heads=4,drop=0.1):\n",
    "    super().__init__()\n",
    "    self.drop=drop\n",
    "    self.num_heads = num_heads\n",
    "    self.tuples = attn_ffn_tuples\n",
    "    self.hidden_dim = hidden_dim\n",
    "    self.ff_dim = ff_dim\n",
    "\n",
    "  def forward(self):\n",
    "    module_list = []\n",
    "    for item in self.tuples:\n",
    "      attn_module = item[0]\n",
    "      ffn_module = item[1]\n",
    "      num_heads_item = self.num_heads # Default to the class num_heads\n",
    "\n",
    "      if len(item) == 3:\n",
    "          num_heads_item = item[2] # Use the specified number of heads\n",
    "\n",
    "      module_list.append(CustomTransformer(hidden_dim=self.hidden_dim,\n",
    "          attn=MultiHeadAttention(attention=attn_module,hidden_dim=self.hidden_dim,num_heads=num_heads_item) if attn_module is not None else _MultiheadAttention(hidden_dim=self.hidden_dim,num_heads=num_heads_item),\n",
    "          FFN=ffn_module(hidden_dim=self.hidden_dim,ff_dim=self.ff_dim) if ffn_module is not None else lin_relu_ffn(hidden_dim=self.hidden_dim,ff_dim=self.ff_dim),\n",
    "          dropout=self.drop))\n",
    "    return module_list"
   ]
  },
  {
   "cell_type": "markdown",
   "metadata": {
    "id": "cUpss0lfeWFe"
   },
   "source": [
    "#### **Train-Method**"
   ]
  },
  {
   "cell_type": "code",
   "execution_count": 22,
   "metadata": {
    "id": "daXR_amnebjE"
   },
   "outputs": [],
   "source": [
    "def train_model(attn_ffn_tuples=None,\n",
    "                num_labels=20,\n",
    "                hidden_dim=32,\n",
    "                max_leng=256,\n",
    "                ffn_dim=64,\n",
    "                num_heads=4,\n",
    "                dropout=0.1,\n",
    "                lr = 1e-3,\n",
    "                batch_size=32,\n",
    "                num_repeat_modules=3,\n",
    "                train_data=None,\n",
    "                val_data=None,\n",
    "                test_data=None,\n",
    "                early_stop=False,\n",
    "                patience=7,\n",
    "                max_epochs=5,\n",
    "                gradient_clip_val=5.0\n",
    "                ):\n",
    "\n",
    "  module_list_creator = Create_Module_list(hidden_dim=hidden_dim,\n",
    "                                           ff_dim=ffn_dim,\n",
    "                                           attn_ffn_tuples=attn_ffn_tuples,\n",
    "                                           num_heads=num_heads,\n",
    "                                           drop=dropout\n",
    "                                           )\n",
    "  module_list = module_list_creator()\n",
    "\n",
    "  model = Model(hidden_dim = hidden_dim,\n",
    "                max_leng = max_leng,\n",
    "                num_labels=num_labels,\n",
    "                module_list=module_list,\n",
    "                num_repeats=num_repeat_modules\n",
    "                )\n",
    "\n",
    "  lit_module = LitModule(model,\n",
    "                         batch_size=batch_size,\n",
    "                         lr=lr,\n",
    "                         train_dataset=train_data,\n",
    "                         val_dataset=val_data,\n",
    "                         test_dataset=test_data\n",
    "                         )\n",
    "\n",
    "  early_stop_callback = EarlyStopping(monitor='val_f1',min_delta=1e-4,patience=patience,verbose=True,mode='max')\n",
    "\n",
    "  callbacks=[]\n",
    "  if early_stop:\n",
    "    callbacks.append(early_stop_callback)\n",
    "\n",
    "  trainer = pl.Trainer(\n",
    "    max_epochs=max_epochs,\n",
    "    accelerator=device,\n",
    "    logger=False,\n",
    "    callbacks=callbacks,\n",
    "    gradient_clip_val=gradient_clip_val\n",
    "  )\n",
    "\n",
    "  trainer.fit(lit_module)\n",
    "  trainer.test(lit_module)\n",
    "\n",
    "  return model, lit_module"
   ]
  },
  {
   "cell_type": "markdown",
   "metadata": {
    "id": "W7K6YKPTuNTS"
   },
   "source": [
    "#### **Labs**"
   ]
  },
  {
   "cell_type": "markdown",
   "metadata": {
    "id": "qSIhi3AxoAOR"
   },
   "source": [
    "##### sst"
   ]
  },
  {
   "cell_type": "code",
   "execution_count": 28,
   "metadata": {
    "colab": {
     "base_uri": "https://localhost:8080/",
     "height": 736,
     "referenced_widgets": [
      "8ffee1d2585141ad8314c325e2f012e3",
      "0c834e984fb54bd491dd8abd29ddffd3",
      "cb9fcaf19f234759aba9725899308e39",
      "c8816bdbd2f84cf4aec707e6d43d83c3",
      "8425e79bfa7e4be9bc25cedeb15bddda",
      "b73a935830364709982e7df7aac1f434",
      "29b4c8df41794c0d951b019587a00984",
      "69891c3e6e8e46d28ad3128e6f1dbe51",
      "e9235219948d44ec86838e31e1582d15",
      "6879310c6b174ab3b07be93819db4f81",
      "1e9aca4da1f348fa84c06f8857ae493d",
      "1ae444a153c048d8bdc4fbd26c0d19fe",
      "3a4ac51e3afa408895a81b10969fbad9",
      "9638090c87e445bea3e2f96786707d86",
      "5d9dc0160ae847b6ae418d9914c2e7a5",
      "c14c41dea92f42a5989661f3c22c6010",
      "26cf52854c3e4a8f8b92bb1929ceb8ca",
      "fc7fa392f6f2425bb31addb5579cb3ea",
      "92df30cb6a5c47728ff1d892d123bf10",
      "66b3bdd9ce4a4e699ff578b60400bccc",
      "ba78140a9d8a4b048618e146f675878d",
      "d281c763ff3640388fdde7ac843e80bf",
      "57d84e4b39974a449919b76b36df0bdc",
      "291f04cf4cbd4aef8372478e6e5e3147",
      "923f71f75e12450f9d2672cf58a44155",
      "65a3fa38e8f94cab89c26e6a6334a1c4",
      "c76fd2fe21c84ac68bd35e0a771b4cbe",
      "0565fd0521ca426c982e9982dd3b4f0a",
      "f1a09b0e0c97447b832fd93e4d76eacd",
      "bf230eb42d4a4fa1aa1bc97a64bffad9",
      "631b5fa4ec4d472e8ceb4fde5a7ff452",
      "0adab8d339954a8e858dba7d68dbab29",
      "539786fd2d7b4cb7814e9cc5e46dfd22",
      "371207c82bd145b28524a5ee0dc73b79",
      "5b23d4fa78304d4db0654f4cf71ad8c0",
      "e645b77cc8d64d4cb6699a6872eb87f4",
      "91fba437025b45d18dcf00729b1861ce",
      "89dded53f6474f3080b321310744c107",
      "41dcb27cf4934062bf94fdc25eb23f1e",
      "36f3441228eb48dab1b2b214f52ed7db",
      "472cf5bfa7a2490db23f1fb0d94d41f6",
      "9e8edbd1ec6e44249a99c5cf288d8e4e",
      "18fd997ab6144e28900d19e060a4a522",
      "e49acc69bd1249b0b36c9b725b9e3fbb",
      "218ddeeb5beb41beaccabcf65b990f0c",
      "fe77633624f24925b127a0a78a220749",
      "a037c0e5820e44639ad78b524e1b28bd",
      "81b4e2e07fdc4b669ec70730debf47e1",
      "f72351d2889b4d88a137819510952075",
      "891c4d4187574ddcace3edacfcee4e91",
      "92c1fdcd70594dd9b98641846407e530",
      "de4bad12dcd44f8c806e57f82b6d3e3a",
      "a176b6bd982b436996ff5367b2eba102",
      "7ee0271d99da4e4e85ce006da67c1e0c",
      "cd7f337b89db4b90ae23d71b54fee00f",
      "830edd9b508e4f76859c717682c85974",
      "6c5d833fe1f643b585979760b86fd599",
      "a2c91229e3604eeb9bf0a7d16a7651ff",
      "d4050a6bc649413cbc0a8523bfbbda6a",
      "e89af8ddc8414b2ca00de38bb426b433",
      "c3100c92ed074dd1b9a0aae988532214",
      "df3c5ef8b0e24ababe1753a1e8bfef9d",
      "8a4033c945c44932ae2700c07c075c99",
      "597e38a094b04de3b94f8a8365df4ca3",
      "fcce7e07b0334ced9dcf80bb42f13ce3",
      "2fdb1ca5dbb1479f95d747b51a1f21b5",
      "e7be71ded74a4c70a382e3784e66b577",
      "4ee0f7bca128432eafe98add39bad49b",
      "a32cae1522af4a0498d5c7176f25a200",
      "4fb73f93187948ae9897a99a9cd1100a",
      "01b75832f280435c9e9e9c8d3e51ec5e",
      "62baf6617e9c47aeaacb011b775ded1d",
      "02276123c198479888de883ce50b23a5",
      "6599fa05e79e458c9862a15720951658",
      "9e184f9b3a104ecc94ea3b1818f6b21b",
      "4e88dacfd46a419a89400f288b2ddf27",
      "026067c13288420f9b198013c3983f6f"
     ]
    },
    "collapsed": true,
    "id": "R6LDO_USmBO4",
    "jupyter": {
     "outputs_hidden": true
    },
    "outputId": "85174f31-37a5-43d0-a47d-9af8f45f6549"
   },
   "outputs": [
    {
     "name": "stderr",
     "output_type": "stream",
     "text": [
      "INFO:pytorch_lightning.utilities.rank_zero:💡 Tip: For seamless cloud uploads and versioning, try installing [litmodels](https://pypi.org/project/litmodels/) to enable LitModelCheckpoint, which syncs automatically with the Lightning model registry.\n",
      "INFO:pytorch_lightning.utilities.rank_zero:GPU available: False, used: False\n",
      "INFO:pytorch_lightning.utilities.rank_zero:TPU available: False, using: 0 TPU cores\n",
      "INFO:pytorch_lightning.utilities.rank_zero:HPU available: False, using: 0 HPUs\n",
      "/usr/local/lib/python3.12/dist-packages/pytorch_lightning/callbacks/model_checkpoint.py:751: Checkpoint directory /content/checkpoints exists and is not empty.\n",
      "INFO:pytorch_lightning.callbacks.model_summary:\n",
      "  | Name              | Type               | Params | Mode \n",
      "-----------------------------------------------------------------\n",
      "0 | model             | Model              | 491 K  | train\n",
      "1 | loss_fn           | CrossEntropyLoss   | 0      | train\n",
      "2 | train_accuracy    | MulticlassAccuracy | 0      | train\n",
      "3 | val_accuracy      | MulticlassAccuracy | 0      | train\n",
      "4 | train_f1          | MulticlassF1Score  | 0      | train\n",
      "5 | val_f1            | MulticlassF1Score  | 0      | train\n",
      "6 | test_accuracy     | MulticlassAccuracy | 0      | train\n",
      "7 | test_f1           | MulticlassF1Score  | 0      | train\n",
      "8 | test_f1_per_class | MulticlassF1Score  | 0      | train\n",
      "-----------------------------------------------------------------\n",
      "491 K     Trainable params\n",
      "0         Non-trainable params\n",
      "491 K     Total params\n",
      "1.966     Total estimated model params size (MB)\n",
      "26        Modules in train mode\n",
      "0         Modules in eval mode\n"
     ]
    },
    {
     "data": {
      "application/vnd.jupyter.widget-view+json": {
       "model_id": "8ffee1d2585141ad8314c325e2f012e3",
       "version_major": 2,
       "version_minor": 0
      },
      "text/plain": [
       "Sanity Checking: |          | 0/? [00:00<?, ?it/s]"
      ]
     },
     "metadata": {},
     "output_type": "display_data"
    },
    {
     "data": {
      "application/vnd.jupyter.widget-view+json": {
       "model_id": "1ae444a153c048d8bdc4fbd26c0d19fe",
       "version_major": 2,
       "version_minor": 0
      },
      "text/plain": [
       "Training: |          | 0/? [00:00<?, ?it/s]"
      ]
     },
     "metadata": {},
     "output_type": "display_data"
    },
    {
     "data": {
      "application/vnd.jupyter.widget-view+json": {
       "model_id": "57d84e4b39974a449919b76b36df0bdc",
       "version_major": 2,
       "version_minor": 0
      },
      "text/plain": [
       "Validation: |          | 0/? [00:00<?, ?it/s]"
      ]
     },
     "metadata": {},
     "output_type": "display_data"
    },
    {
     "data": {
      "application/vnd.jupyter.widget-view+json": {
       "model_id": "371207c82bd145b28524a5ee0dc73b79",
       "version_major": 2,
       "version_minor": 0
      },
      "text/plain": [
       "Validation: |          | 0/? [00:00<?, ?it/s]"
      ]
     },
     "metadata": {},
     "output_type": "display_data"
    },
    {
     "data": {
      "application/vnd.jupyter.widget-view+json": {
       "model_id": "218ddeeb5beb41beaccabcf65b990f0c",
       "version_major": 2,
       "version_minor": 0
      },
      "text/plain": [
       "Validation: |          | 0/? [00:00<?, ?it/s]"
      ]
     },
     "metadata": {},
     "output_type": "display_data"
    },
    {
     "data": {
      "application/vnd.jupyter.widget-view+json": {
       "model_id": "830edd9b508e4f76859c717682c85974",
       "version_major": 2,
       "version_minor": 0
      },
      "text/plain": [
       "Validation: |          | 0/? [00:00<?, ?it/s]"
      ]
     },
     "metadata": {},
     "output_type": "display_data"
    },
    {
     "name": "stderr",
     "output_type": "stream",
     "text": [
      "INFO:pytorch_lightning.utilities.rank_zero:`Trainer.fit` stopped: `max_epochs=4` reached.\n"
     ]
    },
    {
     "data": {
      "application/vnd.jupyter.widget-view+json": {
       "model_id": "e7be71ded74a4c70a382e3784e66b577",
       "version_major": 2,
       "version_minor": 0
      },
      "text/plain": [
       "Testing: |          | 0/? [00:00<?, ?it/s]"
      ]
     },
     "metadata": {},
     "output_type": "display_data"
    },
    {
     "data": {
      "text/html": [
       "<pre style=\"white-space:pre;overflow-x:auto;line-height:normal;font-family:Menlo,'DejaVu Sans Mono',consolas,'Courier New',monospace\">┏━━━━━━━━━━━━━━━━━━━━━━━━━━━┳━━━━━━━━━━━━━━━━━━━━━━━━━━━┓\n",
       "┃<span style=\"font-weight: bold\">        Test metric        </span>┃<span style=\"font-weight: bold\">       DataLoader 0        </span>┃\n",
       "┡━━━━━━━━━━━━━━━━━━━━━━━━━━━╇━━━━━━━━━━━━━━━━━━━━━━━━━━━┩\n",
       "│<span style=\"color: #008080; text-decoration-color: #008080\">      -- test_acc --       </span>│<span style=\"color: #800080; text-decoration-color: #800080\">    0.4036199152469635     </span>│\n",
       "│<span style=\"color: #008080; text-decoration-color: #008080\">       -- test_f1 --       </span>│<span style=\"color: #800080; text-decoration-color: #800080\">    0.4036199152469635     </span>│\n",
       "│<span style=\"color: #008080; text-decoration-color: #008080\">      -- test_loss --      </span>│<span style=\"color: #800080; text-decoration-color: #800080\">     1.341601014137268     </span>│\n",
       "│<span style=\"color: #008080; text-decoration-color: #008080\">      test_f1_class_0      </span>│<span style=\"color: #800080; text-decoration-color: #800080\">            0.0            </span>│\n",
       "│<span style=\"color: #008080; text-decoration-color: #008080\">      test_f1_class_1      </span>│<span style=\"color: #800080; text-decoration-color: #800080\">    0.5452292561531067     </span>│\n",
       "│<span style=\"color: #008080; text-decoration-color: #008080\">      test_f1_class_2      </span>│<span style=\"color: #800080; text-decoration-color: #800080\">    0.04400977864861488    </span>│\n",
       "│<span style=\"color: #008080; text-decoration-color: #008080\">      test_f1_class_3      </span>│<span style=\"color: #800080; text-decoration-color: #800080\">    0.46646153926849365    </span>│\n",
       "│<span style=\"color: #008080; text-decoration-color: #008080\">      test_f1_class_4      </span>│<span style=\"color: #800080; text-decoration-color: #800080\">    0.2596348822116852     </span>│\n",
       "└───────────────────────────┴───────────────────────────┘\n",
       "</pre>\n"
      ],
      "text/plain": [
       "┏━━━━━━━━━━━━━━━━━━━━━━━━━━━┳━━━━━━━━━━━━━━━━━━━━━━━━━━━┓\n",
       "┃\u001b[1m \u001b[0m\u001b[1m       Test metric       \u001b[0m\u001b[1m \u001b[0m┃\u001b[1m \u001b[0m\u001b[1m      DataLoader 0       \u001b[0m\u001b[1m \u001b[0m┃\n",
       "┡━━━━━━━━━━━━━━━━━━━━━━━━━━━╇━━━━━━━━━━━━━━━━━━━━━━━━━━━┩\n",
       "│\u001b[36m \u001b[0m\u001b[36m     -- test_acc --      \u001b[0m\u001b[36m \u001b[0m│\u001b[35m \u001b[0m\u001b[35m   0.4036199152469635    \u001b[0m\u001b[35m \u001b[0m│\n",
       "│\u001b[36m \u001b[0m\u001b[36m      -- test_f1 --      \u001b[0m\u001b[36m \u001b[0m│\u001b[35m \u001b[0m\u001b[35m   0.4036199152469635    \u001b[0m\u001b[35m \u001b[0m│\n",
       "│\u001b[36m \u001b[0m\u001b[36m     -- test_loss --     \u001b[0m\u001b[36m \u001b[0m│\u001b[35m \u001b[0m\u001b[35m    1.341601014137268    \u001b[0m\u001b[35m \u001b[0m│\n",
       "│\u001b[36m \u001b[0m\u001b[36m     test_f1_class_0     \u001b[0m\u001b[36m \u001b[0m│\u001b[35m \u001b[0m\u001b[35m           0.0           \u001b[0m\u001b[35m \u001b[0m│\n",
       "│\u001b[36m \u001b[0m\u001b[36m     test_f1_class_1     \u001b[0m\u001b[36m \u001b[0m│\u001b[35m \u001b[0m\u001b[35m   0.5452292561531067    \u001b[0m\u001b[35m \u001b[0m│\n",
       "│\u001b[36m \u001b[0m\u001b[36m     test_f1_class_2     \u001b[0m\u001b[36m \u001b[0m│\u001b[35m \u001b[0m\u001b[35m   0.04400977864861488   \u001b[0m\u001b[35m \u001b[0m│\n",
       "│\u001b[36m \u001b[0m\u001b[36m     test_f1_class_3     \u001b[0m\u001b[36m \u001b[0m│\u001b[35m \u001b[0m\u001b[35m   0.46646153926849365   \u001b[0m\u001b[35m \u001b[0m│\n",
       "│\u001b[36m \u001b[0m\u001b[36m     test_f1_class_4     \u001b[0m\u001b[36m \u001b[0m│\u001b[35m \u001b[0m\u001b[35m   0.2596348822116852    \u001b[0m\u001b[35m \u001b[0m│\n",
       "└───────────────────────────┴───────────────────────────┘\n"
      ]
     },
     "metadata": {},
     "output_type": "display_data"
    }
   ],
   "source": [
    "tuples = [(None,None)]\n",
    "model, _ = train_model(num_labels=5,\n",
    "                hidden_dim=16,\n",
    "                max_leng=50,\n",
    "                attn_ffn_tuples=tuples,\n",
    "                ffn_dim=32,\n",
    "                       num_heads=1,\n",
    "                batch_size=64,\n",
    "                       lr=5e-4,\n",
    "                num_repeat_modules=1,\n",
    "                train_data=sst_train,\n",
    "                val_data=sst_val,\n",
    "                test_data=sst_test,\n",
    "                max_epochs=4)"
   ]
  },
  {
   "cell_type": "code",
   "execution_count": 29,
   "metadata": {
    "colab": {
     "base_uri": "https://localhost:8080/",
     "height": 736,
     "referenced_widgets": [
      "f0c0bb2867724a54b24bbb9cf15c780e",
      "d1d77185570a4d75a1975dc444edc0cd",
      "05cf2674e83d46988b62426bc0f29e5c",
      "bbb5ce0fa0e742cdb42a6a3db5d665d7",
      "a7a6e9d97747451790d4eccb7e0a1b78",
      "36013c8b4bba426c986e50a199256241",
      "05f0bf734b3e4773819dc598b062d608",
      "b0954e7e669a4e6187f3b155cd023ee1",
      "f65c24e803a146a3abf10486b5455465",
      "d0f24ce4dcde478086ff286275a8c62b",
      "4fbcf050ee4e48c18f290f48318b63a4",
      "cf1d40ce1e564592bda2e76867887df9",
      "f13bda4d561e4bdf930d7318400577bc",
      "589e1aa839e04d99842462573cbf48b2",
      "0f16cdab9f7c4ae686018841f641968e",
      "1a468215033548a0a55eed4a9888f5ea",
      "1586be19e6954a1aa30871b4508cdb80",
      "fab9ab47b4ea4ea79ac23041a21cf78e",
      "4a040db2c26c4da1be041845af16315a",
      "e48a588801c3456698b05c4204b32e22",
      "9199e057cec849e4adf348e9c8dafa6e",
      "dfce90fab3b64189844e29c0b9c5ee02",
      "6c26022652de412c968e77d9cfb3362f",
      "766629260a174f56b773e558f0bd8ab3",
      "88050b74b72b462ca53569902f7c4ed2",
      "4af850ccc0c643ec86963add8f80f321",
      "d4090334b8974683a8ffff94c446057d",
      "f63745ce5ac64171a5ac2992f946c77c",
      "a6990d30457e4c9cb3803d0d3db6455b",
      "2df27bd4db2042e18009a3aeab157687",
      "083fe40e66594d81acfaa898489cb5ed",
      "30740b413334476d84d0baecef9e7950",
      "4f87d9e939fc4378a86e43daa0e27e64",
      "6e5cee21acae4e428fb314b58b0bee82",
      "0554620b9bc44c8a9c89694d95e32521",
      "7f14381993724ae8b5cf0a7b4e58e92c",
      "4231835e942d4bd39ae63f35d1638d3d",
      "514ac3e73f644bd9a9cb555b2c205d07",
      "16c30120d75f4271b3f4ee56ed951279",
      "00dd139cfd9f450e91c8d6d23c3c6b30",
      "69d906127cd94badabe637185c850fc1",
      "59fb24497acf40cfb9504f9ce26de2c3",
      "b6bfcd0206c3470d88c315f09fb25cb7",
      "4663c600071641ef88e9e65818beef47",
      "87a38061515143c2bd3d6434fa66009e",
      "9192b982b42a45c98eb296605113f02d",
      "32c729c6dbd0474aa234929743953ab3",
      "4adab05dbd554fea9566dc941835c362",
      "0182eb9f998c4127a823073676edbdf8",
      "4a4abfa4f03b46f09a64a7826ed272e3",
      "931ca69edc614e3e8b2a1eca2b55232c",
      "8e8eb9ca205949ef9738f2c99e147d55",
      "b4051c522e78480eb7ae046e54872138",
      "8954082b1411442ea095930f19606299",
      "059d8f61e9b5445fb4403dd7108c2c5f",
      "19d567058c2747c2a266dec00a21b996",
      "00d5cf4209694f97aece5ee7c8cb8f31",
      "30a36acb0bd24e84a0c047ca9daabb0d",
      "130d776b6cca4e2da5db1333d03e6d21",
      "e4ae59874c3e4cd481e058e49414f2e7",
      "425640aa7f484040b73904769b06ceab",
      "f12455cecb1d454c963f00827e7c141f",
      "04577ae9ee064e4db1d92c2e3cbf0372",
      "b92e04ccdc894a9eb3f8fae534d3d94c",
      "8ea90dd1b0e54223aa5b7345c9dedea7",
      "19a7f44188e646e39dc1f28128c013ec",
      "cff80ddeb59744989b244286cc035dd7",
      "5e59685abc89453eb56ccffd1028e29d",
      "a0bbf9bfc14f4bac99ba7829b174a54d",
      "e64d0477a36d4031a4f42885dee5bab4",
      "6f00038b71c74f439c4d7d87627276ac",
      "0da5c0e30fe94a95a81a50b75ecd8413",
      "6f46d997ea7b4a89b83306e0612fb86e",
      "f3c69b6d52d14d268daa045999055c62",
      "94aa0147ef2548c8a1dd4fa8062f1adc",
      "20abea07fd994cffa0bea05227b5b12e",
      "16e2fa16815843c3a2a7a03431c217b1"
     ]
    },
    "collapsed": true,
    "id": "ojmw6SR9HR4D",
    "jupyter": {
     "outputs_hidden": true
    },
    "outputId": "aa9ac8f4-dbfc-4bf8-e1bd-a0be1c49906a"
   },
   "outputs": [
    {
     "name": "stderr",
     "output_type": "stream",
     "text": [
      "INFO:pytorch_lightning.utilities.rank_zero:💡 Tip: For seamless cloud uploads and versioning, try installing [litmodels](https://pypi.org/project/litmodels/) to enable LitModelCheckpoint, which syncs automatically with the Lightning model registry.\n",
      "INFO:pytorch_lightning.utilities.rank_zero:GPU available: False, used: False\n",
      "INFO:pytorch_lightning.utilities.rank_zero:TPU available: False, using: 0 TPU cores\n",
      "INFO:pytorch_lightning.utilities.rank_zero:HPU available: False, using: 0 HPUs\n",
      "/usr/local/lib/python3.12/dist-packages/pytorch_lightning/callbacks/model_checkpoint.py:751: Checkpoint directory /content/checkpoints exists and is not empty.\n",
      "INFO:pytorch_lightning.callbacks.model_summary:\n",
      "  | Name              | Type               | Params | Mode \n",
      "-----------------------------------------------------------------\n",
      "0 | model             | Model              | 495 K  | train\n",
      "1 | loss_fn           | CrossEntropyLoss   | 0      | train\n",
      "2 | train_accuracy    | MulticlassAccuracy | 0      | train\n",
      "3 | val_accuracy      | MulticlassAccuracy | 0      | train\n",
      "4 | train_f1          | MulticlassF1Score  | 0      | train\n",
      "5 | val_f1            | MulticlassF1Score  | 0      | train\n",
      "6 | test_accuracy     | MulticlassAccuracy | 0      | train\n",
      "7 | test_f1           | MulticlassF1Score  | 0      | train\n",
      "8 | test_f1_per_class | MulticlassF1Score  | 0      | train\n",
      "-----------------------------------------------------------------\n",
      "495 K     Trainable params\n",
      "0         Non-trainable params\n",
      "495 K     Total params\n",
      "1.982     Total estimated model params size (MB)\n",
      "32        Modules in train mode\n",
      "0         Modules in eval mode\n"
     ]
    },
    {
     "data": {
      "application/vnd.jupyter.widget-view+json": {
       "model_id": "f0c0bb2867724a54b24bbb9cf15c780e",
       "version_major": 2,
       "version_minor": 0
      },
      "text/plain": [
       "Sanity Checking: |          | 0/? [00:00<?, ?it/s]"
      ]
     },
     "metadata": {},
     "output_type": "display_data"
    },
    {
     "data": {
      "application/vnd.jupyter.widget-view+json": {
       "model_id": "cf1d40ce1e564592bda2e76867887df9",
       "version_major": 2,
       "version_minor": 0
      },
      "text/plain": [
       "Training: |          | 0/? [00:00<?, ?it/s]"
      ]
     },
     "metadata": {},
     "output_type": "display_data"
    },
    {
     "data": {
      "application/vnd.jupyter.widget-view+json": {
       "model_id": "6c26022652de412c968e77d9cfb3362f",
       "version_major": 2,
       "version_minor": 0
      },
      "text/plain": [
       "Validation: |          | 0/? [00:00<?, ?it/s]"
      ]
     },
     "metadata": {},
     "output_type": "display_data"
    },
    {
     "data": {
      "application/vnd.jupyter.widget-view+json": {
       "model_id": "6e5cee21acae4e428fb314b58b0bee82",
       "version_major": 2,
       "version_minor": 0
      },
      "text/plain": [
       "Validation: |          | 0/? [00:00<?, ?it/s]"
      ]
     },
     "metadata": {},
     "output_type": "display_data"
    },
    {
     "data": {
      "application/vnd.jupyter.widget-view+json": {
       "model_id": "87a38061515143c2bd3d6434fa66009e",
       "version_major": 2,
       "version_minor": 0
      },
      "text/plain": [
       "Validation: |          | 0/? [00:00<?, ?it/s]"
      ]
     },
     "metadata": {},
     "output_type": "display_data"
    },
    {
     "data": {
      "application/vnd.jupyter.widget-view+json": {
       "model_id": "19d567058c2747c2a266dec00a21b996",
       "version_major": 2,
       "version_minor": 0
      },
      "text/plain": [
       "Validation: |          | 0/? [00:00<?, ?it/s]"
      ]
     },
     "metadata": {},
     "output_type": "display_data"
    },
    {
     "name": "stderr",
     "output_type": "stream",
     "text": [
      "INFO:pytorch_lightning.utilities.rank_zero:`Trainer.fit` stopped: `max_epochs=4` reached.\n"
     ]
    },
    {
     "data": {
      "application/vnd.jupyter.widget-view+json": {
       "model_id": "cff80ddeb59744989b244286cc035dd7",
       "version_major": 2,
       "version_minor": 0
      },
      "text/plain": [
       "Testing: |          | 0/? [00:00<?, ?it/s]"
      ]
     },
     "metadata": {},
     "output_type": "display_data"
    },
    {
     "data": {
      "text/html": [
       "<pre style=\"white-space:pre;overflow-x:auto;line-height:normal;font-family:Menlo,'DejaVu Sans Mono',consolas,'Courier New',monospace\">┏━━━━━━━━━━━━━━━━━━━━━━━━━━━┳━━━━━━━━━━━━━━━━━━━━━━━━━━━┓\n",
       "┃<span style=\"font-weight: bold\">        Test metric        </span>┃<span style=\"font-weight: bold\">       DataLoader 0        </span>┃\n",
       "┡━━━━━━━━━━━━━━━━━━━━━━━━━━━╇━━━━━━━━━━━━━━━━━━━━━━━━━━━┩\n",
       "│<span style=\"color: #008080; text-decoration-color: #008080\">      -- test_acc --       </span>│<span style=\"color: #800080; text-decoration-color: #800080\">    0.4072398245334625     </span>│\n",
       "│<span style=\"color: #008080; text-decoration-color: #008080\">       -- test_f1 --       </span>│<span style=\"color: #800080; text-decoration-color: #800080\">    0.4072398245334625     </span>│\n",
       "│<span style=\"color: #008080; text-decoration-color: #008080\">      -- test_loss --      </span>│<span style=\"color: #800080; text-decoration-color: #800080\">    1.3504283428192139     </span>│\n",
       "│<span style=\"color: #008080; text-decoration-color: #008080\">      test_f1_class_0      </span>│<span style=\"color: #800080; text-decoration-color: #800080\">            0.0            </span>│\n",
       "│<span style=\"color: #008080; text-decoration-color: #008080\">      test_f1_class_1      </span>│<span style=\"color: #800080; text-decoration-color: #800080\">     0.568129301071167     </span>│\n",
       "│<span style=\"color: #008080; text-decoration-color: #008080\">      test_f1_class_2      </span>│<span style=\"color: #800080; text-decoration-color: #800080\">    0.19966159760951996    </span>│\n",
       "│<span style=\"color: #008080; text-decoration-color: #008080\">      test_f1_class_3      </span>│<span style=\"color: #800080; text-decoration-color: #800080\">    0.45528456568717957    </span>│\n",
       "│<span style=\"color: #008080; text-decoration-color: #008080\">      test_f1_class_4      </span>│<span style=\"color: #800080; text-decoration-color: #800080\">    0.17634408175945282    </span>│\n",
       "└───────────────────────────┴───────────────────────────┘\n",
       "</pre>\n"
      ],
      "text/plain": [
       "┏━━━━━━━━━━━━━━━━━━━━━━━━━━━┳━━━━━━━━━━━━━━━━━━━━━━━━━━━┓\n",
       "┃\u001b[1m \u001b[0m\u001b[1m       Test metric       \u001b[0m\u001b[1m \u001b[0m┃\u001b[1m \u001b[0m\u001b[1m      DataLoader 0       \u001b[0m\u001b[1m \u001b[0m┃\n",
       "┡━━━━━━━━━━━━━━━━━━━━━━━━━━━╇━━━━━━━━━━━━━━━━━━━━━━━━━━━┩\n",
       "│\u001b[36m \u001b[0m\u001b[36m     -- test_acc --      \u001b[0m\u001b[36m \u001b[0m│\u001b[35m \u001b[0m\u001b[35m   0.4072398245334625    \u001b[0m\u001b[35m \u001b[0m│\n",
       "│\u001b[36m \u001b[0m\u001b[36m      -- test_f1 --      \u001b[0m\u001b[36m \u001b[0m│\u001b[35m \u001b[0m\u001b[35m   0.4072398245334625    \u001b[0m\u001b[35m \u001b[0m│\n",
       "│\u001b[36m \u001b[0m\u001b[36m     -- test_loss --     \u001b[0m\u001b[36m \u001b[0m│\u001b[35m \u001b[0m\u001b[35m   1.3504283428192139    \u001b[0m\u001b[35m \u001b[0m│\n",
       "│\u001b[36m \u001b[0m\u001b[36m     test_f1_class_0     \u001b[0m\u001b[36m \u001b[0m│\u001b[35m \u001b[0m\u001b[35m           0.0           \u001b[0m\u001b[35m \u001b[0m│\n",
       "│\u001b[36m \u001b[0m\u001b[36m     test_f1_class_1     \u001b[0m\u001b[36m \u001b[0m│\u001b[35m \u001b[0m\u001b[35m    0.568129301071167    \u001b[0m\u001b[35m \u001b[0m│\n",
       "│\u001b[36m \u001b[0m\u001b[36m     test_f1_class_2     \u001b[0m\u001b[36m \u001b[0m│\u001b[35m \u001b[0m\u001b[35m   0.19966159760951996   \u001b[0m\u001b[35m \u001b[0m│\n",
       "│\u001b[36m \u001b[0m\u001b[36m     test_f1_class_3     \u001b[0m\u001b[36m \u001b[0m│\u001b[35m \u001b[0m\u001b[35m   0.45528456568717957   \u001b[0m\u001b[35m \u001b[0m│\n",
       "│\u001b[36m \u001b[0m\u001b[36m     test_f1_class_4     \u001b[0m\u001b[36m \u001b[0m│\u001b[35m \u001b[0m\u001b[35m   0.17634408175945282   \u001b[0m\u001b[35m \u001b[0m│\n",
       "└───────────────────────────┴───────────────────────────┘\n"
      ]
     },
     "metadata": {},
     "output_type": "display_data"
    }
   ],
   "source": [
    "tuples = [(gru_Attention_2,None)]\n",
    "model, _ = train_model(num_labels=5,\n",
    "                hidden_dim=16,\n",
    "                max_leng=50,\n",
    "                attn_ffn_tuples=tuples,\n",
    "                ffn_dim=32,\n",
    "                       num_heads=1,\n",
    "                batch_size=64,\n",
    "                       lr=5e-4,\n",
    "                num_repeat_modules=1,\n",
    "                train_data=sst_train,\n",
    "                val_data=sst_val,\n",
    "                test_data=sst_test,\n",
    "                max_epochs=4)"
   ]
  },
  {
   "cell_type": "code",
   "execution_count": 30,
   "metadata": {
    "colab": {
     "base_uri": "https://localhost:8080/",
     "height": 718,
     "referenced_widgets": [
      "f92808ce14864ac1bd15f82fd9eb1ea8",
      "d5ff9f46809e417294da385d9f1cb7af",
      "ac1b3c54cb4c4346994a0925c86dd59c",
      "41541d4b5bae49b58b6283ddc3db4b40",
      "b8ff86eb4db34ff8b3868cadf8dd7ec7",
      "4d23e4c5592146b8934a8f0e659088be",
      "7d9c80bdcd7d457382a264f3af21e5d0",
      "43b963dacb32486fb27eda3c77768c09",
      "ce7dc8ff8f18432aa75bb1984b4af124",
      "ef6aa1c199bf4def95e7392c14ad7f3d",
      "1bb7cd49d213483fb013286bdf9cb499",
      "4066f16aa2b142a8a51dd29ac22dd719",
      "9ae433325567431b81892175a171c534",
      "0c42995e537f4bac8aa2ba2563cf233c",
      "e4ea4dc99003443198d803366632159d",
      "b7f196685f5f4d039a597c3f2e9b0390",
      "ca154ee7f0c74e0fb81f32b600c4c47f",
      "7de8e4f88f25404eb2b0ae9e9c602899",
      "1bbf3f74d1894948926aa0fbe1df731b",
      "d2a79bbfa7134461a0fc0dd8ca5fb254",
      "cc9b4fc739b347deb07328c0232cba0a",
      "218b652d03f9423e9b8139d2004810de",
      "270be418cdc34e9f828b6f864ffc2377",
      "0d6e4000a18a42208b76a7b5d8f8a473",
      "dc9e198ad4a44d1b9947464aaf2d2796",
      "9058e09498af4c9d87641f503525874b",
      "1ae1ffbdab4d4c91bb47a0b4680b411f",
      "4bac61faa7f74ef7a19fda3e849beaf9",
      "9f5e47ab5b5a40cfbcfc15a7be270f4a",
      "938f3486afee4e53a7aa8e7b8b519b4b",
      "733c40e664a94d698adc9cb38c016c4e",
      "97af906b3ce947139809759e723426db",
      "494ca79976c44a068628929e85c84a29",
      "15e8fb36f5e147d1b7eefbe30a8a7282",
      "30a545925c084c39b08153b731152501",
      "72586f0aaee04000b28b30bdd17d13a9",
      "8c03f6b1b8114857a84da64fe39da33c",
      "24c1d234dbb44a5b885e90d9f663c17c",
      "72b4737546cd4f5bbb26979f75e5cc9d",
      "076dfd90d3794afd850c4a99ab26a861",
      "df9af335cfb94d89a3ae026e5fbf9715",
      "69c755a133404f8bbd250ab4f9d85d33",
      "5f9bdc99f8e44fb4920c0f7bdf33211a",
      "1c31af2fc1544919abdc5cb352c8786a",
      "75b668c5c4da4920840e7321a68e7c70",
      "96f8eb733f32456c9fa4151e77e6060f",
      "f17ee0b44eb14f74877b9575371499c0",
      "84418f4a7c664ac7865114dcb5b1ded1",
      "d7a0fa75dc734cde8141bb6040f2b620",
      "5bc9b0df6b4f41e0ba7fe259242c0528",
      "ff6d78c9cb8c4eedbd15dcc326192dc6",
      "e7c83c62b5b64cd9a6f945b8e96f7723",
      "c1cc830b897646eeaa8a394f3920fd81",
      "69ffdd04d5694f859b8437d2bdcf3d96",
      "371c6d8fa248427cbe5d3db858c426d9",
      "569925711acd483ca44f05dbe89150fa",
      "eadc0d8534b9444d96fc885b5a271ab7",
      "fccdc723a2ed473880d8c58bbd44561c",
      "45184c012c744160bad2b90127a87f11",
      "52a5caaa1e364d7494e28e0f8aad26cd",
      "4da182988e67465882cf6cdae3467c1c",
      "944c51968d2246a29685e6525ced01be",
      "78d3bbb67fc543daaa2616653f3fdc8b",
      "db08ef58e3dc437c8eacaa48395524bb",
      "0d815c3b8d854aca8a220c1999ac5019",
      "5ece6580f6194a8fa53c914fd9389d95",
      "e05dc54c79924fef89d0b8e8d9feec5e",
      "245e47d114614df2ac6eb0b226713149",
      "a1699d2ca7314eb3a77bacb028aa3752",
      "af288dbae30c49b1828163b810e406a4",
      "713a131ebfb9408a9fe2a4f2f5953041",
      "d468b694a57f4f32a30d64e89739c5c9",
      "835ee34701c04bc6a8a32d7c5703a5e4",
      "dcfead4b4f30422b85936a156eb3351d",
      "12e7dedf15c44b0d8d9668552799d771",
      "48cb16d9f1594922aad610848813626f",
      "67efb344b23a4c7f92d0a0f34c9071e2"
     ]
    },
    "collapsed": true,
    "id": "VJnDihLqHn2H",
    "jupyter": {
     "outputs_hidden": true
    },
    "outputId": "8a28ca80-8b68-4c82-f0b8-f31ec7f239df"
   },
   "outputs": [
    {
     "name": "stderr",
     "output_type": "stream",
     "text": [
      "INFO:pytorch_lightning.utilities.rank_zero:💡 Tip: For seamless cloud uploads and versioning, try installing [litmodels](https://pypi.org/project/litmodels/) to enable LitModelCheckpoint, which syncs automatically with the Lightning model registry.\n",
      "INFO:pytorch_lightning.utilities.rank_zero:GPU available: False, used: False\n",
      "INFO:pytorch_lightning.utilities.rank_zero:TPU available: False, using: 0 TPU cores\n",
      "INFO:pytorch_lightning.utilities.rank_zero:HPU available: False, using: 0 HPUs\n",
      "INFO:pytorch_lightning.callbacks.model_summary:\n",
      "  | Name              | Type               | Params | Mode \n",
      "-----------------------------------------------------------------\n",
      "0 | model             | Model              | 495 K  | train\n",
      "1 | loss_fn           | CrossEntropyLoss   | 0      | train\n",
      "2 | train_accuracy    | MulticlassAccuracy | 0      | train\n",
      "3 | val_accuracy      | MulticlassAccuracy | 0      | train\n",
      "4 | train_f1          | MulticlassF1Score  | 0      | train\n",
      "5 | val_f1            | MulticlassF1Score  | 0      | train\n",
      "6 | test_accuracy     | MulticlassAccuracy | 0      | train\n",
      "7 | test_f1           | MulticlassF1Score  | 0      | train\n",
      "8 | test_f1_per_class | MulticlassF1Score  | 0      | train\n",
      "-----------------------------------------------------------------\n",
      "495 K     Trainable params\n",
      "0         Non-trainable params\n",
      "495 K     Total params\n",
      "1.982     Total estimated model params size (MB)\n",
      "32        Modules in train mode\n",
      "0         Modules in eval mode\n"
     ]
    },
    {
     "data": {
      "application/vnd.jupyter.widget-view+json": {
       "model_id": "f92808ce14864ac1bd15f82fd9eb1ea8",
       "version_major": 2,
       "version_minor": 0
      },
      "text/plain": [
       "Sanity Checking: |          | 0/? [00:00<?, ?it/s]"
      ]
     },
     "metadata": {},
     "output_type": "display_data"
    },
    {
     "data": {
      "application/vnd.jupyter.widget-view+json": {
       "model_id": "4066f16aa2b142a8a51dd29ac22dd719",
       "version_major": 2,
       "version_minor": 0
      },
      "text/plain": [
       "Training: |          | 0/? [00:00<?, ?it/s]"
      ]
     },
     "metadata": {},
     "output_type": "display_data"
    },
    {
     "data": {
      "application/vnd.jupyter.widget-view+json": {
       "model_id": "270be418cdc34e9f828b6f864ffc2377",
       "version_major": 2,
       "version_minor": 0
      },
      "text/plain": [
       "Validation: |          | 0/? [00:00<?, ?it/s]"
      ]
     },
     "metadata": {},
     "output_type": "display_data"
    },
    {
     "data": {
      "application/vnd.jupyter.widget-view+json": {
       "model_id": "15e8fb36f5e147d1b7eefbe30a8a7282",
       "version_major": 2,
       "version_minor": 0
      },
      "text/plain": [
       "Validation: |          | 0/? [00:00<?, ?it/s]"
      ]
     },
     "metadata": {},
     "output_type": "display_data"
    },
    {
     "data": {
      "application/vnd.jupyter.widget-view+json": {
       "model_id": "75b668c5c4da4920840e7321a68e7c70",
       "version_major": 2,
       "version_minor": 0
      },
      "text/plain": [
       "Validation: |          | 0/? [00:00<?, ?it/s]"
      ]
     },
     "metadata": {},
     "output_type": "display_data"
    },
    {
     "data": {
      "application/vnd.jupyter.widget-view+json": {
       "model_id": "569925711acd483ca44f05dbe89150fa",
       "version_major": 2,
       "version_minor": 0
      },
      "text/plain": [
       "Validation: |          | 0/? [00:00<?, ?it/s]"
      ]
     },
     "metadata": {},
     "output_type": "display_data"
    },
    {
     "name": "stderr",
     "output_type": "stream",
     "text": [
      "INFO:pytorch_lightning.utilities.rank_zero:`Trainer.fit` stopped: `max_epochs=4` reached.\n"
     ]
    },
    {
     "data": {
      "application/vnd.jupyter.widget-view+json": {
       "model_id": "e05dc54c79924fef89d0b8e8d9feec5e",
       "version_major": 2,
       "version_minor": 0
      },
      "text/plain": [
       "Testing: |          | 0/? [00:00<?, ?it/s]"
      ]
     },
     "metadata": {},
     "output_type": "display_data"
    },
    {
     "data": {
      "text/html": [
       "<pre style=\"white-space:pre;overflow-x:auto;line-height:normal;font-family:Menlo,'DejaVu Sans Mono',consolas,'Courier New',monospace\">┏━━━━━━━━━━━━━━━━━━━━━━━━━━━┳━━━━━━━━━━━━━━━━━━━━━━━━━━━┓\n",
       "┃<span style=\"font-weight: bold\">        Test metric        </span>┃<span style=\"font-weight: bold\">       DataLoader 0        </span>┃\n",
       "┡━━━━━━━━━━━━━━━━━━━━━━━━━━━╇━━━━━━━━━━━━━━━━━━━━━━━━━━━┩\n",
       "│<span style=\"color: #008080; text-decoration-color: #008080\">      -- test_acc --       </span>│<span style=\"color: #800080; text-decoration-color: #800080\">    0.3751131296157837     </span>│\n",
       "│<span style=\"color: #008080; text-decoration-color: #008080\">       -- test_f1 --       </span>│<span style=\"color: #800080; text-decoration-color: #800080\">    0.3751131296157837     </span>│\n",
       "│<span style=\"color: #008080; text-decoration-color: #008080\">      -- test_loss --      </span>│<span style=\"color: #800080; text-decoration-color: #800080\">    1.5082638263702393     </span>│\n",
       "│<span style=\"color: #008080; text-decoration-color: #008080\">      test_f1_class_0      </span>│<span style=\"color: #800080; text-decoration-color: #800080\">            0.0            </span>│\n",
       "│<span style=\"color: #008080; text-decoration-color: #008080\">      test_f1_class_1      </span>│<span style=\"color: #800080; text-decoration-color: #800080\">    0.5259842276573181     </span>│\n",
       "│<span style=\"color: #008080; text-decoration-color: #008080\">      test_f1_class_2      </span>│<span style=\"color: #800080; text-decoration-color: #800080\">            0.0            </span>│\n",
       "│<span style=\"color: #008080; text-decoration-color: #008080\">      test_f1_class_3      </span>│<span style=\"color: #800080; text-decoration-color: #800080\">    0.45303866267204285    </span>│\n",
       "│<span style=\"color: #008080; text-decoration-color: #008080\">      test_f1_class_4      </span>│<span style=\"color: #800080; text-decoration-color: #800080\">            0.0            </span>│\n",
       "└───────────────────────────┴───────────────────────────┘\n",
       "</pre>\n"
      ],
      "text/plain": [
       "┏━━━━━━━━━━━━━━━━━━━━━━━━━━━┳━━━━━━━━━━━━━━━━━━━━━━━━━━━┓\n",
       "┃\u001b[1m \u001b[0m\u001b[1m       Test metric       \u001b[0m\u001b[1m \u001b[0m┃\u001b[1m \u001b[0m\u001b[1m      DataLoader 0       \u001b[0m\u001b[1m \u001b[0m┃\n",
       "┡━━━━━━━━━━━━━━━━━━━━━━━━━━━╇━━━━━━━━━━━━━━━━━━━━━━━━━━━┩\n",
       "│\u001b[36m \u001b[0m\u001b[36m     -- test_acc --      \u001b[0m\u001b[36m \u001b[0m│\u001b[35m \u001b[0m\u001b[35m   0.3751131296157837    \u001b[0m\u001b[35m \u001b[0m│\n",
       "│\u001b[36m \u001b[0m\u001b[36m      -- test_f1 --      \u001b[0m\u001b[36m \u001b[0m│\u001b[35m \u001b[0m\u001b[35m   0.3751131296157837    \u001b[0m\u001b[35m \u001b[0m│\n",
       "│\u001b[36m \u001b[0m\u001b[36m     -- test_loss --     \u001b[0m\u001b[36m \u001b[0m│\u001b[35m \u001b[0m\u001b[35m   1.5082638263702393    \u001b[0m\u001b[35m \u001b[0m│\n",
       "│\u001b[36m \u001b[0m\u001b[36m     test_f1_class_0     \u001b[0m\u001b[36m \u001b[0m│\u001b[35m \u001b[0m\u001b[35m           0.0           \u001b[0m\u001b[35m \u001b[0m│\n",
       "│\u001b[36m \u001b[0m\u001b[36m     test_f1_class_1     \u001b[0m\u001b[36m \u001b[0m│\u001b[35m \u001b[0m\u001b[35m   0.5259842276573181    \u001b[0m\u001b[35m \u001b[0m│\n",
       "│\u001b[36m \u001b[0m\u001b[36m     test_f1_class_2     \u001b[0m\u001b[36m \u001b[0m│\u001b[35m \u001b[0m\u001b[35m           0.0           \u001b[0m\u001b[35m \u001b[0m│\n",
       "│\u001b[36m \u001b[0m\u001b[36m     test_f1_class_3     \u001b[0m\u001b[36m \u001b[0m│\u001b[35m \u001b[0m\u001b[35m   0.45303866267204285   \u001b[0m\u001b[35m \u001b[0m│\n",
       "│\u001b[36m \u001b[0m\u001b[36m     test_f1_class_4     \u001b[0m\u001b[36m \u001b[0m│\u001b[35m \u001b[0m\u001b[35m           0.0           \u001b[0m\u001b[35m \u001b[0m│\n",
       "└───────────────────────────┴───────────────────────────┘\n"
      ]
     },
     "metadata": {},
     "output_type": "display_data"
    }
   ],
   "source": [
    "tuples = [(gru_Attention,None)]\n",
    "model, _ = train_model(num_labels=5,\n",
    "                hidden_dim=16,\n",
    "                max_leng=50,\n",
    "                attn_ffn_tuples=tuples,\n",
    "                ffn_dim=32,\n",
    "                       num_heads=1,\n",
    "                batch_size=64,\n",
    "                       lr=5e-4,\n",
    "                num_repeat_modules=1,\n",
    "                train_data=sst_train,\n",
    "                val_data=sst_val,\n",
    "                test_data=sst_test,\n",
    "                max_epochs=4)"
   ]
  },
  {
   "cell_type": "code",
   "execution_count": 31,
   "metadata": {
    "colab": {
     "base_uri": "https://localhost:8080/",
     "height": 736,
     "referenced_widgets": [
      "3396a90d6a044ab989f654c617d030b7",
      "00108fb253454c36bc834f007ea05b18",
      "087a61e37aff4323b430eeae9a3e126b",
      "9a603da7f24646fbaeec103a32a81802",
      "1806449588f54f75bc7dda3089a33946",
      "955a56c6d3a14dbaa98a423d3ff8438d",
      "7e916ff4b4ac4a1b8c46ac3bed6dd564",
      "c02b9ce436f44ac0bfe12e6314bf7e41",
      "9e580aa5bf4641cd9cd329350ac4b0be",
      "731d9feacc8a4df4a054b7ea4b6567a4",
      "6ea762dc98a74c67a5b408902300f5c3",
      "4de2af65e4844613afdc1d6691293662",
      "1586ca82cce44aafbd320d46c6435409",
      "f69bd09ed1ca44c58d96034e68948ae1",
      "47b3f18b710d498e9f3140385eab2db1",
      "ba57fec9d806466a94c6fd69f6e680c8",
      "7b70727f599b4a8a9b164936b66736a1",
      "a1ebe20059454cc4ade4d964c5357edb",
      "31f24604e1624fd5999a50def18f2a5e",
      "e76e0569f0df41f68f7bc86a21211b46",
      "b8bc202316a74822a721e9883db69de2",
      "b4c7d46d08f4496bb584ca2470fc5ed6",
      "515cf590294b4b6fa25ef8654a57f291",
      "d562ad9b1a154433a4c734e4b8100f28",
      "989db5f29e3041e2ba2e38a763f9456f",
      "aff9f3219a454272a5bfaed52efd2d8e",
      "3b409db6da5b43dcbfea57c2ad3e3645",
      "22bcdbd09e2a443197ff6495ea332152",
      "233b8cacc12943b388b20f367dbea3c7",
      "4fcb2d52262945e6b5055348f7eb2247",
      "a9926399fc904baa9eeafd0400b2b807",
      "1b146852cb39426cb82695ba5034e05d",
      "498a112433c54b5ab62eded4360dbca3",
      "8b2a1f696c034a7d93b897fdf62a4e8d",
      "8a1c164097a644368282ff9dda99ccd0",
      "df79c5d16d0e4d7486658c5deca70774",
      "82affae71fb042c6a0a89618abe493b8",
      "f12f67637408466bad54b243b6475982",
      "caf29e5749e549f2994cfb6663e9f573",
      "1d0c96ea263c4c0587958abd0601574f",
      "83a3a90d4ef4488abf35829f5caf27f6",
      "0b056d9dae3047d6a5a20313f69e2d01",
      "39fc2249c42b456b801cfc48edd12273",
      "cfd68c3508a64a86a3b34cd35f616f02",
      "f18e254b2f2a4d4c8742e97ceaa17da2",
      "e6282fd4828c4c8596142ab73a90d7e3",
      "9967bb8a14cd4c92996923610f12c538",
      "db90fc7bb43a40b7acdbb714861a7d22",
      "218b292292564736a1c20db896f287db",
      "bd9df9d27ef2456db99ac250b31608e8",
      "36a55752b1c44facb0b525d964341c36",
      "3af246518b19428399cb2d152ef27e18",
      "7e8c59c68f9e4ea294952a24de63dbeb",
      "543c78be09b84eb88477614c11b52b74",
      "b902c07e6e7d4f81a8655917526833bf",
      "c5c0673d2e1c48ea9ae72f3f76057659",
      "7d3cdedd584348949e5054a8c18c4f5c",
      "931defce46154166bdacc39e39533921",
      "b4844c1d45ca4bde8c42ba984246bfd9",
      "0171e2c33f5843ec9ca08b3b941e5471",
      "88c2748c112a485b88cdd6b89047bf3c",
      "9864a1603d804a96aa88a89eac6aa3e2",
      "fe6145677346490a8caefb09f38f8eb4",
      "47318a473078465da4fa334840943664",
      "037bc3a50e2d4d9783b7f96c77499416",
      "1e90015b469a48a78d4d6afb174ec662",
      "63b0a0a426e94ee1a4d930d90f3f2834",
      "eeafea2024b0485e9289f801171cd240",
      "53fad56abf46426d80b4f24f2898c354",
      "11a2b03af4a040aca6748e7d703f2d80",
      "12a595db77a145789af447ad977e059c",
      "0ed61e68e9a54de6bd1f6732854e34a1",
      "321df21b7f264af39b9bcd3335860f2b",
      "b96eb74bbb814f17a9dabf81daecf461",
      "2812e0b4c8e749a2b84728800c644c1a",
      "2d2369b7507f4becbf6171331916612e",
      "cae20720e7d9484fa593c6644e3472ec"
     ]
    },
    "collapsed": true,
    "id": "5-oh9BsKH69_",
    "jupyter": {
     "outputs_hidden": true
    },
    "outputId": "0d6ae740-9478-4f99-fbf1-cc09e7e537a8"
   },
   "outputs": [
    {
     "name": "stderr",
     "output_type": "stream",
     "text": [
      "INFO:pytorch_lightning.utilities.rank_zero:💡 Tip: For seamless cloud uploads and versioning, try installing [litmodels](https://pypi.org/project/litmodels/) to enable LitModelCheckpoint, which syncs automatically with the Lightning model registry.\n",
      "INFO:pytorch_lightning.utilities.rank_zero:GPU available: False, used: False\n",
      "INFO:pytorch_lightning.utilities.rank_zero:TPU available: False, using: 0 TPU cores\n",
      "INFO:pytorch_lightning.utilities.rank_zero:HPU available: False, using: 0 HPUs\n",
      "/usr/local/lib/python3.12/dist-packages/pytorch_lightning/callbacks/model_checkpoint.py:751: Checkpoint directory /content/checkpoints exists and is not empty.\n",
      "INFO:pytorch_lightning.callbacks.model_summary:\n",
      "  | Name              | Type               | Params | Mode \n",
      "-----------------------------------------------------------------\n",
      "0 | model             | Model              | 492 K  | train\n",
      "1 | loss_fn           | CrossEntropyLoss   | 0      | train\n",
      "2 | train_accuracy    | MulticlassAccuracy | 0      | train\n",
      "3 | val_accuracy      | MulticlassAccuracy | 0      | train\n",
      "4 | train_f1          | MulticlassF1Score  | 0      | train\n",
      "5 | val_f1            | MulticlassF1Score  | 0      | train\n",
      "6 | test_accuracy     | MulticlassAccuracy | 0      | train\n",
      "7 | test_f1           | MulticlassF1Score  | 0      | train\n",
      "8 | test_f1_per_class | MulticlassF1Score  | 0      | train\n",
      "-----------------------------------------------------------------\n",
      "492 K     Trainable params\n",
      "0         Non-trainable params\n",
      "492 K     Total params\n",
      "1.972     Total estimated model params size (MB)\n",
      "32        Modules in train mode\n",
      "0         Modules in eval mode\n"
     ]
    },
    {
     "data": {
      "application/vnd.jupyter.widget-view+json": {
       "model_id": "3396a90d6a044ab989f654c617d030b7",
       "version_major": 2,
       "version_minor": 0
      },
      "text/plain": [
       "Sanity Checking: |          | 0/? [00:00<?, ?it/s]"
      ]
     },
     "metadata": {},
     "output_type": "display_data"
    },
    {
     "data": {
      "application/vnd.jupyter.widget-view+json": {
       "model_id": "4de2af65e4844613afdc1d6691293662",
       "version_major": 2,
       "version_minor": 0
      },
      "text/plain": [
       "Training: |          | 0/? [00:00<?, ?it/s]"
      ]
     },
     "metadata": {},
     "output_type": "display_data"
    },
    {
     "data": {
      "application/vnd.jupyter.widget-view+json": {
       "model_id": "515cf590294b4b6fa25ef8654a57f291",
       "version_major": 2,
       "version_minor": 0
      },
      "text/plain": [
       "Validation: |          | 0/? [00:00<?, ?it/s]"
      ]
     },
     "metadata": {},
     "output_type": "display_data"
    },
    {
     "data": {
      "application/vnd.jupyter.widget-view+json": {
       "model_id": "8b2a1f696c034a7d93b897fdf62a4e8d",
       "version_major": 2,
       "version_minor": 0
      },
      "text/plain": [
       "Validation: |          | 0/? [00:00<?, ?it/s]"
      ]
     },
     "metadata": {},
     "output_type": "display_data"
    },
    {
     "data": {
      "application/vnd.jupyter.widget-view+json": {
       "model_id": "f18e254b2f2a4d4c8742e97ceaa17da2",
       "version_major": 2,
       "version_minor": 0
      },
      "text/plain": [
       "Validation: |          | 0/? [00:00<?, ?it/s]"
      ]
     },
     "metadata": {},
     "output_type": "display_data"
    },
    {
     "data": {
      "application/vnd.jupyter.widget-view+json": {
       "model_id": "c5c0673d2e1c48ea9ae72f3f76057659",
       "version_major": 2,
       "version_minor": 0
      },
      "text/plain": [
       "Validation: |          | 0/? [00:00<?, ?it/s]"
      ]
     },
     "metadata": {},
     "output_type": "display_data"
    },
    {
     "name": "stderr",
     "output_type": "stream",
     "text": [
      "INFO:pytorch_lightning.utilities.rank_zero:`Trainer.fit` stopped: `max_epochs=4` reached.\n"
     ]
    },
    {
     "data": {
      "application/vnd.jupyter.widget-view+json": {
       "model_id": "63b0a0a426e94ee1a4d930d90f3f2834",
       "version_major": 2,
       "version_minor": 0
      },
      "text/plain": [
       "Testing: |          | 0/? [00:00<?, ?it/s]"
      ]
     },
     "metadata": {},
     "output_type": "display_data"
    },
    {
     "data": {
      "text/html": [
       "<pre style=\"white-space:pre;overflow-x:auto;line-height:normal;font-family:Menlo,'DejaVu Sans Mono',consolas,'Courier New',monospace\">┏━━━━━━━━━━━━━━━━━━━━━━━━━━━┳━━━━━━━━━━━━━━━━━━━━━━━━━━━┓\n",
       "┃<span style=\"font-weight: bold\">        Test metric        </span>┃<span style=\"font-weight: bold\">       DataLoader 0        </span>┃\n",
       "┡━━━━━━━━━━━━━━━━━━━━━━━━━━━╇━━━━━━━━━━━━━━━━━━━━━━━━━━━┩\n",
       "│<span style=\"color: #008080; text-decoration-color: #008080\">      -- test_acc --       </span>│<span style=\"color: #800080; text-decoration-color: #800080\">    0.4384615421295166     </span>│\n",
       "│<span style=\"color: #008080; text-decoration-color: #008080\">       -- test_f1 --       </span>│<span style=\"color: #800080; text-decoration-color: #800080\">    0.4384615421295166     </span>│\n",
       "│<span style=\"color: #008080; text-decoration-color: #008080\">      -- test_loss --      </span>│<span style=\"color: #800080; text-decoration-color: #800080\">     1.315575122833252     </span>│\n",
       "│<span style=\"color: #008080; text-decoration-color: #008080\">      test_f1_class_0      </span>│<span style=\"color: #800080; text-decoration-color: #800080\">    0.3188405930995941     </span>│\n",
       "│<span style=\"color: #008080; text-decoration-color: #008080\">      test_f1_class_1      </span>│<span style=\"color: #800080; text-decoration-color: #800080\">    0.5384615659713745     </span>│\n",
       "│<span style=\"color: #008080; text-decoration-color: #008080\">      test_f1_class_2      </span>│<span style=\"color: #800080; text-decoration-color: #800080\">    0.11983471363782883    </span>│\n",
       "│<span style=\"color: #008080; text-decoration-color: #008080\">      test_f1_class_3      </span>│<span style=\"color: #800080; text-decoration-color: #800080\">    0.4191729426383972     </span>│\n",
       "│<span style=\"color: #008080; text-decoration-color: #008080\">      test_f1_class_4      </span>│<span style=\"color: #800080; text-decoration-color: #800080\">    0.5489259958267212     </span>│\n",
       "└───────────────────────────┴───────────────────────────┘\n",
       "</pre>\n"
      ],
      "text/plain": [
       "┏━━━━━━━━━━━━━━━━━━━━━━━━━━━┳━━━━━━━━━━━━━━━━━━━━━━━━━━━┓\n",
       "┃\u001b[1m \u001b[0m\u001b[1m       Test metric       \u001b[0m\u001b[1m \u001b[0m┃\u001b[1m \u001b[0m\u001b[1m      DataLoader 0       \u001b[0m\u001b[1m \u001b[0m┃\n",
       "┡━━━━━━━━━━━━━━━━━━━━━━━━━━━╇━━━━━━━━━━━━━━━━━━━━━━━━━━━┩\n",
       "│\u001b[36m \u001b[0m\u001b[36m     -- test_acc --      \u001b[0m\u001b[36m \u001b[0m│\u001b[35m \u001b[0m\u001b[35m   0.4384615421295166    \u001b[0m\u001b[35m \u001b[0m│\n",
       "│\u001b[36m \u001b[0m\u001b[36m      -- test_f1 --      \u001b[0m\u001b[36m \u001b[0m│\u001b[35m \u001b[0m\u001b[35m   0.4384615421295166    \u001b[0m\u001b[35m \u001b[0m│\n",
       "│\u001b[36m \u001b[0m\u001b[36m     -- test_loss --     \u001b[0m\u001b[36m \u001b[0m│\u001b[35m \u001b[0m\u001b[35m    1.315575122833252    \u001b[0m\u001b[35m \u001b[0m│\n",
       "│\u001b[36m \u001b[0m\u001b[36m     test_f1_class_0     \u001b[0m\u001b[36m \u001b[0m│\u001b[35m \u001b[0m\u001b[35m   0.3188405930995941    \u001b[0m\u001b[35m \u001b[0m│\n",
       "│\u001b[36m \u001b[0m\u001b[36m     test_f1_class_1     \u001b[0m\u001b[36m \u001b[0m│\u001b[35m \u001b[0m\u001b[35m   0.5384615659713745    \u001b[0m\u001b[35m \u001b[0m│\n",
       "│\u001b[36m \u001b[0m\u001b[36m     test_f1_class_2     \u001b[0m\u001b[36m \u001b[0m│\u001b[35m \u001b[0m\u001b[35m   0.11983471363782883   \u001b[0m\u001b[35m \u001b[0m│\n",
       "│\u001b[36m \u001b[0m\u001b[36m     test_f1_class_3     \u001b[0m\u001b[36m \u001b[0m│\u001b[35m \u001b[0m\u001b[35m   0.4191729426383972    \u001b[0m\u001b[35m \u001b[0m│\n",
       "│\u001b[36m \u001b[0m\u001b[36m     test_f1_class_4     \u001b[0m\u001b[36m \u001b[0m│\u001b[35m \u001b[0m\u001b[35m   0.5489259958267212    \u001b[0m\u001b[35m \u001b[0m│\n",
       "└───────────────────────────┴───────────────────────────┘\n"
      ]
     },
     "metadata": {},
     "output_type": "display_data"
    }
   ],
   "source": [
    "tuples = [(conv_Attention,None)]\n",
    "model, _ = train_model(num_labels=5,\n",
    "                hidden_dim=16,\n",
    "                max_leng=50,\n",
    "                attn_ffn_tuples=tuples,\n",
    "                ffn_dim=32,\n",
    "                       num_heads=1,\n",
    "                batch_size=64,\n",
    "                       lr=5e-4,\n",
    "                num_repeat_modules=1,\n",
    "                train_data=sst_train,\n",
    "                val_data=sst_val,\n",
    "                test_data=sst_test,\n",
    "                max_epochs=4)"
   ]
  },
  {
   "cell_type": "markdown",
   "metadata": {
    "id": "KyA1_jmSn78t"
   },
   "source": [
    "##### 20-cls-dataset"
   ]
  },
  {
   "cell_type": "code",
   "execution_count": 35,
   "metadata": {
    "colab": {
     "base_uri": "https://localhost:8080/",
     "height": 969,
     "referenced_widgets": [
      "355a6baae6e649259410321e72609c7a",
      "b9f8a757c8754203aa1be94ac56d0278",
      "17660bc2b11f4473a51eaec22b7c9524",
      "3d9f075eed694009a66135d8852d8cc0",
      "daa167c2f0054988b4696c9c33075512",
      "7ea8d0c977d943bf9d67c1697d9edc29",
      "c39011ffead347fc965dda21576d4bc3",
      "2cb1a217d453499993478dce138e576b",
      "f36e41b059dd4c488571fbc89a88f2e1",
      "21eebfd88f82407796f5bf054afb2380",
      "b990fe852cbd447385f3a8a47792ebd5",
      "1651a1dd0a1c4437b0e3810ebadd8417",
      "5711d16fab6e433282e8ff810c2ba862",
      "28c427eb55824785af18aba0986c21ad",
      "6a7e045cdddc4a99ae1415346fdf2bcb",
      "4436504f5f314daeb1d1b2837bb8e5f2",
      "6b6e82fec54e487e8f48506d3fdd2b42",
      "2f55176d58324cf8adbb9fb2a7c3600b",
      "f30a4369b9a749ca8ac63b5bc3b1d68f",
      "4310e13c32b54ba8bcb3aa7810dcc8f8",
      "f046abb0513d43ef8e94dff01f5477a8",
      "ecab031353e94b8bbdbf653276907bfc",
      "d44853804df646a0806e11b9ed02a423",
      "8297588f58414b9f814c8a1ae6481bef",
      "ada0141c671f43f8a1ef348167fe1365",
      "1fdc38ec2db948759e5bf5e852c1cba9",
      "065fa0dab7244fcd8137a321e668798f",
      "a693eb27e53d4de698d92501eaab9a9a",
      "3c7b22c4cc324d9b874b1d499f013288",
      "d621ae04c98448c19a9517e023b3bf03",
      "c914818ae5f24af3b6eed5e2287a1b8f",
      "f018fbd4457940a582bfeafb2a88a4f2",
      "d4e5594013f44446b5477d544508fa0d",
      "6b3d9b42b329478482006e4d10d3d8a9",
      "8d62230d74d74e66874836c0147b9935",
      "29fc66f15d554edd8c080018733e9e92",
      "d6459d9cdbad405bb2c8faf86e53fb60",
      "5a334000e74a4ce7abe1dd62de889b84",
      "77d36ef58a4e45649a13bf38b8b9cb2b",
      "48954d35d22549e093236cc4cb9cfa89",
      "82f43d286ff8409d9a6a0bed5fd59a12",
      "df47a1cbfe9a4bb78f5caec101c8dd8e",
      "7dc08cafa6d940148da4f4ec1f78f1d7",
      "b85d9486075c46a494dce576af26b970",
      "650f3b786fe2471d90d35db24ca5284e",
      "9c2c37bbda5e4c47bfb5c9c2a382441b",
      "4857f26541ae43b4a0370572c34ba830",
      "6ab6af50f05d4765a46525de3887368b",
      "e4428390a34348b7a9b1f43aae3796ae",
      "e07d4311ade54c60b1b52f5a864fb61c",
      "cb5884bdd20547019d1fecaf31b4d721",
      "b5e0ceba862f4fa8adc9c6a434a04858",
      "dcc5dd28488c4c19a2c3eb2950ec2eef",
      "8cc56f0870e747d89ac618e9768ec797",
      "45b5b2efba51471c94a9563104deccd8",
      "a7a64b9a0bb24b57af9b52a24db59bd3",
      "35bfb407ac254b2489543fcc668367ab",
      "e20da5a87c0c4cebb863c0d40270339d",
      "5cd0c37a1959406f9f793528c7aada32",
      "1ea857671001445290948212397a7ef9",
      "86fd4e1e674148838d03f3091ede0ad1",
      "93b9e39be01742a097d7113530ba0c74",
      "32569ab157ce43e3bd56db436ea5f495",
      "c0271ffcfef44d1695f254aa354bf896",
      "0486f4ff24bc4b2fa56ae8967543e9bc",
      "dcfe63e73b834a6e974f97c0eb445ce7"
     ]
    },
    "collapsed": true,
    "id": "H06cHaaTIRlL",
    "jupyter": {
     "outputs_hidden": true
    },
    "outputId": "d8c04bce-848c-40ee-bf9b-d9262eba9150"
   },
   "outputs": [
    {
     "name": "stderr",
     "output_type": "stream",
     "text": [
      "INFO:pytorch_lightning.utilities.rank_zero:💡 Tip: For seamless cloud uploads and versioning, try installing [litmodels](https://pypi.org/project/litmodels/) to enable LitModelCheckpoint, which syncs automatically with the Lightning model registry.\n",
      "INFO:pytorch_lightning.utilities.rank_zero:GPU available: False, used: False\n",
      "INFO:pytorch_lightning.utilities.rank_zero:TPU available: False, using: 0 TPU cores\n",
      "INFO:pytorch_lightning.utilities.rank_zero:HPU available: False, using: 0 HPUs\n",
      "INFO:pytorch_lightning.callbacks.model_summary:\n",
      "  | Name              | Type               | Params | Mode \n",
      "-----------------------------------------------------------------\n",
      "0 | model             | Model              | 491 K  | train\n",
      "1 | loss_fn           | CrossEntropyLoss   | 0      | train\n",
      "2 | train_accuracy    | MulticlassAccuracy | 0      | train\n",
      "3 | val_accuracy      | MulticlassAccuracy | 0      | train\n",
      "4 | train_f1          | MulticlassF1Score  | 0      | train\n",
      "5 | val_f1            | MulticlassF1Score  | 0      | train\n",
      "6 | test_accuracy     | MulticlassAccuracy | 0      | train\n",
      "7 | test_f1           | MulticlassF1Score  | 0      | train\n",
      "8 | test_f1_per_class | MulticlassF1Score  | 0      | train\n",
      "-----------------------------------------------------------------\n",
      "491 K     Trainable params\n",
      "0         Non-trainable params\n",
      "491 K     Total params\n",
      "1.966     Total estimated model params size (MB)\n",
      "26        Modules in train mode\n",
      "0         Modules in eval mode\n"
     ]
    },
    {
     "data": {
      "application/vnd.jupyter.widget-view+json": {
       "model_id": "355a6baae6e649259410321e72609c7a",
       "version_major": 2,
       "version_minor": 0
      },
      "text/plain": [
       "Sanity Checking: |          | 0/? [00:00<?, ?it/s]"
      ]
     },
     "metadata": {},
     "output_type": "display_data"
    },
    {
     "data": {
      "application/vnd.jupyter.widget-view+json": {
       "model_id": "1651a1dd0a1c4437b0e3810ebadd8417",
       "version_major": 2,
       "version_minor": 0
      },
      "text/plain": [
       "Training: |          | 0/? [00:00<?, ?it/s]"
      ]
     },
     "metadata": {},
     "output_type": "display_data"
    },
    {
     "data": {
      "application/vnd.jupyter.widget-view+json": {
       "model_id": "d44853804df646a0806e11b9ed02a423",
       "version_major": 2,
       "version_minor": 0
      },
      "text/plain": [
       "Validation: |          | 0/? [00:00<?, ?it/s]"
      ]
     },
     "metadata": {},
     "output_type": "display_data"
    },
    {
     "data": {
      "application/vnd.jupyter.widget-view+json": {
       "model_id": "6b3d9b42b329478482006e4d10d3d8a9",
       "version_major": 2,
       "version_minor": 0
      },
      "text/plain": [
       "Validation: |          | 0/? [00:00<?, ?it/s]"
      ]
     },
     "metadata": {},
     "output_type": "display_data"
    },
    {
     "data": {
      "application/vnd.jupyter.widget-view+json": {
       "model_id": "650f3b786fe2471d90d35db24ca5284e",
       "version_major": 2,
       "version_minor": 0
      },
      "text/plain": [
       "Validation: |          | 0/? [00:00<?, ?it/s]"
      ]
     },
     "metadata": {},
     "output_type": "display_data"
    },
    {
     "name": "stderr",
     "output_type": "stream",
     "text": [
      "INFO:pytorch_lightning.utilities.rank_zero:`Trainer.fit` stopped: `max_epochs=3` reached.\n"
     ]
    },
    {
     "data": {
      "application/vnd.jupyter.widget-view+json": {
       "model_id": "a7a64b9a0bb24b57af9b52a24db59bd3",
       "version_major": 2,
       "version_minor": 0
      },
      "text/plain": [
       "Testing: |          | 0/? [00:00<?, ?it/s]"
      ]
     },
     "metadata": {},
     "output_type": "display_data"
    },
    {
     "data": {
      "text/html": [
       "<pre style=\"white-space:pre;overflow-x:auto;line-height:normal;font-family:Menlo,'DejaVu Sans Mono',consolas,'Courier New',monospace\">┏━━━━━━━━━━━━━━━━━━━━━━━━━━━┳━━━━━━━━━━━━━━━━━━━━━━━━━━━┓\n",
       "┃<span style=\"font-weight: bold\">        Test metric        </span>┃<span style=\"font-weight: bold\">       DataLoader 0        </span>┃\n",
       "┡━━━━━━━━━━━━━━━━━━━━━━━━━━━╇━━━━━━━━━━━━━━━━━━━━━━━━━━━┩\n",
       "│<span style=\"color: #008080; text-decoration-color: #008080\">      -- test_acc --       </span>│<span style=\"color: #800080; text-decoration-color: #800080\">    0.2876800000667572     </span>│\n",
       "│<span style=\"color: #008080; text-decoration-color: #008080\">       -- test_f1 --       </span>│<span style=\"color: #800080; text-decoration-color: #800080\">    0.2876800000667572     </span>│\n",
       "│<span style=\"color: #008080; text-decoration-color: #008080\">      -- test_loss --      </span>│<span style=\"color: #800080; text-decoration-color: #800080\">     2.430905342102051     </span>│\n",
       "│<span style=\"color: #008080; text-decoration-color: #008080\">      test_f1_class_0      </span>│<span style=\"color: #800080; text-decoration-color: #800080\">    0.44129863381385803    </span>│\n",
       "│<span style=\"color: #008080; text-decoration-color: #008080\">      test_f1_class_1      </span>│<span style=\"color: #800080; text-decoration-color: #800080\">    0.18280740082263947    </span>│\n",
       "│<span style=\"color: #008080; text-decoration-color: #008080\">     test_f1_class_10      </span>│<span style=\"color: #800080; text-decoration-color: #800080\">    0.2786431312561035     </span>│\n",
       "│<span style=\"color: #008080; text-decoration-color: #008080\">     test_f1_class_11      </span>│<span style=\"color: #800080; text-decoration-color: #800080\">    0.39744022488594055    </span>│\n",
       "│<span style=\"color: #008080; text-decoration-color: #008080\">     test_f1_class_12      </span>│<span style=\"color: #800080; text-decoration-color: #800080\">    0.27076923847198486    </span>│\n",
       "│<span style=\"color: #008080; text-decoration-color: #008080\">     test_f1_class_13      </span>│<span style=\"color: #800080; text-decoration-color: #800080\">            0.0            </span>│\n",
       "│<span style=\"color: #008080; text-decoration-color: #008080\">     test_f1_class_14      </span>│<span style=\"color: #800080; text-decoration-color: #800080\">    0.03705722093582153    </span>│\n",
       "│<span style=\"color: #008080; text-decoration-color: #008080\">     test_f1_class_15      </span>│<span style=\"color: #800080; text-decoration-color: #800080\">            0.0            </span>│\n",
       "│<span style=\"color: #008080; text-decoration-color: #008080\">     test_f1_class_16      </span>│<span style=\"color: #800080; text-decoration-color: #800080\">   0.0033112582750618458   </span>│\n",
       "│<span style=\"color: #008080; text-decoration-color: #008080\">     test_f1_class_17      </span>│<span style=\"color: #800080; text-decoration-color: #800080\">    0.6395348906517029     </span>│\n",
       "│<span style=\"color: #008080; text-decoration-color: #008080\">     test_f1_class_18      </span>│<span style=\"color: #800080; text-decoration-color: #800080\">            0.0            </span>│\n",
       "│<span style=\"color: #008080; text-decoration-color: #008080\">     test_f1_class_19      </span>│<span style=\"color: #800080; text-decoration-color: #800080\">            0.0            </span>│\n",
       "│<span style=\"color: #008080; text-decoration-color: #008080\">      test_f1_class_2      </span>│<span style=\"color: #800080; text-decoration-color: #800080\">     0.337182879447937     </span>│\n",
       "│<span style=\"color: #008080; text-decoration-color: #008080\">      test_f1_class_3      </span>│<span style=\"color: #800080; text-decoration-color: #800080\">            0.0            </span>│\n",
       "│<span style=\"color: #008080; text-decoration-color: #008080\">      test_f1_class_4      </span>│<span style=\"color: #800080; text-decoration-color: #800080\">    0.34304410219192505    </span>│\n",
       "│<span style=\"color: #008080; text-decoration-color: #008080\">      test_f1_class_5      </span>│<span style=\"color: #800080; text-decoration-color: #800080\">   0.015546917915344238    </span>│\n",
       "│<span style=\"color: #008080; text-decoration-color: #008080\">      test_f1_class_6      </span>│<span style=\"color: #800080; text-decoration-color: #800080\">    0.09484192728996277    </span>│\n",
       "│<span style=\"color: #008080; text-decoration-color: #008080\">      test_f1_class_7      </span>│<span style=\"color: #800080; text-decoration-color: #800080\">    0.20323102176189423    </span>│\n",
       "│<span style=\"color: #008080; text-decoration-color: #008080\">      test_f1_class_8      </span>│<span style=\"color: #800080; text-decoration-color: #800080\">            0.0            </span>│\n",
       "│<span style=\"color: #008080; text-decoration-color: #008080\">      test_f1_class_9      </span>│<span style=\"color: #800080; text-decoration-color: #800080\">            0.0            </span>│\n",
       "└───────────────────────────┴───────────────────────────┘\n",
       "</pre>\n"
      ],
      "text/plain": [
       "┏━━━━━━━━━━━━━━━━━━━━━━━━━━━┳━━━━━━━━━━━━━━━━━━━━━━━━━━━┓\n",
       "┃\u001b[1m \u001b[0m\u001b[1m       Test metric       \u001b[0m\u001b[1m \u001b[0m┃\u001b[1m \u001b[0m\u001b[1m      DataLoader 0       \u001b[0m\u001b[1m \u001b[0m┃\n",
       "┡━━━━━━━━━━━━━━━━━━━━━━━━━━━╇━━━━━━━━━━━━━━━━━━━━━━━━━━━┩\n",
       "│\u001b[36m \u001b[0m\u001b[36m     -- test_acc --      \u001b[0m\u001b[36m \u001b[0m│\u001b[35m \u001b[0m\u001b[35m   0.2876800000667572    \u001b[0m\u001b[35m \u001b[0m│\n",
       "│\u001b[36m \u001b[0m\u001b[36m      -- test_f1 --      \u001b[0m\u001b[36m \u001b[0m│\u001b[35m \u001b[0m\u001b[35m   0.2876800000667572    \u001b[0m\u001b[35m \u001b[0m│\n",
       "│\u001b[36m \u001b[0m\u001b[36m     -- test_loss --     \u001b[0m\u001b[36m \u001b[0m│\u001b[35m \u001b[0m\u001b[35m    2.430905342102051    \u001b[0m\u001b[35m \u001b[0m│\n",
       "│\u001b[36m \u001b[0m\u001b[36m     test_f1_class_0     \u001b[0m\u001b[36m \u001b[0m│\u001b[35m \u001b[0m\u001b[35m   0.44129863381385803   \u001b[0m\u001b[35m \u001b[0m│\n",
       "│\u001b[36m \u001b[0m\u001b[36m     test_f1_class_1     \u001b[0m\u001b[36m \u001b[0m│\u001b[35m \u001b[0m\u001b[35m   0.18280740082263947   \u001b[0m\u001b[35m \u001b[0m│\n",
       "│\u001b[36m \u001b[0m\u001b[36m    test_f1_class_10     \u001b[0m\u001b[36m \u001b[0m│\u001b[35m \u001b[0m\u001b[35m   0.2786431312561035    \u001b[0m\u001b[35m \u001b[0m│\n",
       "│\u001b[36m \u001b[0m\u001b[36m    test_f1_class_11     \u001b[0m\u001b[36m \u001b[0m│\u001b[35m \u001b[0m\u001b[35m   0.39744022488594055   \u001b[0m\u001b[35m \u001b[0m│\n",
       "│\u001b[36m \u001b[0m\u001b[36m    test_f1_class_12     \u001b[0m\u001b[36m \u001b[0m│\u001b[35m \u001b[0m\u001b[35m   0.27076923847198486   \u001b[0m\u001b[35m \u001b[0m│\n",
       "│\u001b[36m \u001b[0m\u001b[36m    test_f1_class_13     \u001b[0m\u001b[36m \u001b[0m│\u001b[35m \u001b[0m\u001b[35m           0.0           \u001b[0m\u001b[35m \u001b[0m│\n",
       "│\u001b[36m \u001b[0m\u001b[36m    test_f1_class_14     \u001b[0m\u001b[36m \u001b[0m│\u001b[35m \u001b[0m\u001b[35m   0.03705722093582153   \u001b[0m\u001b[35m \u001b[0m│\n",
       "│\u001b[36m \u001b[0m\u001b[36m    test_f1_class_15     \u001b[0m\u001b[36m \u001b[0m│\u001b[35m \u001b[0m\u001b[35m           0.0           \u001b[0m\u001b[35m \u001b[0m│\n",
       "│\u001b[36m \u001b[0m\u001b[36m    test_f1_class_16     \u001b[0m\u001b[36m \u001b[0m│\u001b[35m \u001b[0m\u001b[35m  0.0033112582750618458  \u001b[0m\u001b[35m \u001b[0m│\n",
       "│\u001b[36m \u001b[0m\u001b[36m    test_f1_class_17     \u001b[0m\u001b[36m \u001b[0m│\u001b[35m \u001b[0m\u001b[35m   0.6395348906517029    \u001b[0m\u001b[35m \u001b[0m│\n",
       "│\u001b[36m \u001b[0m\u001b[36m    test_f1_class_18     \u001b[0m\u001b[36m \u001b[0m│\u001b[35m \u001b[0m\u001b[35m           0.0           \u001b[0m\u001b[35m \u001b[0m│\n",
       "│\u001b[36m \u001b[0m\u001b[36m    test_f1_class_19     \u001b[0m\u001b[36m \u001b[0m│\u001b[35m \u001b[0m\u001b[35m           0.0           \u001b[0m\u001b[35m \u001b[0m│\n",
       "│\u001b[36m \u001b[0m\u001b[36m     test_f1_class_2     \u001b[0m\u001b[36m \u001b[0m│\u001b[35m \u001b[0m\u001b[35m    0.337182879447937    \u001b[0m\u001b[35m \u001b[0m│\n",
       "│\u001b[36m \u001b[0m\u001b[36m     test_f1_class_3     \u001b[0m\u001b[36m \u001b[0m│\u001b[35m \u001b[0m\u001b[35m           0.0           \u001b[0m\u001b[35m \u001b[0m│\n",
       "│\u001b[36m \u001b[0m\u001b[36m     test_f1_class_4     \u001b[0m\u001b[36m \u001b[0m│\u001b[35m \u001b[0m\u001b[35m   0.34304410219192505   \u001b[0m\u001b[35m \u001b[0m│\n",
       "│\u001b[36m \u001b[0m\u001b[36m     test_f1_class_5     \u001b[0m\u001b[36m \u001b[0m│\u001b[35m \u001b[0m\u001b[35m  0.015546917915344238   \u001b[0m\u001b[35m \u001b[0m│\n",
       "│\u001b[36m \u001b[0m\u001b[36m     test_f1_class_6     \u001b[0m\u001b[36m \u001b[0m│\u001b[35m \u001b[0m\u001b[35m   0.09484192728996277   \u001b[0m\u001b[35m \u001b[0m│\n",
       "│\u001b[36m \u001b[0m\u001b[36m     test_f1_class_7     \u001b[0m\u001b[36m \u001b[0m│\u001b[35m \u001b[0m\u001b[35m   0.20323102176189423   \u001b[0m\u001b[35m \u001b[0m│\n",
       "│\u001b[36m \u001b[0m\u001b[36m     test_f1_class_8     \u001b[0m\u001b[36m \u001b[0m│\u001b[35m \u001b[0m\u001b[35m           0.0           \u001b[0m\u001b[35m \u001b[0m│\n",
       "│\u001b[36m \u001b[0m\u001b[36m     test_f1_class_9     \u001b[0m\u001b[36m \u001b[0m│\u001b[35m \u001b[0m\u001b[35m           0.0           \u001b[0m\u001b[35m \u001b[0m│\n",
       "└───────────────────────────┴───────────────────────────┘\n"
      ]
     },
     "metadata": {},
     "output_type": "display_data"
    }
   ],
   "source": [
    "tuples = [(None,None)]\n",
    "model, _ = train_model(num_labels=20,\n",
    "                hidden_dim=16,\n",
    "                max_leng=34,\n",
    "                attn_ffn_tuples=tuples,\n",
    "                ffn_dim=32,\n",
    "                batch_size=64,\n",
    "                       lr = 1e-3,\n",
    "                num_repeat_modules=1,\n",
    "                train_data=train_dataset,\n",
    "                val_data=val_dataset,\n",
    "                test_data=test_dataset,\n",
    "                max_epochs=3)"
   ]
  },
  {
   "cell_type": "code",
   "execution_count": 36,
   "metadata": {
    "colab": {
     "base_uri": "https://localhost:8080/",
     "height": 986,
     "referenced_widgets": [
      "46393e5c9b3748ebb59ae9eae3fc35fc",
      "ebc2fb523d20402a9ce6248c100c6381",
      "f394f175051044dca3cd9c8217ee2699",
      "e981c480721640a39927e7fabd690ee3",
      "584c17662fba48f187c1108210e35e23",
      "6fbc6db931ff435bbe88003936d224f6",
      "c16980a770dc432e948d1ed7dcfb0841",
      "767ff0c9514a47c4bca76f7127a4f6a5",
      "a01888e7e5ce4f6e90fcce096a63e5f8",
      "509928caa40b4e2ea6fd7649c8636089",
      "c55827e38b7847dbabe7df0fd1de1254",
      "592f2c06d40343f0b8cba12ba5d55fd5",
      "99fb1d84e3994abbb27f75e74181aecb",
      "4bfda4fadf314123be6965f0fa39911a",
      "91f5a5ee8e94401e9a097540e8103a65",
      "b2c54464bc474d398a0d25cf66340f08",
      "025e758bdc8343f3aea93e5aa289fd4f",
      "0c70cb23c6c04e76afaecd975ea724b3",
      "fa832ef294d9493bbe05ab8e03e622c0",
      "fe8e603f07734541b7b0eb12b0dd6059",
      "8acfc4affa474d9dbeedf7ef0b22c94e",
      "d807cc16b78546eabd231d35b9f49931",
      "37f5e345ca3b4a39a9a38d4ea7d76b1e",
      "d7e8aee7f0f74656beb57fe58280909b",
      "ccbec68e3fd04780a3a2c3adc688fcfd",
      "61d53932f0374907bc2803036f813e65",
      "483201cf874146458f801acc9f642092",
      "c3ed0383ef19419ca2fcd83fb1578f47",
      "a118ebd27875444a8f6693aa47a70246",
      "ee1365a813a1497ebe777a04a66b2623",
      "591dcee4cef04a0ab89598218f74f052",
      "d10b622ae7e74aaca12711b279243040",
      "7fbaf837d3bf4e109b4b43155a475f56",
      "2c672b5742c54eb3859a879608374637",
      "085dda79a75e48a7818c8b398c733cd1",
      "eee319a9b7dd40f9a13a540c423a813f",
      "d70abc52bb114afca75637bb6452715d",
      "46f7d2e800654d999554bf2aef4c7316",
      "0c7455e2ff2b4511a59bf11bd66bbddd",
      "1d05720be97745f2bcb9fb472a8116eb",
      "c1ccf269a084442e9ddcb2c42200946a",
      "673f7dcc67054af5b5ae5698ebc6e641",
      "e85c66bd47e14906845d9c487c1d908b",
      "1256f81cecfb484f865d2f0fe429d1ae",
      "4b591b44ea7f4affaa6fdc9fea4443ce",
      "9312fe36d2034d5e9bd2f820af4bf859",
      "811641d0c67140648242956b8394c7b5",
      "586e9ee741264fec857af4a9c8c0b69a",
      "d20d3c915c294dbca9606fbf245d8a75",
      "1914ece97072424883976ccfaffeff85",
      "1c39b5c0e2f448618b390341f6f1c218",
      "7aea2c5b2fb34d178958441d26c922a8",
      "14f7d71bce8b4c2fb310a7c27f0a4f83",
      "62428554ea014b349cf68ceea4a52216",
      "0b986ededf3c41d2b0066eb172eab1ae",
      "60b91ba7465548c0b15f77ad55f8dafa",
      "2eed84d2aa2742029ac4e241e1d52c53",
      "84ecdd036f5240f39c7c7612dfb82ce8",
      "25c79abe6b194ff6a3f0e75e1cd9e2fa",
      "9c72dc95ecc043f7a3b84f65bf61fc61",
      "6810c9b311914ba8be8c65b00b428001",
      "e30edb488f6e42469d3096e702c03e1a",
      "e647b9833b5443cda09f5034db5c3ccf",
      "2f087e2ba33745f3b2b5a17fc4d06d7c",
      "d858fe0ac8ca48c48e12e986244783ed",
      "33e3c9a95706475984ee56fdb629bcf6"
     ]
    },
    "collapsed": true,
    "id": "l27h96PaJ1u2",
    "jupyter": {
     "outputs_hidden": true
    },
    "outputId": "ef58de88-ee13-46c4-b54b-29287e5a7e2e"
   },
   "outputs": [
    {
     "name": "stderr",
     "output_type": "stream",
     "text": [
      "INFO:pytorch_lightning.utilities.rank_zero:💡 Tip: For seamless cloud uploads and versioning, try installing [litmodels](https://pypi.org/project/litmodels/) to enable LitModelCheckpoint, which syncs automatically with the Lightning model registry.\n",
      "INFO:pytorch_lightning.utilities.rank_zero:GPU available: False, used: False\n",
      "INFO:pytorch_lightning.utilities.rank_zero:TPU available: False, using: 0 TPU cores\n",
      "INFO:pytorch_lightning.utilities.rank_zero:HPU available: False, using: 0 HPUs\n",
      "/usr/local/lib/python3.12/dist-packages/pytorch_lightning/callbacks/model_checkpoint.py:751: Checkpoint directory /content/checkpoints exists and is not empty.\n",
      "INFO:pytorch_lightning.callbacks.model_summary:\n",
      "  | Name              | Type               | Params | Mode \n",
      "-----------------------------------------------------------------\n",
      "0 | model             | Model              | 493 K  | train\n",
      "1 | loss_fn           | CrossEntropyLoss   | 0      | train\n",
      "2 | train_accuracy    | MulticlassAccuracy | 0      | train\n",
      "3 | val_accuracy      | MulticlassAccuracy | 0      | train\n",
      "4 | train_f1          | MulticlassF1Score  | 0      | train\n",
      "5 | val_f1            | MulticlassF1Score  | 0      | train\n",
      "6 | test_accuracy     | MulticlassAccuracy | 0      | train\n",
      "7 | test_f1           | MulticlassF1Score  | 0      | train\n",
      "8 | test_f1_per_class | MulticlassF1Score  | 0      | train\n",
      "-----------------------------------------------------------------\n",
      "493 K     Trainable params\n",
      "0         Non-trainable params\n",
      "493 K     Total params\n",
      "1.975     Total estimated model params size (MB)\n",
      "50        Modules in train mode\n",
      "0         Modules in eval mode\n"
     ]
    },
    {
     "data": {
      "application/vnd.jupyter.widget-view+json": {
       "model_id": "46393e5c9b3748ebb59ae9eae3fc35fc",
       "version_major": 2,
       "version_minor": 0
      },
      "text/plain": [
       "Sanity Checking: |          | 0/? [00:00<?, ?it/s]"
      ]
     },
     "metadata": {},
     "output_type": "display_data"
    },
    {
     "data": {
      "application/vnd.jupyter.widget-view+json": {
       "model_id": "592f2c06d40343f0b8cba12ba5d55fd5",
       "version_major": 2,
       "version_minor": 0
      },
      "text/plain": [
       "Training: |          | 0/? [00:00<?, ?it/s]"
      ]
     },
     "metadata": {},
     "output_type": "display_data"
    },
    {
     "data": {
      "application/vnd.jupyter.widget-view+json": {
       "model_id": "37f5e345ca3b4a39a9a38d4ea7d76b1e",
       "version_major": 2,
       "version_minor": 0
      },
      "text/plain": [
       "Validation: |          | 0/? [00:00<?, ?it/s]"
      ]
     },
     "metadata": {},
     "output_type": "display_data"
    },
    {
     "data": {
      "application/vnd.jupyter.widget-view+json": {
       "model_id": "2c672b5742c54eb3859a879608374637",
       "version_major": 2,
       "version_minor": 0
      },
      "text/plain": [
       "Validation: |          | 0/? [00:00<?, ?it/s]"
      ]
     },
     "metadata": {},
     "output_type": "display_data"
    },
    {
     "data": {
      "application/vnd.jupyter.widget-view+json": {
       "model_id": "4b591b44ea7f4affaa6fdc9fea4443ce",
       "version_major": 2,
       "version_minor": 0
      },
      "text/plain": [
       "Validation: |          | 0/? [00:00<?, ?it/s]"
      ]
     },
     "metadata": {},
     "output_type": "display_data"
    },
    {
     "name": "stderr",
     "output_type": "stream",
     "text": [
      "INFO:pytorch_lightning.utilities.rank_zero:`Trainer.fit` stopped: `max_epochs=3` reached.\n"
     ]
    },
    {
     "data": {
      "application/vnd.jupyter.widget-view+json": {
       "model_id": "60b91ba7465548c0b15f77ad55f8dafa",
       "version_major": 2,
       "version_minor": 0
      },
      "text/plain": [
       "Testing: |          | 0/? [00:00<?, ?it/s]"
      ]
     },
     "metadata": {},
     "output_type": "display_data"
    },
    {
     "data": {
      "text/html": [
       "<pre style=\"white-space:pre;overflow-x:auto;line-height:normal;font-family:Menlo,'DejaVu Sans Mono',consolas,'Courier New',monospace\">┏━━━━━━━━━━━━━━━━━━━━━━━━━━━┳━━━━━━━━━━━━━━━━━━━━━━━━━━━┓\n",
       "┃<span style=\"font-weight: bold\">        Test metric        </span>┃<span style=\"font-weight: bold\">       DataLoader 0        </span>┃\n",
       "┡━━━━━━━━━━━━━━━━━━━━━━━━━━━╇━━━━━━━━━━━━━━━━━━━━━━━━━━━┩\n",
       "│<span style=\"color: #008080; text-decoration-color: #008080\">      -- test_acc --       </span>│<span style=\"color: #800080; text-decoration-color: #800080\">    0.29965999722480774    </span>│\n",
       "│<span style=\"color: #008080; text-decoration-color: #008080\">       -- test_f1 --       </span>│<span style=\"color: #800080; text-decoration-color: #800080\">    0.29965999722480774    </span>│\n",
       "│<span style=\"color: #008080; text-decoration-color: #008080\">      -- test_loss --      </span>│<span style=\"color: #800080; text-decoration-color: #800080\">    2.4105782508850098     </span>│\n",
       "│<span style=\"color: #008080; text-decoration-color: #008080\">      test_f1_class_0      </span>│<span style=\"color: #800080; text-decoration-color: #800080\">    0.4425640106201172     </span>│\n",
       "│<span style=\"color: #008080; text-decoration-color: #008080\">      test_f1_class_1      </span>│<span style=\"color: #800080; text-decoration-color: #800080\">    0.16884130239486694    </span>│\n",
       "│<span style=\"color: #008080; text-decoration-color: #008080\">     test_f1_class_10      </span>│<span style=\"color: #800080; text-decoration-color: #800080\">    0.2984054684638977     </span>│\n",
       "│<span style=\"color: #008080; text-decoration-color: #008080\">     test_f1_class_11      </span>│<span style=\"color: #800080; text-decoration-color: #800080\">    0.4500158727169037     </span>│\n",
       "│<span style=\"color: #008080; text-decoration-color: #008080\">     test_f1_class_12      </span>│<span style=\"color: #800080; text-decoration-color: #800080\">    0.2661684453487396     </span>│\n",
       "│<span style=\"color: #008080; text-decoration-color: #008080\">     test_f1_class_13      </span>│<span style=\"color: #800080; text-decoration-color: #800080\">            0.0            </span>│\n",
       "│<span style=\"color: #008080; text-decoration-color: #008080\">     test_f1_class_14      </span>│<span style=\"color: #800080; text-decoration-color: #800080\">   0.022900763899087906    </span>│\n",
       "│<span style=\"color: #008080; text-decoration-color: #008080\">     test_f1_class_15      </span>│<span style=\"color: #800080; text-decoration-color: #800080\">   0.0016064257360994816   </span>│\n",
       "│<span style=\"color: #008080; text-decoration-color: #008080\">     test_f1_class_16      </span>│<span style=\"color: #800080; text-decoration-color: #800080\">            0.0            </span>│\n",
       "│<span style=\"color: #008080; text-decoration-color: #008080\">     test_f1_class_17      </span>│<span style=\"color: #800080; text-decoration-color: #800080\">    0.6465408802032471     </span>│\n",
       "│<span style=\"color: #008080; text-decoration-color: #008080\">     test_f1_class_18      </span>│<span style=\"color: #800080; text-decoration-color: #800080\">   0.0008267879020422697   </span>│\n",
       "│<span style=\"color: #008080; text-decoration-color: #008080\">     test_f1_class_19      </span>│<span style=\"color: #800080; text-decoration-color: #800080\">            0.0            </span>│\n",
       "│<span style=\"color: #008080; text-decoration-color: #008080\">      test_f1_class_2      </span>│<span style=\"color: #800080; text-decoration-color: #800080\">    0.3514048159122467     </span>│\n",
       "│<span style=\"color: #008080; text-decoration-color: #008080\">      test_f1_class_3      </span>│<span style=\"color: #800080; text-decoration-color: #800080\">   0.010335917584598064    </span>│\n",
       "│<span style=\"color: #008080; text-decoration-color: #008080\">      test_f1_class_4      </span>│<span style=\"color: #800080; text-decoration-color: #800080\">    0.4067436158657074     </span>│\n",
       "│<span style=\"color: #008080; text-decoration-color: #008080\">      test_f1_class_5      </span>│<span style=\"color: #800080; text-decoration-color: #800080\">    0.02875695750117302    </span>│\n",
       "│<span style=\"color: #008080; text-decoration-color: #008080\">      test_f1_class_6      </span>│<span style=\"color: #800080; text-decoration-color: #800080\">    0.11175423115491867    </span>│\n",
       "│<span style=\"color: #008080; text-decoration-color: #008080\">      test_f1_class_7      </span>│<span style=\"color: #800080; text-decoration-color: #800080\">    0.17415371537208557    </span>│\n",
       "│<span style=\"color: #008080; text-decoration-color: #008080\">      test_f1_class_8      </span>│<span style=\"color: #800080; text-decoration-color: #800080\">            0.0            </span>│\n",
       "│<span style=\"color: #008080; text-decoration-color: #008080\">      test_f1_class_9      </span>│<span style=\"color: #800080; text-decoration-color: #800080\">            0.0            </span>│\n",
       "└───────────────────────────┴───────────────────────────┘\n",
       "</pre>\n"
      ],
      "text/plain": [
       "┏━━━━━━━━━━━━━━━━━━━━━━━━━━━┳━━━━━━━━━━━━━━━━━━━━━━━━━━━┓\n",
       "┃\u001b[1m \u001b[0m\u001b[1m       Test metric       \u001b[0m\u001b[1m \u001b[0m┃\u001b[1m \u001b[0m\u001b[1m      DataLoader 0       \u001b[0m\u001b[1m \u001b[0m┃\n",
       "┡━━━━━━━━━━━━━━━━━━━━━━━━━━━╇━━━━━━━━━━━━━━━━━━━━━━━━━━━┩\n",
       "│\u001b[36m \u001b[0m\u001b[36m     -- test_acc --      \u001b[0m\u001b[36m \u001b[0m│\u001b[35m \u001b[0m\u001b[35m   0.29965999722480774   \u001b[0m\u001b[35m \u001b[0m│\n",
       "│\u001b[36m \u001b[0m\u001b[36m      -- test_f1 --      \u001b[0m\u001b[36m \u001b[0m│\u001b[35m \u001b[0m\u001b[35m   0.29965999722480774   \u001b[0m\u001b[35m \u001b[0m│\n",
       "│\u001b[36m \u001b[0m\u001b[36m     -- test_loss --     \u001b[0m\u001b[36m \u001b[0m│\u001b[35m \u001b[0m\u001b[35m   2.4105782508850098    \u001b[0m\u001b[35m \u001b[0m│\n",
       "│\u001b[36m \u001b[0m\u001b[36m     test_f1_class_0     \u001b[0m\u001b[36m \u001b[0m│\u001b[35m \u001b[0m\u001b[35m   0.4425640106201172    \u001b[0m\u001b[35m \u001b[0m│\n",
       "│\u001b[36m \u001b[0m\u001b[36m     test_f1_class_1     \u001b[0m\u001b[36m \u001b[0m│\u001b[35m \u001b[0m\u001b[35m   0.16884130239486694   \u001b[0m\u001b[35m \u001b[0m│\n",
       "│\u001b[36m \u001b[0m\u001b[36m    test_f1_class_10     \u001b[0m\u001b[36m \u001b[0m│\u001b[35m \u001b[0m\u001b[35m   0.2984054684638977    \u001b[0m\u001b[35m \u001b[0m│\n",
       "│\u001b[36m \u001b[0m\u001b[36m    test_f1_class_11     \u001b[0m\u001b[36m \u001b[0m│\u001b[35m \u001b[0m\u001b[35m   0.4500158727169037    \u001b[0m\u001b[35m \u001b[0m│\n",
       "│\u001b[36m \u001b[0m\u001b[36m    test_f1_class_12     \u001b[0m\u001b[36m \u001b[0m│\u001b[35m \u001b[0m\u001b[35m   0.2661684453487396    \u001b[0m\u001b[35m \u001b[0m│\n",
       "│\u001b[36m \u001b[0m\u001b[36m    test_f1_class_13     \u001b[0m\u001b[36m \u001b[0m│\u001b[35m \u001b[0m\u001b[35m           0.0           \u001b[0m\u001b[35m \u001b[0m│\n",
       "│\u001b[36m \u001b[0m\u001b[36m    test_f1_class_14     \u001b[0m\u001b[36m \u001b[0m│\u001b[35m \u001b[0m\u001b[35m  0.022900763899087906   \u001b[0m\u001b[35m \u001b[0m│\n",
       "│\u001b[36m \u001b[0m\u001b[36m    test_f1_class_15     \u001b[0m\u001b[36m \u001b[0m│\u001b[35m \u001b[0m\u001b[35m  0.0016064257360994816  \u001b[0m\u001b[35m \u001b[0m│\n",
       "│\u001b[36m \u001b[0m\u001b[36m    test_f1_class_16     \u001b[0m\u001b[36m \u001b[0m│\u001b[35m \u001b[0m\u001b[35m           0.0           \u001b[0m\u001b[35m \u001b[0m│\n",
       "│\u001b[36m \u001b[0m\u001b[36m    test_f1_class_17     \u001b[0m\u001b[36m \u001b[0m│\u001b[35m \u001b[0m\u001b[35m   0.6465408802032471    \u001b[0m\u001b[35m \u001b[0m│\n",
       "│\u001b[36m \u001b[0m\u001b[36m    test_f1_class_18     \u001b[0m\u001b[36m \u001b[0m│\u001b[35m \u001b[0m\u001b[35m  0.0008267879020422697  \u001b[0m\u001b[35m \u001b[0m│\n",
       "│\u001b[36m \u001b[0m\u001b[36m    test_f1_class_19     \u001b[0m\u001b[36m \u001b[0m│\u001b[35m \u001b[0m\u001b[35m           0.0           \u001b[0m\u001b[35m \u001b[0m│\n",
       "│\u001b[36m \u001b[0m\u001b[36m     test_f1_class_2     \u001b[0m\u001b[36m \u001b[0m│\u001b[35m \u001b[0m\u001b[35m   0.3514048159122467    \u001b[0m\u001b[35m \u001b[0m│\n",
       "│\u001b[36m \u001b[0m\u001b[36m     test_f1_class_3     \u001b[0m\u001b[36m \u001b[0m│\u001b[35m \u001b[0m\u001b[35m  0.010335917584598064   \u001b[0m\u001b[35m \u001b[0m│\n",
       "│\u001b[36m \u001b[0m\u001b[36m     test_f1_class_4     \u001b[0m\u001b[36m \u001b[0m│\u001b[35m \u001b[0m\u001b[35m   0.4067436158657074    \u001b[0m\u001b[35m \u001b[0m│\n",
       "│\u001b[36m \u001b[0m\u001b[36m     test_f1_class_5     \u001b[0m\u001b[36m \u001b[0m│\u001b[35m \u001b[0m\u001b[35m   0.02875695750117302   \u001b[0m\u001b[35m \u001b[0m│\n",
       "│\u001b[36m \u001b[0m\u001b[36m     test_f1_class_6     \u001b[0m\u001b[36m \u001b[0m│\u001b[35m \u001b[0m\u001b[35m   0.11175423115491867   \u001b[0m\u001b[35m \u001b[0m│\n",
       "│\u001b[36m \u001b[0m\u001b[36m     test_f1_class_7     \u001b[0m\u001b[36m \u001b[0m│\u001b[35m \u001b[0m\u001b[35m   0.17415371537208557   \u001b[0m\u001b[35m \u001b[0m│\n",
       "│\u001b[36m \u001b[0m\u001b[36m     test_f1_class_8     \u001b[0m\u001b[36m \u001b[0m│\u001b[35m \u001b[0m\u001b[35m           0.0           \u001b[0m\u001b[35m \u001b[0m│\n",
       "│\u001b[36m \u001b[0m\u001b[36m     test_f1_class_9     \u001b[0m\u001b[36m \u001b[0m│\u001b[35m \u001b[0m\u001b[35m           0.0           \u001b[0m\u001b[35m \u001b[0m│\n",
       "└───────────────────────────┴───────────────────────────┘\n"
      ]
     },
     "metadata": {},
     "output_type": "display_data"
    }
   ],
   "source": [
    "tuples = [(gru_Attention_2,None)]\n",
    "model, _ = train_model(num_labels=20,\n",
    "                hidden_dim=16,\n",
    "                max_leng=34,\n",
    "                attn_ffn_tuples=tuples,\n",
    "                ffn_dim=32,\n",
    "                batch_size=64,\n",
    "                       lr = 1e-3,\n",
    "                num_repeat_modules=1,\n",
    "                train_data=train_dataset,\n",
    "                val_data=val_dataset,\n",
    "                test_data=test_dataset,\n",
    "                max_epochs=3)"
   ]
  },
  {
   "cell_type": "code",
   "execution_count": 37,
   "metadata": {
    "colab": {
     "base_uri": "https://localhost:8080/",
     "height": 969,
     "referenced_widgets": [
      "dcbce0ee26e643a5aad71cff60064f2e",
      "9a15f117fcec41d5b400ee7d8d174e59",
      "4c7b54658c8f42a1a6fed31920623a5d",
      "89d75a5bfe174132993f5efc52d182c5",
      "9992bd01626b42b78da3a8ce8bb177c3",
      "f8bef70195874b6cb8cbe241b56dde76",
      "786155ac70d443e28555148964bb5c86",
      "be416203be53467da279cb7ada9c7af3",
      "ade692e3424644d191c3d4fd148d9218",
      "4179dbb6d03f47ba8b02e6f0fb493a0a",
      "b573572a0039465e9b9a901bc1372993",
      "2eea05aab66c4376b203b857352bc5a7",
      "f155e18436aa4a779942d4b968b057e4",
      "739eac26455141a0a25614160f41b5f7",
      "518785ca77214e398100e610d7420a99",
      "16b0b7608fcb4eb08fc27665272a2833",
      "b8bb6d844c7a4a52a80f86283f683daa",
      "ef034660bf3741768a28d11d9fcbd588",
      "360599744602488a8816d5eb71c602b1",
      "d8fe60dc390d48eab0df2fe396973a40",
      "66c5d5bde88e4e9299fa964f3db510dc",
      "dba08747e271445495d91ea37b98f07d",
      "91e5d93dfc1644b6b11856d809d62426",
      "3fe8cebcfa69445a8fab42878c74c803",
      "c40da4744b344e4695867a94becf83c4",
      "08fc73fca8de48cd9360b4a3e2527541",
      "553ba8d24eb24112a6ae641105316675",
      "4fad5d497bb74910bf26d26aad1f84e5",
      "cde927afd3c84ba9992863050c1d7285",
      "3e19943328f0417d887fbd14c43ee7da",
      "060c395d47654e36ac94abb3f0595911",
      "45e74c2170f540d6bdf383831bd95e34",
      "4d492959b09342389423d6850fca817a",
      "95033399e4cf451aaac68b37d7d41c82",
      "4c7edb595cf14be39c4592be3bdba487",
      "cc07d1c7ab914521af7cdb5199edaffe",
      "6a292e80b6994856b699b83955a490ea",
      "36f232ca2a2442ba8034b3af9c4e5a09",
      "272a1c3e57554585ab4b78993b04fe01",
      "8c8748c268ca4a8ea48a85d929e339e1",
      "6e483be0f61c4a6c80e0c2c8e0352e15",
      "3ba3b038218a47658643e6a54f2f426e",
      "3685a0b6220a411297419d504305751e",
      "c725c04fdb2c4db9ba84892680dee130",
      "fbd8571ec45e48fbbe1c0d2d593df1ff",
      "3aaacc3c5a104e36836ccd300dfae341",
      "a54a182987084516814aeb6c9e1d603d",
      "af9ea2b6d2b042398daa1d329cb093ea",
      "3681b4f1ae734dba947402560adc0681",
      "a0905cb4e8b54509b384076095e512e5",
      "d9cd1e7f98994586be8566227d364d28",
      "ec1da3d2ffa64e129811ed960fb0c3a8",
      "5617353f400449b7bf04b304d79319a5",
      "dce48616c66444949c7061d0060e250d",
      "1399043918f042e0b86174389507be6a",
      "e6384ff646334bb2b9eca7599e4141b8",
      "09b4754c687f437b83ef47e20d370d02",
      "3a12fcc9bfbc49f799ce7dae8c9b76af",
      "8cc7dcddc609428fa232d8a4c38977c2",
      "0534cc839dbf4a9a8f3d5f521a3268bd",
      "35ef51d3a27045589884964ae72f546d",
      "7d5ded830e654752bd6043919d158441",
      "82ae1163b38d4fc49f10693f745df8a1",
      "08a9bec6e4e34f3bba4f5d0b04f4e98d",
      "a5c24fadf0b9443a9d7a8e119e47a513",
      "d6f508aebb5c4293bd77544680362730"
     ]
    },
    "collapsed": true,
    "id": "IYZIaSfeLhe9",
    "jupyter": {
     "outputs_hidden": true
    },
    "outputId": "61ed073c-dc1c-490b-d841-66bd5ec88c6a"
   },
   "outputs": [
    {
     "name": "stderr",
     "output_type": "stream",
     "text": [
      "INFO:pytorch_lightning.utilities.rank_zero:💡 Tip: For seamless cloud uploads and versioning, try installing [litmodels](https://pypi.org/project/litmodels/) to enable LitModelCheckpoint, which syncs automatically with the Lightning model registry.\n",
      "INFO:pytorch_lightning.utilities.rank_zero:GPU available: False, used: False\n",
      "INFO:pytorch_lightning.utilities.rank_zero:TPU available: False, using: 0 TPU cores\n",
      "INFO:pytorch_lightning.utilities.rank_zero:HPU available: False, using: 0 HPUs\n",
      "INFO:pytorch_lightning.callbacks.model_summary:\n",
      "  | Name              | Type               | Params | Mode \n",
      "-----------------------------------------------------------------\n",
      "0 | model             | Model              | 493 K  | train\n",
      "1 | loss_fn           | CrossEntropyLoss   | 0      | train\n",
      "2 | train_accuracy    | MulticlassAccuracy | 0      | train\n",
      "3 | val_accuracy      | MulticlassAccuracy | 0      | train\n",
      "4 | train_f1          | MulticlassF1Score  | 0      | train\n",
      "5 | val_f1            | MulticlassF1Score  | 0      | train\n",
      "6 | test_accuracy     | MulticlassAccuracy | 0      | train\n",
      "7 | test_f1           | MulticlassF1Score  | 0      | train\n",
      "8 | test_f1_per_class | MulticlassF1Score  | 0      | train\n",
      "-----------------------------------------------------------------\n",
      "493 K     Trainable params\n",
      "0         Non-trainable params\n",
      "493 K     Total params\n",
      "1.975     Total estimated model params size (MB)\n",
      "50        Modules in train mode\n",
      "0         Modules in eval mode\n"
     ]
    },
    {
     "data": {
      "application/vnd.jupyter.widget-view+json": {
       "model_id": "dcbce0ee26e643a5aad71cff60064f2e",
       "version_major": 2,
       "version_minor": 0
      },
      "text/plain": [
       "Sanity Checking: |          | 0/? [00:00<?, ?it/s]"
      ]
     },
     "metadata": {},
     "output_type": "display_data"
    },
    {
     "data": {
      "application/vnd.jupyter.widget-view+json": {
       "model_id": "2eea05aab66c4376b203b857352bc5a7",
       "version_major": 2,
       "version_minor": 0
      },
      "text/plain": [
       "Training: |          | 0/? [00:00<?, ?it/s]"
      ]
     },
     "metadata": {},
     "output_type": "display_data"
    },
    {
     "data": {
      "application/vnd.jupyter.widget-view+json": {
       "model_id": "91e5d93dfc1644b6b11856d809d62426",
       "version_major": 2,
       "version_minor": 0
      },
      "text/plain": [
       "Validation: |          | 0/? [00:00<?, ?it/s]"
      ]
     },
     "metadata": {},
     "output_type": "display_data"
    },
    {
     "data": {
      "application/vnd.jupyter.widget-view+json": {
       "model_id": "95033399e4cf451aaac68b37d7d41c82",
       "version_major": 2,
       "version_minor": 0
      },
      "text/plain": [
       "Validation: |          | 0/? [00:00<?, ?it/s]"
      ]
     },
     "metadata": {},
     "output_type": "display_data"
    },
    {
     "data": {
      "application/vnd.jupyter.widget-view+json": {
       "model_id": "fbd8571ec45e48fbbe1c0d2d593df1ff",
       "version_major": 2,
       "version_minor": 0
      },
      "text/plain": [
       "Validation: |          | 0/? [00:00<?, ?it/s]"
      ]
     },
     "metadata": {},
     "output_type": "display_data"
    },
    {
     "name": "stderr",
     "output_type": "stream",
     "text": [
      "INFO:pytorch_lightning.utilities.rank_zero:`Trainer.fit` stopped: `max_epochs=3` reached.\n"
     ]
    },
    {
     "data": {
      "application/vnd.jupyter.widget-view+json": {
       "model_id": "e6384ff646334bb2b9eca7599e4141b8",
       "version_major": 2,
       "version_minor": 0
      },
      "text/plain": [
       "Testing: |          | 0/? [00:00<?, ?it/s]"
      ]
     },
     "metadata": {},
     "output_type": "display_data"
    },
    {
     "data": {
      "text/html": [
       "<pre style=\"white-space:pre;overflow-x:auto;line-height:normal;font-family:Menlo,'DejaVu Sans Mono',consolas,'Courier New',monospace\">┏━━━━━━━━━━━━━━━━━━━━━━━━━━━┳━━━━━━━━━━━━━━━━━━━━━━━━━━━┓\n",
       "┃<span style=\"font-weight: bold\">        Test metric        </span>┃<span style=\"font-weight: bold\">       DataLoader 0        </span>┃\n",
       "┡━━━━━━━━━━━━━━━━━━━━━━━━━━━╇━━━━━━━━━━━━━━━━━━━━━━━━━━━┩\n",
       "│<span style=\"color: #008080; text-decoration-color: #008080\">      -- test_acc --       </span>│<span style=\"color: #800080; text-decoration-color: #800080\">     0.260560005903244     </span>│\n",
       "│<span style=\"color: #008080; text-decoration-color: #008080\">       -- test_f1 --       </span>│<span style=\"color: #800080; text-decoration-color: #800080\">     0.260560005903244     </span>│\n",
       "│<span style=\"color: #008080; text-decoration-color: #008080\">      -- test_loss --      </span>│<span style=\"color: #800080; text-decoration-color: #800080\">     2.48884654045105      </span>│\n",
       "│<span style=\"color: #008080; text-decoration-color: #008080\">      test_f1_class_0      </span>│<span style=\"color: #800080; text-decoration-color: #800080\">    0.4237039387226105     </span>│\n",
       "│<span style=\"color: #008080; text-decoration-color: #008080\">      test_f1_class_1      </span>│<span style=\"color: #800080; text-decoration-color: #800080\">    0.11974683403968811    </span>│\n",
       "│<span style=\"color: #008080; text-decoration-color: #008080\">     test_f1_class_10      </span>│<span style=\"color: #800080; text-decoration-color: #800080\">    0.2159709632396698     </span>│\n",
       "│<span style=\"color: #008080; text-decoration-color: #008080\">     test_f1_class_11      </span>│<span style=\"color: #800080; text-decoration-color: #800080\">    0.08400954306125641    </span>│\n",
       "│<span style=\"color: #008080; text-decoration-color: #008080\">     test_f1_class_12      </span>│<span style=\"color: #800080; text-decoration-color: #800080\">    0.06869220733642578    </span>│\n",
       "│<span style=\"color: #008080; text-decoration-color: #008080\">     test_f1_class_13      </span>│<span style=\"color: #800080; text-decoration-color: #800080\">            0.0            </span>│\n",
       "│<span style=\"color: #008080; text-decoration-color: #008080\">     test_f1_class_14      </span>│<span style=\"color: #800080; text-decoration-color: #800080\">   0.0030418250244110823   </span>│\n",
       "│<span style=\"color: #008080; text-decoration-color: #008080\">     test_f1_class_15      </span>│<span style=\"color: #800080; text-decoration-color: #800080\">            0.0            </span>│\n",
       "│<span style=\"color: #008080; text-decoration-color: #008080\">     test_f1_class_16      </span>│<span style=\"color: #800080; text-decoration-color: #800080\">            0.0            </span>│\n",
       "│<span style=\"color: #008080; text-decoration-color: #008080\">     test_f1_class_17      </span>│<span style=\"color: #800080; text-decoration-color: #800080\">    0.3436083495616913     </span>│\n",
       "│<span style=\"color: #008080; text-decoration-color: #008080\">     test_f1_class_18      </span>│<span style=\"color: #800080; text-decoration-color: #800080\">    0.00245800893753767    </span>│\n",
       "│<span style=\"color: #008080; text-decoration-color: #008080\">     test_f1_class_19      </span>│<span style=\"color: #800080; text-decoration-color: #800080\">            0.0            </span>│\n",
       "│<span style=\"color: #008080; text-decoration-color: #008080\">      test_f1_class_2      </span>│<span style=\"color: #800080; text-decoration-color: #800080\">     0.305830717086792     </span>│\n",
       "│<span style=\"color: #008080; text-decoration-color: #008080\">      test_f1_class_3      </span>│<span style=\"color: #800080; text-decoration-color: #800080\">            0.0            </span>│\n",
       "│<span style=\"color: #008080; text-decoration-color: #008080\">      test_f1_class_4      </span>│<span style=\"color: #800080; text-decoration-color: #800080\">    0.23821891844272614    </span>│\n",
       "│<span style=\"color: #008080; text-decoration-color: #008080\">      test_f1_class_5      </span>│<span style=\"color: #800080; text-decoration-color: #800080\">            0.0            </span>│\n",
       "│<span style=\"color: #008080; text-decoration-color: #008080\">      test_f1_class_6      </span>│<span style=\"color: #800080; text-decoration-color: #800080\">   0.015094339847564697    </span>│\n",
       "│<span style=\"color: #008080; text-decoration-color: #008080\">      test_f1_class_7      </span>│<span style=\"color: #800080; text-decoration-color: #800080\">    0.1489277184009552     </span>│\n",
       "│<span style=\"color: #008080; text-decoration-color: #008080\">      test_f1_class_8      </span>│<span style=\"color: #800080; text-decoration-color: #800080\">            0.0            </span>│\n",
       "│<span style=\"color: #008080; text-decoration-color: #008080\">      test_f1_class_9      </span>│<span style=\"color: #800080; text-decoration-color: #800080\">            0.0            </span>│\n",
       "└───────────────────────────┴───────────────────────────┘\n",
       "</pre>\n"
      ],
      "text/plain": [
       "┏━━━━━━━━━━━━━━━━━━━━━━━━━━━┳━━━━━━━━━━━━━━━━━━━━━━━━━━━┓\n",
       "┃\u001b[1m \u001b[0m\u001b[1m       Test metric       \u001b[0m\u001b[1m \u001b[0m┃\u001b[1m \u001b[0m\u001b[1m      DataLoader 0       \u001b[0m\u001b[1m \u001b[0m┃\n",
       "┡━━━━━━━━━━━━━━━━━━━━━━━━━━━╇━━━━━━━━━━━━━━━━━━━━━━━━━━━┩\n",
       "│\u001b[36m \u001b[0m\u001b[36m     -- test_acc --      \u001b[0m\u001b[36m \u001b[0m│\u001b[35m \u001b[0m\u001b[35m    0.260560005903244    \u001b[0m\u001b[35m \u001b[0m│\n",
       "│\u001b[36m \u001b[0m\u001b[36m      -- test_f1 --      \u001b[0m\u001b[36m \u001b[0m│\u001b[35m \u001b[0m\u001b[35m    0.260560005903244    \u001b[0m\u001b[35m \u001b[0m│\n",
       "│\u001b[36m \u001b[0m\u001b[36m     -- test_loss --     \u001b[0m\u001b[36m \u001b[0m│\u001b[35m \u001b[0m\u001b[35m    2.48884654045105     \u001b[0m\u001b[35m \u001b[0m│\n",
       "│\u001b[36m \u001b[0m\u001b[36m     test_f1_class_0     \u001b[0m\u001b[36m \u001b[0m│\u001b[35m \u001b[0m\u001b[35m   0.4237039387226105    \u001b[0m\u001b[35m \u001b[0m│\n",
       "│\u001b[36m \u001b[0m\u001b[36m     test_f1_class_1     \u001b[0m\u001b[36m \u001b[0m│\u001b[35m \u001b[0m\u001b[35m   0.11974683403968811   \u001b[0m\u001b[35m \u001b[0m│\n",
       "│\u001b[36m \u001b[0m\u001b[36m    test_f1_class_10     \u001b[0m\u001b[36m \u001b[0m│\u001b[35m \u001b[0m\u001b[35m   0.2159709632396698    \u001b[0m\u001b[35m \u001b[0m│\n",
       "│\u001b[36m \u001b[0m\u001b[36m    test_f1_class_11     \u001b[0m\u001b[36m \u001b[0m│\u001b[35m \u001b[0m\u001b[35m   0.08400954306125641   \u001b[0m\u001b[35m \u001b[0m│\n",
       "│\u001b[36m \u001b[0m\u001b[36m    test_f1_class_12     \u001b[0m\u001b[36m \u001b[0m│\u001b[35m \u001b[0m\u001b[35m   0.06869220733642578   \u001b[0m\u001b[35m \u001b[0m│\n",
       "│\u001b[36m \u001b[0m\u001b[36m    test_f1_class_13     \u001b[0m\u001b[36m \u001b[0m│\u001b[35m \u001b[0m\u001b[35m           0.0           \u001b[0m\u001b[35m \u001b[0m│\n",
       "│\u001b[36m \u001b[0m\u001b[36m    test_f1_class_14     \u001b[0m\u001b[36m \u001b[0m│\u001b[35m \u001b[0m\u001b[35m  0.0030418250244110823  \u001b[0m\u001b[35m \u001b[0m│\n",
       "│\u001b[36m \u001b[0m\u001b[36m    test_f1_class_15     \u001b[0m\u001b[36m \u001b[0m│\u001b[35m \u001b[0m\u001b[35m           0.0           \u001b[0m\u001b[35m \u001b[0m│\n",
       "│\u001b[36m \u001b[0m\u001b[36m    test_f1_class_16     \u001b[0m\u001b[36m \u001b[0m│\u001b[35m \u001b[0m\u001b[35m           0.0           \u001b[0m\u001b[35m \u001b[0m│\n",
       "│\u001b[36m \u001b[0m\u001b[36m    test_f1_class_17     \u001b[0m\u001b[36m \u001b[0m│\u001b[35m \u001b[0m\u001b[35m   0.3436083495616913    \u001b[0m\u001b[35m \u001b[0m│\n",
       "│\u001b[36m \u001b[0m\u001b[36m    test_f1_class_18     \u001b[0m\u001b[36m \u001b[0m│\u001b[35m \u001b[0m\u001b[35m   0.00245800893753767   \u001b[0m\u001b[35m \u001b[0m│\n",
       "│\u001b[36m \u001b[0m\u001b[36m    test_f1_class_19     \u001b[0m\u001b[36m \u001b[0m│\u001b[35m \u001b[0m\u001b[35m           0.0           \u001b[0m\u001b[35m \u001b[0m│\n",
       "│\u001b[36m \u001b[0m\u001b[36m     test_f1_class_2     \u001b[0m\u001b[36m \u001b[0m│\u001b[35m \u001b[0m\u001b[35m    0.305830717086792    \u001b[0m\u001b[35m \u001b[0m│\n",
       "│\u001b[36m \u001b[0m\u001b[36m     test_f1_class_3     \u001b[0m\u001b[36m \u001b[0m│\u001b[35m \u001b[0m\u001b[35m           0.0           \u001b[0m\u001b[35m \u001b[0m│\n",
       "│\u001b[36m \u001b[0m\u001b[36m     test_f1_class_4     \u001b[0m\u001b[36m \u001b[0m│\u001b[35m \u001b[0m\u001b[35m   0.23821891844272614   \u001b[0m\u001b[35m \u001b[0m│\n",
       "│\u001b[36m \u001b[0m\u001b[36m     test_f1_class_5     \u001b[0m\u001b[36m \u001b[0m│\u001b[35m \u001b[0m\u001b[35m           0.0           \u001b[0m\u001b[35m \u001b[0m│\n",
       "│\u001b[36m \u001b[0m\u001b[36m     test_f1_class_6     \u001b[0m\u001b[36m \u001b[0m│\u001b[35m \u001b[0m\u001b[35m  0.015094339847564697   \u001b[0m\u001b[35m \u001b[0m│\n",
       "│\u001b[36m \u001b[0m\u001b[36m     test_f1_class_7     \u001b[0m\u001b[36m \u001b[0m│\u001b[35m \u001b[0m\u001b[35m   0.1489277184009552    \u001b[0m\u001b[35m \u001b[0m│\n",
       "│\u001b[36m \u001b[0m\u001b[36m     test_f1_class_8     \u001b[0m\u001b[36m \u001b[0m│\u001b[35m \u001b[0m\u001b[35m           0.0           \u001b[0m\u001b[35m \u001b[0m│\n",
       "│\u001b[36m \u001b[0m\u001b[36m     test_f1_class_9     \u001b[0m\u001b[36m \u001b[0m│\u001b[35m \u001b[0m\u001b[35m           0.0           \u001b[0m\u001b[35m \u001b[0m│\n",
       "└───────────────────────────┴───────────────────────────┘\n"
      ]
     },
     "metadata": {},
     "output_type": "display_data"
    }
   ],
   "source": [
    "tuples = [(gru_Attention,None)]\n",
    "model, _ = train_model(num_labels=20,\n",
    "                hidden_dim=16,\n",
    "                max_leng=34,\n",
    "                attn_ffn_tuples=tuples,\n",
    "                ffn_dim=32,\n",
    "                batch_size=64,\n",
    "                       lr = 1e-3,\n",
    "                num_repeat_modules=1,\n",
    "                train_data=train_dataset,\n",
    "                val_data=val_dataset,\n",
    "                test_data=test_dataset,\n",
    "                max_epochs=3)"
   ]
  },
  {
   "cell_type": "code",
   "execution_count": 38,
   "metadata": {
    "colab": {
     "base_uri": "https://localhost:8080/",
     "height": 986,
     "referenced_widgets": [
      "3806535d12f24f45b1cb0471dc80fcb3",
      "9d5daa89265b43df9d068c0588944198",
      "d0d87c6354ed4492bda7885abe1fbfa9",
      "0f271df5fd7b43e4b2dab89ddaa73e36",
      "8ccb353cf4784f86afff41ae56f7da30",
      "d60089aa96b5457b955e09cddc607baa",
      "96ef0a49dcc04dac900e10f13243edfc",
      "f6ed7f350bbe4103ac2fd08d18fbe537",
      "10d5d59c9dc24da69ec47e56772987b2",
      "e649aae1b4dc432485b5e41dc892f3c2",
      "be870069c4094d96bc726d1f34130b1f",
      "ee0ad1b846b04387ba4bc94d31757b52",
      "28bebf4a3f4141a8b57d0dbc2a561c5c",
      "450c226ac4474a48aeda9dae61a8274c",
      "685829c325264953816323bcdbb2c853",
      "15062fc9b8054bdba917ed0d9edfbe5d",
      "3a9407a9ac424301b43902cd0b38066c",
      "55215592939c4709965fbe8f93f4cb3d",
      "997a45a3e6734cd89f6028dfe1a957a4",
      "5b29554c07b445239d38a55deb37cd85",
      "108d1cb63fff47669be340079dc81ab3",
      "bb5805c32b9c41c580ec897b217a1c26",
      "6229877ab2ae4a0d9592fe8b5e35f2a1",
      "ed02bc05ef96434bad2cac62c3c8246c",
      "8a2670b2c6eb463a8ee762ac8209bf61",
      "3c3d487dddb64f4a8b3562486f515f94",
      "104a70c746dd49739ffac504306b2b70",
      "3fcbc8e3902d49b0a27ca9733f07a314",
      "8f4bbc82a91940aca483a8fa748867bd",
      "171290e1bc374b928dc7979e486aabf4",
      "8f14f03aa3f647d1af41b326734ac01d",
      "43b946eaac9c45cb99edf3957017e7bc",
      "85596b8e344b4a35980c6dcf6df97423",
      "72030853492d4083b4245893657cb823",
      "be7cbb3e93ce4a198208d5607785f023",
      "e52b3442171c4d05b960b6c4de024e3d",
      "22074567c7444c82bd931c116e908431",
      "1485f35e45a34798a45b11c9f5affbf2",
      "9865a28eec6a4518b43f0e54463a769b",
      "64578b362275414f9988b0d39d8bf903",
      "1051f6dfd9df423da8fa93e70ed5db22",
      "1b01e0d8771e40d5bdcf38b59a9d6d5c",
      "1d61056b0e3543418d62f95d4862b918",
      "b7849213421d4061b62f5d6fdf71755c",
      "092db9efb4fc4e81956cee5820cd7014",
      "ce39f178257442d0bce2a744ef19edfe",
      "c0ade8da851d4087a722bca0371513ea",
      "fb2fe419b58e47c9b3db776686c0f5e5",
      "502a707eb2254dcf8758bca059a78998",
      "c1e22b4f3cb147eaa3c97edc699ab9b7",
      "ed0c4f07fe5145218efb458d36638654",
      "522dc9f887574cbd9095599b782c5b1e",
      "325488c3fe934857a8342bbbba551639",
      "84a48615aef04c529e06679f3d1c7f6f",
      "0fa3e3eda7fd438688e46d0ae22676dc",
      "56b562abf1e04c879df9c1c3c4c2c364",
      "76eb47aced1b475bb02394b85e3393b6",
      "ac5ab42a7a084485871a5c7ce79a76d6",
      "4be3912eecf84919abb3613a2dfdf7de",
      "c95b708449f045d29700a1277388b424",
      "0aefde49455f416cbec6ee4244092fbf",
      "753bc2a925f74fd4ad10b5979685006e",
      "7f0992946a4841ada412f9c0ee8b11c8",
      "a65f98eeaa98411cba7bd6eb89c77444",
      "66e442e2de7b495eb0881b004dd4e1c2",
      "4c458fa014d9423d96f9458ab462bd17"
     ]
    },
    "collapsed": true,
    "id": "EJ3hqn-5NE43",
    "jupyter": {
     "outputs_hidden": true
    },
    "outputId": "4ea4db67-97d7-4066-939c-7d52fc056354"
   },
   "outputs": [
    {
     "name": "stderr",
     "output_type": "stream",
     "text": [
      "INFO:pytorch_lightning.utilities.rank_zero:💡 Tip: For seamless cloud uploads and versioning, try installing [litmodels](https://pypi.org/project/litmodels/) to enable LitModelCheckpoint, which syncs automatically with the Lightning model registry.\n",
      "INFO:pytorch_lightning.utilities.rank_zero:GPU available: False, used: False\n",
      "INFO:pytorch_lightning.utilities.rank_zero:TPU available: False, using: 0 TPU cores\n",
      "INFO:pytorch_lightning.utilities.rank_zero:HPU available: False, using: 0 HPUs\n",
      "/usr/local/lib/python3.12/dist-packages/pytorch_lightning/callbacks/model_checkpoint.py:751: Checkpoint directory /content/checkpoints exists and is not empty.\n",
      "INFO:pytorch_lightning.callbacks.model_summary:\n",
      "  | Name              | Type               | Params | Mode \n",
      "-----------------------------------------------------------------\n",
      "0 | model             | Model              | 492 K  | train\n",
      "1 | loss_fn           | CrossEntropyLoss   | 0      | train\n",
      "2 | train_accuracy    | MulticlassAccuracy | 0      | train\n",
      "3 | val_accuracy      | MulticlassAccuracy | 0      | train\n",
      "4 | train_f1          | MulticlassF1Score  | 0      | train\n",
      "5 | val_f1            | MulticlassF1Score  | 0      | train\n",
      "6 | test_accuracy     | MulticlassAccuracy | 0      | train\n",
      "7 | test_f1           | MulticlassF1Score  | 0      | train\n",
      "8 | test_f1_per_class | MulticlassF1Score  | 0      | train\n",
      "-----------------------------------------------------------------\n",
      "492 K     Trainable params\n",
      "0         Non-trainable params\n",
      "492 K     Total params\n",
      "1.972     Total estimated model params size (MB)\n",
      "50        Modules in train mode\n",
      "0         Modules in eval mode\n"
     ]
    },
    {
     "data": {
      "application/vnd.jupyter.widget-view+json": {
       "model_id": "3806535d12f24f45b1cb0471dc80fcb3",
       "version_major": 2,
       "version_minor": 0
      },
      "text/plain": [
       "Sanity Checking: |          | 0/? [00:00<?, ?it/s]"
      ]
     },
     "metadata": {},
     "output_type": "display_data"
    },
    {
     "data": {
      "application/vnd.jupyter.widget-view+json": {
       "model_id": "ee0ad1b846b04387ba4bc94d31757b52",
       "version_major": 2,
       "version_minor": 0
      },
      "text/plain": [
       "Training: |          | 0/? [00:00<?, ?it/s]"
      ]
     },
     "metadata": {},
     "output_type": "display_data"
    },
    {
     "data": {
      "application/vnd.jupyter.widget-view+json": {
       "model_id": "6229877ab2ae4a0d9592fe8b5e35f2a1",
       "version_major": 2,
       "version_minor": 0
      },
      "text/plain": [
       "Validation: |          | 0/? [00:00<?, ?it/s]"
      ]
     },
     "metadata": {},
     "output_type": "display_data"
    },
    {
     "data": {
      "application/vnd.jupyter.widget-view+json": {
       "model_id": "72030853492d4083b4245893657cb823",
       "version_major": 2,
       "version_minor": 0
      },
      "text/plain": [
       "Validation: |          | 0/? [00:00<?, ?it/s]"
      ]
     },
     "metadata": {},
     "output_type": "display_data"
    },
    {
     "data": {
      "application/vnd.jupyter.widget-view+json": {
       "model_id": "092db9efb4fc4e81956cee5820cd7014",
       "version_major": 2,
       "version_minor": 0
      },
      "text/plain": [
       "Validation: |          | 0/? [00:00<?, ?it/s]"
      ]
     },
     "metadata": {},
     "output_type": "display_data"
    },
    {
     "name": "stderr",
     "output_type": "stream",
     "text": [
      "INFO:pytorch_lightning.utilities.rank_zero:`Trainer.fit` stopped: `max_epochs=3` reached.\n"
     ]
    },
    {
     "data": {
      "application/vnd.jupyter.widget-view+json": {
       "model_id": "56b562abf1e04c879df9c1c3c4c2c364",
       "version_major": 2,
       "version_minor": 0
      },
      "text/plain": [
       "Testing: |          | 0/? [00:00<?, ?it/s]"
      ]
     },
     "metadata": {},
     "output_type": "display_data"
    },
    {
     "data": {
      "text/html": [
       "<pre style=\"white-space:pre;overflow-x:auto;line-height:normal;font-family:Menlo,'DejaVu Sans Mono',consolas,'Courier New',monospace\">┏━━━━━━━━━━━━━━━━━━━━━━━━━━━┳━━━━━━━━━━━━━━━━━━━━━━━━━━━┓\n",
       "┃<span style=\"font-weight: bold\">        Test metric        </span>┃<span style=\"font-weight: bold\">       DataLoader 0        </span>┃\n",
       "┡━━━━━━━━━━━━━━━━━━━━━━━━━━━╇━━━━━━━━━━━━━━━━━━━━━━━━━━━┩\n",
       "│<span style=\"color: #008080; text-decoration-color: #008080\">      -- test_acc --       </span>│<span style=\"color: #800080; text-decoration-color: #800080\">    0.3103199899196625     </span>│\n",
       "│<span style=\"color: #008080; text-decoration-color: #008080\">       -- test_f1 --       </span>│<span style=\"color: #800080; text-decoration-color: #800080\">    0.3103199899196625     </span>│\n",
       "│<span style=\"color: #008080; text-decoration-color: #008080\">      -- test_loss --      </span>│<span style=\"color: #800080; text-decoration-color: #800080\">    2.4152626991271973     </span>│\n",
       "│<span style=\"color: #008080; text-decoration-color: #008080\">      test_f1_class_0      </span>│<span style=\"color: #800080; text-decoration-color: #800080\">    0.44332021474838257    </span>│\n",
       "│<span style=\"color: #008080; text-decoration-color: #008080\">      test_f1_class_1      </span>│<span style=\"color: #800080; text-decoration-color: #800080\">    0.20012202858924866    </span>│\n",
       "│<span style=\"color: #008080; text-decoration-color: #008080\">     test_f1_class_10      </span>│<span style=\"color: #800080; text-decoration-color: #800080\">    0.3145400583744049     </span>│\n",
       "│<span style=\"color: #008080; text-decoration-color: #008080\">     test_f1_class_11      </span>│<span style=\"color: #800080; text-decoration-color: #800080\">    0.4614928960800171     </span>│\n",
       "│<span style=\"color: #008080; text-decoration-color: #008080\">     test_f1_class_12      </span>│<span style=\"color: #800080; text-decoration-color: #800080\">    0.2618296444416046     </span>│\n",
       "│<span style=\"color: #008080; text-decoration-color: #008080\">     test_f1_class_13      </span>│<span style=\"color: #800080; text-decoration-color: #800080\">            0.0            </span>│\n",
       "│<span style=\"color: #008080; text-decoration-color: #008080\">     test_f1_class_14      </span>│<span style=\"color: #800080; text-decoration-color: #800080\">   0.0030052592046558857   </span>│\n",
       "│<span style=\"color: #008080; text-decoration-color: #008080\">     test_f1_class_15      </span>│<span style=\"color: #800080; text-decoration-color: #800080\">   0.0031796502880752087   </span>│\n",
       "│<span style=\"color: #008080; text-decoration-color: #008080\">     test_f1_class_16      </span>│<span style=\"color: #800080; text-decoration-color: #800080\">   0.017929909750819206    </span>│\n",
       "│<span style=\"color: #008080; text-decoration-color: #008080\">     test_f1_class_17      </span>│<span style=\"color: #800080; text-decoration-color: #800080\">    0.6186168789863586     </span>│\n",
       "│<span style=\"color: #008080; text-decoration-color: #008080\">     test_f1_class_18      </span>│<span style=\"color: #800080; text-decoration-color: #800080\">    0.0883590430021286     </span>│\n",
       "│<span style=\"color: #008080; text-decoration-color: #008080\">     test_f1_class_19      </span>│<span style=\"color: #800080; text-decoration-color: #800080\">            0.0            </span>│\n",
       "│<span style=\"color: #008080; text-decoration-color: #008080\">      test_f1_class_2      </span>│<span style=\"color: #800080; text-decoration-color: #800080\">    0.3495626151561737     </span>│\n",
       "│<span style=\"color: #008080; text-decoration-color: #008080\">      test_f1_class_3      </span>│<span style=\"color: #800080; text-decoration-color: #800080\">   0.0007674596854485571   </span>│\n",
       "│<span style=\"color: #008080; text-decoration-color: #008080\">      test_f1_class_4      </span>│<span style=\"color: #800080; text-decoration-color: #800080\">    0.4056563377380371     </span>│\n",
       "│<span style=\"color: #008080; text-decoration-color: #008080\">      test_f1_class_5      </span>│<span style=\"color: #800080; text-decoration-color: #800080\">   0.017887087538838387    </span>│\n",
       "│<span style=\"color: #008080; text-decoration-color: #008080\">      test_f1_class_6      </span>│<span style=\"color: #800080; text-decoration-color: #800080\">    0.10709032416343689    </span>│\n",
       "│<span style=\"color: #008080; text-decoration-color: #008080\">      test_f1_class_7      </span>│<span style=\"color: #800080; text-decoration-color: #800080\">    0.19875776767730713    </span>│\n",
       "│<span style=\"color: #008080; text-decoration-color: #008080\">      test_f1_class_8      </span>│<span style=\"color: #800080; text-decoration-color: #800080\">   0.001287001301534474    </span>│\n",
       "│<span style=\"color: #008080; text-decoration-color: #008080\">      test_f1_class_9      </span>│<span style=\"color: #800080; text-decoration-color: #800080\">            0.0            </span>│\n",
       "└───────────────────────────┴───────────────────────────┘\n",
       "</pre>\n"
      ],
      "text/plain": [
       "┏━━━━━━━━━━━━━━━━━━━━━━━━━━━┳━━━━━━━━━━━━━━━━━━━━━━━━━━━┓\n",
       "┃\u001b[1m \u001b[0m\u001b[1m       Test metric       \u001b[0m\u001b[1m \u001b[0m┃\u001b[1m \u001b[0m\u001b[1m      DataLoader 0       \u001b[0m\u001b[1m \u001b[0m┃\n",
       "┡━━━━━━━━━━━━━━━━━━━━━━━━━━━╇━━━━━━━━━━━━━━━━━━━━━━━━━━━┩\n",
       "│\u001b[36m \u001b[0m\u001b[36m     -- test_acc --      \u001b[0m\u001b[36m \u001b[0m│\u001b[35m \u001b[0m\u001b[35m   0.3103199899196625    \u001b[0m\u001b[35m \u001b[0m│\n",
       "│\u001b[36m \u001b[0m\u001b[36m      -- test_f1 --      \u001b[0m\u001b[36m \u001b[0m│\u001b[35m \u001b[0m\u001b[35m   0.3103199899196625    \u001b[0m\u001b[35m \u001b[0m│\n",
       "│\u001b[36m \u001b[0m\u001b[36m     -- test_loss --     \u001b[0m\u001b[36m \u001b[0m│\u001b[35m \u001b[0m\u001b[35m   2.4152626991271973    \u001b[0m\u001b[35m \u001b[0m│\n",
       "│\u001b[36m \u001b[0m\u001b[36m     test_f1_class_0     \u001b[0m\u001b[36m \u001b[0m│\u001b[35m \u001b[0m\u001b[35m   0.44332021474838257   \u001b[0m\u001b[35m \u001b[0m│\n",
       "│\u001b[36m \u001b[0m\u001b[36m     test_f1_class_1     \u001b[0m\u001b[36m \u001b[0m│\u001b[35m \u001b[0m\u001b[35m   0.20012202858924866   \u001b[0m\u001b[35m \u001b[0m│\n",
       "│\u001b[36m \u001b[0m\u001b[36m    test_f1_class_10     \u001b[0m\u001b[36m \u001b[0m│\u001b[35m \u001b[0m\u001b[35m   0.3145400583744049    \u001b[0m\u001b[35m \u001b[0m│\n",
       "│\u001b[36m \u001b[0m\u001b[36m    test_f1_class_11     \u001b[0m\u001b[36m \u001b[0m│\u001b[35m \u001b[0m\u001b[35m   0.4614928960800171    \u001b[0m\u001b[35m \u001b[0m│\n",
       "│\u001b[36m \u001b[0m\u001b[36m    test_f1_class_12     \u001b[0m\u001b[36m \u001b[0m│\u001b[35m \u001b[0m\u001b[35m   0.2618296444416046    \u001b[0m\u001b[35m \u001b[0m│\n",
       "│\u001b[36m \u001b[0m\u001b[36m    test_f1_class_13     \u001b[0m\u001b[36m \u001b[0m│\u001b[35m \u001b[0m\u001b[35m           0.0           \u001b[0m\u001b[35m \u001b[0m│\n",
       "│\u001b[36m \u001b[0m\u001b[36m    test_f1_class_14     \u001b[0m\u001b[36m \u001b[0m│\u001b[35m \u001b[0m\u001b[35m  0.0030052592046558857  \u001b[0m\u001b[35m \u001b[0m│\n",
       "│\u001b[36m \u001b[0m\u001b[36m    test_f1_class_15     \u001b[0m\u001b[36m \u001b[0m│\u001b[35m \u001b[0m\u001b[35m  0.0031796502880752087  \u001b[0m\u001b[35m \u001b[0m│\n",
       "│\u001b[36m \u001b[0m\u001b[36m    test_f1_class_16     \u001b[0m\u001b[36m \u001b[0m│\u001b[35m \u001b[0m\u001b[35m  0.017929909750819206   \u001b[0m\u001b[35m \u001b[0m│\n",
       "│\u001b[36m \u001b[0m\u001b[36m    test_f1_class_17     \u001b[0m\u001b[36m \u001b[0m│\u001b[35m \u001b[0m\u001b[35m   0.6186168789863586    \u001b[0m\u001b[35m \u001b[0m│\n",
       "│\u001b[36m \u001b[0m\u001b[36m    test_f1_class_18     \u001b[0m\u001b[36m \u001b[0m│\u001b[35m \u001b[0m\u001b[35m   0.0883590430021286    \u001b[0m\u001b[35m \u001b[0m│\n",
       "│\u001b[36m \u001b[0m\u001b[36m    test_f1_class_19     \u001b[0m\u001b[36m \u001b[0m│\u001b[35m \u001b[0m\u001b[35m           0.0           \u001b[0m\u001b[35m \u001b[0m│\n",
       "│\u001b[36m \u001b[0m\u001b[36m     test_f1_class_2     \u001b[0m\u001b[36m \u001b[0m│\u001b[35m \u001b[0m\u001b[35m   0.3495626151561737    \u001b[0m\u001b[35m \u001b[0m│\n",
       "│\u001b[36m \u001b[0m\u001b[36m     test_f1_class_3     \u001b[0m\u001b[36m \u001b[0m│\u001b[35m \u001b[0m\u001b[35m  0.0007674596854485571  \u001b[0m\u001b[35m \u001b[0m│\n",
       "│\u001b[36m \u001b[0m\u001b[36m     test_f1_class_4     \u001b[0m\u001b[36m \u001b[0m│\u001b[35m \u001b[0m\u001b[35m   0.4056563377380371    \u001b[0m\u001b[35m \u001b[0m│\n",
       "│\u001b[36m \u001b[0m\u001b[36m     test_f1_class_5     \u001b[0m\u001b[36m \u001b[0m│\u001b[35m \u001b[0m\u001b[35m  0.017887087538838387   \u001b[0m\u001b[35m \u001b[0m│\n",
       "│\u001b[36m \u001b[0m\u001b[36m     test_f1_class_6     \u001b[0m\u001b[36m \u001b[0m│\u001b[35m \u001b[0m\u001b[35m   0.10709032416343689   \u001b[0m\u001b[35m \u001b[0m│\n",
       "│\u001b[36m \u001b[0m\u001b[36m     test_f1_class_7     \u001b[0m\u001b[36m \u001b[0m│\u001b[35m \u001b[0m\u001b[35m   0.19875776767730713   \u001b[0m\u001b[35m \u001b[0m│\n",
       "│\u001b[36m \u001b[0m\u001b[36m     test_f1_class_8     \u001b[0m\u001b[36m \u001b[0m│\u001b[35m \u001b[0m\u001b[35m  0.001287001301534474   \u001b[0m\u001b[35m \u001b[0m│\n",
       "│\u001b[36m \u001b[0m\u001b[36m     test_f1_class_9     \u001b[0m\u001b[36m \u001b[0m│\u001b[35m \u001b[0m\u001b[35m           0.0           \u001b[0m\u001b[35m \u001b[0m│\n",
       "└───────────────────────────┴───────────────────────────┘\n"
      ]
     },
     "metadata": {},
     "output_type": "display_data"
    }
   ],
   "source": [
    "tuples = [(conv_Attention,None)]\n",
    "model, _ = train_model(num_labels=20,\n",
    "                hidden_dim=16,\n",
    "                max_leng=34,\n",
    "                attn_ffn_tuples=tuples,\n",
    "                ffn_dim=32,\n",
    "                batch_size=64,\n",
    "                       lr = 1e-3,\n",
    "                num_repeat_modules=1,\n",
    "                train_data=train_dataset,\n",
    "                val_data=val_dataset,\n",
    "                test_data=test_dataset,\n",
    "                max_epochs=3)"
   ]
  },
  {
   "cell_type": "markdown",
   "metadata": {
    "id": "wS6RGKjBoFfI"
   },
   "source": [
    "##### imdb"
   ]
  },
  {
   "cell_type": "code",
   "execution_count": 25,
   "metadata": {
    "colab": {
     "base_uri": "https://localhost:8080/",
     "height": 703,
     "referenced_widgets": [
      "c96fdd78de4c4e4080e1045b9b3e03a4",
      "56ea9f455ba8430e8032670c98df3da2",
      "96500417ebd3405d88f0066355bdbb53",
      "62405cca2d3a40588bb2836a3b1db6ac",
      "4747c0dcd588464181509b60107c96c0",
      "2566b6b9fff94b3da8f0d99f175eef27",
      "9198d5b60a9e4ea8920226d0217c8d0b",
      "b9e7849ebb8b43358dcbf9f149cc05ff",
      "f471635a645f426db2502ccb946e4062",
      "43518994e1054e5ab44327b2018e4754",
      "7c1b095ce33b418e9e57568f18bd3126",
      "911234991d1f4ea3953081c0415e0e05",
      "56fda64fcc6a4c37a1293d4a5f89f7da",
      "1bbe68b3c2b84acea9cee71f2014efc0",
      "8de66bc6cd164dc38e6c37549d2d0aeb",
      "5f93d23e07744ff98897e87abed0c2d2",
      "10abae3552df4e4b9502f298ca55a966",
      "3a130b3769fd4018b5a57a0f84225fcc",
      "faba7884fefb416da0cafe09aadcd4af",
      "43ee00971d3b4d7e9532f47b264a3115",
      "80ecc6ec00974984a88949b1c216e78e",
      "340dcdd0187146d9bb640078b18ba964",
      "1cff42e183af4b1285b75e305e716774",
      "a918650e81554b57966d11c4c213f7f6",
      "dcdfbacc65d345a483c070f9d5f5d98e",
      "0a252e7d582845f2a3ae66de6f606b34",
      "25c2e10901a943599a49c17de5d16265",
      "c7fd4ba0d9c24419a0506ec4aa8d09b7",
      "ae3ff4e44f8e4324b9e3e51c0f8db727",
      "5891ea1fc21f42bcb5d8db349913fc43",
      "17a33494a91d47bd966fbbc5e89c2b15",
      "718ce1fd8f304cb1b6b27f4da373e436",
      "32006d05369f4b1da61191d9ea0115cd",
      "f27c5649d176417dabca13fa789b3e56",
      "9110a89f2ab24bca98215c3a0eb8e1bc",
      "90a75c7ef9f646f1aff676706938049f",
      "b11c1596a77845858dcb6c1fc8ab7811",
      "e1705bf9de974083a8546ce2d6d2e353",
      "e51a4bbbf1df4503898a54b0b28edc44",
      "c0fc42fa568041d59347fb7a117b1b95",
      "0031898875df49cd8b6430d8ab18389c",
      "5e05669e8ea94bc5ad8c5d5cf62e5aae",
      "3652539367044061a33a9db7cd6b549d",
      "0338ae8194cc49a08a3e6998fc9bfac7",
      "61674cc13f6c48a29eab33968ab53968",
      "8a6ad148d1824bc58f125f7ae25f01d4",
      "8d45615c6904404c89c9d9b31338cf8d",
      "4748d59364994dcaad4cceba090edfc7",
      "20b792fa85e6435d9c4a3019d70e12f3",
      "1f689aefdf4e4ce1bd9d69ef303c692f",
      "c83b6d6c3de54966878addd436aa3668",
      "d9cdafc20820406497ed46dda988639b",
      "7ef0a37699de43f690ccf1748cbe7fc3",
      "7a81afedac604b948beb54002d7acd73",
      "cd7975733c7e4f1799f977a0a9e72a9d",
      "4b32390f885e471a873ec8b87d446e25",
      "5440691864de48eb84639614f1865830",
      "2c8ca0b6b61e44d3bc25d517a7720222",
      "edfb67011e994337bc453fe802a992bb",
      "d4cbc001fafa4796b96b1976ed0f76d5",
      "9abbfcf62609420383a1c0c1ed55b80c",
      "b4179f0633a44857aa36cefda4ffa981",
      "b05151966b3a47e3870ea32dcfc36942",
      "d1cf790cfae64c88b0160c526c32b7ad",
      "8b1c9291667a4ea4bfa4d292f8a8c47d",
      "d3d72054d62649e69054ea454cd83884"
     ]
    },
    "collapsed": true,
    "id": "sireFP-SN4xR",
    "jupyter": {
     "outputs_hidden": true
    },
    "outputId": "67e3cdaa-affb-4baa-b6eb-77826d432d2a"
   },
   "outputs": [
    {
     "name": "stderr",
     "output_type": "stream",
     "text": [
      "INFO:pytorch_lightning.utilities.rank_zero:💡 Tip: For seamless cloud uploads and versioning, try installing [litmodels](https://pypi.org/project/litmodels/) to enable LitModelCheckpoint, which syncs automatically with the Lightning model registry.\n",
      "INFO:pytorch_lightning.utilities.rank_zero:GPU available: True (cuda), used: True\n",
      "INFO:pytorch_lightning.utilities.rank_zero:TPU available: False, using: 0 TPU cores\n",
      "INFO:pytorch_lightning.utilities.rank_zero:HPU available: False, using: 0 HPUs\n",
      "INFO:pytorch_lightning.accelerators.cuda:LOCAL_RANK: 0 - CUDA_VISIBLE_DEVICES: [0]\n",
      "INFO:pytorch_lightning.callbacks.model_summary:\n",
      "  | Name              | Type               | Params | Mode \n",
      "-----------------------------------------------------------------\n",
      "0 | model             | Model              | 507 K  | train\n",
      "1 | loss_fn           | CrossEntropyLoss   | 0      | train\n",
      "2 | train_accuracy    | MulticlassAccuracy | 0      | train\n",
      "3 | val_accuracy      | MulticlassAccuracy | 0      | train\n",
      "4 | train_f1          | MulticlassF1Score  | 0      | train\n",
      "5 | val_f1            | MulticlassF1Score  | 0      | train\n",
      "6 | test_accuracy     | MulticlassAccuracy | 0      | train\n",
      "7 | test_f1           | MulticlassF1Score  | 0      | train\n",
      "8 | test_f1_per_class | MulticlassF1Score  | 0      | train\n",
      "-----------------------------------------------------------------\n",
      "507 K     Trainable params\n",
      "0         Non-trainable params\n",
      "507 K     Total params\n",
      "2.028     Total estimated model params size (MB)\n",
      "26        Modules in train mode\n",
      "0         Modules in eval mode\n"
     ]
    },
    {
     "data": {
      "application/vnd.jupyter.widget-view+json": {
       "model_id": "c96fdd78de4c4e4080e1045b9b3e03a4",
       "version_major": 2,
       "version_minor": 0
      },
      "text/plain": [
       "Sanity Checking: |          | 0/? [00:00<?, ?it/s]"
      ]
     },
     "metadata": {},
     "output_type": "display_data"
    },
    {
     "data": {
      "application/vnd.jupyter.widget-view+json": {
       "model_id": "911234991d1f4ea3953081c0415e0e05",
       "version_major": 2,
       "version_minor": 0
      },
      "text/plain": [
       "Training: |          | 0/? [00:00<?, ?it/s]"
      ]
     },
     "metadata": {},
     "output_type": "display_data"
    },
    {
     "data": {
      "application/vnd.jupyter.widget-view+json": {
       "model_id": "1cff42e183af4b1285b75e305e716774",
       "version_major": 2,
       "version_minor": 0
      },
      "text/plain": [
       "Validation: |          | 0/? [00:00<?, ?it/s]"
      ]
     },
     "metadata": {},
     "output_type": "display_data"
    },
    {
     "data": {
      "application/vnd.jupyter.widget-view+json": {
       "model_id": "f27c5649d176417dabca13fa789b3e56",
       "version_major": 2,
       "version_minor": 0
      },
      "text/plain": [
       "Validation: |          | 0/? [00:00<?, ?it/s]"
      ]
     },
     "metadata": {},
     "output_type": "display_data"
    },
    {
     "data": {
      "application/vnd.jupyter.widget-view+json": {
       "model_id": "61674cc13f6c48a29eab33968ab53968",
       "version_major": 2,
       "version_minor": 0
      },
      "text/plain": [
       "Validation: |          | 0/? [00:00<?, ?it/s]"
      ]
     },
     "metadata": {},
     "output_type": "display_data"
    },
    {
     "name": "stderr",
     "output_type": "stream",
     "text": [
      "INFO:pytorch_lightning.utilities.rank_zero:`Trainer.fit` stopped: `max_epochs=3` reached.\n",
      "INFO:pytorch_lightning.accelerators.cuda:LOCAL_RANK: 0 - CUDA_VISIBLE_DEVICES: [0]\n"
     ]
    },
    {
     "data": {
      "application/vnd.jupyter.widget-view+json": {
       "model_id": "4b32390f885e471a873ec8b87d446e25",
       "version_major": 2,
       "version_minor": 0
      },
      "text/plain": [
       "Testing: |          | 0/? [00:00<?, ?it/s]"
      ]
     },
     "metadata": {},
     "output_type": "display_data"
    },
    {
     "data": {
      "text/html": [
       "<pre style=\"white-space:pre;overflow-x:auto;line-height:normal;font-family:Menlo,'DejaVu Sans Mono',consolas,'Courier New',monospace\">┏━━━━━━━━━━━━━━━━━━━━━━━━━━━┳━━━━━━━━━━━━━━━━━━━━━━━━━━━┓\n",
       "┃<span style=\"font-weight: bold\">        Test metric        </span>┃<span style=\"font-weight: bold\">       DataLoader 0        </span>┃\n",
       "┡━━━━━━━━━━━━━━━━━━━━━━━━━━━╇━━━━━━━━━━━━━━━━━━━━━━━━━━━┩\n",
       "│<span style=\"color: #008080; text-decoration-color: #008080\">      -- test_acc --       </span>│<span style=\"color: #800080; text-decoration-color: #800080\">    0.8792105317115784     </span>│\n",
       "│<span style=\"color: #008080; text-decoration-color: #008080\">       -- test_f1 --       </span>│<span style=\"color: #800080; text-decoration-color: #800080\">    0.8792105317115784     </span>│\n",
       "│<span style=\"color: #008080; text-decoration-color: #008080\">      -- test_loss --      </span>│<span style=\"color: #800080; text-decoration-color: #800080\">    0.3074229657649994     </span>│\n",
       "│<span style=\"color: #008080; text-decoration-color: #008080\">      test_f1_class_0      </span>│<span style=\"color: #800080; text-decoration-color: #800080\">    0.8814137578010559     </span>│\n",
       "│<span style=\"color: #008080; text-decoration-color: #008080\">      test_f1_class_1      </span>│<span style=\"color: #800080; text-decoration-color: #800080\">    0.8769239187240601     </span>│\n",
       "└───────────────────────────┴───────────────────────────┘\n",
       "</pre>\n"
      ],
      "text/plain": [
       "┏━━━━━━━━━━━━━━━━━━━━━━━━━━━┳━━━━━━━━━━━━━━━━━━━━━━━━━━━┓\n",
       "┃\u001b[1m \u001b[0m\u001b[1m       Test metric       \u001b[0m\u001b[1m \u001b[0m┃\u001b[1m \u001b[0m\u001b[1m      DataLoader 0       \u001b[0m\u001b[1m \u001b[0m┃\n",
       "┡━━━━━━━━━━━━━━━━━━━━━━━━━━━╇━━━━━━━━━━━━━━━━━━━━━━━━━━━┩\n",
       "│\u001b[36m \u001b[0m\u001b[36m     -- test_acc --      \u001b[0m\u001b[36m \u001b[0m│\u001b[35m \u001b[0m\u001b[35m   0.8792105317115784    \u001b[0m\u001b[35m \u001b[0m│\n",
       "│\u001b[36m \u001b[0m\u001b[36m      -- test_f1 --      \u001b[0m\u001b[36m \u001b[0m│\u001b[35m \u001b[0m\u001b[35m   0.8792105317115784    \u001b[0m\u001b[35m \u001b[0m│\n",
       "│\u001b[36m \u001b[0m\u001b[36m     -- test_loss --     \u001b[0m\u001b[36m \u001b[0m│\u001b[35m \u001b[0m\u001b[35m   0.3074229657649994    \u001b[0m\u001b[35m \u001b[0m│\n",
       "│\u001b[36m \u001b[0m\u001b[36m     test_f1_class_0     \u001b[0m\u001b[36m \u001b[0m│\u001b[35m \u001b[0m\u001b[35m   0.8814137578010559    \u001b[0m\u001b[35m \u001b[0m│\n",
       "│\u001b[36m \u001b[0m\u001b[36m     test_f1_class_1     \u001b[0m\u001b[36m \u001b[0m│\u001b[35m \u001b[0m\u001b[35m   0.8769239187240601    \u001b[0m\u001b[35m \u001b[0m│\n",
       "└───────────────────────────┴───────────────────────────┘\n"
      ]
     },
     "metadata": {},
     "output_type": "display_data"
    }
   ],
   "source": [
    "tuples = [(None,None)]\n",
    "model, _ = train_model(num_labels=2,\n",
    "                hidden_dim=16,\n",
    "                max_leng=1026,\n",
    "                attn_ffn_tuples=tuples,\n",
    "                ffn_dim=32,\n",
    "                batch_size=64,\n",
    "                       lr = 1e-3,\n",
    "                num_repeat_modules=1,\n",
    "                train_data=imdb_train,\n",
    "                val_data=imdb_test.shuffle().select(range(6000)),\n",
    "                test_data=imdb_test.shuffle().select(range(6000,25000)),\n",
    "                max_epochs=3)"
   ]
  },
  {
   "cell_type": "code",
   "execution_count": 26,
   "metadata": {
    "colab": {
     "base_uri": "https://localhost:8080/",
     "height": 720,
     "referenced_widgets": [
      "f9f1cd23901e4f21a65dac0f140ec545",
      "d971a49904554f21bac782c4f72a1d5b",
      "0aab88eb633a4639979ec6c83c9d239b",
      "8ac5d5e85f2342d69a5f9f562bc32351",
      "a59e052285144e1a8131415aeb0a3907",
      "2941c13d15994c09b52da1e1f334a65f",
      "312b495c5aba45d78ede37f5608320b8",
      "c2aeef1349e9486db1c0f7c3faf42a80",
      "875c3ae2d7f746dd85f9e998cfb0b182",
      "16c99f572ceb41ff860638c0aad8e2b4",
      "27b9c3cbb4ce497c9955d85be1250521",
      "05b6e80813874d49a63f1cf9094ade2e",
      "3961ccc8aca04257b31f321bf9b8443c",
      "5e352cce06974ffa98b6179377d818f7",
      "c4f5ab48dd7c495ab6a29fbae4770fcc",
      "9d0ad4d7e85841c5b88f48be676124f2",
      "79d34270689746d28c08579da9f22adc",
      "a5bd86ba950c4d9ea4286d9ec2a06de1",
      "36028897c2fe4ad4906fc32f0118e560",
      "741dea50c0fd44ff8fb96b815b641e04",
      "03d9b9d96b794dfd84687519f0f425f5",
      "5cb5bab9aabf4eef99153378ed1c1945",
      "9a04d9ee202e4fa9a8616cd5cdb02517",
      "4928a819c6b141879339ac35814f51dd",
      "d0e63ebc189e4954821a9a8eaeb2498a",
      "f648998116294d6c82dee92148004d92",
      "306e00272d5d4adab11b4e345f1cc2ae",
      "f6f7499b72ef44669bc198e6a031c92b",
      "ef08a4e546b042f885b853d436339427",
      "bea0d4abf0194162b4d7ccbe7b436c10",
      "073e597d8c0e46059c056a78e731d16a",
      "a26644ae10ce4627a67ddc3375faecb5",
      "80c24783d2094a32bcc323c86e17458e",
      "0f3aad569abf43bb8ccabe1690788482",
      "486f242b00fe4d4d93d6028026901570",
      "2ee4cc467b1a42e1971d4847452fc5c2",
      "b457fa106579439b94f2d07942d5c6a8",
      "b9334171ba9d48b0a4108bf956952019",
      "67801b5a92e048598cb8d1ac1594d609",
      "09d9f5545f4f49ae9f02427929979d32",
      "0f557f5a05e747eeb9f9b8de02d27fd1",
      "ec8d872e89a6472a89af0a061382ec9b",
      "474a9f8eb68b4276947d847bf6d9db3a",
      "e8da742d56664eaa89b2583c95386ec2",
      "3f3704dff0ca4bbc9a9336cab66fa0cd",
      "7cd7e5fe4d71443d8dd0e1ad54c5696d",
      "16ae5c882d894a05b27a698e3979e1f8",
      "791a202064e54f64ad3c2d9c919d57e5",
      "176fab70b1e4429889d47a8f009b322c",
      "40b36662a197411892485e38a693fbda",
      "178f2f30019741e68a4889cdac7b330c",
      "704eed24ed8f476aa6a94747011b130b",
      "6f941cae41d64e19884b319da2dd2b33",
      "5f8a41c282324d678385e38d73716fd6",
      "d8c945717a1a4d6dbe30d4953d46b70e",
      "f39ecff09909467fb8fb8521fe9a7992",
      "88d3821457a9428faab810b9c7393c70",
      "3e8e45dff7364e83a95552f926290fe6",
      "f4a874453aff464b810a73a7b21d244b",
      "5e79f7b17c814e319a93ee420a4ed038",
      "3b0e0b809c5841f587bea9c63cdf4942",
      "67273c0c325b41a79831978d4b6c1a5e",
      "8cddaf87a9544c2bbeecc0336909be7b",
      "e092c10572fc4a679a90ea0d3e5e9876",
      "4f057ed6ec2d4bda93e7345762689fb4",
      "bea42a5a092846728411c0c9b6bba12b"
     ]
    },
    "collapsed": true,
    "id": "hy_fYIy-QESn",
    "jupyter": {
     "outputs_hidden": true
    },
    "outputId": "2529d079-5fc4-45b1-a2e6-3365aabe8c27"
   },
   "outputs": [
    {
     "name": "stderr",
     "output_type": "stream",
     "text": [
      "INFO:pytorch_lightning.utilities.rank_zero:💡 Tip: For seamless cloud uploads and versioning, try installing [litmodels](https://pypi.org/project/litmodels/) to enable LitModelCheckpoint, which syncs automatically with the Lightning model registry.\n",
      "INFO:pytorch_lightning.utilities.rank_zero:GPU available: True (cuda), used: True\n",
      "INFO:pytorch_lightning.utilities.rank_zero:TPU available: False, using: 0 TPU cores\n",
      "INFO:pytorch_lightning.utilities.rank_zero:HPU available: False, using: 0 HPUs\n",
      "/usr/local/lib/python3.12/dist-packages/pytorch_lightning/callbacks/model_checkpoint.py:751: Checkpoint directory /content/checkpoints exists and is not empty.\n",
      "INFO:pytorch_lightning.accelerators.cuda:LOCAL_RANK: 0 - CUDA_VISIBLE_DEVICES: [0]\n",
      "INFO:pytorch_lightning.callbacks.model_summary:\n",
      "  | Name              | Type               | Params | Mode \n",
      "-----------------------------------------------------------------\n",
      "0 | model             | Model              | 509 K  | train\n",
      "1 | loss_fn           | CrossEntropyLoss   | 0      | train\n",
      "2 | train_accuracy    | MulticlassAccuracy | 0      | train\n",
      "3 | val_accuracy      | MulticlassAccuracy | 0      | train\n",
      "4 | train_f1          | MulticlassF1Score  | 0      | train\n",
      "5 | val_f1            | MulticlassF1Score  | 0      | train\n",
      "6 | test_accuracy     | MulticlassAccuracy | 0      | train\n",
      "7 | test_f1           | MulticlassF1Score  | 0      | train\n",
      "8 | test_f1_per_class | MulticlassF1Score  | 0      | train\n",
      "-----------------------------------------------------------------\n",
      "509 K     Trainable params\n",
      "0         Non-trainable params\n",
      "509 K     Total params\n",
      "2.038     Total estimated model params size (MB)\n",
      "50        Modules in train mode\n",
      "0         Modules in eval mode\n"
     ]
    },
    {
     "data": {
      "application/vnd.jupyter.widget-view+json": {
       "model_id": "f9f1cd23901e4f21a65dac0f140ec545",
       "version_major": 2,
       "version_minor": 0
      },
      "text/plain": [
       "Sanity Checking: |          | 0/? [00:00<?, ?it/s]"
      ]
     },
     "metadata": {},
     "output_type": "display_data"
    },
    {
     "data": {
      "application/vnd.jupyter.widget-view+json": {
       "model_id": "05b6e80813874d49a63f1cf9094ade2e",
       "version_major": 2,
       "version_minor": 0
      },
      "text/plain": [
       "Training: |          | 0/? [00:00<?, ?it/s]"
      ]
     },
     "metadata": {},
     "output_type": "display_data"
    },
    {
     "data": {
      "application/vnd.jupyter.widget-view+json": {
       "model_id": "9a04d9ee202e4fa9a8616cd5cdb02517",
       "version_major": 2,
       "version_minor": 0
      },
      "text/plain": [
       "Validation: |          | 0/? [00:00<?, ?it/s]"
      ]
     },
     "metadata": {},
     "output_type": "display_data"
    },
    {
     "data": {
      "application/vnd.jupyter.widget-view+json": {
       "model_id": "0f3aad569abf43bb8ccabe1690788482",
       "version_major": 2,
       "version_minor": 0
      },
      "text/plain": [
       "Validation: |          | 0/? [00:00<?, ?it/s]"
      ]
     },
     "metadata": {},
     "output_type": "display_data"
    },
    {
     "data": {
      "application/vnd.jupyter.widget-view+json": {
       "model_id": "3f3704dff0ca4bbc9a9336cab66fa0cd",
       "version_major": 2,
       "version_minor": 0
      },
      "text/plain": [
       "Validation: |          | 0/? [00:00<?, ?it/s]"
      ]
     },
     "metadata": {},
     "output_type": "display_data"
    },
    {
     "name": "stderr",
     "output_type": "stream",
     "text": [
      "INFO:pytorch_lightning.utilities.rank_zero:`Trainer.fit` stopped: `max_epochs=3` reached.\n",
      "INFO:pytorch_lightning.accelerators.cuda:LOCAL_RANK: 0 - CUDA_VISIBLE_DEVICES: [0]\n"
     ]
    },
    {
     "data": {
      "application/vnd.jupyter.widget-view+json": {
       "model_id": "f39ecff09909467fb8fb8521fe9a7992",
       "version_major": 2,
       "version_minor": 0
      },
      "text/plain": [
       "Testing: |          | 0/? [00:00<?, ?it/s]"
      ]
     },
     "metadata": {},
     "output_type": "display_data"
    },
    {
     "data": {
      "text/html": [
       "<pre style=\"white-space:pre;overflow-x:auto;line-height:normal;font-family:Menlo,'DejaVu Sans Mono',consolas,'Courier New',monospace\">┏━━━━━━━━━━━━━━━━━━━━━━━━━━━┳━━━━━━━━━━━━━━━━━━━━━━━━━━━┓\n",
       "┃<span style=\"font-weight: bold\">        Test metric        </span>┃<span style=\"font-weight: bold\">       DataLoader 0        </span>┃\n",
       "┡━━━━━━━━━━━━━━━━━━━━━━━━━━━╇━━━━━━━━━━━━━━━━━━━━━━━━━━━┩\n",
       "│<span style=\"color: #008080; text-decoration-color: #008080\">      -- test_acc --       </span>│<span style=\"color: #800080; text-decoration-color: #800080\">    0.8811578750610352     </span>│\n",
       "│<span style=\"color: #008080; text-decoration-color: #008080\">       -- test_f1 --       </span>│<span style=\"color: #800080; text-decoration-color: #800080\">    0.8811578750610352     </span>│\n",
       "│<span style=\"color: #008080; text-decoration-color: #008080\">      -- test_loss --      </span>│<span style=\"color: #800080; text-decoration-color: #800080\">    0.3109027147293091     </span>│\n",
       "│<span style=\"color: #008080; text-decoration-color: #008080\">      test_f1_class_0      </span>│<span style=\"color: #800080; text-decoration-color: #800080\">    0.8840028643608093     </span>│\n",
       "│<span style=\"color: #008080; text-decoration-color: #008080\">      test_f1_class_1      </span>│<span style=\"color: #800080; text-decoration-color: #800080\">      0.8781698346138      </span>│\n",
       "└───────────────────────────┴───────────────────────────┘\n",
       "</pre>\n"
      ],
      "text/plain": [
       "┏━━━━━━━━━━━━━━━━━━━━━━━━━━━┳━━━━━━━━━━━━━━━━━━━━━━━━━━━┓\n",
       "┃\u001b[1m \u001b[0m\u001b[1m       Test metric       \u001b[0m\u001b[1m \u001b[0m┃\u001b[1m \u001b[0m\u001b[1m      DataLoader 0       \u001b[0m\u001b[1m \u001b[0m┃\n",
       "┡━━━━━━━━━━━━━━━━━━━━━━━━━━━╇━━━━━━━━━━━━━━━━━━━━━━━━━━━┩\n",
       "│\u001b[36m \u001b[0m\u001b[36m     -- test_acc --      \u001b[0m\u001b[36m \u001b[0m│\u001b[35m \u001b[0m\u001b[35m   0.8811578750610352    \u001b[0m\u001b[35m \u001b[0m│\n",
       "│\u001b[36m \u001b[0m\u001b[36m      -- test_f1 --      \u001b[0m\u001b[36m \u001b[0m│\u001b[35m \u001b[0m\u001b[35m   0.8811578750610352    \u001b[0m\u001b[35m \u001b[0m│\n",
       "│\u001b[36m \u001b[0m\u001b[36m     -- test_loss --     \u001b[0m\u001b[36m \u001b[0m│\u001b[35m \u001b[0m\u001b[35m   0.3109027147293091    \u001b[0m\u001b[35m \u001b[0m│\n",
       "│\u001b[36m \u001b[0m\u001b[36m     test_f1_class_0     \u001b[0m\u001b[36m \u001b[0m│\u001b[35m \u001b[0m\u001b[35m   0.8840028643608093    \u001b[0m\u001b[35m \u001b[0m│\n",
       "│\u001b[36m \u001b[0m\u001b[36m     test_f1_class_1     \u001b[0m\u001b[36m \u001b[0m│\u001b[35m \u001b[0m\u001b[35m     0.8781698346138     \u001b[0m\u001b[35m \u001b[0m│\n",
       "└───────────────────────────┴───────────────────────────┘\n"
      ]
     },
     "metadata": {},
     "output_type": "display_data"
    }
   ],
   "source": [
    "tuples = [(gru_Attention_2,None)]\n",
    "model, _ = train_model(num_labels=2,\n",
    "                hidden_dim=16,\n",
    "                max_leng=1026,\n",
    "                attn_ffn_tuples=tuples,\n",
    "                ffn_dim=32,\n",
    "                batch_size=64,\n",
    "                       lr = 1e-3,\n",
    "                num_repeat_modules=1,\n",
    "                train_data=imdb_train,\n",
    "                val_data=imdb_test.shuffle().select(range(6000)),\n",
    "                test_data=imdb_test.shuffle().select(range(6000,25000)),\n",
    "                max_epochs=3)"
   ]
  },
  {
   "cell_type": "code",
   "execution_count": 27,
   "metadata": {
    "colab": {
     "base_uri": "https://localhost:8080/",
     "height": 703,
     "referenced_widgets": [
      "91c949f83e4a4666b4d96639f6b7c46c",
      "5c918004a98240c3ae602d1b707b0dd0",
      "1d1b0e8e888547f9bff3e9949663d3b2",
      "b2b9ec80912441b4a0f3c43463f4b2ee",
      "c8fe4badc38a45f09f6bab32d243dda1",
      "9d398ed9e3d1483ca305977aeee1377a",
      "eeb14de701db4519ad705c832f8dfe94",
      "0d52d394820c47df9aacd60bbfbeadae",
      "c61e9480d1314e238983a52309a6ba44",
      "50e872e3924f4aa9a93a4deb51ca6752",
      "64e6dedefcd840c7ab0fffd24763a036",
      "a24525681030478a8a595b0aeff56dd0",
      "293d7b8ce8044af3a57ac6378e7166b7",
      "df25d90ae83c4e18b91fda227f500130",
      "a495456d1478427ca4005d05d9b2757e",
      "06e18898cdd1476fb308129498cfa350",
      "3a25e6480613466eab7c8167503b398b",
      "e722e65a5baf41d9b9667741c91f47c0",
      "0d277b362d2f49a295b18db5e31fec4a",
      "20b9bff848d34db4a809e9871de9840a",
      "677fce0dea404a138ff93da6d76046f5",
      "be86be7d2ed0469c8c332d5ff30fef33",
      "4f6c435c0f9c4c7da3da14bc041eb68b",
      "3b92b4666bd74989afc85055b2d412aa",
      "c65e4dd9396d43d5b3ac0d2ace5afea3",
      "4a34fef9e7054e93855db0f42e379a37",
      "35f3efedee8d4dcf9d1678ec231f4bf2",
      "d81e7facdfbf43229287035c32044a4a",
      "e5294fa9286642a2adb5a543474fecdf",
      "056a841709d2497b9faab73c829b9496",
      "71d508a2d13b4e058c12680d859a0103",
      "aa4cfb4417e041cdb5cf65901790d00e",
      "8f9319ad0f1347eabeef81e57f9e02a5",
      "db70749469c34e13a90b839e363c32b0",
      "7240391e3fc540f98b6da4c14f8464cd",
      "39a0ab45aaa64683a75352d70a24d067",
      "53c23a04ce534038b79a5eb97c92d335",
      "fd86fc0c321d46049b3da76ab0766743",
      "095d7c559ba94e34b217bd49a318c1f8",
      "565263f994204671a40127f2dbb25ff7",
      "ace23fd3833341ac8c05f91f5bd64ab6",
      "a17242292c8d415eacfea3623a58f2e5",
      "2f3c5cc99e394233a12b4406de6899c1",
      "039d1c4df4df472b8821350f8a3cccd9",
      "a5b31e31e230418fb8ca6bd58d10ccd1",
      "a123096d32b3485c87ba2f488b5bc22c",
      "2f1a197657114d8491608e4a1e6581e2",
      "5a9cdabf4e0b429bb25800cd72619560",
      "0b2c83bf835741ecae2f0b376779a332",
      "5e0360a08f6b4d23a737d77d0a66c685",
      "98be1c29b6ff4488b2c373545578b186",
      "35c32645f92841bc8af5f5285f2569cd",
      "3c8c42956d89426e9ed88a682a028e13",
      "50a673d2b4504f0d89d1ed465f52d2db",
      "22fee39770bb4da594014edac9d24bcd",
      "1e21a5976f214378babe39fbc69960a3",
      "6be1b40c1ed94d2d9e833261be14641a",
      "4533f0be24184767bd04a1d66e176d6a",
      "410a646732184f849c82f72bfca1cdd1",
      "3de05fb9a21d43749ca73b487d70227a",
      "ef5b09fc46ee4000be7318a310908814",
      "c373566b4e6c4c1d8eac2d74a5dc99e9",
      "a233d37c19114c6a8d619148467e56aa",
      "d7e58778414f41c1a89cca3125f86786",
      "3af17f50da964de798e91061008db3b6",
      "dced67a88a7e4dd69e8880bbe25aa585"
     ]
    },
    "collapsed": true,
    "id": "tvHEAcgGRCvq",
    "jupyter": {
     "outputs_hidden": true
    },
    "outputId": "aa742dac-3da6-44d1-f9f5-a45ec248b78a"
   },
   "outputs": [
    {
     "name": "stderr",
     "output_type": "stream",
     "text": [
      "INFO:pytorch_lightning.utilities.rank_zero:💡 Tip: For seamless cloud uploads and versioning, try installing [litmodels](https://pypi.org/project/litmodels/) to enable LitModelCheckpoint, which syncs automatically with the Lightning model registry.\n",
      "INFO:pytorch_lightning.utilities.rank_zero:GPU available: True (cuda), used: True\n",
      "INFO:pytorch_lightning.utilities.rank_zero:TPU available: False, using: 0 TPU cores\n",
      "INFO:pytorch_lightning.utilities.rank_zero:HPU available: False, using: 0 HPUs\n",
      "INFO:pytorch_lightning.accelerators.cuda:LOCAL_RANK: 0 - CUDA_VISIBLE_DEVICES: [0]\n",
      "INFO:pytorch_lightning.callbacks.model_summary:\n",
      "  | Name              | Type               | Params | Mode \n",
      "-----------------------------------------------------------------\n",
      "0 | model             | Model              | 509 K  | train\n",
      "1 | loss_fn           | CrossEntropyLoss   | 0      | train\n",
      "2 | train_accuracy    | MulticlassAccuracy | 0      | train\n",
      "3 | val_accuracy      | MulticlassAccuracy | 0      | train\n",
      "4 | train_f1          | MulticlassF1Score  | 0      | train\n",
      "5 | val_f1            | MulticlassF1Score  | 0      | train\n",
      "6 | test_accuracy     | MulticlassAccuracy | 0      | train\n",
      "7 | test_f1           | MulticlassF1Score  | 0      | train\n",
      "8 | test_f1_per_class | MulticlassF1Score  | 0      | train\n",
      "-----------------------------------------------------------------\n",
      "509 K     Trainable params\n",
      "0         Non-trainable params\n",
      "509 K     Total params\n",
      "2.038     Total estimated model params size (MB)\n",
      "50        Modules in train mode\n",
      "0         Modules in eval mode\n"
     ]
    },
    {
     "data": {
      "application/vnd.jupyter.widget-view+json": {
       "model_id": "91c949f83e4a4666b4d96639f6b7c46c",
       "version_major": 2,
       "version_minor": 0
      },
      "text/plain": [
       "Sanity Checking: |          | 0/? [00:00<?, ?it/s]"
      ]
     },
     "metadata": {},
     "output_type": "display_data"
    },
    {
     "data": {
      "application/vnd.jupyter.widget-view+json": {
       "model_id": "a24525681030478a8a595b0aeff56dd0",
       "version_major": 2,
       "version_minor": 0
      },
      "text/plain": [
       "Training: |          | 0/? [00:00<?, ?it/s]"
      ]
     },
     "metadata": {},
     "output_type": "display_data"
    },
    {
     "data": {
      "application/vnd.jupyter.widget-view+json": {
       "model_id": "4f6c435c0f9c4c7da3da14bc041eb68b",
       "version_major": 2,
       "version_minor": 0
      },
      "text/plain": [
       "Validation: |          | 0/? [00:00<?, ?it/s]"
      ]
     },
     "metadata": {},
     "output_type": "display_data"
    },
    {
     "data": {
      "application/vnd.jupyter.widget-view+json": {
       "model_id": "db70749469c34e13a90b839e363c32b0",
       "version_major": 2,
       "version_minor": 0
      },
      "text/plain": [
       "Validation: |          | 0/? [00:00<?, ?it/s]"
      ]
     },
     "metadata": {},
     "output_type": "display_data"
    },
    {
     "data": {
      "application/vnd.jupyter.widget-view+json": {
       "model_id": "a5b31e31e230418fb8ca6bd58d10ccd1",
       "version_major": 2,
       "version_minor": 0
      },
      "text/plain": [
       "Validation: |          | 0/? [00:00<?, ?it/s]"
      ]
     },
     "metadata": {},
     "output_type": "display_data"
    },
    {
     "name": "stderr",
     "output_type": "stream",
     "text": [
      "INFO:pytorch_lightning.utilities.rank_zero:`Trainer.fit` stopped: `max_epochs=3` reached.\n",
      "INFO:pytorch_lightning.accelerators.cuda:LOCAL_RANK: 0 - CUDA_VISIBLE_DEVICES: [0]\n"
     ]
    },
    {
     "data": {
      "application/vnd.jupyter.widget-view+json": {
       "model_id": "1e21a5976f214378babe39fbc69960a3",
       "version_major": 2,
       "version_minor": 0
      },
      "text/plain": [
       "Testing: |          | 0/? [00:00<?, ?it/s]"
      ]
     },
     "metadata": {},
     "output_type": "display_data"
    },
    {
     "data": {
      "text/html": [
       "<pre style=\"white-space:pre;overflow-x:auto;line-height:normal;font-family:Menlo,'DejaVu Sans Mono',consolas,'Courier New',monospace\">┏━━━━━━━━━━━━━━━━━━━━━━━━━━━┳━━━━━━━━━━━━━━━━━━━━━━━━━━━┓\n",
       "┃<span style=\"font-weight: bold\">        Test metric        </span>┃<span style=\"font-weight: bold\">       DataLoader 0        </span>┃\n",
       "┡━━━━━━━━━━━━━━━━━━━━━━━━━━━╇━━━━━━━━━━━━━━━━━━━━━━━━━━━┩\n",
       "│<span style=\"color: #008080; text-decoration-color: #008080\">      -- test_acc --       </span>│<span style=\"color: #800080; text-decoration-color: #800080\">    0.8085789680480957     </span>│\n",
       "│<span style=\"color: #008080; text-decoration-color: #008080\">       -- test_f1 --       </span>│<span style=\"color: #800080; text-decoration-color: #800080\">    0.8085789680480957     </span>│\n",
       "│<span style=\"color: #008080; text-decoration-color: #008080\">      -- test_loss --      </span>│<span style=\"color: #800080; text-decoration-color: #800080\">    0.4683125913143158     </span>│\n",
       "│<span style=\"color: #008080; text-decoration-color: #008080\">      test_f1_class_0      </span>│<span style=\"color: #800080; text-decoration-color: #800080\">    0.8176119327545166     </span>│\n",
       "│<span style=\"color: #008080; text-decoration-color: #008080\">      test_f1_class_1      </span>│<span style=\"color: #800080; text-decoration-color: #800080\">    0.7986045479774475     </span>│\n",
       "└───────────────────────────┴───────────────────────────┘\n",
       "</pre>\n"
      ],
      "text/plain": [
       "┏━━━━━━━━━━━━━━━━━━━━━━━━━━━┳━━━━━━━━━━━━━━━━━━━━━━━━━━━┓\n",
       "┃\u001b[1m \u001b[0m\u001b[1m       Test metric       \u001b[0m\u001b[1m \u001b[0m┃\u001b[1m \u001b[0m\u001b[1m      DataLoader 0       \u001b[0m\u001b[1m \u001b[0m┃\n",
       "┡━━━━━━━━━━━━━━━━━━━━━━━━━━━╇━━━━━━━━━━━━━━━━━━━━━━━━━━━┩\n",
       "│\u001b[36m \u001b[0m\u001b[36m     -- test_acc --      \u001b[0m\u001b[36m \u001b[0m│\u001b[35m \u001b[0m\u001b[35m   0.8085789680480957    \u001b[0m\u001b[35m \u001b[0m│\n",
       "│\u001b[36m \u001b[0m\u001b[36m      -- test_f1 --      \u001b[0m\u001b[36m \u001b[0m│\u001b[35m \u001b[0m\u001b[35m   0.8085789680480957    \u001b[0m\u001b[35m \u001b[0m│\n",
       "│\u001b[36m \u001b[0m\u001b[36m     -- test_loss --     \u001b[0m\u001b[36m \u001b[0m│\u001b[35m \u001b[0m\u001b[35m   0.4683125913143158    \u001b[0m\u001b[35m \u001b[0m│\n",
       "│\u001b[36m \u001b[0m\u001b[36m     test_f1_class_0     \u001b[0m\u001b[36m \u001b[0m│\u001b[35m \u001b[0m\u001b[35m   0.8176119327545166    \u001b[0m\u001b[35m \u001b[0m│\n",
       "│\u001b[36m \u001b[0m\u001b[36m     test_f1_class_1     \u001b[0m\u001b[36m \u001b[0m│\u001b[35m \u001b[0m\u001b[35m   0.7986045479774475    \u001b[0m\u001b[35m \u001b[0m│\n",
       "└───────────────────────────┴───────────────────────────┘\n"
      ]
     },
     "metadata": {},
     "output_type": "display_data"
    }
   ],
   "source": [
    "tuples = [(gru_Attention,None)]\n",
    "model, _ = train_model(num_labels=2,\n",
    "                hidden_dim=16,\n",
    "                max_leng=1026,\n",
    "                attn_ffn_tuples=tuples,\n",
    "                ffn_dim=32,\n",
    "                batch_size=64,\n",
    "                       lr = 1e-3,\n",
    "                num_repeat_modules=1,\n",
    "                train_data=imdb_train,\n",
    "                val_data=imdb_test.shuffle().select(range(6000)),\n",
    "                test_data=imdb_test.shuffle().select(range(6000,25000)),\n",
    "                max_epochs=3)"
   ]
  },
  {
   "cell_type": "code",
   "execution_count": 28,
   "metadata": {
    "colab": {
     "base_uri": "https://localhost:8080/",
     "height": 720,
     "referenced_widgets": [
      "4721fe2db7264a1dbf93bd9d93157be2",
      "3cb33d2047354d36ac9dc191ac7925ae",
      "982524d63e1a49d3b4c15ccc51fd1e94",
      "a7333eef360d4cd68688622051c6212c",
      "ae843ff471a04e5caa1e88903773316c",
      "c575448a932842babe33ba4d46a1ffbe",
      "4c6dff89f1d34f66b974877144b0c6af",
      "e7d9c3c6b15e4f8eb88129b6edc047bf",
      "8b7077d960e94653adad1f8b7cf055a0",
      "bcfa9a8db0d34d4fbed50a7481e6622e",
      "526df0836d3047c5820f8a6cb36f0661",
      "edc160dea683436eb7aaa81603218f86",
      "76fd5070b8fb4f3492e176d261004b3d",
      "6da2fc979fc54ca58da0ef5b19041943",
      "237e10c03cfb4d12a83ed8d7736f1db7",
      "3a7be0ebb4b14af7b471cb71dd20612b",
      "89db489ab4d34054b71f567b09f5ac83",
      "d964cf8a6b0c45d38ad3dc2a4f11c339",
      "60a038716d3748b491fb18555c519fb8",
      "a942ca98a86f4378b80ec29de2893b22",
      "6f875185067745908621e7d23ba3b5b4",
      "dac17a307e864ab5bb20fa3986e36e39",
      "9a01397d94494e46a9f7aca0c8f9f2b6",
      "cdfb1244a39b483bb617a57981c6c337",
      "2faa61e037c94cce85090dc4e13cc450",
      "2612ae90b5c145a2a776a2762feed3ab",
      "f8a2b0cc6daa4ab1a77384b0d1c33fbd",
      "521e53b107b941638643b293916a2169",
      "c76853b592404bc68ea00185b3402dfb",
      "1b9e39c5aa394185814836041883cf30",
      "fb72bd163c9d49a28efe95526c0a8bcc",
      "720ad189aa5e48bca64435f3936bb572",
      "d34b7c637f7e43f79eb8ccef195690e6",
      "06b82815818140cfb77491035451d2cd",
      "22c8b5aa63974f10b91562e523e82d74",
      "bd568ad8fb7b4579aaec4722524c752d",
      "6247a459681e47479dbe66df2eb0b8a3",
      "5f0964d0b932410293e4994285e75ab0",
      "e3e513e227bf4be98cfc319c4c4f28f2",
      "fd6f704c64934eea8d2f114ed280b597",
      "672b3f80c6da4e3e90fa0c9d193c9865",
      "a66f22ef086d42a49577e2a2ddf786d3",
      "16b0c22ee6284fc4a9993742414f62c3",
      "7a266d2c64b249b8bb254b9902ab0a34",
      "523d22773672400691cc18f2def18281",
      "04a517dcd7cb4e9dbc695489755bdb09",
      "a5b0def0a8aa49c5b30adc470f444005",
      "17759ab79cd245de87b3fbe3c4a57710",
      "1cb08fa2349c457287633e22320ddac3",
      "2f3b0e5299ce46cba31522a34fe1854e",
      "585ac7fdfd6a41e2a624a96c57eb69a7",
      "75fc280648424df79c44ab72df63ac15",
      "d92451a739dc4b78b319f85d1568dbec",
      "80f2fb5351864dad88ba34d2a9316d40",
      "53707f2771af4523a7ce88549ab6a153",
      "22e1a86edc5d44419982eaffaafe6435",
      "d4fd546022be48018eeed3cbbbd92a41",
      "7880a236574d4fba9e8787e4ac80f240",
      "36dc06c748234149b6bccfeb5f93b2f9",
      "413c935579524244b50d19ca2a000973",
      "9725dc1d965c4dacb437b29a91417d15",
      "82a39cbdb056491a86f9e151f65f85eb",
      "fed588c2ef224855bfcb440bda538fd4",
      "363cb9d434dc4660aa3ef395281da0e0",
      "b0ee199ca1d3441186320dfd319906a7",
      "1a97455db28b470eb7f14d17b6f9604b"
     ]
    },
    "collapsed": true,
    "id": "XV8hAnxKRqhX",
    "jupyter": {
     "outputs_hidden": true
    },
    "outputId": "028a6b41-a0a9-4e4a-f219-1f7896a9fe96"
   },
   "outputs": [
    {
     "name": "stderr",
     "output_type": "stream",
     "text": [
      "INFO:pytorch_lightning.utilities.rank_zero:💡 Tip: For seamless cloud uploads and versioning, try installing [litmodels](https://pypi.org/project/litmodels/) to enable LitModelCheckpoint, which syncs automatically with the Lightning model registry.\n",
      "INFO:pytorch_lightning.utilities.rank_zero:GPU available: True (cuda), used: True\n",
      "INFO:pytorch_lightning.utilities.rank_zero:TPU available: False, using: 0 TPU cores\n",
      "INFO:pytorch_lightning.utilities.rank_zero:HPU available: False, using: 0 HPUs\n",
      "/usr/local/lib/python3.12/dist-packages/pytorch_lightning/callbacks/model_checkpoint.py:751: Checkpoint directory /content/checkpoints exists and is not empty.\n",
      "INFO:pytorch_lightning.accelerators.cuda:LOCAL_RANK: 0 - CUDA_VISIBLE_DEVICES: [0]\n",
      "INFO:pytorch_lightning.callbacks.model_summary:\n",
      "  | Name              | Type               | Params | Mode \n",
      "-----------------------------------------------------------------\n",
      "0 | model             | Model              | 508 K  | train\n",
      "1 | loss_fn           | CrossEntropyLoss   | 0      | train\n",
      "2 | train_accuracy    | MulticlassAccuracy | 0      | train\n",
      "3 | val_accuracy      | MulticlassAccuracy | 0      | train\n",
      "4 | train_f1          | MulticlassF1Score  | 0      | train\n",
      "5 | val_f1            | MulticlassF1Score  | 0      | train\n",
      "6 | test_accuracy     | MulticlassAccuracy | 0      | train\n",
      "7 | test_f1           | MulticlassF1Score  | 0      | train\n",
      "8 | test_f1_per_class | MulticlassF1Score  | 0      | train\n",
      "-----------------------------------------------------------------\n",
      "508 K     Trainable params\n",
      "0         Non-trainable params\n",
      "508 K     Total params\n",
      "2.034     Total estimated model params size (MB)\n",
      "50        Modules in train mode\n",
      "0         Modules in eval mode\n"
     ]
    },
    {
     "data": {
      "application/vnd.jupyter.widget-view+json": {
       "model_id": "4721fe2db7264a1dbf93bd9d93157be2",
       "version_major": 2,
       "version_minor": 0
      },
      "text/plain": [
       "Sanity Checking: |          | 0/? [00:00<?, ?it/s]"
      ]
     },
     "metadata": {},
     "output_type": "display_data"
    },
    {
     "data": {
      "application/vnd.jupyter.widget-view+json": {
       "model_id": "edc160dea683436eb7aaa81603218f86",
       "version_major": 2,
       "version_minor": 0
      },
      "text/plain": [
       "Training: |          | 0/? [00:00<?, ?it/s]"
      ]
     },
     "metadata": {},
     "output_type": "display_data"
    },
    {
     "data": {
      "application/vnd.jupyter.widget-view+json": {
       "model_id": "9a01397d94494e46a9f7aca0c8f9f2b6",
       "version_major": 2,
       "version_minor": 0
      },
      "text/plain": [
       "Validation: |          | 0/? [00:00<?, ?it/s]"
      ]
     },
     "metadata": {},
     "output_type": "display_data"
    },
    {
     "data": {
      "application/vnd.jupyter.widget-view+json": {
       "model_id": "06b82815818140cfb77491035451d2cd",
       "version_major": 2,
       "version_minor": 0
      },
      "text/plain": [
       "Validation: |          | 0/? [00:00<?, ?it/s]"
      ]
     },
     "metadata": {},
     "output_type": "display_data"
    },
    {
     "data": {
      "application/vnd.jupyter.widget-view+json": {
       "model_id": "523d22773672400691cc18f2def18281",
       "version_major": 2,
       "version_minor": 0
      },
      "text/plain": [
       "Validation: |          | 0/? [00:00<?, ?it/s]"
      ]
     },
     "metadata": {},
     "output_type": "display_data"
    },
    {
     "name": "stderr",
     "output_type": "stream",
     "text": [
      "INFO:pytorch_lightning.utilities.rank_zero:`Trainer.fit` stopped: `max_epochs=3` reached.\n",
      "INFO:pytorch_lightning.accelerators.cuda:LOCAL_RANK: 0 - CUDA_VISIBLE_DEVICES: [0]\n"
     ]
    },
    {
     "data": {
      "application/vnd.jupyter.widget-view+json": {
       "model_id": "22e1a86edc5d44419982eaffaafe6435",
       "version_major": 2,
       "version_minor": 0
      },
      "text/plain": [
       "Testing: |          | 0/? [00:00<?, ?it/s]"
      ]
     },
     "metadata": {},
     "output_type": "display_data"
    },
    {
     "data": {
      "text/html": [
       "<pre style=\"white-space:pre;overflow-x:auto;line-height:normal;font-family:Menlo,'DejaVu Sans Mono',consolas,'Courier New',monospace\">┏━━━━━━━━━━━━━━━━━━━━━━━━━━━┳━━━━━━━━━━━━━━━━━━━━━━━━━━━┓\n",
       "┃<span style=\"font-weight: bold\">        Test metric        </span>┃<span style=\"font-weight: bold\">       DataLoader 0        </span>┃\n",
       "┡━━━━━━━━━━━━━━━━━━━━━━━━━━━╇━━━━━━━━━━━━━━━━━━━━━━━━━━━┩\n",
       "│<span style=\"color: #008080; text-decoration-color: #008080\">      -- test_acc --       </span>│<span style=\"color: #800080; text-decoration-color: #800080\">    0.8901052474975586     </span>│\n",
       "│<span style=\"color: #008080; text-decoration-color: #008080\">       -- test_f1 --       </span>│<span style=\"color: #800080; text-decoration-color: #800080\">    0.8901052474975586     </span>│\n",
       "│<span style=\"color: #008080; text-decoration-color: #008080\">      -- test_loss --      </span>│<span style=\"color: #800080; text-decoration-color: #800080\">    0.2745797634124756     </span>│\n",
       "│<span style=\"color: #008080; text-decoration-color: #008080\">      test_f1_class_0      </span>│<span style=\"color: #800080; text-decoration-color: #800080\">    0.8903591632843018     </span>│\n",
       "│<span style=\"color: #008080; text-decoration-color: #008080\">      test_f1_class_1      </span>│<span style=\"color: #800080; text-decoration-color: #800080\">    0.8898501992225647     </span>│\n",
       "└───────────────────────────┴───────────────────────────┘\n",
       "</pre>\n"
      ],
      "text/plain": [
       "┏━━━━━━━━━━━━━━━━━━━━━━━━━━━┳━━━━━━━━━━━━━━━━━━━━━━━━━━━┓\n",
       "┃\u001b[1m \u001b[0m\u001b[1m       Test metric       \u001b[0m\u001b[1m \u001b[0m┃\u001b[1m \u001b[0m\u001b[1m      DataLoader 0       \u001b[0m\u001b[1m \u001b[0m┃\n",
       "┡━━━━━━━━━━━━━━━━━━━━━━━━━━━╇━━━━━━━━━━━━━━━━━━━━━━━━━━━┩\n",
       "│\u001b[36m \u001b[0m\u001b[36m     -- test_acc --      \u001b[0m\u001b[36m \u001b[0m│\u001b[35m \u001b[0m\u001b[35m   0.8901052474975586    \u001b[0m\u001b[35m \u001b[0m│\n",
       "│\u001b[36m \u001b[0m\u001b[36m      -- test_f1 --      \u001b[0m\u001b[36m \u001b[0m│\u001b[35m \u001b[0m\u001b[35m   0.8901052474975586    \u001b[0m\u001b[35m \u001b[0m│\n",
       "│\u001b[36m \u001b[0m\u001b[36m     -- test_loss --     \u001b[0m\u001b[36m \u001b[0m│\u001b[35m \u001b[0m\u001b[35m   0.2745797634124756    \u001b[0m\u001b[35m \u001b[0m│\n",
       "│\u001b[36m \u001b[0m\u001b[36m     test_f1_class_0     \u001b[0m\u001b[36m \u001b[0m│\u001b[35m \u001b[0m\u001b[35m   0.8903591632843018    \u001b[0m\u001b[35m \u001b[0m│\n",
       "│\u001b[36m \u001b[0m\u001b[36m     test_f1_class_1     \u001b[0m\u001b[36m \u001b[0m│\u001b[35m \u001b[0m\u001b[35m   0.8898501992225647    \u001b[0m\u001b[35m \u001b[0m│\n",
       "└───────────────────────────┴───────────────────────────┘\n"
      ]
     },
     "metadata": {},
     "output_type": "display_data"
    }
   ],
   "source": [
    "tuples = [(conv_Attention,None)]\n",
    "model, _ = train_model(num_labels=2,\n",
    "                hidden_dim=16,\n",
    "                max_leng=1026,\n",
    "                attn_ffn_tuples=tuples,\n",
    "                ffn_dim=32,\n",
    "                batch_size=64,\n",
    "                       lr = 1e-3,\n",
    "                num_repeat_modules=1,\n",
    "                train_data=imdb_train,\n",
    "                val_data=imdb_test.shuffle().select(range(6000)),\n",
    "                test_data=imdb_test.shuffle().select(range(6000,25000)),\n",
    "                max_epochs=3)"
   ]
  }
 ],
 "metadata": {
  "cells": [],
  "kernelspec": {
   "display_name": "",
   "name": ""
  },
  "language_info": {
   "name": ""
  },
  "metadata": {
   "kernelspec": {
    "display_name": "Python 3",
    "language": "python",
    "name": "python3"
   },
   "language_info": {
    "name": "python",
    "version": "3.10.12"
   }
  },
  "nbformat": 4,
  "nbformat_minor": 5
 },
 "nbformat": 4,
 "nbformat_minor": 4
}
