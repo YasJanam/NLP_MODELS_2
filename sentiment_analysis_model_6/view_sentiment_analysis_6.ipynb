{
 "cells": [
  {
   "cell_type": "code",
   "execution_count": null,
   "metadata": {
    "colab": {
     "base_uri": "https://localhost:8080/"
    },
    "id": "qXdL4Q0OYiUm",
    "outputId": "deb4f976-0ede-47e3-ffb9-1185be6c34ef"
   },
   "outputs": [],
   "source": [
    "!pip install pytorch_lightning  seqeval evaluate"
   ]
  },
  {
   "cell_type": "code",
   "execution_count": null,
   "metadata": {
    "id": "vrq_gmU8X1b7"
   },
   "outputs": [],
   "source": [
    "import torch\n",
    "import torch.nn as nn\n",
    "import torch.nn.functional as F\n",
    "import math\n",
    "from torch.utils.data import Dataset, DataLoader\n",
    "import pytorch_lightning as pl\n",
    "from torch.nn.utils.rnn import pad_sequence\n",
    "from sklearn.metrics import f1_score\n",
    "from datasets import load_dataset, Dataset, concatenate_datasets\n",
    "from evaluate import load as load_metric\n",
    "from transformers import AutoTokenizer\n",
    "from pytorch_lightning.callbacks import EarlyStopping\n",
    "import random\n",
    "import pandas as pd\n",
    "\n",
    "device = \"cuda\" if torch.cuda.is_available() else \"cpu\""
   ]
  },
  {
   "cell_type": "code",
   "execution_count": null,
   "metadata": {
    "collapsed": true,
    "id": "IFxh5EsPCTXQ",
    "jupyter": {
     "outputs_hidden": true
    }
   },
   "outputs": [],
   "source": [
    "#dataset = load_dataset(\"sst2\")\n",
    "#dataset.remove_columns(['idx']) # This dataset does not have an 'id' column"
   ]
  },
  {
   "cell_type": "markdown",
   "metadata": {
    "id": "Nf1sctB_-b9p"
   },
   "source": [
    "#### **Dataset**"
   ]
  },
  {
   "cell_type": "markdown",
   "metadata": {
    "id": "uqeKDpZ0CRPv"
   },
   "source": [
    "دیتاست استفاده شده یک دیتاست 20 کلاسه هستش که فایل های دیتاست رو روی سیستم داشتم"
   ]
  },
  {
   "cell_type": "code",
   "execution_count": null,
   "metadata": {
    "colab": {
     "base_uri": "https://localhost:8080/",
     "height": 269,
     "referenced_widgets": [
      "1740cb0cabd14776922cfb18d8ea89c3",
      "a334628ead304b4f9424792c55ae10a8",
      "8c0b76c559c4412cba5f43b5332885bf",
      "39876553163a4418bd600582d1f806c3",
      "3564f0afe6ff4230ba205d5718660e8d",
      "5900344b260e4f21bbb43cc98312d35c",
      "cca64d53fa634ea59a89a00cc3c5376a",
      "51a9e01c656e46e7bff0b91cc515029e",
      "05b71e035b9741dbaa9d48ba410843b6",
      "8a85a135e7194e348754b7479b0c958f",
      "49aabc0eafab4f309c82ee77be1d11b2",
      "a924ea0bed474213b15a39abd6f7a8d7",
      "452c50696ac14a85b6824a0156f6602c",
      "7b644675fb1a4f3c97d3afe1778e7eb4",
      "10203e31806f4851bcb8e6f6bbfbac0b",
      "40dba56e1a954a738e97f82a8a76308f",
      "07f81dcfed7b4e528c144bc697734b29",
      "216e4feadc094568b24cc1a666d09005",
      "f7fa3559a8434f779a86495870414a1e",
      "1a5a15f5254540b4ab30dd63033e24ab",
      "23d5f184de9e43b6b32100f067a26066",
      "dc8a460b23bc4ed395760fd7282b3572",
      "e689826f6ad64f149d3142a13ed94565",
      "b6fe8ba41c964a688377bb89f1a68243",
      "ceb0d7466af740658de3cd5328fa308b",
      "29e5dc5acebc421c8aaed0b8fe814586",
      "819fccaf8ac34916b97513dc28fd6ad0",
      "5582187216704753a06720e7424afc0a",
      "c19c3e9c261a489dbdba4625739901b2",
      "b1586ef919bd4cc6b9aca7e2ec8c4d9d",
      "648e1f20d67a465f9ed4a5d67a51e37f",
      "c7fabc4b02b341c3aceba7c5a5d8a44f",
      "da0aff14cf4c44b4827abf9c7c9abcf8",
      "2e16b2d871d342409c419d7ace5a44a6",
      "831391728c4741c19af80f1bad7d3d0a",
      "5107f770e3d345288b0bd4d1957a978f",
      "0102e5f699b648baa1ddb1eccc445311",
      "74d00bbfc00b42ceb9310ad5b61f9dcf",
      "705e4565f9d04ddf9b01aee0898f4846",
      "5489e0e30245498f83b46090921d599f",
      "0878c24e092a422c8374b80deddd5cbc",
      "5ba740536a874150b634d9a27b4a4f9e",
      "b5a1655df2d44df8b6471970e4c2cf64",
      "b6eb94e9f154440c9fc8262e6ac3adf8"
     ]
    },
    "id": "2AVwfjR78YJR",
    "outputId": "4fad139b-56ae-498a-90ad-85fe887d4214"
   },
   "outputs": [
    {
     "name": "stderr",
     "output_type": "stream",
     "text": [
      "/usr/local/lib/python3.12/dist-packages/huggingface_hub/utils/_auth.py:94: UserWarning: \n",
      "The secret `HF_TOKEN` does not exist in your Colab secrets.\n",
      "To authenticate with the Hugging Face Hub, create a token in your settings tab (https://huggingface.co/settings/tokens), set it as secret in your Google Colab and restart your session.\n",
      "You will be able to reuse this secret in all of your notebooks.\n",
      "Please note that authentication is recommended but still optional to access public models or datasets.\n",
      "  warnings.warn(\n"
     ]
    },
    {
     "data": {
      "application/vnd.jupyter.widget-view+json": {
       "model_id": "1740cb0cabd14776922cfb18d8ea89c3",
       "version_major": 2,
       "version_minor": 0
      },
      "text/plain": [
       "tokenizer_config.json:   0%|          | 0.00/48.0 [00:00<?, ?B/s]"
      ]
     },
     "metadata": {},
     "output_type": "display_data"
    },
    {
     "data": {
      "application/vnd.jupyter.widget-view+json": {
       "model_id": "a924ea0bed474213b15a39abd6f7a8d7",
       "version_major": 2,
       "version_minor": 0
      },
      "text/plain": [
       "config.json:   0%|          | 0.00/570 [00:00<?, ?B/s]"
      ]
     },
     "metadata": {},
     "output_type": "display_data"
    },
    {
     "data": {
      "application/vnd.jupyter.widget-view+json": {
       "model_id": "e689826f6ad64f149d3142a13ed94565",
       "version_major": 2,
       "version_minor": 0
      },
      "text/plain": [
       "vocab.txt:   0%|          | 0.00/232k [00:00<?, ?B/s]"
      ]
     },
     "metadata": {},
     "output_type": "display_data"
    },
    {
     "data": {
      "application/vnd.jupyter.widget-view+json": {
       "model_id": "2e16b2d871d342409c419d7ace5a44a6",
       "version_major": 2,
       "version_minor": 0
      },
      "text/plain": [
       "tokenizer.json:   0%|          | 0.00/466k [00:00<?, ?B/s]"
      ]
     },
     "metadata": {},
     "output_type": "display_data"
    }
   ],
   "source": [
    "from google.colab import files\n",
    "\n",
    "def upload_dataset_from_system():\n",
    "  uploaded = files.upload()\n",
    "  data = pd.read_parquet(list(uploaded.keys())[0])\n",
    "  dataset = Dataset.from_pandas(data)\n",
    "  return dataset\n",
    "\n",
    "# --- return dataset classes ---\n",
    "def dataset_classes(dataset):\n",
    "  sett = []\n",
    "  for item in dataset:\n",
    "    sett.append(item['label'])\n",
    "  print(f\"classes :{set(sett)}\")\n",
    "  return {\"num_classes\":len(set(sett))}\n",
    "\n",
    "# --- tokenizer ---\n",
    "tokenizer = AutoTokenizer.from_pretrained(\"bert-base-uncased\")\n",
    "VOCAB_SIZE = tokenizer.vocab_size"
   ]
  },
  {
   "cell_type": "code",
   "execution_count": null,
   "metadata": {
    "colab": {
     "base_uri": "https://localhost:8080/",
     "height": 184
    },
    "id": "u8891y_p8aKw",
    "outputId": "7002944d-cfd1-4f93-e343-a850c0949f9f"
   },
   "outputs": [
    {
     "data": {
      "text/html": [
       "\n",
       "     <input type=\"file\" id=\"files-7483ed36-867a-4e42-911b-e6696e31e79c\" name=\"files[]\" multiple disabled\n",
       "        style=\"border:none\" />\n",
       "     <output id=\"result-7483ed36-867a-4e42-911b-e6696e31e79c\">\n",
       "      Upload widget is only available when the cell has been executed in the\n",
       "      current browser session. Please rerun this cell to enable.\n",
       "      </output>\n",
       "      <script>// Copyright 2017 Google LLC\n",
       "//\n",
       "// Licensed under the Apache License, Version 2.0 (the \"License\");\n",
       "// you may not use this file except in compliance with the License.\n",
       "// You may obtain a copy of the License at\n",
       "//\n",
       "//      http://www.apache.org/licenses/LICENSE-2.0\n",
       "//\n",
       "// Unless required by applicable law or agreed to in writing, software\n",
       "// distributed under the License is distributed on an \"AS IS\" BASIS,\n",
       "// WITHOUT WARRANTIES OR CONDITIONS OF ANY KIND, either express or implied.\n",
       "// See the License for the specific language governing permissions and\n",
       "// limitations under the License.\n",
       "\n",
       "/**\n",
       " * @fileoverview Helpers for google.colab Python module.\n",
       " */\n",
       "(function(scope) {\n",
       "function span(text, styleAttributes = {}) {\n",
       "  const element = document.createElement('span');\n",
       "  element.textContent = text;\n",
       "  for (const key of Object.keys(styleAttributes)) {\n",
       "    element.style[key] = styleAttributes[key];\n",
       "  }\n",
       "  return element;\n",
       "}\n",
       "\n",
       "// Max number of bytes which will be uploaded at a time.\n",
       "const MAX_PAYLOAD_SIZE = 100 * 1024;\n",
       "\n",
       "function _uploadFiles(inputId, outputId) {\n",
       "  const steps = uploadFilesStep(inputId, outputId);\n",
       "  const outputElement = document.getElementById(outputId);\n",
       "  // Cache steps on the outputElement to make it available for the next call\n",
       "  // to uploadFilesContinue from Python.\n",
       "  outputElement.steps = steps;\n",
       "\n",
       "  return _uploadFilesContinue(outputId);\n",
       "}\n",
       "\n",
       "// This is roughly an async generator (not supported in the browser yet),\n",
       "// where there are multiple asynchronous steps and the Python side is going\n",
       "// to poll for completion of each step.\n",
       "// This uses a Promise to block the python side on completion of each step,\n",
       "// then passes the result of the previous step as the input to the next step.\n",
       "function _uploadFilesContinue(outputId) {\n",
       "  const outputElement = document.getElementById(outputId);\n",
       "  const steps = outputElement.steps;\n",
       "\n",
       "  const next = steps.next(outputElement.lastPromiseValue);\n",
       "  return Promise.resolve(next.value.promise).then((value) => {\n",
       "    // Cache the last promise value to make it available to the next\n",
       "    // step of the generator.\n",
       "    outputElement.lastPromiseValue = value;\n",
       "    return next.value.response;\n",
       "  });\n",
       "}\n",
       "\n",
       "/**\n",
       " * Generator function which is called between each async step of the upload\n",
       " * process.\n",
       " * @param {string} inputId Element ID of the input file picker element.\n",
       " * @param {string} outputId Element ID of the output display.\n",
       " * @return {!Iterable<!Object>} Iterable of next steps.\n",
       " */\n",
       "function* uploadFilesStep(inputId, outputId) {\n",
       "  const inputElement = document.getElementById(inputId);\n",
       "  inputElement.disabled = false;\n",
       "\n",
       "  const outputElement = document.getElementById(outputId);\n",
       "  outputElement.innerHTML = '';\n",
       "\n",
       "  const pickedPromise = new Promise((resolve) => {\n",
       "    inputElement.addEventListener('change', (e) => {\n",
       "      resolve(e.target.files);\n",
       "    });\n",
       "  });\n",
       "\n",
       "  const cancel = document.createElement('button');\n",
       "  inputElement.parentElement.appendChild(cancel);\n",
       "  cancel.textContent = 'Cancel upload';\n",
       "  const cancelPromise = new Promise((resolve) => {\n",
       "    cancel.onclick = () => {\n",
       "      resolve(null);\n",
       "    };\n",
       "  });\n",
       "\n",
       "  // Wait for the user to pick the files.\n",
       "  const files = yield {\n",
       "    promise: Promise.race([pickedPromise, cancelPromise]),\n",
       "    response: {\n",
       "      action: 'starting',\n",
       "    }\n",
       "  };\n",
       "\n",
       "  cancel.remove();\n",
       "\n",
       "  // Disable the input element since further picks are not allowed.\n",
       "  inputElement.disabled = true;\n",
       "\n",
       "  if (!files) {\n",
       "    return {\n",
       "      response: {\n",
       "        action: 'complete',\n",
       "      }\n",
       "    };\n",
       "  }\n",
       "\n",
       "  for (const file of files) {\n",
       "    const li = document.createElement('li');\n",
       "    li.append(span(file.name, {fontWeight: 'bold'}));\n",
       "    li.append(span(\n",
       "        `(${file.type || 'n/a'}) - ${file.size} bytes, ` +\n",
       "        `last modified: ${\n",
       "            file.lastModifiedDate ? file.lastModifiedDate.toLocaleDateString() :\n",
       "                                    'n/a'} - `));\n",
       "    const percent = span('0% done');\n",
       "    li.appendChild(percent);\n",
       "\n",
       "    outputElement.appendChild(li);\n",
       "\n",
       "    const fileDataPromise = new Promise((resolve) => {\n",
       "      const reader = new FileReader();\n",
       "      reader.onload = (e) => {\n",
       "        resolve(e.target.result);\n",
       "      };\n",
       "      reader.readAsArrayBuffer(file);\n",
       "    });\n",
       "    // Wait for the data to be ready.\n",
       "    let fileData = yield {\n",
       "      promise: fileDataPromise,\n",
       "      response: {\n",
       "        action: 'continue',\n",
       "      }\n",
       "    };\n",
       "\n",
       "    // Use a chunked sending to avoid message size limits. See b/62115660.\n",
       "    let position = 0;\n",
       "    do {\n",
       "      const length = Math.min(fileData.byteLength - position, MAX_PAYLOAD_SIZE);\n",
       "      const chunk = new Uint8Array(fileData, position, length);\n",
       "      position += length;\n",
       "\n",
       "      const base64 = btoa(String.fromCharCode.apply(null, chunk));\n",
       "      yield {\n",
       "        response: {\n",
       "          action: 'append',\n",
       "          file: file.name,\n",
       "          data: base64,\n",
       "        },\n",
       "      };\n",
       "\n",
       "      let percentDone = fileData.byteLength === 0 ?\n",
       "          100 :\n",
       "          Math.round((position / fileData.byteLength) * 100);\n",
       "      percent.textContent = `${percentDone}% done`;\n",
       "\n",
       "    } while (position < fileData.byteLength);\n",
       "  }\n",
       "\n",
       "  // All done.\n",
       "  yield {\n",
       "    response: {\n",
       "      action: 'complete',\n",
       "    }\n",
       "  };\n",
       "}\n",
       "\n",
       "scope.google = scope.google || {};\n",
       "scope.google.colab = scope.google.colab || {};\n",
       "scope.google.colab._files = {\n",
       "  _uploadFiles,\n",
       "  _uploadFilesContinue,\n",
       "};\n",
       "})(self);\n",
       "</script> "
      ],
      "text/plain": [
       "<IPython.core.display.HTML object>"
      ]
     },
     "metadata": {},
     "output_type": "display_data"
    },
    {
     "name": "stdout",
     "output_type": "stream",
     "text": [
      "Saving train-00000-of-00001.parquet to train-00000-of-00001.parquet\n"
     ]
    },
    {
     "data": {
      "text/html": [
       "\n",
       "     <input type=\"file\" id=\"files-b54f4fb9-f251-4278-b352-cc289c6b0ba4\" name=\"files[]\" multiple disabled\n",
       "        style=\"border:none\" />\n",
       "     <output id=\"result-b54f4fb9-f251-4278-b352-cc289c6b0ba4\">\n",
       "      Upload widget is only available when the cell has been executed in the\n",
       "      current browser session. Please rerun this cell to enable.\n",
       "      </output>\n",
       "      <script>// Copyright 2017 Google LLC\n",
       "//\n",
       "// Licensed under the Apache License, Version 2.0 (the \"License\");\n",
       "// you may not use this file except in compliance with the License.\n",
       "// You may obtain a copy of the License at\n",
       "//\n",
       "//      http://www.apache.org/licenses/LICENSE-2.0\n",
       "//\n",
       "// Unless required by applicable law or agreed to in writing, software\n",
       "// distributed under the License is distributed on an \"AS IS\" BASIS,\n",
       "// WITHOUT WARRANTIES OR CONDITIONS OF ANY KIND, either express or implied.\n",
       "// See the License for the specific language governing permissions and\n",
       "// limitations under the License.\n",
       "\n",
       "/**\n",
       " * @fileoverview Helpers for google.colab Python module.\n",
       " */\n",
       "(function(scope) {\n",
       "function span(text, styleAttributes = {}) {\n",
       "  const element = document.createElement('span');\n",
       "  element.textContent = text;\n",
       "  for (const key of Object.keys(styleAttributes)) {\n",
       "    element.style[key] = styleAttributes[key];\n",
       "  }\n",
       "  return element;\n",
       "}\n",
       "\n",
       "// Max number of bytes which will be uploaded at a time.\n",
       "const MAX_PAYLOAD_SIZE = 100 * 1024;\n",
       "\n",
       "function _uploadFiles(inputId, outputId) {\n",
       "  const steps = uploadFilesStep(inputId, outputId);\n",
       "  const outputElement = document.getElementById(outputId);\n",
       "  // Cache steps on the outputElement to make it available for the next call\n",
       "  // to uploadFilesContinue from Python.\n",
       "  outputElement.steps = steps;\n",
       "\n",
       "  return _uploadFilesContinue(outputId);\n",
       "}\n",
       "\n",
       "// This is roughly an async generator (not supported in the browser yet),\n",
       "// where there are multiple asynchronous steps and the Python side is going\n",
       "// to poll for completion of each step.\n",
       "// This uses a Promise to block the python side on completion of each step,\n",
       "// then passes the result of the previous step as the input to the next step.\n",
       "function _uploadFilesContinue(outputId) {\n",
       "  const outputElement = document.getElementById(outputId);\n",
       "  const steps = outputElement.steps;\n",
       "\n",
       "  const next = steps.next(outputElement.lastPromiseValue);\n",
       "  return Promise.resolve(next.value.promise).then((value) => {\n",
       "    // Cache the last promise value to make it available to the next\n",
       "    // step of the generator.\n",
       "    outputElement.lastPromiseValue = value;\n",
       "    return next.value.response;\n",
       "  });\n",
       "}\n",
       "\n",
       "/**\n",
       " * Generator function which is called between each async step of the upload\n",
       " * process.\n",
       " * @param {string} inputId Element ID of the input file picker element.\n",
       " * @param {string} outputId Element ID of the output display.\n",
       " * @return {!Iterable<!Object>} Iterable of next steps.\n",
       " */\n",
       "function* uploadFilesStep(inputId, outputId) {\n",
       "  const inputElement = document.getElementById(inputId);\n",
       "  inputElement.disabled = false;\n",
       "\n",
       "  const outputElement = document.getElementById(outputId);\n",
       "  outputElement.innerHTML = '';\n",
       "\n",
       "  const pickedPromise = new Promise((resolve) => {\n",
       "    inputElement.addEventListener('change', (e) => {\n",
       "      resolve(e.target.files);\n",
       "    });\n",
       "  });\n",
       "\n",
       "  const cancel = document.createElement('button');\n",
       "  inputElement.parentElement.appendChild(cancel);\n",
       "  cancel.textContent = 'Cancel upload';\n",
       "  const cancelPromise = new Promise((resolve) => {\n",
       "    cancel.onclick = () => {\n",
       "      resolve(null);\n",
       "    };\n",
       "  });\n",
       "\n",
       "  // Wait for the user to pick the files.\n",
       "  const files = yield {\n",
       "    promise: Promise.race([pickedPromise, cancelPromise]),\n",
       "    response: {\n",
       "      action: 'starting',\n",
       "    }\n",
       "  };\n",
       "\n",
       "  cancel.remove();\n",
       "\n",
       "  // Disable the input element since further picks are not allowed.\n",
       "  inputElement.disabled = true;\n",
       "\n",
       "  if (!files) {\n",
       "    return {\n",
       "      response: {\n",
       "        action: 'complete',\n",
       "      }\n",
       "    };\n",
       "  }\n",
       "\n",
       "  for (const file of files) {\n",
       "    const li = document.createElement('li');\n",
       "    li.append(span(file.name, {fontWeight: 'bold'}));\n",
       "    li.append(span(\n",
       "        `(${file.type || 'n/a'}) - ${file.size} bytes, ` +\n",
       "        `last modified: ${\n",
       "            file.lastModifiedDate ? file.lastModifiedDate.toLocaleDateString() :\n",
       "                                    'n/a'} - `));\n",
       "    const percent = span('0% done');\n",
       "    li.appendChild(percent);\n",
       "\n",
       "    outputElement.appendChild(li);\n",
       "\n",
       "    const fileDataPromise = new Promise((resolve) => {\n",
       "      const reader = new FileReader();\n",
       "      reader.onload = (e) => {\n",
       "        resolve(e.target.result);\n",
       "      };\n",
       "      reader.readAsArrayBuffer(file);\n",
       "    });\n",
       "    // Wait for the data to be ready.\n",
       "    let fileData = yield {\n",
       "      promise: fileDataPromise,\n",
       "      response: {\n",
       "        action: 'continue',\n",
       "      }\n",
       "    };\n",
       "\n",
       "    // Use a chunked sending to avoid message size limits. See b/62115660.\n",
       "    let position = 0;\n",
       "    do {\n",
       "      const length = Math.min(fileData.byteLength - position, MAX_PAYLOAD_SIZE);\n",
       "      const chunk = new Uint8Array(fileData, position, length);\n",
       "      position += length;\n",
       "\n",
       "      const base64 = btoa(String.fromCharCode.apply(null, chunk));\n",
       "      yield {\n",
       "        response: {\n",
       "          action: 'append',\n",
       "          file: file.name,\n",
       "          data: base64,\n",
       "        },\n",
       "      };\n",
       "\n",
       "      let percentDone = fileData.byteLength === 0 ?\n",
       "          100 :\n",
       "          Math.round((position / fileData.byteLength) * 100);\n",
       "      percent.textContent = `${percentDone}% done`;\n",
       "\n",
       "    } while (position < fileData.byteLength);\n",
       "  }\n",
       "\n",
       "  // All done.\n",
       "  yield {\n",
       "    response: {\n",
       "      action: 'complete',\n",
       "    }\n",
       "  };\n",
       "}\n",
       "\n",
       "scope.google = scope.google || {};\n",
       "scope.google.colab = scope.google.colab || {};\n",
       "scope.google.colab._files = {\n",
       "  _uploadFiles,\n",
       "  _uploadFilesContinue,\n",
       "};\n",
       "})(self);\n",
       "</script> "
      ],
      "text/plain": [
       "<IPython.core.display.HTML object>"
      ]
     },
     "metadata": {},
     "output_type": "display_data"
    },
    {
     "name": "stdout",
     "output_type": "stream",
     "text": [
      "Saving validation-00000-of-00001.parquet to validation-00000-of-00001.parquet\n"
     ]
    },
    {
     "data": {
      "text/html": [
       "\n",
       "     <input type=\"file\" id=\"files-abc5eeb1-fa7f-40c7-93f1-2c868ec142a5\" name=\"files[]\" multiple disabled\n",
       "        style=\"border:none\" />\n",
       "     <output id=\"result-abc5eeb1-fa7f-40c7-93f1-2c868ec142a5\">\n",
       "      Upload widget is only available when the cell has been executed in the\n",
       "      current browser session. Please rerun this cell to enable.\n",
       "      </output>\n",
       "      <script>// Copyright 2017 Google LLC\n",
       "//\n",
       "// Licensed under the Apache License, Version 2.0 (the \"License\");\n",
       "// you may not use this file except in compliance with the License.\n",
       "// You may obtain a copy of the License at\n",
       "//\n",
       "//      http://www.apache.org/licenses/LICENSE-2.0\n",
       "//\n",
       "// Unless required by applicable law or agreed to in writing, software\n",
       "// distributed under the License is distributed on an \"AS IS\" BASIS,\n",
       "// WITHOUT WARRANTIES OR CONDITIONS OF ANY KIND, either express or implied.\n",
       "// See the License for the specific language governing permissions and\n",
       "// limitations under the License.\n",
       "\n",
       "/**\n",
       " * @fileoverview Helpers for google.colab Python module.\n",
       " */\n",
       "(function(scope) {\n",
       "function span(text, styleAttributes = {}) {\n",
       "  const element = document.createElement('span');\n",
       "  element.textContent = text;\n",
       "  for (const key of Object.keys(styleAttributes)) {\n",
       "    element.style[key] = styleAttributes[key];\n",
       "  }\n",
       "  return element;\n",
       "}\n",
       "\n",
       "// Max number of bytes which will be uploaded at a time.\n",
       "const MAX_PAYLOAD_SIZE = 100 * 1024;\n",
       "\n",
       "function _uploadFiles(inputId, outputId) {\n",
       "  const steps = uploadFilesStep(inputId, outputId);\n",
       "  const outputElement = document.getElementById(outputId);\n",
       "  // Cache steps on the outputElement to make it available for the next call\n",
       "  // to uploadFilesContinue from Python.\n",
       "  outputElement.steps = steps;\n",
       "\n",
       "  return _uploadFilesContinue(outputId);\n",
       "}\n",
       "\n",
       "// This is roughly an async generator (not supported in the browser yet),\n",
       "// where there are multiple asynchronous steps and the Python side is going\n",
       "// to poll for completion of each step.\n",
       "// This uses a Promise to block the python side on completion of each step,\n",
       "// then passes the result of the previous step as the input to the next step.\n",
       "function _uploadFilesContinue(outputId) {\n",
       "  const outputElement = document.getElementById(outputId);\n",
       "  const steps = outputElement.steps;\n",
       "\n",
       "  const next = steps.next(outputElement.lastPromiseValue);\n",
       "  return Promise.resolve(next.value.promise).then((value) => {\n",
       "    // Cache the last promise value to make it available to the next\n",
       "    // step of the generator.\n",
       "    outputElement.lastPromiseValue = value;\n",
       "    return next.value.response;\n",
       "  });\n",
       "}\n",
       "\n",
       "/**\n",
       " * Generator function which is called between each async step of the upload\n",
       " * process.\n",
       " * @param {string} inputId Element ID of the input file picker element.\n",
       " * @param {string} outputId Element ID of the output display.\n",
       " * @return {!Iterable<!Object>} Iterable of next steps.\n",
       " */\n",
       "function* uploadFilesStep(inputId, outputId) {\n",
       "  const inputElement = document.getElementById(inputId);\n",
       "  inputElement.disabled = false;\n",
       "\n",
       "  const outputElement = document.getElementById(outputId);\n",
       "  outputElement.innerHTML = '';\n",
       "\n",
       "  const pickedPromise = new Promise((resolve) => {\n",
       "    inputElement.addEventListener('change', (e) => {\n",
       "      resolve(e.target.files);\n",
       "    });\n",
       "  });\n",
       "\n",
       "  const cancel = document.createElement('button');\n",
       "  inputElement.parentElement.appendChild(cancel);\n",
       "  cancel.textContent = 'Cancel upload';\n",
       "  const cancelPromise = new Promise((resolve) => {\n",
       "    cancel.onclick = () => {\n",
       "      resolve(null);\n",
       "    };\n",
       "  });\n",
       "\n",
       "  // Wait for the user to pick the files.\n",
       "  const files = yield {\n",
       "    promise: Promise.race([pickedPromise, cancelPromise]),\n",
       "    response: {\n",
       "      action: 'starting',\n",
       "    }\n",
       "  };\n",
       "\n",
       "  cancel.remove();\n",
       "\n",
       "  // Disable the input element since further picks are not allowed.\n",
       "  inputElement.disabled = true;\n",
       "\n",
       "  if (!files) {\n",
       "    return {\n",
       "      response: {\n",
       "        action: 'complete',\n",
       "      }\n",
       "    };\n",
       "  }\n",
       "\n",
       "  for (const file of files) {\n",
       "    const li = document.createElement('li');\n",
       "    li.append(span(file.name, {fontWeight: 'bold'}));\n",
       "    li.append(span(\n",
       "        `(${file.type || 'n/a'}) - ${file.size} bytes, ` +\n",
       "        `last modified: ${\n",
       "            file.lastModifiedDate ? file.lastModifiedDate.toLocaleDateString() :\n",
       "                                    'n/a'} - `));\n",
       "    const percent = span('0% done');\n",
       "    li.appendChild(percent);\n",
       "\n",
       "    outputElement.appendChild(li);\n",
       "\n",
       "    const fileDataPromise = new Promise((resolve) => {\n",
       "      const reader = new FileReader();\n",
       "      reader.onload = (e) => {\n",
       "        resolve(e.target.result);\n",
       "      };\n",
       "      reader.readAsArrayBuffer(file);\n",
       "    });\n",
       "    // Wait for the data to be ready.\n",
       "    let fileData = yield {\n",
       "      promise: fileDataPromise,\n",
       "      response: {\n",
       "        action: 'continue',\n",
       "      }\n",
       "    };\n",
       "\n",
       "    // Use a chunked sending to avoid message size limits. See b/62115660.\n",
       "    let position = 0;\n",
       "    do {\n",
       "      const length = Math.min(fileData.byteLength - position, MAX_PAYLOAD_SIZE);\n",
       "      const chunk = new Uint8Array(fileData, position, length);\n",
       "      position += length;\n",
       "\n",
       "      const base64 = btoa(String.fromCharCode.apply(null, chunk));\n",
       "      yield {\n",
       "        response: {\n",
       "          action: 'append',\n",
       "          file: file.name,\n",
       "          data: base64,\n",
       "        },\n",
       "      };\n",
       "\n",
       "      let percentDone = fileData.byteLength === 0 ?\n",
       "          100 :\n",
       "          Math.round((position / fileData.byteLength) * 100);\n",
       "      percent.textContent = `${percentDone}% done`;\n",
       "\n",
       "    } while (position < fileData.byteLength);\n",
       "  }\n",
       "\n",
       "  // All done.\n",
       "  yield {\n",
       "    response: {\n",
       "      action: 'complete',\n",
       "    }\n",
       "  };\n",
       "}\n",
       "\n",
       "scope.google = scope.google || {};\n",
       "scope.google.colab = scope.google.colab || {};\n",
       "scope.google.colab._files = {\n",
       "  _uploadFiles,\n",
       "  _uploadFilesContinue,\n",
       "};\n",
       "})(self);\n",
       "</script> "
      ],
      "text/plain": [
       "<IPython.core.display.HTML object>"
      ]
     },
     "metadata": {},
     "output_type": "display_data"
    },
    {
     "name": "stdout",
     "output_type": "stream",
     "text": [
      "Saving test-00000-of-00001.parquet to test-00000-of-00001.parquet\n"
     ]
    }
   ],
   "source": [
    "# --- load dataset ---\n",
    "train_data = upload_dataset_from_system()\n",
    "val_data = upload_dataset_from_system()\n",
    "test_data = upload_dataset_from_system()"
   ]
  },
  {
   "cell_type": "code",
   "execution_count": null,
   "metadata": {
    "colab": {
     "base_uri": "https://localhost:8080/"
    },
    "collapsed": true,
    "id": "7LNgIqWC8vVa",
    "jupyter": {
     "outputs_hidden": true
    },
    "outputId": "3a8cd4b1-2ad7-4a22-fed1-b9ac8426f315"
   },
   "outputs": [
    {
     "name": "stdout",
     "output_type": "stream",
     "text": [
      "train_dataset :Dataset({\n",
      "    features: ['text', 'label'],\n",
      "    num_rows: 45000\n",
      "})\n",
      "val_dataset :Dataset({\n",
      "    features: ['text', 'label'],\n",
      "    num_rows: 5000\n",
      "})\n",
      "test_dataset :Dataset({\n",
      "    features: ['text', 'label'],\n",
      "    num_rows: 50000\n",
      "})\n"
     ]
    }
   ],
   "source": [
    "print(f\"train_dataset :{train_data}\")\n",
    "print(f\"val_dataset :{val_data}\")\n",
    "print(f\"test_dataset :{test_data}\")"
   ]
  },
  {
   "cell_type": "code",
   "execution_count": null,
   "metadata": {
    "colab": {
     "base_uri": "https://localhost:8080/"
    },
    "id": "P_Wi3bQy9bWJ",
    "outputId": "ee3e111e-3768-42c8-f2cc-72dbeeb9d802"
   },
   "outputs": [
    {
     "name": "stdout",
     "output_type": "stream",
     "text": [
      "classes :{0, 1, 2, 3, 4, 5, 6, 7, 8, 9, 10, 11, 12, 13, 14, 15, 16, 17, 18, 19}\n"
     ]
    },
    {
     "data": {
      "text/plain": [
       "{'num_classes': 20}"
      ]
     },
     "execution_count": 122,
     "metadata": {},
     "output_type": "execute_result"
    }
   ],
   "source": [
    "dataset_classes(train_data)"
   ]
  },
  {
   "cell_type": "code",
   "execution_count": null,
   "metadata": {
    "id": "3MBFO6Qu92Du"
   },
   "outputs": [],
   "source": [
    "train_data = concatenate_datasets([train_data, test_data.select(range(45000))])\n",
    "test_data = test_data.select(range(45000,50000))"
   ]
  },
  {
   "cell_type": "code",
   "execution_count": null,
   "metadata": {
    "colab": {
     "base_uri": "https://localhost:8080/"
    },
    "collapsed": true,
    "id": "8DcdJ-kl-Vi1",
    "jupyter": {
     "outputs_hidden": true
    },
    "outputId": "d03a106e-986b-40b7-8d2e-beb9b2fa983c"
   },
   "outputs": [
    {
     "name": "stdout",
     "output_type": "stream",
     "text": [
      "train_dataset :Dataset({\n",
      "    features: ['text', 'label'],\n",
      "    num_rows: 90000\n",
      "})\n",
      "val_dataset :Dataset({\n",
      "    features: ['text', 'label'],\n",
      "    num_rows: 5000\n",
      "})\n",
      "test_dataset :Dataset({\n",
      "    features: ['text', 'label'],\n",
      "    num_rows: 5000\n",
      "})\n"
     ]
    }
   ],
   "source": [
    "print(f\"train_dataset :{train_data}\")\n",
    "print(f\"val_dataset :{val_data}\")\n",
    "print(f\"test_dataset :{test_data}\")"
   ]
  },
  {
   "cell_type": "markdown",
   "metadata": {
    "id": "wDlvwT8C30a3"
   },
   "source": [
    "#### **preprocess & Dataset-utilities**"
   ]
  },
  {
   "cell_type": "code",
   "execution_count": null,
   "metadata": {
    "id": "hXJLZBi0LoDO"
   },
   "outputs": [],
   "source": [
    "from datasets import Dataset\n",
    "def preproces_data(example, num_classes=20):\n",
    "  tokenized_item = tokenizer(example['text'])\n",
    "  inp_ids = tokenized_item['input_ids']\n",
    "  attn_msk = tokenized_item['attention_mask']\n",
    "  label = example['label']\n",
    "  # labels = [0]*num_classes\n",
    "  # labels[label] = 1\n",
    "\n",
    "  return {\n",
    "         \"input_ids\": inp_ids, # Convert list to tensor\n",
    "          \"attention_mask\": attn_msk, # Convert list to tensor\n",
    "          \"labels\": label # Return the original label index\n",
    "    }"
   ]
  },
  {
   "cell_type": "code",
   "execution_count": null,
   "metadata": {
    "colab": {
     "base_uri": "https://localhost:8080/",
     "height": 182,
     "referenced_widgets": [
      "513566a4f5ba433dbc40f8f6e43ffb30",
      "32de7612fa7a40b786762cbe66eef5e6",
      "39a50ec9b0734cfdaf792ada554a7f83",
      "ac331d1cdae84c81ab68d345863ce2ff",
      "89db8f018fe9485a9e3dc62aedf353b6",
      "af5493e8c2c14925be7d1f3cd6577b51",
      "239758263a064ccf9afcba0be4f33a48",
      "641e836032ef46db9bce6dd8a5b629bd",
      "e09ede1339024a8084cb2c4f329dd906",
      "247169b2fd504e04976713b50f0a3785",
      "2759721c9cd4411592c7cae7fc1fc3e1",
      "c5f3ec6976014fa4aea6f9cc1a797d53",
      "276cc9c9a836497dbb1dc3801b874820",
      "953f8f4c07b340ac9ca79becbdb79e6c",
      "288df1ddb35148c585d02fe23ac0f94c",
      "8271cd09844e4972818e97f8a770bba4",
      "e1e8e097f40f4affa50e24bfd8881717",
      "f7bd9894a5c0426cae053be4651efa77",
      "16c8286fc6874565826390c8c6d82f1b",
      "8f8dd59c4397432f85e6059df12b25ba",
      "499a9ee1ed54483789850b428853d23e",
      "d005595861a54dbc8606076821bd8bbf",
      "dd4c748d960e4ee5a812527889965c66",
      "a009ba822c254ce0994615afa4cb5356",
      "a9a6cb4ae09f4375b6e02b66f2be0459",
      "d725b2f7c0504fe3a0018d46fcffb641",
      "20bc6f66d1434e4abb19bc964e964707",
      "c3068e0bdf3c44f7a9cf24a8605e5ab6",
      "5e1baa3826ef4ed1a885c77461320cda",
      "f02f137955fe4053989bd8ee97a1b6a8",
      "4e85fe454b6146c08a6a8300dff2fe1f",
      "a1c7a96b510d4d888a3c863b399dbcb6",
      "438099ef77ef48ffbcc90fd3392e2df3"
     ]
    },
    "id": "3rdjJLuORLn3",
    "outputId": "026d5982-1039-431a-a41d-fe16ee884aa7"
   },
   "outputs": [
    {
     "data": {
      "application/vnd.jupyter.widget-view+json": {
       "model_id": "513566a4f5ba433dbc40f8f6e43ffb30",
       "version_major": 2,
       "version_minor": 0
      },
      "text/plain": [
       "Map:   0%|          | 0/90000 [00:00<?, ? examples/s]"
      ]
     },
     "metadata": {},
     "output_type": "display_data"
    },
    {
     "data": {
      "application/vnd.jupyter.widget-view+json": {
       "model_id": "c5f3ec6976014fa4aea6f9cc1a797d53",
       "version_major": 2,
       "version_minor": 0
      },
      "text/plain": [
       "Map:   0%|          | 0/5000 [00:00<?, ? examples/s]"
      ]
     },
     "metadata": {},
     "output_type": "display_data"
    },
    {
     "data": {
      "application/vnd.jupyter.widget-view+json": {
       "model_id": "dd4c748d960e4ee5a812527889965c66",
       "version_major": 2,
       "version_minor": 0
      },
      "text/plain": [
       "Map:   0%|          | 0/5000 [00:00<?, ? examples/s]"
      ]
     },
     "metadata": {},
     "output_type": "display_data"
    },
    {
     "data": {
      "text/plain": [
       "Dataset({\n",
       "    features: ['input_ids', 'attention_mask', 'labels'],\n",
       "    num_rows: 90000\n",
       "})"
      ]
     },
     "execution_count": 7,
     "metadata": {},
     "output_type": "execute_result"
    }
   ],
   "source": [
    "train_dataset = train_data.map(preproces_data,remove_columns=['text','label'])\n",
    "val_dataset = val_data.map(preproces_data,remove_columns=['text','label'])\n",
    "test_dataset = test_data.map(preproces_data,remove_columns=['text','label'])\n",
    "train_dataset"
   ]
  },
  {
   "cell_type": "code",
   "execution_count": null,
   "metadata": {
    "id": "AW61SrZLks7i"
   },
   "outputs": [],
   "source": [
    "def collate_fn(batch):\n",
    "    input_ids = [\n",
    "        torch.tensor(item['input_ids'], dtype=torch.long)\n",
    "        if not isinstance(item['input_ids'], torch.Tensor) else item['input_ids'].long()\n",
    "        for item in batch\n",
    "    ]\n",
    "    attention_mask = [\n",
    "        torch.tensor(item['attention_mask'], dtype=torch.long)\n",
    "        if not isinstance(item['attention_mask'], torch.Tensor) else item['attention_mask'].long()\n",
    "        for item in batch\n",
    "    ]\n",
    "\n",
    "    # labels: one-hot / multi-hot\n",
    "    labels = torch.stack([\n",
    "        torch.tensor(item['labels'], dtype=torch.long) # Changed to torch.long\n",
    "        if not isinstance(item['labels'], torch.Tensor) else item['labels'].long()\n",
    "        for item in batch\n",
    "    ])\n",
    "\n",
    "    input_ids_padded = pad_sequence(\n",
    "        input_ids, batch_first=True, padding_value=tokenizer.pad_token_id\n",
    "    )\n",
    "    attention_mask_padded = pad_sequence(\n",
    "        attention_mask, batch_first=True, padding_value=0\n",
    "    )\n",
    "\n",
    "    return {\n",
    "        \"input_ids\": input_ids_padded,        # (batch_size, seq_len)\n",
    "        \"attention_mask\": attention_mask_padded,  # (batch_size, seq_len)\n",
    "        \"labels\": labels                      # (batch_size, num_classes)\n",
    "    }"
   ]
  },
  {
   "cell_type": "markdown",
   "metadata": {
    "id": "1g8s-X3W4Com"
   },
   "source": [
    "#### **Model**"
   ]
  },
  {
   "cell_type": "markdown",
   "metadata": {
    "id": "M9yNhxHHOIxe"
   },
   "source": [
    "##### **LitModule**"
   ]
  },
  {
   "cell_type": "code",
   "execution_count": null,
   "metadata": {
    "id": "0ZRwL32pELzn"
   },
   "outputs": [],
   "source": [
    "import torchmetrics\n",
    "from torch.optim.lr_scheduler import ReduceLROnPlateau # Import ReduceLROnPlateau\n",
    "\n",
    "class LitModule(pl.LightningModule):\n",
    "  def __init__(self,model,tokenizer,lr=1e-3,train_dataset=train_dataset,val_dataset=val_dataset,test_dataset=test_dataset):\n",
    "    super().__init__()\n",
    "    self.model = model\n",
    "    self.loss_fn =  nn.CrossEntropyLoss()  #nn.BCEWithLogitsLoss()\n",
    "    self.lr = lr\n",
    "    self.train_dataset = train_dataset\n",
    "    #train_data.map(lambda examples: preproces_data(examples, num_classes=self.model.classifier.out_features,remove_columns=['text','label']), batched=True)\n",
    "    self.validation_dataset = val_dataset\n",
    "    #val_data.map(lambda examples: preproces_data(examples, num_classes=self.model.classifier.out_features,remove_columns=['text','label']), batched=True)\n",
    "    self.test_dataset = test_dataset\n",
    "    self.train_accuracy = torchmetrics.Accuracy(task=\"multiclass\", num_classes=self.model.classifier.out_features)\n",
    "    self.val_accuracy = torchmetrics.Accuracy(task=\"multiclass\", num_classes=self.model.classifier.out_features)\n",
    "    self.train_f1 = torchmetrics.F1Score(task=\"multiclass\", num_classes=self.model.classifier.out_features)\n",
    "    self.val_f1 = torchmetrics.F1Score(task=\"multiclass\", num_classes=self.model.classifier.out_features)\n",
    "    self.test_accuracy = torchmetrics.Accuracy(task=\"multiclass\", num_classes=self.model.classifier.out_features)\n",
    "    self.test_f1 = torchmetrics.F1Score(task=\"multiclass\", num_classes=self.model.classifier.out_features)\n",
    "\n",
    "\n",
    "  def forward(self,input_ids):\n",
    "    return self.model(input_ids)\n",
    "\n",
    "  def train_dataloader(self):\n",
    "    return DataLoader(self.train_dataset,batch_size=1,shuffle=True, collate_fn=collate_fn)\n",
    "\n",
    "  def val_dataloader(self):\n",
    "    return DataLoader(self.validation_dataset,batch_size=1, collate_fn=collate_fn)\n",
    "\n",
    "  def test_dataloader(self):\n",
    "    return DataLoader(self.test_dataset,batch_size=1, collate_fn=collate_fn)\n",
    "\n",
    "\n",
    "  def training_step(self,batch,batch_idx):\n",
    "     input_ids = batch['input_ids']\n",
    "     labels = batch['labels'] # Labels are now class indices\n",
    "\n",
    "     logits = self.model(input_ids)\n",
    "     # Reshape logits to be (batch_size * seq_len, num_classes) and labels to be (batch_size * seq_len)\n",
    "     loss = self.loss_fn(logits.view(-1, logits.shape[-1]), labels.view(-1))\n",
    "     self.log(\"train_loss\",loss)\n",
    "\n",
    "     preds = torch.argmax(logits, dim=-1)\n",
    "     # Flatten preds and labels for metrics\n",
    "     self.train_accuracy.update(preds.view(-1), labels.view(-1))\n",
    "     self.train_f1.update(preds.view(-1), labels.view(-1))\n",
    "     self.log('train_acc', self.train_accuracy, on_step=True, on_epoch=False)\n",
    "     self.log('train_f1', self.train_f1, on_step=True, on_epoch=False)\n",
    "\n",
    "     return loss\n",
    "\n",
    "  def validation_step(self,batch,batch_idx):\n",
    "      input_ids = batch['input_ids']\n",
    "      labels = batch['labels'] # Labels are now class indices\n",
    "\n",
    "      logits = self.model(input_ids)\n",
    "      # Reshape logits to be (batch_size * seq_len, num_classes) and labels to be (batch_size * seq_len)\n",
    "      loss = self.loss_fn(logits.view(-1, logits.shape[-1]), labels.view(-1))\n",
    "      self.log(\"val_loss\",loss)\n",
    "\n",
    "      preds = torch.argmax(logits, dim=-1)\n",
    "      # Flatten preds and labels for metrics\n",
    "      self.val_accuracy.update(preds.view(-1), labels.view(-1))\n",
    "      self.val_f1.update(preds.view(-1), labels.view(-1))\n",
    "      self.log('val_acc', self.val_accuracy, on_step=False, on_epoch=True)\n",
    "      self.log('val_f1', self.val_f1, on_step=False, on_epoch=True)\n",
    "\n",
    "  def test_step(self, batch, batch_idx):\n",
    "      input_ids = batch['input_ids']\n",
    "      labels = batch['labels']\n",
    "\n",
    "      logits = self.model(input_ids)\n",
    "      loss = self.loss_fn(logits.view(-1, logits.shape[-1]), labels.view(-1))\n",
    "      self.log(\"test_loss\", loss)\n",
    "\n",
    "      preds = torch.argmax(logits, dim=-1)\n",
    "      self.test_accuracy.update(preds.view(-1), labels.view(-1))\n",
    "      self.test_f1.update(preds.view(-1), labels.view(-1))\n",
    "      self.log('test_acc', self.test_accuracy, on_step=False, on_epoch=True)\n",
    "      self.log('test_f1', self.test_f1, on_step=False, on_epoch=True)\n",
    "\n",
    "  def configure_optimizers(self):\n",
    "    optimizer = torch.optim.Adam(self.parameters(), lr=self.lr)\n",
    "    # Use ReduceLROnPlateau\n",
    "    scheduler = ReduceLROnPlateau(optimizer, mode='max', factor=0.1, patience=3) # Removed verbose=True\n",
    "    return {\"optimizer\": optimizer, \"lr_scheduler\": {\"scheduler\": scheduler, \"monitor\": \"val_loss\"}} # Monitor validation loss"
   ]
  },
  {
   "cell_type": "markdown",
   "metadata": {
    "id": "ZN-veVjqlSiE"
   },
   "source": [
    "#### **Estandard_Model**"
   ]
  },
  {
   "cell_type": "code",
   "execution_count": null,
   "metadata": {
    "id": "RdACIzTVkp3k"
   },
   "outputs": [],
   "source": [
    "import torch\n",
    "import torch.nn as nn\n",
    "import torch.nn.functional as F\n",
    "\n",
    "# 🔹 یک بلاک ترنسفورمر\n",
    "class TransformerBlock(nn.Module):\n",
    "    def __init__(self, hidden_dim=128, num_heads=4, ff_dim=256, dropout=0.1):\n",
    "        super().__init__()\n",
    "        self.attn = nn.MultiheadAttention(\n",
    "            embed_dim=hidden_dim,\n",
    "            num_heads=num_heads,\n",
    "            batch_first=True\n",
    "        )\n",
    "        self.ln1 = nn.LayerNorm(hidden_dim)\n",
    "        self.ln2 = nn.LayerNorm(hidden_dim)\n",
    "\n",
    "        # Feed Forward\n",
    "        self.ff = nn.Sequential(\n",
    "            nn.Linear(hidden_dim, ff_dim),\n",
    "            nn.ReLU(),\n",
    "            nn.Linear(ff_dim, hidden_dim)\n",
    "        )\n",
    "\n",
    "        self.drop1 = nn.Dropout(dropout)\n",
    "        self.drop2 = nn.Dropout(dropout)\n",
    "\n",
    "    def forward(self, x, mask=None):\n",
    "        # Self-Attention + Residual\n",
    "        attn_out, _ = self.attn(x, x, x, attn_mask=mask)  # (B, T, H)\n",
    "        x = self.ln1(x + self.drop1(attn_out))\n",
    "\n",
    "        # FeedForward + Residual\n",
    "        ff_out = self.ff(x)\n",
    "        x = self.ln2(x + self.drop2(ff_out))\n",
    "\n",
    "        return x\n",
    "\n",
    "\n",
    "# 🔹 مدل کامل با چند بلاک ترنسفورمر\n",
    "MAX_LENGTH = 512\n",
    "class Estandard_Model(nn.Module):\n",
    "    def __init__(self, vocab_size=VOCAB_SIZE, hidden_dim=128, num_layers=3, num_heads=4, ff_dim=256, num_labels=20):\n",
    "        super().__init__()\n",
    "        self.word_embed = nn.Embedding(vocab_size, hidden_dim)\n",
    "        self.pos_embed = nn.Embedding(MAX_LENGTH, hidden_dim)\n",
    "\n",
    "        self.layers = nn.ModuleList([\n",
    "            TransformerBlock(hidden_dim=hidden_dim, num_heads=num_heads, ff_dim=ff_dim)\n",
    "            for _ in range(num_layers)\n",
    "        ])\n",
    "\n",
    "        self.classifier = nn.Linear(hidden_dim, num_labels)\n",
    "        self.apply(self._init_weights)\n",
    "\n",
    "    def _init_weights(self, m):\n",
    "        if isinstance(m, nn.Linear):\n",
    "            nn.init.normal_(m.weight, mean=0.0, std=0.02)\n",
    "            if m.bias is not None:\n",
    "                nn.init.zeros_(m.bias)\n",
    "        elif isinstance(m, nn.Embedding):\n",
    "            nn.init.normal_(m.weight, mean=0.0, std=0.02)\n",
    "\n",
    "    def forward(self, input_ids):\n",
    "        batch_size, seq_len = input_ids.size()\n",
    "        positions = torch.arange(seq_len, device=input_ids.device).unsqueeze(0).expand(batch_size, seq_len)\n",
    "\n",
    "        # word + positional embedding\n",
    "        x = self.word_embed(input_ids) + self.pos_embed(positions)\n",
    "\n",
    "        # Transformer layers\n",
    "        for layer in self.layers:\n",
    "            x = layer(x)\n",
    "\n",
    "        # Sequence pooling (mean pooling)\n",
    "        x = x.mean(dim=1)  # (B, H)\n",
    "\n",
    "        # Classification head\n",
    "        logits = self.classifier(x)\n",
    "        return logits\n"
   ]
  },
  {
   "cell_type": "markdown",
   "metadata": {
    "id": "3G7TsE5VbqIJ"
   },
   "source": [
    "#### **Model_1**"
   ]
  },
  {
   "cell_type": "code",
   "execution_count": null,
   "metadata": {
    "id": "ZuTtdIy3bqIK"
   },
   "outputs": [],
   "source": [
    "class conv_Attention(nn.Module):\n",
    "    def __init__(self, hidden_dim=128):\n",
    "        super().__init__()\n",
    "        self.hidden_dim = hidden_dim\n",
    "        # Conv1d expects input (batch_size, channels, sequence_length)\n",
    "        self.key = nn.Conv1d(hidden_dim, hidden_dim, kernel_size=3,padding='same')\n",
    "        self.value = nn.Conv1d(hidden_dim, hidden_dim, kernel_size=3,padding='same')\n",
    "        self.query = nn.Conv1d(hidden_dim, hidden_dim, kernel_size=3,padding='same')\n",
    "        self.attn_drop = nn.Dropout(0.3)\n",
    "        self.resid_drop = nn.Dropout(0.3)\n",
    "\n",
    "    def forward(self, x):\n",
    "        B, T, C = x.size()\n",
    "\n",
    "        # Permute dimensions for Conv1d: (B, T, C) -> (B, C, T)\n",
    "        x_permuted = x.permute(0, 2, 1)\n",
    "\n",
    "        k = self.key(x_permuted)\n",
    "        q = self.query(x_permuted)\n",
    "        v = self.value(x_permuted)\n",
    "\n",
    "        # Permute back to (B, T, C) for attention calculation\n",
    "        k = k.permute(0, 2, 1)\n",
    "        q = q.permute(0, 2, 1)\n",
    "        v = v.permute(0, 2, 1)\n",
    "\n",
    "\n",
    "        att = (q @ k.transpose(-2, -1)) / math.sqrt(C)\n",
    "        att = F.softmax(att, dim=-1)\n",
    "        att = self.attn_drop(att)\n",
    "\n",
    "        y = att @ v\n",
    "        y = self.resid_drop(y)\n",
    "        return y"
   ]
  },
  {
   "cell_type": "code",
   "execution_count": null,
   "metadata": {
    "id": "92sjgrrLbqIK"
   },
   "outputs": [],
   "source": [
    "class EncoderBlck_1(nn.Module):\n",
    "    def __init__(self, hidden_dim=128):\n",
    "        super().__init__()\n",
    "        self.conv_attn = conv_Attention(hidden_dim)\n",
    "\n",
    "        self.drop_attn = nn.Dropout(0.5)\n",
    "        self.drop_proj = nn.Dropout(0.3)\n",
    "\n",
    "        self.ln_attn = nn.LayerNorm(hidden_dim)\n",
    "        self.ln_proj = nn.LayerNorm(hidden_dim)\n",
    "\n",
    "        self.conv1 = nn.Conv1d(hidden_dim, hidden_dim, kernel_size=3, padding=\"same\")\n",
    "        self.conv2 = nn.Conv1d(hidden_dim, hidden_dim, kernel_size=3, padding=\"same\")\n",
    "\n",
    "        self.proj = nn.Linear(hidden_dim*2,hidden_dim)\n",
    "\n",
    "        self.apply(self._init_weights)\n",
    "\n",
    "    def _init_weights(self, m):\n",
    "        if isinstance(m, nn.LSTM):\n",
    "            for name, param in m.named_parameters():\n",
    "                if \"weight_ih\" in name:\n",
    "                    nn.init.xavier_uniform_(param.data)\n",
    "                elif \"weight_hh\" in name:\n",
    "                    nn.init.orthogonal_(param.data)\n",
    "                elif \"bias\" in name:\n",
    "                    param.data.fill_(0)\n",
    "        elif isinstance(m, nn.Conv1d):\n",
    "            nn.init.kaiming_uniform_(m.weight, nonlinearity=\"relu\")\n",
    "            if m.bias is not None:\n",
    "                nn.init.zeros_(m.bias)\n",
    "        elif isinstance(m, nn.LayerNorm):\n",
    "            nn.init.ones_(m.weight)\n",
    "            nn.init.zeros_(m.bias)\n",
    "        elif isinstance(m, nn.Linear):\n",
    "            nn.init.normal_(m.weight, mean=0.0, std=0.02)\n",
    "            if m.bias is not None:\n",
    "                nn.init.zeros_(m.bias)\n",
    "\n",
    "    def forward(self, input_ids):\n",
    "        # GRU-attention\n",
    "        x = self.conv_attn(input_ids)          # (B, hidden_dim)\n",
    "        #x = x.unsqueeze(1)                     # (B, 1, hidden_dim)\n",
    "        x = self.drop_attn(x)\n",
    "        y = self.ln_attn(x)\n",
    "        # Conv1d expects (B, C, L)\n",
    "        y1 = self.conv1(y.permute(0, 2, 1)).permute(0, 2, 1)  # (B, 1, hidden_dim)\n",
    "        y2 = self.conv2(y.permute(0, 2, 1)).permute(0, 2, 1)  # (B, 1, hidden_dim)\n",
    "        y = torch.cat([y1, y2], dim=-1)        # (B, 1, hidden_dim*2)\n",
    "        y = self.proj(y)\n",
    "        y = self.drop_proj(y)\n",
    "        y = self.ln_proj(y)\n",
    "        return y"
   ]
  },
  {
   "cell_type": "code",
   "execution_count": null,
   "metadata": {
    "id": "xkRxoKosbqIK"
   },
   "outputs": [],
   "source": [
    "MAX_LENGTH = 512\n",
    "class Model_1(nn.Module):\n",
    "    def __init__(self, vocab_size=VOCAB_SIZE, hidden_dim=128,num_layers=3, num_labels=20):\n",
    "        super().__init__()\n",
    "        self.word_embed = nn.Embedding(vocab_size, hidden_dim)\n",
    "        self.pos_embed = nn.Embedding(MAX_LENGTH,hidden_dim)\n",
    "        self.layers = nn.ModuleList([\n",
    "            EncoderBlck_1(hidden_dim=hidden_dim)\n",
    "            for _ in range(num_layers)\n",
    "        ])\n",
    "        # چون خروجی SimpleEncoder_2 همون hidden_dim هست، اینو تغییر دادم\n",
    "        #self.shared_proj = nn.Linear(hidden_dim, hidden_dim)\n",
    "        #self.ln_proj = nn.LayerNorm(hidden_dim)\n",
    "        self.classifier = nn.Linear(hidden_dim, num_labels)\n",
    "        self.apply(self._init_weights)\n",
    "\n",
    "    def _init_weights(self, m):\n",
    "        if isinstance(m, nn.Linear):\n",
    "            nn.init.normal_(m.weight, mean=0.0, std=0.02)\n",
    "            if m.bias is not None:\n",
    "                nn.init.zeros_(m.bias)\n",
    "        elif isinstance(m, nn.Embedding):\n",
    "            nn.init.normal_(m.weight, mean=0.0, std=0.02)\n",
    "\n",
    "    def forward(self, input_ids):\n",
    "        batch_size, seq_len = input_ids.size()\n",
    "        positions = torch.arange(seq_len, device=input_ids.device).unsqueeze(0).expand(batch_size, seq_len)\n",
    "        x = self.word_embed(input_ids) + self.pos_embed(positions)\n",
    "        for layer in self.layers:\n",
    "            x = layer(x)\n",
    "            #x = self.shared_proj(x)\n",
    "            #x = self.ln_proj(x)\n",
    "        x = x.mean(dim=1)  # (B, H)  ---> میشه representation کل سکوئنس\n",
    "        logits = self.classifier(x)\n",
    "        return logits"
   ]
  },
  {
   "cell_type": "code",
   "execution_count": null,
   "metadata": {
    "id": "ydyTbFsJCsBS"
   },
   "outputs": [],
   "source": [
    "# ===== Training =====\n",
    "model_1 = Model_1(num_labels=20,hidden_dim=128,num_layers=3)\n",
    "lit_module_1 = LitModule(model_1,tokenizer)\n",
    "\n",
    "early_stop_callback = EarlyStopping(\n",
    "    monitor='val_f1',  # Metric to monitor\n",
    "    min_delta=0.00,           # Minimum change to qualify as an improvement\n",
    "    patience=3,               # Number of epochs with no improvement after which training will be stopped\n",
    "    verbose=True,             # Log information to the console\n",
    "    mode='max'                # 'max' mode means we want to maximize the monitored quantity\n",
    ")\n",
    "\n",
    "trainer_1 = pl.Trainer(\n",
    "    max_epochs=6,\n",
    "    accelerator=device,\n",
    "    logger=False, # Set to True to use a logger for better tracking (e.g., TensorBoard)\n",
    "    callbacks=[early_stop_callback], # Pass the early stopping callback\n",
    "    gradient_clip_val=1.0 # Add gradient clipping\n",
    ")\n",
    "trainer_1.fit(lit_module_1)\n",
    "\n",
    "trainer_1.test(lit_module_1)"
   ]
  },
  {
   "cell_type": "markdown",
   "metadata": {
    "id": "vA-t6sno21YZ"
   },
   "source": [
    "#### **Model_2**"
   ]
  },
  {
   "cell_type": "code",
   "execution_count": null,
   "metadata": {
    "id": "dirInO_luLnH"
   },
   "outputs": [],
   "source": [
    "class gru_Attention(nn.Module):\n",
    "    def __init__(self, hidden_dim=128):\n",
    "        super().__init__()\n",
    "        self.hidden_dim = hidden_dim\n",
    "        self.key = nn.GRU(hidden_dim, hidden_dim, batch_first=True)\n",
    "        self.value = nn.GRU(hidden_dim, hidden_dim, batch_first=True)\n",
    "        self.query = nn.GRU(hidden_dim, hidden_dim, batch_first=True)\n",
    "        self.attn_drop = nn.Dropout(0.3)\n",
    "        self.resid_drop = nn.Dropout(0.3)\n",
    "\n",
    "    def forward(self, x):\n",
    "        B, T, C = x.size()\n",
    "\n",
    "        _, k = self.key(x)\n",
    "        _, q = self.query(x)\n",
    "        _, v = self.value(x)\n",
    "\n",
    "        k = k.squeeze(0)\n",
    "        q = q.squeeze(0)\n",
    "        v = v.squeeze(0)\n",
    "\n",
    "        att = (q @ k.transpose(-2, -1)) / math.sqrt(C)\n",
    "        #att = att.masked_fill(self.mask[:, :, :T, :T] == 0, float(\"-inf\"))\n",
    "        att = F.softmax(att, dim=-1)\n",
    "        att = self.attn_drop(att)\n",
    "\n",
    "        y = att @ v\n",
    "        y = self.resid_drop(y)\n",
    "        return y"
   ]
  },
  {
   "cell_type": "code",
   "execution_count": null,
   "metadata": {
    "id": "pBytmBTBzGef"
   },
   "outputs": [],
   "source": [
    "class EncoderBlck_2(nn.Module):\n",
    "    def __init__(self, hidden_dim=128):\n",
    "        super().__init__()\n",
    "        self.lstm = nn.LSTM(hidden_dim*2, hidden_dim, batch_first=True, bidirectional=False)\n",
    "        self.gru_attn = gru_Attention(hidden_dim)\n",
    "\n",
    "        self.drop_lstm = nn.Dropout(0.5)\n",
    "        self.drop_attn = nn.Dropout(0.5)\n",
    "\n",
    "        self.ln_lstm = nn.LayerNorm(hidden_dim)\n",
    "        self.ln_attn = nn.LayerNorm(hidden_dim)\n",
    "\n",
    "        self.conv1 = nn.Conv1d(hidden_dim, hidden_dim, kernel_size=3, padding=\"same\")\n",
    "        self.conv2 = nn.Conv1d(hidden_dim, hidden_dim, kernel_size=3, padding=\"same\")\n",
    "\n",
    "        self.apply(self._init_weights)\n",
    "\n",
    "    def _init_weights(self, m):\n",
    "        if isinstance(m, nn.LSTM):\n",
    "            for name, param in m.named_parameters():\n",
    "                if \"weight_ih\" in name:\n",
    "                    nn.init.xavier_uniform_(param.data)\n",
    "                elif \"weight_hh\" in name:\n",
    "                    nn.init.orthogonal_(param.data)\n",
    "                elif \"bias\" in name:\n",
    "                    param.data.fill_(0)\n",
    "        elif isinstance(m, nn.Conv1d):\n",
    "            nn.init.kaiming_uniform_(m.weight, nonlinearity=\"relu\")\n",
    "            if m.bias is not None:\n",
    "                nn.init.zeros_(m.bias)\n",
    "        elif isinstance(m, nn.LayerNorm):\n",
    "            nn.init.ones_(m.weight)\n",
    "            nn.init.zeros_(m.bias)\n",
    "        elif isinstance(m, nn.Linear):\n",
    "            nn.init.normal_(m.weight, mean=0.0, std=0.02)\n",
    "            if m.bias is not None:\n",
    "                nn.init.zeros_(m.bias)\n",
    "\n",
    "    def forward(self, input_ids):\n",
    "        # GRU-attention\n",
    "        x = self.gru_attn(input_ids)          # (B, hidden_dim)\n",
    "        x = x.unsqueeze(1)                     # (B, 1, hidden_dim)\n",
    "        x = self.drop_attn(x)\n",
    "        y = self.ln_attn(x)\n",
    "\n",
    "        # Conv1d expects (B, C, L)\n",
    "        y1 = self.conv1(y.permute(0, 2, 1)).permute(0, 2, 1)  # (B, 1, hidden_dim)\n",
    "        y2 = self.conv2(y.permute(0, 2, 1)).permute(0, 2, 1)  # (B, 1, hidden_dim)\n",
    "\n",
    "        y = torch.cat([y1, y2], dim=-1)        # (B, 1, hidden_dim*2)\n",
    "\n",
    "        y, _ = self.lstm(y)                   # (B, 1, hidden_dim)\n",
    "        y = self.drop_lstm(y)\n",
    "        y = self.ln_lstm(y)\n",
    "\n",
    "        return y\n"
   ]
  },
  {
   "cell_type": "code",
   "execution_count": null,
   "metadata": {
    "id": "LFeAcjVuyBsX"
   },
   "outputs": [],
   "source": [
    "MAX_LENGTH = 512\n",
    "class Model_2(nn.Module):\n",
    "    def __init__(self, vocab_size=VOCAB_SIZE, hidden_dim=128,num_layers=3, num_labels=20):\n",
    "        super().__init__()\n",
    "        self.word_embed = nn.Embedding(vocab_size, hidden_dim)\n",
    "        self.pos_embed = nn.Embedding(MAX_LENGTH,hidden_dim)\n",
    "        self.layers = nn.ModuleList([\n",
    "            EncoderBlck_2(hidden_dim=hidden_dim)\n",
    "            for _ in range(num_layers)\n",
    "        ])\n",
    "        # چون خروجی SimpleEncoder_2 همون hidden_dim هست، اینو تغییر دادم\n",
    "        self.shared_proj = nn.Linear(hidden_dim, hidden_dim)\n",
    "        self.ln_proj = nn.LayerNorm(hidden_dim)\n",
    "        self.classifier = nn.Linear(hidden_dim, num_labels)\n",
    "        self.apply(self._init_weights)\n",
    "\n",
    "    def _init_weights(self, m):\n",
    "        if isinstance(m, nn.Linear):\n",
    "            nn.init.normal_(m.weight, mean=0.0, std=0.02)\n",
    "            if m.bias is not None:\n",
    "                nn.init.zeros_(m.bias)\n",
    "        elif isinstance(m, nn.Embedding):\n",
    "            nn.init.normal_(m.weight, mean=0.0, std=0.02)\n",
    "\n",
    "    def forward(self, input_ids):\n",
    "        batch_size, seq_len = input_ids.size()\n",
    "        positions = torch.arange(seq_len, device=input_ids.device).unsqueeze(0).expand(batch_size, seq_len)\n",
    "        x = self.word_embed(input_ids) + self.pos_embed(positions)\n",
    "        for layer in self.layers:\n",
    "            x = layer(x)\n",
    "            x = self.shared_proj(x)\n",
    "            x = self.ln_proj(x)\n",
    "        logits = self.classifier(x)\n",
    "        return logits"
   ]
  },
  {
   "cell_type": "code",
   "execution_count": null,
   "metadata": {
    "colab": {
     "base_uri": "https://localhost:8080/",
     "height": 849,
     "referenced_widgets": [
      "c590c03681bc43ff84355c3c839cc28b",
      "329b93b5808d48f7b4b4a72d7132ae5e",
      "034b5916df064d928d91be635e1b2a80",
      "be1830e1e58847ed966fef0bff4fe1bf",
      "e820b1b3753c46d2bf7abd161b5d630d",
      "e693335ab1a0415aabc704aecd27221c",
      "a14b8d828a524510bc97083948f96bd1",
      "0adfdca4798e46d28a532e1d7107ee6d",
      "f33280a4a46a4e22abc51c82a22d4fa1",
      "de63c6bec4694c009486a1f6a4bb183c",
      "16279525292e4430abd6d5e412179b33",
      "df6204627af343369659f5deff93a6cd",
      "e5de0bc695374f0aaacf169e955f39bc",
      "046dbf279caf4a40ad3748908ae14b68",
      "9f8aa6a997dc42af8534502f9197dd61",
      "0c39048d48784b609f89def7f65cf769",
      "3e4d1d678e94481dbcc754c4c958cd04",
      "282020d7ba9646b79a94c33b32f2a038",
      "b75304ead4974c0e96e403dda1ce3bee",
      "a1198298757c40bcb420ca300c1ba4fa",
      "4cb8cdbe0a8f40ca896b68b7e85a1570",
      "15b736ca824540b19e51a43a98f0b1e5",
      "6fc4fd1171b54da98a972db1d44b66fa",
      "d75231a146244183a347fe8758f26f14",
      "cb9b3a20c881480fb76f1cd376b0b73c",
      "9214e9921cd044688fb976021df6bba9",
      "0583371fbda1474db649702ed0179124",
      "fec0b79288f94700900d4d886e829527",
      "5724e61bbda945428fbf121486303368",
      "6817fba69b3d4ddfbc3b0f315c8f6010",
      "b49c0648da1f48f9bd6e9b615799977c",
      "3575897b6baa41bca931a3192d7bafc7",
      "028bb9f306654dc6bd925486070e130c",
      "011d18ceffa84a8c87c1864e7db30692",
      "5e4c2a7325f040418621eb480dfdf97d",
      "53a9c18644bc4479835c8aa90809efd6",
      "ff9a62e475734d2183a0d56aa5fed40a",
      "41cbd6dfeeb54316aedb7162b37192bd",
      "2f5baeb383c94868a9664c98d42cec9c",
      "db8648f0170d43bb87a93db7674ce076",
      "774e051b624946298ae179dff60d10b3",
      "ddacc69c030541faa7aac12458538865",
      "6936c820b10147ae908f30f9fb0d469d",
      "2adfb033ca304043ba6ae4d3de020afe",
      "51a763ff6317489280dac898dbe885fe",
      "d4a4315b7aa443fab1fce644137156c0",
      "1f4d3713e3f24fcdb8b8cee4cd4a96fa",
      "463496c0c4f7432aac369f38c2ab3840",
      "b327d3e6fdf34c6e86b0f7bf5deab775",
      "87f917d2653a42e2a45fb434d66b4b80",
      "3395cb9bba354e509c4ed739eb9b9422",
      "dbc6184cece64c13a846a45fd2ba9226",
      "23f9d44c15844a428f0d1cb767547a7f",
      "887f1fea00d04688830d4f725241e552",
      "46a9e999e3eb428fbd9c9075c179fd79",
      "8d2507cf03814770b323b5e49334de5d",
      "1d1e2acdd52641a199040f458e6111e5",
      "a1152d4a67d049b9b3d37a6835b08004",
      "be23c8425c5c43f39a952e1a32406be0",
      "051f15c6c71a4e0aa20d78b785a35d96",
      "62c4b2dc25be42ef8d5f550ee66a9f26",
      "c7ba3b55273347a89a77318f8de83d35",
      "678a1a98b9c147c78a56c50e11df60a7",
      "f69609e687a3498299bdd14cbb901b59",
      "a99f496f3de14ac580d28080e3e98861",
      "41c20d0ac7194c1a810481d83ac53471",
      "5aebbdd1923e4c9baa97f35252d98240",
      "f086a40f9b6440c28d1c5d98cb126476",
      "41f99836886041468b7e8bc6df939ab9",
      "2f7890119e87480d8110d60d8b75fb28",
      "70bf0acdbe2b4035876f47b5facd1ed8",
      "2f055ae2acf54d82b2e2a58acfad017a",
      "69c940ea1cdf41bd914351e081a9b4a2",
      "57be0d1c510d40658083a219e44b32f6",
      "46c56ba172fc48a38b626a241651be6f",
      "62d5ed9986ba4e998d5192abcf9c3530",
      "0316b2f982064e80abd1dd55c26843a4"
     ]
    },
    "id": "5ISREwza3OOj",
    "outputId": "2109211c-126b-4cca-a49e-d089471c4696"
   },
   "outputs": [
    {
     "name": "stderr",
     "output_type": "stream",
     "text": [
      "INFO:pytorch_lightning.utilities.rank_zero:💡 Tip: For seamless cloud uploads and versioning, try installing [litmodels](https://pypi.org/project/litmodels/) to enable LitModelCheckpoint, which syncs automatically with the Lightning model registry.\n",
      "INFO:pytorch_lightning.utilities.rank_zero:GPU available: True (cuda), used: True\n",
      "INFO:pytorch_lightning.utilities.rank_zero:TPU available: False, using: 0 TPU cores\n",
      "INFO:pytorch_lightning.utilities.rank_zero:HPU available: False, using: 0 HPUs\n",
      "INFO:pytorch_lightning.accelerators.cuda:LOCAL_RANK: 0 - CUDA_VISIBLE_DEVICES: [0]\n",
      "INFO:pytorch_lightning.callbacks.model_summary:\n",
      "  | Name           | Type               | Params | Mode \n",
      "--------------------------------------------------------------\n",
      "0 | model          | Model_2            | 5.8 M  | train\n",
      "1 | loss_fn        | CrossEntropyLoss   | 0      | train\n",
      "2 | train_accuracy | MulticlassAccuracy | 0      | train\n",
      "3 | val_accuracy   | MulticlassAccuracy | 0      | train\n",
      "4 | train_f1       | MulticlassF1Score  | 0      | train\n",
      "5 | val_f1         | MulticlassF1Score  | 0      | train\n",
      "6 | test_accuracy  | MulticlassAccuracy | 0      | train\n",
      "7 | test_f1        | MulticlassF1Score  | 0      | train\n",
      "--------------------------------------------------------------\n",
      "5.8 M     Trainable params\n",
      "0         Non-trainable params\n",
      "5.8 M     Total params\n",
      "23.094    Total estimated model params size (MB)\n",
      "56        Modules in train mode\n",
      "0         Modules in eval mode\n"
     ]
    },
    {
     "data": {
      "application/vnd.jupyter.widget-view+json": {
       "model_id": "c590c03681bc43ff84355c3c839cc28b",
       "version_major": 2,
       "version_minor": 0
      },
      "text/plain": [
       "Sanity Checking: |          | 0/? [00:00<?, ?it/s]"
      ]
     },
     "metadata": {},
     "output_type": "display_data"
    },
    {
     "data": {
      "application/vnd.jupyter.widget-view+json": {
       "model_id": "df6204627af343369659f5deff93a6cd",
       "version_major": 2,
       "version_minor": 0
      },
      "text/plain": [
       "Training: |          | 0/? [00:00<?, ?it/s]"
      ]
     },
     "metadata": {},
     "output_type": "display_data"
    },
    {
     "data": {
      "application/vnd.jupyter.widget-view+json": {
       "model_id": "6fc4fd1171b54da98a972db1d44b66fa",
       "version_major": 2,
       "version_minor": 0
      },
      "text/plain": [
       "Validation: |          | 0/? [00:00<?, ?it/s]"
      ]
     },
     "metadata": {},
     "output_type": "display_data"
    },
    {
     "name": "stderr",
     "output_type": "stream",
     "text": [
      "INFO:pytorch_lightning.callbacks.early_stopping:Metric val_f1 improved. New best score: 0.211\n"
     ]
    },
    {
     "data": {
      "application/vnd.jupyter.widget-view+json": {
       "model_id": "011d18ceffa84a8c87c1864e7db30692",
       "version_major": 2,
       "version_minor": 0
      },
      "text/plain": [
       "Validation: |          | 0/? [00:00<?, ?it/s]"
      ]
     },
     "metadata": {},
     "output_type": "display_data"
    },
    {
     "data": {
      "application/vnd.jupyter.widget-view+json": {
       "model_id": "51a763ff6317489280dac898dbe885fe",
       "version_major": 2,
       "version_minor": 0
      },
      "text/plain": [
       "Validation: |          | 0/? [00:00<?, ?it/s]"
      ]
     },
     "metadata": {},
     "output_type": "display_data"
    },
    {
     "data": {
      "application/vnd.jupyter.widget-view+json": {
       "model_id": "8d2507cf03814770b323b5e49334de5d",
       "version_major": 2,
       "version_minor": 0
      },
      "text/plain": [
       "Validation: |          | 0/? [00:00<?, ?it/s]"
      ]
     },
     "metadata": {},
     "output_type": "display_data"
    },
    {
     "name": "stderr",
     "output_type": "stream",
     "text": [
      "INFO:pytorch_lightning.callbacks.early_stopping:Monitored metric val_f1 did not improve in the last 3 records. Best score: 0.211. Signaling Trainer to stop.\n",
      "INFO:pytorch_lightning.accelerators.cuda:LOCAL_RANK: 0 - CUDA_VISIBLE_DEVICES: [0]\n"
     ]
    },
    {
     "data": {
      "application/vnd.jupyter.widget-view+json": {
       "model_id": "5aebbdd1923e4c9baa97f35252d98240",
       "version_major": 2,
       "version_minor": 0
      },
      "text/plain": [
       "Testing: |          | 0/? [00:00<?, ?it/s]"
      ]
     },
     "metadata": {},
     "output_type": "display_data"
    },
    {
     "data": {
      "text/html": [
       "<pre style=\"white-space:pre;overflow-x:auto;line-height:normal;font-family:Menlo,'DejaVu Sans Mono',consolas,'Courier New',monospace\">┏━━━━━━━━━━━━━━━━━━━━━━━━━━━┳━━━━━━━━━━━━━━━━━━━━━━━━━━━┓\n",
       "┃<span style=\"font-weight: bold\">        Test metric        </span>┃<span style=\"font-weight: bold\">       DataLoader 0        </span>┃\n",
       "┡━━━━━━━━━━━━━━━━━━━━━━━━━━━╇━━━━━━━━━━━━━━━━━━━━━━━━━━━┩\n",
       "│<span style=\"color: #008080; text-decoration-color: #008080\">         test_acc          </span>│<span style=\"color: #800080; text-decoration-color: #800080\">    0.21359999477863312    </span>│\n",
       "│<span style=\"color: #008080; text-decoration-color: #008080\">          test_f1          </span>│<span style=\"color: #800080; text-decoration-color: #800080\">    0.21359999477863312    </span>│\n",
       "│<span style=\"color: #008080; text-decoration-color: #008080\">         test_loss         </span>│<span style=\"color: #800080; text-decoration-color: #800080\">    2.8626790046691895     </span>│\n",
       "└───────────────────────────┴───────────────────────────┘\n",
       "</pre>\n"
      ],
      "text/plain": [
       "┏━━━━━━━━━━━━━━━━━━━━━━━━━━━┳━━━━━━━━━━━━━━━━━━━━━━━━━━━┓\n",
       "┃\u001b[1m \u001b[0m\u001b[1m       Test metric       \u001b[0m\u001b[1m \u001b[0m┃\u001b[1m \u001b[0m\u001b[1m      DataLoader 0       \u001b[0m\u001b[1m \u001b[0m┃\n",
       "┡━━━━━━━━━━━━━━━━━━━━━━━━━━━╇━━━━━━━━━━━━━━━━━━━━━━━━━━━┩\n",
       "│\u001b[36m \u001b[0m\u001b[36m        test_acc         \u001b[0m\u001b[36m \u001b[0m│\u001b[35m \u001b[0m\u001b[35m   0.21359999477863312   \u001b[0m\u001b[35m \u001b[0m│\n",
       "│\u001b[36m \u001b[0m\u001b[36m         test_f1         \u001b[0m\u001b[36m \u001b[0m│\u001b[35m \u001b[0m\u001b[35m   0.21359999477863312   \u001b[0m\u001b[35m \u001b[0m│\n",
       "│\u001b[36m \u001b[0m\u001b[36m        test_loss        \u001b[0m\u001b[36m \u001b[0m│\u001b[35m \u001b[0m\u001b[35m   2.8626790046691895    \u001b[0m\u001b[35m \u001b[0m│\n",
       "└───────────────────────────┴───────────────────────────┘\n"
      ]
     },
     "metadata": {},
     "output_type": "display_data"
    },
    {
     "data": {
      "text/plain": [
       "[{'test_loss': 2.8626790046691895,\n",
       "  'test_acc': 0.21359999477863312,\n",
       "  'test_f1': 0.21359999477863312}]"
      ]
     },
     "execution_count": 21,
     "metadata": {},
     "output_type": "execute_result"
    }
   ],
   "source": [
    "# ===== Training =====\n",
    "model_2 = Model_2(num_labels=20)\n",
    "lit_module_2 = LitModule(model_2,tokenizer)\n",
    "\n",
    "early_stop_callback = EarlyStopping(\n",
    "    monitor='val_f1',  # Metric to monitor\n",
    "    min_delta=0.00,           # Minimum change to qualify as an improvement\n",
    "    patience=3,               # Number of epochs with no improvement after which training will be stopped\n",
    "    verbose=True,             # Log information to the console\n",
    "    mode='max'                # 'max' mode means we want to maximize the monitored quantity\n",
    ")\n",
    "\n",
    "\n",
    "trainer_2 = pl.Trainer(\n",
    "    max_epochs=12,\n",
    "    accelerator=device,\n",
    "    logger=False, # Set to True to use a logger for better tracking (e.g., TensorBoard)\n",
    "    callbacks=[early_stop_callback], # Pass the early stopping callback\n",
    "    gradient_clip_val=1.0 # Add gradient clipping\n",
    ")\n",
    "trainer_2.fit(lit_module_2)\n",
    "\n",
    "# ===== Testing =====\n",
    "trainer_2.test(lit_module_2)"
   ]
  },
  {
   "cell_type": "markdown",
   "metadata": {
    "id": "eRQz5i3tbQsY"
   },
   "source": [
    "نتیجه : عملکرد ناموفق\n",
    "\n",
    "دقت ~20% برای ۲۰ کلاس از «کاملاً شانسی» (5%) خیلی بهتره، اما هنوز جای پیشرفت زیاد هست\n",
    "\n",
    "پیش بینی شانسی برای ۲۰ کلاس ≈ 1/20 = 5%. پس 21% یعنی مدل واقعاً چیزی آموخته\n",
    "\n",
    "علت عملکرد پایین ⁉\n",
    "\n",
    "⏹\n",
    "اولا که 4 ایپاک اموزشی خیلی کمه، مدل توی ایپاک 5 تا 10 تازه داره یادمیگیره\n",
    "\n",
    "خیلی سختگیرانه تنظیم شده early-stopping در واقع\n",
    "\n",
    "پیشنهاد بهتر:\n",
    " - patience -> 5-10\n",
    " - min-delta -> 1e-4\n",
    "\n",
    "(**from-scratch**) برای وقتی که مدل رو از صفر اموزش میدیم:\n",
    "- تعداد ایپاک بین 10 تا 30 خوبه\n",
    "\n",
    "⏹\n",
    "برای تسک طبقه بندی متن زیادیه gru_attention مدل و همچنین مکانیزم\n",
    "\n",
    "در تسک های طبقه بندی، مدل به یک دید کلی برای دسته بندی متن ها احتیاج داره. ولی این مدل جزییات و پیچیدگی های متن رو تا حدودی یاد گرفته. دیگه اون دید کلی رو برای دسته بندی متون نداره، دیدش ریزبینانه و جزئی تر هست\n",
    "\n",
    "خیلی خوبه seq2seq , text-generation این مکانیزم توجه برای تسک های\n",
    "\n",
    "ولی برای این تسک که فقط یک طبقه بندی سادست زیادی بوده"
   ]
  },
  {
   "cell_type": "markdown",
   "metadata": {
    "id": "hF0ZrJS-jpur"
   },
   "source": [
    "#### **Model_3**"
   ]
  },
  {
   "cell_type": "code",
   "execution_count": null,
   "metadata": {
    "id": "Xl66N94Ejput"
   },
   "outputs": [],
   "source": [
    "MAX_LENGTH = 512\n",
    "class Model_3(nn.Module):\n",
    "    def __init__(self, vocab_size=VOCAB_SIZE, hidden_dim=128,num_layers=2, num_labels=20):\n",
    "        super().__init__()\n",
    "        self.word_embed = nn.Embedding(vocab_size, hidden_dim)\n",
    "        self.pos_embed = nn.Embedding(MAX_LENGTH,hidden_dim)\n",
    "        self.encod_blocks_1 = nn.ModuleList([\n",
    "            EncoderBlck_1(hidden_dim=hidden_dim)\n",
    "            for _ in range(num_layers)\n",
    "        ])\n",
    "        self.encod_blocks_2 = nn.ModuleList([\n",
    "            EncoderBlck_2(hidden_dim=hidden_dim)\n",
    "            for _ in range(num_layers)\n",
    "        ])\n",
    "        # چون خروجی SimpleEncoder_2 همون hidden_dim هست، اینو تغییر دادم\n",
    "        #self.shared_proj = nn.Linear(hidden_dim, hidden_dim)\n",
    "        #self.ln_proj = nn.LayerNorm(hidden_dim)\n",
    "        self.classifier = nn.Linear(hidden_dim, num_labels)\n",
    "        self.apply(self._init_weights)\n",
    "\n",
    "    def _init_weights(self, m):\n",
    "        if isinstance(m, nn.Linear):\n",
    "            nn.init.normal_(m.weight, mean=0.0, std=0.02)\n",
    "            if m.bias is not None:\n",
    "                nn.init.zeros_(m.bias)\n",
    "        elif isinstance(m, nn.Embedding):\n",
    "            nn.init.normal_(m.weight, mean=0.0, std=0.02)\n",
    "\n",
    "    def forward(self, input_ids):\n",
    "        batch_size, seq_len = input_ids.size()\n",
    "        positions = torch.arange(seq_len, device=input_ids.device).unsqueeze(0).expand(batch_size, seq_len)\n",
    "        x = self.word_embed(input_ids) + self.pos_embed(positions)\n",
    "        for conv,lstm in zip(self.encod_blocks_1,self.encod_blocks_2):\n",
    "            x = lstm(x)\n",
    "            x = conv(x)\n",
    "            #x = self.shared_proj(x)\n",
    "            #x = self.ln_proj(x)\n",
    "        x = x.mean(dim=1)  # برای اینکه مسیله از حالت طبقه بندی توکن به طبقه بندی متن بره\n",
    "        logits = self.classifier(x)\n",
    "        return logits"
   ]
  },
  {
   "cell_type": "code",
   "execution_count": null,
   "metadata": {
    "colab": {
     "base_uri": "https://localhost:8080/",
     "height": 332
    },
    "id": "WshBvNvJjput",
    "outputId": "42fb6659-b109-4801-fe5a-012a2ea75e4f"
   },
   "outputs": [
    {
     "ename": "NameError",
     "evalue": "name 'EncoderBlck_2' is not defined",
     "output_type": "error",
     "traceback": [
      "\u001b[0;31m---------------------------------------------------------------------------\u001b[0m",
      "\u001b[0;31mNameError\u001b[0m                                 Traceback (most recent call last)",
      "\u001b[0;32m/tmp/ipython-input-3269532198.py\u001b[0m in \u001b[0;36m<cell line: 0>\u001b[0;34m()\u001b[0m\n\u001b[1;32m      1\u001b[0m \u001b[0;31m# ===== Training =====\u001b[0m\u001b[0;34m\u001b[0m\u001b[0;34m\u001b[0m\u001b[0m\n\u001b[0;32m----> 2\u001b[0;31m \u001b[0mmodel_3\u001b[0m \u001b[0;34m=\u001b[0m \u001b[0mModel_3\u001b[0m\u001b[0;34m(\u001b[0m\u001b[0mnum_labels\u001b[0m\u001b[0;34m=\u001b[0m\u001b[0;36m20\u001b[0m\u001b[0;34m)\u001b[0m\u001b[0;34m\u001b[0m\u001b[0;34m\u001b[0m\u001b[0m\n\u001b[0m\u001b[1;32m      3\u001b[0m \u001b[0mlit_module_3\u001b[0m \u001b[0;34m=\u001b[0m \u001b[0mLitModule\u001b[0m\u001b[0;34m(\u001b[0m\u001b[0mmodel_3\u001b[0m\u001b[0;34m,\u001b[0m\u001b[0mtokenizer\u001b[0m\u001b[0;34m)\u001b[0m\u001b[0;34m\u001b[0m\u001b[0;34m\u001b[0m\u001b[0m\n\u001b[1;32m      4\u001b[0m \u001b[0;34m\u001b[0m\u001b[0m\n\u001b[1;32m      5\u001b[0m early_stop_callback = EarlyStopping(\n",
      "\u001b[0;32m/tmp/ipython-input-2595843074.py\u001b[0m in \u001b[0;36m__init__\u001b[0;34m(self, vocab_size, hidden_dim, num_layers, num_labels)\u001b[0m\n\u001b[1;32m     10\u001b[0m         ])\n\u001b[1;32m     11\u001b[0m         self.encod_blocks_2 = nn.ModuleList([\n\u001b[0;32m---> 12\u001b[0;31m             \u001b[0mEncoderBlck_2\u001b[0m\u001b[0;34m(\u001b[0m\u001b[0mhidden_dim\u001b[0m\u001b[0;34m=\u001b[0m\u001b[0mhidden_dim\u001b[0m\u001b[0;34m)\u001b[0m\u001b[0;34m\u001b[0m\u001b[0;34m\u001b[0m\u001b[0m\n\u001b[0m\u001b[1;32m     13\u001b[0m             \u001b[0;32mfor\u001b[0m \u001b[0m_\u001b[0m \u001b[0;32min\u001b[0m \u001b[0mrange\u001b[0m\u001b[0;34m(\u001b[0m\u001b[0mnum_layers\u001b[0m\u001b[0;34m)\u001b[0m\u001b[0;34m\u001b[0m\u001b[0;34m\u001b[0m\u001b[0m\n\u001b[1;32m     14\u001b[0m         ])\n",
      "\u001b[0;31mNameError\u001b[0m: name 'EncoderBlck_2' is not defined"
     ]
    }
   ],
   "source": [
    "# ===== Training =====\n",
    "model_3 = Model_3(num_labels=20)\n",
    "lit_module_3 = LitModule(model_3,tokenizer)\n",
    "\n",
    "early_stop_callback = EarlyStopping(\n",
    "    monitor='val_f1',  # Metric to monitor\n",
    "    min_delta=0.00,           # Minimum change to qualify as an improvement\n",
    "    patience=3,               # Number of epochs with no improvement after which training will be stopped\n",
    "    verbose=True,             # Log information to the console\n",
    "    mode='max'                # 'max' mode means we want to maximize the monitored quantity\n",
    ")\n",
    "\n",
    "\n",
    "trainer_3 = pl.Trainer(\n",
    "    max_epochs=15,\n",
    "    accelerator=device,\n",
    "    logger=False, # Set to True to use a logger for better tracking (e.g., TensorBoard)\n",
    "    callbacks=[early_stop_callback], # Pass the early stopping callback\n",
    "    gradient_clip_val=1.0 # Add gradient clipping\n",
    ")\n",
    "trainer_3.fit(lit_module_3)\n",
    "\n",
    "trainer_3.test(lit_module_3)"
   ]
  },
  {
   "cell_type": "markdown",
   "metadata": {
    "id": "DD9aw7iyyYop"
   },
   "source": [
    "#### Labs"
   ]
  },
  {
   "cell_type": "markdown",
   "metadata": {
    "id": "FZ8Z9_cvsRCP"
   },
   "source": [
    "##### Lab_1"
   ]
  },
  {
   "cell_type": "code",
   "execution_count": null,
   "metadata": {
    "colab": {
     "base_uri": "https://localhost:8080/",
     "height": 847,
     "referenced_widgets": [
      "8c5aa388d36f45a98000573235b7028d",
      "e6f7ab2451984613aaf471db5c1c6eec",
      "b7f3a2e5f9cc4115803acfe0f3a9e190",
      "763d5a63d8804995b49ade6ad816e58b",
      "4f0f58ca36504caa8f53ab05649553fe",
      "c42d9c36e39c4dafa5b991dd91b9b871",
      "1933d1f203484684894fd67ce419b30c",
      "7945e9dc71dd4854bb71808a8ab79e51",
      "7891445fdc924a54b1abce96bf121fd2",
      "72186615efc7496cab8bc942388410a9",
      "45d2f22b06014383bf3bd7779335d70a",
      "fc9f0e3c0c604c69b22fa6837786a78e",
      "161659c33f154afeacaf4c08c985f3f3",
      "ab53fb670ecc4eba9cf533ba859fa414",
      "864a2bfb790e4ba19be62f501492f94a",
      "89ae745ebcff4afcb2beeaa903b7180e",
      "fbc2319796f44ba495c26b34b667f0e0",
      "67b4bb1db23049cdadf5c804a12bbcc9",
      "70fc46cab2eb459e9ebb9923ff321fe4",
      "ba2a0798feba44feb3f57b7a927ab5e4",
      "a93e1733ef6942baad907950d0e26e6f",
      "15dbe46356514ae28cd21d5ff6cfd600",
      "8b485c88212d41d5b9fec5d212af3d31",
      "101ca8bdbfc6427b927a5cd3eb89b7de",
      "6959e616834d4b27b2387e7194916d3d",
      "97b4a3dce6fc4b1fa89950bf7ec48a9b",
      "2fe17c75a06041a38ef293a158b9345a",
      "2636ead842244595935ef16b72bfed78",
      "58e8de9785194538ade4ead85325711d",
      "38d177ab510a46139a2224b8098e3037",
      "c56dca1047654f91ace46266ec0954bf",
      "7adc39bfccb5409ea92b0920243c340c",
      "0ba39e17b4bd43f5998d7f84747c65f5",
      "c3b2560957bb4a47b5442ed6b9de2ea1",
      "ce51f8aa4ed547a5830573f61a411fee",
      "f1094cfc713b4a1b9f1ffc9088573e00",
      "8ad91c83cae7496da405ebb3ff7ed059",
      "2dac58457a4e4b748cf5849650ea9fd1",
      "579458f19f5e4687acb09645bd31959e",
      "723ac30612d24a48942c9324cf1c7da6",
      "80551b13b7934f029c932ec399f4e5d2",
      "bb2a77244fd2429b8b706085b6f4cbb4",
      "fe6facdcc1de402f90162f5f2b7b65e5",
      "29598d6c2e394be39b8b189e511c26bc",
      "eb11d3d4712f42d4b0bcae201bc54ce8",
      "f5e43e76878c41c480c27d53eca3d55d",
      "0fc7e39836b94db9906d67c5a379b29f",
      "d5bd009148534750a37171191e546670",
      "8c874f864ca74feebb6c6bd609942421",
      "83cb1c13391b4b629f3c96532121f8f2",
      "4b382b51bada4946aac0e39041925f90",
      "0fae4ddc7c9b4942b819de54fd98f118",
      "491e141f54574c7d99691e6efe3a156e",
      "73961d51c8e542c6be988793988345b7",
      "d1e578751c8241d3b252cd7b3d266e61",
      "bafbeb6bf69c429e8062f82652f7cd16",
      "200120da329843a8b06b84eaaa2e09ad",
      "d9bdfcd7422944aa97f6d3221b604ba2",
      "f05e68b4faba471ca280ce4d0ca39ad4",
      "def1160d0f5b43408418175680ab8d79",
      "c269988e665d4aecae0227a8255d4464",
      "e0053f77cedb4b2497c98720bd247ffe",
      "dfb7c2e2494344d99d43138508fe926b",
      "d3669cb36740401bb73b4994b1521ead",
      "acd384ed90434c9582a680c7d64f97ae",
      "7f11b4dc4e7f410e8d71c0804033bf0c",
      "7ae4cd1ca37d4628b4494d749ba055ff",
      "4a1dbf0f621e4600955cdc24db3e48e2",
      "f6bbb56bca8141c8942d7914deb92701",
      "639fc762ca6542e9976d2a677e3a09ff",
      "f4396bc6dd7745cb87ac6f642b4a52ff",
      "1bca9d7a33f247e2aee6c93508c0b35b",
      "e068b35d2c5149138a6f4b15a49a73a0",
      "d4c9adccf131411f8c5749b5b746734d",
      "156fc02a0e6a427f993e8e40169657d8",
      "df12e12a14ff4c79a5174cb9924dbd5f",
      "36883536fd51404f8282eac305ba28fe"
     ]
    },
    "id": "eAh7IYMwnVwv",
    "outputId": "8fb81a36-a8ea-4ebb-bc33-8e9c5e21a172"
   },
   "outputs": [
    {
     "name": "stderr",
     "output_type": "stream",
     "text": [
      "INFO:pytorch_lightning.utilities.rank_zero:💡 Tip: For seamless cloud uploads and versioning, try installing [litmodels](https://pypi.org/project/litmodels/) to enable LitModelCheckpoint, which syncs automatically with the Lightning model registry.\n",
      "INFO:pytorch_lightning.utilities.rank_zero:GPU available: False, used: False\n",
      "INFO:pytorch_lightning.utilities.rank_zero:TPU available: False, using: 0 TPU cores\n",
      "INFO:pytorch_lightning.utilities.rank_zero:HPU available: False, using: 0 HPUs\n",
      "INFO:pytorch_lightning.callbacks.model_summary:\n",
      "  | Name           | Type               | Params | Mode \n",
      "--------------------------------------------------------------\n",
      "0 | model          | Estandard_Model    | 525 K  | train\n",
      "1 | loss_fn        | CrossEntropyLoss   | 0      | train\n",
      "2 | train_accuracy | MulticlassAccuracy | 0      | train\n",
      "3 | val_accuracy   | MulticlassAccuracy | 0      | train\n",
      "4 | train_f1       | MulticlassF1Score  | 0      | train\n",
      "5 | val_f1         | MulticlassF1Score  | 0      | train\n",
      "6 | test_accuracy  | MulticlassAccuracy | 0      | train\n",
      "7 | test_f1        | MulticlassF1Score  | 0      | train\n",
      "--------------------------------------------------------------\n",
      "525 K     Trainable params\n",
      "0         Non-trainable params\n",
      "525 K     Total params\n",
      "2.103     Total estimated model params size (MB)\n",
      "45        Modules in train mode\n",
      "0         Modules in eval mode\n"
     ]
    },
    {
     "data": {
      "application/vnd.jupyter.widget-view+json": {
       "model_id": "8c5aa388d36f45a98000573235b7028d",
       "version_major": 2,
       "version_minor": 0
      },
      "text/plain": [
       "Sanity Checking: |          | 0/? [00:00<?, ?it/s]"
      ]
     },
     "metadata": {},
     "output_type": "display_data"
    },
    {
     "data": {
      "application/vnd.jupyter.widget-view+json": {
       "model_id": "fc9f0e3c0c604c69b22fa6837786a78e",
       "version_major": 2,
       "version_minor": 0
      },
      "text/plain": [
       "Training: |          | 0/? [00:00<?, ?it/s]"
      ]
     },
     "metadata": {},
     "output_type": "display_data"
    },
    {
     "data": {
      "application/vnd.jupyter.widget-view+json": {
       "model_id": "8b485c88212d41d5b9fec5d212af3d31",
       "version_major": 2,
       "version_minor": 0
      },
      "text/plain": [
       "Validation: |          | 0/? [00:00<?, ?it/s]"
      ]
     },
     "metadata": {},
     "output_type": "display_data"
    },
    {
     "name": "stderr",
     "output_type": "stream",
     "text": [
      "INFO:pytorch_lightning.callbacks.early_stopping:Metric val_f1 improved. New best score: 0.217\n"
     ]
    },
    {
     "data": {
      "application/vnd.jupyter.widget-view+json": {
       "model_id": "c3b2560957bb4a47b5442ed6b9de2ea1",
       "version_major": 2,
       "version_minor": 0
      },
      "text/plain": [
       "Validation: |          | 0/? [00:00<?, ?it/s]"
      ]
     },
     "metadata": {},
     "output_type": "display_data"
    },
    {
     "data": {
      "application/vnd.jupyter.widget-view+json": {
       "model_id": "eb11d3d4712f42d4b0bcae201bc54ce8",
       "version_major": 2,
       "version_minor": 0
      },
      "text/plain": [
       "Validation: |          | 0/? [00:00<?, ?it/s]"
      ]
     },
     "metadata": {},
     "output_type": "display_data"
    },
    {
     "data": {
      "application/vnd.jupyter.widget-view+json": {
       "model_id": "bafbeb6bf69c429e8062f82652f7cd16",
       "version_major": 2,
       "version_minor": 0
      },
      "text/plain": [
       "Validation: |          | 0/? [00:00<?, ?it/s]"
      ]
     },
     "metadata": {},
     "output_type": "display_data"
    },
    {
     "name": "stderr",
     "output_type": "stream",
     "text": [
      "INFO:pytorch_lightning.callbacks.early_stopping:Monitored metric val_f1 did not improve in the last 3 records. Best score: 0.217. Signaling Trainer to stop.\n"
     ]
    },
    {
     "data": {
      "application/vnd.jupyter.widget-view+json": {
       "model_id": "7ae4cd1ca37d4628b4494d749ba055ff",
       "version_major": 2,
       "version_minor": 0
      },
      "text/plain": [
       "Testing: |          | 0/? [00:00<?, ?it/s]"
      ]
     },
     "metadata": {},
     "output_type": "display_data"
    },
    {
     "data": {
      "text/html": [
       "<pre style=\"white-space:pre;overflow-x:auto;line-height:normal;font-family:Menlo,'DejaVu Sans Mono',consolas,'Courier New',monospace\">┏━━━━━━━━━━━━━━━━━━━━━━━━━━━┳━━━━━━━━━━━━━━━━━━━━━━━━━━━┓\n",
       "┃<span style=\"font-weight: bold\">        Test metric        </span>┃<span style=\"font-weight: bold\">       DataLoader 0        </span>┃\n",
       "┡━━━━━━━━━━━━━━━━━━━━━━━━━━━╇━━━━━━━━━━━━━━━━━━━━━━━━━━━┩\n",
       "│<span style=\"color: #008080; text-decoration-color: #008080\">         test_acc          </span>│<span style=\"color: #800080; text-decoration-color: #800080\">    0.20800000429153442    </span>│\n",
       "│<span style=\"color: #008080; text-decoration-color: #008080\">          test_f1          </span>│<span style=\"color: #800080; text-decoration-color: #800080\">    0.20800000429153442    </span>│\n",
       "│<span style=\"color: #008080; text-decoration-color: #008080\">         test_loss         </span>│<span style=\"color: #800080; text-decoration-color: #800080\">    4.7213568687438965     </span>│\n",
       "└───────────────────────────┴───────────────────────────┘\n",
       "</pre>\n"
      ],
      "text/plain": [
       "┏━━━━━━━━━━━━━━━━━━━━━━━━━━━┳━━━━━━━━━━━━━━━━━━━━━━━━━━━┓\n",
       "┃\u001b[1m \u001b[0m\u001b[1m       Test metric       \u001b[0m\u001b[1m \u001b[0m┃\u001b[1m \u001b[0m\u001b[1m      DataLoader 0       \u001b[0m\u001b[1m \u001b[0m┃\n",
       "┡━━━━━━━━━━━━━━━━━━━━━━━━━━━╇━━━━━━━━━━━━━━━━━━━━━━━━━━━┩\n",
       "│\u001b[36m \u001b[0m\u001b[36m        test_acc         \u001b[0m\u001b[36m \u001b[0m│\u001b[35m \u001b[0m\u001b[35m   0.20800000429153442   \u001b[0m\u001b[35m \u001b[0m│\n",
       "│\u001b[36m \u001b[0m\u001b[36m         test_f1         \u001b[0m\u001b[36m \u001b[0m│\u001b[35m \u001b[0m\u001b[35m   0.20800000429153442   \u001b[0m\u001b[35m \u001b[0m│\n",
       "│\u001b[36m \u001b[0m\u001b[36m        test_loss        \u001b[0m\u001b[36m \u001b[0m│\u001b[35m \u001b[0m\u001b[35m   4.7213568687438965    \u001b[0m\u001b[35m \u001b[0m│\n",
       "└───────────────────────────┴───────────────────────────┘\n"
      ]
     },
     "metadata": {},
     "output_type": "display_data"
    },
    {
     "data": {
      "text/plain": [
       "[{'test_loss': 4.7213568687438965,\n",
       "  'test_acc': 0.20800000429153442,\n",
       "  'test_f1': 0.20800000429153442}]"
      ]
     },
     "execution_count": 22,
     "metadata": {},
     "output_type": "execute_result"
    }
   ],
   "source": [
    "# ===== Training =====\n",
    "est_model = Estandard_Model(num_labels=20,hidden_dim=16,num_heads=2,num_layers=3)\n",
    "lit_est_module = LitModule(est_model,tokenizer,train_dataset=train_dataset.select(range(3000)),val_dataset=val_dataset.select(range(300)),test_dataset=test_dataset.select(range(500)))\n",
    "\n",
    "early_stop_callback = EarlyStopping(\n",
    "    monitor='val_f1',  # Metric to monitor\n",
    "    min_delta=0.00,           # Minimum change to qualify as an improvement\n",
    "    patience=3,               # Number of epochs with no improvement after which training will be stopped\n",
    "    verbose=True,             # Log information to the console\n",
    "    mode='max'                # 'max' mode means we want to maximize the monitored quantity\n",
    ")\n",
    "\n",
    "est_trainer = pl.Trainer(\n",
    "    max_epochs=6,\n",
    "    accelerator=device,\n",
    "    logger=False, # Set to True to use a logger for better tracking (e.g., TensorBoard)\n",
    "    callbacks=[early_stop_callback], # Pass the early stopping callback\n",
    "    gradient_clip_val=1.0 # Add gradient clipping\n",
    ")\n",
    "est_trainer.fit(lit_est_module)\n",
    "\n",
    "est_trainer.test(lit_est_module)"
   ]
  },
  {
   "cell_type": "code",
   "execution_count": null,
   "metadata": {
    "colab": {
     "base_uri": "https://localhost:8080/",
     "height": 687,
     "referenced_widgets": [
      "8848bd2db16b4265ae24805800170239",
      "5cb7445382ae42cfac3b06b0097de066",
      "288926f9e9664f8aa4e1c5c70dc56e1e",
      "49f969956a5642d2897a6e113db36879",
      "59329ed29cc847879fdafda9762d133d",
      "f103915b9ce54f18a4e493c7dab55b26",
      "7383a003d96341c38a0e1e7008b57f95",
      "0a7c63ba858b438d8a5a492ad18d333a",
      "a757dd8183f348a7bd072849798dc793",
      "4ad162731c8540a88f8f3ca902ac1747",
      "613b83de709c4173b4ac486e40248a88",
      "348481257c084c199f516af4e568583f",
      "5a42f7ed316b4d9db525c9e90b542ff2",
      "07009e54f7e44e399e25927622280f84",
      "5cc22933c92541678cd597c3d8f0f272",
      "36abf76cf8224a3690ab7e3ec57ef588",
      "89b048fb15734454b68122674b1463f5",
      "e80977a74bbf4dcc93a504bf5406bfea",
      "c0e9950284ea4abd84c773d188bfa5cb",
      "ee40844f9fb049088987d907f752ad90",
      "17fbb6b2bbc34ff1a680090a05f41c27",
      "95dc1d96ae9e4db2882d081ddfbf5b47",
      "9c4ecad29d194146a09cacadbb45377f",
      "3b5fa339748748708e0115aa0bdb3d44",
      "34ae02067c654d33b6bdc84e1314683b",
      "fea294964c344b8c827b951a042f8a1f",
      "366469bc542a4faeae0b2f197e308cab",
      "d554a86268f0408fb3132db93b97853d",
      "6be6bb04701348a6897edd443721e56f",
      "cf2b416409cc4a49a3a2524e486a9702",
      "40584fa2ce3643ed98c19f758ba11781",
      "83c3bce2efd9459794278ceafeca8765",
      "13854520bae6476cbaba4e8b55471560",
      "52014d982ada43f5a4d88ef184d0d66d",
      "b1a309ae4b714ab190e4f1e893965f50",
      "1eb6f18f7795487f8379e6e790c14a6a",
      "a4cb984e597947cc899a0d5b86cd56d0",
      "90d67598e1c24163857d29f203a73b48",
      "1dc206a7045c494c8f9e1e2c18735f4a",
      "259a12e9e8dc4f4ba13a19ae5f31192c",
      "7c524acf82ed4a29b3ce1f16c2b2cfbe",
      "223516d5dc1e49b8b9a6b2bc677d7ace",
      "11a1b5cb369c4c6a81d696d04cff7991",
      "f467ccdd17fe4902b3e16f8661eeb5ad",
      "153ea2209c2c4cecb7c495c0b32d7ffa",
      "34f13bab0f2140c6b53f158ad7860de6",
      "cf7b1e206a944de49a01430390ec8b18",
      "db367045f5824dba947bb6c368da8444",
      "d64eba3ebadc4e639b04a6dd75b2ec0c",
      "809939591b53482993575f516850d6ca",
      "2f9765f809584a79a6b62ab22fbd0476",
      "9aa2f48cbcb74d459c840c442b70a021",
      "abd1e5caac6942f9a7ea234b021a0163",
      "653f4f64ef60474fad45ef4ba3e1d9a6",
      "12e4a478f6154e90a886db7ada78cba3",
      "72196041dab048f1941f08630d903f32",
      "70913928bec047de8f3a66c448daa192",
      "5566db146ab249a9a58058a8800c87ed",
      "eb1a3a6eb9a24706b7c23b664280a746",
      "3572a4c58a1c4ca9a999903925dd57db",
      "6f107ff9b2664042aca645df7477c18f",
      "07992f8a5e3b45c0922ae134457bfa47",
      "50172739260348b0a077ac1f414b9380",
      "47d548110ff94dd4a78d49bbea6a4fbb",
      "8598a1787d2b45e2819be2bb09b08db2",
      "ea9a23261837413cb733e6a6fc975e36",
      "cb0f6ed962664b65b6d67c53ee954871",
      "40a930c29bc04081a89ddca93fcc1e18",
      "d24a82e4f6a3407192f8f9b88f4d6d72",
      "5ca4b9c7abbf44c4bee6954ea218e49b",
      "637692fe860142f2bacf167b25c60d0d",
      "de677d0335f64942a8934667c0af8efb",
      "80ee71537e6640ce8607977b9484e72a",
      "35a30da7df634292882f9f03d53f1602",
      "ab59b4d02c1249efa293d209e74148ab",
      "b74989a8fe934813befab9fcac202249",
      "4c4cbbf50b9a4a3f95462b443efadd1e"
     ]
    },
    "id": "ZW3sD4EHbqIL",
    "outputId": "a43645f0-2540-4ce6-8264-b63788051951"
   },
   "outputs": [
    {
     "name": "stderr",
     "output_type": "stream",
     "text": [
      "INFO:pytorch_lightning.utilities.rank_zero:💡 Tip: For seamless cloud uploads and versioning, try installing [litmodels](https://pypi.org/project/litmodels/) to enable LitModelCheckpoint, which syncs automatically with the Lightning model registry.\n",
      "INFO:pytorch_lightning.utilities.rank_zero:GPU available: False, used: False\n",
      "INFO:pytorch_lightning.utilities.rank_zero:TPU available: False, using: 0 TPU cores\n",
      "INFO:pytorch_lightning.utilities.rank_zero:HPU available: False, using: 0 HPUs\n",
      "INFO:pytorch_lightning.callbacks.model_summary:\n",
      "  | Name           | Type               | Params | Mode \n",
      "--------------------------------------------------------------\n",
      "0 | model          | Model_1            | 510 K  | train\n",
      "1 | loss_fn        | CrossEntropyLoss   | 0      | train\n",
      "2 | train_accuracy | MulticlassAccuracy | 0      | train\n",
      "3 | val_accuracy   | MulticlassAccuracy | 0      | train\n",
      "4 | train_f1       | MulticlassF1Score  | 0      | train\n",
      "5 | val_f1         | MulticlassF1Score  | 0      | train\n",
      "6 | test_accuracy  | MulticlassAccuracy | 0      | train\n",
      "7 | test_f1        | MulticlassF1Score  | 0      | train\n",
      "--------------------------------------------------------------\n",
      "510 K     Trainable params\n",
      "0         Non-trainable params\n",
      "510 K     Total params\n",
      "2.042     Total estimated model params size (MB)\n",
      "54        Modules in train mode\n",
      "0         Modules in eval mode\n"
     ]
    },
    {
     "data": {
      "application/vnd.jupyter.widget-view+json": {
       "model_id": "8848bd2db16b4265ae24805800170239",
       "version_major": 2,
       "version_minor": 0
      },
      "text/plain": [
       "Sanity Checking: |          | 0/? [00:00<?, ?it/s]"
      ]
     },
     "metadata": {},
     "output_type": "display_data"
    },
    {
     "data": {
      "application/vnd.jupyter.widget-view+json": {
       "model_id": "348481257c084c199f516af4e568583f",
       "version_major": 2,
       "version_minor": 0
      },
      "text/plain": [
       "Training: |          | 0/? [00:00<?, ?it/s]"
      ]
     },
     "metadata": {},
     "output_type": "display_data"
    },
    {
     "data": {
      "application/vnd.jupyter.widget-view+json": {
       "model_id": "9c4ecad29d194146a09cacadbb45377f",
       "version_major": 2,
       "version_minor": 0
      },
      "text/plain": [
       "Validation: |          | 0/? [00:00<?, ?it/s]"
      ]
     },
     "metadata": {},
     "output_type": "display_data"
    },
    {
     "name": "stderr",
     "output_type": "stream",
     "text": [
      "INFO:pytorch_lightning.callbacks.early_stopping:Metric val_f1 improved. New best score: 0.220\n"
     ]
    },
    {
     "data": {
      "application/vnd.jupyter.widget-view+json": {
       "model_id": "52014d982ada43f5a4d88ef184d0d66d",
       "version_major": 2,
       "version_minor": 0
      },
      "text/plain": [
       "Validation: |          | 0/? [00:00<?, ?it/s]"
      ]
     },
     "metadata": {},
     "output_type": "display_data"
    },
    {
     "data": {
      "application/vnd.jupyter.widget-view+json": {
       "model_id": "153ea2209c2c4cecb7c495c0b32d7ffa",
       "version_major": 2,
       "version_minor": 0
      },
      "text/plain": [
       "Validation: |          | 0/? [00:00<?, ?it/s]"
      ]
     },
     "metadata": {},
     "output_type": "display_data"
    },
    {
     "data": {
      "application/vnd.jupyter.widget-view+json": {
       "model_id": "72196041dab048f1941f08630d903f32",
       "version_major": 2,
       "version_minor": 0
      },
      "text/plain": [
       "Validation: |          | 0/? [00:00<?, ?it/s]"
      ]
     },
     "metadata": {},
     "output_type": "display_data"
    },
    {
     "name": "stderr",
     "output_type": "stream",
     "text": [
      "INFO:pytorch_lightning.callbacks.early_stopping:Monitored metric val_f1 did not improve in the last 3 records. Best score: 0.220. Signaling Trainer to stop.\n"
     ]
    },
    {
     "data": {
      "application/vnd.jupyter.widget-view+json": {
       "model_id": "cb0f6ed962664b65b6d67c53ee954871",
       "version_major": 2,
       "version_minor": 0
      },
      "text/plain": [
       "Testing: |          | 0/? [00:00<?, ?it/s]"
      ]
     },
     "metadata": {},
     "output_type": "display_data"
    },
    {
     "data": {
      "text/html": [
       "<pre style=\"white-space:pre;overflow-x:auto;line-height:normal;font-family:Menlo,'DejaVu Sans Mono',consolas,'Courier New',monospace\">┏━━━━━━━━━━━━━━━━━━━━━━━━━━━┳━━━━━━━━━━━━━━━━━━━━━━━━━━━┓\n",
       "┃<span style=\"font-weight: bold\">        Test metric        </span>┃<span style=\"font-weight: bold\">       DataLoader 0        </span>┃\n",
       "┡━━━━━━━━━━━━━━━━━━━━━━━━━━━╇━━━━━━━━━━━━━━━━━━━━━━━━━━━┩\n",
       "│<span style=\"color: #008080; text-decoration-color: #008080\">         test_acc          </span>│<span style=\"color: #800080; text-decoration-color: #800080\">    0.20200000703334808    </span>│\n",
       "│<span style=\"color: #008080; text-decoration-color: #008080\">          test_f1          </span>│<span style=\"color: #800080; text-decoration-color: #800080\">    0.20200000703334808    </span>│\n",
       "│<span style=\"color: #008080; text-decoration-color: #008080\">         test_loss         </span>│<span style=\"color: #800080; text-decoration-color: #800080\">    2.7551193237304688     </span>│\n",
       "└───────────────────────────┴───────────────────────────┘\n",
       "</pre>\n"
      ],
      "text/plain": [
       "┏━━━━━━━━━━━━━━━━━━━━━━━━━━━┳━━━━━━━━━━━━━━━━━━━━━━━━━━━┓\n",
       "┃\u001b[1m \u001b[0m\u001b[1m       Test metric       \u001b[0m\u001b[1m \u001b[0m┃\u001b[1m \u001b[0m\u001b[1m      DataLoader 0       \u001b[0m\u001b[1m \u001b[0m┃\n",
       "┡━━━━━━━━━━━━━━━━━━━━━━━━━━━╇━━━━━━━━━━━━━━━━━━━━━━━━━━━┩\n",
       "│\u001b[36m \u001b[0m\u001b[36m        test_acc         \u001b[0m\u001b[36m \u001b[0m│\u001b[35m \u001b[0m\u001b[35m   0.20200000703334808   \u001b[0m\u001b[35m \u001b[0m│\n",
       "│\u001b[36m \u001b[0m\u001b[36m         test_f1         \u001b[0m\u001b[36m \u001b[0m│\u001b[35m \u001b[0m\u001b[35m   0.20200000703334808   \u001b[0m\u001b[35m \u001b[0m│\n",
       "│\u001b[36m \u001b[0m\u001b[36m        test_loss        \u001b[0m\u001b[36m \u001b[0m│\u001b[35m \u001b[0m\u001b[35m   2.7551193237304688    \u001b[0m\u001b[35m \u001b[0m│\n",
       "└───────────────────────────┴───────────────────────────┘\n"
      ]
     },
     "metadata": {},
     "output_type": "display_data"
    },
    {
     "data": {
      "text/plain": [
       "[{'test_loss': 2.7551193237304688,\n",
       "  'test_acc': 0.20200000703334808,\n",
       "  'test_f1': 0.20200000703334808}]"
      ]
     },
     "execution_count": 42,
     "metadata": {},
     "output_type": "execute_result"
    }
   ],
   "source": [
    "# ===== Training =====\n",
    "model_1 = Model_1(num_labels=20,hidden_dim=16,num_layers=3)\n",
    "lit_module_1 = LitModule(model_1,tokenizer,train_dataset=train_dataset.select(range(3000)),val_dataset=val_dataset.select(range(300)),test_dataset=test_dataset.select(range(500)))\n",
    "\n",
    "early_stop_callback = EarlyStopping(\n",
    "    monitor='val_f1',  # Metric to monitor\n",
    "    min_delta=0.00,           # Minimum change to qualify as an improvement\n",
    "    patience=3,               # Number of epochs with no improvement after which training will be stopped\n",
    "    verbose=True,             # Log information to the console\n",
    "    mode='max'                # 'max' mode means we want to maximize the monitored quantity\n",
    ")\n",
    "\n",
    "trainer_1 = pl.Trainer(\n",
    "    max_epochs=6,\n",
    "    accelerator=device,\n",
    "    logger=False, # Set to True to use a logger for better tracking (e.g., TensorBoard)\n",
    "    callbacks=[early_stop_callback], # Pass the early stopping callback\n",
    "    gradient_clip_val=1.0 # Add gradient clipping\n",
    ")\n",
    "trainer_1.fit(lit_module_1)\n",
    "\n",
    "trainer_1.test(lit_module_1)"
   ]
  },
  {
   "cell_type": "code",
   "execution_count": null,
   "metadata": {
    "colab": {
     "base_uri": "https://localhost:8080/",
     "height": 704,
     "referenced_widgets": [
      "d87eed49bad44406b74e665ee7d21ee3",
      "a6bd30f1dca64b5fb5be65019ba25c6d",
      "9cef15edc94d4a3f9f87ea0ff781e5d9",
      "3d7bbf81dab4499c8b21a0a8fdb346f1",
      "e3127c5be5e54f1289b1cbdd51a40cdd",
      "771fb1fdc3da47f3aeb92d734cbf0105",
      "4c26ed2ce61d4cbaa9f0192e5bcb5fca",
      "f1636723928b4082afc514eb35a04d21",
      "09b4137ae13e4402be87a977318aab83",
      "b7898a718c4443f3a6aebbea41e8322f",
      "57a7c59836994f6a9b42f79688d01a73",
      "a5b2624948504a0ab156bf4c383d9f06",
      "4c5afc7853cf4d8ab892dcc53950efa9",
      "f2a8f7cbeaea4000a39d7b2c8343ad4f",
      "522fa89f01cd4b3d9733fbd0776869fd",
      "b9170605263c473d881e0a1d50af2cf8",
      "c39b74599f8d4aff8703003798c48a65",
      "90e735a4a2dc42188c9e6dd5381dab6e",
      "6474f5c41a38482ebbd494a967b560b7",
      "8a7d23456109435eabe427fdd0f028c6",
      "16221eaf08324fdc9b81286e7a17ce96",
      "1ddc988d156d4caeb4a3962f8a8c4962",
      "3d739ac04462462a93369114380b1641",
      "4e993c2258d84c50b7419e7fcf734078",
      "e54e2dd5b539405f80f4f8923b03bedd",
      "bcaf3a70b5c1427ea1cc1fe186d3c8c0",
      "91f0024ce6cf4739b03d45a05955dcad",
      "1e4cd715e1d04a5f8472112fcd7deaad",
      "b0011417fa944f04be41b4639ece1c17",
      "488f11d6257a4c93a5f2526b231ca5fc",
      "95fbd43bccd04aac9d4c74fbcad2863a",
      "88709465f052425fae1b709274f3ce6a",
      "cc9c54960c6543ce85e0b4f08bb4e68d",
      "76ae468b44a542c9bb24a1d8cf745fe1",
      "b11ab51e6ab64a6ab273d4fed8991a71",
      "e86b3559b5a24d09921b29a0a7fad9bd",
      "e703fafd45e64fc1bd261394006160d0",
      "04d66a83971444e49d42cb7fb215fa36",
      "ab47d7a131a54406b498a27d76ee6c4a",
      "a7296064c23c4f68bd308b8ba011e680",
      "e0563a30181249d98638a18b48fb5801",
      "57b1d10eaf204318891f2ba9ee98763d",
      "580e62aa057047839fd3dc01bb71836e",
      "8bbe9a178db346db95a1272571dd0d4c",
      "3dd02668427f4883abf4f37a503b978f",
      "422c78cbf22542b6bb5255a24e69f081",
      "80a5bfbd49a9498db0e2acbb1eae583b",
      "3804aa5f8a3d433d8405e4d335aeaebd",
      "7154c21d821542a89df4595d34b3b27d",
      "542d065037e9491985be3a75bad3250c",
      "e849ca74f134480fa739da679280eb4b",
      "b2d0589701ea4599ab0cd1fe5c693308",
      "b1289a0baf2a45369619a2a6d60d0ba3",
      "9dcfd7aec7fa4b17b49f7377630f9739",
      "415f83ee3e8f42f6bbdf1f72a38fcc96",
      "7d39107b38224c8487f48b4bf2cdbc7d",
      "4c1b361241b2487a87528a803b944d31",
      "773873cdf7ef4131a1f19272ff9ba95d",
      "543aefc22ffd47ef856fce730b8b1f0c",
      "ed975a53de4f4dc28eb2962a452a3de1",
      "e061d943f4b043fb8ffea2cc1883cad5",
      "069809c0f22c41a0ab5fd4cd57b386b7",
      "5af88e354f8f4f019673f75d21465513",
      "8a73896acbce442087f849437df97670",
      "824b5d953ad947b5876addc25d668b4a",
      "5ebc3b0a5eda43d68e523458931f860b",
      "e934b12e7131492685dab0e1aad340de",
      "97e86d6bc79c4ac5864838b0fe1618f9",
      "68b00fa68f6c45f9bf1a591853e428d9",
      "88a05a67e13647a9b5ec2bf9f4e93ce9",
      "37268c6ec9e64f65a8aeeb4b6f12fb1e",
      "a90d5729880b4911b7e41979dcf16517",
      "f707b5b3ad9d4addab4862819e2ea749",
      "0ae41a6661fb4eafbb3396d164b22586",
      "b7e9454d37c34c179dbf197fca4482bc",
      "9b1db26c5e6b4a45b97045dd89d483e3",
      "51d5ac156ed44e6999f5081b235f78e7"
     ]
    },
    "id": "1zSArCaExjos",
    "outputId": "e863293b-3cb9-4994-fa3c-ec434f5838cb"
   },
   "outputs": [
    {
     "name": "stderr",
     "output_type": "stream",
     "text": [
      "INFO:pytorch_lightning.utilities.rank_zero:💡 Tip: For seamless cloud uploads and versioning, try installing [litmodels](https://pypi.org/project/litmodels/) to enable LitModelCheckpoint, which syncs automatically with the Lightning model registry.\n",
      "INFO:pytorch_lightning.utilities.rank_zero:GPU available: False, used: False\n",
      "INFO:pytorch_lightning.utilities.rank_zero:TPU available: False, using: 0 TPU cores\n",
      "INFO:pytorch_lightning.utilities.rank_zero:HPU available: False, using: 0 HPUs\n",
      "/usr/local/lib/python3.12/dist-packages/pytorch_lightning/callbacks/model_checkpoint.py:751: Checkpoint directory /content/checkpoints exists and is not empty.\n",
      "INFO:pytorch_lightning.callbacks.model_summary:\n",
      "  | Name           | Type               | Params | Mode \n",
      "--------------------------------------------------------------\n",
      "0 | model          | Model_2            | 526 K  | train\n",
      "1 | loss_fn        | CrossEntropyLoss   | 0      | train\n",
      "2 | train_accuracy | MulticlassAccuracy | 0      | train\n",
      "3 | val_accuracy   | MulticlassAccuracy | 0      | train\n",
      "4 | train_f1       | MulticlassF1Score  | 0      | train\n",
      "5 | val_f1         | MulticlassF1Score  | 0      | train\n",
      "6 | test_accuracy  | MulticlassAccuracy | 0      | train\n",
      "7 | test_f1        | MulticlassF1Score  | 0      | train\n",
      "--------------------------------------------------------------\n",
      "526 K     Trainable params\n",
      "0         Non-trainable params\n",
      "526 K     Total params\n",
      "2.105     Total estimated model params size (MB)\n",
      "56        Modules in train mode\n",
      "0         Modules in eval mode\n"
     ]
    },
    {
     "data": {
      "application/vnd.jupyter.widget-view+json": {
       "model_id": "d87eed49bad44406b74e665ee7d21ee3",
       "version_major": 2,
       "version_minor": 0
      },
      "text/plain": [
       "Sanity Checking: |          | 0/? [00:00<?, ?it/s]"
      ]
     },
     "metadata": {},
     "output_type": "display_data"
    },
    {
     "data": {
      "application/vnd.jupyter.widget-view+json": {
       "model_id": "a5b2624948504a0ab156bf4c383d9f06",
       "version_major": 2,
       "version_minor": 0
      },
      "text/plain": [
       "Training: |          | 0/? [00:00<?, ?it/s]"
      ]
     },
     "metadata": {},
     "output_type": "display_data"
    },
    {
     "data": {
      "application/vnd.jupyter.widget-view+json": {
       "model_id": "3d739ac04462462a93369114380b1641",
       "version_major": 2,
       "version_minor": 0
      },
      "text/plain": [
       "Validation: |          | 0/? [00:00<?, ?it/s]"
      ]
     },
     "metadata": {},
     "output_type": "display_data"
    },
    {
     "name": "stderr",
     "output_type": "stream",
     "text": [
      "INFO:pytorch_lightning.callbacks.early_stopping:Metric val_f1 improved. New best score: 0.220\n"
     ]
    },
    {
     "data": {
      "application/vnd.jupyter.widget-view+json": {
       "model_id": "76ae468b44a542c9bb24a1d8cf745fe1",
       "version_major": 2,
       "version_minor": 0
      },
      "text/plain": [
       "Validation: |          | 0/? [00:00<?, ?it/s]"
      ]
     },
     "metadata": {},
     "output_type": "display_data"
    },
    {
     "data": {
      "application/vnd.jupyter.widget-view+json": {
       "model_id": "3dd02668427f4883abf4f37a503b978f",
       "version_major": 2,
       "version_minor": 0
      },
      "text/plain": [
       "Validation: |          | 0/? [00:00<?, ?it/s]"
      ]
     },
     "metadata": {},
     "output_type": "display_data"
    },
    {
     "data": {
      "application/vnd.jupyter.widget-view+json": {
       "model_id": "7d39107b38224c8487f48b4bf2cdbc7d",
       "version_major": 2,
       "version_minor": 0
      },
      "text/plain": [
       "Validation: |          | 0/? [00:00<?, ?it/s]"
      ]
     },
     "metadata": {},
     "output_type": "display_data"
    },
    {
     "name": "stderr",
     "output_type": "stream",
     "text": [
      "INFO:pytorch_lightning.callbacks.early_stopping:Monitored metric val_f1 did not improve in the last 3 records. Best score: 0.220. Signaling Trainer to stop.\n"
     ]
    },
    {
     "data": {
      "application/vnd.jupyter.widget-view+json": {
       "model_id": "e934b12e7131492685dab0e1aad340de",
       "version_major": 2,
       "version_minor": 0
      },
      "text/plain": [
       "Testing: |          | 0/? [00:00<?, ?it/s]"
      ]
     },
     "metadata": {},
     "output_type": "display_data"
    },
    {
     "data": {
      "text/html": [
       "<pre style=\"white-space:pre;overflow-x:auto;line-height:normal;font-family:Menlo,'DejaVu Sans Mono',consolas,'Courier New',monospace\">┏━━━━━━━━━━━━━━━━━━━━━━━━━━━┳━━━━━━━━━━━━━━━━━━━━━━━━━━━┓\n",
       "┃<span style=\"font-weight: bold\">        Test metric        </span>┃<span style=\"font-weight: bold\">       DataLoader 0        </span>┃\n",
       "┡━━━━━━━━━━━━━━━━━━━━━━━━━━━╇━━━━━━━━━━━━━━━━━━━━━━━━━━━┩\n",
       "│<span style=\"color: #008080; text-decoration-color: #008080\">         test_acc          </span>│<span style=\"color: #800080; text-decoration-color: #800080\">    0.20200000703334808    </span>│\n",
       "│<span style=\"color: #008080; text-decoration-color: #008080\">          test_f1          </span>│<span style=\"color: #800080; text-decoration-color: #800080\">    0.20200000703334808    </span>│\n",
       "│<span style=\"color: #008080; text-decoration-color: #008080\">         test_loss         </span>│<span style=\"color: #800080; text-decoration-color: #800080\">    2.7458322048187256     </span>│\n",
       "└───────────────────────────┴───────────────────────────┘\n",
       "</pre>\n"
      ],
      "text/plain": [
       "┏━━━━━━━━━━━━━━━━━━━━━━━━━━━┳━━━━━━━━━━━━━━━━━━━━━━━━━━━┓\n",
       "┃\u001b[1m \u001b[0m\u001b[1m       Test metric       \u001b[0m\u001b[1m \u001b[0m┃\u001b[1m \u001b[0m\u001b[1m      DataLoader 0       \u001b[0m\u001b[1m \u001b[0m┃\n",
       "┡━━━━━━━━━━━━━━━━━━━━━━━━━━━╇━━━━━━━━━━━━━━━━━━━━━━━━━━━┩\n",
       "│\u001b[36m \u001b[0m\u001b[36m        test_acc         \u001b[0m\u001b[36m \u001b[0m│\u001b[35m \u001b[0m\u001b[35m   0.20200000703334808   \u001b[0m\u001b[35m \u001b[0m│\n",
       "│\u001b[36m \u001b[0m\u001b[36m         test_f1         \u001b[0m\u001b[36m \u001b[0m│\u001b[35m \u001b[0m\u001b[35m   0.20200000703334808   \u001b[0m\u001b[35m \u001b[0m│\n",
       "│\u001b[36m \u001b[0m\u001b[36m        test_loss        \u001b[0m\u001b[36m \u001b[0m│\u001b[35m \u001b[0m\u001b[35m   2.7458322048187256    \u001b[0m\u001b[35m \u001b[0m│\n",
       "└───────────────────────────┴───────────────────────────┘\n"
      ]
     },
     "metadata": {},
     "output_type": "display_data"
    },
    {
     "data": {
      "text/plain": [
       "[{'test_loss': 2.7458322048187256,\n",
       "  'test_acc': 0.20200000703334808,\n",
       "  'test_f1': 0.20200000703334808}]"
      ]
     },
     "execution_count": 45,
     "metadata": {},
     "output_type": "execute_result"
    }
   ],
   "source": [
    "# ===== Training =====\n",
    "model_2 = Model_2(num_labels=20,hidden_dim=16,num_layers=3)\n",
    "lit_module_2 = LitModule(model_2,tokenizer,train_dataset=train_dataset.select(range(3000)),val_dataset=val_dataset.select(range(300)),test_dataset=test_dataset.select(range(500)))\n",
    "\n",
    "early_stop_callback = EarlyStopping(\n",
    "    monitor='val_f1',  # Metric to monitor\n",
    "    min_delta=0.00,           # Minimum change to qualify as an improvement\n",
    "    patience=3,               # Number of epochs with no improvement after which training will be stopped\n",
    "    verbose=True,             # Log information to the console\n",
    "    mode='max'                # 'max' mode means we want to maximize the monitored quantity\n",
    ")\n",
    "\n",
    "trainer_2 = pl.Trainer(\n",
    "    max_epochs=6,\n",
    "    accelerator=device,\n",
    "    logger=False, # Set to True to use a logger for better tracking (e.g., TensorBoard)\n",
    "    callbacks=[early_stop_callback], # Pass the early stopping callback\n",
    "    gradient_clip_val=1.0 # Add gradient clipping\n",
    ")\n",
    "trainer_2.fit(lit_module_2)\n",
    "\n",
    "trainer_2.test(lit_module_2)"
   ]
  },
  {
   "cell_type": "code",
   "execution_count": null,
   "metadata": {
    "colab": {
     "base_uri": "https://localhost:8080/",
     "height": 864,
     "referenced_widgets": [
      "57a1d3d1ddd7492893bc05aff0c81cd5",
      "a28d7da817524842aecf6b199e81efa9",
      "995ce60d90494d289e611f617ef18c55",
      "ad864a270e9946f8a29db5b45285a96f",
      "f3daca0b09b241a6bebca40dba7b2a72",
      "7a1079257af540a4a0765ca12189aa45",
      "f7ca6dddf49744f2a68c78230346053d",
      "a84be26de76442b0a8a2fa9f1396b245",
      "16da45c5d32e4f8983e1b916ab3fd2a7",
      "ed2628e626b94f41a165c1e77b6c904b",
      "132d97a08bf24f2bb626837c58602e8a",
      "e07001c9b5574da1b9b8ced9bd4c0e0c",
      "53f64469ac924041927b5be5aef37bbc",
      "4ab2e5687753491b908e3491330a89b3",
      "0a061fef3f0e435ea5c5e2823d6bab12",
      "e995aaa826af4a48849605cd272496ee",
      "1c954f367fd241a4a56605d4b66b964b",
      "66d4032053fa4adc9f212823a9d827b5",
      "c35f055fc0ff4e88a98eb91d2e0d6be5",
      "789b1ceeb47141dbaa6d01ee2209d03d",
      "fb4e519943e546adab7b8d2db272f9be",
      "120901a3298d4cc3804e9925e9637369",
      "c306be6f7f934e0cb7adf1bdaf917888",
      "8a7145f38fbe4ad0bd98de40eb8f6c0c",
      "e5d60cdf3f86462f95a69f3359010fff",
      "903687b30b464f18841f64cc92207377",
      "fb7e445e5070456e8991de2c97c9190f",
      "42943864c72e42a68900f0c61f9bb8ad",
      "9ca6e77a75b04046aba52f2fc12f6421",
      "99c6b1d1cf244475b8375205ff8c56da",
      "a50160909ad946a1bcf8e1a364a793ac",
      "28ee5b659736417792462c68deda4d4e",
      "406db99a4e294f3d89c8af8bab9c6e43",
      "5015090d2e554a5e8bc937ff32885a6f",
      "a08c7093cb9d4330acb0be5fd829dd9a",
      "56223e7b1fbd42888acb9c4d9bfcc491",
      "a45224aaf73d4a7e9f25e666cc2343da",
      "4c64701cf5d84d2ebe2e95be6aa38f49",
      "923c2d143f3d48aeac0f7c69700b9902",
      "6884a865975544c195c6ad563c020297",
      "f79a56eafb2544c69795cc7c4b6f54c6",
      "b3cbde4a88774697956d9d17af2e4580",
      "fe944d9b4c8841fe998f8e830ccdc0a9",
      "87e5f9fb811d465793e62391747bb008",
      "f568247d9a18437ba8d17b31868d661b",
      "574dd25a178b43c4adeb2e84dec399c8",
      "fb4600b421c544769eab8d996662dd2d",
      "e7500b12981f4acbadfb412db4618dcc",
      "f1fdfc777d5248f482f7919f83a29890",
      "d332a6ad9a5e44019428b1f7c5b7ef5f",
      "7652d0487d8b419bb1b3489db4e1020a",
      "805710fc85194725b7e6e4a144dca779",
      "526d882a55ad40cdb686391677860b79",
      "067d8318cc7a4756ab4b4430f338002e",
      "b4224becc9774707b77d779025fd1b7f",
      "a6a314de739f41578fb7f7382b60cf60",
      "d163c4ec59d6428ea8f3e10e99a3222b",
      "41650b9873ed41f9b63185bb2fb12d98",
      "d0b1867f67884c889c800537a1633816",
      "7e0b8c1b70c047d4a6450f89aa72ce25",
      "1754cd13d1664a3b92e993be497d2a22",
      "bcfe300730ba450ebbad0e67c68568f9",
      "06e5ab9ad7a44d7993be3128f630d6c9",
      "e41297477bb9414fb982310f05da4dec",
      "f7dfc665fc2d444b9cb09187a85ce5b9",
      "1d48d056f647416b9e01ab74a27b04cc",
      "aeef9089f4984d5493c4aea902169b27",
      "46c9b62daadf4e8e9eb6facbf0ab84be",
      "42f4641b71f74232aa8c96a6a29fa894",
      "b59f33ef57314f61a293825242edcaa0",
      "75507709f62a4e5fa2644eca5d8f285f",
      "187edf6058cc45948623d9b6c0f601c7",
      "6da54c0768114d6d8b8303e6b4074c77",
      "3e4a6262ce534e3aaa1d6d9d6cc30184",
      "5e44002eba014de0b9084172a927fe5d",
      "2599e43f21774c9bbb127f2916789cbe",
      "d9675862060f4f0390a1f89129e3caf8"
     ]
    },
    "id": "Jn-y7dhwuzMz",
    "outputId": "fde6e0c0-6835-4a60-989c-d0fa2f0d3cbd"
   },
   "outputs": [
    {
     "name": "stderr",
     "output_type": "stream",
     "text": [
      "INFO:pytorch_lightning.utilities.rank_zero:💡 Tip: For seamless cloud uploads and versioning, try installing [litmodels](https://pypi.org/project/litmodels/) to enable LitModelCheckpoint, which syncs automatically with the Lightning model registry.\n",
      "INFO:pytorch_lightning.utilities.rank_zero:GPU available: False, used: False\n",
      "INFO:pytorch_lightning.utilities.rank_zero:TPU available: False, using: 0 TPU cores\n",
      "INFO:pytorch_lightning.utilities.rank_zero:HPU available: False, using: 0 HPUs\n",
      "/usr/local/lib/python3.12/dist-packages/pytorch_lightning/callbacks/model_checkpoint.py:751: Checkpoint directory /content/checkpoints exists and is not empty.\n",
      "INFO:pytorch_lightning.callbacks.model_summary:\n",
      "  | Name           | Type               | Params | Mode \n",
      "--------------------------------------------------------------\n",
      "0 | model          | Model_3            | 511 K  | train\n",
      "1 | loss_fn        | CrossEntropyLoss   | 0      | train\n",
      "2 | train_accuracy | MulticlassAccuracy | 0      | train\n",
      "3 | val_accuracy   | MulticlassAccuracy | 0      | train\n",
      "4 | train_f1       | MulticlassF1Score  | 0      | train\n",
      "5 | val_f1         | MulticlassF1Score  | 0      | train\n",
      "6 | test_accuracy  | MulticlassAccuracy | 0      | train\n",
      "7 | test_f1        | MulticlassF1Score  | 0      | train\n",
      "--------------------------------------------------------------\n",
      "511 K     Trainable params\n",
      "0         Non-trainable params\n",
      "511 K     Total params\n",
      "2.044     Total estimated model params size (MB)\n",
      "41        Modules in train mode\n",
      "0         Modules in eval mode\n"
     ]
    },
    {
     "data": {
      "application/vnd.jupyter.widget-view+json": {
       "model_id": "57a1d3d1ddd7492893bc05aff0c81cd5",
       "version_major": 2,
       "version_minor": 0
      },
      "text/plain": [
       "Sanity Checking: |          | 0/? [00:00<?, ?it/s]"
      ]
     },
     "metadata": {},
     "output_type": "display_data"
    },
    {
     "data": {
      "application/vnd.jupyter.widget-view+json": {
       "model_id": "e07001c9b5574da1b9b8ced9bd4c0e0c",
       "version_major": 2,
       "version_minor": 0
      },
      "text/plain": [
       "Training: |          | 0/? [00:00<?, ?it/s]"
      ]
     },
     "metadata": {},
     "output_type": "display_data"
    },
    {
     "data": {
      "application/vnd.jupyter.widget-view+json": {
       "model_id": "c306be6f7f934e0cb7adf1bdaf917888",
       "version_major": 2,
       "version_minor": 0
      },
      "text/plain": [
       "Validation: |          | 0/? [00:00<?, ?it/s]"
      ]
     },
     "metadata": {},
     "output_type": "display_data"
    },
    {
     "name": "stderr",
     "output_type": "stream",
     "text": [
      "INFO:pytorch_lightning.callbacks.early_stopping:Metric val_f1 improved. New best score: 0.220\n"
     ]
    },
    {
     "data": {
      "application/vnd.jupyter.widget-view+json": {
       "model_id": "5015090d2e554a5e8bc937ff32885a6f",
       "version_major": 2,
       "version_minor": 0
      },
      "text/plain": [
       "Validation: |          | 0/? [00:00<?, ?it/s]"
      ]
     },
     "metadata": {},
     "output_type": "display_data"
    },
    {
     "data": {
      "application/vnd.jupyter.widget-view+json": {
       "model_id": "f568247d9a18437ba8d17b31868d661b",
       "version_major": 2,
       "version_minor": 0
      },
      "text/plain": [
       "Validation: |          | 0/? [00:00<?, ?it/s]"
      ]
     },
     "metadata": {},
     "output_type": "display_data"
    },
    {
     "data": {
      "application/vnd.jupyter.widget-view+json": {
       "model_id": "a6a314de739f41578fb7f7382b60cf60",
       "version_major": 2,
       "version_minor": 0
      },
      "text/plain": [
       "Validation: |          | 0/? [00:00<?, ?it/s]"
      ]
     },
     "metadata": {},
     "output_type": "display_data"
    },
    {
     "name": "stderr",
     "output_type": "stream",
     "text": [
      "INFO:pytorch_lightning.callbacks.early_stopping:Monitored metric val_f1 did not improve in the last 3 records. Best score: 0.220. Signaling Trainer to stop.\n"
     ]
    },
    {
     "data": {
      "application/vnd.jupyter.widget-view+json": {
       "model_id": "aeef9089f4984d5493c4aea902169b27",
       "version_major": 2,
       "version_minor": 0
      },
      "text/plain": [
       "Testing: |          | 0/? [00:00<?, ?it/s]"
      ]
     },
     "metadata": {},
     "output_type": "display_data"
    },
    {
     "data": {
      "text/html": [
       "<pre style=\"white-space:pre;overflow-x:auto;line-height:normal;font-family:Menlo,'DejaVu Sans Mono',consolas,'Courier New',monospace\">┏━━━━━━━━━━━━━━━━━━━━━━━━━━━┳━━━━━━━━━━━━━━━━━━━━━━━━━━━┓\n",
       "┃<span style=\"font-weight: bold\">        Test metric        </span>┃<span style=\"font-weight: bold\">       DataLoader 0        </span>┃\n",
       "┡━━━━━━━━━━━━━━━━━━━━━━━━━━━╇━━━━━━━━━━━━━━━━━━━━━━━━━━━┩\n",
       "│<span style=\"color: #008080; text-decoration-color: #008080\">         test_acc          </span>│<span style=\"color: #800080; text-decoration-color: #800080\">    0.20200000703334808    </span>│\n",
       "│<span style=\"color: #008080; text-decoration-color: #008080\">          test_f1          </span>│<span style=\"color: #800080; text-decoration-color: #800080\">    0.20200000703334808    </span>│\n",
       "│<span style=\"color: #008080; text-decoration-color: #008080\">         test_loss         </span>│<span style=\"color: #800080; text-decoration-color: #800080\">     2.759507656097412     </span>│\n",
       "└───────────────────────────┴───────────────────────────┘\n",
       "</pre>\n"
      ],
      "text/plain": [
       "┏━━━━━━━━━━━━━━━━━━━━━━━━━━━┳━━━━━━━━━━━━━━━━━━━━━━━━━━━┓\n",
       "┃\u001b[1m \u001b[0m\u001b[1m       Test metric       \u001b[0m\u001b[1m \u001b[0m┃\u001b[1m \u001b[0m\u001b[1m      DataLoader 0       \u001b[0m\u001b[1m \u001b[0m┃\n",
       "┡━━━━━━━━━━━━━━━━━━━━━━━━━━━╇━━━━━━━━━━━━━━━━━━━━━━━━━━━┩\n",
       "│\u001b[36m \u001b[0m\u001b[36m        test_acc         \u001b[0m\u001b[36m \u001b[0m│\u001b[35m \u001b[0m\u001b[35m   0.20200000703334808   \u001b[0m\u001b[35m \u001b[0m│\n",
       "│\u001b[36m \u001b[0m\u001b[36m         test_f1         \u001b[0m\u001b[36m \u001b[0m│\u001b[35m \u001b[0m\u001b[35m   0.20200000703334808   \u001b[0m\u001b[35m \u001b[0m│\n",
       "│\u001b[36m \u001b[0m\u001b[36m        test_loss        \u001b[0m\u001b[36m \u001b[0m│\u001b[35m \u001b[0m\u001b[35m    2.759507656097412    \u001b[0m\u001b[35m \u001b[0m│\n",
       "└───────────────────────────┴───────────────────────────┘\n"
      ]
     },
     "metadata": {},
     "output_type": "display_data"
    },
    {
     "data": {
      "text/plain": [
       "[{'test_loss': 2.759507656097412,\n",
       "  'test_acc': 0.20200000703334808,\n",
       "  'test_f1': 0.20200000703334808}]"
      ]
     },
     "execution_count": 23,
     "metadata": {},
     "output_type": "execute_result"
    }
   ],
   "source": [
    "# ===== Training =====\n",
    "model_3 = Model_3(num_labels=20,hidden_dim=16,num_layers=1)\n",
    "lit_module_3 = LitModule(model_3,tokenizer,train_dataset=train_dataset.select(range(3000)),val_dataset=val_dataset.select(range(300)),test_dataset=test_dataset.select(range(500)))\n",
    "\n",
    "early_stop_callback = EarlyStopping(\n",
    "    monitor='val_f1',  # Metric to monitor\n",
    "    min_delta=0.00,           # Minimum change to qualify as an improvement\n",
    "    patience=3,               # Number of epochs with no improvement after which training will be stopped\n",
    "    verbose=True,             # Log information to the console\n",
    "    mode='max'                # 'max' mode means we want to maximize the monitored quantity\n",
    ")\n",
    "\n",
    "trainer_3 = pl.Trainer(\n",
    "    max_epochs=6,\n",
    "    accelerator=device,\n",
    "    logger=False, # Set to True to use a logger for better tracking (e.g., TensorBoard)\n",
    "    callbacks=[early_stop_callback], # Pass the early stopping callback\n",
    "    gradient_clip_val=1.0 # Add gradient clipping\n",
    ")\n",
    "trainer_3.fit(lit_module_3)\n",
    "\n",
    "trainer_3.test(lit_module_3)"
   ]
  },
  {
   "cell_type": "markdown",
   "metadata": {
    "id": "buVmB2Tny0pu"
   },
   "source": [
    "##### Lab_2"
   ]
  },
  {
   "cell_type": "code",
   "execution_count": null,
   "metadata": {
    "colab": {
     "base_uri": "https://localhost:8080/",
     "height": 687,
     "referenced_widgets": [
      "e1e4f9146f634c4bae45468209d28d7a",
      "a3631b63778d4516be21f395537817b0",
      "3c95311293b3418abc9b5dd0b60803ef",
      "154c6be9539548ddb3b66a7cd26fd429",
      "ddbccc1718e74e46a6775f65ca70b7c8",
      "90d7eee663434650bd63c341a43e43ab",
      "f8793f8c716c4ff7a24273b005411227",
      "dfe8fd5ac5824c679a2a42cc47040cd0",
      "4081df7f5c4944ef9c1b219782a0242e",
      "f9f381ca2426477898f8eb72ace798b0",
      "a18e640994ef445fb633e31fd9ebf73b",
      "3c7fd7648e6d41e7a18d23c84d06a56b",
      "c658f369ec314489a7afa0f8fa259e2e",
      "ae67c1d2027b40368cdc42896a1c9c7b",
      "9fc8cecd76bc46648e854a710383fc98",
      "c97e1263d4dc4d55bdb5e57bba5ed5b8",
      "b843d1ba6f8b43028725c446ab214d85",
      "bf6a6d135a214e1a84fe19a5cdcd484f",
      "f65e0958d29a4af1b18abdf9be8110ea",
      "638d5a4351bc407fa0606ee6d13cf469",
      "9955fb0e790d4f1a87608b0b0e24a19c",
      "73a71150ed694566aa4b8a6116d9574e",
      "f57a643ba8b0475cb71fedb07b025a92",
      "7df8fc3601c549c08fce090b8c78ec8b",
      "f2fae040523e4f7c8aa4d8102e0a2f25",
      "4bf485bea3b740b1b16c256732d6dcde",
      "9f2c6505b8574ed48b3e4f95c1fd37ce",
      "a6e673d8feaf4ecdae92207a4a343c7a",
      "d21c1569204543fd999457f48650958c",
      "f7121228285344118a83e409965d7785",
      "2facd5ff1195480db7b60f68c2ae42ef",
      "d579e927fcc045b7a91634be9838b48e",
      "fbd35eccdaef4b12a4550fb44ad89ffa",
      "0625979c06b8483e9b4a8fa6d9aea54d",
      "81eaa5ad56614f038562ca317b14c5a7",
      "c7822e4adaff456596e947c3c979934d",
      "239e34ca7a44436690026c198916f69f",
      "997dc935b3054dbda32ea91c621dce5d",
      "d00b6d27bb444e96a274cf43f0be0693",
      "db4e5e284c6a4d83b7647794d5123aae",
      "6ef503f4cc1f4f80bb99fc69731f939c",
      "bb05c61542c745dba10a94b3975d6946",
      "dea8a282427349c6a95d0d5b147216ae",
      "072c4d6015014313b2cd34e92916baf2",
      "cbbe5f4af7f543df9dd34415654f3c2c",
      "56c3e27605cc4df3ba1b451e7e82098a",
      "239e650d4bc04045a43410d0d089fe50",
      "b7f5bf4c644d4d37aeb11b16a3930107",
      "c9d23c62befe41b5a5ea778cd6dad05c",
      "31bb9d2e645f4d2f9b644fa3a2ba7452",
      "aca8ef7a739e4c8b8682e94b977d1adc",
      "f09bea99785b4354953015f48a6ab9e1",
      "f605727faca84ad38e0cc3e11d71a254",
      "b6c34f2cc42e4872ab37f00fe6090d54",
      "ff5a65cb92c24efeb33bd933bad5d0cc",
      "0fff3ff1bbee4df3b38e59e03239568e",
      "c6e0ac6eb11b4f4aa9efdfcedd07bdd1",
      "edbc0de0fa8840a698912ae1e22d19ab",
      "1dd8a0583a5d4b3ba4e8c723a55d2205",
      "924ab1033851426981d94e70016e2498",
      "753f72cb0bde449c969fd2f0ef46890e",
      "e6d2f7d1c65b4fc0a099b4140221ccac",
      "6d724d3098244c949afd7c456b304601",
      "a56e2f14f396445bb23a4fcadfb8fdfe",
      "0ad29a4051ab4dd7872e9d2161a6909a",
      "7858dcc85265422a8a1e3ae55e88583a",
      "dccea9bbcf1240d9aa93c239c11ba604",
      "f19644170e4c42058b051bce5f9a7249",
      "ce339dac0ae54a668cd0734309f0d799",
      "01d4243bb283499898b78508a211d82c",
      "f33d872edabc450889dd505826b6f467",
      "490b9fd086f04e009fc3ef7729339930",
      "ad5b935a12f34d62898736672402b3cd",
      "6f52f32bd5294d41a6add463232c4155",
      "ecf02efda0924a6d868cf37ac66ec0db",
      "ea3e3b53309f4ce3aece870ad4bac1aa",
      "72e99fa6ff73497fab5ab34260b71a4d"
     ]
    },
    "id": "n31ooa8Ty0pu",
    "outputId": "46537111-b819-410f-983e-26a59d7f13c1"
   },
   "outputs": [
    {
     "name": "stderr",
     "output_type": "stream",
     "text": [
      "INFO:pytorch_lightning.utilities.rank_zero:💡 Tip: For seamless cloud uploads and versioning, try installing [litmodels](https://pypi.org/project/litmodels/) to enable LitModelCheckpoint, which syncs automatically with the Lightning model registry.\n",
      "INFO:pytorch_lightning.utilities.rank_zero:GPU available: False, used: False\n",
      "INFO:pytorch_lightning.utilities.rank_zero:TPU available: False, using: 0 TPU cores\n",
      "INFO:pytorch_lightning.utilities.rank_zero:HPU available: False, using: 0 HPUs\n",
      "INFO:pytorch_lightning.callbacks.model_summary:\n",
      "  | Name           | Type               | Params | Mode \n",
      "--------------------------------------------------------------\n",
      "0 | model          | Estandard_Model    | 1.0 M  | train\n",
      "1 | loss_fn        | CrossEntropyLoss   | 0      | train\n",
      "2 | train_accuracy | MulticlassAccuracy | 0      | train\n",
      "3 | val_accuracy   | MulticlassAccuracy | 0      | train\n",
      "4 | train_f1       | MulticlassF1Score  | 0      | train\n",
      "5 | val_f1         | MulticlassF1Score  | 0      | train\n",
      "6 | test_accuracy  | MulticlassAccuracy | 0      | train\n",
      "7 | test_f1        | MulticlassF1Score  | 0      | train\n",
      "--------------------------------------------------------------\n",
      "1.0 M     Trainable params\n",
      "0         Non-trainable params\n",
      "1.0 M     Total params\n",
      "4.143     Total estimated model params size (MB)\n",
      "34        Modules in train mode\n",
      "0         Modules in eval mode\n"
     ]
    },
    {
     "data": {
      "application/vnd.jupyter.widget-view+json": {
       "model_id": "e1e4f9146f634c4bae45468209d28d7a",
       "version_major": 2,
       "version_minor": 0
      },
      "text/plain": [
       "Sanity Checking: |          | 0/? [00:00<?, ?it/s]"
      ]
     },
     "metadata": {},
     "output_type": "display_data"
    },
    {
     "data": {
      "application/vnd.jupyter.widget-view+json": {
       "model_id": "3c7fd7648e6d41e7a18d23c84d06a56b",
       "version_major": 2,
       "version_minor": 0
      },
      "text/plain": [
       "Training: |          | 0/? [00:00<?, ?it/s]"
      ]
     },
     "metadata": {},
     "output_type": "display_data"
    },
    {
     "data": {
      "application/vnd.jupyter.widget-view+json": {
       "model_id": "f57a643ba8b0475cb71fedb07b025a92",
       "version_major": 2,
       "version_minor": 0
      },
      "text/plain": [
       "Validation: |          | 0/? [00:00<?, ?it/s]"
      ]
     },
     "metadata": {},
     "output_type": "display_data"
    },
    {
     "name": "stderr",
     "output_type": "stream",
     "text": [
      "INFO:pytorch_lightning.callbacks.early_stopping:Metric val_f1 improved. New best score: 0.223\n"
     ]
    },
    {
     "data": {
      "application/vnd.jupyter.widget-view+json": {
       "model_id": "0625979c06b8483e9b4a8fa6d9aea54d",
       "version_major": 2,
       "version_minor": 0
      },
      "text/plain": [
       "Validation: |          | 0/? [00:00<?, ?it/s]"
      ]
     },
     "metadata": {},
     "output_type": "display_data"
    },
    {
     "data": {
      "application/vnd.jupyter.widget-view+json": {
       "model_id": "cbbe5f4af7f543df9dd34415654f3c2c",
       "version_major": 2,
       "version_minor": 0
      },
      "text/plain": [
       "Validation: |          | 0/? [00:00<?, ?it/s]"
      ]
     },
     "metadata": {},
     "output_type": "display_data"
    },
    {
     "data": {
      "application/vnd.jupyter.widget-view+json": {
       "model_id": "0fff3ff1bbee4df3b38e59e03239568e",
       "version_major": 2,
       "version_minor": 0
      },
      "text/plain": [
       "Validation: |          | 0/? [00:00<?, ?it/s]"
      ]
     },
     "metadata": {},
     "output_type": "display_data"
    },
    {
     "name": "stderr",
     "output_type": "stream",
     "text": [
      "INFO:pytorch_lightning.callbacks.early_stopping:Monitored metric val_f1 did not improve in the last 3 records. Best score: 0.223. Signaling Trainer to stop.\n"
     ]
    },
    {
     "data": {
      "application/vnd.jupyter.widget-view+json": {
       "model_id": "dccea9bbcf1240d9aa93c239c11ba604",
       "version_major": 2,
       "version_minor": 0
      },
      "text/plain": [
       "Testing: |          | 0/? [00:00<?, ?it/s]"
      ]
     },
     "metadata": {},
     "output_type": "display_data"
    },
    {
     "data": {
      "text/html": [
       "<pre style=\"white-space:pre;overflow-x:auto;line-height:normal;font-family:Menlo,'DejaVu Sans Mono',consolas,'Courier New',monospace\">┏━━━━━━━━━━━━━━━━━━━━━━━━━━━┳━━━━━━━━━━━━━━━━━━━━━━━━━━━┓\n",
       "┃<span style=\"font-weight: bold\">        Test metric        </span>┃<span style=\"font-weight: bold\">       DataLoader 0        </span>┃\n",
       "┡━━━━━━━━━━━━━━━━━━━━━━━━━━━╇━━━━━━━━━━━━━━━━━━━━━━━━━━━┩\n",
       "│<span style=\"color: #008080; text-decoration-color: #008080\">         test_acc          </span>│<span style=\"color: #800080; text-decoration-color: #800080\">    0.18000000715255737    </span>│\n",
       "│<span style=\"color: #008080; text-decoration-color: #008080\">          test_f1          </span>│<span style=\"color: #800080; text-decoration-color: #800080\">    0.18000000715255737    </span>│\n",
       "│<span style=\"color: #008080; text-decoration-color: #008080\">         test_loss         </span>│<span style=\"color: #800080; text-decoration-color: #800080\">     4.999692440032959     </span>│\n",
       "└───────────────────────────┴───────────────────────────┘\n",
       "</pre>\n"
      ],
      "text/plain": [
       "┏━━━━━━━━━━━━━━━━━━━━━━━━━━━┳━━━━━━━━━━━━━━━━━━━━━━━━━━━┓\n",
       "┃\u001b[1m \u001b[0m\u001b[1m       Test metric       \u001b[0m\u001b[1m \u001b[0m┃\u001b[1m \u001b[0m\u001b[1m      DataLoader 0       \u001b[0m\u001b[1m \u001b[0m┃\n",
       "┡━━━━━━━━━━━━━━━━━━━━━━━━━━━╇━━━━━━━━━━━━━━━━━━━━━━━━━━━┩\n",
       "│\u001b[36m \u001b[0m\u001b[36m        test_acc         \u001b[0m\u001b[36m \u001b[0m│\u001b[35m \u001b[0m\u001b[35m   0.18000000715255737   \u001b[0m\u001b[35m \u001b[0m│\n",
       "│\u001b[36m \u001b[0m\u001b[36m         test_f1         \u001b[0m\u001b[36m \u001b[0m│\u001b[35m \u001b[0m\u001b[35m   0.18000000715255737   \u001b[0m\u001b[35m \u001b[0m│\n",
       "│\u001b[36m \u001b[0m\u001b[36m        test_loss        \u001b[0m\u001b[36m \u001b[0m│\u001b[35m \u001b[0m\u001b[35m    4.999692440032959    \u001b[0m\u001b[35m \u001b[0m│\n",
       "└───────────────────────────┴───────────────────────────┘\n"
      ]
     },
     "metadata": {},
     "output_type": "display_data"
    },
    {
     "data": {
      "text/plain": [
       "[{'test_loss': 4.999692440032959,\n",
       "  'test_acc': 0.18000000715255737,\n",
       "  'test_f1': 0.18000000715255737}]"
      ]
     },
     "execution_count": 24,
     "metadata": {},
     "output_type": "execute_result"
    }
   ],
   "source": [
    "# ===== Training =====\n",
    "est_model = Estandard_Model(num_labels=20,hidden_dim=32,num_heads=2,num_layers=2)\n",
    "lit_est_module = LitModule(est_model,tokenizer,train_dataset=train_dataset.select(range(3000)),val_dataset=val_dataset.select(range(300)),test_dataset=test_dataset.select(range(500)))\n",
    "\n",
    "early_stop_callback = EarlyStopping(\n",
    "    monitor='val_f1',  # Metric to monitor\n",
    "    min_delta=0.00,           # Minimum change to qualify as an improvement\n",
    "    patience=3,               # Number of epochs with no improvement after which training will be stopped\n",
    "    verbose=True,             # Log information to the console\n",
    "    mode='max'                # 'max' mode means we want to maximize the monitored quantity\n",
    ")\n",
    "\n",
    "est_trainer = pl.Trainer(\n",
    "    max_epochs=6,\n",
    "    accelerator=device,\n",
    "    logger=False, # Set to True to use a logger for better tracking (e.g., TensorBoard)\n",
    "    callbacks=[early_stop_callback], # Pass the early stopping callback\n",
    "    gradient_clip_val=1.0 # Add gradient clipping\n",
    ")\n",
    "est_trainer.fit(lit_est_module)\n",
    "\n",
    "est_trainer.test(lit_est_module)"
   ]
  },
  {
   "cell_type": "code",
   "execution_count": null,
   "metadata": {
    "colab": {
     "base_uri": "https://localhost:8080/",
     "height": 721,
     "referenced_widgets": [
      "b4351efe33b64fb7858e240a443e14d1",
      "5055ac2579724c728149c3ecf7e87d08",
      "ffc3b94888cd43738810b01268dd8d5d",
      "5d599bc3ae9c4537a2e20917bcb62b0a",
      "a7ea0f673ee44b6a82f92fcc247dd1bc",
      "1f70fa4f02d843649f3eb1f0d0e5e1b9",
      "0f17f1b7e3684156bd0badca76b3a204",
      "2de6d86ed91d4d678a9808c6b87ffada",
      "979d6d90c22b4a62955df5053c91d16a",
      "0ace5f4d93974018ac9e38dd112fba48",
      "a94db6e3280f4094b841b95ece80451f",
      "1e4c957c2e494337b0769c737cf1c5c3",
      "7423fec7b7124f7eb70b0698e9bd46ff",
      "1c0da3b52dbb457abfd9b7319ed79d2a",
      "1e016fe99db042089cd551e2d099e507",
      "ff1718aba54a460e8059ccfb7ed0f247",
      "9737acc510ae4ea9a49cdcc53103a901",
      "03c19a54e50a466382d94eb0169df07d",
      "123703355a5440f29d1537a27b7eec4f",
      "e76af44b51b54e7a999430e93f137ea4",
      "43f8cf7522bd4467b2bc69a8a90ae6b3",
      "07a1aefe26394d6d8ae2c03884f27292",
      "3373d02a447d4384bd438c536c0d4782",
      "811522c8a4ef459f8ef533ba257abd63",
      "b07d05bc0400460ebfd14fd66a3493b6",
      "39c9e1adceab453db19d532cd17d4d00",
      "d32841b224f14f09b03ebf0ae0607acb",
      "4722930b00cf47f89876a8d7f3b80df7",
      "241f0966186a4b1e9bcbf9aed187da11",
      "424f819b25144668b0b0e35cda9547dd",
      "40a13c42541c4efbbdaa3ec71617acee",
      "c7ce15d8c6be4ab893b5a1987a3ce518",
      "07fcec0ff7ee455680f911da9b68cff1",
      "70518ad949bf4092bd9cab3caaa3948e",
      "b8429ed3fb574b52a60445d8e9973309",
      "56c1cb737d8d4dcbb905f69163812d26",
      "c512a44d2f004f4eac18f46ca7755133",
      "eb44eb1063fc458aaf48e9a831f8dbe7",
      "42a9b7a844d04f97a808b07d751644ee",
      "b28e4139293942b0a75bd5c6bdb88732",
      "5856bd333bc3470484b2bfbc77bfc3aa",
      "754d6ce6165e40ffbc93a33031eea950",
      "acb103844d1443a894a05c4fe307c29a",
      "62012f78ef484b6ca9906d92c642adff",
      "a852cec49d514618a1c84ea8d9a70516",
      "4305ae242f3744d688f475f46534b926",
      "f7c986dd4a514eaeaf93744fe60fdcbf",
      "c40711bdea194057b4c97318d3e17a9c",
      "8ac541cf6ee2443d9b13cf8c5ce1164e",
      "f7f759c34d534d049b26e24b9fb27d63",
      "34675f33c6d040208107764285eecf27",
      "344a558cb7eb43988acbac83a6be575f",
      "231cdf2b22214f2f9b1f37044b6b80b2",
      "7553297c9c4e4a88af1fe2fc53182442",
      "b3ae0b3ebd814d19a9f7c3201a038645",
      "1f3be09d39e244ec9a1dd30c7f59b690",
      "a50f064f103949e69af244ec95c4e566",
      "e0d49f68dd6242699d9bcf289efa6955",
      "f70814cc94b345148eea70c752f7a080",
      "680b27336fe548a5b4326feccdb8c2d9",
      "ef901518be824316811c5a322b16baff",
      "1534161c9c52473caf1e31c6d7415134",
      "6b78fab535704f89b3c4044cd32e2504",
      "cab37b96121e427fafc8d2cd44c339cd",
      "7ac4acdedbd146909086844626865f83",
      "128c4f5e0de3452e8897f1923f8a0581",
      "cd4894dd50554ad78d3367aed8ad7500",
      "8aaf045bb9ad4ad08708da443fd16abb",
      "3f083cfa44b842eabfff2215f058f644",
      "1ef7e5fe4a2e46bfa50857025cd19d4d",
      "c80641eee0954655999d854b4c26890d",
      "b4573f4719634723ad7376640a92ce9b",
      "9889a75db2154e9d98370fad6cbc3b67",
      "90fdf11935374cee8acde392cdd5b592",
      "6e684ddf505049459a6e19209ba41705",
      "6e1b8437ba1e44348a153acb31822af6",
      "b5ed4579e6be4b3ba4fe4feccaecdc4f",
      "699a9efd52d14dbb917b9578713dc971",
      "e631f219a5524c05ad67988d746202a9",
      "27e816e1008a4eb8abdf8bdb60e40653",
      "0a590dcf34b64fa49cd7b53deb8b97e7",
      "8d011894bac5444c816a81142d096283",
      "d3e56e9b3eb64e95ac916c83f484a40d",
      "9bea997bf044439e97eb20ea4ddd3a3d",
      "81c2270fa9fc42cd8499c49058e1b160",
      "eb1814b1de0b463d8c415b7cb53df536",
      "b2d82d1992fc46a58de8331f5e339cab",
      "4f7970d16019437eb4db04decf2d33ff",
      "75f91c358a83493095ab2eea02bf22ae",
      "3e8ba591133b4173a14a4519e49e42c4",
      "2bfd37d3f4144df0957303fb85db6975",
      "74eb6d8520c747188fbb682438536fe7",
      "5f14c5a8e7a048feb78c5cdc4ba7d692",
      "37d5c403f29e4377829a2be1d01080fb",
      "7a2363d80d2b4ea2bf88a808bd6be989",
      "4f25a7b177d14446b86edb532cbaf9d6",
      "cce0e4b13a41425aa37801531a39aae7",
      "13b12067a60b4e2eb465c12b23760c84",
      "a473a0f0aa294ac98def2a5a5dff1c88"
     ]
    },
    "id": "S6c6bR6My0pv",
    "outputId": "6975e3c1-8752-4c77-b9c6-31ffc3e343cc"
   },
   "outputs": [
    {
     "name": "stderr",
     "output_type": "stream",
     "text": [
      "INFO:pytorch_lightning.utilities.rank_zero:💡 Tip: For seamless cloud uploads and versioning, try installing [litmodels](https://pypi.org/project/litmodels/) to enable LitModelCheckpoint, which syncs automatically with the Lightning model registry.\n",
      "INFO:pytorch_lightning.utilities.rank_zero:GPU available: False, used: False\n",
      "INFO:pytorch_lightning.utilities.rank_zero:TPU available: False, using: 0 TPU cores\n",
      "INFO:pytorch_lightning.utilities.rank_zero:HPU available: False, using: 0 HPUs\n",
      "INFO:pytorch_lightning.callbacks.model_summary:\n",
      "  | Name           | Type               | Params | Mode \n",
      "--------------------------------------------------------------\n",
      "0 | model          | Model_1            | 1.0 M  | train\n",
      "1 | loss_fn        | CrossEntropyLoss   | 0      | train\n",
      "2 | train_accuracy | MulticlassAccuracy | 0      | train\n",
      "3 | val_accuracy   | MulticlassAccuracy | 0      | train\n",
      "4 | train_f1       | MulticlassF1Score  | 0      | train\n",
      "5 | val_f1         | MulticlassF1Score  | 0      | train\n",
      "6 | test_accuracy  | MulticlassAccuracy | 0      | train\n",
      "7 | test_f1        | MulticlassF1Score  | 0      | train\n",
      "--------------------------------------------------------------\n",
      "1.0 M     Trainable params\n",
      "0         Non-trainable params\n",
      "1.0 M     Total params\n",
      "4.117     Total estimated model params size (MB)\n",
      "40        Modules in train mode\n",
      "0         Modules in eval mode\n"
     ]
    },
    {
     "data": {
      "application/vnd.jupyter.widget-view+json": {
       "model_id": "b4351efe33b64fb7858e240a443e14d1",
       "version_major": 2,
       "version_minor": 0
      },
      "text/plain": [
       "Sanity Checking: |          | 0/? [00:00<?, ?it/s]"
      ]
     },
     "metadata": {},
     "output_type": "display_data"
    },
    {
     "data": {
      "application/vnd.jupyter.widget-view+json": {
       "model_id": "1e4c957c2e494337b0769c737cf1c5c3",
       "version_major": 2,
       "version_minor": 0
      },
      "text/plain": [
       "Training: |          | 0/? [00:00<?, ?it/s]"
      ]
     },
     "metadata": {},
     "output_type": "display_data"
    },
    {
     "data": {
      "application/vnd.jupyter.widget-view+json": {
       "model_id": "3373d02a447d4384bd438c536c0d4782",
       "version_major": 2,
       "version_minor": 0
      },
      "text/plain": [
       "Validation: |          | 0/? [00:00<?, ?it/s]"
      ]
     },
     "metadata": {},
     "output_type": "display_data"
    },
    {
     "name": "stderr",
     "output_type": "stream",
     "text": [
      "INFO:pytorch_lightning.callbacks.early_stopping:Metric val_f1 improved. New best score: 0.220\n"
     ]
    },
    {
     "data": {
      "application/vnd.jupyter.widget-view+json": {
       "model_id": "70518ad949bf4092bd9cab3caaa3948e",
       "version_major": 2,
       "version_minor": 0
      },
      "text/plain": [
       "Validation: |          | 0/? [00:00<?, ?it/s]"
      ]
     },
     "metadata": {},
     "output_type": "display_data"
    },
    {
     "data": {
      "application/vnd.jupyter.widget-view+json": {
       "model_id": "a852cec49d514618a1c84ea8d9a70516",
       "version_major": 2,
       "version_minor": 0
      },
      "text/plain": [
       "Validation: |          | 0/? [00:00<?, ?it/s]"
      ]
     },
     "metadata": {},
     "output_type": "display_data"
    },
    {
     "name": "stderr",
     "output_type": "stream",
     "text": [
      "INFO:pytorch_lightning.callbacks.early_stopping:Metric val_f1 improved by 0.003 >= min_delta = 0.0. New best score: 0.223\n"
     ]
    },
    {
     "data": {
      "application/vnd.jupyter.widget-view+json": {
       "model_id": "1f3be09d39e244ec9a1dd30c7f59b690",
       "version_major": 2,
       "version_minor": 0
      },
      "text/plain": [
       "Validation: |          | 0/? [00:00<?, ?it/s]"
      ]
     },
     "metadata": {},
     "output_type": "display_data"
    },
    {
     "data": {
      "application/vnd.jupyter.widget-view+json": {
       "model_id": "cd4894dd50554ad78d3367aed8ad7500",
       "version_major": 2,
       "version_minor": 0
      },
      "text/plain": [
       "Validation: |          | 0/? [00:00<?, ?it/s]"
      ]
     },
     "metadata": {},
     "output_type": "display_data"
    },
    {
     "data": {
      "application/vnd.jupyter.widget-view+json": {
       "model_id": "699a9efd52d14dbb917b9578713dc971",
       "version_major": 2,
       "version_minor": 0
      },
      "text/plain": [
       "Validation: |          | 0/? [00:00<?, ?it/s]"
      ]
     },
     "metadata": {},
     "output_type": "display_data"
    },
    {
     "name": "stderr",
     "output_type": "stream",
     "text": [
      "INFO:pytorch_lightning.callbacks.early_stopping:Monitored metric val_f1 did not improve in the last 3 records. Best score: 0.223. Signaling Trainer to stop.\n",
      "INFO:pytorch_lightning.utilities.rank_zero:`Trainer.fit` stopped: `max_epochs=6` reached.\n"
     ]
    },
    {
     "data": {
      "application/vnd.jupyter.widget-view+json": {
       "model_id": "75f91c358a83493095ab2eea02bf22ae",
       "version_major": 2,
       "version_minor": 0
      },
      "text/plain": [
       "Testing: |          | 0/? [00:00<?, ?it/s]"
      ]
     },
     "metadata": {},
     "output_type": "display_data"
    },
    {
     "data": {
      "text/html": [
       "<pre style=\"white-space:pre;overflow-x:auto;line-height:normal;font-family:Menlo,'DejaVu Sans Mono',consolas,'Courier New',monospace\">┏━━━━━━━━━━━━━━━━━━━━━━━━━━━┳━━━━━━━━━━━━━━━━━━━━━━━━━━━┓\n",
       "┃<span style=\"font-weight: bold\">        Test metric        </span>┃<span style=\"font-weight: bold\">       DataLoader 0        </span>┃\n",
       "┡━━━━━━━━━━━━━━━━━━━━━━━━━━━╇━━━━━━━━━━━━━━━━━━━━━━━━━━━┩\n",
       "│<span style=\"color: #008080; text-decoration-color: #008080\">         test_acc          </span>│<span style=\"color: #800080; text-decoration-color: #800080\">    0.1720000058412552     </span>│\n",
       "│<span style=\"color: #008080; text-decoration-color: #008080\">          test_f1          </span>│<span style=\"color: #800080; text-decoration-color: #800080\">    0.1720000058412552     </span>│\n",
       "│<span style=\"color: #008080; text-decoration-color: #008080\">         test_loss         </span>│<span style=\"color: #800080; text-decoration-color: #800080\">     3.592057228088379     </span>│\n",
       "└───────────────────────────┴───────────────────────────┘\n",
       "</pre>\n"
      ],
      "text/plain": [
       "┏━━━━━━━━━━━━━━━━━━━━━━━━━━━┳━━━━━━━━━━━━━━━━━━━━━━━━━━━┓\n",
       "┃\u001b[1m \u001b[0m\u001b[1m       Test metric       \u001b[0m\u001b[1m \u001b[0m┃\u001b[1m \u001b[0m\u001b[1m      DataLoader 0       \u001b[0m\u001b[1m \u001b[0m┃\n",
       "┡━━━━━━━━━━━━━━━━━━━━━━━━━━━╇━━━━━━━━━━━━━━━━━━━━━━━━━━━┩\n",
       "│\u001b[36m \u001b[0m\u001b[36m        test_acc         \u001b[0m\u001b[36m \u001b[0m│\u001b[35m \u001b[0m\u001b[35m   0.1720000058412552    \u001b[0m\u001b[35m \u001b[0m│\n",
       "│\u001b[36m \u001b[0m\u001b[36m         test_f1         \u001b[0m\u001b[36m \u001b[0m│\u001b[35m \u001b[0m\u001b[35m   0.1720000058412552    \u001b[0m\u001b[35m \u001b[0m│\n",
       "│\u001b[36m \u001b[0m\u001b[36m        test_loss        \u001b[0m\u001b[36m \u001b[0m│\u001b[35m \u001b[0m\u001b[35m    3.592057228088379    \u001b[0m\u001b[35m \u001b[0m│\n",
       "└───────────────────────────┴───────────────────────────┘\n"
      ]
     },
     "metadata": {},
     "output_type": "display_data"
    },
    {
     "data": {
      "text/plain": [
       "[{'test_loss': 3.592057228088379,\n",
       "  'test_acc': 0.1720000058412552,\n",
       "  'test_f1': 0.1720000058412552}]"
      ]
     },
     "execution_count": 25,
     "metadata": {},
     "output_type": "execute_result"
    }
   ],
   "source": [
    "# ===== Training =====\n",
    "model_1 = Model_1(num_labels=20,hidden_dim=32,num_layers=2)\n",
    "lit_module_1 = LitModule(model_1,tokenizer,train_dataset=train_dataset.select(range(3000)),val_dataset=val_dataset.select(range(300)),test_dataset=test_dataset.select(range(500)))\n",
    "\n",
    "early_stop_callback = EarlyStopping(\n",
    "    monitor='val_f1',  # Metric to monitor\n",
    "    min_delta=0.00,           # Minimum change to qualify as an improvement\n",
    "    patience=3,               # Number of epochs with no improvement after which training will be stopped\n",
    "    verbose=True,             # Log information to the console\n",
    "    mode='max'                # 'max' mode means we want to maximize the monitored quantity\n",
    ")\n",
    "\n",
    "trainer_1 = pl.Trainer(\n",
    "    max_epochs=6,\n",
    "    accelerator=device,\n",
    "    logger=False, # Set to True to use a logger for better tracking (e.g., TensorBoard)\n",
    "    callbacks=[early_stop_callback], # Pass the early stopping callback\n",
    "    gradient_clip_val=1.0 # Add gradient clipping\n",
    ")\n",
    "trainer_1.fit(lit_module_1)\n",
    "\n",
    "trainer_1.test(lit_module_1)"
   ]
  },
  {
   "cell_type": "code",
   "execution_count": null,
   "metadata": {
    "colab": {
     "base_uri": "https://localhost:8080/",
     "height": 687,
     "referenced_widgets": [
      "8ab8594233cc43788932064aec9332f5",
      "c548e554c4014197adc206f8a39311ec",
      "25edded2e43a467f9d2f6d8171c34f9c",
      "fbe5a944fa3b44a5b5cd61d57c0d0e1d",
      "2b32e6478a564bea912d115eb35b79de",
      "5b1c809469894a209d60c84faf2fd6c0",
      "4f2c1716249d49fcbd63b429b608f307",
      "dc8ee0f651d14d62be8b8c15bac2532e",
      "d0609fb5a5c4476f8316c62721ce26e4",
      "d06f6a557e894c5b953a34dd4d927863",
      "38b5731e338e46e590ade417b799326f",
      "487500ed4a194b3aa4677a45e4fcd43c",
      "4d1d169a818c4fe0b1a9c6977e92131d",
      "2a96f6bb7a1c41368279ac78d7e6a2e4",
      "c2dd6532f916437d83dd429279738b6b",
      "f2c904337a7546c2afa4d32b6f25bb24",
      "932420d176cd43459b586f53ceafadeb",
      "849a64663fb44b94897c0c41a1f2d9df",
      "c33d0600615a4548b655d057e9d916d4",
      "fb8b830bebf64553afecd0ab164eefad",
      "dbc8c96fba19476eac5acba90a2423fe",
      "9840c119c8a24cc7af03f880665ccbba",
      "8cdb08f208e841a5bb15466890b689de",
      "60996e6f7d09413d86b2153a9bba4d7b",
      "d7895caf434e42ed8e7eedd9650e442a",
      "af8bf305cfa147739b90a940324dc3b5",
      "3e0cfc4bd5c84f0facd6f9b2af9dc120",
      "2e0a559c6475449280125cdcd4a92ea3",
      "b639b4266b0c4f448b032bda79e14dc3",
      "02a2e3eb892b460d99af6e561b85fab2",
      "4adf13b014714eac9b44104b00b3a329",
      "9f56bf5692304bdb83518deff52a921d",
      "b3490678a4fb4a72a1a6c5b798beeecf",
      "15db35993b274f5b882774317b9e5fc6",
      "ee5d27b64cba4e2f80340bf14e3b6114",
      "d53c2b1277774c0091127a95da8261c6",
      "581925fc40784b83a5393bcf0f3b8806",
      "1ba4ef96709e4192a2a84d37c19190c6",
      "29325ffcd20b402c9d2255869669aa17",
      "a402596a436a4851b05fb3992a038cb9",
      "a38ada59a0b24336a85c739dc21c53b2",
      "0248d0307eb245f68b75665e909cfa36",
      "8659d93958e84a4c9f2042b172d2d58f",
      "e7ce3a3f6d2747988521e6c79a332845",
      "76b9f198fc144c0d96cd12f40b36b0d2",
      "4eef0bd855ea4d1abfb72e8bf6d25586",
      "9dd35d16ca184690b4497f3011958603",
      "33a6c95ab0c34140996b89b7ba6c6530",
      "6001d664dfea439e909f66f76189c508",
      "a523bbd75c7c48a59625baca16e58c89",
      "afe4bf2d0408484eaf2273f8e3938eae",
      "1fd761c76ca440eba636300cddff7150",
      "23be21f17f8c44278c1ecbf5bd169e2a",
      "c8ef337821084683b54f895b474d0b6f",
      "d0ad643701e74502a2701bd3a5de5295",
      "4ffc5f212c9541c38d78a44dec19eddb",
      "54478c4d66044bc4b0b88cbaa45eb3f6",
      "41ad8f82c6124a338e3c660c98522020",
      "9c9fbde22ef2457dbe8ca69f8776ad0e",
      "4f68f0066e17404eafee0f06d70931d3",
      "da06b0874ff249e5a2a3abd78ca5fc20",
      "5e2254f046ae43a1b131a2d4b2f6b85d",
      "efc059530e3f4177bf30c23f93122561",
      "0218367888e24a43bcba52af4b884998",
      "541a9d41f78445349ab86c3aaf6f0220",
      "f326d5b127f942758c2c030c531cc3f2",
      "467c98579f694e13b3b55553e11ee06d",
      "cd9a9586bdc04138a68b5a70a12f5e21",
      "009b3e0c18da4f92af050596338b0032",
      "09b0d891677f48b3ac11a8c387e37935",
      "e5b8f45cc80c47c98f8fed4be92be280",
      "e55000d3a6cb4fa39fdc568ff32a9cec",
      "f3e53858a6e34b179225ff4e296e6cb7",
      "4d16a505b23849068178aab3aa061b1d",
      "e7d2448d08a64563b495cc092caf5295",
      "ff7e9e0d36a7413cb08013e023465dc3",
      "19d72b70839b4d0ab26f6f43c566afe4"
     ]
    },
    "id": "caGisAQXy0pv",
    "outputId": "31d5417f-8ef7-45eb-f9b2-2d5392afc5dc"
   },
   "outputs": [
    {
     "name": "stderr",
     "output_type": "stream",
     "text": [
      "INFO:pytorch_lightning.utilities.rank_zero:💡 Tip: For seamless cloud uploads and versioning, try installing [litmodels](https://pypi.org/project/litmodels/) to enable LitModelCheckpoint, which syncs automatically with the Lightning model registry.\n",
      "INFO:pytorch_lightning.utilities.rank_zero:GPU available: False, used: False\n",
      "INFO:pytorch_lightning.utilities.rank_zero:TPU available: False, using: 0 TPU cores\n",
      "INFO:pytorch_lightning.utilities.rank_zero:HPU available: False, using: 0 HPUs\n",
      "INFO:pytorch_lightning.callbacks.model_summary:\n",
      "  | Name           | Type               | Params | Mode \n",
      "--------------------------------------------------------------\n",
      "0 | model          | Model_2            | 1.1 M  | train\n",
      "1 | loss_fn        | CrossEntropyLoss   | 0      | train\n",
      "2 | train_accuracy | MulticlassAccuracy | 0      | train\n",
      "3 | val_accuracy   | MulticlassAccuracy | 0      | train\n",
      "4 | train_f1       | MulticlassF1Score  | 0      | train\n",
      "5 | val_f1         | MulticlassF1Score  | 0      | train\n",
      "6 | test_accuracy  | MulticlassAccuracy | 0      | train\n",
      "7 | test_f1        | MulticlassF1Score  | 0      | train\n",
      "--------------------------------------------------------------\n",
      "1.1 M     Trainable params\n",
      "0         Non-trainable params\n",
      "1.1 M     Total params\n",
      "4.283     Total estimated model params size (MB)\n",
      "42        Modules in train mode\n",
      "0         Modules in eval mode\n"
     ]
    },
    {
     "data": {
      "application/vnd.jupyter.widget-view+json": {
       "model_id": "8ab8594233cc43788932064aec9332f5",
       "version_major": 2,
       "version_minor": 0
      },
      "text/plain": [
       "Sanity Checking: |          | 0/? [00:00<?, ?it/s]"
      ]
     },
     "metadata": {},
     "output_type": "display_data"
    },
    {
     "data": {
      "application/vnd.jupyter.widget-view+json": {
       "model_id": "487500ed4a194b3aa4677a45e4fcd43c",
       "version_major": 2,
       "version_minor": 0
      },
      "text/plain": [
       "Training: |          | 0/? [00:00<?, ?it/s]"
      ]
     },
     "metadata": {},
     "output_type": "display_data"
    },
    {
     "data": {
      "application/vnd.jupyter.widget-view+json": {
       "model_id": "8cdb08f208e841a5bb15466890b689de",
       "version_major": 2,
       "version_minor": 0
      },
      "text/plain": [
       "Validation: |          | 0/? [00:00<?, ?it/s]"
      ]
     },
     "metadata": {},
     "output_type": "display_data"
    },
    {
     "name": "stderr",
     "output_type": "stream",
     "text": [
      "INFO:pytorch_lightning.callbacks.early_stopping:Metric val_f1 improved. New best score: 0.220\n"
     ]
    },
    {
     "data": {
      "application/vnd.jupyter.widget-view+json": {
       "model_id": "15db35993b274f5b882774317b9e5fc6",
       "version_major": 2,
       "version_minor": 0
      },
      "text/plain": [
       "Validation: |          | 0/? [00:00<?, ?it/s]"
      ]
     },
     "metadata": {},
     "output_type": "display_data"
    },
    {
     "data": {
      "application/vnd.jupyter.widget-view+json": {
       "model_id": "76b9f198fc144c0d96cd12f40b36b0d2",
       "version_major": 2,
       "version_minor": 0
      },
      "text/plain": [
       "Validation: |          | 0/? [00:00<?, ?it/s]"
      ]
     },
     "metadata": {},
     "output_type": "display_data"
    },
    {
     "data": {
      "application/vnd.jupyter.widget-view+json": {
       "model_id": "4ffc5f212c9541c38d78a44dec19eddb",
       "version_major": 2,
       "version_minor": 0
      },
      "text/plain": [
       "Validation: |          | 0/? [00:00<?, ?it/s]"
      ]
     },
     "metadata": {},
     "output_type": "display_data"
    },
    {
     "name": "stderr",
     "output_type": "stream",
     "text": [
      "INFO:pytorch_lightning.callbacks.early_stopping:Monitored metric val_f1 did not improve in the last 3 records. Best score: 0.220. Signaling Trainer to stop.\n"
     ]
    },
    {
     "data": {
      "application/vnd.jupyter.widget-view+json": {
       "model_id": "467c98579f694e13b3b55553e11ee06d",
       "version_major": 2,
       "version_minor": 0
      },
      "text/plain": [
       "Testing: |          | 0/? [00:00<?, ?it/s]"
      ]
     },
     "metadata": {},
     "output_type": "display_data"
    },
    {
     "data": {
      "text/html": [
       "<pre style=\"white-space:pre;overflow-x:auto;line-height:normal;font-family:Menlo,'DejaVu Sans Mono',consolas,'Courier New',monospace\">┏━━━━━━━━━━━━━━━━━━━━━━━━━━━┳━━━━━━━━━━━━━━━━━━━━━━━━━━━┓\n",
       "┃<span style=\"font-weight: bold\">        Test metric        </span>┃<span style=\"font-weight: bold\">       DataLoader 0        </span>┃\n",
       "┡━━━━━━━━━━━━━━━━━━━━━━━━━━━╇━━━━━━━━━━━━━━━━━━━━━━━━━━━┩\n",
       "│<span style=\"color: #008080; text-decoration-color: #008080\">         test_acc          </span>│<span style=\"color: #800080; text-decoration-color: #800080\">    0.20200000703334808    </span>│\n",
       "│<span style=\"color: #008080; text-decoration-color: #008080\">          test_f1          </span>│<span style=\"color: #800080; text-decoration-color: #800080\">    0.20200000703334808    </span>│\n",
       "│<span style=\"color: #008080; text-decoration-color: #008080\">         test_loss         </span>│<span style=\"color: #800080; text-decoration-color: #800080\">    2.7362406253814697     </span>│\n",
       "└───────────────────────────┴───────────────────────────┘\n",
       "</pre>\n"
      ],
      "text/plain": [
       "┏━━━━━━━━━━━━━━━━━━━━━━━━━━━┳━━━━━━━━━━━━━━━━━━━━━━━━━━━┓\n",
       "┃\u001b[1m \u001b[0m\u001b[1m       Test metric       \u001b[0m\u001b[1m \u001b[0m┃\u001b[1m \u001b[0m\u001b[1m      DataLoader 0       \u001b[0m\u001b[1m \u001b[0m┃\n",
       "┡━━━━━━━━━━━━━━━━━━━━━━━━━━━╇━━━━━━━━━━━━━━━━━━━━━━━━━━━┩\n",
       "│\u001b[36m \u001b[0m\u001b[36m        test_acc         \u001b[0m\u001b[36m \u001b[0m│\u001b[35m \u001b[0m\u001b[35m   0.20200000703334808   \u001b[0m\u001b[35m \u001b[0m│\n",
       "│\u001b[36m \u001b[0m\u001b[36m         test_f1         \u001b[0m\u001b[36m \u001b[0m│\u001b[35m \u001b[0m\u001b[35m   0.20200000703334808   \u001b[0m\u001b[35m \u001b[0m│\n",
       "│\u001b[36m \u001b[0m\u001b[36m        test_loss        \u001b[0m\u001b[36m \u001b[0m│\u001b[35m \u001b[0m\u001b[35m   2.7362406253814697    \u001b[0m\u001b[35m \u001b[0m│\n",
       "└───────────────────────────┴───────────────────────────┘\n"
      ]
     },
     "metadata": {},
     "output_type": "display_data"
    },
    {
     "data": {
      "text/plain": [
       "[{'test_loss': 2.7362406253814697,\n",
       "  'test_acc': 0.20200000703334808,\n",
       "  'test_f1': 0.20200000703334808}]"
      ]
     },
     "execution_count": 26,
     "metadata": {},
     "output_type": "execute_result"
    }
   ],
   "source": [
    "# ===== Training =====\n",
    "model_2 = Model_2(num_labels=20,hidden_dim=32,num_layers=2)\n",
    "lit_module_2 = LitModule(model_2,tokenizer,train_dataset=train_dataset.select(range(3000)),val_dataset=val_dataset.select(range(300)),test_dataset=test_dataset.select(range(500)))\n",
    "\n",
    "early_stop_callback = EarlyStopping(\n",
    "    monitor='val_f1',  # Metric to monitor\n",
    "    min_delta=0.00,           # Minimum change to qualify as an improvement\n",
    "    patience=3,               # Number of epochs with no improvement after which training will be stopped\n",
    "    verbose=True,             # Log information to the console\n",
    "    mode='max'                # 'max' mode means we want to maximize the monitored quantity\n",
    ")\n",
    "\n",
    "trainer_2 = pl.Trainer(\n",
    "    max_epochs=6,\n",
    "    accelerator=device,\n",
    "    logger=False, # Set to True to use a logger for better tracking (e.g., TensorBoard)\n",
    "    callbacks=[early_stop_callback], # Pass the early stopping callback\n",
    "    gradient_clip_val=1.0 # Add gradient clipping\n",
    ")\n",
    "trainer_2.fit(lit_module_2)\n",
    "\n",
    "trainer_2.test(lit_module_2)"
   ]
  },
  {
   "cell_type": "code",
   "execution_count": null,
   "metadata": {
    "colab": {
     "base_uri": "https://localhost:8080/",
     "height": 687,
     "referenced_widgets": [
      "77e07f4fe44d4c3aa34c5fea2d0b72c9",
      "81272336865f40068fd34d74c7413bc7",
      "6e82c0a8a61046fbbe0e5434958b0093",
      "8cf5a3c7c328410a9508646542c851fd",
      "47d492d514ad458ebfd463e68efbce99",
      "f8799e4bc39448a28f935695615e708a",
      "a100d88360b7409d894ac3a790a63f06",
      "c6c0a37a0bcc4ff9bcdaaab9e4eaf0ce",
      "d93cea1cec2a45749d6f8a48a7584902",
      "29602a5ccc634bdb975663294c13e1a0",
      "a84c373e17c3488fa8b27addb7749980",
      "170275954b984f95934d56514b3d2a18",
      "8bccb73f0a9446a7980417703d061c48",
      "481258d177974ec1a74b86f3597a5c90",
      "117a7928a46a4a1cb2af43027410a723",
      "e59a1f36cadc46c08d10fb7e896d7d7a",
      "229215f758f14b47ae31d568464a8f5d",
      "adec2ff79254422b9eb24be14daf8c64",
      "3a79e3ae221146ef994cc2ac48749f79",
      "14dad615a90a43c886e77446846aeadd",
      "a876c9db7dd0444eb7979dc8f1fe3fcf",
      "2a74c7a88f64448e914e6fb14cacf295",
      "b7866e6f616d47a99a292591678eb1ea",
      "3c708d1f22444e17ab80410e17737371",
      "6d166c17ead24a60b27256afe71b5e2f",
      "68b871b6a1594106895c0e5d7f8e62ee",
      "373b82e18a5040f5993e5a89e55767c8",
      "f0793b371ac34c88a0aeb18f1bfcee8a",
      "c82b5aff16e14352930e2da89766bb46",
      "6e79479417374952a307e6c791d4c2fe",
      "8258b8fcdcbf45a1b42f4ebb9ab4d4f5",
      "7bbf857b26504bfaa55ff295d1e57596",
      "9f569aeab39b48b69d2b989267c114d3",
      "5e048a18f74c478e99cbde17d227f77e",
      "143872d6389c436994ab24a6f197130d",
      "44e131ffad6e4ab0ae1f93b46bb9d3b4",
      "3e8cdde9726946e498cc1154f8666541",
      "498980dbe70e4db2a5a0fbb31ac14306",
      "8153c6d3893e4bcabf7d53bfd26530e4",
      "eec3f8cf5dc34bcda4d4bb94a7a1fe1d",
      "4867cafab142460e9ca0f662aaaf2fc6",
      "96b81c6d1e7f410f8dc022c150a1fd19",
      "7f19bf6b309848c69b04ef1910645fa4",
      "f73b39c5420b47a087a3ed87e0934a1e",
      "856776ab37964903aba62b0a9ebca48c",
      "d6d095d43a3c47a3ad30d1092330c947",
      "64febea27df34c57ae46f2085dca67a7",
      "aaead35a530049a78ca690849ccfc70d",
      "79bce7b7de46494998ffcc96dd853dd4",
      "993e326894c94cf38dc037b8e4c6bd6c",
      "c0b10a3dacd44a7a899170850c177339",
      "1261c6a561b54f0ab40bb12514a0b9c7",
      "5998ed3c6c1d48b6a310239458868373",
      "7a4a29f28ccd44e1b787a49befea1524",
      "196a4db3616b4f8c990f0509ac771f9f",
      "c2a83b044b474bd29774de54225b089a",
      "2f8b4cfe393a416686f8e3c85b28a40e",
      "19c228641d43436cac953015f205410f",
      "fc5e48a75cda44a6bafd67c56c58b1b8",
      "0c4a5bbf5b634dbba5d1ce7060f9b549",
      "ea20931cb90b4143a41b205f0726d174",
      "abfe2c9eb8ec45cfbdc781008ae1d494",
      "8417cf404e0244819c21e31f723b2fb9",
      "6d38cf603b4440ac97855380ec38fdfd",
      "4f955c37fc164f7db0d6da6716b79115",
      "019cbaf0f72e46ee9417cfee23b31f42",
      "ed887c1ce12d4288aafdecda1b211893",
      "a284d850f46b4cee83d8b322427d96b2",
      "81adcf6f21b445f2ba7194e7ad5ede37",
      "246da407aca84eda85cae90095b0b67c",
      "6a58c9e4af124042821312c7235cc954",
      "a47569ea8dbf4aac87eef36d24dd9448",
      "6e0510976cb940958e024aad89e519e0",
      "e9b1061f64524f28b7984d90873b733a",
      "448fdfacf08c424ead13599a7e8939a3",
      "fd817f45d52b45558bc6730f0982bfda",
      "c3a3787504ae46438b669da1c5e795f9"
     ]
    },
    "id": "yF9-BxFzy0pv",
    "outputId": "7b85ee42-575a-40fa-fe0c-2efe901d85ff"
   },
   "outputs": [
    {
     "name": "stderr",
     "output_type": "stream",
     "text": [
      "INFO:pytorch_lightning.utilities.rank_zero:💡 Tip: For seamless cloud uploads and versioning, try installing [litmodels](https://pypi.org/project/litmodels/) to enable LitModelCheckpoint, which syncs automatically with the Lightning model registry.\n",
      "INFO:pytorch_lightning.utilities.rank_zero:GPU available: False, used: False\n",
      "INFO:pytorch_lightning.utilities.rank_zero:TPU available: False, using: 0 TPU cores\n",
      "INFO:pytorch_lightning.utilities.rank_zero:HPU available: False, using: 0 HPUs\n",
      "INFO:pytorch_lightning.callbacks.model_summary:\n",
      "  | Name           | Type               | Params | Mode \n",
      "--------------------------------------------------------------\n",
      "0 | model          | Model_3            | 1.0 M  | train\n",
      "1 | loss_fn        | CrossEntropyLoss   | 0      | train\n",
      "2 | train_accuracy | MulticlassAccuracy | 0      | train\n",
      "3 | val_accuracy   | MulticlassAccuracy | 0      | train\n",
      "4 | train_f1       | MulticlassF1Score  | 0      | train\n",
      "5 | val_f1         | MulticlassF1Score  | 0      | train\n",
      "6 | test_accuracy  | MulticlassAccuracy | 0      | train\n",
      "7 | test_f1        | MulticlassF1Score  | 0      | train\n",
      "--------------------------------------------------------------\n",
      "1.0 M     Trainable params\n",
      "0         Non-trainable params\n",
      "1.0 M     Total params\n",
      "4.197     Total estimated model params size (MB)\n",
      "41        Modules in train mode\n",
      "0         Modules in eval mode\n"
     ]
    },
    {
     "data": {
      "application/vnd.jupyter.widget-view+json": {
       "model_id": "77e07f4fe44d4c3aa34c5fea2d0b72c9",
       "version_major": 2,
       "version_minor": 0
      },
      "text/plain": [
       "Sanity Checking: |          | 0/? [00:00<?, ?it/s]"
      ]
     },
     "metadata": {},
     "output_type": "display_data"
    },
    {
     "data": {
      "application/vnd.jupyter.widget-view+json": {
       "model_id": "170275954b984f95934d56514b3d2a18",
       "version_major": 2,
       "version_minor": 0
      },
      "text/plain": [
       "Training: |          | 0/? [00:00<?, ?it/s]"
      ]
     },
     "metadata": {},
     "output_type": "display_data"
    },
    {
     "data": {
      "application/vnd.jupyter.widget-view+json": {
       "model_id": "b7866e6f616d47a99a292591678eb1ea",
       "version_major": 2,
       "version_minor": 0
      },
      "text/plain": [
       "Validation: |          | 0/? [00:00<?, ?it/s]"
      ]
     },
     "metadata": {},
     "output_type": "display_data"
    },
    {
     "name": "stderr",
     "output_type": "stream",
     "text": [
      "INFO:pytorch_lightning.callbacks.early_stopping:Metric val_f1 improved. New best score: 0.220\n"
     ]
    },
    {
     "data": {
      "application/vnd.jupyter.widget-view+json": {
       "model_id": "5e048a18f74c478e99cbde17d227f77e",
       "version_major": 2,
       "version_minor": 0
      },
      "text/plain": [
       "Validation: |          | 0/? [00:00<?, ?it/s]"
      ]
     },
     "metadata": {},
     "output_type": "display_data"
    },
    {
     "data": {
      "application/vnd.jupyter.widget-view+json": {
       "model_id": "856776ab37964903aba62b0a9ebca48c",
       "version_major": 2,
       "version_minor": 0
      },
      "text/plain": [
       "Validation: |          | 0/? [00:00<?, ?it/s]"
      ]
     },
     "metadata": {},
     "output_type": "display_data"
    },
    {
     "data": {
      "application/vnd.jupyter.widget-view+json": {
       "model_id": "c2a83b044b474bd29774de54225b089a",
       "version_major": 2,
       "version_minor": 0
      },
      "text/plain": [
       "Validation: |          | 0/? [00:00<?, ?it/s]"
      ]
     },
     "metadata": {},
     "output_type": "display_data"
    },
    {
     "name": "stderr",
     "output_type": "stream",
     "text": [
      "INFO:pytorch_lightning.callbacks.early_stopping:Monitored metric val_f1 did not improve in the last 3 records. Best score: 0.220. Signaling Trainer to stop.\n"
     ]
    },
    {
     "data": {
      "application/vnd.jupyter.widget-view+json": {
       "model_id": "ed887c1ce12d4288aafdecda1b211893",
       "version_major": 2,
       "version_minor": 0
      },
      "text/plain": [
       "Testing: |          | 0/? [00:00<?, ?it/s]"
      ]
     },
     "metadata": {},
     "output_type": "display_data"
    },
    {
     "data": {
      "text/html": [
       "<pre style=\"white-space:pre;overflow-x:auto;line-height:normal;font-family:Menlo,'DejaVu Sans Mono',consolas,'Courier New',monospace\">┏━━━━━━━━━━━━━━━━━━━━━━━━━━━┳━━━━━━━━━━━━━━━━━━━━━━━━━━━┓\n",
       "┃<span style=\"font-weight: bold\">        Test metric        </span>┃<span style=\"font-weight: bold\">       DataLoader 0        </span>┃\n",
       "┡━━━━━━━━━━━━━━━━━━━━━━━━━━━╇━━━━━━━━━━━━━━━━━━━━━━━━━━━┩\n",
       "│<span style=\"color: #008080; text-decoration-color: #008080\">         test_acc          </span>│<span style=\"color: #800080; text-decoration-color: #800080\">    0.20200000703334808    </span>│\n",
       "│<span style=\"color: #008080; text-decoration-color: #008080\">          test_f1          </span>│<span style=\"color: #800080; text-decoration-color: #800080\">    0.20200000703334808    </span>│\n",
       "│<span style=\"color: #008080; text-decoration-color: #008080\">         test_loss         </span>│<span style=\"color: #800080; text-decoration-color: #800080\">     2.775315284729004     </span>│\n",
       "└───────────────────────────┴───────────────────────────┘\n",
       "</pre>\n"
      ],
      "text/plain": [
       "┏━━━━━━━━━━━━━━━━━━━━━━━━━━━┳━━━━━━━━━━━━━━━━━━━━━━━━━━━┓\n",
       "┃\u001b[1m \u001b[0m\u001b[1m       Test metric       \u001b[0m\u001b[1m \u001b[0m┃\u001b[1m \u001b[0m\u001b[1m      DataLoader 0       \u001b[0m\u001b[1m \u001b[0m┃\n",
       "┡━━━━━━━━━━━━━━━━━━━━━━━━━━━╇━━━━━━━━━━━━━━━━━━━━━━━━━━━┩\n",
       "│\u001b[36m \u001b[0m\u001b[36m        test_acc         \u001b[0m\u001b[36m \u001b[0m│\u001b[35m \u001b[0m\u001b[35m   0.20200000703334808   \u001b[0m\u001b[35m \u001b[0m│\n",
       "│\u001b[36m \u001b[0m\u001b[36m         test_f1         \u001b[0m\u001b[36m \u001b[0m│\u001b[35m \u001b[0m\u001b[35m   0.20200000703334808   \u001b[0m\u001b[35m \u001b[0m│\n",
       "│\u001b[36m \u001b[0m\u001b[36m        test_loss        \u001b[0m\u001b[36m \u001b[0m│\u001b[35m \u001b[0m\u001b[35m    2.775315284729004    \u001b[0m\u001b[35m \u001b[0m│\n",
       "└───────────────────────────┴───────────────────────────┘\n"
      ]
     },
     "metadata": {},
     "output_type": "display_data"
    },
    {
     "data": {
      "text/plain": [
       "[{'test_loss': 2.775315284729004,\n",
       "  'test_acc': 0.20200000703334808,\n",
       "  'test_f1': 0.20200000703334808}]"
      ]
     },
     "execution_count": 27,
     "metadata": {},
     "output_type": "execute_result"
    }
   ],
   "source": [
    "# ===== Training =====\n",
    "model_3 = Model_3(num_labels=20,hidden_dim=32,num_layers=1)\n",
    "lit_module_3 = LitModule(model_3,tokenizer,train_dataset=train_dataset.select(range(3000)),val_dataset=val_dataset.select(range(300)),test_dataset=test_dataset.select(range(500)))\n",
    "\n",
    "early_stop_callback = EarlyStopping(\n",
    "    monitor='val_f1',  # Metric to monitor\n",
    "    min_delta=0.00,           # Minimum change to qualify as an improvement\n",
    "    patience=3,               # Number of epochs with no improvement after which training will be stopped\n",
    "    verbose=True,             # Log information to the console\n",
    "    mode='max'                # 'max' mode means we want to maximize the monitored quantity\n",
    ")\n",
    "\n",
    "trainer_3 = pl.Trainer(\n",
    "    max_epochs=6,\n",
    "    accelerator=device,\n",
    "    logger=False, # Set to True to use a logger for better tracking (e.g., TensorBoard)\n",
    "    callbacks=[early_stop_callback], # Pass the early stopping callback\n",
    "    gradient_clip_val=1.0 # Add gradient clipping\n",
    ")\n",
    "trainer_3.fit(lit_module_3)\n",
    "\n",
    "trainer_3.test(lit_module_3)"
   ]
  },
  {
   "cell_type": "markdown",
   "metadata": {
    "id": "D45PXnlk9q6h"
   },
   "source": [
    "##### Lab_3"
   ]
  },
  {
   "cell_type": "code",
   "execution_count": null,
   "metadata": {
    "colab": {
     "base_uri": "https://localhost:8080/",
     "height": 687,
     "referenced_widgets": [
      "0e439f2765ee473babd8e068a1540944",
      "8e40e40f38df4ca0bbc54f1477482a98",
      "291939bf63fe4b848a9ba2e3a69a23e6",
      "204ec601f0ef43beb64d65fc78732ba1",
      "66fe7638841845c988ff5d9d6b6a5f97",
      "0d1e1b8d7b0c4b6991c3c8a5bf13d2a1",
      "9dddd7e625af4fb9956776685b2522e9",
      "1c374285a9f54f2ca56991ce5e4dd269",
      "2504215f2ad94313a4c1935cfd086ea1",
      "56d75ffa60a94aeb9d666ff960a17f53",
      "c217020f05494c299ccc3aa06a521161",
      "fd2bfb86ad1b48fa9f8b092b6a6cfcc8",
      "deb84d431151408a9e6d953ad52d68a4",
      "d2bc31a716fc4b20a3536c1b83255352",
      "9810023e1b7247708d3bd2716f88a405",
      "e037ead859dc48beab5d355b41bb1188",
      "c32f4851002c4d2da883d6961aabf998",
      "d039837c45444a60ac7de8b24ff88bdb",
      "60b3075cd9e1403d827538a4d5ad1c2c",
      "3b5003d57d7e46d0a15427ae485d73f1",
      "42880f90b29d427b8a4d21ad8c6739ff",
      "fe88170fc79d43cb8bfc23f1085de2e4",
      "5ca875f0509a4f10a25ef25b29a9daa1",
      "81a2e0ca9d2a4fe584893a5c2549b090",
      "38adb0a09b7542a1904d3d37aab62d93",
      "5399cdbdd81e4eaba5f84ee136d77b59",
      "447840f4a5dd4a3ca73d8adbfa4b1597",
      "b9230b93f4de4858bc7bfd1844da299d",
      "6479dee4fe844cd89accfdff16084d4a",
      "708aa5f0af9a4564842d91c5094f8eb3",
      "3b8c3564e0994e8199bb44cecf6c5014",
      "5c05b42a876e4702aeb5a5f47c202d43",
      "3f9a881628fd4244bfd86b87a081f028",
      "3e59d467319b4a989cb3a4c2432f9556",
      "2057b2f6abe54dd0b4c7036203d3e3fe",
      "036ba7dfda864b9e85ce62d6064a2921",
      "7b77f8bff1944324a6ac6291e062b1e2",
      "7a96d485c66348868814a4c13b75b54e",
      "3a8cc37c62794a048e7ffbd4d0b93b29",
      "c287f79552df4e24a72818a20cd2241c",
      "2a15683a760643cb8fa8e1c5c903edb5",
      "c9872d7a0d0040d1b7f33ccf6a297937",
      "d5b793f9573c468396152d875c2c7999",
      "cf74ebc4a8444580a7d84f8434c135f5",
      "2e15ced6f7ac47bc8660f000fc9af71d",
      "a28fe4dfb5f3435684f8798537686c76",
      "cdfe959e8c074722a842804e86242601",
      "e8f80c410b9541c0bd888e443cfae821",
      "2a03c2bf120c4f94a18c6a18b377a488",
      "e4ec9a01a43e442c9e92af5ca4aa2320",
      "e0767e396f65462d8cad1d5bbed10510",
      "dafe34a08e2b43a7961ca05f2ce19bbd",
      "b3412992b9ff42829e6ceaadb25fca41",
      "5da34385532f457a9e98c2e8d5cff30e",
      "1828626718e54c199c7ddb9f2afb3662",
      "f6ee0a34c572488f8489ab08f215c68f",
      "5154d19a590340968884091ff6a04823",
      "e00389bda56841c0baf37ada0d9634f6",
      "cd8251853e524d8f90f11fabb7982da3",
      "00c7030f00604084aa8275cf31964123",
      "7370042edf8a4bf28a6c2d5fc07f4420",
      "786d5323ef4e42c2adcffcd5904579c0",
      "3f78e43677d54803932420dde5e5c060",
      "02d7d498ca1248f3a955b82f29c4002d",
      "90eaf37091304213a320bf3473698968",
      "113bb91ad6574d28aa485c4de98e990e",
      "0294d48850f34ca4833c2bc509a3fc30",
      "f8349844e14c4cadaf5bcf01efaa0cf4",
      "f0f7ec0581764420b2d8390c465e77fe",
      "3959d46292be47b58db6114ea9585f43",
      "803127ecf312461ca3837ddefa1bd5e3",
      "55de28c0b3ae455bac2fc3fbb3b99657",
      "62a30dc412fb420bb79587091f4b3713",
      "0ac2581f10134ad4aae64855f52ccadb",
      "59aeab036481459ea4c625dc944ab1ea",
      "a2e9ee08070a40c59b293ef3c9180c12",
      "8a225274e7814ff4a019ad4c5d28c717"
     ]
    },
    "id": "HBoGlQrt9q6i",
    "outputId": "3d83feac-e3cd-46e8-c426-9c0a06097724"
   },
   "outputs": [
    {
     "name": "stderr",
     "output_type": "stream",
     "text": [
      "INFO:pytorch_lightning.utilities.rank_zero:💡 Tip: For seamless cloud uploads and versioning, try installing [litmodels](https://pypi.org/project/litmodels/) to enable LitModelCheckpoint, which syncs automatically with the Lightning model registry.\n",
      "INFO:pytorch_lightning.utilities.rank_zero:GPU available: False, used: False\n",
      "INFO:pytorch_lightning.utilities.rank_zero:TPU available: False, using: 0 TPU cores\n",
      "INFO:pytorch_lightning.utilities.rank_zero:HPU available: False, using: 0 HPUs\n",
      "INFO:pytorch_lightning.callbacks.model_summary:\n",
      "  | Name           | Type               | Params | Mode \n",
      "--------------------------------------------------------------\n",
      "0 | model          | Estandard_Model    | 535 K  | train\n",
      "1 | loss_fn        | CrossEntropyLoss   | 0      | train\n",
      "2 | train_accuracy | MulticlassAccuracy | 0      | train\n",
      "3 | val_accuracy   | MulticlassAccuracy | 0      | train\n",
      "4 | train_f1       | MulticlassF1Score  | 0      | train\n",
      "5 | val_f1         | MulticlassF1Score  | 0      | train\n",
      "6 | test_accuracy  | MulticlassAccuracy | 0      | train\n",
      "7 | test_f1        | MulticlassF1Score  | 0      | train\n",
      "--------------------------------------------------------------\n",
      "535 K     Trainable params\n",
      "0         Non-trainable params\n",
      "535 K     Total params\n",
      "2.141     Total estimated model params size (MB)\n",
      "56        Modules in train mode\n",
      "0         Modules in eval mode\n"
     ]
    },
    {
     "data": {
      "application/vnd.jupyter.widget-view+json": {
       "model_id": "0e439f2765ee473babd8e068a1540944",
       "version_major": 2,
       "version_minor": 0
      },
      "text/plain": [
       "Sanity Checking: |          | 0/? [00:00<?, ?it/s]"
      ]
     },
     "metadata": {},
     "output_type": "display_data"
    },
    {
     "data": {
      "application/vnd.jupyter.widget-view+json": {
       "model_id": "fd2bfb86ad1b48fa9f8b092b6a6cfcc8",
       "version_major": 2,
       "version_minor": 0
      },
      "text/plain": [
       "Training: |          | 0/? [00:00<?, ?it/s]"
      ]
     },
     "metadata": {},
     "output_type": "display_data"
    },
    {
     "data": {
      "application/vnd.jupyter.widget-view+json": {
       "model_id": "5ca875f0509a4f10a25ef25b29a9daa1",
       "version_major": 2,
       "version_minor": 0
      },
      "text/plain": [
       "Validation: |          | 0/? [00:00<?, ?it/s]"
      ]
     },
     "metadata": {},
     "output_type": "display_data"
    },
    {
     "name": "stderr",
     "output_type": "stream",
     "text": [
      "INFO:pytorch_lightning.callbacks.early_stopping:Metric val_f1 improved. New best score: 0.220\n"
     ]
    },
    {
     "data": {
      "application/vnd.jupyter.widget-view+json": {
       "model_id": "3e59d467319b4a989cb3a4c2432f9556",
       "version_major": 2,
       "version_minor": 0
      },
      "text/plain": [
       "Validation: |          | 0/? [00:00<?, ?it/s]"
      ]
     },
     "metadata": {},
     "output_type": "display_data"
    },
    {
     "data": {
      "application/vnd.jupyter.widget-view+json": {
       "model_id": "2e15ced6f7ac47bc8660f000fc9af71d",
       "version_major": 2,
       "version_minor": 0
      },
      "text/plain": [
       "Validation: |          | 0/? [00:00<?, ?it/s]"
      ]
     },
     "metadata": {},
     "output_type": "display_data"
    },
    {
     "data": {
      "application/vnd.jupyter.widget-view+json": {
       "model_id": "f6ee0a34c572488f8489ab08f215c68f",
       "version_major": 2,
       "version_minor": 0
      },
      "text/plain": [
       "Validation: |          | 0/? [00:00<?, ?it/s]"
      ]
     },
     "metadata": {},
     "output_type": "display_data"
    },
    {
     "name": "stderr",
     "output_type": "stream",
     "text": [
      "INFO:pytorch_lightning.callbacks.early_stopping:Monitored metric val_f1 did not improve in the last 3 records. Best score: 0.220. Signaling Trainer to stop.\n"
     ]
    },
    {
     "data": {
      "application/vnd.jupyter.widget-view+json": {
       "model_id": "0294d48850f34ca4833c2bc509a3fc30",
       "version_major": 2,
       "version_minor": 0
      },
      "text/plain": [
       "Testing: |          | 0/? [00:00<?, ?it/s]"
      ]
     },
     "metadata": {},
     "output_type": "display_data"
    },
    {
     "data": {
      "text/html": [
       "<pre style=\"white-space:pre;overflow-x:auto;line-height:normal;font-family:Menlo,'DejaVu Sans Mono',consolas,'Courier New',monospace\">┏━━━━━━━━━━━━━━━━━━━━━━━━━━━┳━━━━━━━━━━━━━━━━━━━━━━━━━━━┓\n",
       "┃<span style=\"font-weight: bold\">        Test metric        </span>┃<span style=\"font-weight: bold\">       DataLoader 0        </span>┃\n",
       "┡━━━━━━━━━━━━━━━━━━━━━━━━━━━╇━━━━━━━━━━━━━━━━━━━━━━━━━━━┩\n",
       "│<span style=\"color: #008080; text-decoration-color: #008080\">         test_acc          </span>│<span style=\"color: #800080; text-decoration-color: #800080\">     0.164000004529953     </span>│\n",
       "│<span style=\"color: #008080; text-decoration-color: #008080\">          test_f1          </span>│<span style=\"color: #800080; text-decoration-color: #800080\">     0.164000004529953     </span>│\n",
       "│<span style=\"color: #008080; text-decoration-color: #008080\">         test_loss         </span>│<span style=\"color: #800080; text-decoration-color: #800080\">     3.744661808013916     </span>│\n",
       "└───────────────────────────┴───────────────────────────┘\n",
       "</pre>\n"
      ],
      "text/plain": [
       "┏━━━━━━━━━━━━━━━━━━━━━━━━━━━┳━━━━━━━━━━━━━━━━━━━━━━━━━━━┓\n",
       "┃\u001b[1m \u001b[0m\u001b[1m       Test metric       \u001b[0m\u001b[1m \u001b[0m┃\u001b[1m \u001b[0m\u001b[1m      DataLoader 0       \u001b[0m\u001b[1m \u001b[0m┃\n",
       "┡━━━━━━━━━━━━━━━━━━━━━━━━━━━╇━━━━━━━━━━━━━━━━━━━━━━━━━━━┩\n",
       "│\u001b[36m \u001b[0m\u001b[36m        test_acc         \u001b[0m\u001b[36m \u001b[0m│\u001b[35m \u001b[0m\u001b[35m    0.164000004529953    \u001b[0m\u001b[35m \u001b[0m│\n",
       "│\u001b[36m \u001b[0m\u001b[36m         test_f1         \u001b[0m\u001b[36m \u001b[0m│\u001b[35m \u001b[0m\u001b[35m    0.164000004529953    \u001b[0m\u001b[35m \u001b[0m│\n",
       "│\u001b[36m \u001b[0m\u001b[36m        test_loss        \u001b[0m\u001b[36m \u001b[0m│\u001b[35m \u001b[0m\u001b[35m    3.744661808013916    \u001b[0m\u001b[35m \u001b[0m│\n",
       "└───────────────────────────┴───────────────────────────┘\n"
      ]
     },
     "metadata": {},
     "output_type": "display_data"
    },
    {
     "data": {
      "text/plain": [
       "[{'test_loss': 3.744661808013916,\n",
       "  'test_acc': 0.164000004529953,\n",
       "  'test_f1': 0.164000004529953}]"
      ]
     },
     "execution_count": 29,
     "metadata": {},
     "output_type": "execute_result"
    }
   ],
   "source": [
    "# ===== Training =====\n",
    "est_model = Estandard_Model(num_labels=20,hidden_dim=16,num_heads=2,num_layers=4)\n",
    "lit_est_module = LitModule(est_model,tokenizer,train_dataset=train_dataset.select(range(3000)),val_dataset=val_dataset.select(range(300)),test_dataset=test_dataset.select(range(500)))\n",
    "\n",
    "early_stop_callback = EarlyStopping(\n",
    "    monitor='val_f1',  # Metric to monitor\n",
    "    min_delta=1e-3,           # Minimum change to qualify as an improvement\n",
    "    patience=3,               # Number of epochs with no improvement after which training will be stopped\n",
    "    verbose=True,             # Log information to the console\n",
    "    mode='max'                # 'max' mode means we want to maximize the monitored quantity\n",
    ")\n",
    "\n",
    "est_trainer = pl.Trainer(\n",
    "    max_epochs=6,\n",
    "    accelerator=device,\n",
    "    logger=False, # Set to True to use a logger for better tracking (e.g., TensorBoard)\n",
    "    callbacks=[early_stop_callback], # Pass the early stopping callback\n",
    "    gradient_clip_val=1.0 # Add gradient clipping\n",
    ")\n",
    "est_trainer.fit(lit_est_module)\n",
    "\n",
    "est_trainer.test(lit_est_module)"
   ]
  },
  {
   "cell_type": "code",
   "execution_count": null,
   "metadata": {
    "colab": {
     "base_uri": "https://localhost:8080/",
     "height": 687,
     "referenced_widgets": [
      "95e70bd79ae84d898c1ebaa743276c25",
      "d101b823bdeb471e8afc66493228d90d",
      "9ba6b7087eb8426eaf41b76d094c0c32",
      "3f7d6c67905d40928993d733590897d7",
      "4a21f70915dd4233875c5159e50e56a2",
      "78ccbfec9f8e442b8d567eeb1490f754",
      "b6cc07361f9d4c6eb4de0ff987e32100",
      "9b5ec3e2e3b7479a9bac3cebf07e9b53",
      "6e5128613e9f489f9a3aa29b5b6e07c0",
      "53f3d378c0364f209abf09776e93ecf1",
      "ae775eb6efd04411a563088bf0e7ae63",
      "818b673778b441cb90ccce985b6eba63",
      "448ab5ec0081479aa31b9a45e83a219f",
      "6862c05977564ff0a5eab1acdc3ee550",
      "cfe35891f28446e9b62e9f198b4e2d1c",
      "3f994e784c324415a4b7a6fe205042fe",
      "a06a45bf436d44c7b824ca8a7d39283f",
      "d9ed4ce5990349dda9c9ced9b2ff885d",
      "d48e4f9fc89e4602bbad2889f7f148ae",
      "0a38aa7f8ab14906af45cac63ab3d731",
      "8034cfd2551b4e96acdcd5d351fe9fd1",
      "3f82ef80c7f749e985395c1712bf894f",
      "b477a78f5a1548be8b2def43768ec03b",
      "6dca1cbe2ff64e4cb8d8add3f59601e2",
      "d47a519952ae47dd995df65cd40a0788",
      "2fef5b167d97495fb893016bf4042938",
      "9447b8940fad4330b07ffc400c659885",
      "c116859e982c42f79c7d1a9b1fe4e15b",
      "8c2a84eb93504e4a8d04855ac267edf0",
      "c3cf065870a349f294f24ec7f50985a9",
      "593c96299dca4265bb7857b590860028",
      "618d195fe5d04fcba2077d1a8f703d82",
      "1cd2614ff55e43159cfb4c952ac4050b",
      "56a0ec6f7a1642d4a879304d01ef36b9",
      "7e0a0f5262654f908c74a7efb2e3c86d",
      "7a20e7d8211c457789ffd2f038aadf1e",
      "2deb426979934e408aeefd3fe23274d1",
      "1ff1a76ee7444c3b9be077a6cc6526d3",
      "7f0efef0f7d547808ce85a899d635897",
      "71fd8e7320104370b4f0944e4657acc5",
      "a25c7cc9cfef4255b22b8dd83000cf5d",
      "4ed58cf0204549fd8a8e81f101a25582",
      "3760798f9ef54894babfbbb29ec78700",
      "95cad82fb4e24494ad73befadaf6e73b",
      "6bf467c4f4bb46189b705ba230b37cd0",
      "1017543c7e8848b19476c233c3bf0b2a",
      "3050768ef18c43ce8b9e620e1ae70e5f",
      "e33a9c195a924ca4a1418d622e7bae6f",
      "ea79f6836071466fa75b8602b7901f2c",
      "2ed89daea7ef4244befd1746a58f4e53",
      "b8dc8fd00d2046218911b7b1e914d888",
      "5ee66ff9ef5c4baf9120954760792ffb",
      "0bb945e555b14f73a4870bb756a9c11f",
      "bf1a24c1fb5f457cbc5d27045a818a6a",
      "7a839dfeebd6440f8efa05b820a7b722",
      "0a5e9e045eeb4de0b94f708bcb109570",
      "9dfdec654b704b65916ce8c50994d76c",
      "a1dbb1be08ee4ae0904b020f5ae25ab4",
      "de2da049d2d24c01b553a387eb5565b7",
      "591026a5050643de86ff9c44bf182660",
      "56e39d354a734e659d6679463aceccf1",
      "a7a46d3909c546ecbb55a9baa1f9bd35",
      "b093901587074be680ac23fee3e3ace5",
      "231e77a236744ffca8dca0ef07161343",
      "0fd3987cdd6643d387a4473d6284bbec",
      "92b84fda9157402ea4296364100198d8",
      "513b094bd16a42a391b6c76764010337",
      "65c4b8c115434cefb135a5240b27f3b6",
      "3a842658bbd649189ac87d3ae209796f",
      "9d94e76bc27648ff859ec19a717c2e2e",
      "6f3cbede2aae4d40a9b19a2210a855ea",
      "f122389a45654b54b103ff763c6639db",
      "e0ad7706b3574d629a1bdce815c9a2a5",
      "ee25957d004c4269be0d471cdb08cbc7",
      "5cb7fd59f3594665bdb8dadff1913f39",
      "7494002bca05442ab59f4b7517c9e0ff",
      "b3b0835d12bd4ac4b9ef287b1a22152d"
     ]
    },
    "id": "HAm9PxBZ9q6i",
    "outputId": "cb0963a1-298c-43c3-a370-dc606ae39460"
   },
   "outputs": [
    {
     "name": "stderr",
     "output_type": "stream",
     "text": [
      "INFO:pytorch_lightning.utilities.rank_zero:💡 Tip: For seamless cloud uploads and versioning, try installing [litmodels](https://pypi.org/project/litmodels/) to enable LitModelCheckpoint, which syncs automatically with the Lightning model registry.\n",
      "INFO:pytorch_lightning.utilities.rank_zero:GPU available: False, used: False\n",
      "INFO:pytorch_lightning.utilities.rank_zero:TPU available: False, using: 0 TPU cores\n",
      "INFO:pytorch_lightning.utilities.rank_zero:HPU available: False, using: 0 HPUs\n",
      "INFO:pytorch_lightning.callbacks.model_summary:\n",
      "  | Name           | Type               | Params | Mode \n",
      "--------------------------------------------------------------\n",
      "0 | model          | Model_1            | 514 K  | train\n",
      "1 | loss_fn        | CrossEntropyLoss   | 0      | train\n",
      "2 | train_accuracy | MulticlassAccuracy | 0      | train\n",
      "3 | val_accuracy   | MulticlassAccuracy | 0      | train\n",
      "4 | train_f1       | MulticlassF1Score  | 0      | train\n",
      "5 | val_f1         | MulticlassF1Score  | 0      | train\n",
      "6 | test_accuracy  | MulticlassAccuracy | 0      | train\n",
      "7 | test_f1        | MulticlassF1Score  | 0      | train\n",
      "--------------------------------------------------------------\n",
      "514 K     Trainable params\n",
      "0         Non-trainable params\n",
      "514 K     Total params\n",
      "2.060     Total estimated model params size (MB)\n",
      "68        Modules in train mode\n",
      "0         Modules in eval mode\n"
     ]
    },
    {
     "data": {
      "application/vnd.jupyter.widget-view+json": {
       "model_id": "95e70bd79ae84d898c1ebaa743276c25",
       "version_major": 2,
       "version_minor": 0
      },
      "text/plain": [
       "Sanity Checking: |          | 0/? [00:00<?, ?it/s]"
      ]
     },
     "metadata": {},
     "output_type": "display_data"
    },
    {
     "data": {
      "application/vnd.jupyter.widget-view+json": {
       "model_id": "818b673778b441cb90ccce985b6eba63",
       "version_major": 2,
       "version_minor": 0
      },
      "text/plain": [
       "Training: |          | 0/? [00:00<?, ?it/s]"
      ]
     },
     "metadata": {},
     "output_type": "display_data"
    },
    {
     "data": {
      "application/vnd.jupyter.widget-view+json": {
       "model_id": "b477a78f5a1548be8b2def43768ec03b",
       "version_major": 2,
       "version_minor": 0
      },
      "text/plain": [
       "Validation: |          | 0/? [00:00<?, ?it/s]"
      ]
     },
     "metadata": {},
     "output_type": "display_data"
    },
    {
     "name": "stderr",
     "output_type": "stream",
     "text": [
      "INFO:pytorch_lightning.callbacks.early_stopping:Metric val_f1 improved. New best score: 0.220\n"
     ]
    },
    {
     "data": {
      "application/vnd.jupyter.widget-view+json": {
       "model_id": "56a0ec6f7a1642d4a879304d01ef36b9",
       "version_major": 2,
       "version_minor": 0
      },
      "text/plain": [
       "Validation: |          | 0/? [00:00<?, ?it/s]"
      ]
     },
     "metadata": {},
     "output_type": "display_data"
    },
    {
     "data": {
      "application/vnd.jupyter.widget-view+json": {
       "model_id": "6bf467c4f4bb46189b705ba230b37cd0",
       "version_major": 2,
       "version_minor": 0
      },
      "text/plain": [
       "Validation: |          | 0/? [00:00<?, ?it/s]"
      ]
     },
     "metadata": {},
     "output_type": "display_data"
    },
    {
     "data": {
      "application/vnd.jupyter.widget-view+json": {
       "model_id": "0a5e9e045eeb4de0b94f708bcb109570",
       "version_major": 2,
       "version_minor": 0
      },
      "text/plain": [
       "Validation: |          | 0/? [00:00<?, ?it/s]"
      ]
     },
     "metadata": {},
     "output_type": "display_data"
    },
    {
     "name": "stderr",
     "output_type": "stream",
     "text": [
      "INFO:pytorch_lightning.callbacks.early_stopping:Monitored metric val_f1 did not improve in the last 3 records. Best score: 0.220. Signaling Trainer to stop.\n"
     ]
    },
    {
     "data": {
      "application/vnd.jupyter.widget-view+json": {
       "model_id": "513b094bd16a42a391b6c76764010337",
       "version_major": 2,
       "version_minor": 0
      },
      "text/plain": [
       "Testing: |          | 0/? [00:00<?, ?it/s]"
      ]
     },
     "metadata": {},
     "output_type": "display_data"
    },
    {
     "data": {
      "text/html": [
       "<pre style=\"white-space:pre;overflow-x:auto;line-height:normal;font-family:Menlo,'DejaVu Sans Mono',consolas,'Courier New',monospace\">┏━━━━━━━━━━━━━━━━━━━━━━━━━━━┳━━━━━━━━━━━━━━━━━━━━━━━━━━━┓\n",
       "┃<span style=\"font-weight: bold\">        Test metric        </span>┃<span style=\"font-weight: bold\">       DataLoader 0        </span>┃\n",
       "┡━━━━━━━━━━━━━━━━━━━━━━━━━━━╇━━━━━━━━━━━━━━━━━━━━━━━━━━━┩\n",
       "│<span style=\"color: #008080; text-decoration-color: #008080\">         test_acc          </span>│<span style=\"color: #800080; text-decoration-color: #800080\">    0.20200000703334808    </span>│\n",
       "│<span style=\"color: #008080; text-decoration-color: #008080\">          test_f1          </span>│<span style=\"color: #800080; text-decoration-color: #800080\">    0.20200000703334808    </span>│\n",
       "│<span style=\"color: #008080; text-decoration-color: #008080\">         test_loss         </span>│<span style=\"color: #800080; text-decoration-color: #800080\">    2.7757880687713623     </span>│\n",
       "└───────────────────────────┴───────────────────────────┘\n",
       "</pre>\n"
      ],
      "text/plain": [
       "┏━━━━━━━━━━━━━━━━━━━━━━━━━━━┳━━━━━━━━━━━━━━━━━━━━━━━━━━━┓\n",
       "┃\u001b[1m \u001b[0m\u001b[1m       Test metric       \u001b[0m\u001b[1m \u001b[0m┃\u001b[1m \u001b[0m\u001b[1m      DataLoader 0       \u001b[0m\u001b[1m \u001b[0m┃\n",
       "┡━━━━━━━━━━━━━━━━━━━━━━━━━━━╇━━━━━━━━━━━━━━━━━━━━━━━━━━━┩\n",
       "│\u001b[36m \u001b[0m\u001b[36m        test_acc         \u001b[0m\u001b[36m \u001b[0m│\u001b[35m \u001b[0m\u001b[35m   0.20200000703334808   \u001b[0m\u001b[35m \u001b[0m│\n",
       "│\u001b[36m \u001b[0m\u001b[36m         test_f1         \u001b[0m\u001b[36m \u001b[0m│\u001b[35m \u001b[0m\u001b[35m   0.20200000703334808   \u001b[0m\u001b[35m \u001b[0m│\n",
       "│\u001b[36m \u001b[0m\u001b[36m        test_loss        \u001b[0m\u001b[36m \u001b[0m│\u001b[35m \u001b[0m\u001b[35m   2.7757880687713623    \u001b[0m\u001b[35m \u001b[0m│\n",
       "└───────────────────────────┴───────────────────────────┘\n"
      ]
     },
     "metadata": {},
     "output_type": "display_data"
    },
    {
     "data": {
      "text/plain": [
       "[{'test_loss': 2.7757880687713623,\n",
       "  'test_acc': 0.20200000703334808,\n",
       "  'test_f1': 0.20200000703334808}]"
      ]
     },
     "execution_count": 30,
     "metadata": {},
     "output_type": "execute_result"
    }
   ],
   "source": [
    "# ===== Training =====\n",
    "model_1 = Model_1(num_labels=20,hidden_dim=16,num_layers=4)\n",
    "lit_module_1 = LitModule(model_1,tokenizer,train_dataset=train_dataset.select(range(3000)),val_dataset=val_dataset.select(range(300)),test_dataset=test_dataset.select(range(500)))\n",
    "\n",
    "early_stop_callback = EarlyStopping(\n",
    "    monitor='val_f1',  # Metric to monitor\n",
    "    min_delta=1e-3,           # Minimum change to qualify as an improvement\n",
    "    patience=3,               # Number of epochs with no improvement after which training will be stopped\n",
    "    verbose=True,             # Log information to the console\n",
    "    mode='max'                # 'max' mode means we want to maximize the monitored quantity\n",
    ")\n",
    "\n",
    "trainer_1 = pl.Trainer(\n",
    "    max_epochs=6,\n",
    "    accelerator=device,\n",
    "    logger=False, # Set to True to use a logger for better tracking (e.g., TensorBoard)\n",
    "    callbacks=[early_stop_callback], # Pass the early stopping callback\n",
    "    gradient_clip_val=1.0 # Add gradient clipping\n",
    ")\n",
    "trainer_1.fit(lit_module_1)\n",
    "\n",
    "trainer_1.test(lit_module_1)"
   ]
  },
  {
   "cell_type": "code",
   "execution_count": null,
   "metadata": {
    "colab": {
     "base_uri": "https://localhost:8080/",
     "height": 704,
     "referenced_widgets": [
      "2b5abffae6c54ae8873332d02f2a6064",
      "69ded9cd0522488d96fc7d9052b8cf8a",
      "5b58bc087c6a4adab21823aff48de025",
      "2e1f03609a5e48c5b5fdeb9383ca4a69",
      "971c00c4cff4401f8a82dac238eff06e",
      "7137c8ff70814a48a8c5899f91516755",
      "95973403f81e45e0aa457eba7381485a",
      "2079936a5b7b4fa5b395238c88e2547c",
      "b7a8b8ca3b3f40b4b5b2e6811512cba5",
      "2bd536e3f7d24be09f06d49d0ece5950",
      "f91b91709f7f4c6790619d9d9b548a2f",
      "3e8999ebe8ee4c6dac3256e83e58e25a",
      "2c7a4da5a0304f55975064c2d533430f",
      "f6e6b5fda8ca46159896f7bc2bfb17b1",
      "b4691b8a51a4493a849d626d8895c78f",
      "d694c763632b41d3b4dafa32a6ee8f04",
      "8e0d63362fd14323aaae427c22fc0eee",
      "779f327e3ae14afc8fa1ee4a7e87ff0b",
      "17c4e10aabcd4ae3b1e2250cfff589ed",
      "9147b6bb00e84a7a881ef65b86f52ab3",
      "1df185bfa64a4c38bf966f1b922c2d6f",
      "9e7c17e79e6048b2931536cd22938ce0",
      "0c80a99631a64cf48f27b35bc752a8d2",
      "1d8309dc94304de794a0b0cb2220ffb5",
      "d63272c1f9f64a82a3d6ce53ede573ff",
      "bbd72f405eb24fa19f1314c86cfd23d1",
      "cd7e63c60a2d46b099cafd8442dd9593",
      "ca1a9ca2d28c432a9a7ff15658b66600",
      "acd3e21838844862b0c9bdeee49eff73",
      "4ee77577e3be415b908a688ed16abad7",
      "99bc22b3468a4232979ff0d5421b3b0c",
      "b99ba6ca142b43338a0febc8bc684e1b",
      "da02ac38ad154a8da6c71613ae0a8fd6",
      "5adeb9aeed074995868b4feac502cef7",
      "297e9906541946ddbf9b73f8f185518b",
      "719ae9c09be24f5b9fd47da5d2357cd9",
      "5a14fc2a15da4b57b905101c194f9579",
      "d993e7c459384746840c4321a2a64426",
      "5bd88f1afe0540c78f364baa1164388a",
      "c8018d47fb9b40e49c2481e911580bed",
      "2db20d953cb14a4c9423761581a6844f",
      "d4212c233b064a4284a6a7a512328cc4",
      "57558ce4be6c4ad9806afba1ff53f454",
      "7f437ad8d7ee4db0b83eb15d15317e47",
      "b7b2aa62b9a9463296fe8dfeb9e9d47a",
      "c2b127c30818453db1f92ec6e27fb45d",
      "b9cff6b5b25e4e51a3487b3b58897844",
      "0e00ef9a3d5146bdbba7c02fc5b1ada1",
      "60ae12c370104344b843af51f619e2e8",
      "ecf16a0325a94abfbcd037a5667c4e42",
      "618bd4529a92463a93af6527db729f78",
      "20bcdba6a29f4dc3a4f7828ea511ad2b",
      "47d46898851f47ffaef27c906b0d6329",
      "f87e877950194a18a0300bc0cd22b5d0",
      "319c35b891cb4d9087b74337564883fc",
      "f150b22aa78a481f8ad7d11c937a8a09",
      "a7e92e0c480c4f2d85ac8e5835c637a4",
      "0dbdd5f9a6204101a3422a9b3960f1e1",
      "edbd648f5922478fbd7290e28aca7913",
      "d6217ff8c26d45ffb635016f0ff171f9",
      "c0d62491232c44d79d02aa783bdd589c",
      "5d289bc091594583ac21dfbfa1416843",
      "b2b428d0f0c3465d974591e765d209f9",
      "55d5d455604f486d83d48408641a5d64",
      "5635cb866d5340f280b9abd0bd69533c",
      "911500a701ef4053bb3383c874f7a691",
      "917426f81c60492780ba44e40e4fc6e5",
      "b0aefd668081489dbfa908db937365af",
      "2c67f5a151914b54b66a88b5c7d13fa6",
      "e0b222c5e2de4f0d8f19f1a3414e2923",
      "5b776a2dc8e64bc88bacb447e4d79906",
      "440cf86323bc4be5abd78cc801aeb37e",
      "b6ab15c9000d40e88bb6f431d8e62222",
      "28fb054d65414374a01942dcb1b21d34",
      "1a31f034f5fe4fa8879bb8e886581847",
      "f8df6eebca5e4200ab7168fadab8909e",
      "e0c3b73df60540f696e4ead0ecc6af49"
     ]
    },
    "id": "tOT5Fnaj9q6j",
    "outputId": "65aa2207-59e4-4da1-82ed-f69524ceb163"
   },
   "outputs": [
    {
     "name": "stderr",
     "output_type": "stream",
     "text": [
      "INFO:pytorch_lightning.utilities.rank_zero:💡 Tip: For seamless cloud uploads and versioning, try installing [litmodels](https://pypi.org/project/litmodels/) to enable LitModelCheckpoint, which syncs automatically with the Lightning model registry.\n",
      "INFO:pytorch_lightning.utilities.rank_zero:GPU available: False, used: False\n",
      "INFO:pytorch_lightning.utilities.rank_zero:TPU available: False, using: 0 TPU cores\n",
      "INFO:pytorch_lightning.utilities.rank_zero:HPU available: False, using: 0 HPUs\n",
      "/usr/local/lib/python3.12/dist-packages/pytorch_lightning/callbacks/model_checkpoint.py:751: Checkpoint directory /content/checkpoints exists and is not empty.\n",
      "INFO:pytorch_lightning.callbacks.model_summary:\n",
      "  | Name           | Type               | Params | Mode \n",
      "--------------------------------------------------------------\n",
      "0 | model          | Model_2            | 536 K  | train\n",
      "1 | loss_fn        | CrossEntropyLoss   | 0      | train\n",
      "2 | train_accuracy | MulticlassAccuracy | 0      | train\n",
      "3 | val_accuracy   | MulticlassAccuracy | 0      | train\n",
      "4 | train_f1       | MulticlassF1Score  | 0      | train\n",
      "5 | val_f1         | MulticlassF1Score  | 0      | train\n",
      "6 | test_accuracy  | MulticlassAccuracy | 0      | train\n",
      "7 | test_f1        | MulticlassF1Score  | 0      | train\n",
      "--------------------------------------------------------------\n",
      "536 K     Trainable params\n",
      "0         Non-trainable params\n",
      "536 K     Total params\n",
      "2.144     Total estimated model params size (MB)\n",
      "70        Modules in train mode\n",
      "0         Modules in eval mode\n"
     ]
    },
    {
     "data": {
      "application/vnd.jupyter.widget-view+json": {
       "model_id": "2b5abffae6c54ae8873332d02f2a6064",
       "version_major": 2,
       "version_minor": 0
      },
      "text/plain": [
       "Sanity Checking: |          | 0/? [00:00<?, ?it/s]"
      ]
     },
     "metadata": {},
     "output_type": "display_data"
    },
    {
     "data": {
      "application/vnd.jupyter.widget-view+json": {
       "model_id": "3e8999ebe8ee4c6dac3256e83e58e25a",
       "version_major": 2,
       "version_minor": 0
      },
      "text/plain": [
       "Training: |          | 0/? [00:00<?, ?it/s]"
      ]
     },
     "metadata": {},
     "output_type": "display_data"
    },
    {
     "data": {
      "application/vnd.jupyter.widget-view+json": {
       "model_id": "0c80a99631a64cf48f27b35bc752a8d2",
       "version_major": 2,
       "version_minor": 0
      },
      "text/plain": [
       "Validation: |          | 0/? [00:00<?, ?it/s]"
      ]
     },
     "metadata": {},
     "output_type": "display_data"
    },
    {
     "name": "stderr",
     "output_type": "stream",
     "text": [
      "INFO:pytorch_lightning.callbacks.early_stopping:Metric val_f1 improved. New best score: 0.220\n"
     ]
    },
    {
     "data": {
      "application/vnd.jupyter.widget-view+json": {
       "model_id": "5adeb9aeed074995868b4feac502cef7",
       "version_major": 2,
       "version_minor": 0
      },
      "text/plain": [
       "Validation: |          | 0/? [00:00<?, ?it/s]"
      ]
     },
     "metadata": {},
     "output_type": "display_data"
    },
    {
     "data": {
      "application/vnd.jupyter.widget-view+json": {
       "model_id": "b7b2aa62b9a9463296fe8dfeb9e9d47a",
       "version_major": 2,
       "version_minor": 0
      },
      "text/plain": [
       "Validation: |          | 0/? [00:00<?, ?it/s]"
      ]
     },
     "metadata": {},
     "output_type": "display_data"
    },
    {
     "data": {
      "application/vnd.jupyter.widget-view+json": {
       "model_id": "f150b22aa78a481f8ad7d11c937a8a09",
       "version_major": 2,
       "version_minor": 0
      },
      "text/plain": [
       "Validation: |          | 0/? [00:00<?, ?it/s]"
      ]
     },
     "metadata": {},
     "output_type": "display_data"
    },
    {
     "name": "stderr",
     "output_type": "stream",
     "text": [
      "INFO:pytorch_lightning.callbacks.early_stopping:Monitored metric val_f1 did not improve in the last 3 records. Best score: 0.220. Signaling Trainer to stop.\n"
     ]
    },
    {
     "data": {
      "application/vnd.jupyter.widget-view+json": {
       "model_id": "917426f81c60492780ba44e40e4fc6e5",
       "version_major": 2,
       "version_minor": 0
      },
      "text/plain": [
       "Testing: |          | 0/? [00:00<?, ?it/s]"
      ]
     },
     "metadata": {},
     "output_type": "display_data"
    },
    {
     "data": {
      "text/html": [
       "<pre style=\"white-space:pre;overflow-x:auto;line-height:normal;font-family:Menlo,'DejaVu Sans Mono',consolas,'Courier New',monospace\">┏━━━━━━━━━━━━━━━━━━━━━━━━━━━┳━━━━━━━━━━━━━━━━━━━━━━━━━━━┓\n",
       "┃<span style=\"font-weight: bold\">        Test metric        </span>┃<span style=\"font-weight: bold\">       DataLoader 0        </span>┃\n",
       "┡━━━━━━━━━━━━━━━━━━━━━━━━━━━╇━━━━━━━━━━━━━━━━━━━━━━━━━━━┩\n",
       "│<span style=\"color: #008080; text-decoration-color: #008080\">         test_acc          </span>│<span style=\"color: #800080; text-decoration-color: #800080\">    0.20200000703334808    </span>│\n",
       "│<span style=\"color: #008080; text-decoration-color: #008080\">          test_f1          </span>│<span style=\"color: #800080; text-decoration-color: #800080\">    0.20200000703334808    </span>│\n",
       "│<span style=\"color: #008080; text-decoration-color: #008080\">         test_loss         </span>│<span style=\"color: #800080; text-decoration-color: #800080\">     2.749612331390381     </span>│\n",
       "└───────────────────────────┴───────────────────────────┘\n",
       "</pre>\n"
      ],
      "text/plain": [
       "┏━━━━━━━━━━━━━━━━━━━━━━━━━━━┳━━━━━━━━━━━━━━━━━━━━━━━━━━━┓\n",
       "┃\u001b[1m \u001b[0m\u001b[1m       Test metric       \u001b[0m\u001b[1m \u001b[0m┃\u001b[1m \u001b[0m\u001b[1m      DataLoader 0       \u001b[0m\u001b[1m \u001b[0m┃\n",
       "┡━━━━━━━━━━━━━━━━━━━━━━━━━━━╇━━━━━━━━━━━━━━━━━━━━━━━━━━━┩\n",
       "│\u001b[36m \u001b[0m\u001b[36m        test_acc         \u001b[0m\u001b[36m \u001b[0m│\u001b[35m \u001b[0m\u001b[35m   0.20200000703334808   \u001b[0m\u001b[35m \u001b[0m│\n",
       "│\u001b[36m \u001b[0m\u001b[36m         test_f1         \u001b[0m\u001b[36m \u001b[0m│\u001b[35m \u001b[0m\u001b[35m   0.20200000703334808   \u001b[0m\u001b[35m \u001b[0m│\n",
       "│\u001b[36m \u001b[0m\u001b[36m        test_loss        \u001b[0m\u001b[36m \u001b[0m│\u001b[35m \u001b[0m\u001b[35m    2.749612331390381    \u001b[0m\u001b[35m \u001b[0m│\n",
       "└───────────────────────────┴───────────────────────────┘\n"
      ]
     },
     "metadata": {},
     "output_type": "display_data"
    },
    {
     "data": {
      "text/plain": [
       "[{'test_loss': 2.749612331390381,\n",
       "  'test_acc': 0.20200000703334808,\n",
       "  'test_f1': 0.20200000703334808}]"
      ]
     },
     "execution_count": 31,
     "metadata": {},
     "output_type": "execute_result"
    }
   ],
   "source": [
    "# ===== Training =====\n",
    "model_2 = Model_2(num_labels=20,hidden_dim=16,num_layers=4)\n",
    "lit_module_2 = LitModule(model_2,tokenizer,train_dataset=train_dataset.select(range(3000)),val_dataset=val_dataset.select(range(300)),test_dataset=test_dataset.select(range(500)))\n",
    "\n",
    "early_stop_callback = EarlyStopping(\n",
    "    monitor='val_f1',  # Metric to monitor\n",
    "    min_delta=1e-3,           # Minimum change to qualify as an improvement\n",
    "    patience=3,               # Number of epochs with no improvement after which training will be stopped\n",
    "    verbose=True,             # Log information to the console\n",
    "    mode='max'                # 'max' mode means we want to maximize the monitored quantity\n",
    ")\n",
    "\n",
    "trainer_2 = pl.Trainer(\n",
    "    max_epochs=6,\n",
    "    accelerator=device,\n",
    "    logger=False, # Set to True to use a logger for better tracking (e.g., TensorBoard)\n",
    "    callbacks=[early_stop_callback], # Pass the early stopping callback\n",
    "    gradient_clip_val=1.0 # Add gradient clipping\n",
    ")\n",
    "trainer_2.fit(lit_module_2)\n",
    "\n",
    "trainer_2.test(lit_module_2)"
   ]
  },
  {
   "cell_type": "code",
   "execution_count": null,
   "metadata": {
    "colab": {
     "base_uri": "https://localhost:8080/",
     "height": 704,
     "referenced_widgets": [
      "dda064e735d94de48cff3aba0bfcd4d7",
      "59fdb3e6748d4ca2b5476bf0d7c1907a",
      "5b5fbd2a98bf4a089584f5c25b433206",
      "47513665c5334f51baa9cfc37c96d6a6",
      "677aa9fbfcfe47c0b48a19b655266c70",
      "07c7ccde07634cbf9aa08a0b6d1ab65b",
      "67a5ae430a64433e8e4a7ac5bfc4a986",
      "649e3e5dad544b85b642d13bba0c14a5",
      "7a6871d93c5b49d69b720efd33bc7bbc",
      "9ef1b6c0d4d54791bc6e8d47e550460e",
      "db91d2968bc0460a9d0321af734c7e13",
      "4929b6eb59684fd3a39cdf38f3dd8c41",
      "d3b81ce7c52d4f2391d68f352ad51871",
      "22570f9e51fb4b188366de493116c340",
      "7b898c1be4e64ea4a677f163e40dd13f",
      "eb7a520e2597490292457518c2e6a560",
      "fcd26083c25f4a9fa52f235b9b6e17b4",
      "149841b749184c4a91ec0f07449a29be",
      "4c2dd49accbc4c81baa5c2d5dc8410f7",
      "a0488b9eaec94a7494042f1c06e6e87c",
      "e1bfc6cd469049b99340e7d8720c4f21",
      "749790f7f661430b93798730747abf85",
      "7ecffca3a53244d2b1d4aae7c80fa270",
      "430327e7ed2147548a864f83cb4b3965",
      "ee5075a6a8d24901a6271113d9e5b918",
      "bc48e60bd73c4226ad4017652f3b8fad",
      "c51abf3386474835a5ba6dbe42456ce6",
      "e484e3dc3d564e4e8fb1592af3e31220",
      "a08ddf4adce34b47abf5e924ee49ded1",
      "d8576ae78e1f4b33822e3ab740f969f9",
      "5148c82f22a24cdf87fed4c51f818110",
      "a405a1eda3894f688a8228b56ef6bdec",
      "90f9c296d16c43d9b700d1e596053f47",
      "ecc70c403d2542eba98d43b7eb312053",
      "1cbb0288058d4d50a6075849ee273190",
      "291a45831a2d4eee821193da8b74ac87",
      "c1fb31cee397403e89df35d586e2881b",
      "d0109e08de064f1b8e188db2f59b9e12",
      "3bf158af5e7c49dab998377bafbe59a7",
      "1cff42e35054420bb0a10cf7e4d18ece",
      "0090ae214121446483845f7690f07d04",
      "b6ed171876dc4702a631848a81c079ab",
      "7d4c16d895bc461fb2d8e90ffd2ff23e",
      "915c7310aec0423589531c8f354ca338",
      "a9b1b8b145304f3c9dbca10a8b8f0e88",
      "52e8a7948e184cb1ba18f33ad67c2493",
      "f77ca6044ede46728841123e286e1c29",
      "fc2a64a2c474467ea6eab4241da5104b",
      "1594eb3a81fd4ed78cb7ff53a994df8b",
      "c0153e0d95aa400681a4c009e61d7d5b",
      "870b258e78444cee8d23c1218376a58f",
      "bb5011bae69e4bb4b96c7e98a1cca269",
      "d6f407020da6485791b2385bfda480cf",
      "83103d279cdf479b9b9af0b37a4b8975",
      "42ef52ba27f64491a51b8d2e2206d10d",
      "a90b9d1f016145c18ea24b28cb9179d8",
      "d26149bbb2e740b09b1ad6f1a0cc9758",
      "d409389a2b0743d3b7c2feb7e1ffa632",
      "bd22c5b3385645d1971467677d611e2d",
      "ab63c44bb52342149490a55b0bd350dc",
      "7b00ddf8fe824d0c8339fd00a3c44c5b",
      "d02d1850cb6c4767ac66903922aff73d",
      "6a8d314e78d84d51892f070b6fce98ea",
      "0de196bb07504d72a7511d7a33238b28",
      "1e16ee1d5f2d479f89c8d3d8acc8fbdd",
      "bfabb57d22884a29b2e999387fb4fa32",
      "775e56e530d0474fa7f39e03a4ae3c91",
      "9a6f764c03a64483a14fa3198365e888",
      "f713856796514374b721957f96177993",
      "e29398c4e6e6460b9e2b49ee6a1b487f",
      "cf889c22951b49d6a0b97593e0b792d3",
      "ff9079dc96424f31aa8d227675349a7d",
      "c1c0817d66e247c9be18dd8e5103d1c1",
      "14ec97dd802e4081b05d0626591b139d",
      "7d56084c1f4d460bb465f8ccef332b17",
      "48f7f7968ed94fd99afcb19f5c3e3c97",
      "a85e7b76f7ff4bafbb97d91303f5bfef"
     ]
    },
    "id": "KRJAgOIn9q6j",
    "outputId": "5ff4c833-f230-470a-92e3-911475aea762"
   },
   "outputs": [
    {
     "name": "stderr",
     "output_type": "stream",
     "text": [
      "INFO:pytorch_lightning.utilities.rank_zero:💡 Tip: For seamless cloud uploads and versioning, try installing [litmodels](https://pypi.org/project/litmodels/) to enable LitModelCheckpoint, which syncs automatically with the Lightning model registry.\n",
      "INFO:pytorch_lightning.utilities.rank_zero:GPU available: False, used: False\n",
      "INFO:pytorch_lightning.utilities.rank_zero:TPU available: False, using: 0 TPU cores\n",
      "INFO:pytorch_lightning.utilities.rank_zero:HPU available: False, using: 0 HPUs\n",
      "/usr/local/lib/python3.12/dist-packages/pytorch_lightning/callbacks/model_checkpoint.py:751: Checkpoint directory /content/checkpoints exists and is not empty.\n",
      "INFO:pytorch_lightning.callbacks.model_summary:\n",
      "  | Name           | Type               | Params | Mode \n",
      "--------------------------------------------------------------\n",
      "0 | model          | Model_3            | 553 K  | train\n",
      "1 | loss_fn        | CrossEntropyLoss   | 0      | train\n",
      "2 | train_accuracy | MulticlassAccuracy | 0      | train\n",
      "3 | val_accuracy   | MulticlassAccuracy | 0      | train\n",
      "4 | train_f1       | MulticlassF1Score  | 0      | train\n",
      "5 | val_f1         | MulticlassF1Score  | 0      | train\n",
      "6 | test_accuracy  | MulticlassAccuracy | 0      | train\n",
      "7 | test_f1        | MulticlassF1Score  | 0      | train\n",
      "--------------------------------------------------------------\n",
      "553 K     Trainable params\n",
      "0         Non-trainable params\n",
      "553 K     Total params\n",
      "2.215     Total estimated model params size (MB)\n",
      "125       Modules in train mode\n",
      "0         Modules in eval mode\n"
     ]
    },
    {
     "data": {
      "application/vnd.jupyter.widget-view+json": {
       "model_id": "dda064e735d94de48cff3aba0bfcd4d7",
       "version_major": 2,
       "version_minor": 0
      },
      "text/plain": [
       "Sanity Checking: |          | 0/? [00:00<?, ?it/s]"
      ]
     },
     "metadata": {},
     "output_type": "display_data"
    },
    {
     "data": {
      "application/vnd.jupyter.widget-view+json": {
       "model_id": "4929b6eb59684fd3a39cdf38f3dd8c41",
       "version_major": 2,
       "version_minor": 0
      },
      "text/plain": [
       "Training: |          | 0/? [00:00<?, ?it/s]"
      ]
     },
     "metadata": {},
     "output_type": "display_data"
    },
    {
     "data": {
      "application/vnd.jupyter.widget-view+json": {
       "model_id": "7ecffca3a53244d2b1d4aae7c80fa270",
       "version_major": 2,
       "version_minor": 0
      },
      "text/plain": [
       "Validation: |          | 0/? [00:00<?, ?it/s]"
      ]
     },
     "metadata": {},
     "output_type": "display_data"
    },
    {
     "name": "stderr",
     "output_type": "stream",
     "text": [
      "INFO:pytorch_lightning.callbacks.early_stopping:Metric val_f1 improved. New best score: 0.220\n"
     ]
    },
    {
     "data": {
      "application/vnd.jupyter.widget-view+json": {
       "model_id": "ecc70c403d2542eba98d43b7eb312053",
       "version_major": 2,
       "version_minor": 0
      },
      "text/plain": [
       "Validation: |          | 0/? [00:00<?, ?it/s]"
      ]
     },
     "metadata": {},
     "output_type": "display_data"
    },
    {
     "data": {
      "application/vnd.jupyter.widget-view+json": {
       "model_id": "a9b1b8b145304f3c9dbca10a8b8f0e88",
       "version_major": 2,
       "version_minor": 0
      },
      "text/plain": [
       "Validation: |          | 0/? [00:00<?, ?it/s]"
      ]
     },
     "metadata": {},
     "output_type": "display_data"
    },
    {
     "data": {
      "application/vnd.jupyter.widget-view+json": {
       "model_id": "a90b9d1f016145c18ea24b28cb9179d8",
       "version_major": 2,
       "version_minor": 0
      },
      "text/plain": [
       "Validation: |          | 0/? [00:00<?, ?it/s]"
      ]
     },
     "metadata": {},
     "output_type": "display_data"
    },
    {
     "name": "stderr",
     "output_type": "stream",
     "text": [
      "INFO:pytorch_lightning.callbacks.early_stopping:Monitored metric val_f1 did not improve in the last 3 records. Best score: 0.220. Signaling Trainer to stop.\n"
     ]
    },
    {
     "data": {
      "application/vnd.jupyter.widget-view+json": {
       "model_id": "775e56e530d0474fa7f39e03a4ae3c91",
       "version_major": 2,
       "version_minor": 0
      },
      "text/plain": [
       "Testing: |          | 0/? [00:00<?, ?it/s]"
      ]
     },
     "metadata": {},
     "output_type": "display_data"
    },
    {
     "data": {
      "text/html": [
       "<pre style=\"white-space:pre;overflow-x:auto;line-height:normal;font-family:Menlo,'DejaVu Sans Mono',consolas,'Courier New',monospace\">┏━━━━━━━━━━━━━━━━━━━━━━━━━━━┳━━━━━━━━━━━━━━━━━━━━━━━━━━━┓\n",
       "┃<span style=\"font-weight: bold\">        Test metric        </span>┃<span style=\"font-weight: bold\">       DataLoader 0        </span>┃\n",
       "┡━━━━━━━━━━━━━━━━━━━━━━━━━━━╇━━━━━━━━━━━━━━━━━━━━━━━━━━━┩\n",
       "│<span style=\"color: #008080; text-decoration-color: #008080\">         test_acc          </span>│<span style=\"color: #800080; text-decoration-color: #800080\">    0.20200000703334808    </span>│\n",
       "│<span style=\"color: #008080; text-decoration-color: #008080\">          test_f1          </span>│<span style=\"color: #800080; text-decoration-color: #800080\">    0.20200000703334808    </span>│\n",
       "│<span style=\"color: #008080; text-decoration-color: #008080\">         test_loss         </span>│<span style=\"color: #800080; text-decoration-color: #800080\">    2.7445192337036133     </span>│\n",
       "└───────────────────────────┴───────────────────────────┘\n",
       "</pre>\n"
      ],
      "text/plain": [
       "┏━━━━━━━━━━━━━━━━━━━━━━━━━━━┳━━━━━━━━━━━━━━━━━━━━━━━━━━━┓\n",
       "┃\u001b[1m \u001b[0m\u001b[1m       Test metric       \u001b[0m\u001b[1m \u001b[0m┃\u001b[1m \u001b[0m\u001b[1m      DataLoader 0       \u001b[0m\u001b[1m \u001b[0m┃\n",
       "┡━━━━━━━━━━━━━━━━━━━━━━━━━━━╇━━━━━━━━━━━━━━━━━━━━━━━━━━━┩\n",
       "│\u001b[36m \u001b[0m\u001b[36m        test_acc         \u001b[0m\u001b[36m \u001b[0m│\u001b[35m \u001b[0m\u001b[35m   0.20200000703334808   \u001b[0m\u001b[35m \u001b[0m│\n",
       "│\u001b[36m \u001b[0m\u001b[36m         test_f1         \u001b[0m\u001b[36m \u001b[0m│\u001b[35m \u001b[0m\u001b[35m   0.20200000703334808   \u001b[0m\u001b[35m \u001b[0m│\n",
       "│\u001b[36m \u001b[0m\u001b[36m        test_loss        \u001b[0m\u001b[36m \u001b[0m│\u001b[35m \u001b[0m\u001b[35m   2.7445192337036133    \u001b[0m\u001b[35m \u001b[0m│\n",
       "└───────────────────────────┴───────────────────────────┘\n"
      ]
     },
     "metadata": {},
     "output_type": "display_data"
    },
    {
     "data": {
      "text/plain": [
       "[{'test_loss': 2.7445192337036133,\n",
       "  'test_acc': 0.20200000703334808,\n",
       "  'test_f1': 0.20200000703334808}]"
      ]
     },
     "execution_count": 32,
     "metadata": {},
     "output_type": "execute_result"
    }
   ],
   "source": [
    "# ===== Training =====\n",
    "model_3 = Model_3(num_labels=20,hidden_dim=16,num_layers=4)\n",
    "lit_module_3 = LitModule(model_3,tokenizer,train_dataset=train_dataset.select(range(3000)),val_dataset=val_dataset.select(range(300)),test_dataset=test_dataset.select(range(500)))\n",
    "\n",
    "early_stop_callback = EarlyStopping(\n",
    "    monitor='val_f1',  # Metric to monitor\n",
    "    min_delta=1e-3,           # Minimum change to qualify as an improvement\n",
    "    patience=3,               # Number of epochs with no improvement after which training will be stopped\n",
    "    verbose=True,             # Log information to the console\n",
    "    mode='max'                # 'max' mode means we want to maximize the monitored quantity\n",
    ")\n",
    "\n",
    "trainer_3 = pl.Trainer(\n",
    "    max_epochs=6,\n",
    "    accelerator=device,\n",
    "    logger=False, # Set to True to use a logger for better tracking (e.g., TensorBoard)\n",
    "    callbacks=[early_stop_callback], # Pass the early stopping callback\n",
    "    gradient_clip_val=1.0 # Add gradient clipping\n",
    ")\n",
    "trainer_3.fit(lit_module_3)\n",
    "\n",
    "trainer_3.test(lit_module_3)"
   ]
  },
  {
   "cell_type": "markdown",
   "metadata": {
    "id": "c-fuxQe8JFdb"
   },
   "source": [
    "##### Lab_4"
   ]
  },
  {
   "cell_type": "code",
   "execution_count": null,
   "metadata": {
    "colab": {
     "base_uri": "https://localhost:8080/",
     "height": 721,
     "referenced_widgets": [
      "568903a27ee04403b8dcdaf02c546076",
      "b818a91fa2a645b484838571f39fe73e",
      "14b2f85d4e9b44f49f9538181085a35f",
      "b63ebfaf7cea47d093c080454ab38124",
      "0064f4bf113a4b9eb51f652d9745cbbe",
      "6010febb4d4d485ea9d9a471e0bea0ad",
      "0f3c5740ffee49a5a7bdf074764d618a",
      "e6daf2f84630483d99a7eac994db1524",
      "5bb98e2df26947cf94f7707e4ea6787a",
      "0f8b00be95194f5d8dc6a9e7855faf9c",
      "9872b73e33d14faa9185f13c884e3cdb",
      "928dc02097634ab2a7278fd34e7e58d9",
      "3a699a3aff4640acbc31c202709fc955",
      "28b033c42a1d4383b778b0b869fe2494",
      "9a70d36f79c943f0a72ae5c181071b3b",
      "6c6f3b1d884148d9af89fa9e0f1728a5",
      "97599e0cbe1e4bdd9af9e7e3b0e33a82",
      "19b3819387744f129ef10c2cd6c25503",
      "c1de20ec597e455994e64ebdbdda7a8e",
      "8c72984b68ae4b64a98740d7f81d68e6",
      "1c8083c09a094190a633adc5e04433dc",
      "d8a53d33d4a3471cb61be7726e0fbbd8",
      "1b9adbde26864882b5329cf8a07a45f5",
      "46cff9a597bd4a74ace2ae07b2930b30",
      "08402911291c4c039cb5fc683d416d63",
      "3cd211f4e0f44dec8410d4dfadea422a",
      "9fe16237825e4601aac039c7b9d85284",
      "480a25e040ec4b8eabbc7fed1363f62b",
      "b6b38d888b2c4e66b85117bc195f6809",
      "2fbe1969aba0412b82cc92f28b27f355",
      "187bd1b3e5a34f8ea687b22e762b59b6",
      "1abbf81de12a41b8bf72c02fc101d90d",
      "d2316193b98948d1b4c3684a531fc8eb",
      "4259f6c826cf496481a49d4369c35aed",
      "a31d338f88ca49428081f11461fbe844",
      "172ac982012a4608bb787bf3e13e97aa",
      "a0f0d21cb7a94029a2b564026fc432f0",
      "71d764ede46d4b5cb7417be04bd8dc08",
      "6e2d88ca67f04c45b3af22c2a2464fbc",
      "d244673b31f84bcbaec80bcfb8fea9fd",
      "df4b7ab7a5504b20894789dda1901983",
      "5814b1bef6934d7cafd4fbb88b71145e",
      "27969ce1bd8a408599882cb9f0f06b6a",
      "a491ef3005574bfcba392a5eb1d59fac",
      "e71e0ef108e648f2b004150d8f639400",
      "c4c83f2cfe954ce489989d3e7ac8b9f1",
      "e955209a6208458ab4652d0ffecb7a6e",
      "7bcbeb4b18c04324a39815394c2d1bd8",
      "2334c54cb51d4b14b4920fd332cebee5",
      "1581441c5c5e488ab7ab0818f14ec339",
      "8dcda7dbd63d45ed9610b13b474de165",
      "5580d222254e4ac297d006530cc30b8e",
      "f7761f50f8ad4938a83d0e6bd1657dfc",
      "3f3359b1eb3843fdb4f31cec8f2c457c",
      "e0fc48eb092d478a97cca56690d39c68",
      "75bf1ab28e3f4a38921e1d506f7f9ae1",
      "1310860b51d844f3956b4ed25f160569",
      "b1267519c989475f93daf8b10821cc97",
      "a9cd5a7543ce43a8bce4064a08688a68",
      "17b691e489764d888c67fa3f5180afd4",
      "603d157f4f384aaba9ed5b36ab74eca3",
      "a449c2bac15343c89336b6f936072af1",
      "ea9e0ffa9ed641c08af4696709437bbe",
      "143da7389fdf420ab0fef790ff48449b",
      "d0f5ed32f525463087fe5479c366666a",
      "41ea5a67c9374caea2e38b357ba08628",
      "ac4dfb63161a4c2da17eb72b2a4d562f",
      "774ef7afe5e24f06ae97da7baa436312",
      "5086156e123f499686b89566dbe9a91d",
      "003b2a1d125a47bcabc881e5cb8c944e",
      "62324a8c34ce41e4a21a3ef064adbed2",
      "79f8e95ad69c43f1a2a918bc59174788",
      "43a32b1c78ef40d496329047f52ad35a",
      "8eaf3dd65321459da40c2756ae30c4fb",
      "59b2a81fb01f4f4b819b3d18260893b9",
      "eaf0ecd1916540b89181e0280b4a5d6b",
      "24a5024331e54f748a0de33048966814"
     ]
    },
    "id": "tjE_7CJ9JFdc",
    "outputId": "97825d49-1898-4e30-9c3b-bfdc8e6cddf9"
   },
   "outputs": [
    {
     "name": "stderr",
     "output_type": "stream",
     "text": [
      "INFO:pytorch_lightning.utilities.rank_zero:💡 Tip: For seamless cloud uploads and versioning, try installing [litmodels](https://pypi.org/project/litmodels/) to enable LitModelCheckpoint, which syncs automatically with the Lightning model registry.\n",
      "INFO:pytorch_lightning.utilities.rank_zero:GPU available: True (cuda), used: True\n",
      "INFO:pytorch_lightning.utilities.rank_zero:TPU available: False, using: 0 TPU cores\n",
      "INFO:pytorch_lightning.utilities.rank_zero:HPU available: False, using: 0 HPUs\n",
      "INFO:pytorch_lightning.accelerators.cuda:LOCAL_RANK: 0 - CUDA_VISIBLE_DEVICES: [0]\n",
      "INFO:pytorch_lightning.callbacks.model_summary:\n",
      "  | Name           | Type               | Params | Mode \n",
      "--------------------------------------------------------------\n",
      "0 | model          | Estandard_Model    | 2.3 M  | train\n",
      "1 | loss_fn        | CrossEntropyLoss   | 0      | train\n",
      "2 | train_accuracy | MulticlassAccuracy | 0      | train\n",
      "3 | val_accuracy   | MulticlassAccuracy | 0      | train\n",
      "4 | train_f1       | MulticlassF1Score  | 0      | train\n",
      "5 | val_f1         | MulticlassF1Score  | 0      | train\n",
      "6 | test_accuracy  | MulticlassAccuracy | 0      | train\n",
      "7 | test_f1        | MulticlassF1Score  | 0      | train\n",
      "--------------------------------------------------------------\n",
      "2.3 M     Trainable params\n",
      "0         Non-trainable params\n",
      "2.3 M     Total params\n",
      "9.349     Total estimated model params size (MB)\n",
      "89        Modules in train mode\n",
      "0         Modules in eval mode\n"
     ]
    },
    {
     "data": {
      "application/vnd.jupyter.widget-view+json": {
       "model_id": "568903a27ee04403b8dcdaf02c546076",
       "version_major": 2,
       "version_minor": 0
      },
      "text/plain": [
       "Sanity Checking: |          | 0/? [00:00<?, ?it/s]"
      ]
     },
     "metadata": {},
     "output_type": "display_data"
    },
    {
     "data": {
      "application/vnd.jupyter.widget-view+json": {
       "model_id": "928dc02097634ab2a7278fd34e7e58d9",
       "version_major": 2,
       "version_minor": 0
      },
      "text/plain": [
       "Training: |          | 0/? [00:00<?, ?it/s]"
      ]
     },
     "metadata": {},
     "output_type": "display_data"
    },
    {
     "data": {
      "application/vnd.jupyter.widget-view+json": {
       "model_id": "1b9adbde26864882b5329cf8a07a45f5",
       "version_major": 2,
       "version_minor": 0
      },
      "text/plain": [
       "Validation: |          | 0/? [00:00<?, ?it/s]"
      ]
     },
     "metadata": {},
     "output_type": "display_data"
    },
    {
     "name": "stderr",
     "output_type": "stream",
     "text": [
      "INFO:pytorch_lightning.callbacks.early_stopping:Metric val_f1 improved. New best score: 0.205\n"
     ]
    },
    {
     "data": {
      "application/vnd.jupyter.widget-view+json": {
       "model_id": "4259f6c826cf496481a49d4369c35aed",
       "version_major": 2,
       "version_minor": 0
      },
      "text/plain": [
       "Validation: |          | 0/? [00:00<?, ?it/s]"
      ]
     },
     "metadata": {},
     "output_type": "display_data"
    },
    {
     "data": {
      "application/vnd.jupyter.widget-view+json": {
       "model_id": "e71e0ef108e648f2b004150d8f639400",
       "version_major": 2,
       "version_minor": 0
      },
      "text/plain": [
       "Validation: |          | 0/? [00:00<?, ?it/s]"
      ]
     },
     "metadata": {},
     "output_type": "display_data"
    },
    {
     "data": {
      "application/vnd.jupyter.widget-view+json": {
       "model_id": "75bf1ab28e3f4a38921e1d506f7f9ae1",
       "version_major": 2,
       "version_minor": 0
      },
      "text/plain": [
       "Validation: |          | 0/? [00:00<?, ?it/s]"
      ]
     },
     "metadata": {},
     "output_type": "display_data"
    },
    {
     "name": "stderr",
     "output_type": "stream",
     "text": [
      "INFO:pytorch_lightning.callbacks.early_stopping:Monitored metric val_f1 did not improve in the last 3 records. Best score: 0.205. Signaling Trainer to stop.\n",
      "INFO:pytorch_lightning.accelerators.cuda:LOCAL_RANK: 0 - CUDA_VISIBLE_DEVICES: [0]\n"
     ]
    },
    {
     "data": {
      "application/vnd.jupyter.widget-view+json": {
       "model_id": "ac4dfb63161a4c2da17eb72b2a4d562f",
       "version_major": 2,
       "version_minor": 0
      },
      "text/plain": [
       "Testing: |          | 0/? [00:00<?, ?it/s]"
      ]
     },
     "metadata": {},
     "output_type": "display_data"
    },
    {
     "data": {
      "text/html": [
       "<pre style=\"white-space:pre;overflow-x:auto;line-height:normal;font-family:Menlo,'DejaVu Sans Mono',consolas,'Courier New',monospace\">┏━━━━━━━━━━━━━━━━━━━━━━━━━━━┳━━━━━━━━━━━━━━━━━━━━━━━━━━━┓\n",
       "┃<span style=\"font-weight: bold\">        Test metric        </span>┃<span style=\"font-weight: bold\">       DataLoader 0        </span>┃\n",
       "┡━━━━━━━━━━━━━━━━━━━━━━━━━━━╇━━━━━━━━━━━━━━━━━━━━━━━━━━━┩\n",
       "│<span style=\"color: #008080; text-decoration-color: #008080\">         test_acc          </span>│<span style=\"color: #800080; text-decoration-color: #800080\">    0.20749999582767487    </span>│\n",
       "│<span style=\"color: #008080; text-decoration-color: #008080\">          test_f1          </span>│<span style=\"color: #800080; text-decoration-color: #800080\">    0.20749999582767487    </span>│\n",
       "│<span style=\"color: #008080; text-decoration-color: #008080\">         test_loss         </span>│<span style=\"color: #800080; text-decoration-color: #800080\">    2.7678890228271484     </span>│\n",
       "└───────────────────────────┴───────────────────────────┘\n",
       "</pre>\n"
      ],
      "text/plain": [
       "┏━━━━━━━━━━━━━━━━━━━━━━━━━━━┳━━━━━━━━━━━━━━━━━━━━━━━━━━━┓\n",
       "┃\u001b[1m \u001b[0m\u001b[1m       Test metric       \u001b[0m\u001b[1m \u001b[0m┃\u001b[1m \u001b[0m\u001b[1m      DataLoader 0       \u001b[0m\u001b[1m \u001b[0m┃\n",
       "┡━━━━━━━━━━━━━━━━━━━━━━━━━━━╇━━━━━━━━━━━━━━━━━━━━━━━━━━━┩\n",
       "│\u001b[36m \u001b[0m\u001b[36m        test_acc         \u001b[0m\u001b[36m \u001b[0m│\u001b[35m \u001b[0m\u001b[35m   0.20749999582767487   \u001b[0m\u001b[35m \u001b[0m│\n",
       "│\u001b[36m \u001b[0m\u001b[36m         test_f1         \u001b[0m\u001b[36m \u001b[0m│\u001b[35m \u001b[0m\u001b[35m   0.20749999582767487   \u001b[0m\u001b[35m \u001b[0m│\n",
       "│\u001b[36m \u001b[0m\u001b[36m        test_loss        \u001b[0m\u001b[36m \u001b[0m│\u001b[35m \u001b[0m\u001b[35m   2.7678890228271484    \u001b[0m\u001b[35m \u001b[0m│\n",
       "└───────────────────────────┴───────────────────────────┘\n"
      ]
     },
     "metadata": {},
     "output_type": "display_data"
    },
    {
     "data": {
      "text/plain": [
       "[{'test_loss': 2.7678890228271484,\n",
       "  'test_acc': 0.20749999582767487,\n",
       "  'test_f1': 0.20749999582767487}]"
      ]
     },
     "execution_count": 21,
     "metadata": {},
     "output_type": "execute_result"
    }
   ],
   "source": [
    "# ===== Training =====\n",
    "est_model = Estandard_Model(num_labels=20,hidden_dim=64,num_heads=4,num_layers=7)\n",
    "lit_est_module = LitModule(est_model,tokenizer,train_dataset=train_dataset.select(range(5000)),val_dataset=val_dataset.select(range(650)),test_dataset=test_dataset.select(range(800)))\n",
    "\n",
    "early_stop_callback = EarlyStopping(\n",
    "    monitor='val_f1',  # Metric to monitor\n",
    "    min_delta=1e-3,           # Minimum change to qualify as an improvement\n",
    "    patience=3,               # Number of epochs with no improvement after which training will be stopped\n",
    "    verbose=True,             # Log information to the console\n",
    "    mode='max'                # 'max' mode means we want to maximize the monitored quantity\n",
    ")\n",
    "\n",
    "est_trainer = pl.Trainer(\n",
    "    max_epochs=6,\n",
    "    accelerator=device,\n",
    "    logger=False, # Set to True to use a logger for better tracking (e.g., TensorBoard)\n",
    "    callbacks=[early_stop_callback], # Pass the early stopping callback\n",
    "    gradient_clip_val=1.0 # Add gradient clipping\n",
    ")\n",
    "est_trainer.fit(lit_est_module)\n",
    "\n",
    "est_trainer.test(lit_est_module)"
   ]
  },
  {
   "cell_type": "code",
   "execution_count": null,
   "metadata": {
    "colab": {
     "base_uri": "https://localhost:8080/",
     "height": 739,
     "referenced_widgets": [
      "b737dacf05234f108eeed02b0949f2f0",
      "77bf1630804d4cd0b034fe1308649dec",
      "dbcde2ae32214abdb573f7d1657199f9",
      "6e6994c88f834e2d872851b62673c984",
      "446bc05eab8647958a1be2bd30a525a1",
      "5dd6c2cb456e40a987382b4c41ea3091",
      "96d9b9c7af3c47dea53eedb713b12f5d",
      "a14df6694af64623bc1589868df5153c",
      "8006e8287a8b4f03a797e544e6e18319",
      "5ae223e1c60c4c529e7955cb2af4fb19",
      "55528a82258d43479f6b33d35df1b248",
      "3446456594b3419eb664269a9b2934d0",
      "e4a1518b17434b5eb8a8abdf2f7507ed",
      "7fc63b03060c4d138a06bee96f97671f",
      "a921e27cd2964aa894c6d0c4afbb6a71",
      "075e4599635e42f5b05053161a4140b7",
      "fbfb597d6c7a409296529d2ff6e4bc8e",
      "98f39806874940e4892d1ca74b2560c4",
      "9474c6b715c4471d8dcb87d9e47ddefc",
      "110ee7ae4f854e70b7280e63dd70a99a",
      "1e7bda9bb6a941dcb6169ad01300b2c4",
      "d010909077cb41d881365565949009a0",
      "1c7e4fc498d84f9cb30903d87a4d881e",
      "394c46568bc74aba8b13ec405c70c76f",
      "8bd724ff6ed5462ab8c466885e633c85",
      "5f869a7ee8f94ed08a5eff3c876ca375",
      "ae85c6eb7fed426da93cfd109bdece8f",
      "06685128170c49d696c8d41cd61d3a0f",
      "a854611a3c52403b9923d714184c0b1b",
      "6a4fcb1a06684d018c480c7ecfc3348f",
      "5c934a49576f4f2ea71c82186883562c",
      "1b932edd40d349bb86601f843327e4da",
      "f35259b688e24e989ccb1832748cd70c",
      "f472fdd6c4cb402e96564dc16c058e9b",
      "14524ce40824484b800f2a1ba67ac792",
      "5343d493ad844d1bafdb681fc8447a70",
      "9ae4b168c38048ffb826691ee935fcc9",
      "1c1a9d2a492848b7b7505a7111b6f976",
      "81be09aa39e54f198a5a969d8a015af1",
      "0d4d27257c7b499db9769ef4d6ef32b3",
      "dfafafc124684ad5848674cff26e6f5f",
      "0622950ca6e745febfd74f5867a2f24a",
      "0cec8035b79a4b88bab74811cdf0b4ad",
      "1b2f9ac15ac346dc84166c3a91ab6c15",
      "ff174d76c7cd48f595c216199f7e2b61",
      "297b7f51946742628376ed2382d8263c",
      "7f52f6a4396a410d9f8cbc766cf477ce",
      "2e9ba7252c7c4ad3bbbbd32257e0c8a5",
      "42587082dfd54203b995ee6e34c2d406",
      "1bc711cc79f146fe99158615c55e85f2",
      "d17510cb2e0e4f37ab4d3ade4b23e934",
      "a50506a6535d4e45a92be07768b673bf",
      "0e24769380244eae86e667c6b0e9e522",
      "22620041f3d74fce9c43e2b661303691",
      "6ab33b7bc0da4a86a2f0370dd8e28cb0",
      "d8295841fdac4c27be567051424fd15b",
      "e383658e5ca04d1b89ff217252fdfa48",
      "9e40eedc1f8b4b258a6288db5a0178b7",
      "046929ca1bc54a0895a857e83dd13eb7",
      "522c3ddff2b94d1c85214f3ef90a1185",
      "a3ff9b639b9f49bd977d9bef5792f1ce",
      "25758630641649a394ad0d686c9aa882",
      "98987e5520e74754a7a780a5a8d13917",
      "00b6ad0106014139bc5accad50d67311",
      "0591b80d3d4e41408207c13154e50622",
      "e3871d2bf89c4f4082b6d0b19592b7b0",
      "d6f304f2b343479c84eef257fcb5d21e",
      "06edf58ff59041ec810534664eb66da6",
      "a14ffc194eba44c1a73d67664d1f9d99",
      "50f0de3e8c6b4c46a5b32408d2560050",
      "9288856bd29a4227a2617d2a788ddbd5",
      "b41c84911da24594a407bfbfbed8cf0f",
      "72aa069ba22e4ea3839cf2eeb9175a0e",
      "e21ed9d31c004149a787dedd31de96ba",
      "d6ad6086e0ca4fb099562dc42a15dad7",
      "532caf2db6f2417dad03c51189f2507b",
      "408bd450838e4cb290e972f9a1953afc"
     ]
    },
    "id": "WJdgKLWAJFdc",
    "outputId": "733b5e48-fe9f-4a24-f8fb-44bff3c6b218"
   },
   "outputs": [
    {
     "name": "stderr",
     "output_type": "stream",
     "text": [
      "INFO:pytorch_lightning.utilities.rank_zero:💡 Tip: For seamless cloud uploads and versioning, try installing [litmodels](https://pypi.org/project/litmodels/) to enable LitModelCheckpoint, which syncs automatically with the Lightning model registry.\n",
      "INFO:pytorch_lightning.utilities.rank_zero:GPU available: True (cuda), used: True\n",
      "INFO:pytorch_lightning.utilities.rank_zero:TPU available: False, using: 0 TPU cores\n",
      "INFO:pytorch_lightning.utilities.rank_zero:HPU available: False, using: 0 HPUs\n",
      "/usr/local/lib/python3.12/dist-packages/pytorch_lightning/callbacks/model_checkpoint.py:751: Checkpoint directory /content/checkpoints exists and is not empty.\n",
      "INFO:pytorch_lightning.accelerators.cuda:LOCAL_RANK: 0 - CUDA_VISIBLE_DEVICES: [0]\n",
      "INFO:pytorch_lightning.callbacks.model_summary:\n",
      "  | Name           | Type               | Params | Mode \n",
      "--------------------------------------------------------------\n",
      "0 | model          | Model_1            | 2.7 M  | train\n",
      "1 | loss_fn        | CrossEntropyLoss   | 0      | train\n",
      "2 | train_accuracy | MulticlassAccuracy | 0      | train\n",
      "3 | val_accuracy   | MulticlassAccuracy | 0      | train\n",
      "4 | train_f1       | MulticlassF1Score  | 0      | train\n",
      "5 | val_f1         | MulticlassF1Score  | 0      | train\n",
      "6 | test_accuracy  | MulticlassAccuracy | 0      | train\n",
      "7 | test_f1        | MulticlassF1Score  | 0      | train\n",
      "--------------------------------------------------------------\n",
      "2.7 M     Trainable params\n",
      "0         Non-trainable params\n",
      "2.7 M     Total params\n",
      "10.761    Total estimated model params size (MB)\n",
      "152       Modules in train mode\n",
      "0         Modules in eval mode\n"
     ]
    },
    {
     "data": {
      "application/vnd.jupyter.widget-view+json": {
       "model_id": "b737dacf05234f108eeed02b0949f2f0",
       "version_major": 2,
       "version_minor": 0
      },
      "text/plain": [
       "Sanity Checking: |          | 0/? [00:00<?, ?it/s]"
      ]
     },
     "metadata": {},
     "output_type": "display_data"
    },
    {
     "data": {
      "application/vnd.jupyter.widget-view+json": {
       "model_id": "3446456594b3419eb664269a9b2934d0",
       "version_major": 2,
       "version_minor": 0
      },
      "text/plain": [
       "Training: |          | 0/? [00:00<?, ?it/s]"
      ]
     },
     "metadata": {},
     "output_type": "display_data"
    },
    {
     "data": {
      "application/vnd.jupyter.widget-view+json": {
       "model_id": "1c7e4fc498d84f9cb30903d87a4d881e",
       "version_major": 2,
       "version_minor": 0
      },
      "text/plain": [
       "Validation: |          | 0/? [00:00<?, ?it/s]"
      ]
     },
     "metadata": {},
     "output_type": "display_data"
    },
    {
     "name": "stderr",
     "output_type": "stream",
     "text": [
      "INFO:pytorch_lightning.callbacks.early_stopping:Metric val_f1 improved. New best score: 0.205\n"
     ]
    },
    {
     "data": {
      "application/vnd.jupyter.widget-view+json": {
       "model_id": "f472fdd6c4cb402e96564dc16c058e9b",
       "version_major": 2,
       "version_minor": 0
      },
      "text/plain": [
       "Validation: |          | 0/? [00:00<?, ?it/s]"
      ]
     },
     "metadata": {},
     "output_type": "display_data"
    },
    {
     "data": {
      "application/vnd.jupyter.widget-view+json": {
       "model_id": "ff174d76c7cd48f595c216199f7e2b61",
       "version_major": 2,
       "version_minor": 0
      },
      "text/plain": [
       "Validation: |          | 0/? [00:00<?, ?it/s]"
      ]
     },
     "metadata": {},
     "output_type": "display_data"
    },
    {
     "data": {
      "application/vnd.jupyter.widget-view+json": {
       "model_id": "d8295841fdac4c27be567051424fd15b",
       "version_major": 2,
       "version_minor": 0
      },
      "text/plain": [
       "Validation: |          | 0/? [00:00<?, ?it/s]"
      ]
     },
     "metadata": {},
     "output_type": "display_data"
    },
    {
     "name": "stderr",
     "output_type": "stream",
     "text": [
      "INFO:pytorch_lightning.callbacks.early_stopping:Monitored metric val_f1 did not improve in the last 3 records. Best score: 0.205. Signaling Trainer to stop.\n",
      "INFO:pytorch_lightning.accelerators.cuda:LOCAL_RANK: 0 - CUDA_VISIBLE_DEVICES: [0]\n"
     ]
    },
    {
     "data": {
      "application/vnd.jupyter.widget-view+json": {
       "model_id": "d6f304f2b343479c84eef257fcb5d21e",
       "version_major": 2,
       "version_minor": 0
      },
      "text/plain": [
       "Testing: |          | 0/? [00:00<?, ?it/s]"
      ]
     },
     "metadata": {},
     "output_type": "display_data"
    },
    {
     "data": {
      "text/html": [
       "<pre style=\"white-space:pre;overflow-x:auto;line-height:normal;font-family:Menlo,'DejaVu Sans Mono',consolas,'Courier New',monospace\">┏━━━━━━━━━━━━━━━━━━━━━━━━━━━┳━━━━━━━━━━━━━━━━━━━━━━━━━━━┓\n",
       "┃<span style=\"font-weight: bold\">        Test metric        </span>┃<span style=\"font-weight: bold\">       DataLoader 0        </span>┃\n",
       "┡━━━━━━━━━━━━━━━━━━━━━━━━━━━╇━━━━━━━━━━━━━━━━━━━━━━━━━━━┩\n",
       "│<span style=\"color: #008080; text-decoration-color: #008080\">         test_acc          </span>│<span style=\"color: #800080; text-decoration-color: #800080\">    0.20749999582767487    </span>│\n",
       "│<span style=\"color: #008080; text-decoration-color: #008080\">          test_f1          </span>│<span style=\"color: #800080; text-decoration-color: #800080\">    0.20749999582767487    </span>│\n",
       "│<span style=\"color: #008080; text-decoration-color: #008080\">         test_loss         </span>│<span style=\"color: #800080; text-decoration-color: #800080\">    2.7745981216430664     </span>│\n",
       "└───────────────────────────┴───────────────────────────┘\n",
       "</pre>\n"
      ],
      "text/plain": [
       "┏━━━━━━━━━━━━━━━━━━━━━━━━━━━┳━━━━━━━━━━━━━━━━━━━━━━━━━━━┓\n",
       "┃\u001b[1m \u001b[0m\u001b[1m       Test metric       \u001b[0m\u001b[1m \u001b[0m┃\u001b[1m \u001b[0m\u001b[1m      DataLoader 0       \u001b[0m\u001b[1m \u001b[0m┃\n",
       "┡━━━━━━━━━━━━━━━━━━━━━━━━━━━╇━━━━━━━━━━━━━━━━━━━━━━━━━━━┩\n",
       "│\u001b[36m \u001b[0m\u001b[36m        test_acc         \u001b[0m\u001b[36m \u001b[0m│\u001b[35m \u001b[0m\u001b[35m   0.20749999582767487   \u001b[0m\u001b[35m \u001b[0m│\n",
       "│\u001b[36m \u001b[0m\u001b[36m         test_f1         \u001b[0m\u001b[36m \u001b[0m│\u001b[35m \u001b[0m\u001b[35m   0.20749999582767487   \u001b[0m\u001b[35m \u001b[0m│\n",
       "│\u001b[36m \u001b[0m\u001b[36m        test_loss        \u001b[0m\u001b[36m \u001b[0m│\u001b[35m \u001b[0m\u001b[35m   2.7745981216430664    \u001b[0m\u001b[35m \u001b[0m│\n",
       "└───────────────────────────┴───────────────────────────┘\n"
      ]
     },
     "metadata": {},
     "output_type": "display_data"
    },
    {
     "data": {
      "text/plain": [
       "[{'test_loss': 2.7745981216430664,\n",
       "  'test_acc': 0.20749999582767487,\n",
       "  'test_f1': 0.20749999582767487}]"
      ]
     },
     "execution_count": 20,
     "metadata": {},
     "output_type": "execute_result"
    }
   ],
   "source": [
    "# ===== Training =====\n",
    "model_1 = Model_1(num_labels=20,hidden_dim=64,num_layers=10)\n",
    "lit_module_1 = LitModule(model_1,tokenizer,train_dataset=train_dataset.select(range(5000)),val_dataset=val_dataset.select(range(650)),test_dataset=test_dataset.select(range(800)))\n",
    "\n",
    "early_stop_callback = EarlyStopping(\n",
    "    monitor='val_f1',  # Metric to monitor\n",
    "    min_delta=1e-3,           # Minimum change to qualify as an improvement\n",
    "    patience=3,               # Number of epochs with no improvement after which training will be stopped\n",
    "    verbose=True,             # Log information to the console\n",
    "    mode='max'                # 'max' mode means we want to maximize the monitored quantity\n",
    ")\n",
    "\n",
    "trainer_1 = pl.Trainer(\n",
    "    max_epochs=6,\n",
    "    accelerator=device,\n",
    "    logger=False, # Set to True to use a logger for better tracking (e.g., TensorBoard)\n",
    "    callbacks=[early_stop_callback], # Pass the early stopping callback\n",
    "    gradient_clip_val=1.0 # Add gradient clipping\n",
    ")\n",
    "trainer_1.fit(lit_module_1)\n",
    "\n",
    "trainer_1.test(lit_module_1)"
   ]
  },
  {
   "cell_type": "code",
   "execution_count": null,
   "metadata": {
    "colab": {
     "base_uri": "https://localhost:8080/",
     "height": 739,
     "referenced_widgets": [
      "4909972a86d845bdbfe27070d386c926",
      "da2905c1ed4f42edaadb00e04316216c",
      "0cb061cc7244480a9bce4c033cf9d82f",
      "7d4784bfcbbb4fcd8b1933551f507ccf",
      "05d39cf6d0654d9d8bc72183d3dbd3f2",
      "0db0a59d83bb4ae3a97acc79aa40d0e8",
      "382fbbe10aec4602983696aa2429d09e",
      "91382182e3714508a89a106a4716da9f",
      "df7acb118fb24cb2925e477781223eb6",
      "ef066853ffae43dc850e7876d92cde3a",
      "3d4caa40f55d4fbc9f78bd203ed436b3",
      "76a60962364f4e318c219923932db4a4",
      "f6d67e2ad41147af9631b4413507a438",
      "896ee4986c8c42e7919d86296c91d77e",
      "08e0cbd35f424e98be808c06055b074b",
      "acc2b5d82b94497e959867c812e43391",
      "6f220164cc324c7088f52737ed8126b3",
      "5057af547ba0421fb461e583a2d48691",
      "5529b47b85a94dc99cd52d41aa93aae8",
      "7e6a7c38944b486c9da2320367ca09e0",
      "3a3d5d160e5b45fc879cc2641eac2d9b",
      "e58a1aaa6edb4f9882dd0afab6326119",
      "0c7c2474ad2c463092af179c183b7f29",
      "0b5b8ba0ece8491497371f46d6b1590b",
      "b6af44111e734b7b96847d1b24dcaf87",
      "231a75d876c041529d4cae33d4732ed9",
      "54b0b3f7fea84ed3ba1a37fc0bb15cc0",
      "ef60d0b7f74a4af58edbae3c8a7d9331",
      "5e1b04e588ac49f3ba299deefc01a93d",
      "b8e0c36be137450fb1600d1d17048677",
      "31d265301a2c4970aa56396d99deb9ba",
      "f7c14c7673a046d9b608e36ac3372b40",
      "acb4a5cdceb041bcbf41421d67032edd",
      "f9a5b1e944c74168b4a975ab916b8361",
      "4ec1830603334866aace62fb6dfd8acb",
      "d5a02877c3444ff0ad8cbc642dd2ed57",
      "b0d2b102dc65417abdc7d3f798ecd313",
      "bb6a9a34c4e443da99106d034a3a3367",
      "9f88432124c644a5b09f98ae2c366741",
      "bbc1bb081b2c4fc3a3407f34d7031c1e",
      "5db0fc9bfc3046ed855e70a6f03eebc2",
      "f7bac1c8400946a4927725954165e240",
      "db337d45499c43a68018eb2dbdfd48cd",
      "0c86cb94c5774480abfa50a24494791e",
      "5b6d4749bc78473ba6d7381ea2b9a778",
      "a22a03a0448e452d90f7e823d666e773",
      "ca0a81e38df64bec8531fdf7d0987330",
      "a787008c1cb349b5b4f9a8d4e47e3dc4",
      "1c73ed062abb4f7da425b5b9c9c581e6",
      "220db4ca665c4573873258ca708b3245",
      "f7638bb093b24441b01490ab0619bbf0",
      "29c65cbeb73f40838186e520cf419c0e",
      "1df8e9be13b94baabbb4dbf932bec917",
      "91254a1bebf3412f925dee5e5b46208a",
      "cc0fcfdecfd94a799b17689211101db7",
      "d09604b0fa534b5aa2116d80ee6be723",
      "9830d17a6975425b9375f2892dd43984",
      "d5c39bb87ad64ba194bd9299be6d5820",
      "62ec236bccb84556898fede5025019c8",
      "4301e4de8e8d446390195bd401e9c488",
      "e07e2856d63e457a9bb86d006356d0f8",
      "3b7a23eebcd64096bf37e6eb7dc8f6ab",
      "bd4c472271294fd899b54317c4d6064a",
      "d62f7d290102456889e7002307d3dbd2",
      "397c77042a004f10917947affd13b175",
      "c81a27bd953b4bd4a6d77f42d0c03d34",
      "71d7972b4c59440498c61684e932218b",
      "b7f7a8a488ce4d0085c8ffe19ffb1e23",
      "71e38a96883b4eda84137f9ec4a29d7f",
      "474b6855a41d4df585f62b1cf7d7ce86",
      "6422e53501484fdea2a5b75ebae2c766",
      "267666e531fb43b39aa6b943c1c7f0d0",
      "d0a21d952fe145ffbbe8a9fa668c4d43",
      "dee9c521ecc34378b5ea5285f68fc742",
      "433f87c3d32f4ee5a616e23fe4578667",
      "44d3ca2abc2b4f92b1cb9c691c43dc73",
      "b24159da53e64854b7e15a8ca06a307b"
     ]
    },
    "id": "cz_wgJKHJFdd",
    "outputId": "477c676f-1c41-4657-bfd6-17e5d0899290"
   },
   "outputs": [
    {
     "name": "stderr",
     "output_type": "stream",
     "text": [
      "INFO:pytorch_lightning.utilities.rank_zero:💡 Tip: For seamless cloud uploads and versioning, try installing [litmodels](https://pypi.org/project/litmodels/) to enable LitModelCheckpoint, which syncs automatically with the Lightning model registry.\n",
      "INFO:pytorch_lightning.utilities.rank_zero:GPU available: True (cuda), used: True\n",
      "INFO:pytorch_lightning.utilities.rank_zero:TPU available: False, using: 0 TPU cores\n",
      "INFO:pytorch_lightning.utilities.rank_zero:HPU available: False, using: 0 HPUs\n",
      "/usr/local/lib/python3.12/dist-packages/pytorch_lightning/callbacks/model_checkpoint.py:751: Checkpoint directory /content/checkpoints exists and is not empty.\n",
      "INFO:pytorch_lightning.accelerators.cuda:LOCAL_RANK: 0 - CUDA_VISIBLE_DEVICES: [0]\n",
      "INFO:pytorch_lightning.callbacks.model_summary:\n",
      "  | Name           | Type               | Params | Mode \n",
      "--------------------------------------------------------------\n",
      "0 | model          | Model_2            | 3.0 M  | train\n",
      "1 | loss_fn        | CrossEntropyLoss   | 0      | train\n",
      "2 | train_accuracy | MulticlassAccuracy | 0      | train\n",
      "3 | val_accuracy   | MulticlassAccuracy | 0      | train\n",
      "4 | train_f1       | MulticlassF1Score  | 0      | train\n",
      "5 | val_f1         | MulticlassF1Score  | 0      | train\n",
      "6 | test_accuracy  | MulticlassAccuracy | 0      | train\n",
      "7 | test_f1        | MulticlassF1Score  | 0      | train\n",
      "--------------------------------------------------------------\n",
      "3.0 M     Trainable params\n",
      "0         Non-trainable params\n",
      "3.0 M     Total params\n",
      "12.153    Total estimated model params size (MB)\n",
      "112       Modules in train mode\n",
      "0         Modules in eval mode\n"
     ]
    },
    {
     "data": {
      "application/vnd.jupyter.widget-view+json": {
       "model_id": "4909972a86d845bdbfe27070d386c926",
       "version_major": 2,
       "version_minor": 0
      },
      "text/plain": [
       "Sanity Checking: |          | 0/? [00:00<?, ?it/s]"
      ]
     },
     "metadata": {},
     "output_type": "display_data"
    },
    {
     "data": {
      "application/vnd.jupyter.widget-view+json": {
       "model_id": "76a60962364f4e318c219923932db4a4",
       "version_major": 2,
       "version_minor": 0
      },
      "text/plain": [
       "Training: |          | 0/? [00:00<?, ?it/s]"
      ]
     },
     "metadata": {},
     "output_type": "display_data"
    },
    {
     "data": {
      "application/vnd.jupyter.widget-view+json": {
       "model_id": "0c7c2474ad2c463092af179c183b7f29",
       "version_major": 2,
       "version_minor": 0
      },
      "text/plain": [
       "Validation: |          | 0/? [00:00<?, ?it/s]"
      ]
     },
     "metadata": {},
     "output_type": "display_data"
    },
    {
     "name": "stderr",
     "output_type": "stream",
     "text": [
      "INFO:pytorch_lightning.callbacks.early_stopping:Metric val_f1 improved. New best score: 0.205\n"
     ]
    },
    {
     "data": {
      "application/vnd.jupyter.widget-view+json": {
       "model_id": "f9a5b1e944c74168b4a975ab916b8361",
       "version_major": 2,
       "version_minor": 0
      },
      "text/plain": [
       "Validation: |          | 0/? [00:00<?, ?it/s]"
      ]
     },
     "metadata": {},
     "output_type": "display_data"
    },
    {
     "data": {
      "application/vnd.jupyter.widget-view+json": {
       "model_id": "5b6d4749bc78473ba6d7381ea2b9a778",
       "version_major": 2,
       "version_minor": 0
      },
      "text/plain": [
       "Validation: |          | 0/? [00:00<?, ?it/s]"
      ]
     },
     "metadata": {},
     "output_type": "display_data"
    },
    {
     "data": {
      "application/vnd.jupyter.widget-view+json": {
       "model_id": "d09604b0fa534b5aa2116d80ee6be723",
       "version_major": 2,
       "version_minor": 0
      },
      "text/plain": [
       "Validation: |          | 0/? [00:00<?, ?it/s]"
      ]
     },
     "metadata": {},
     "output_type": "display_data"
    },
    {
     "name": "stderr",
     "output_type": "stream",
     "text": [
      "INFO:pytorch_lightning.callbacks.early_stopping:Monitored metric val_f1 did not improve in the last 3 records. Best score: 0.205. Signaling Trainer to stop.\n",
      "INFO:pytorch_lightning.accelerators.cuda:LOCAL_RANK: 0 - CUDA_VISIBLE_DEVICES: [0]\n"
     ]
    },
    {
     "data": {
      "application/vnd.jupyter.widget-view+json": {
       "model_id": "71d7972b4c59440498c61684e932218b",
       "version_major": 2,
       "version_minor": 0
      },
      "text/plain": [
       "Testing: |          | 0/? [00:00<?, ?it/s]"
      ]
     },
     "metadata": {},
     "output_type": "display_data"
    },
    {
     "data": {
      "text/html": [
       "<pre style=\"white-space:pre;overflow-x:auto;line-height:normal;font-family:Menlo,'DejaVu Sans Mono',consolas,'Courier New',monospace\">┏━━━━━━━━━━━━━━━━━━━━━━━━━━━┳━━━━━━━━━━━━━━━━━━━━━━━━━━━┓\n",
       "┃<span style=\"font-weight: bold\">        Test metric        </span>┃<span style=\"font-weight: bold\">       DataLoader 0        </span>┃\n",
       "┡━━━━━━━━━━━━━━━━━━━━━━━━━━━╇━━━━━━━━━━━━━━━━━━━━━━━━━━━┩\n",
       "│<span style=\"color: #008080; text-decoration-color: #008080\">         test_acc          </span>│<span style=\"color: #800080; text-decoration-color: #800080\">    0.20749999582767487    </span>│\n",
       "│<span style=\"color: #008080; text-decoration-color: #008080\">          test_f1          </span>│<span style=\"color: #800080; text-decoration-color: #800080\">    0.20749999582767487    </span>│\n",
       "│<span style=\"color: #008080; text-decoration-color: #008080\">         test_loss         </span>│<span style=\"color: #800080; text-decoration-color: #800080\">     2.742191791534424     </span>│\n",
       "└───────────────────────────┴───────────────────────────┘\n",
       "</pre>\n"
      ],
      "text/plain": [
       "┏━━━━━━━━━━━━━━━━━━━━━━━━━━━┳━━━━━━━━━━━━━━━━━━━━━━━━━━━┓\n",
       "┃\u001b[1m \u001b[0m\u001b[1m       Test metric       \u001b[0m\u001b[1m \u001b[0m┃\u001b[1m \u001b[0m\u001b[1m      DataLoader 0       \u001b[0m\u001b[1m \u001b[0m┃\n",
       "┡━━━━━━━━━━━━━━━━━━━━━━━━━━━╇━━━━━━━━━━━━━━━━━━━━━━━━━━━┩\n",
       "│\u001b[36m \u001b[0m\u001b[36m        test_acc         \u001b[0m\u001b[36m \u001b[0m│\u001b[35m \u001b[0m\u001b[35m   0.20749999582767487   \u001b[0m\u001b[35m \u001b[0m│\n",
       "│\u001b[36m \u001b[0m\u001b[36m         test_f1         \u001b[0m\u001b[36m \u001b[0m│\u001b[35m \u001b[0m\u001b[35m   0.20749999582767487   \u001b[0m\u001b[35m \u001b[0m│\n",
       "│\u001b[36m \u001b[0m\u001b[36m        test_loss        \u001b[0m\u001b[36m \u001b[0m│\u001b[35m \u001b[0m\u001b[35m    2.742191791534424    \u001b[0m\u001b[35m \u001b[0m│\n",
       "└───────────────────────────┴───────────────────────────┘\n"
      ]
     },
     "metadata": {},
     "output_type": "display_data"
    },
    {
     "data": {
      "text/plain": [
       "[{'test_loss': 2.742191791534424,\n",
       "  'test_acc': 0.20749999582767487,\n",
       "  'test_f1': 0.20749999582767487}]"
      ]
     },
     "execution_count": 23,
     "metadata": {},
     "output_type": "execute_result"
    }
   ],
   "source": [
    "# ===== Training =====\n",
    "model_2 = Model_2(num_labels=20,hidden_dim=64,num_layers=7)\n",
    "lit_module_2 = LitModule(model_2,tokenizer,train_dataset=train_dataset.select(range(5000)),val_dataset=val_dataset.select(range(650)),test_dataset=test_dataset.select(range(800)))\n",
    "\n",
    "early_stop_callback = EarlyStopping(\n",
    "    monitor='val_f1',  # Metric to monitor\n",
    "    min_delta=1e-4,           # Minimum change to qualify as an improvement\n",
    "    patience=3,               # Number of epochs with no improvement after which training will be stopped\n",
    "    verbose=True,             # Log information to the console\n",
    "    mode='max'                # 'max' mode means we want to maximize the monitored quantity\n",
    ")\n",
    "\n",
    "trainer_2 = pl.Trainer(\n",
    "    max_epochs=6,\n",
    "    accelerator=device,\n",
    "    logger=False, # Set to True to use a logger for better tracking (e.g., TensorBoard)\n",
    "    callbacks=[early_stop_callback], # Pass the early stopping callback\n",
    "    gradient_clip_val=1.0 # Add gradient clipping\n",
    ")\n",
    "trainer_2.fit(lit_module_2)\n",
    "\n",
    "trainer_2.test(lit_module_2)"
   ]
  },
  {
   "cell_type": "code",
   "execution_count": null,
   "metadata": {
    "colab": {
     "base_uri": "https://localhost:8080/",
     "height": 721,
     "referenced_widgets": [
      "1953f0413c22418cbfce610467fa44d6",
      "b68757ed55254e419ee1c032c994d182",
      "17e1267c67a843bf99b09076cd762656",
      "ab21ee96b82647a186bde5836a6338c2",
      "a954a1af393145058dfd9f507c64dac4",
      "4653d295331a461787e3bb29d72163a8",
      "e60990b7f7e742a3885b045b31097132",
      "d97882930a5e4d2da7be06cf91e96499",
      "1ef92a10eba44f3b8d81299ec0055152",
      "cc53296885ad4681b29933e58b2fb37c",
      "9eedd04ff56a4fcd85d304976c49ae41",
      "368a640ec5854a0bbdb7471256e76551",
      "9c4aaa6f446d40728e316c89d3b1dae9",
      "1bda032473954fcdbc7de79182301555",
      "a83b95d1b13c457a87b73fd6f574122c",
      "972cf8a7da214cf58a2207411eeb49b8",
      "79374ca9f7104c8392f741ec46da2f5a",
      "c32c9d5987954f00ad358e83d60cb0f9",
      "a064bf9ac325400e8dc7b75b7a5d57fc",
      "77ac9ec0135242c6ae8c1ddc54839159",
      "8d047797dbbc4b29802cbe0fb4f36e53",
      "d084296ab50b4ff8afdefd85f4ca3b25",
      "9af58b4343fb471ab3d442c34517f680",
      "83a111579a034bb193c289245dd3cf91",
      "87c605321a4840129e79275bd8dbbc12",
      "d41a92a5f8da45d9b612be767a14715e",
      "019c3086db6c4cbb9d94052527ea86d8",
      "b3514f8c32694d98aca9fd3e13580296",
      "ee92e7abb1d94cd4ba0f0cd382960111",
      "e742300864214b55b9f32ff6feb2c828",
      "b3cca5ff6e164a17aebfeadbae988d78",
      "57982510970a4a29a01940306f68b9f9",
      "53aec11c64b04d94a4fe4710babce87e",
      "cf6ab1c6d3a34338a000102d4997c5d4",
      "5509d65c1ec842eeafce2148aa41f422",
      "b805dda97a8344538fb447fce8aeb562",
      "14556be47247437db4f5e1cc77a2b52a",
      "f383ece8e02e44ef958633c79d9de8e8",
      "3b73c25b5b9f4cd891592c28d460c3cd",
      "288c690b41d7405a8010c0725f4814fc",
      "a21b2071dc07485083d1bdc8341e8245",
      "722dbba6ed53485e803109c4058edfb1",
      "f799b5cb12904b6098b3846653597d5c",
      "861499b896cd4d6cbf559746a6196e16",
      "4398e71ba044485295efd970d58c432f",
      "0ede8a6203db4427898bb187bcb06213",
      "542fb61266dc4c54a49978462627e6e0",
      "336fa3115d914edeaca46f64ccdf586e",
      "ea816c085d4949239695bededfeb8229",
      "e232cf83ed16429ab70b6276ba9ed384",
      "5836314f9e864faeb5768500f71a9e9c",
      "2e6a711c90394006b53d6e3e33ae921e",
      "f93d0651e9e64c41a434c8d30627b88c",
      "62c189f921154faaac7f5eb271f4ae95",
      "572b194b36ab46d2aac4393696e33172",
      "fdefe7474c8a41e9ad4143183da8b04d",
      "cb61e67aea6449f68a8dafa8602bf9c2",
      "6e4597716b594a05a16174d75eb8deb1",
      "39de825e4fb64fb1b7dfb30c75baa241",
      "272c97159edb49a69cc9802a18ceacc2",
      "41e2eb70281d4aa8a9bae8abce921e0a",
      "94b15141e4bf4c1e9a06577524e42913",
      "d1f615314245444e9cc8541b85696671",
      "e4ea21367eef4525b1c19ac8f1e273cc",
      "7ca9f679e81e41d6980fefde9846b9c9",
      "dc490da04c8241b0b8d83604d6131ee3",
      "e059fb74304148789d1c445ebe59446d",
      "7b79f1a3d9ba4877946d103ebe2e0949",
      "7b2863cec126419aa0899b1c3c36bf0a",
      "a87fd7640b2a4b3d820cacd1e9b2c7c7",
      "7f2bae285f4f4c27a6a2243bd21af425",
      "4635a42e9f4c4e4a9445ba225617b8bd",
      "b9a93107466e46faaf3fbb0665d00af3",
      "b8ceb83914d44f13af9e98994695519f",
      "02e16ad02d164efd8bc7dd35f9991129",
      "b39d10581e9a484dafa0beb021c420c5",
      "c1027ce95fe94153b700db703e14e45a"
     ]
    },
    "id": "6Rf7VJWAJFdd",
    "outputId": "d7325620-894d-4bb7-b97c-1cbe1ff2391b"
   },
   "outputs": [
    {
     "name": "stderr",
     "output_type": "stream",
     "text": [
      "INFO:pytorch_lightning.utilities.rank_zero:💡 Tip: For seamless cloud uploads and versioning, try installing [litmodels](https://pypi.org/project/litmodels/) to enable LitModelCheckpoint, which syncs automatically with the Lightning model registry.\n",
      "INFO:pytorch_lightning.utilities.rank_zero:GPU available: True (cuda), used: True\n",
      "INFO:pytorch_lightning.utilities.rank_zero:TPU available: False, using: 0 TPU cores\n",
      "INFO:pytorch_lightning.utilities.rank_zero:HPU available: False, using: 0 HPUs\n",
      "INFO:pytorch_lightning.accelerators.cuda:LOCAL_RANK: 0 - CUDA_VISIBLE_DEVICES: [0]\n",
      "INFO:pytorch_lightning.callbacks.model_summary:\n",
      "  | Name           | Type               | Params | Mode \n",
      "--------------------------------------------------------------\n",
      "0 | model          | Model_3            | 3.1 M  | train\n",
      "1 | loss_fn        | CrossEntropyLoss   | 0      | train\n",
      "2 | train_accuracy | MulticlassAccuracy | 0      | train\n",
      "3 | val_accuracy   | MulticlassAccuracy | 0      | train\n",
      "4 | train_f1       | MulticlassF1Score  | 0      | train\n",
      "5 | val_f1         | MulticlassF1Score  | 0      | train\n",
      "6 | test_accuracy  | MulticlassAccuracy | 0      | train\n",
      "7 | test_f1        | MulticlassF1Score  | 0      | train\n",
      "--------------------------------------------------------------\n",
      "3.1 M     Trainable params\n",
      "0         Non-trainable params\n",
      "3.1 M     Total params\n",
      "12.345    Total estimated model params size (MB)\n",
      "153       Modules in train mode\n",
      "0         Modules in eval mode\n"
     ]
    },
    {
     "data": {
      "application/vnd.jupyter.widget-view+json": {
       "model_id": "1953f0413c22418cbfce610467fa44d6",
       "version_major": 2,
       "version_minor": 0
      },
      "text/plain": [
       "Sanity Checking: |          | 0/? [00:00<?, ?it/s]"
      ]
     },
     "metadata": {},
     "output_type": "display_data"
    },
    {
     "data": {
      "application/vnd.jupyter.widget-view+json": {
       "model_id": "368a640ec5854a0bbdb7471256e76551",
       "version_major": 2,
       "version_minor": 0
      },
      "text/plain": [
       "Training: |          | 0/? [00:00<?, ?it/s]"
      ]
     },
     "metadata": {},
     "output_type": "display_data"
    },
    {
     "data": {
      "application/vnd.jupyter.widget-view+json": {
       "model_id": "9af58b4343fb471ab3d442c34517f680",
       "version_major": 2,
       "version_minor": 0
      },
      "text/plain": [
       "Validation: |          | 0/? [00:00<?, ?it/s]"
      ]
     },
     "metadata": {},
     "output_type": "display_data"
    },
    {
     "name": "stderr",
     "output_type": "stream",
     "text": [
      "INFO:pytorch_lightning.callbacks.early_stopping:Metric val_f1 improved. New best score: 0.205\n"
     ]
    },
    {
     "data": {
      "application/vnd.jupyter.widget-view+json": {
       "model_id": "cf6ab1c6d3a34338a000102d4997c5d4",
       "version_major": 2,
       "version_minor": 0
      },
      "text/plain": [
       "Validation: |          | 0/? [00:00<?, ?it/s]"
      ]
     },
     "metadata": {},
     "output_type": "display_data"
    },
    {
     "data": {
      "application/vnd.jupyter.widget-view+json": {
       "model_id": "4398e71ba044485295efd970d58c432f",
       "version_major": 2,
       "version_minor": 0
      },
      "text/plain": [
       "Validation: |          | 0/? [00:00<?, ?it/s]"
      ]
     },
     "metadata": {},
     "output_type": "display_data"
    },
    {
     "data": {
      "application/vnd.jupyter.widget-view+json": {
       "model_id": "fdefe7474c8a41e9ad4143183da8b04d",
       "version_major": 2,
       "version_minor": 0
      },
      "text/plain": [
       "Validation: |          | 0/? [00:00<?, ?it/s]"
      ]
     },
     "metadata": {},
     "output_type": "display_data"
    },
    {
     "name": "stderr",
     "output_type": "stream",
     "text": [
      "INFO:pytorch_lightning.callbacks.early_stopping:Monitored metric val_f1 did not improve in the last 3 records. Best score: 0.205. Signaling Trainer to stop.\n",
      "INFO:pytorch_lightning.accelerators.cuda:LOCAL_RANK: 0 - CUDA_VISIBLE_DEVICES: [0]\n"
     ]
    },
    {
     "data": {
      "application/vnd.jupyter.widget-view+json": {
       "model_id": "e059fb74304148789d1c445ebe59446d",
       "version_major": 2,
       "version_minor": 0
      },
      "text/plain": [
       "Testing: |          | 0/? [00:00<?, ?it/s]"
      ]
     },
     "metadata": {},
     "output_type": "display_data"
    },
    {
     "data": {
      "text/html": [
       "<pre style=\"white-space:pre;overflow-x:auto;line-height:normal;font-family:Menlo,'DejaVu Sans Mono',consolas,'Courier New',monospace\">┏━━━━━━━━━━━━━━━━━━━━━━━━━━━┳━━━━━━━━━━━━━━━━━━━━━━━━━━━┓\n",
       "┃<span style=\"font-weight: bold\">        Test metric        </span>┃<span style=\"font-weight: bold\">       DataLoader 0        </span>┃\n",
       "┡━━━━━━━━━━━━━━━━━━━━━━━━━━━╇━━━━━━━━━━━━━━━━━━━━━━━━━━━┩\n",
       "│<span style=\"color: #008080; text-decoration-color: #008080\">         test_acc          </span>│<span style=\"color: #800080; text-decoration-color: #800080\">    0.20749999582767487    </span>│\n",
       "│<span style=\"color: #008080; text-decoration-color: #008080\">          test_f1          </span>│<span style=\"color: #800080; text-decoration-color: #800080\">    0.20749999582767487    </span>│\n",
       "│<span style=\"color: #008080; text-decoration-color: #008080\">         test_loss         </span>│<span style=\"color: #800080; text-decoration-color: #800080\">      2.7850182056427      </span>│\n",
       "└───────────────────────────┴───────────────────────────┘\n",
       "</pre>\n"
      ],
      "text/plain": [
       "┏━━━━━━━━━━━━━━━━━━━━━━━━━━━┳━━━━━━━━━━━━━━━━━━━━━━━━━━━┓\n",
       "┃\u001b[1m \u001b[0m\u001b[1m       Test metric       \u001b[0m\u001b[1m \u001b[0m┃\u001b[1m \u001b[0m\u001b[1m      DataLoader 0       \u001b[0m\u001b[1m \u001b[0m┃\n",
       "┡━━━━━━━━━━━━━━━━━━━━━━━━━━━╇━━━━━━━━━━━━━━━━━━━━━━━━━━━┩\n",
       "│\u001b[36m \u001b[0m\u001b[36m        test_acc         \u001b[0m\u001b[36m \u001b[0m│\u001b[35m \u001b[0m\u001b[35m   0.20749999582767487   \u001b[0m\u001b[35m \u001b[0m│\n",
       "│\u001b[36m \u001b[0m\u001b[36m         test_f1         \u001b[0m\u001b[36m \u001b[0m│\u001b[35m \u001b[0m\u001b[35m   0.20749999582767487   \u001b[0m\u001b[35m \u001b[0m│\n",
       "│\u001b[36m \u001b[0m\u001b[36m        test_loss        \u001b[0m\u001b[36m \u001b[0m│\u001b[35m \u001b[0m\u001b[35m     2.7850182056427     \u001b[0m\u001b[35m \u001b[0m│\n",
       "└───────────────────────────┴───────────────────────────┘\n"
      ]
     },
     "metadata": {},
     "output_type": "display_data"
    },
    {
     "data": {
      "text/plain": [
       "[{'test_loss': 2.7850182056427,\n",
       "  'test_acc': 0.20749999582767487,\n",
       "  'test_f1': 0.20749999582767487}]"
      ]
     },
     "execution_count": 22,
     "metadata": {},
     "output_type": "execute_result"
    }
   ],
   "source": [
    "# ===== Training =====\n",
    "model_3 = Model_3(num_labels=20,hidden_dim=64,num_layers=5)\n",
    "lit_module_3 = LitModule(model_3,tokenizer,train_dataset=train_dataset.select(range(5000)),val_dataset=val_dataset.select(range(650)),test_dataset=test_dataset.select(range(800)))\n",
    "\n",
    "early_stop_callback = EarlyStopping(\n",
    "    monitor='val_f1',  # Metric to monitor\n",
    "    min_delta=1e-2,           # Minimum change to qualify as an improvement\n",
    "    patience=3,               # Number of epochs with no improvement after which training will be stopped\n",
    "    verbose=True,             # Log information to the console\n",
    "    mode='max'                # 'max' mode means we want to maximize the monitored quantity\n",
    ")\n",
    "\n",
    "trainer_3 = pl.Trainer(\n",
    "    max_epochs=6,\n",
    "    accelerator=device,\n",
    "    logger=False, # Set to True to use a logger for better tracking (e.g., TensorBoard)\n",
    "    callbacks=[early_stop_callback], # Pass the early stopping callback\n",
    "    gradient_clip_val=1.0 # Add gradient clipping\n",
    ")\n",
    "trainer_3.fit(lit_module_3)\n",
    "\n",
    "trainer_3.test(lit_module_3)"
   ]
  },
  {
   "cell_type": "markdown",
   "metadata": {
    "id": "MUOOz8LCtNe9"
   },
   "source": [
    "##### Lab_5"
   ]
  },
  {
   "cell_type": "code",
   "execution_count": null,
   "metadata": {
    "colab": {
     "base_uri": "https://localhost:8080/",
     "height": 1000,
     "referenced_widgets": [
      "8b5a6a379e5b43208672eb6c04889c17",
      "ec4138cf962b447b9e3247f1c8ddabac",
      "4e73cff35bc6460bb15d35efecb808d1",
      "2dde73f655f641b89fc1bda9352ed189",
      "f230587347dd4ebf894dd1c32c52d420",
      "ccc9d1da91284c8199d5cef7042a8063",
      "def78a622a6b403cb719053bf169e6fe",
      "0e9111711a564ac381d012dd02edd4b4",
      "f25942b15cfd474c824db355ff914670",
      "34c90f9eb418498eb7457412381314f9",
      "4301d83ee566443baa9913e06d04fd57",
      "b7fb2df18e844d95815bd4ce9693b6a1",
      "0d9223c7dc704008a79b180e4fabf3d7",
      "047e157bc6ac470ab02aab23ea965ec1",
      "df46f010356c41d485ba22e423cc19b2",
      "be002ef0bcd841bf9aa15f15b36af747",
      "e1be964c46d744929faf5447ee52c91d",
      "044e593cbb184c2aa09002b35b9593aa",
      "e0c6149e208543daade525b15c00b563",
      "3d759e0d29f64df38a9a4bc2bc6fe752",
      "1fcac751caf24f9191a2d52c0e99a314",
      "95f5420cefb945468155bd217db9518b",
      "66a0a2d4b08f4b2e9cbc20b7b901631e",
      "01959691d348468d9ca572918deb34df",
      "a4bae4683dcb42eeb3799bdb9ea2b5cc",
      "48ef8b991d3b4e9c9294fe72452ca13d",
      "9bb3f0b96b8c4f2aa0df214ae9c552f5",
      "13af7c43edbe4ef19982face8a834c17",
      "4fcf18ad869b45fcb7ba5faf8650c6bb",
      "1c3b491af5ee4457a05d2aebaaafb0f0",
      "35a235cd5c39401b8cead017c2eed006",
      "9bd00715883345218e5de6aa9034b1c0",
      "27cb9796757a46b3b9c5b7fbc01b5797",
      "433adc93b4e94db488d2850226a21d40",
      "228e5212c93b4133a2e14c37dddc35a3",
      "d26fa55ea11546e98897830129381f72",
      "755f94ee077c428894867549888ce865",
      "8531bdd0ea9946dca988c40e032f968d",
      "04966242101b4de5940c6326827871f1",
      "117f797a33a64673b0532db58a9760f2",
      "ffd7d0b262bc43f18136dcd6bc94c39a",
      "00b5e5ccd0074198adf1a3b005b7da40",
      "f3d9bc44725349c1839f0667a7790f04",
      "4b7145f583784b3eadf629873d5f1e0b",
      "2a59444bd2fc4000a65a887116271217",
      "20b1c41e45be41458598ecf09d491cfa",
      "e66cafbcaeb649c68cef1658d7a7e884",
      "ed6eb66d5320419586790ee1ee957403",
      "0a543c822e8145379010ad48bb52e014",
      "5112be2dcb0648e7babf5ad55449b555",
      "803d5649ff3b4e15adac3e6f891fd71f",
      "576800bdd00241eb956e84efec098308",
      "47aed8e9b3774c6887101663be21deeb",
      "656d1c89e9e74f42b9075cf6a0a5d142",
      "33cd350f5e024552927758d9dc8e6762",
      "85a15e5e1687439a9d8350b4db2c358b",
      "58d84e331df04cccbf4829bd2d243383",
      "88bc38b9127f4ea3997f922fcab76d96",
      "64b9f5b6426744619d24121075dfb2bc",
      "d0cda030056645e9a51f8f2c9ee288cf",
      "37a952a8a24e478fad74a6e45dc8e3fb",
      "26a51852d6584307bbf1b9a29b772582",
      "4182d7a2979046a5bb31bcbb64803586",
      "5f5498da282943519ffe437648636630",
      "2fb8a7bd264040558e46c47a3073b7e4",
      "1fcfef2ec7034f60bd74b9f2eaf2615e",
      "467135de1a1f4ebd996ac2c3a1f8ec45",
      "f2a0cd3fc56a4dc2a3522f57754c9a25",
      "ff103e983af2470688aad4ddd5256bbb",
      "d3639da2a9a04b6a8efbf2ce065c6f0a",
      "9bfc339401c54700aa5c063193765718",
      "2eda6aa705184f2a8b7d3d340988e098",
      "c06a60e9a8b648cdbab957e0efc939f5",
      "c02d2d7e8c76477499bef0531c8f1e10",
      "73c5adb2f8e04103953c26ba2bcfcdf0",
      "194dcb33464b493a9341f650e995b213",
      "ebac444fc4fa4ada9761e18290e572b7",
      "495917cce84c497f80ecf2bef831cfc2",
      "3450b2bde0e94d8ba5a803ed26c681b2",
      "62baf826ae0044429b8179b50b6f0c7a",
      "3742b27391194cc18b60647e31e7182f",
      "5b5f3a102f2e42a2b5e5cfe6c7e0dc01",
      "1c5eb51f44b84170ace780dbae69fd8c",
      "dd07c87d9cd447868d89ebdf5c4f2460",
      "5e430e27c1fc4be8a918b6d70481ea92",
      "cad0e6a604b14a329796780213e69832",
      "c5f8ab7065d345c582f77cecdbe19d1b",
      "1668bb88c4094e189d20375e24deb71a",
      "7c3411486f3f43d5ad739057a506fe38",
      "3a75670b45b14036b33c8ab13d26b854",
      "59f699aa3d304f289056bbff126e8fd0",
      "a5d88a22df98415e9a71b8a06d42fde4",
      "61d75b58bc2946ce942382eafdec8a69",
      "cb66636d995544d583a7deb6707a4268",
      "94bfb4cf9ba64d36b83115dd5bfb09ed",
      "42d99ad1f78a4dad95dc11d09da5b2f7",
      "2a04e936a45546389035e588cbc17ad3",
      "fb04f41790064e82a732e56ae7bd74d7",
      "2acb5ca4096e40b3bb47564612138f7d",
      "5335177ee50d44a5b400daf373ca0571",
      "a74dbe4bd13c475fbfdc7d68ba695b82",
      "f16ba3c15d64436cabb6e5ee7f8f5912",
      "532159e0d7c944d5bdbb0988d9baccb4",
      "64845aeef42d4d1ba6dbce78007f2eee",
      "69f053df98944fdbab8c2388fc14cf15",
      "9a33218415c343a6823a8ea38b389b7a",
      "b809bc32ba7a4aa897ec9d39de84bdda",
      "4e3b43fa7fa64a94bb08451d628105bf",
      "ce158c8c8dee4e988b5902eb9973343e",
      "bdd017532c0343aebe7f6504d89b41a2",
      "8df39e42c9ba46a78fc749a6c456f808",
      "1ac68267f794492ea15e87337f96be20",
      "7590b71ab87d4e4481aef6842968e45c",
      "b5c50daa44ac4f04896adb799390f307",
      "29837dc2277948ca9a7eed58b650aa9e",
      "3703d1fc22a945f99a22a8de2d3f8abe",
      "ba4a8a02324242f59ee8c0b4d86bfd84",
      "3dfb2b5384244b3aaeef7365e392a8a8",
      "751be9d161ae47ebb9a92290b582a9d0",
      "e5951fe492704e6ba92a171417101a77",
      "724f01a784ef44aaa2fdbe47c1ad3157",
      "dce3e18594574d56b32d796e9a52249a",
      "f4779b91dc1e4d04932ce37a489e3726",
      "cef003daf96b4aaeb7da65e536d22021",
      "a320313a5d9d42e4a12b4a4c82ea9bb4",
      "a58816b297524cdb9792e6c69f36c147",
      "ac9915b7aca24f9c9aeb8030fa72b4f4",
      "28c4e9b6bacd4b9c840c3e35dd411f98",
      "7eb60734f46944f29d8ff88aaf643389",
      "38b7f2bca2484c37ae65e6760b839d96",
      "b26ae79ca8434adab1c7dd879f2a0559",
      "3ce3891586a34b15bd887d3ee9731fe2",
      "40ac652e8ba74aee8a7c650e83de32ca",
      "39b8fd2aa797413fbadef0619fc35612",
      "a81d989e5b84430ab393d59213ec6cb1",
      "4bb72b95e6a641ba8c6551291ab418e8",
      "f2fd4c7f9dff4f4b87f28210744f2a39",
      "a9edbbcdb1f84d0fa7375a96d4100fc9",
      "42a55558a95c4004b4ec78ef2ae2afcf",
      "ba3faa8b93d046e5adc7209e252792a3",
      "b42a4282603346a496d426643e6adeae",
      "fb348b5ede014db6a2a5e1ea85f6cd92",
      "a07a5b8bcc334c1dacb620a36ec6dc3d",
      "bf9c232e5cf745089dec2fc9a5394969",
      "d46e6bc2ec944ae088eb80ba638ba7fc",
      "84bce4d7167c4a5a96363e47bf07b0bf",
      "d79e44210b9e41af9c38f7b06f2a46d7",
      "8db568659c5d41b3bac4fa34a29f1983",
      "fd8d6e785b674ef386873f5c428145f9",
      "bfbe58ecb84946bd95baa21a3840bb2f",
      "6bda263a99fe4620b08b395d5b1b266e",
      "ed541007570846618b87d32482d1efa7",
      "08af0430415d410e8a0fcb83b4b97e62",
      "177c091c4bd74067a1ffb329691c7924",
      "fc4542bdd72e4c7eb92bfbf2e2bb03dc",
      "75c5a39d033e4ca3bcef66baa75ce2db",
      "8f46594bcd0146d8910e511b0f5a2843",
      "0402bd29e46648cd976d3d6e38effee4",
      "bdef55ed53c7489f8b77403ce97c1c74",
      "e60d76a6feee43b8863ce20c231fa200",
      "d6a915910fef48c08b73c54a8cc8c89a",
      "793c9682f84e48ddad1c010c34262810",
      "9a2c82abdf33451f823bb0a1b85dcbdb",
      "0d74ae0c971e4060ab534635c243c133",
      "293c1b931c4042f0bf6dc091a0ec82aa",
      "00bbbacdfb894a5680cf91845d70c245",
      "abe4e26a350440bd8c128ece2bb2d48f",
      "7507fb85278f47cbbc3cf5df0f5532bd",
      "3f85a0212226460b8d74ee7d5b735400",
      "76c54eeb69de4b3fade7e8ea4613ed87",
      "a5cd5e485d974ea8af4eac269277c1b9",
      "fced660d7f7943858116f37a75b00f05",
      "c452cfdf883944858c1b445f8602027b",
      "948a79905cec4004bf8ed38cee486c22",
      "c9609ba049ea46748837e313663e82f0",
      "40605e43a12042808173247c5eb33995",
      "1299e5aa57fc4f37bf0fc9a8b0e9f5be",
      "e0c7b3b30e2c4a3ca718074268700ea5",
      "a98c5ed0c9ad4dfeb3b646d37a2d72a2",
      "2edf206491ca4f45b1621f2aaccae53b",
      "edbbda1cf01c47e5baeb72c3f718dad4",
      "a2105d38a34c4f6998a7c7bfc33c4b18",
      "6188e393e0bc49c1a77f4f27ac47491e",
      "188896ef79e749a7b84097c068a221cf",
      "6da2e2dbe1fc41228f1c9df7658d9c22",
      "b54bd668390942aa91decd32342baf6f",
      "23922975b0b84a54bbf78bb0bb691ccc",
      "73ecbe9ecc014189872a17085196d2d2",
      "24c1c12c9b214d5ab50985bda5367920",
      "ba487df6433d476aa7989935365543bf",
      "c0a5b38916734a84a94b68a53b10e13e",
      "b8b1394a301e4ce7a8e083d4775d71d3",
      "abc9dd37d6c84b338500298bbfe8fa5b",
      "9eb04e2e8be04472afe3e62d56a8943d",
      "b374ceca24514ef6b880672eeb36093d",
      "00ea496608f74159a42cf87f01667e98",
      "a90a8f4de2d5418bb57f3e058c59cd1e",
      "93e825eb8ca548169e50eec9d9f9a466",
      "228101efb7ca4bc6abf90739a695898e",
      "f834dfd51b8b475681c5c2d523833942",
      "a8b9eb0e5fbb490ca6dce9be61b95b88",
      "0dcf71f9676c4a85936f8a5331e7443a",
      "4caf5417666e4c0595351527822ae047",
      "923b15e37245418eb813d2e0a27a4dd3",
      "a86b72e0f92f45d8b5c2511c577b5139",
      "f75e24ae845e499a97f1d3b1dc1238b4",
      "9ad9464c5bc14fcf98b8eb8dba91c7fa",
      "badfdc32b96f4ee3947b964ccd863851",
      "ba74a0081f634bc48a6b33784dea5534",
      "7628365842694fb3823e655169784696",
      "afe5c291eed844daa6a9a01545b4129a",
      "58c69b6247674de2b5f999ceaa76d2ed",
      "90397046ebbd45b4aee626a093422cc5",
      "44acdd46d53945ea8ac1ca185360b8fa",
      "993858f90cc5486e963868c9efc4adaf",
      "10f4a0d362a540b39833feb73477f737",
      "9ec62f07341b4ceea91ce4a19b94d419",
      "8b69397de7634b6b907a26ae1cfac503",
      "26edc812d5d44af98d3c93ff38d0efc7",
      "820ce40979dd4e23a4dbe7a52ee375f7",
      "db3f750359544339b7af06bd24fa0f9d",
      "1495833e9446481d948bfcd996a76e14",
      "1a44aea5c99548edb4da7ed6f489df29",
      "7217a29c35674943bffe07a6bc389578",
      "ec6e526ca0494725a97557a6bfd93564",
      "1d0bf3ce0e8c4d0f9efe98a8b2fcf73c",
      "b3eba9ec745a47e08b81e883b65625c2",
      "76c3db1e5ff3494bb3b983b95afe9848",
      "87a33928babc4ed9b5bde70e2aa2e7b5",
      "45ec30c4d32b41e58263b49babcb4862",
      "21ca7a1226aa4c06ab1cf0e8bc5c4a2f",
      "47cbf3457ce542eba695cb5a809688c9",
      "4e80e6ae6a584140872c75238578eb97"
     ]
    },
    "id": "vnmPKc1CtNe-",
    "outputId": "8927f6e6-bee9-4124-b931-6725b67f6d00"
   },
   "outputs": [
    {
     "metadata": {
      "tags": null
     },
     "name": "stderr",
     "output_type": "stream",
     "text": [
      "INFO:pytorch_lightning.utilities.rank_zero:💡 Tip: For seamless cloud uploads and versioning, try installing [litmodels](https://pypi.org/project/litmodels/) to enable LitModelCheckpoint, which syncs automatically with the Lightning model registry.\n",
      "INFO:pytorch_lightning.utilities.rank_zero:GPU available: False, used: False\n",
      "INFO:pytorch_lightning.utilities.rank_zero:TPU available: False, using: 0 TPU cores\n",
      "INFO:pytorch_lightning.utilities.rank_zero:HPU available: False, using: 0 HPUs\n",
      "INFO:pytorch_lightning.callbacks.model_summary:\n",
      "  | Name           | Type               | Params | Mode \n",
      "--------------------------------------------------------------\n",
      "0 | model          | Estandard_Model    | 318 K  | train\n",
      "1 | loss_fn        | CrossEntropyLoss   | 0      | train\n",
      "2 | train_accuracy | MulticlassAccuracy | 0      | train\n",
      "3 | val_accuracy   | MulticlassAccuracy | 0      | train\n",
      "4 | train_f1       | MulticlassF1Score  | 0      | train\n",
      "5 | val_f1         | MulticlassF1Score  | 0      | train\n",
      "6 | test_accuracy  | MulticlassAccuracy | 0      | train\n",
      "7 | test_f1        | MulticlassF1Score  | 0      | train\n",
      "--------------------------------------------------------------\n",
      "318 K     Trainable params\n",
      "0         Non-trainable params\n",
      "318 K     Total params\n",
      "1.275     Total estimated model params size (MB)\n",
      "177       Modules in train mode\n",
      "0         Modules in eval mode\n"
     ]
    },
    {
     "data": {
      "application/vnd.jupyter.widget-view+json": {
       "model_id": "8b5a6a379e5b43208672eb6c04889c17",
       "version_major": 2,
       "version_minor": 0
      },
      "text/plain": [
       "Sanity Checking: |          | 0/? [00:00<?, ?it/s]"
      ]
     },
     "metadata": {},
     "output_type": "display_data"
    },
    {
     "data": {
      "application/vnd.jupyter.widget-view+json": {
       "model_id": "b7fb2df18e844d95815bd4ce9693b6a1",
       "version_major": 2,
       "version_minor": 0
      },
      "text/plain": [
       "Training: |          | 0/? [00:00<?, ?it/s]"
      ]
     },
     "metadata": {},
     "output_type": "display_data"
    },
    {
     "data": {
      "application/vnd.jupyter.widget-view+json": {
       "model_id": "66a0a2d4b08f4b2e9cbc20b7b901631e",
       "version_major": 2,
       "version_minor": 0
      },
      "text/plain": [
       "Validation: |          | 0/? [00:00<?, ?it/s]"
      ]
     },
     "metadata": {},
     "output_type": "display_data"
    },
    {
     "data": {
      "application/vnd.jupyter.widget-view+json": {
       "model_id": "433adc93b4e94db488d2850226a21d40",
       "version_major": 2,
       "version_minor": 0
      },
      "text/plain": [
       "Validation: |          | 0/? [00:00<?, ?it/s]"
      ]
     },
     "metadata": {},
     "output_type": "display_data"
    },
    {
     "data": {
      "application/vnd.jupyter.widget-view+json": {
       "model_id": "2a59444bd2fc4000a65a887116271217",
       "version_major": 2,
       "version_minor": 0
      },
      "text/plain": [
       "Validation: |          | 0/? [00:00<?, ?it/s]"
      ]
     },
     "metadata": {},
     "output_type": "display_data"
    },
    {
     "data": {
      "application/vnd.jupyter.widget-view+json": {
       "model_id": "85a15e5e1687439a9d8350b4db2c358b",
       "version_major": 2,
       "version_minor": 0
      },
      "text/plain": [
       "Validation: |          | 0/? [00:00<?, ?it/s]"
      ]
     },
     "metadata": {},
     "output_type": "display_data"
    },
    {
     "data": {
      "application/vnd.jupyter.widget-view+json": {
       "model_id": "467135de1a1f4ebd996ac2c3a1f8ec45",
       "version_major": 2,
       "version_minor": 0
      },
      "text/plain": [
       "Validation: |          | 0/? [00:00<?, ?it/s]"
      ]
     },
     "metadata": {},
     "output_type": "display_data"
    },
    {
     "data": {
      "application/vnd.jupyter.widget-view+json": {
       "model_id": "495917cce84c497f80ecf2bef831cfc2",
       "version_major": 2,
       "version_minor": 0
      },
      "text/plain": [
       "Validation: |          | 0/? [00:00<?, ?it/s]"
      ]
     },
     "metadata": {},
     "output_type": "display_data"
    },
    {
     "data": {
      "application/vnd.jupyter.widget-view+json": {
       "model_id": "7c3411486f3f43d5ad739057a506fe38",
       "version_major": 2,
       "version_minor": 0
      },
      "text/plain": [
       "Validation: |          | 0/? [00:00<?, ?it/s]"
      ]
     },
     "metadata": {},
     "output_type": "display_data"
    },
    {
     "data": {
      "application/vnd.jupyter.widget-view+json": {
       "model_id": "5335177ee50d44a5b400daf373ca0571",
       "version_major": 2,
       "version_minor": 0
      },
      "text/plain": [
       "Validation: |          | 0/? [00:00<?, ?it/s]"
      ]
     },
     "metadata": {},
     "output_type": "display_data"
    },
    {
     "data": {
      "application/vnd.jupyter.widget-view+json": {
       "model_id": "8df39e42c9ba46a78fc749a6c456f808",
       "version_major": 2,
       "version_minor": 0
      },
      "text/plain": [
       "Validation: |          | 0/? [00:00<?, ?it/s]"
      ]
     },
     "metadata": {},
     "output_type": "display_data"
    },
    {
     "data": {
      "application/vnd.jupyter.widget-view+json": {
       "model_id": "dce3e18594574d56b32d796e9a52249a",
       "version_major": 2,
       "version_minor": 0
      },
      "text/plain": [
       "Validation: |          | 0/? [00:00<?, ?it/s]"
      ]
     },
     "metadata": {},
     "output_type": "display_data"
    },
    {
     "data": {
      "application/vnd.jupyter.widget-view+json": {
       "model_id": "40ac652e8ba74aee8a7c650e83de32ca",
       "version_major": 2,
       "version_minor": 0
      },
      "text/plain": [
       "Validation: |          | 0/? [00:00<?, ?it/s]"
      ]
     },
     "metadata": {},
     "output_type": "display_data"
    },
    {
     "data": {
      "application/vnd.jupyter.widget-view+json": {
       "model_id": "39b8fd2aa797413fbadef0619fc35612",
       "version_major": 2,
       "version_minor": 0
      },
      "text/plain": [
       "Validation: |          | 0/? [00:00<?, ?it/s]"
      ]
     },
     "metadata": {},
     "output_type": "display_data"
    },
    {
     "data": {
      "application/vnd.jupyter.widget-view+json": {
       "model_id": "a81d989e5b84430ab393d59213ec6cb1",
       "version_major": 2,
       "version_minor": 0
      },
      "text/plain": [
       "Validation: |          | 0/? [00:00<?, ?it/s]"
      ]
     },
     "metadata": {},
     "output_type": "display_data"
    },
    {
     "data": {
      "application/vnd.jupyter.widget-view+json": {
       "model_id": "84bce4d7167c4a5a96363e47bf07b0bf",
       "version_major": 2,
       "version_minor": 0
      },
      "text/plain": [
       "Validation: |          | 0/? [00:00<?, ?it/s]"
      ]
     },
     "metadata": {},
     "output_type": "display_data"
    },
    {
     "data": {
      "application/vnd.jupyter.widget-view+json": {
       "model_id": "8f46594bcd0146d8910e511b0f5a2843",
       "version_major": 2,
       "version_minor": 0
      },
      "text/plain": [
       "Validation: |          | 0/? [00:00<?, ?it/s]"
      ]
     },
     "metadata": {},
     "output_type": "display_data"
    },
    {
     "data": {
      "application/vnd.jupyter.widget-view+json": {
       "model_id": "7507fb85278f47cbbc3cf5df0f5532bd",
       "version_major": 2,
       "version_minor": 0
      },
      "text/plain": [
       "Validation: |          | 0/? [00:00<?, ?it/s]"
      ]
     },
     "metadata": {},
     "output_type": "display_data"
    },
    {
     "data": {
      "application/vnd.jupyter.widget-view+json": {
       "model_id": "a98c5ed0c9ad4dfeb3b646d37a2d72a2",
       "version_major": 2,
       "version_minor": 0
      },
      "text/plain": [
       "Validation: |          | 0/? [00:00<?, ?it/s]"
      ]
     },
     "metadata": {},
     "output_type": "display_data"
    },
    {
     "data": {
      "application/vnd.jupyter.widget-view+json": {
       "model_id": "ba487df6433d476aa7989935365543bf",
       "version_major": 2,
       "version_minor": 0
      },
      "text/plain": [
       "Validation: |          | 0/? [00:00<?, ?it/s]"
      ]
     },
     "metadata": {},
     "output_type": "display_data"
    },
    {
     "data": {
      "application/vnd.jupyter.widget-view+json": {
       "model_id": "a8b9eb0e5fbb490ca6dce9be61b95b88",
       "version_major": 2,
       "version_minor": 0
      },
      "text/plain": [
       "Validation: |          | 0/? [00:00<?, ?it/s]"
      ]
     },
     "metadata": {},
     "output_type": "display_data"
    },
    {
     "data": {
      "application/vnd.jupyter.widget-view+json": {
       "model_id": "58c69b6247674de2b5f999ceaa76d2ed",
       "version_major": 2,
       "version_minor": 0
      },
      "text/plain": [
       "Validation: |          | 0/? [00:00<?, ?it/s]"
      ]
     },
     "metadata": {},
     "output_type": "display_data"
    },
    {
     "name": "stderr",
     "output_type": "stream",
     "text": [
      "INFO:pytorch_lightning.utilities.rank_zero:`Trainer.fit` stopped: `max_epochs=20` reached.\n"
     ]
    },
    {
     "data": {
      "application/vnd.jupyter.widget-view+json": {
       "model_id": "1a44aea5c99548edb4da7ed6f489df29",
       "version_major": 2,
       "version_minor": 0
      },
      "text/plain": [
       "Testing: |          | 0/? [00:00<?, ?it/s]"
      ]
     },
     "metadata": {},
     "output_type": "display_data"
    },
    {
     "data": {
      "text/html": [
       "<pre style=\"white-space:pre;overflow-x:auto;line-height:normal;font-family:Menlo,'DejaVu Sans Mono',consolas,'Courier New',monospace\">┏━━━━━━━━━━━━━━━━━━━━━━━━━━━┳━━━━━━━━━━━━━━━━━━━━━━━━━━━┓\n",
       "┃<span style=\"font-weight: bold\">        Test metric        </span>┃<span style=\"font-weight: bold\">       DataLoader 0        </span>┃\n",
       "┡━━━━━━━━━━━━━━━━━━━━━━━━━━━╇━━━━━━━━━━━━━━━━━━━━━━━━━━━┩\n",
       "│<span style=\"color: #008080; text-decoration-color: #008080\">         test_acc          </span>│<span style=\"color: #800080; text-decoration-color: #800080\">    0.23000000417232513    </span>│\n",
       "│<span style=\"color: #008080; text-decoration-color: #008080\">          test_f1          </span>│<span style=\"color: #800080; text-decoration-color: #800080\">    0.23000000417232513    </span>│\n",
       "│<span style=\"color: #008080; text-decoration-color: #008080\">         test_loss         </span>│<span style=\"color: #800080; text-decoration-color: #800080\">     2.713329792022705     </span>│\n",
       "└───────────────────────────┴───────────────────────────┘\n",
       "</pre>\n"
      ],
      "text/plain": [
       "┏━━━━━━━━━━━━━━━━━━━━━━━━━━━┳━━━━━━━━━━━━━━━━━━━━━━━━━━━┓\n",
       "┃\u001b[1m \u001b[0m\u001b[1m       Test metric       \u001b[0m\u001b[1m \u001b[0m┃\u001b[1m \u001b[0m\u001b[1m      DataLoader 0       \u001b[0m\u001b[1m \u001b[0m┃\n",
       "┡━━━━━━━━━━━━━━━━━━━━━━━━━━━╇━━━━━━━━━━━━━━━━━━━━━━━━━━━┩\n",
       "│\u001b[36m \u001b[0m\u001b[36m        test_acc         \u001b[0m\u001b[36m \u001b[0m│\u001b[35m \u001b[0m\u001b[35m   0.23000000417232513   \u001b[0m\u001b[35m \u001b[0m│\n",
       "│\u001b[36m \u001b[0m\u001b[36m         test_f1         \u001b[0m\u001b[36m \u001b[0m│\u001b[35m \u001b[0m\u001b[35m   0.23000000417232513   \u001b[0m\u001b[35m \u001b[0m│\n",
       "│\u001b[36m \u001b[0m\u001b[36m        test_loss        \u001b[0m\u001b[36m \u001b[0m│\u001b[35m \u001b[0m\u001b[35m    2.713329792022705    \u001b[0m\u001b[35m \u001b[0m│\n",
       "└───────────────────────────┴───────────────────────────┘\n"
      ]
     },
     "metadata": {},
     "output_type": "display_data"
    },
    {
     "data": {
      "text/plain": [
       "[{'test_loss': 2.713329792022705,\n",
       "  'test_acc': 0.23000000417232513,\n",
       "  'test_f1': 0.23000000417232513}]"
      ]
     },
     "execution_count": 22,
     "metadata": {},
     "output_type": "execute_result"
    }
   ],
   "source": [
    "# ===== Training =====\n",
    "est_model = Estandard_Model(num_labels=20,hidden_dim=8,num_heads=4,num_layers=15)\n",
    "lit_est_module = LitModule(est_model,tokenizer,train_dataset=train_dataset.select(range(1000)),val_dataset=val_dataset.select(range(100)),test_dataset=test_dataset.select(range(200)))\n",
    "\n",
    "early_stop_callback = EarlyStopping(\n",
    "    monitor='val_f1',  # Metric to monitor\n",
    "    min_delta=1e-3,           # Minimum change to qualify as an improvement\n",
    "    patience=3,               # Number of epochs with no improvement after which training will be stopped\n",
    "    verbose=True,             # Log information to the console\n",
    "    mode='max'                # 'max' mode means we want to maximize the monitored quantity\n",
    ")\n",
    "\n",
    "est_trainer = pl.Trainer(\n",
    "    max_epochs=20,\n",
    "    accelerator=device,\n",
    "    logger=False, # Set to True to use a logger for better tracking (e.g., TensorBoard)\n",
    "    #callbacks=[early_stop_callback], # Pass the early stopping callback\n",
    "    gradient_clip_val=1.0 # Add gradient clipping\n",
    ")\n",
    "est_trainer.fit(lit_est_module)\n",
    "\n",
    "est_trainer.test(lit_est_module)"
   ]
  },
  {
   "cell_type": "code",
   "execution_count": null,
   "metadata": {
    "colab": {
     "base_uri": "https://localhost:8080/",
     "height": 669,
     "referenced_widgets": [
      "85a371f5f4064e70ad401bfc243ed29a",
      "7d717b7f2c13431898f7e7d5442ba577",
      "43e4f574ad9c4250a5f4768df8dad68c",
      "6a1f2c8281d14fc09b0049274a8cdbb8",
      "aa61616a8ce6472781c0590c517bea35",
      "662728fb2ec7442eacf49c531e107db0",
      "eea17757de6c4098b9cf5a34962daf05",
      "9ea8719dd89b4758a12ea81cecb64976",
      "79fc8f8d3dd6456d9dc69135902bf8e4",
      "6277dd4fd7474fd0a2e4c29e4674320b",
      "51cece1129874cd68266b7919f9b0e9c",
      "888e9757c91f4980b5b92ff46601e94f",
      "40801307e5944764b7b41e5fb6345f71",
      "78ccead763dc43a68d6adc9cb0f6e8e0",
      "1d2cf10eafcf480381c37c4622bb67c4",
      "28afb7a6e668477fa50b6f3374d5b84b",
      "a19e01a4856f40e2a1739bfef8a782fe",
      "494b28909eef489b9f2f39b85420eebd",
      "a00f3d59787b49919d85081479e64557",
      "89d83b9cecc74ed0996b06968c0fd6c0",
      "5435a1312975491ab54275a2b47594a4",
      "36b6fad1245d4395aca3533620a8423f",
      "91f6bf3dff4140518590d25f7f7d90bb",
      "339c570bac994b89bc7b2afb3ec76c1e",
      "dd8d549965924cee94a3dd2effb6e851",
      "8d6e0d0f5bba4f8e8a9b0a57a3d2739b",
      "43858aad77894abab6cb34eb0e73ccc1",
      "fd0474768fbf4cdd81a117f03cf7452b",
      "a44ef94926b348bbb38ffef313dd07e7",
      "6cddef8b5d5f4bc787e9758e94b6945a",
      "2ae23ab5cb594d6eb2e52e3a621f8240",
      "21e2af42f9ec44858ba5240419ebb4f1",
      "c3c206b11f1a45748d03184d53297f8f",
      "32fb4959b12e4c398575a6d8a3222845",
      "887101763de64372b6e3455606b8cf7c",
      "8bdf0830f973401ebbf0a1c45867bd2a",
      "11edd36d8bf14cc48e23d1b23080dacc",
      "e1f7317a2cc541faa103fb3e05bd2f2f",
      "4a66bfca3e7c47ffb54baf0df54f847c",
      "947aa76ae1a44a7cbef1f446e5495304",
      "32d772e453aa4cb9af9fe799b0c9ecdc",
      "7c5d275b759049348ff0742394a9ea4c",
      "bf9f8f14055244268b3e7f72668d5699",
      "fd72af63622348fe8d90781211e6903b",
      "61c1f4e5626b442e8ed8c4f8d746ec34",
      "6ff53d74f5b44be1be9fc7626a3f33bc",
      "fa2b3089984642b0a22f37aa58fa17c9",
      "bcb1e5af42cf4815ae2af79882d91a5b",
      "78bb9c04b11c42e799ee1d6f6d6d88ec",
      "d2d66b9d424d41cb98c39cf7384944bc",
      "0d57ba5618674c1bad8caa1ad492b566",
      "0d5e1dc534f24bd98d7504df5a62bc98",
      "24feb8999b0c4009a7a13c65f88a2f39",
      "70d7204817a84df48f84eb4eb5fe7a75",
      "abea1b1bb890470ea0ecefb2dbca5967",
      "9c3974f7632b4104978f1174d10e3849",
      "9c9fb13448f7408490acef7f76b94a54",
      "334a650f3de24f9cb3f1bf088ab3ba4d",
      "2ff403dfd6f94dfd8618e1de5aebdfd8",
      "d37b761a12cc45eca583c6cae028c1c4",
      "41d7d49a66e14252bcfcc6edc0ab213e",
      "2c1a9b67f0964f918509936c518b2b48",
      "b2d6b983d75143c4995f5df500a73e90",
      "1b33c12d9a4444c085347f59858a671b",
      "ff6049146eb648599877ed95b9047443",
      "9921f5e3f59e46a696720ed1902e7fb9",
      "32e99d83f40f4eb09fcc8482d01f8d9a",
      "43a1c40a56f9477e9cd327e29258825a",
      "43e88c9dcd5841648e4136f65ae60beb",
      "1e4dc22aa1374794a2615d347ad1f859",
      "c8bb7e443b3c4883adab24a3d9dd02b0",
      "5e0bc610a3c34733be8de1e781f4b257",
      "a0551a9ae1d14c81b056644886b7178b",
      "7a2a0ed202d54549856ac778692c0c7d",
      "62b25e4eb855494794b6efa84790053a",
      "1197d0b316934d75bbfb48be8b314c03",
      "034f156a3606448fa9ad747c72e30943",
      "a2b43d47cad14c688a08141b72c30239",
      "2338be29fd14475fb42a44b8c4760758",
      "b0b190ef8cf749d4bd01fa8882001d57",
      "6b077073dbbe453ba024650f6dd32a76",
      "9be1c4c927b64766a7e3b620fc7c1dc3",
      "f441abb7fe74490eab863843b0f04e8f",
      "e62871cc11b44dd2bb68ba13b11c927f",
      "9186f8d0ac9849b589ff5f2050dcdb84",
      "75f2bb6a671d46f3a0604683e346ba35",
      "2a7e3117cb874d4d977b3ede94fb1b87",
      "ddc62c2415ce4602acfb20c2db78aaf0",
      "0cfd6b466e3745dda97ac0b681573ca7",
      "5eefe47000024244bef0cffaf3e22f04",
      "7dda215fe47e4bd49696c03d4da2f393",
      "509e36cde1ab482ab41549893fc90082",
      "29ff32ef02624a96aec16aebfdc4225c",
      "52b4179795ea4d949c9fd1cfac235758",
      "14bf841b3f264dec932b62443ba9dda9",
      "c0581292d1c540b38297d8d954a87196",
      "c6ebfa32a49e41029e22e8b0dfcaf956",
      "d9d01c83947a4bf587ca7151c004cb78",
      "2e4f9a5069434a33b62f752115434d25"
     ]
    },
    "id": "GDqlP7h0tNe-",
    "outputId": "6494094d-3cb6-4b28-c704-88f58f0fadb2"
   },
   "outputs": [
    {
     "name": "stderr",
     "output_type": "stream",
     "text": [
      "INFO:pytorch_lightning.utilities.rank_zero:💡 Tip: For seamless cloud uploads and versioning, try installing [litmodels](https://pypi.org/project/litmodels/) to enable LitModelCheckpoint, which syncs automatically with the Lightning model registry.\n",
      "INFO:pytorch_lightning.utilities.rank_zero:GPU available: False, used: False\n",
      "INFO:pytorch_lightning.utilities.rank_zero:TPU available: False, using: 0 TPU cores\n",
      "INFO:pytorch_lightning.utilities.rank_zero:HPU available: False, using: 0 HPUs\n",
      "INFO:pytorch_lightning.callbacks.model_summary:\n",
      "  | Name           | Type               | Params | Mode \n",
      "--------------------------------------------------------------\n",
      "0 | model          | Model_1            | 265 K  | train\n",
      "1 | loss_fn        | CrossEntropyLoss   | 0      | train\n",
      "2 | train_accuracy | MulticlassAccuracy | 0      | train\n",
      "3 | val_accuracy   | MulticlassAccuracy | 0      | train\n",
      "4 | train_f1       | MulticlassF1Score  | 0      | train\n",
      "5 | val_f1         | MulticlassF1Score  | 0      | train\n",
      "6 | test_accuracy  | MulticlassAccuracy | 0      | train\n",
      "7 | test_f1        | MulticlassF1Score  | 0      | train\n",
      "--------------------------------------------------------------\n",
      "265 K     Trainable params\n",
      "0         Non-trainable params\n",
      "265 K     Total params\n",
      "1.064     Total estimated model params size (MB)\n",
      "222       Modules in train mode\n",
      "0         Modules in eval mode\n"
     ]
    },
    {
     "data": {
      "application/vnd.jupyter.widget-view+json": {
       "model_id": "85a371f5f4064e70ad401bfc243ed29a",
       "version_major": 2,
       "version_minor": 0
      },
      "text/plain": [
       "Sanity Checking: |          | 0/? [00:00<?, ?it/s]"
      ]
     },
     "metadata": {},
     "output_type": "display_data"
    },
    {
     "data": {
      "application/vnd.jupyter.widget-view+json": {
       "model_id": "888e9757c91f4980b5b92ff46601e94f",
       "version_major": 2,
       "version_minor": 0
      },
      "text/plain": [
       "Training: |          | 0/? [00:00<?, ?it/s]"
      ]
     },
     "metadata": {},
     "output_type": "display_data"
    },
    {
     "data": {
      "application/vnd.jupyter.widget-view+json": {
       "model_id": "91f6bf3dff4140518590d25f7f7d90bb",
       "version_major": 2,
       "version_minor": 0
      },
      "text/plain": [
       "Validation: |          | 0/? [00:00<?, ?it/s]"
      ]
     },
     "metadata": {},
     "output_type": "display_data"
    },
    {
     "data": {
      "application/vnd.jupyter.widget-view+json": {
       "model_id": "32fb4959b12e4c398575a6d8a3222845",
       "version_major": 2,
       "version_minor": 0
      },
      "text/plain": [
       "Validation: |          | 0/? [00:00<?, ?it/s]"
      ]
     },
     "metadata": {},
     "output_type": "display_data"
    },
    {
     "data": {
      "application/vnd.jupyter.widget-view+json": {
       "model_id": "61c1f4e5626b442e8ed8c4f8d746ec34",
       "version_major": 2,
       "version_minor": 0
      },
      "text/plain": [
       "Validation: |          | 0/? [00:00<?, ?it/s]"
      ]
     },
     "metadata": {},
     "output_type": "display_data"
    },
    {
     "data": {
      "application/vnd.jupyter.widget-view+json": {
       "model_id": "9c3974f7632b4104978f1174d10e3849",
       "version_major": 2,
       "version_minor": 0
      },
      "text/plain": [
       "Validation: |          | 0/? [00:00<?, ?it/s]"
      ]
     },
     "metadata": {},
     "output_type": "display_data"
    },
    {
     "data": {
      "application/vnd.jupyter.widget-view+json": {
       "model_id": "32e99d83f40f4eb09fcc8482d01f8d9a",
       "version_major": 2,
       "version_minor": 0
      },
      "text/plain": [
       "Validation: |          | 0/? [00:00<?, ?it/s]"
      ]
     },
     "metadata": {},
     "output_type": "display_data"
    },
    {
     "data": {
      "application/vnd.jupyter.widget-view+json": {
       "model_id": "a2b43d47cad14c688a08141b72c30239",
       "version_major": 2,
       "version_minor": 0
      },
      "text/plain": [
       "Validation: |          | 0/? [00:00<?, ?it/s]"
      ]
     },
     "metadata": {},
     "output_type": "display_data"
    },
    {
     "name": "stderr",
     "output_type": "stream",
     "text": [
      "INFO:pytorch_lightning.utilities.rank_zero:`Trainer.fit` stopped: `max_epochs=6` reached.\n"
     ]
    },
    {
     "data": {
      "application/vnd.jupyter.widget-view+json": {
       "model_id": "0cfd6b466e3745dda97ac0b681573ca7",
       "version_major": 2,
       "version_minor": 0
      },
      "text/plain": [
       "Testing: |          | 0/? [00:00<?, ?it/s]"
      ]
     },
     "metadata": {},
     "output_type": "display_data"
    },
    {
     "data": {
      "text/html": [
       "<pre style=\"white-space:pre;overflow-x:auto;line-height:normal;font-family:Menlo,'DejaVu Sans Mono',consolas,'Courier New',monospace\">┏━━━━━━━━━━━━━━━━━━━━━━━━━━━┳━━━━━━━━━━━━━━━━━━━━━━━━━━━┓\n",
       "┃<span style=\"font-weight: bold\">        Test metric        </span>┃<span style=\"font-weight: bold\">       DataLoader 0        </span>┃\n",
       "┡━━━━━━━━━━━━━━━━━━━━━━━━━━━╇━━━━━━━━━━━━━━━━━━━━━━━━━━━┩\n",
       "│<span style=\"color: #008080; text-decoration-color: #008080\">         test_acc          </span>│<span style=\"color: #800080; text-decoration-color: #800080\">    0.23000000417232513    </span>│\n",
       "│<span style=\"color: #008080; text-decoration-color: #008080\">          test_f1          </span>│<span style=\"color: #800080; text-decoration-color: #800080\">    0.23000000417232513    </span>│\n",
       "│<span style=\"color: #008080; text-decoration-color: #008080\">         test_loss         </span>│<span style=\"color: #800080; text-decoration-color: #800080\">    2.7416319847106934     </span>│\n",
       "└───────────────────────────┴───────────────────────────┘\n",
       "</pre>\n"
      ],
      "text/plain": [
       "┏━━━━━━━━━━━━━━━━━━━━━━━━━━━┳━━━━━━━━━━━━━━━━━━━━━━━━━━━┓\n",
       "┃\u001b[1m \u001b[0m\u001b[1m       Test metric       \u001b[0m\u001b[1m \u001b[0m┃\u001b[1m \u001b[0m\u001b[1m      DataLoader 0       \u001b[0m\u001b[1m \u001b[0m┃\n",
       "┡━━━━━━━━━━━━━━━━━━━━━━━━━━━╇━━━━━━━━━━━━━━━━━━━━━━━━━━━┩\n",
       "│\u001b[36m \u001b[0m\u001b[36m        test_acc         \u001b[0m\u001b[36m \u001b[0m│\u001b[35m \u001b[0m\u001b[35m   0.23000000417232513   \u001b[0m\u001b[35m \u001b[0m│\n",
       "│\u001b[36m \u001b[0m\u001b[36m         test_f1         \u001b[0m\u001b[36m \u001b[0m│\u001b[35m \u001b[0m\u001b[35m   0.23000000417232513   \u001b[0m\u001b[35m \u001b[0m│\n",
       "│\u001b[36m \u001b[0m\u001b[36m        test_loss        \u001b[0m\u001b[36m \u001b[0m│\u001b[35m \u001b[0m\u001b[35m   2.7416319847106934    \u001b[0m\u001b[35m \u001b[0m│\n",
       "└───────────────────────────┴───────────────────────────┘\n"
      ]
     },
     "metadata": {},
     "output_type": "display_data"
    },
    {
     "data": {
      "text/plain": [
       "[{'test_loss': 2.7416319847106934,\n",
       "  'test_acc': 0.23000000417232513,\n",
       "  'test_f1': 0.23000000417232513}]"
      ]
     },
     "execution_count": 25,
     "metadata": {},
     "output_type": "execute_result"
    }
   ],
   "source": [
    "# ===== Training =====\n",
    "model_1 = Model_1(num_labels=20,hidden_dim=8,num_layers=15)\n",
    "lit_module_1 = LitModule(model_1,tokenizer,train_dataset=train_dataset.select(range(1000)),val_dataset=val_dataset.select(range(100)),test_dataset=test_dataset.select(range(200)))\n",
    "\n",
    "early_stop_callback = EarlyStopping(\n",
    "    monitor='val_f1',  # Metric to monitor\n",
    "    min_delta=1e-3,           # Minimum change to qualify as an improvement\n",
    "    patience=3,               # Number of epochs with no improvement after which training will be stopped\n",
    "    verbose=True,             # Log information to the console\n",
    "    mode='max'                # 'max' mode means we want to maximize the monitored quantity\n",
    ")\n",
    "\n",
    "trainer_1 = pl.Trainer(\n",
    "    max_epochs=6,\n",
    "    accelerator=device,\n",
    "    logger=False, # Set to True to use a logger for better tracking (e.g., TensorBoard)\n",
    "    #callbacks=[early_stop_callback], # Pass the early stopping callback\n",
    "    gradient_clip_val=1.2 # Add gradient clipping\n",
    ")\n",
    "trainer_1.fit(lit_module_1)\n",
    "\n",
    "trainer_1.test(lit_module_1)"
   ]
  },
  {
   "cell_type": "code",
   "execution_count": null,
   "metadata": {
    "colab": {
     "base_uri": "https://localhost:8080/",
     "height": 669,
     "referenced_widgets": [
      "08cd23dfbe1a47468abd6c716113a9c6",
      "2c73c6bb67f14a50bb0aeb6e886677d7",
      "fbc7fa1af73f4e96b17ff5ce51469438",
      "232f4a897cf14e13864ee42ac102176e",
      "95e2b65cad774558a31d1a49818ca28c",
      "0ab6c50e3e354582aaf1fa41973eb163",
      "10d0bf9eccee4570894f87e2bfdd79dc",
      "9c8f60be725641469a20865bb193e151",
      "dbfd64ed415549fe93897c9044cee098",
      "4dc0545edbed45739fb3d1039abffc78",
      "180da06fe55e436180ecd12d075def27",
      "42aa243be35648dab5d11c778f0f500f",
      "f6a3b00a46644c189ea5963f45d5dd38",
      "9fa3ed78b03c4e15af172a4350335487",
      "a0c5d5299ce84efc81d4cefa242fcf75",
      "bec37eedf01f4c2eb62a156ce80fcf76",
      "1939c7f051db4bb4bbbe5cf3db93ce94",
      "b286a674210a4678b37a949e1b04ccd7",
      "cd4c1e29ee364e3ea799b847a260bf33",
      "6f2fbd576c0b4ec4a54d1ce7173448a1",
      "e0d35262b5de4dc5b4998f070c5834c6",
      "98afdbf381bd4e2b894f4555d2cb9927",
      "ace1056fa5ca4f6e9b0280ada0202d44",
      "a76d26bb8ca24306bf64a52437879a4c",
      "5abeea41ff0741ed9ef18aaf880e8eb3",
      "568bc3c8b36041ecb6d989b5f6287e83",
      "c9d6fabf1614444e85ce743399d9fc7d",
      "78ad59dd187e415790f1043c3370417d",
      "bacafb2ca157479a8a7b8c999aef9a6b",
      "736672b3ff6d41549a46c55e395aae68",
      "88325433d1d24ea39fcae34dc98f80fa",
      "11d0f323c249412ea244e7652d03150b",
      "6ced6ea2be3d4f10aceffbdc550534fc",
      "21bb4bf976c24a26bda041856fe8f4ee",
      "f832910dfbf14aa3a7da71c3aace1444",
      "3aff2075bf3f4153a08620409ea5a0ba",
      "6cc9e9f5d5fa4697a03685d73cdf51ce",
      "4b74915e8e15401ab6d8a8005bd47de7",
      "00dc548c550b4e05a51bb5928ac15089",
      "6ce8c40601c349e38e219d960f268d79",
      "40fa8b916d5c44b3a292f979946af62f",
      "f680374da8f642d791a8a505fc71f5ca",
      "862957a84a124cb1910d0ca18b601210",
      "abf6ae5337994f9883b56617bdb73184",
      "5ee3530d32234112b382de845fc3798e",
      "0fab44206bb74b02a5f2deee7d8c2285",
      "5585e710e4e540b6b467356cb1f47fb3",
      "2f0d133033c6427fad12e2e0c849d67f",
      "ef171b03e0c6478e861530b45f03334d",
      "a4b4da536e5147ba9c2eb7cbac949893",
      "078b22f2eb7f43c69310df2a5157a400",
      "06b9e05c5b44471e82383f1ce685ce89",
      "d8c0156645204c4c9964f8c9f78ea30e",
      "24a9195cdf0e4548963c782febcb9cf4",
      "51aee023731c4def9de1e9da2dd45736",
      "55fc7a85ff484c299c441316b5b38dde",
      "9c321500e9d64d73b3780f33ac8ba689",
      "cc0ec493a82c41458af6e7a5031aea7d",
      "79db6ad67faa4b9489e47cc1a99469ec",
      "7e127b2b384f40388d7dfc61ab72ca46",
      "8431041dfd724ab2bd388b76ecb85cf1",
      "a8ec011122b84ac2aeebd9c28c26e2d1",
      "6e879506aff64cc1a4b0607263c676aa",
      "898246b6a6bc4c67bdade1ab625d7418",
      "cbbb2f235e24458e9b98ffc4433d3e18",
      "648445522baa4b07bb400af5406b23c3",
      "9725b82a1a8e4847bc1b4952bad22784",
      "d0c8e724828c4bd899e7bcab7428bc23",
      "f1335feb560f448e8d17f00c250cb52d",
      "3847b8df9ad94b398e3d4855fd4be0c6",
      "414543855aa748acaf769be7120e9588",
      "62b899b16f7e45a2a723d1100a45f641",
      "60a871725f4b4235a6629323e457dd09",
      "85699926523844e498ce282b1b532cd7",
      "5e0d7b8fc18248b28113eb94b23e6742",
      "62934e64888747d9be7e4d1ea2f670aa",
      "9f89bb523bab4f60b8bbb0f39ce46366",
      "fc9e350e31f445119ec7291f3c71b292",
      "7ecfde0a420d4f2eb84ae591e9f112d9",
      "c449087a7e46416ebf5109e6d75a4562",
      "48d3af02efbb497687efc27ae6582415",
      "5dd935b1c0594d0f8106cb8c1dc357b8",
      "1c2dfec7939042ddbb1ea650f01cba22",
      "22ca317f42634986bea4c35ba601d912",
      "d61a3dafdaf64a7eaaf528b5cc62ebd6",
      "bd1ddc73d41b4019a8dc7be508b049cf",
      "6023a1f9475e4042a76f503482c4b4ae",
      "dd9e1f7e0c3e47598dd6ca133e8a36d3",
      "4f16a160be8b4fa285fad8acdcff9403",
      "702566966be74ea6b61f609562b3e7e5",
      "1f7d466fcd7647268a34a7f5f5b0fba5",
      "2da94563b73b43638ba59c5657f8b643",
      "275a5158e16c4e6aa7cd124aee3b030a",
      "8f897ef489bf4237896aa973d4b12c81",
      "853f786eed334063b7ffb160c4455c00",
      "0ba0168c6ed944bfb1362397e830640b",
      "3a01f1b5916244d5abcbd8214bcba069",
      "663a71eaf0ae4370a715f3e1bd1ba65f",
      "56bc551ee4244c90a58c6c2d4abbc57a",
      "8ac1e0b64059404da82f0af0e84e7107",
      "c26c940ab01f47cab65d5a350b288dc7",
      "c567106b44884995adbc82a4ca18b55e",
      "1c0e7a7b3d8e48e4aa58af14783519d7",
      "a49043d02d284c7e8702f1cec449cfa3",
      "a4c364b6445e42f0a9cf2dc6ddccb473",
      "3282686823964e0daa74bbb29118ed21",
      "e59008f59f27411fb4af1b179439668b",
      "cc671a00fc75453c9ea23af6e253dd77",
      "e44bf810f20f412eb913d6bc3d246a68",
      "8144365afb034563b180111d9d749da1",
      "e4a6b84ed0e9444ca8243550db99aec3",
      "bee9e862fcca45529f67268c75a11465",
      "6eb92dbee90b4a638f801ad919ec421b",
      "662da3b13b2a48beb55af520579e6e00",
      "3468a08bd37d40638acaf039c880bdaf",
      "243aae93bcd6429b9844154097211357",
      "49206d2d2ea94ead8144ce9a2f0b459a",
      "9ecadf17305d4b5c981017bc4fbada3e",
      "dfc0045fc4fd474b86533a8470203427",
      "994a46d3e74642caba64d2c6a74436b9",
      "71824d45e8964cd2b6c72117e47b09f4"
     ]
    },
    "id": "SI70SPOYtNe-",
    "outputId": "bb4eb0b5-1cfa-40b2-d9b9-97d310bab18d"
   },
   "outputs": [
    {
     "name": "stderr",
     "output_type": "stream",
     "text": [
      "INFO:pytorch_lightning.utilities.rank_zero:💡 Tip: For seamless cloud uploads and versioning, try installing [litmodels](https://pypi.org/project/litmodels/) to enable LitModelCheckpoint, which syncs automatically with the Lightning model registry.\n",
      "INFO:pytorch_lightning.utilities.rank_zero:GPU available: False, used: False\n",
      "INFO:pytorch_lightning.utilities.rank_zero:TPU available: False, using: 0 TPU cores\n",
      "INFO:pytorch_lightning.utilities.rank_zero:HPU available: False, using: 0 HPUs\n",
      "INFO:pytorch_lightning.callbacks.model_summary:\n",
      "  | Name           | Type               | Params | Mode \n",
      "--------------------------------------------------------------\n",
      "0 | model          | Model_2            | 299 K  | train\n",
      "1 | loss_fn        | CrossEntropyLoss   | 0      | train\n",
      "2 | train_accuracy | MulticlassAccuracy | 0      | train\n",
      "3 | val_accuracy   | MulticlassAccuracy | 0      | train\n",
      "4 | train_f1       | MulticlassF1Score  | 0      | train\n",
      "5 | val_f1         | MulticlassF1Score  | 0      | train\n",
      "6 | test_accuracy  | MulticlassAccuracy | 0      | train\n",
      "7 | test_f1        | MulticlassF1Score  | 0      | train\n",
      "--------------------------------------------------------------\n",
      "299 K     Trainable params\n",
      "0         Non-trainable params\n",
      "299 K     Total params\n",
      "1.199     Total estimated model params size (MB)\n",
      "294       Modules in train mode\n",
      "0         Modules in eval mode\n"
     ]
    },
    {
     "data": {
      "application/vnd.jupyter.widget-view+json": {
       "model_id": "08cd23dfbe1a47468abd6c716113a9c6",
       "version_major": 2,
       "version_minor": 0
      },
      "text/plain": [
       "Sanity Checking: |          | 0/? [00:00<?, ?it/s]"
      ]
     },
     "metadata": {},
     "output_type": "display_data"
    },
    {
     "data": {
      "application/vnd.jupyter.widget-view+json": {
       "model_id": "42aa243be35648dab5d11c778f0f500f",
       "version_major": 2,
       "version_minor": 0
      },
      "text/plain": [
       "Training: |          | 0/? [00:00<?, ?it/s]"
      ]
     },
     "metadata": {},
     "output_type": "display_data"
    },
    {
     "data": {
      "application/vnd.jupyter.widget-view+json": {
       "model_id": "ace1056fa5ca4f6e9b0280ada0202d44",
       "version_major": 2,
       "version_minor": 0
      },
      "text/plain": [
       "Validation: |          | 0/? [00:00<?, ?it/s]"
      ]
     },
     "metadata": {},
     "output_type": "display_data"
    },
    {
     "data": {
      "application/vnd.jupyter.widget-view+json": {
       "model_id": "21bb4bf976c24a26bda041856fe8f4ee",
       "version_major": 2,
       "version_minor": 0
      },
      "text/plain": [
       "Validation: |          | 0/? [00:00<?, ?it/s]"
      ]
     },
     "metadata": {},
     "output_type": "display_data"
    },
    {
     "data": {
      "application/vnd.jupyter.widget-view+json": {
       "model_id": "5ee3530d32234112b382de845fc3798e",
       "version_major": 2,
       "version_minor": 0
      },
      "text/plain": [
       "Validation: |          | 0/? [00:00<?, ?it/s]"
      ]
     },
     "metadata": {},
     "output_type": "display_data"
    },
    {
     "data": {
      "application/vnd.jupyter.widget-view+json": {
       "model_id": "55fc7a85ff484c299c441316b5b38dde",
       "version_major": 2,
       "version_minor": 0
      },
      "text/plain": [
       "Validation: |          | 0/? [00:00<?, ?it/s]"
      ]
     },
     "metadata": {},
     "output_type": "display_data"
    },
    {
     "data": {
      "application/vnd.jupyter.widget-view+json": {
       "model_id": "9725b82a1a8e4847bc1b4952bad22784",
       "version_major": 2,
       "version_minor": 0
      },
      "text/plain": [
       "Validation: |          | 0/? [00:00<?, ?it/s]"
      ]
     },
     "metadata": {},
     "output_type": "display_data"
    },
    {
     "data": {
      "application/vnd.jupyter.widget-view+json": {
       "model_id": "fc9e350e31f445119ec7291f3c71b292",
       "version_major": 2,
       "version_minor": 0
      },
      "text/plain": [
       "Validation: |          | 0/? [00:00<?, ?it/s]"
      ]
     },
     "metadata": {},
     "output_type": "display_data"
    },
    {
     "data": {
      "application/vnd.jupyter.widget-view+json": {
       "model_id": "4f16a160be8b4fa285fad8acdcff9403",
       "version_major": 2,
       "version_minor": 0
      },
      "text/plain": [
       "Validation: |          | 0/? [00:00<?, ?it/s]"
      ]
     },
     "metadata": {},
     "output_type": "display_data"
    },
    {
     "data": {
      "application/vnd.jupyter.widget-view+json": {
       "model_id": "8ac1e0b64059404da82f0af0e84e7107",
       "version_major": 2,
       "version_minor": 0
      },
      "text/plain": [
       "Validation: |          | 0/? [00:00<?, ?it/s]"
      ]
     },
     "metadata": {},
     "output_type": "display_data"
    },
    {
     "name": "stderr",
     "output_type": "stream",
     "text": [
      "INFO:pytorch_lightning.utilities.rank_zero:`Trainer.fit` stopped: `max_epochs=8` reached.\n"
     ]
    },
    {
     "data": {
      "application/vnd.jupyter.widget-view+json": {
       "model_id": "e4a6b84ed0e9444ca8243550db99aec3",
       "version_major": 2,
       "version_minor": 0
      },
      "text/plain": [
       "Testing: |          | 0/? [00:00<?, ?it/s]"
      ]
     },
     "metadata": {},
     "output_type": "display_data"
    },
    {
     "data": {
      "text/html": [
       "<pre style=\"white-space:pre;overflow-x:auto;line-height:normal;font-family:Menlo,'DejaVu Sans Mono',consolas,'Courier New',monospace\">┏━━━━━━━━━━━━━━━━━━━━━━━━━━━┳━━━━━━━━━━━━━━━━━━━━━━━━━━━┓\n",
       "┃<span style=\"font-weight: bold\">        Test metric        </span>┃<span style=\"font-weight: bold\">       DataLoader 0        </span>┃\n",
       "┡━━━━━━━━━━━━━━━━━━━━━━━━━━━╇━━━━━━━━━━━━━━━━━━━━━━━━━━━┩\n",
       "│<span style=\"color: #008080; text-decoration-color: #008080\">         test_acc          </span>│<span style=\"color: #800080; text-decoration-color: #800080\">    0.20666666328907013    </span>│\n",
       "│<span style=\"color: #008080; text-decoration-color: #008080\">          test_f1          </span>│<span style=\"color: #800080; text-decoration-color: #800080\">    0.20666666328907013    </span>│\n",
       "│<span style=\"color: #008080; text-decoration-color: #008080\">         test_loss         </span>│<span style=\"color: #800080; text-decoration-color: #800080\">    2.7937281131744385     </span>│\n",
       "└───────────────────────────┴───────────────────────────┘\n",
       "</pre>\n"
      ],
      "text/plain": [
       "┏━━━━━━━━━━━━━━━━━━━━━━━━━━━┳━━━━━━━━━━━━━━━━━━━━━━━━━━━┓\n",
       "┃\u001b[1m \u001b[0m\u001b[1m       Test metric       \u001b[0m\u001b[1m \u001b[0m┃\u001b[1m \u001b[0m\u001b[1m      DataLoader 0       \u001b[0m\u001b[1m \u001b[0m┃\n",
       "┡━━━━━━━━━━━━━━━━━━━━━━━━━━━╇━━━━━━━━━━━━━━━━━━━━━━━━━━━┩\n",
       "│\u001b[36m \u001b[0m\u001b[36m        test_acc         \u001b[0m\u001b[36m \u001b[0m│\u001b[35m \u001b[0m\u001b[35m   0.20666666328907013   \u001b[0m\u001b[35m \u001b[0m│\n",
       "│\u001b[36m \u001b[0m\u001b[36m         test_f1         \u001b[0m\u001b[36m \u001b[0m│\u001b[35m \u001b[0m\u001b[35m   0.20666666328907013   \u001b[0m\u001b[35m \u001b[0m│\n",
       "│\u001b[36m \u001b[0m\u001b[36m        test_loss        \u001b[0m\u001b[36m \u001b[0m│\u001b[35m \u001b[0m\u001b[35m   2.7937281131744385    \u001b[0m\u001b[35m \u001b[0m│\n",
       "└───────────────────────────┴───────────────────────────┘\n"
      ]
     },
     "metadata": {},
     "output_type": "display_data"
    },
    {
     "data": {
      "text/plain": [
       "[{'test_loss': 2.7937281131744385,\n",
       "  'test_acc': 0.20666666328907013,\n",
       "  'test_f1': 0.20666666328907013}]"
      ]
     },
     "execution_count": 20,
     "metadata": {},
     "output_type": "execute_result"
    }
   ],
   "source": [
    "# ===== Training =====\n",
    "model_2 = Model_2(num_labels=20,hidden_dim=8,num_layers=20)\n",
    "lit_module_2 = LitModule(model_2,tokenizer,train_dataset=train_dataset.select(range(1000)),val_dataset=val_dataset.select(range(100)),test_dataset=test_dataset.select(range(300)))\n",
    "\n",
    "early_stop_callback = EarlyStopping(\n",
    "    monitor='val_f1',  # Metric to monitor\n",
    "    min_delta=1e-4,           # Minimum change to qualify as an improvement\n",
    "    patience=3,               # Number of epochs with no improvement after which training will be stopped\n",
    "    verbose=True,             # Log information to the console\n",
    "    mode='max'                # 'max' mode means we want to maximize the monitored quantity\n",
    ")\n",
    "\n",
    "trainer_2 = pl.Trainer(\n",
    "    max_epochs=8,\n",
    "    accelerator=device,\n",
    "    logger=False, # Set to True to use a logger for better tracking (e.g., TensorBoard)\n",
    "    #callbacks=[early_stop_callback], # Pass the early stopping callback\n",
    "    gradient_clip_val=1.3 # Add gradient clipping\n",
    ")\n",
    "trainer_2.fit(lit_module_2)\n",
    "\n",
    "trainer_2.test(lit_module_2)"
   ]
  },
  {
   "cell_type": "code",
   "execution_count": null,
   "metadata": {
    "colab": {
     "base_uri": "https://localhost:8080/",
     "height": 704,
     "referenced_widgets": [
      "a694a0164f7f4c628e3299f67b6d7a26",
      "88dc22ed6a3f452c82199791ff286ef6",
      "6ff9af72f28c4aff908cc24c0544d99e",
      "9f4d07d42f0d4b988b869cebb5ccf424",
      "9cf65f284f4e42d5b4ca1a8ea90b5fbc",
      "511d547261e644ef86ee9897eac06640",
      "70a26516c15c4f739387a7685ae4d561",
      "dacd23fbd3634a55bb504a55870e47ee",
      "35222c767d9f4fcb80da032adff9c86a",
      "2d0f7888279343fd9fafd763b720c81e",
      "3c6a73b061034581a3f6d13796f34e63",
      "9ae7d1577f5042dbba69f2b5e28416d1",
      "52b9244097b24c24b2831a2367772411",
      "624e6611a946424d98fcd88783f65e03",
      "3f23e1721d3343a0abc4b5ec2170096a",
      "43434e4270634a05946efd44cfa834e3",
      "0e895592069d48b39df0e9aaaec81a94",
      "82b3f04388d641708ddf796a735d1cad",
      "89a8d169031b4c46ae270fa8cf0bd845",
      "854a7109a543428cae305e705ae73343",
      "1fca8970161346bc8a8511b246fb71ee",
      "bdc0f5d727744c2a9822f2b306aedd1c",
      "6a786f3150884bd3a196ca2bf88902bf",
      "31049773b32d404dae130cf8d458802b",
      "0f03b797ca934890adb2ae9a8e7d5f19",
      "f03ae241d95c45d4af02b9bd576176f4",
      "4e7c3a9fb7104aee91c8a7cd20849932",
      "fcbff2bf9bbd43bc8d950227356b4d98",
      "22c962e547cc4f628bb98d960704cd5b",
      "c9f7992a15624262b79e5493ba5a40c8",
      "d0e46b51e0c74365909399a65bb4c638",
      "7230707a3f17463b94f3b9a3147c7932",
      "fc31759c019e43f5b0b902882b6ec019",
      "b700bdac55ca422b831fe8f08a3640ce",
      "e075e5f4ef85456fb779378267370b08",
      "522567e3ab784edb895df3c23988ccc3",
      "5ff551788b184109a1075444dcd78fbd",
      "8cc2a078de5841109b4a472897272cac",
      "54685465d4344ef78c7a175ea5cd66f3",
      "df970bafbe9f48e8bf3b13921caee991",
      "bf40b9f342fe43309bfcfab35d2146e0",
      "b94145d2cee44a91b2a56abfeccaf911",
      "72800f4f27fe4c4fbf6d3d0c5ba2b1d4",
      "8e698dd7785a488d953c30e5ed203c67",
      "e94f86fc18f14e608b3bb9d7cbcfa263",
      "f3910b00d4c54a14b08fca1c8b385139",
      "9a200a46e5e34fd4bf5e77789c014f83",
      "259b4a3936054726a35f9d0a070f75e8",
      "76ec29cb80ef40858bd1305cbcabd9b6",
      "250ef8f7e0b14ce38de11da7e12c7eca",
      "1c02368e60ed47cebcbb8f4334eb6adf",
      "63ab00b6f5c64a53bb324494469203ae",
      "0f6afcab685a491689fc1f1b8a236f6c",
      "208bdc16322e4a26b22dc151a8faaef5",
      "a33ea534612947dfa13cf88c059ee6c1",
      "25b84bc0c5c542a7b095b6a59997c06a",
      "f6f6539a0799446f9c55bb1762339043",
      "727efc2da8f94acd8f76e56acb9356c1",
      "20c6febec0dc41d7bbc2ddf556f20e2c",
      "1fc48d1e6b6c42ae9791e2b86084ab04",
      "6e0a75d4096b4118b6b593cf2c56284d",
      "a4714cbc5a574b5683299dc9c715a4cd",
      "8a8a8ecc411d41b784ece2a99f6eda88",
      "d613f6a65f2b4d32bb672d4091e84997",
      "ffc9654a56804e8687100d45169faa6f",
      "a423b3cb095d4fb8b49f1b356143e3a4",
      "8a7bed278e9245c681a6afa8f8849ed2",
      "e9f5eaa7212f4aa28ab24346c90603a0",
      "2c0bd0e2e228487594dff0adaba4c047",
      "a83d9061f7b34906bb852be61e481acb",
      "22f3f394a475442babe501c54c74ac70",
      "793e4a2f6cee4bd6b895b2f795d4397c",
      "48805d0dc271442893110453a3f74ecf",
      "206ab553ffe54439af2da1e216b1d8b6",
      "9245f907f8004cb885621b02593b29ad",
      "f4051a0c29b3477595334731dd51c7f5",
      "e30ea522aff64dd8980edacbcf9d3fda",
      "c50eb9ce9e9c42febba0505786e60a1a",
      "bdfb5666747948adbbda4747d9350245",
      "653d94c2af2a45d7bfc31d2b7c7a866e",
      "4fe0395f00284ef3aa694ea03058a638",
      "f1abbbeb24164e7b819f03a1390a5f78",
      "1f48322cc6c94366a526018b757536c8",
      "94efea2d18cc4c21be78f82e7aa43b12",
      "d07dce73627d47b09bf5981b6620ccb1",
      "0755eade7d124fd29bfa132579ae917f",
      "7184bd783a0f4d3caccbf17046d5c490",
      "08bf3604283349a087eb77850766c052",
      "9aeee1a184a445009d08537dd3bca207",
      "499f240620d64a0e964c6b744da73225",
      "ea0452f1c05c4cacb47c9d7199c55419",
      "cad3978ae4624f10b19dec9ebc6c185a",
      "c485ecaa60784ef184ece81fdfff218f",
      "d0583cf40fe14b74bf1396ae1652fb66",
      "839bef6204c9460ebaed2a23c1c9852b",
      "c7bf82dbca6741edbbd0cfeec3bd3b10",
      "21762e0585384a32b2b3f2cb8e164e2c",
      "0762013a15af4b98919ad13c798eede6",
      "832bbe05adb044c6a479fe1f1d90d3ce",
      "9b648b44c8be4e588e17e6ac4d7c7b09",
      "01402a45438f4c3c82264901fd6c8dd1",
      "ff76cae59a1f44f2bebc4703e2136e6e",
      "2571ff989e7043d6be767a6ba15bef44",
      "ad804cf699ac426e8b70df6851a73023",
      "204c5e5bc4c5438ea590cd8465e12987",
      "9fa98fba438845cc9554c7a58f90d52b",
      "3324549a8d8a4a6d9aa12c6102b6c618",
      "c8af675867124070aff86253edc85caa",
      "16c77ff9ef4845ad8d646aebb7a69c8e",
      "79ff5081588b4c3a97716e0b395ea398"
     ]
    },
    "id": "zm_Ol_eitNe_",
    "outputId": "72483a99-8c0a-48e3-caa8-2e0af2010f26"
   },
   "outputs": [
    {
     "name": "stderr",
     "output_type": "stream",
     "text": [
      "INFO:pytorch_lightning.utilities.rank_zero:💡 Tip: For seamless cloud uploads and versioning, try installing [litmodels](https://pypi.org/project/litmodels/) to enable LitModelCheckpoint, which syncs automatically with the Lightning model registry.\n",
      "INFO:pytorch_lightning.utilities.rank_zero:GPU available: False, used: False\n",
      "INFO:pytorch_lightning.utilities.rank_zero:TPU available: False, using: 0 TPU cores\n",
      "INFO:pytorch_lightning.utilities.rank_zero:HPU available: False, using: 0 HPUs\n",
      "/usr/local/lib/python3.12/dist-packages/pytorch_lightning/callbacks/model_checkpoint.py:751: Checkpoint directory /content/checkpoints exists and is not empty.\n",
      "INFO:pytorch_lightning.callbacks.model_summary:\n",
      "  | Name           | Type               | Params | Mode \n",
      "--------------------------------------------------------------\n",
      "0 | model          | Model_3            | 304 K  | train\n",
      "1 | loss_fn        | CrossEntropyLoss   | 0      | train\n",
      "2 | train_accuracy | MulticlassAccuracy | 0      | train\n",
      "3 | val_accuracy   | MulticlassAccuracy | 0      | train\n",
      "4 | train_f1       | MulticlassF1Score  | 0      | train\n",
      "5 | val_f1         | MulticlassF1Score  | 0      | train\n",
      "6 | test_accuracy  | MulticlassAccuracy | 0      | train\n",
      "7 | test_f1        | MulticlassF1Score  | 0      | train\n",
      "--------------------------------------------------------------\n",
      "304 K     Trainable params\n",
      "0         Non-trainable params\n",
      "304 K     Total params\n",
      "1.217     Total estimated model params size (MB)\n",
      "433       Modules in train mode\n",
      "0         Modules in eval mode\n"
     ]
    },
    {
     "data": {
      "application/vnd.jupyter.widget-view+json": {
       "model_id": "a694a0164f7f4c628e3299f67b6d7a26",
       "version_major": 2,
       "version_minor": 0
      },
      "text/plain": [
       "Sanity Checking: |          | 0/? [00:00<?, ?it/s]"
      ]
     },
     "metadata": {},
     "output_type": "display_data"
    },
    {
     "data": {
      "application/vnd.jupyter.widget-view+json": {
       "model_id": "9ae7d1577f5042dbba69f2b5e28416d1",
       "version_major": 2,
       "version_minor": 0
      },
      "text/plain": [
       "Training: |          | 0/? [00:00<?, ?it/s]"
      ]
     },
     "metadata": {},
     "output_type": "display_data"
    },
    {
     "data": {
      "application/vnd.jupyter.widget-view+json": {
       "model_id": "6a786f3150884bd3a196ca2bf88902bf",
       "version_major": 2,
       "version_minor": 0
      },
      "text/plain": [
       "Validation: |          | 0/? [00:00<?, ?it/s]"
      ]
     },
     "metadata": {},
     "output_type": "display_data"
    },
    {
     "name": "stderr",
     "output_type": "stream",
     "text": [
      "INFO:pytorch_lightning.callbacks.early_stopping:Metric val_f1 improved. New best score: 0.190\n"
     ]
    },
    {
     "data": {
      "application/vnd.jupyter.widget-view+json": {
       "model_id": "b700bdac55ca422b831fe8f08a3640ce",
       "version_major": 2,
       "version_minor": 0
      },
      "text/plain": [
       "Validation: |          | 0/? [00:00<?, ?it/s]"
      ]
     },
     "metadata": {},
     "output_type": "display_data"
    },
    {
     "data": {
      "application/vnd.jupyter.widget-view+json": {
       "model_id": "e94f86fc18f14e608b3bb9d7cbcfa263",
       "version_major": 2,
       "version_minor": 0
      },
      "text/plain": [
       "Validation: |          | 0/? [00:00<?, ?it/s]"
      ]
     },
     "metadata": {},
     "output_type": "display_data"
    },
    {
     "data": {
      "application/vnd.jupyter.widget-view+json": {
       "model_id": "25b84bc0c5c542a7b095b6a59997c06a",
       "version_major": 2,
       "version_minor": 0
      },
      "text/plain": [
       "Validation: |          | 0/? [00:00<?, ?it/s]"
      ]
     },
     "metadata": {},
     "output_type": "display_data"
    },
    {
     "data": {
      "application/vnd.jupyter.widget-view+json": {
       "model_id": "8a7bed278e9245c681a6afa8f8849ed2",
       "version_major": 2,
       "version_minor": 0
      },
      "text/plain": [
       "Validation: |          | 0/? [00:00<?, ?it/s]"
      ]
     },
     "metadata": {},
     "output_type": "display_data"
    },
    {
     "data": {
      "application/vnd.jupyter.widget-view+json": {
       "model_id": "c50eb9ce9e9c42febba0505786e60a1a",
       "version_major": 2,
       "version_minor": 0
      },
      "text/plain": [
       "Validation: |          | 0/? [00:00<?, ?it/s]"
      ]
     },
     "metadata": {},
     "output_type": "display_data"
    },
    {
     "data": {
      "application/vnd.jupyter.widget-view+json": {
       "model_id": "9aeee1a184a445009d08537dd3bca207",
       "version_major": 2,
       "version_minor": 0
      },
      "text/plain": [
       "Validation: |          | 0/? [00:00<?, ?it/s]"
      ]
     },
     "metadata": {},
     "output_type": "display_data"
    },
    {
     "name": "stderr",
     "output_type": "stream",
     "text": [
      "INFO:pytorch_lightning.callbacks.early_stopping:Monitored metric val_f1 did not improve in the last 6 records. Best score: 0.190. Signaling Trainer to stop.\n"
     ]
    },
    {
     "data": {
      "application/vnd.jupyter.widget-view+json": {
       "model_id": "9b648b44c8be4e588e17e6ac4d7c7b09",
       "version_major": 2,
       "version_minor": 0
      },
      "text/plain": [
       "Testing: |          | 0/? [00:00<?, ?it/s]"
      ]
     },
     "metadata": {},
     "output_type": "display_data"
    },
    {
     "data": {
      "text/html": [
       "<pre style=\"white-space:pre;overflow-x:auto;line-height:normal;font-family:Menlo,'DejaVu Sans Mono',consolas,'Courier New',monospace\">┏━━━━━━━━━━━━━━━━━━━━━━━━━━━┳━━━━━━━━━━━━━━━━━━━━━━━━━━━┓\n",
       "┃<span style=\"font-weight: bold\">        Test metric        </span>┃<span style=\"font-weight: bold\">       DataLoader 0        </span>┃\n",
       "┡━━━━━━━━━━━━━━━━━━━━━━━━━━━╇━━━━━━━━━━━━━━━━━━━━━━━━━━━┩\n",
       "│<span style=\"color: #008080; text-decoration-color: #008080\">         test_acc          </span>│<span style=\"color: #800080; text-decoration-color: #800080\">    0.20666666328907013    </span>│\n",
       "│<span style=\"color: #008080; text-decoration-color: #008080\">          test_f1          </span>│<span style=\"color: #800080; text-decoration-color: #800080\">    0.20666666328907013    </span>│\n",
       "│<span style=\"color: #008080; text-decoration-color: #008080\">         test_loss         </span>│<span style=\"color: #800080; text-decoration-color: #800080\">     2.831317663192749     </span>│\n",
       "└───────────────────────────┴───────────────────────────┘\n",
       "</pre>\n"
      ],
      "text/plain": [
       "┏━━━━━━━━━━━━━━━━━━━━━━━━━━━┳━━━━━━━━━━━━━━━━━━━━━━━━━━━┓\n",
       "┃\u001b[1m \u001b[0m\u001b[1m       Test metric       \u001b[0m\u001b[1m \u001b[0m┃\u001b[1m \u001b[0m\u001b[1m      DataLoader 0       \u001b[0m\u001b[1m \u001b[0m┃\n",
       "┡━━━━━━━━━━━━━━━━━━━━━━━━━━━╇━━━━━━━━━━━━━━━━━━━━━━━━━━━┩\n",
       "│\u001b[36m \u001b[0m\u001b[36m        test_acc         \u001b[0m\u001b[36m \u001b[0m│\u001b[35m \u001b[0m\u001b[35m   0.20666666328907013   \u001b[0m\u001b[35m \u001b[0m│\n",
       "│\u001b[36m \u001b[0m\u001b[36m         test_f1         \u001b[0m\u001b[36m \u001b[0m│\u001b[35m \u001b[0m\u001b[35m   0.20666666328907013   \u001b[0m\u001b[35m \u001b[0m│\n",
       "│\u001b[36m \u001b[0m\u001b[36m        test_loss        \u001b[0m\u001b[36m \u001b[0m│\u001b[35m \u001b[0m\u001b[35m    2.831317663192749    \u001b[0m\u001b[35m \u001b[0m│\n",
       "└───────────────────────────┴───────────────────────────┘\n"
      ]
     },
     "metadata": {},
     "output_type": "display_data"
    },
    {
     "data": {
      "text/plain": [
       "[{'test_loss': 2.831317663192749,\n",
       "  'test_acc': 0.20666666328907013,\n",
       "  'test_f1': 0.20666666328907013}]"
      ]
     },
     "execution_count": 21,
     "metadata": {},
     "output_type": "execute_result"
    }
   ],
   "source": [
    "# ===== Training =====\n",
    "model_3 = Model_3(num_labels=20,hidden_dim=8,num_layers=15)\n",
    "lit_module_3 = LitModule(model_3,tokenizer,train_dataset=train_dataset.select(range(1000)),val_dataset=val_dataset.select(range(100)),test_dataset=test_dataset.select(range(300)))\n",
    "\n",
    "early_stop_callback = EarlyStopping(\n",
    "    monitor='val_f1',  # Metric to monitor\n",
    "    min_delta=1e-3,           # Minimum change to qualify as an improvement\n",
    "    patience=6,               # Number of epochs with no improvement after which training will be stopped\n",
    "    verbose=True,             # Log information to the console\n",
    "    mode='max'                # 'max' mode means we want to maximize the monitored quantity\n",
    ")\n",
    "\n",
    "trainer_3 = pl.Trainer(\n",
    "    max_epochs=8,\n",
    "    accelerator=device,\n",
    "    logger=False, # Set to True to use a logger for better tracking (e.g., TensorBoard)\n",
    "    callbacks=[early_stop_callback], # Pass the early stopping callback\n",
    "    gradient_clip_val=1.5 # Add gradient clipping\n",
    ")\n",
    "trainer_3.fit(lit_module_3)\n",
    "\n",
    "trainer_3.test(lit_module_3)"
   ]
  },
  {
   "cell_type": "markdown",
   "metadata": {
    "id": "Ki7_sNQv3RR4"
   },
   "source": [
    "##### Lab_6"
   ]
  },
  {
   "cell_type": "code",
   "execution_count": null,
   "metadata": {
    "colab": {
     "base_uri": "https://localhost:8080/",
     "height": 1000,
     "referenced_widgets": [
      "e4823a9b8a09436dade92e39be3d5300",
      "868c58d88f894328b00947df9254c99a",
      "ef9ae6c1c14441ceb41c63dcf3507d69",
      "437332694ca049be918d801e6b4344e9",
      "16205b7d4fcb4c308215d2167edf8d89",
      "a9cb6b8266bb4405b1381cf270cc0325",
      "65e88a6de42648d9a9cb3aae8f95d1c4",
      "7066a085c3b1488e82bcb5fd21c94364",
      "0c96f60e84984e07a46f16610b243342",
      "b0e6c5037ab741318d2f097b6a8a2507",
      "e661714ef2c14e8b9d2aa42ca5b42d71",
      "ca591dccf48645e0bdd9893cb15eb87f",
      "e2348809b7d647c4bb63821267e7f18f",
      "a1c71a7245a24b45b370f6a06340c34d",
      "d9597be9850a47d9b464abc8afb422ea",
      "245b8cc1fc9c4d7ca518b88b8660aac1",
      "f6c31a8c4e6a4322b8a196bade1d9f6d",
      "d3b9d47bf1044119933276ecbac8df71",
      "536068ac1c6f424ea7a4f1026683bfb7",
      "c0852eea5caf4b4a936756d26c6c90ec",
      "5582f8bc587540418124ea9b2066bff8",
      "45c1e5382b014712bccbd4da7aa27df1",
      "579568bbe9094f53a0668ba135ded272",
      "33058f1a17574f63b0ed57d9beab7804",
      "94fce6034217428ca0854ee3174e6308",
      "883b76ccd8734351ab6640fc44ed052a",
      "918fc5d96d1a4286a3e45d77d1ec1bdc",
      "c0c64c6fe7444a1ba7a713229135b3bb",
      "11157c8133d54630a55e869b7f7213b4",
      "85ef096ad37b40c2a0ba7bb953ae8d6c",
      "6311ddca94384abda968a1739bfcaa40",
      "06a769d5c2da47f08d6d2d7247bb5a66",
      "0c94dd48602144cd9374269593d85898",
      "c69b3d81271a4e1cb32d0cf39a8504db",
      "c0e150786f734e4b9122411d65ecacc2",
      "8c1cc8996af14187a47cde4797d1aed3",
      "f03299936bec477596c7d6d1f4d84e92",
      "4df46bbec89f4f218fc0d29ae2efffd4",
      "d2dca0aa209f49389cd2abcb865d7acb",
      "a711661c96bf4ec2b8a30becbba48532",
      "50a6db140eb54364a8c30bd88b368544",
      "d65fe134436a46d3900f74230008a96e",
      "3a91870f74ad4bd48cee6e74e036ef4d",
      "e2b9759d14fc47c3a933bf76c4edd5e8",
      "4fc340f6ee1b4f50ad769d3c6f7bd405",
      "80aca5252d9143fbbf724912f5621a35",
      "adeb641e8e654925a8492f26d49d4c07",
      "eec6915d2ad44d4d8da1d495253f3d9c",
      "6bd308cb13cc4a5d98a6a5f8deeed50e",
      "c6f3271fca4946988a45e6a24548b88d",
      "f136a01e4b92455fac1853c7c32fb569",
      "7c62bfbe198b4843886ec37ff3f78326",
      "ccce29058494447c9554e2a86a3ff067",
      "e2f5ce9bd928418db3fee8d2f0bdbb83",
      "bfa5459d033347aeabef74eeadbf51e2",
      "517db49079f4403e9ca5a52275c6764b",
      "e652ed3fbf694742a79e4bc282835a84",
      "10b8c853323f4e03ac4a40f534fe4274",
      "9c08b0c9185642e38b156e139c836ea2",
      "4faf8c73085b4fc482a512d4438f9b9e",
      "271c4a41d90a40c899b27ee07c994e52",
      "1cdfcbc08ac547dba17c5a72bbcfca18",
      "3fd441cb23804341a98f909b2f8ba49c",
      "15c9f41b7d544bacaed238d03432115a",
      "a70d76d044644d63aadc7df24a6b93ff",
      "56fc7d8fb184444f8f21632f61622679",
      "385bfcf62e954280914dfe8b27aa0fab",
      "68c0e68dbbbb4a71ac4c45a196937b9b",
      "91dc7a22bbe24959a3d3f1c6d81f2e51",
      "50198f3f294d4ea6b64a33a9c098776f",
      "d7d7b05d81bb4166a60a35205d8fe740",
      "d6476cfb1ad34dcaa030f02cd2fbc3ea",
      "932ab583b66f443a8fd0852bd0da3db9",
      "2779537fb89143c8a2e488e78695ffee",
      "ebb42bc136df446085f673114da07d06",
      "0360f13a31954fa0bea58f3b1b2d8a18",
      "6a40d61cbdb34c588f5b30efe05c0dc2",
      "0f8addff26554f3da9c9974a964a54d4",
      "b2ed0a08fded45b5b86907795fdbcc07",
      "9e1242d4b8ad47309847118f774d78be",
      "f8bf80af698746c7b6ac1f71ea089b98",
      "eb7aad6fe38c41cb9a19699c34e5db29",
      "64312c6f85fd48469eb97e042ff10740",
      "ba2525d0cfbd45dd9d66439391c83f85",
      "dc3e60dd7cca469f8bd2c0f7d1d83dd0",
      "15b8de165d264b4c8a20bc7352f7c608",
      "c1f291d47b4743ef812ecacd61f741e2",
      "a20eedeb0d3646a0b46d6cdf54d606e7",
      "50a2b579fadc49f39c7635c8f18c08eb",
      "f394e3255f174438a7a1958376966815",
      "0806a07ce9f54a229d35bec0188d0a60",
      "ed2f7c20f4814e92a8df7f7990865eaa",
      "b401b95abf234fba81eb58c6dcce590f",
      "62235246ad5c483d8ea3117f4eae247c",
      "c8d6d987c0844b4e894811da7bf1632d",
      "d4376104963d41e8a445e6c48d815605",
      "df394c161aec41d498d2fd926f416007",
      "e11cdcbee7a44190a590378e7c56549e",
      "275415a3774e41a0b0360677e8abb808",
      "cf5a57226068448b806a8013ac8bd136",
      "9520567e7e6d4cf99d512f5d0d1576c4",
      "f0e551cd7b694dd0aa61c884f8d41710",
      "df6fdaf2be0e462880aacee10d17906e",
      "8689d29774c3474f9e862b28b05d4967",
      "af7a00ea507142858fdd005de1029176",
      "093aa03ef0604c3db84a66e566217fad",
      "47049e1bacd74774bbd65092cfae7d9f",
      "073a83077b6b49b29dd97f53678f1e67",
      "70aebb885898434bba589621fbb9b067",
      "8d055a1b23a5481e93e1623596278e4a",
      "932c4445a375463e82f4f1fd5204ee63",
      "b64144533a664333b2f07cdaf84bd2ce",
      "e0b1433642ed4da28411c1b42517a06a",
      "5b50e1016ab742368953b57477c62289",
      "39f8ac88872c431ea08d1a26dcc57ea1",
      "5e40f64d038f4248b4ea956dc2350bee",
      "d1a73f021d3f4e3c83c46693538f69b1",
      "98570aecdaa74e5fa9058b05b10a0557",
      "5b4392203c8144daab0c4aa26f4d8efd",
      "5abaeb1cbb914bafbf3fff0737b03ced",
      "0e11813170604028acb99c1ae00ef75d",
      "980de3ae8b0d40a38be00cb6558c1cb1",
      "7d0c131c01934111bad63babd74fa023",
      "84724d86f2264cb28b6c5b6961497276",
      "539ae16038684346b114db81c76d54e5",
      "d381962b7751467e91ca0c3844e00035",
      "7ce7192440a44422a0c0cb56bcdea31b",
      "debe1c18ec9844129f6706bb856d893a",
      "a952ae5ca5b5491ab33782faec56cda6",
      "a8f453ac905849f6ab2a34e83fefb05e",
      "25116680f83a4d1491ba3d29d7daafa5",
      "8f99c16a3e81465e8504c59a369d9494",
      "b3f389ace38148e3b871115f377bfac0",
      "c1bf37b67f9c41fcaf2fa9729dcd0948",
      "f507fb5084f34c01b102ede8d851082f",
      "aa9d0edbed144f83b3689aae62a086a5",
      "87e7bc4830f04a1b808f2107f2a86680",
      "61209c5e0c3e4d4dafb2631970ccee81",
      "1bff288685ca44838e51af071348538a",
      "edac5c6da21f4aa0aa9e365a21df334f",
      "64583b7d07774538a57d841a4ef20d7a",
      "1dd9de9dfda445f5aa0e4264df0ebb2c",
      "23fd987bbb234bcd8135a6fc44cc9c14",
      "995f699d52bb4d3891b306fcc23f1010",
      "b07caa4e059b4b5babec7a534bc7b977",
      "2287c25753a84ae3bc7ece68c07eb298",
      "141e1782c69d4884b437d3776a6c3b07",
      "be9451833db84f66965e1394812c1d92",
      "9fae0883ac7846c88fe819a8063babe9",
      "34fd0b3c5e29405985b1f03962b636ee",
      "daa2ef6dd3df46f59e6e224179955bf1",
      "b68098d8ca0f4f6a9e198c4054a6313d",
      "199c41b82b8a4023b845be5c0cf157ae",
      "8e6c6838d4a24cadbe1e232ea3e1b656",
      "61d5bc95554c4544b8808a3bf6553e3a",
      "322c297daf9f4ec0bdb2d1223f9a268c",
      "3dcdea528e0c4b7986bf3060ef555cce",
      "a778137e02384a16a7c88157cfa2c9be",
      "97923c91716241dcacfcd5a68a76c4df",
      "610bdc386b814827b0873fd144ce328b",
      "0711662d64e94001a5b10907841eaed7",
      "2b844c4ede574e8e9fed35372e6871b2",
      "7f7592f09281466aa49ce0db13e0eff8",
      "bae902e59ba0465d9a4e760d0c2af977",
      "ee49a177698d46978c9bd278fcd21a9f",
      "a5b6a96d85cb44859ba3e7a6b8304e9b",
      "03f9eea13f6a46298752ff467f1e9512",
      "0f41ad65e65940d0af3ddcdb0bd2ac7d",
      "9093a786a84f4f708fa206626b7a0b2d",
      "c0e651998cb549fda7b3b29e1fecd4d9",
      "0b7ff5c0f4424ae9bbb8d7cf3fe13ce2",
      "520ed4eebc6f45a6a78e60ebba2bde8f",
      "b0e951057f404ff3b32d8556dd42b84b",
      "1b906186e1d446b4a524d57a2153ac34",
      "15423e9ee78b4f2c8c62a6e85f74ecc8",
      "a52b7384df4a47658ad68a358ff340e5",
      "bb01ea9bff0e49e09dbb5949dabd230e",
      "61d2f04ef08c4ebab2e3994c755ed01b",
      "45bfe470ce374dd3bb146703d0499fd4",
      "7847f6e2af1a4e1bbd36f81267273c2a",
      "bfea199598334d6d90b7a467a2423681",
      "a9627677060b41b4b65386db29cf04fb",
      "030230c2cf2645419fb4e4d1e13c7ddb",
      "005b16e1d7c74cefa23ebf26aa660066",
      "3667ab51481548a89743a1f3dd7ae2fe",
      "ea75cab61027483b8cffdd5bc62c6300",
      "2b892bf4cc27423b9fa7d12622ad53c2",
      "9c221cd2a2294b0aab88172a016975cb",
      "bf637a1dcf4e4304997dcc83c0b6ab1a",
      "7b8b222c92d54f2d8890e10d7e8f786f",
      "f4407bcda6ab485c9a5174eff7bc56a6",
      "fec8276485e344c8b4063c294cee6070",
      "1688479da2c84b74832fcf400dc81cfb",
      "7ddb222645c74020a0bb733f133bc4f1",
      "7a8261ccec5844679bd10d8f19c53158",
      "3dd07f9fc4d04e85b4cdb9bb2ce35050",
      "7693cc6f670d47c8888154713040e6e5",
      "21e438b5c82c4424bfa722517cc7c36a",
      "513a5b57299d4815aa8d41dc23812100",
      "f21f9eb50ad64c09a15894f3bf43a42c",
      "066947b41a8d43aa8bc0eaea7686ebd2",
      "fdbc7bc1bf794fa98ce5cc814c258d20",
      "6e9ac895742e4406b663a0dca719ad2c",
      "2ccb1a6c8ef84cc2ad2cad7d7431f677",
      "34266cb05862449b8a82861016c1d3cf",
      "7b57688897d940eda89f735e26065746",
      "788d04334097499da17174598432d77e",
      "dcd9e8616c8440cab6b14ac75511f983",
      "b99491b742a2422ea859ccf2faf4b84f",
      "71be25c441b54f2380a7136a672f8c54",
      "2151b777a4564098a4ceeb303c955bd1",
      "149df202ebcd4d1a9b141115ca82638c",
      "f5181b0ffb5f44219cfd229df69f1ae7",
      "f841b11fb86643329845eefbb4d62966",
      "561a2094959c4862ac1acb1725d9cd06",
      "ab22c71cb9cf46ddba43e96924e4e570",
      "48727452f4c947688f3993ab5ec78c2b",
      "039e49d1c65e4e55823519cc22929fa2",
      "af3405408ea446c49e68f952a406ed67",
      "19dc39dd050c4737b853a681f77b9b31",
      "0af380a9af8e488a9afca0f07d2fb9f0",
      "17227b0a3d9846eb91bfac90844ac39e",
      "a802f47a2cfd46ce9ef7ff71eb9eca38",
      "510de9a1bd3747eda00344a43ac7bf06",
      "dfb7adf961bd47a68fc60d08e71c2359",
      "6d5f9d112c054ddeadefdcf3410e31b0",
      "6dbe8c5efe894a32b4fee7a0a7b4c9c4",
      "778e0ba23bd7451680739e69a8895e8e",
      "48d2f388dfac44458b38bca960478ed5",
      "b8c2cf29fb0443a8a25ebb1c830542c6",
      "5d9c2bff65c84546b2cc580659fc966b",
      "45c6588c4b1843b1a23e7dea7a6700b3",
      "54c2e0c9d86c4f63b17f6cbdcdb7dd45",
      "5a504f1570a84de1aeade0d12a5ab748",
      "9d4e74a7c68148c3a1b58e82bbe7d247",
      "cb13ce165b9940b7834e09f8f4816375",
      "aabf68c9adad4a229bd8ab569b4f3004",
      "1eebab707e124025aaf31e59cfe102a8",
      "8ffbfec7a4d04a86b7481204fb01047a",
      "d4571b45763245b186784046b9b3190c",
      "7d6dfd8a15284d37bdd0c1a906b020bf",
      "b49640ed1e074ce3b2a098619cfddb0b",
      "3f80c5cc48ec451a88bf2b97db1ed3b4",
      "2794a642750c42339bca64439e7419ab",
      "dbd1307f31e74ec699cbdc4f5a08e8a4",
      "d20a2d844e2249a3bf04b069840f2834",
      "11e5aed4c4f441c1a825db5f21f48aee",
      "b89a3b3fc73b474ea9338dade01da762",
      "fdad6c868b1f49e9bf369d1c638b8205",
      "bde89a8aecb242bb97c01f0a4a088d22",
      "94641959d2e142bdb06585cfecb94b67",
      "a4dd07af133a403291cfc4550a4002e8",
      "6e8f49e94b8d45f2943114f095146111",
      "54ec28272d4e49f5b3f2745f8ca033e9",
      "a335968ba0f04b589ce735df60d95eab",
      "2675ce9538f2458db1d4e2791696c203",
      "83984dabd06f4d45aa4db3bbed045b2c"
     ]
    },
    "id": "y_V0hgJY3RR6",
    "outputId": "44776142-86e5-416b-8edd-41f2e117eba1"
   },
   "outputs": [
    {
     "metadata": {
      "tags": null
     },
     "name": "stderr",
     "output_type": "stream",
     "text": [
      "INFO:pytorch_lightning.utilities.rank_zero:💡 Tip: For seamless cloud uploads and versioning, try installing [litmodels](https://pypi.org/project/litmodels/) to enable LitModelCheckpoint, which syncs automatically with the Lightning model registry.\n",
      "INFO:pytorch_lightning.utilities.rank_zero:GPU available: False, used: False\n",
      "INFO:pytorch_lightning.utilities.rank_zero:TPU available: False, using: 0 TPU cores\n",
      "INFO:pytorch_lightning.utilities.rank_zero:HPU available: False, using: 0 HPUs\n",
      "INFO:pytorch_lightning.callbacks.model_summary:\n",
      "  | Name           | Type               | Params | Mode \n",
      "--------------------------------------------------------------\n",
      "0 | model          | Model_1            | 271 K  | train\n",
      "1 | loss_fn        | CrossEntropyLoss   | 0      | train\n",
      "2 | train_accuracy | MulticlassAccuracy | 0      | train\n",
      "3 | val_accuracy   | MulticlassAccuracy | 0      | train\n",
      "4 | train_f1       | MulticlassF1Score  | 0      | train\n",
      "5 | val_f1         | MulticlassF1Score  | 0      | train\n",
      "6 | test_accuracy  | MulticlassAccuracy | 0      | train\n",
      "7 | test_f1        | MulticlassF1Score  | 0      | train\n",
      "--------------------------------------------------------------\n",
      "271 K     Trainable params\n",
      "0         Non-trainable params\n",
      "271 K     Total params\n",
      "1.087     Total estimated model params size (MB)\n",
      "292       Modules in train mode\n",
      "0         Modules in eval mode\n"
     ]
    },
    {
     "data": {
      "application/vnd.jupyter.widget-view+json": {
       "model_id": "e4823a9b8a09436dade92e39be3d5300",
       "version_major": 2,
       "version_minor": 0
      },
      "text/plain": [
       "Sanity Checking: |          | 0/? [00:00<?, ?it/s]"
      ]
     },
     "metadata": {},
     "output_type": "display_data"
    },
    {
     "data": {
      "application/vnd.jupyter.widget-view+json": {
       "model_id": "ca591dccf48645e0bdd9893cb15eb87f",
       "version_major": 2,
       "version_minor": 0
      },
      "text/plain": [
       "Training: |          | 0/? [00:00<?, ?it/s]"
      ]
     },
     "metadata": {},
     "output_type": "display_data"
    },
    {
     "data": {
      "application/vnd.jupyter.widget-view+json": {
       "model_id": "579568bbe9094f53a0668ba135ded272",
       "version_major": 2,
       "version_minor": 0
      },
      "text/plain": [
       "Validation: |          | 0/? [00:00<?, ?it/s]"
      ]
     },
     "metadata": {},
     "output_type": "display_data"
    },
    {
     "data": {
      "application/vnd.jupyter.widget-view+json": {
       "model_id": "c69b3d81271a4e1cb32d0cf39a8504db",
       "version_major": 2,
       "version_minor": 0
      },
      "text/plain": [
       "Validation: |          | 0/? [00:00<?, ?it/s]"
      ]
     },
     "metadata": {},
     "output_type": "display_data"
    },
    {
     "data": {
      "application/vnd.jupyter.widget-view+json": {
       "model_id": "4fc340f6ee1b4f50ad769d3c6f7bd405",
       "version_major": 2,
       "version_minor": 0
      },
      "text/plain": [
       "Validation: |          | 0/? [00:00<?, ?it/s]"
      ]
     },
     "metadata": {},
     "output_type": "display_data"
    },
    {
     "data": {
      "application/vnd.jupyter.widget-view+json": {
       "model_id": "517db49079f4403e9ca5a52275c6764b",
       "version_major": 2,
       "version_minor": 0
      },
      "text/plain": [
       "Validation: |          | 0/? [00:00<?, ?it/s]"
      ]
     },
     "metadata": {},
     "output_type": "display_data"
    },
    {
     "data": {
      "application/vnd.jupyter.widget-view+json": {
       "model_id": "385bfcf62e954280914dfe8b27aa0fab",
       "version_major": 2,
       "version_minor": 0
      },
      "text/plain": [
       "Validation: |          | 0/? [00:00<?, ?it/s]"
      ]
     },
     "metadata": {},
     "output_type": "display_data"
    },
    {
     "data": {
      "application/vnd.jupyter.widget-view+json": {
       "model_id": "0f8addff26554f3da9c9974a964a54d4",
       "version_major": 2,
       "version_minor": 0
      },
      "text/plain": [
       "Validation: |          | 0/? [00:00<?, ?it/s]"
      ]
     },
     "metadata": {},
     "output_type": "display_data"
    },
    {
     "data": {
      "application/vnd.jupyter.widget-view+json": {
       "model_id": "50a2b579fadc49f39c7635c8f18c08eb",
       "version_major": 2,
       "version_minor": 0
      },
      "text/plain": [
       "Validation: |          | 0/? [00:00<?, ?it/s]"
      ]
     },
     "metadata": {},
     "output_type": "display_data"
    },
    {
     "data": {
      "application/vnd.jupyter.widget-view+json": {
       "model_id": "cf5a57226068448b806a8013ac8bd136",
       "version_major": 2,
       "version_minor": 0
      },
      "text/plain": [
       "Validation: |          | 0/? [00:00<?, ?it/s]"
      ]
     },
     "metadata": {},
     "output_type": "display_data"
    },
    {
     "data": {
      "application/vnd.jupyter.widget-view+json": {
       "model_id": "932c4445a375463e82f4f1fd5204ee63",
       "version_major": 2,
       "version_minor": 0
      },
      "text/plain": [
       "Validation: |          | 0/? [00:00<?, ?it/s]"
      ]
     },
     "metadata": {},
     "output_type": "display_data"
    },
    {
     "data": {
      "application/vnd.jupyter.widget-view+json": {
       "model_id": "980de3ae8b0d40a38be00cb6558c1cb1",
       "version_major": 2,
       "version_minor": 0
      },
      "text/plain": [
       "Validation: |          | 0/? [00:00<?, ?it/s]"
      ]
     },
     "metadata": {},
     "output_type": "display_data"
    },
    {
     "data": {
      "application/vnd.jupyter.widget-view+json": {
       "model_id": "b3f389ace38148e3b871115f377bfac0",
       "version_major": 2,
       "version_minor": 0
      },
      "text/plain": [
       "Validation: |          | 0/? [00:00<?, ?it/s]"
      ]
     },
     "metadata": {},
     "output_type": "display_data"
    },
    {
     "data": {
      "application/vnd.jupyter.widget-view+json": {
       "model_id": "995f699d52bb4d3891b306fcc23f1010",
       "version_major": 2,
       "version_minor": 0
      },
      "text/plain": [
       "Validation: |          | 0/? [00:00<?, ?it/s]"
      ]
     },
     "metadata": {},
     "output_type": "display_data"
    },
    {
     "data": {
      "application/vnd.jupyter.widget-view+json": {
       "model_id": "61d5bc95554c4544b8808a3bf6553e3a",
       "version_major": 2,
       "version_minor": 0
      },
      "text/plain": [
       "Validation: |          | 0/? [00:00<?, ?it/s]"
      ]
     },
     "metadata": {},
     "output_type": "display_data"
    },
    {
     "data": {
      "application/vnd.jupyter.widget-view+json": {
       "model_id": "a5b6a96d85cb44859ba3e7a6b8304e9b",
       "version_major": 2,
       "version_minor": 0
      },
      "text/plain": [
       "Validation: |          | 0/? [00:00<?, ?it/s]"
      ]
     },
     "metadata": {},
     "output_type": "display_data"
    },
    {
     "data": {
      "application/vnd.jupyter.widget-view+json": {
       "model_id": "bb01ea9bff0e49e09dbb5949dabd230e",
       "version_major": 2,
       "version_minor": 0
      },
      "text/plain": [
       "Validation: |          | 0/? [00:00<?, ?it/s]"
      ]
     },
     "metadata": {},
     "output_type": "display_data"
    },
    {
     "data": {
      "application/vnd.jupyter.widget-view+json": {
       "model_id": "9c221cd2a2294b0aab88172a016975cb",
       "version_major": 2,
       "version_minor": 0
      },
      "text/plain": [
       "Validation: |          | 0/? [00:00<?, ?it/s]"
      ]
     },
     "metadata": {},
     "output_type": "display_data"
    },
    {
     "data": {
      "application/vnd.jupyter.widget-view+json": {
       "model_id": "513a5b57299d4815aa8d41dc23812100",
       "version_major": 2,
       "version_minor": 0
      },
      "text/plain": [
       "Validation: |          | 0/? [00:00<?, ?it/s]"
      ]
     },
     "metadata": {},
     "output_type": "display_data"
    },
    {
     "data": {
      "application/vnd.jupyter.widget-view+json": {
       "model_id": "f21f9eb50ad64c09a15894f3bf43a42c",
       "version_major": 2,
       "version_minor": 0
      },
      "text/plain": [
       "Validation: |          | 0/? [00:00<?, ?it/s]"
      ]
     },
     "metadata": {},
     "output_type": "display_data"
    },
    {
     "data": {
      "application/vnd.jupyter.widget-view+json": {
       "model_id": "066947b41a8d43aa8bc0eaea7686ebd2",
       "version_major": 2,
       "version_minor": 0
      },
      "text/plain": [
       "Validation: |          | 0/? [00:00<?, ?it/s]"
      ]
     },
     "metadata": {},
     "output_type": "display_data"
    },
    {
     "data": {
      "application/vnd.jupyter.widget-view+json": {
       "model_id": "fdbc7bc1bf794fa98ce5cc814c258d20",
       "version_major": 2,
       "version_minor": 0
      },
      "text/plain": [
       "Validation: |          | 0/? [00:00<?, ?it/s]"
      ]
     },
     "metadata": {},
     "output_type": "display_data"
    },
    {
     "data": {
      "application/vnd.jupyter.widget-view+json": {
       "model_id": "6e9ac895742e4406b663a0dca719ad2c",
       "version_major": 2,
       "version_minor": 0
      },
      "text/plain": [
       "Validation: |          | 0/? [00:00<?, ?it/s]"
      ]
     },
     "metadata": {},
     "output_type": "display_data"
    },
    {
     "data": {
      "application/vnd.jupyter.widget-view+json": {
       "model_id": "f841b11fb86643329845eefbb4d62966",
       "version_major": 2,
       "version_minor": 0
      },
      "text/plain": [
       "Validation: |          | 0/? [00:00<?, ?it/s]"
      ]
     },
     "metadata": {},
     "output_type": "display_data"
    },
    {
     "data": {
      "application/vnd.jupyter.widget-view+json": {
       "model_id": "dfb7adf961bd47a68fc60d08e71c2359",
       "version_major": 2,
       "version_minor": 0
      },
      "text/plain": [
       "Validation: |          | 0/? [00:00<?, ?it/s]"
      ]
     },
     "metadata": {},
     "output_type": "display_data"
    },
    {
     "data": {
      "application/vnd.jupyter.widget-view+json": {
       "model_id": "cb13ce165b9940b7834e09f8f4816375",
       "version_major": 2,
       "version_minor": 0
      },
      "text/plain": [
       "Validation: |          | 0/? [00:00<?, ?it/s]"
      ]
     },
     "metadata": {},
     "output_type": "display_data"
    },
    {
     "name": "stderr",
     "output_type": "stream",
     "text": [
      "INFO:pytorch_lightning.utilities.rank_zero:`Trainer.fit` stopped: `max_epochs=24` reached.\n"
     ]
    },
    {
     "data": {
      "application/vnd.jupyter.widget-view+json": {
       "model_id": "11e5aed4c4f441c1a825db5f21f48aee",
       "version_major": 2,
       "version_minor": 0
      },
      "text/plain": [
       "Testing: |          | 0/? [00:00<?, ?it/s]"
      ]
     },
     "metadata": {},
     "output_type": "display_data"
    },
    {
     "data": {
      "text/html": [
       "<pre style=\"white-space:pre;overflow-x:auto;line-height:normal;font-family:Menlo,'DejaVu Sans Mono',consolas,'Courier New',monospace\">┏━━━━━━━━━━━━━━━━━━━━━━━━━━━┳━━━━━━━━━━━━━━━━━━━━━━━━━━━┓\n",
       "┃<span style=\"font-weight: bold\">        Test metric        </span>┃<span style=\"font-weight: bold\">       DataLoader 0        </span>┃\n",
       "┡━━━━━━━━━━━━━━━━━━━━━━━━━━━╇━━━━━━━━━━━━━━━━━━━━━━━━━━━┩\n",
       "│<span style=\"color: #008080; text-decoration-color: #008080\">         test_acc          </span>│<span style=\"color: #800080; text-decoration-color: #800080\">    0.23000000417232513    </span>│\n",
       "│<span style=\"color: #008080; text-decoration-color: #008080\">          test_f1          </span>│<span style=\"color: #800080; text-decoration-color: #800080\">    0.23000000417232513    </span>│\n",
       "│<span style=\"color: #008080; text-decoration-color: #008080\">         test_loss         </span>│<span style=\"color: #800080; text-decoration-color: #800080\">    2.7519705295562744     </span>│\n",
       "└───────────────────────────┴───────────────────────────┘\n",
       "</pre>\n"
      ],
      "text/plain": [
       "┏━━━━━━━━━━━━━━━━━━━━━━━━━━━┳━━━━━━━━━━━━━━━━━━━━━━━━━━━┓\n",
       "┃\u001b[1m \u001b[0m\u001b[1m       Test metric       \u001b[0m\u001b[1m \u001b[0m┃\u001b[1m \u001b[0m\u001b[1m      DataLoader 0       \u001b[0m\u001b[1m \u001b[0m┃\n",
       "┡━━━━━━━━━━━━━━━━━━━━━━━━━━━╇━━━━━━━━━━━━━━━━━━━━━━━━━━━┩\n",
       "│\u001b[36m \u001b[0m\u001b[36m        test_acc         \u001b[0m\u001b[36m \u001b[0m│\u001b[35m \u001b[0m\u001b[35m   0.23000000417232513   \u001b[0m\u001b[35m \u001b[0m│\n",
       "│\u001b[36m \u001b[0m\u001b[36m         test_f1         \u001b[0m\u001b[36m \u001b[0m│\u001b[35m \u001b[0m\u001b[35m   0.23000000417232513   \u001b[0m\u001b[35m \u001b[0m│\n",
       "│\u001b[36m \u001b[0m\u001b[36m        test_loss        \u001b[0m\u001b[36m \u001b[0m│\u001b[35m \u001b[0m\u001b[35m   2.7519705295562744    \u001b[0m\u001b[35m \u001b[0m│\n",
       "└───────────────────────────┴───────────────────────────┘\n"
      ]
     },
     "metadata": {},
     "output_type": "display_data"
    },
    {
     "data": {
      "text/plain": [
       "[{'test_loss': 2.7519705295562744,\n",
       "  'test_acc': 0.23000000417232513,\n",
       "  'test_f1': 0.23000000417232513}]"
      ]
     },
     "execution_count": 24,
     "metadata": {},
     "output_type": "execute_result"
    }
   ],
   "source": [
    "# ===== Training =====\n",
    "model_1 = Model_1(num_labels=20,hidden_dim=8,num_layers=20)\n",
    "lit_module_1 = LitModule(model_1,tokenizer,train_dataset=train_dataset.select(range(1000)),val_dataset=val_dataset.select(range(100)),test_dataset=test_dataset.select(range(200)))\n",
    "\n",
    "early_stop_callback = EarlyStopping(\n",
    "    monitor='val_f1',  # Metric to monitor\n",
    "    min_delta=1e-3,           # Minimum change to qualify as an improvement\n",
    "    patience=3,               # Number of epochs with no improvement after which training will be stopped\n",
    "    verbose=True,             # Log information to the console\n",
    "    mode='max'                # 'max' mode means we want to maximize the monitored quantity\n",
    ")\n",
    "\n",
    "trainer_1 = pl.Trainer(\n",
    "    max_epochs=24,\n",
    "    accelerator=device,\n",
    "    logger=False, # Set to True to use a logger for better tracking (e.g., TensorBoard)\n",
    "    #callbacks=[early_stop_callback], # Pass the early stopping callback\n",
    "    gradient_clip_val=1.2 # Add gradient clipping\n",
    ")\n",
    "trainer_1.fit(lit_module_1)\n",
    "\n",
    "trainer_1.test(lit_module_1)"
   ]
  },
  {
   "cell_type": "code",
   "execution_count": null,
   "metadata": {
    "colab": {
     "base_uri": "https://localhost:8080/",
     "height": 1000,
     "referenced_widgets": [
      "ab989e3dd6a949908aefa073bf43ca85",
      "a674af6839f240a89026882d92cea813",
      "fb2ffeb7074548c287f22fcd0e1da594",
      "ee645f9e08c646e8a7446b7dfa56b475",
      "6df63f97b7be4162ac1d1d25a72ce7cc",
      "1c2cf02e3919487eaef3898170236e92",
      "82fb85b3ac1e430a9e03a82af590acec",
      "92f90a8d00124f5886804bdf8894017e",
      "b0e783dc0cf94d76899cb5918707f3d0",
      "3d6f67bdde794d5fa8922b946823c814",
      "6264e13f66474b1cb921801bd24c87ba",
      "b3f202e14bfb4ffa818b7b2fe5e5036b",
      "5f76d2a18d4e4e48a7e22937ec92126c",
      "71a4e0cae95f4c3595b30f95de0ff4ba",
      "93140d5e9ed84c89bedeb6eed697f005",
      "877b2f92555d46b88cfbb2a1a25d4c62",
      "6c9b34f150cd4b3e9dc07ed27845041f",
      "a3dc142b44ac4c8a989a75aa02ecd876",
      "9c13b4f70619405a945ec54c8e78a196",
      "6e8418b163bf405a96e64a2cbff309a9",
      "f85e54f49f0b46ba9d2d29dd207f73f5",
      "f8d918c0eaf840c3bdd2d264205aef93",
      "3e779646046843a3baa3235c7e61842a",
      "bc52c4944f504bf2973531d06e6526bc",
      "66793bb0d0c9406cada576aad217b151",
      "9d9bcc7e166c499aa7c6d154542823bc",
      "5c786cb7905d4172a05024165eb16631",
      "9720607858db43bb8acd25a66ea43cd5",
      "729c6fb0e75c4894a6fc5a1955cbb1f8",
      "3b1cba3374094410b1a715fa1d9e6868",
      "42cd7011caa849b19fd8fdd409e03c9a",
      "756c981d47ae489d956ea802f4d13f50",
      "bfd9571166884d45b2f18c9661fcc1e1",
      "9fb07ebce65f46bb910b585c9f61aae7",
      "f2d2291ea09c44e7b124b5e8fba268a7",
      "f70120189f87414ebf77e783e757e18d",
      "2e359d379e694027a92090e85c2914ca",
      "7e0e04467fb14136afed763dd8285128",
      "ea918dc524614d3383fb273981fc9dc0",
      "60c6b48111a343669fab75c681103c16",
      "c9b3533e82e24d1bb1a1bc2a2271648f",
      "221c3aa1e0454e42a0ddd714ac814cbd",
      "e9282c2fa3624e09ba2ad75164339fd6",
      "303da09d2c034773a8253ad069011dd3",
      "caea7eeaa25c47db8c401d9c0d9489c7",
      "d1e6af8da75a4b329c46792a25d67be3",
      "477ad04c66c64ae6b25f5418e5092741",
      "547af349768743e7b1e572b73c174cd0",
      "be1d68911d3647b39e3c20119baa811d",
      "85452cf08e804ece905001f81888dbfe",
      "cca2dd927f2a45b78f0373d2e87d4a3d",
      "21d50ce75d8b4474aaa91486360583c1",
      "8cf34f2b4c4c4b53bb2943feb60bcd66",
      "f30841ce78cd4baa88a9f84896e48c7e",
      "0f03888a2258471cb87e3830bebd05f4",
      "349799ec3b03466b8094fb243b3a442a",
      "105de3a3f95f44dca993f70d7a0c74d2",
      "b7aa986068dc45e6a16dd6d11c5398d1",
      "6be47a1bd4104874aea625dd35837210",
      "8f3f745382924912960e6d29307d9151",
      "6abd4771e2b04cc89fdec7ff953419e6",
      "16e0f2a7772b44028701d7ce254c2074",
      "8a740c93d5054df8ae6459d7b237fc5b",
      "fcfc2580909544ed8206d4ba00e7432b",
      "d97c67f3be8e489caff918b883ee9b1a",
      "d0280288ad5b4637a16d60afb987969a",
      "f4d4f62322e348aa9e1b1df579d330eb",
      "3afd80413e3f48a09d91b168a9f07854",
      "cec59f64c5364fdda6933ba4cf8b7099",
      "a805c68dde544a2a88356a2025fbda4d",
      "8a30dd9f24ba4cc388d0802502d025ad",
      "8986888d58b64cd3a8ef056866b6df18",
      "c39b44960a8648d7868f2977fff470bf",
      "7ac49680a36e4e06a9628ccd472d04ca",
      "31f9b99844b24ce0b003a01d1e35bd12",
      "af4584e376d24903b242556f3d1c10b2",
      "b1e8b342a2c04c2fb50a997be4dd4e13",
      "30ad713850fa4aeb8831969c90080dee",
      "21547752d78e4dea998d927f4b2c9576",
      "836fe9494e3f410891b4b5e16584ec24",
      "cb684b51abb4426ca38654f178b329d8",
      "447351139ae84ed385e4f9b239333eca",
      "ac55b8077b7847779d4e78c40f5254b0",
      "b0b450f02154466aa5726c8ab824db4a",
      "74016295e78d4a0883977d118c407b86",
      "c0bc6ba0001d4095b4c37cb90254567a",
      "3475f62e8a014d90b1d7da553207f3e6",
      "f3d819fa87674867b1a5be33d54cfeea",
      "776b429afab5451a893b7341b0b70986",
      "4902875507544b49a21421c11e579036",
      "bda50104d02345f299fc111c3de08e98",
      "af80393798a54e5d9d6b4281c837c2c5",
      "29f62490eafa40af8b6180f534ecfc4e",
      "11d0404ef55b43208b57e7b4f262faa5",
      "6bf5280bfbf949f4a85607f8fc244cf5",
      "f9c54a860bb14a218ae89746c5bbeff3",
      "134efdca40254fa6977b1efe84c03aff",
      "c3e4545350124525b68e44a6c0d4fec5",
      "5f6b24d47a004dcbbe4a6a8165b0b2c8",
      "3ac21ff34d854b95b6b3952c1bf3cdac",
      "e2371be22c6747179ffb749384ca82bc",
      "90f3f5f03e384bb2b3855ea08a64e203",
      "8c9adeffba2e4adfaf8e7b4b1fe3b822",
      "a7fb01debfb145ceadb2595eb661385b",
      "a3847f5738a5415da04b98b61d4d9739",
      "ab06827f65bf45268582977adfa18c32",
      "e2dd95d3a4b2413d8b28ffc36235e106",
      "c711b6bd919e4c69a06d9b6a30fc059e",
      "9b0f143874f3419da298c792ebc991df",
      "3726453cc6624edf8c7859445f3929a3",
      "766d87eaa5e84292b35a0bf52faa97ae",
      "79fad2cf4bb94050a667f605586b598f",
      "9281bc0f5b54465cac4642b7531e4481",
      "1439eee2ee6a4754b10eedfea749c239",
      "8eafb844b35141798694935d136db88b",
      "489153fb33bc409a9a706afe608ba5c2",
      "5f8910cb5a8346aa8ccece7042b11a14",
      "27d393d040d44794aea56f8d6ea2c7cc",
      "174616abc90c4b9f83466c14d66be46a",
      "08386fe40ab4493fa56089732099d7cd",
      "6bc959bc454b40dd8649526bc43a0837",
      "ca121ba069644ac3850492b05dd0afe3",
      "ee8b91257b4c413282771e83926e33ac",
      "a22b737e3dab4ed2b56d01312583c1af",
      "69d7e2001b814d8c9538ad823747592d",
      "5683e5def3ab44f3aa9076a68cc7f74c",
      "af0f0d2ed5e14e7b8347bd2fe3afd09d",
      "4e5057bc40894f69ae53ef2d416c2e17",
      "30c40b8d483f4dd6b568a77d098759ef",
      "82b11c1c1512487ea8108194ab9247ea",
      "945a8919dbc84448b05854e15516cac8",
      "b809e56e94074f0f954b5ff0f18e0b1f",
      "0a03f093a7bb453193f5b6ebecf1bf8e",
      "d7f65a13db1a4d99b89b7ff3066633eb",
      "76f2e306bf2e47b19427446e3fb9d26a",
      "84156e3c94974ad486f7805beea300f4",
      "37e3ead19fdd4b059ae87627b534dcf5",
      "f46bfba6ba6b426584d27a656000a24d",
      "ba98d36ac90a403ea434d3d1dc307e69",
      "4bf39b61ba5641c7bba7241c7b6b8739",
      "d1030de912734d639ab75faf910831bb",
      "d42cc7d435a54f93ab151bbb9369b067",
      "15c5b712a9b24526b2d05b69fa2e5f32",
      "560bcc5ea63a48c4a03b68864a7f5073",
      "aa62adedbd02402a8f9454d2e139169c",
      "35c9b5eb5cbf401fb4d1e17be6b4d41f",
      "93848afe5bea4c088c3042a5f6ebd7c1",
      "8f718076fde44bec991a6803b9459c76",
      "8f5408cd5ba64a529d67718206351de1",
      "14ed1e4142fa4b9f9086ee63c4275724",
      "8efd5d715ca44e0cbc5086958115c8af",
      "589a24c545f04ea19ce86358dd501d36",
      "5fa401eaf05947cfaa5d6556d4856c4d",
      "844287b660274f4792439ef22d61f0a2",
      "e541c71335c54d388442f32a8771df32",
      "cbf342e8981d41f982231f674919174b",
      "27ba89ddd3844dc3b356a5e77e502468",
      "2ef1271640cb457eb12b90c2dbc19ffb",
      "752b8fe3dcc04ed9a549677915602089",
      "5e56b4cbf6624cd89a9e0fff37675ff7",
      "736cb3e1bfb84894b1385d593c94fb4a",
      "1584fa127c4547dbb4a6a67107ca8db3",
      "ccf8cf4b2cf445328d6440a3768c840f",
      "4837958df480441ba41bc148a4992338",
      "e43d98db251f49848a20e51f85a0cfbf",
      "fbda1e63a12f4ecea3ce561b2570764a",
      "7402772ed499412c9cdaf0265448dde5",
      "a83b4888e1164f70984c9276f8ffee03",
      "1bb45cb681d14827b7b4c85c357bab1a",
      "89548213d7bd4ace98d1a05aa7952799",
      "107bef63c226430fa4fb13587f7f9a9f",
      "1e11e68a92994f20813e3ec15774650e",
      "2529211cba6e40e98394a0d141612525",
      "bcc82e98f46248769a8b4880d95e6e02",
      "3636d30a33ec4a429cb456751ca28647",
      "68af79640870411ab66bd0a0df661fa8",
      "b89d2efb31b8439f947889db66e36f0d",
      "d2bb84d53986425ca808c3f1077810e0",
      "d92ed0c8889941ba9ba54b39693e6847",
      "d954d51189a44332a671153ba27a77fc",
      "1dba613d1d9d40fd82c37d97bdf2410d",
      "c4fd9143aea74e87bd6d843ea02c4783",
      "243339514e934531a970d33cd83f1912",
      "7c24c9895fd14e6d92d0679f013016a8",
      "5412ca7adfcf4e4b82ea80c66d9b6517",
      "c4103727b6cb4a52916d61342a3caf8b",
      "ca045a5e6f584a07b55f9e750055780f",
      "6d3a1f5e529449c3a0ca18d2aec8ce23",
      "55ee73476c5a43afa2ab090ca07d9476",
      "2436e6cfd52a4be090c682533765625c",
      "4636ad00b3d746ae848ab5944717aa67",
      "e62545f048554a789d016716d5e41d95",
      "75911bf1ddf9411fbc0a5fccaf6fa1ca",
      "63f021a13f524a83b5a2c4335060f831",
      "2fc62fe903e2445f8acaa271b2299392",
      "c10097e9d0fd4e77a1ae8316ede9e182",
      "6bf7d7d3cebc495aaa1100810a2e4d3e",
      "2885acb131ef416aad2435d75c0ab32c",
      "36251f639aca4ce5825098c16e0c1058",
      "91a69d79d015461c9d40dcf5cb17f66d",
      "58036ca45ac04c4fb4a9552b58b685e0",
      "03812e26f14f46709ca030d53d837544",
      "b1319208c4ac4054b2f32b0827679a1a",
      "c26fcc1bfe2242bb9de5fcb72cefc0b1",
      "d340f631dcda4205942bcd3d82755e81",
      "8f8114ea4c6941679a9f533abd040ce0",
      "8e277d367b3f4c72924311e8b050e996",
      "3b4d4173cb3b4c05ba6908fa2dc47f94",
      "568500933b98409a9a825f6029d21f7e",
      "e6b0cd39c8e5413486291b4ad6364a06",
      "48602702bd7b41f392b8b3fe8877320c",
      "d77188f7f986417f9822eb4072c80393",
      "e33d24e631e2466eaaa0f1e26db45b95",
      "5c0bdde1695c449fa4bd641cbf1b928b",
      "181f24f816554441b8a22d82431be0de",
      "e3aa5592d2aa4e828f42cd679591c98e",
      "b2bff8cefa484541b0e113b71f0b87c3",
      "cd2cfe2def3d44da998b5d19bc06cd46",
      "f2419a14269a4b5d9846cfb5020509e0",
      "87572600c36543e3a8d0103fd5ad1556",
      "2dd4255f53ef41f3b2ee414992cb0044",
      "63fcb7b3724a450f8da18b4ec85fa7ab",
      "f263020315364b51a6874e46469b754f",
      "2439cb6304754e0385198886e2fae5e0",
      "ca017c418c18473299c106b164c9d8f9",
      "1fd42f508ffb456993e06f6d5c4d4c9a",
      "9546de3577504d7e8cce4247266ac45d",
      "c6c6953d5ace452dbf3c6a0c417cc5bd",
      "b1d1ed1306b74cabb142a89aa922a37b",
      "7800e84af285419fb1b3ecac29ba9c55",
      "566d1ca654af4b53a6296ac9f5138062",
      "e22e1eef9e37428d9a72cd2255711cc9",
      "e0a3a2725a7a4a4393587b295582d234",
      "187eb3fa64d2445f9bb00872f7fbbb80",
      "12fb012358064494b75c05ecbea913d5",
      "5aa7a5ae720e421eb066e142063cd510",
      "6b7c851792e741519d1f29bf991b85ca",
      "d4984a1b95df4750819995e2019d1f99",
      "66c6f2c7f2f740c691938b478d424d20",
      "3f17a640fd3e4bb0893e447acef2a3ad",
      "deb3e9d2a01e41bca0b2f3e8cabf4fa1",
      "78c616523bb848d8a76bb77f37758c99",
      "cf760bdb808b486ea22acf11776d62df",
      "be8b496f79d2421aad1687b2de2f7989",
      "64143b8b94af447a940a0c55af7b5a49",
      "fca23aba209d4d088802cfe25f13196d",
      "f755a59beb7743e1adc5480fb30de322",
      "9fdb306d382c4477af739e7b6c8167a0",
      "c86d6694e12847bb9624ef5eea2fc999",
      "035146045a8341dda0b71ac545864bdf",
      "a7474bff0dd0464eb6b9ea3cd07d2376",
      "ca82f582d7f94860a59e567e75f15893",
      "69aee40909f447e28a0fa833a4049745",
      "b05fd114c45e4c2cb795e9e452c66a77",
      "4dd1415059664701a2374d67e6f52054",
      "a60778978d914e428a9036f405c0ce9c",
      "ca8fdc77f9c34059ae5dfb1e8cc74ee6",
      "2bcad9521a3f4837b37e05709a0d5f01",
      "d235ba310163458cb4da6717501a70da",
      "3a22f3565660490fa1fa8ff0ff6a8fd6",
      "df0d60bc65fb4114af90e8ed03363555",
      "376197f99cd34a0fa1cd143dd999329c",
      "ae2e8708250a4985bd9efec7dd3582f9",
      "98b541bd1eea4fc7b7cd0462853d8912",
      "beb5ae818fff4f4eaece776fc662aaac",
      "401059845620449ba8a6b4116ca31e90",
      "4f34a7e6b28349b9bea1f4f64d3e3cc0",
      "53c9ab68f66546809ad42ca01d29b7f0",
      "1d39aecec88845648b10fc2cbfad59b8",
      "7fcfedce80064d0eb578fc0a8799996e",
      "56673a5c5c094fabb29c89e97e3d3206",
      "58b81ddad9e348f79e2a30d96f4a0419",
      "2e0e883499f04a2284b71ac5afcd9739",
      "fbfd1bfbe5ce4952bef53be9073500fe",
      "5178f4a7e958457a8ae14270ccd20c97",
      "96b395b991fa49ebab32cdc5fd2a08b9",
      "1b01b761fd2a40c590738873870a631f",
      "1efb52974e4645c3b68b3efd51ca3a80",
      "119d1c9f4de140c79712a8154dd75ea3",
      "1f4dbc53a4a24478ac10cbc99234ae52",
      "802a810e3433464f973863c5bf45061d",
      "c8d065685c184befa371f58cc96cc073",
      "b33997236e00418c864b8a39f79fdbd2",
      "1ee526a78b00449aa4b831b476b0ea11",
      "db8bbc3a209b4f139dc73c974c017775",
      "662baa72a61a47a4ad85f8df5c522a20",
      "3dc5c18245b04e66a550b0c786fce7d2",
      "b70d13ca9ccb47dcbe02ce2cd627d733",
      "fcb839880c5e4b5689c551672c05a1de",
      "51f90ba8a5fe420cae08b5b30cd3801a",
      "8db442bf0f384e6b8f4b1effb58801a0",
      "c989b00e792846a587b791e7f9394654",
      "d41e69f0cae44e999c3ce436ce1d39da",
      "3bbc62fbb00c4f41ad972b2057d54d85",
      "f124955ee53b4ece80ef3eebcb0c25c0",
      "6b0900ba9eef482397583bf30a77c3c9",
      "3fb0b1c6220f46ffb3d3924959c3b806",
      "871321551a054902b475e15ecf8757a8",
      "44aaf64c52d14db88838bcc4084279d7",
      "353f7acb5e2e46b490f140164270342a",
      "4ef1fd2fcc804c68b7ee9594a5572562",
      "4d45462bfc574f3683699bace57a3a26",
      "b0a7330f5a1942029a65c811419f15db",
      "d2a3e6551517466ca8181ec73784c6e5",
      "ab76d2ab58194352b823bd5a3856c709",
      "18511b5c0db6491c98c925ca52ada05d",
      "d72ee505c3434a15bf9bec095411dc43",
      "d5a1a033f32c4d44a8f01a427540ca28"
     ]
    },
    "id": "KOxA5upB3RR6",
    "outputId": "6d781c21-63d0-4e15-d4a5-8a9be2356e7c"
   },
   "outputs": [
    {
     "metadata": {
      "tags": null
     },
     "name": "stderr",
     "output_type": "stream",
     "text": [
      "INFO:pytorch_lightning.utilities.rank_zero:💡 Tip: For seamless cloud uploads and versioning, try installing [litmodels](https://pypi.org/project/litmodels/) to enable LitModelCheckpoint, which syncs automatically with the Lightning model registry.\n",
      "INFO:pytorch_lightning.utilities.rank_zero:GPU available: False, used: False\n",
      "INFO:pytorch_lightning.utilities.rank_zero:TPU available: False, using: 0 TPU cores\n",
      "INFO:pytorch_lightning.utilities.rank_zero:HPU available: False, using: 0 HPUs\n",
      "INFO:pytorch_lightning.callbacks.model_summary:\n",
      "  | Name           | Type               | Params | Mode \n",
      "--------------------------------------------------------------\n",
      "0 | model          | Model_2            | 131 K  | train\n",
      "1 | loss_fn        | CrossEntropyLoss   | 0      | train\n",
      "2 | train_accuracy | MulticlassAccuracy | 0      | train\n",
      "3 | val_accuracy   | MulticlassAccuracy | 0      | train\n",
      "4 | train_f1       | MulticlassF1Score  | 0      | train\n",
      "5 | val_f1         | MulticlassF1Score  | 0      | train\n",
      "6 | test_accuracy  | MulticlassAccuracy | 0      | train\n",
      "7 | test_f1        | MulticlassF1Score  | 0      | train\n",
      "--------------------------------------------------------------\n",
      "131 K     Trainable params\n",
      "0         Non-trainable params\n",
      "131 K     Total params\n",
      "0.525     Total estimated model params size (MB)\n",
      "154       Modules in train mode\n",
      "0         Modules in eval mode\n"
     ]
    },
    {
     "data": {
      "application/vnd.jupyter.widget-view+json": {
       "model_id": "ab989e3dd6a949908aefa073bf43ca85",
       "version_major": 2,
       "version_minor": 0
      },
      "text/plain": [
       "Sanity Checking: |          | 0/? [00:00<?, ?it/s]"
      ]
     },
     "metadata": {},
     "output_type": "display_data"
    },
    {
     "data": {
      "application/vnd.jupyter.widget-view+json": {
       "model_id": "b3f202e14bfb4ffa818b7b2fe5e5036b",
       "version_major": 2,
       "version_minor": 0
      },
      "text/plain": [
       "Training: |          | 0/? [00:00<?, ?it/s]"
      ]
     },
     "metadata": {},
     "output_type": "display_data"
    },
    {
     "data": {
      "application/vnd.jupyter.widget-view+json": {
       "model_id": "3e779646046843a3baa3235c7e61842a",
       "version_major": 2,
       "version_minor": 0
      },
      "text/plain": [
       "Validation: |          | 0/? [00:00<?, ?it/s]"
      ]
     },
     "metadata": {},
     "output_type": "display_data"
    },
    {
     "data": {
      "application/vnd.jupyter.widget-view+json": {
       "model_id": "9fb07ebce65f46bb910b585c9f61aae7",
       "version_major": 2,
       "version_minor": 0
      },
      "text/plain": [
       "Validation: |          | 0/? [00:00<?, ?it/s]"
      ]
     },
     "metadata": {},
     "output_type": "display_data"
    },
    {
     "data": {
      "application/vnd.jupyter.widget-view+json": {
       "model_id": "caea7eeaa25c47db8c401d9c0d9489c7",
       "version_major": 2,
       "version_minor": 0
      },
      "text/plain": [
       "Validation: |          | 0/? [00:00<?, ?it/s]"
      ]
     },
     "metadata": {},
     "output_type": "display_data"
    },
    {
     "data": {
      "application/vnd.jupyter.widget-view+json": {
       "model_id": "349799ec3b03466b8094fb243b3a442a",
       "version_major": 2,
       "version_minor": 0
      },
      "text/plain": [
       "Validation: |          | 0/? [00:00<?, ?it/s]"
      ]
     },
     "metadata": {},
     "output_type": "display_data"
    },
    {
     "data": {
      "application/vnd.jupyter.widget-view+json": {
       "model_id": "f4d4f62322e348aa9e1b1df579d330eb",
       "version_major": 2,
       "version_minor": 0
      },
      "text/plain": [
       "Validation: |          | 0/? [00:00<?, ?it/s]"
      ]
     },
     "metadata": {},
     "output_type": "display_data"
    },
    {
     "data": {
      "application/vnd.jupyter.widget-view+json": {
       "model_id": "30ad713850fa4aeb8831969c90080dee",
       "version_major": 2,
       "version_minor": 0
      },
      "text/plain": [
       "Validation: |          | 0/? [00:00<?, ?it/s]"
      ]
     },
     "metadata": {},
     "output_type": "display_data"
    },
    {
     "data": {
      "application/vnd.jupyter.widget-view+json": {
       "model_id": "776b429afab5451a893b7341b0b70986",
       "version_major": 2,
       "version_minor": 0
      },
      "text/plain": [
       "Validation: |          | 0/? [00:00<?, ?it/s]"
      ]
     },
     "metadata": {},
     "output_type": "display_data"
    },
    {
     "data": {
      "application/vnd.jupyter.widget-view+json": {
       "model_id": "3ac21ff34d854b95b6b3952c1bf3cdac",
       "version_major": 2,
       "version_minor": 0
      },
      "text/plain": [
       "Validation: |          | 0/? [00:00<?, ?it/s]"
      ]
     },
     "metadata": {},
     "output_type": "display_data"
    },
    {
     "data": {
      "application/vnd.jupyter.widget-view+json": {
       "model_id": "766d87eaa5e84292b35a0bf52faa97ae",
       "version_major": 2,
       "version_minor": 0
      },
      "text/plain": [
       "Validation: |          | 0/? [00:00<?, ?it/s]"
      ]
     },
     "metadata": {},
     "output_type": "display_data"
    },
    {
     "data": {
      "application/vnd.jupyter.widget-view+json": {
       "model_id": "ca121ba069644ac3850492b05dd0afe3",
       "version_major": 2,
       "version_minor": 0
      },
      "text/plain": [
       "Validation: |          | 0/? [00:00<?, ?it/s]"
      ]
     },
     "metadata": {},
     "output_type": "display_data"
    },
    {
     "data": {
      "application/vnd.jupyter.widget-view+json": {
       "model_id": "0a03f093a7bb453193f5b6ebecf1bf8e",
       "version_major": 2,
       "version_minor": 0
      },
      "text/plain": [
       "Validation: |          | 0/? [00:00<?, ?it/s]"
      ]
     },
     "metadata": {},
     "output_type": "display_data"
    },
    {
     "data": {
      "application/vnd.jupyter.widget-view+json": {
       "model_id": "560bcc5ea63a48c4a03b68864a7f5073",
       "version_major": 2,
       "version_minor": 0
      },
      "text/plain": [
       "Validation: |          | 0/? [00:00<?, ?it/s]"
      ]
     },
     "metadata": {},
     "output_type": "display_data"
    },
    {
     "data": {
      "application/vnd.jupyter.widget-view+json": {
       "model_id": "e541c71335c54d388442f32a8771df32",
       "version_major": 2,
       "version_minor": 0
      },
      "text/plain": [
       "Validation: |          | 0/? [00:00<?, ?it/s]"
      ]
     },
     "metadata": {},
     "output_type": "display_data"
    },
    {
     "data": {
      "application/vnd.jupyter.widget-view+json": {
       "model_id": "fbda1e63a12f4ecea3ce561b2570764a",
       "version_major": 2,
       "version_minor": 0
      },
      "text/plain": [
       "Validation: |          | 0/? [00:00<?, ?it/s]"
      ]
     },
     "metadata": {},
     "output_type": "display_data"
    },
    {
     "data": {
      "application/vnd.jupyter.widget-view+json": {
       "model_id": "b89d2efb31b8439f947889db66e36f0d",
       "version_major": 2,
       "version_minor": 0
      },
      "text/plain": [
       "Validation: |          | 0/? [00:00<?, ?it/s]"
      ]
     },
     "metadata": {},
     "output_type": "display_data"
    },
    {
     "data": {
      "application/vnd.jupyter.widget-view+json": {
       "model_id": "6d3a1f5e529449c3a0ca18d2aec8ce23",
       "version_major": 2,
       "version_minor": 0
      },
      "text/plain": [
       "Validation: |          | 0/? [00:00<?, ?it/s]"
      ]
     },
     "metadata": {},
     "output_type": "display_data"
    },
    {
     "data": {
      "application/vnd.jupyter.widget-view+json": {
       "model_id": "36251f639aca4ce5825098c16e0c1058",
       "version_major": 2,
       "version_minor": 0
      },
      "text/plain": [
       "Validation: |          | 0/? [00:00<?, ?it/s]"
      ]
     },
     "metadata": {},
     "output_type": "display_data"
    },
    {
     "data": {
      "application/vnd.jupyter.widget-view+json": {
       "model_id": "e6b0cd39c8e5413486291b4ad6364a06",
       "version_major": 2,
       "version_minor": 0
      },
      "text/plain": [
       "Validation: |          | 0/? [00:00<?, ?it/s]"
      ]
     },
     "metadata": {},
     "output_type": "display_data"
    },
    {
     "data": {
      "application/vnd.jupyter.widget-view+json": {
       "model_id": "2dd4255f53ef41f3b2ee414992cb0044",
       "version_major": 2,
       "version_minor": 0
      },
      "text/plain": [
       "Validation: |          | 0/? [00:00<?, ?it/s]"
      ]
     },
     "metadata": {},
     "output_type": "display_data"
    },
    {
     "data": {
      "application/vnd.jupyter.widget-view+json": {
       "model_id": "e22e1eef9e37428d9a72cd2255711cc9",
       "version_major": 2,
       "version_minor": 0
      },
      "text/plain": [
       "Validation: |          | 0/? [00:00<?, ?it/s]"
      ]
     },
     "metadata": {},
     "output_type": "display_data"
    },
    {
     "data": {
      "application/vnd.jupyter.widget-view+json": {
       "model_id": "cf760bdb808b486ea22acf11776d62df",
       "version_major": 2,
       "version_minor": 0
      },
      "text/plain": [
       "Validation: |          | 0/? [00:00<?, ?it/s]"
      ]
     },
     "metadata": {},
     "output_type": "display_data"
    },
    {
     "data": {
      "application/vnd.jupyter.widget-view+json": {
       "model_id": "b05fd114c45e4c2cb795e9e452c66a77",
       "version_major": 2,
       "version_minor": 0
      },
      "text/plain": [
       "Validation: |          | 0/? [00:00<?, ?it/s]"
      ]
     },
     "metadata": {},
     "output_type": "display_data"
    },
    {
     "data": {
      "application/vnd.jupyter.widget-view+json": {
       "model_id": "beb5ae818fff4f4eaece776fc662aaac",
       "version_major": 2,
       "version_minor": 0
      },
      "text/plain": [
       "Validation: |          | 0/? [00:00<?, ?it/s]"
      ]
     },
     "metadata": {},
     "output_type": "display_data"
    },
    {
     "data": {
      "application/vnd.jupyter.widget-view+json": {
       "model_id": "96b395b991fa49ebab32cdc5fd2a08b9",
       "version_major": 2,
       "version_minor": 0
      },
      "text/plain": [
       "Validation: |          | 0/? [00:00<?, ?it/s]"
      ]
     },
     "metadata": {},
     "output_type": "display_data"
    },
    {
     "data": {
      "application/vnd.jupyter.widget-view+json": {
       "model_id": "3dc5c18245b04e66a550b0c786fce7d2",
       "version_major": 2,
       "version_minor": 0
      },
      "text/plain": [
       "Validation: |          | 0/? [00:00<?, ?it/s]"
      ]
     },
     "metadata": {},
     "output_type": "display_data"
    },
    {
     "name": "stderr",
     "output_type": "stream",
     "text": [
      "INFO:pytorch_lightning.utilities.rank_zero:`Trainer.fit` stopped: `max_epochs=25` reached.\n"
     ]
    },
    {
     "data": {
      "application/vnd.jupyter.widget-view+json": {
       "model_id": "871321551a054902b475e15ecf8757a8",
       "version_major": 2,
       "version_minor": 0
      },
      "text/plain": [
       "Testing: |          | 0/? [00:00<?, ?it/s]"
      ]
     },
     "metadata": {},
     "output_type": "display_data"
    },
    {
     "data": {
      "text/html": [
       "<pre style=\"white-space:pre;overflow-x:auto;line-height:normal;font-family:Menlo,'DejaVu Sans Mono',consolas,'Courier New',monospace\">┏━━━━━━━━━━━━━━━━━━━━━━━━━━━┳━━━━━━━━━━━━━━━━━━━━━━━━━━━┓\n",
       "┃<span style=\"font-weight: bold\">        Test metric        </span>┃<span style=\"font-weight: bold\">       DataLoader 0        </span>┃\n",
       "┡━━━━━━━━━━━━━━━━━━━━━━━━━━━╇━━━━━━━━━━━━━━━━━━━━━━━━━━━┩\n",
       "│<span style=\"color: #008080; text-decoration-color: #008080\">         test_acc          </span>│<span style=\"color: #800080; text-decoration-color: #800080\">    0.20666666328907013    </span>│\n",
       "│<span style=\"color: #008080; text-decoration-color: #008080\">          test_f1          </span>│<span style=\"color: #800080; text-decoration-color: #800080\">    0.20666666328907013    </span>│\n",
       "│<span style=\"color: #008080; text-decoration-color: #008080\">         test_loss         </span>│<span style=\"color: #800080; text-decoration-color: #800080\">     2.782485246658325     </span>│\n",
       "└───────────────────────────┴───────────────────────────┘\n",
       "</pre>\n"
      ],
      "text/plain": [
       "┏━━━━━━━━━━━━━━━━━━━━━━━━━━━┳━━━━━━━━━━━━━━━━━━━━━━━━━━━┓\n",
       "┃\u001b[1m \u001b[0m\u001b[1m       Test metric       \u001b[0m\u001b[1m \u001b[0m┃\u001b[1m \u001b[0m\u001b[1m      DataLoader 0       \u001b[0m\u001b[1m \u001b[0m┃\n",
       "┡━━━━━━━━━━━━━━━━━━━━━━━━━━━╇━━━━━━━━━━━━━━━━━━━━━━━━━━━┩\n",
       "│\u001b[36m \u001b[0m\u001b[36m        test_acc         \u001b[0m\u001b[36m \u001b[0m│\u001b[35m \u001b[0m\u001b[35m   0.20666666328907013   \u001b[0m\u001b[35m \u001b[0m│\n",
       "│\u001b[36m \u001b[0m\u001b[36m         test_f1         \u001b[0m\u001b[36m \u001b[0m│\u001b[35m \u001b[0m\u001b[35m   0.20666666328907013   \u001b[0m\u001b[35m \u001b[0m│\n",
       "│\u001b[36m \u001b[0m\u001b[36m        test_loss        \u001b[0m\u001b[36m \u001b[0m│\u001b[35m \u001b[0m\u001b[35m    2.782485246658325    \u001b[0m\u001b[35m \u001b[0m│\n",
       "└───────────────────────────┴───────────────────────────┘\n"
      ]
     },
     "metadata": {},
     "output_type": "display_data"
    },
    {
     "data": {
      "text/plain": [
       "[{'test_loss': 2.782485246658325,\n",
       "  'test_acc': 0.20666666328907013,\n",
       "  'test_f1': 0.20666666328907013}]"
      ]
     },
     "execution_count": 28,
     "metadata": {},
     "output_type": "execute_result"
    }
   ],
   "source": [
    "# ===== Training =====\n",
    "model_2 = Model_2(num_labels=20,hidden_dim=4,num_layers=10)\n",
    "lit_module_2 = LitModule(model_2,tokenizer,train_dataset=train_dataset.select(range(1000)),val_dataset=val_dataset.select(range(100)),test_dataset=test_dataset.select(range(300)))\n",
    "\n",
    "early_stop_callback = EarlyStopping(\n",
    "    monitor='val_f1',  # Metric to monitor\n",
    "    min_delta=1e-4,           # Minimum change to qualify as an improvement\n",
    "    patience=3,               # Number of epochs with no improvement after which training will be stopped\n",
    "    verbose=True,             # Log information to the console\n",
    "    mode='max'                # 'max' mode means we want to maximize the monitored quantity\n",
    ")\n",
    "\n",
    "trainer_2 = pl.Trainer(\n",
    "    max_epochs=25,\n",
    "    accelerator=device,\n",
    "    logger=False, # Set to True to use a logger for better tracking (e.g., TensorBoard)\n",
    "    #callbacks=[early_stop_callback], # Pass the early stopping callback\n",
    "    gradient_clip_val=1.3 # Add gradient clipping\n",
    ")\n",
    "trainer_2.fit(lit_module_2)\n",
    "\n",
    "trainer_2.test(lit_module_2)"
   ]
  },
  {
   "cell_type": "code",
   "execution_count": null,
   "metadata": {
    "colab": {
     "base_uri": "https://localhost:8080/",
     "height": 1000,
     "referenced_widgets": [
      "3d651eb9f5c1496791174d23e03d03ef",
      "209fda1770814afebfede91305116dfd",
      "dfe974bc87a8498cad8adb869db5b7dd",
      "136c85d06b4c49048ba4157b28149fa4",
      "c4c9d3f0ed454198aa4a235e4e080dfd",
      "12acb67322f6468cab94372de60ed947",
      "f59dad7bf25748fe8d9d8274c7dbe5d9",
      "15025f02a2404b1a9ace9feea7ce5f3a",
      "db4b5a9974494d20b8d9aaa73b4d0952",
      "9d0753f1e0ff415c9bd21d937b49ee5b",
      "5dde565e0d094362937bad1d994c0a81",
      "1fc40e72454b43bfb7593021dfa52905",
      "8153d9321f2c4427afc273f092cb9c4a",
      "85e517e4e0de42e8a5e04f02b95fdbce",
      "817cda671e6c43aba69e43d105f54c00",
      "a36dc7d4a99348bda0343654e90c5482",
      "95c70fe7c9014d6c8d501c582bb99107",
      "419133057cda4cc88701b0f0fb7ed506",
      "e4f276cef5cb4240853e7bf7f5d85d6f",
      "052d9c2f782b4c7ba048468113f3d2a0",
      "02f796046e254412b7bd7a1533999a69",
      "4121626c5cf74ffaabdbfed749b25c62",
      "d14e7c4df4724177b3bebef7f70e7e18",
      "b037c5a1632140daa2ce4eb4ba10375b",
      "9ff89d6b8dfb458cba06f1ca84aedaf2",
      "3425882e9ef34e1798b50bb6e58f63c8",
      "6d24d65063ee4f14b3533fb786d95123",
      "7b3941efbe5b4b139676888edd285daf",
      "52e657ea264744ac99616accbf236684",
      "811e8f7d75344a089737aceb20699663",
      "2d783ff90bb24f48ab61e323356a6a1f",
      "d51316a754484ab7a5e14d491e232450",
      "cba965d6ff024e7da12f74d4e61a122b",
      "11f79d42c9904256a00196f60e36e83c",
      "6db25e422eab4046bfd7e9664bc2feb1",
      "320f9bc67fb1428f81f6d26cb93759f3",
      "4c8b58fa345340209cc15ddf97465970",
      "c40fa83b1f7a417eaf4d6dce0e56e713",
      "8f70d6f0bf764617949455a8ec759f16",
      "5cc94e31dac94c86aceb0bf37783860c",
      "14895f742510488a82fb16356240283e",
      "c43e7ed66b5544058985850f42778678",
      "97ddcf94eea34a9a8d13a46cb03ad11a",
      "b6d56fcf901f4ad58e8b479bc25e3a6c",
      "ec235d7f069849e389470d824548da01",
      "c32f252dd4134010b6d7e0d573ad997f",
      "0e48cfbffe7e45a6bf47306bb4b5b2f4",
      "4263223d02144c8f88ccfa8162abe2e9",
      "b884db3ece914bd88aa250039b0fd35d",
      "4c25d824f00e4da59a904eb79f99113f",
      "944d955b2fab446aa10cd5c6da5f1b62",
      "bf8213653b974a84ba508c8af19a07b3",
      "947d5cbc0b1f4f2d984dc6b42d842e2c",
      "b140d89ca8f64fbc887eef1885c0ff74",
      "044fb181dd91492cbf98008afc32f254",
      "c2a5265b81ec47b78844ee12ce1b56e9",
      "46dd264ee9a743869f0a69f57c1a04b8",
      "765e2e13b53d4fef8bd36383c94ac10a",
      "3548d1aaecef494a989a0dfa524e9e03",
      "227773415c074de3870e46d39bb81deb",
      "1a602cdb869942bfb9098997fa24f6f9",
      "c6be7e0d5e684a8eb989258bdc29929f",
      "2804ee2664a247f38e60ec5675264291",
      "f6bdcb76ac644a92af40c9c0d50abecb",
      "467c3362b3f0423a87901ccc8247f168",
      "fbf2653f46a94e6192f6d128bcaf4652",
      "3a8bbc47f3ae44aca0898c14298d035a",
      "af868da24b45400d944322d7328500d4",
      "e35b4f84c5dc4ece8b4077a8d636c553",
      "8ba2f7db531045aeb82f50e7c13b489b",
      "be9c07cfa2144e23ba7646b8fd85e99c",
      "d89aea10510d435db0212ad3ea3776c5",
      "5b307318ca1349c2903dfd40222dd5f7",
      "008ff26e0a2b4d178217912480d364c5",
      "7ce693ec9fb14cc7b3eef6fd172ec591",
      "69c2c7984dc64a04a346e84a9849d05c",
      "4187f2e52a6842848889fe6c4198e3b4",
      "01178829fd7e411a88497312613b3e78",
      "1a24705718f3442cae5901259f25794a",
      "9d2092dcaac8454a91f21c597928404b",
      "5925f682dd2245f7a63967cdceca6182",
      "3471c3a712bb46219703ce7c04408ffa",
      "bec52b2038d546fda182db543eda3b56",
      "209377d72f444527857879ac3f3fba1a",
      "24af0f063a7a4cd78f6499c149b3bff5",
      "bb99affd4b17467ab7c7df4cb026b1c8",
      "b26771c216144fc1b0400a8bd491b275",
      "ed4142ebd8ee4b69ab95f28c929673e3",
      "67db9b7b7d294a579d680e16f59b77a8",
      "d6dfa0eaa7aa443d8c40a68be6b4f98c",
      "4184d5037382415a961b31cdd9b57c83",
      "bcd775ea33b847159e70288470b0955b",
      "dc0cf38a77bc487c9233ebafc02a5d84",
      "1b1d6b1d66124c96b22fb75faa77c715",
      "bc9d10a8b5a14915bda294b6aa720590",
      "a1f0e11f36ff4a31b6a75248f3bad977",
      "b725991c0b524b51b7a02a55bf31c116",
      "9a7bda7dc70e480aae66bd883a2a886f",
      "b1197a4359a24b32b38aa76e0cc96313",
      "3432fbaa49b04d19b39260b097b31375",
      "720502ce94c24a7599e18486e4a5b077",
      "fb5d1e49864a43a695a9a732d40315ca",
      "62aa54ff849d48fb81c62621ee1a4359",
      "fa26c20f74ea45238493d27e630c67e5",
      "ad37d172b30a487db83bc63cd91784bf",
      "47d5819067764fd39ad98c6f0b88c708",
      "de64c0e38e414b188b7ed255e9c8d8e5",
      "fca5b595cb2d4c5e8acd6b029e9597d7",
      "072b5731f9dc4b15a8b941a7140b77bb",
      "a1424448a01440aca07eddf69840966a",
      "135881ac378f43e1aebf783fd9961d87",
      "91815f21a6fc462e854f204b509e7523",
      "9892127cfaf2440f84e2ba5c3972a543",
      "667ecf1457c349388ec49732954a11f5",
      "183b8c80fc0442b694bdb8d47efe2845",
      "4c82184a97c04a0b8994c118c562ec75",
      "c2d094ca87dc4108b94e320a9cf22e68",
      "7b90e0a822a842b7a07cc9d30947cbe5",
      "19572aee6d2b4575a3bcc228b6de7b2e",
      "872c69eaa39d45ca8349ca4484197589",
      "0fa55a90a7c14413a5c72eee992bc163",
      "5bdc554c2bdc4a0f8f364f1f8c4aea8b",
      "3900e27acde349dfbe1bed6fa119dfde",
      "339409c08bc0483aab7ef2ad9c52f2bf",
      "543815549a414e3daeec7b30bc71cac3",
      "5b20b6a0fe19455aba296f40a4d4c0e0",
      "60e2cf550ac3418bb63e08e2f9c1c5c3",
      "c4fb568dbcce41f3a18016822c640535",
      "b2da2b9d191a4201b4c73c64cb5d3dcd",
      "f1b7070ff58f4e26a473b7864f32e7a2",
      "e0e15b71aa3844c3be7510c1cb01da26",
      "40ac97c2e4e749f6a9485f29a24a7416",
      "746846373bc64319a133da3104131430",
      "1340e943f76c4c38955940ae19abdef4",
      "15a3018c0984470e913eda125364c1b5",
      "60a919c81d074026b6dd867c085a97c0",
      "0669e7eb240142c89084b0c3732585f3",
      "c6571c8d2753453292828bb48bd96b2c",
      "07ca6e22d9af4c3e8c9f4761271a3d57",
      "4f7c2ed18b3d4e1da5f17f73ef4a8108",
      "b94fe579f70a4f6481c284784d4a1e21",
      "7cba3741403b4df1ad51c42bfdc87840",
      "644ee7b5a62e478b8657e3ba44b750a7",
      "045da95bd23141309bfdfd4049de7124",
      "aa71be08ab574647a2eb43532b6bd894",
      "353fa793e41141b2a456c26933e079bc",
      "1594b357773e40f5b805559ab748b24e",
      "291c041813424f0c9d014bf3646b4c1b",
      "8e7203c42e7f45f1943709e0fcc43c2f",
      "457bb1090dff4096a8fce190d51840e5",
      "d3555be8293f44beaeecbb6fc78535fd",
      "eabb7bce95984cae94545b722af00323",
      "45c97b242a8c4e9aaf6dbdbc7aa5d27b",
      "c9381ede437e4ffbb1622b9622af1c3f",
      "13bf55b88b3b46989d54c2aafbb28333",
      "58800ff41b2c4a3b8ef12111d67f16c7",
      "c4d00c7565de4fce9b8ad928f810ac50",
      "9c46d39055ca4ba29e485b7f531faa09",
      "8b174c7e2f574e408d8266bb2407db5d",
      "63a479de420c47fc8bf21bac5a81a217",
      "a0eb22eeeb7e4ab08886f7ee2723f589",
      "d6fa9f697b2347c186d142873ea60193",
      "2f856105a8354f8b84bb4b6e4da577a2",
      "0351ba6f62044e299fea57c27d2fbcd7",
      "19dfec3d9a904eeeadd8e3515ae6dd29",
      "5de9332a044f4e05bd9c0aaf148dc0d5",
      "d4781ddc05324ce6b5f2a6556eecd3a0",
      "e0b5c923847b47e8b8f9137c92aecaaf",
      "077aed1f0e19400cbf8b35726d148ae4",
      "16f78a6ca2e44b8184bb3b5881d33527",
      "4dd897b962e3458a8b347838a37817f5",
      "b6b48d70f5d54793ac544212350833bc",
      "219b9f90418940bdbefde0380af1a5d6",
      "8c7fe65917834131ae8a87dfa35b2b8d",
      "4cb4e0cdd6ad44cbaf0d5c796de08b37",
      "c64d361c5ac64914aa334af364ef4573",
      "caef6ce3631f4d34a29dfdfb193dcc4a",
      "99613b2d2a574b7fa09c6da01214484c",
      "9e2bd89f981e473ebd13328c7fceeb58",
      "bf1aee4b4c71419eacfeb006e4f4b2ae",
      "cb34d80393194c4a911cdef3852e8cbf",
      "96010c79ddb341e68b89c5810b1050ac",
      "f9624703bd8d427c987a16529d2b9d67",
      "83bdc171716d4e7ea098766a84e5bbd5",
      "18ecb4a6786b4fe8abed938b6a3179ae",
      "5282b18535b8438288f2115340a1029a",
      "785eec4eb38a4e64a04bf782b6afc063",
      "79ab01cc64a9417c94ac74b4ea89aeab",
      "3b14d362b46e403ea4cfeba0190c120b",
      "32868690762e4e719c3c2b5ca8d8ca41",
      "c41b5812f2374650b47fa2bde9102aed",
      "219d5f9c48fe4bd79d16d918fb7271a0",
      "45e7d2c06df24d77b12e26dfc2b18f85",
      "c6b7111471b94b3bb7a68088abe6b029",
      "c0af31ea42ef451c8342cc999aae4a5c",
      "6625f8cc15cc43e8bd1b781f8e63afc3",
      "def31f63f6e443e8b18e0e4effdb54b1",
      "b724f13d143e43ba9b9bc1cfc9127d05"
     ]
    },
    "id": "h5K41F2y3RR7",
    "outputId": "c31a5790-abed-441d-ce48-6e8ebe27146d"
   },
   "outputs": [
    {
     "metadata": {
      "tags": null
     },
     "name": "stderr",
     "output_type": "stream",
     "text": [
      "INFO:pytorch_lightning.utilities.rank_zero:💡 Tip: For seamless cloud uploads and versioning, try installing [litmodels](https://pypi.org/project/litmodels/) to enable LitModelCheckpoint, which syncs automatically with the Lightning model registry.\n",
      "INFO:pytorch_lightning.utilities.rank_zero:GPU available: True (cuda), used: True\n",
      "INFO:pytorch_lightning.utilities.rank_zero:TPU available: False, using: 0 TPU cores\n",
      "INFO:pytorch_lightning.utilities.rank_zero:HPU available: False, using: 0 HPUs\n",
      "/usr/local/lib/python3.12/dist-packages/pytorch_lightning/callbacks/model_checkpoint.py:751: Checkpoint directory /content/checkpoints exists and is not empty.\n",
      "INFO:pytorch_lightning.accelerators.cuda:LOCAL_RANK: 0 - CUDA_VISIBLE_DEVICES: [0]\n",
      "INFO:pytorch_lightning.callbacks.model_summary:\n",
      "  | Name           | Type               | Params | Mode \n",
      "--------------------------------------------------------------\n",
      "0 | model          | Model_3            | 12.7 M | train\n",
      "1 | loss_fn        | CrossEntropyLoss   | 0      | train\n",
      "2 | train_accuracy | MulticlassAccuracy | 0      | train\n",
      "3 | val_accuracy   | MulticlassAccuracy | 0      | train\n",
      "4 | train_f1       | MulticlassF1Score  | 0      | train\n",
      "5 | val_f1         | MulticlassF1Score  | 0      | train\n",
      "6 | test_accuracy  | MulticlassAccuracy | 0      | train\n",
      "7 | test_f1        | MulticlassF1Score  | 0      | train\n",
      "--------------------------------------------------------------\n",
      "12.7 M    Trainable params\n",
      "0         Non-trainable params\n",
      "12.7 M    Total params\n",
      "50.849    Total estimated model params size (MB)\n",
      "293       Modules in train mode\n",
      "0         Modules in eval mode\n"
     ]
    },
    {
     "data": {
      "application/vnd.jupyter.widget-view+json": {
       "model_id": "3d651eb9f5c1496791174d23e03d03ef",
       "version_major": 2,
       "version_minor": 0
      },
      "text/plain": [
       "Sanity Checking: |          | 0/? [00:00<?, ?it/s]"
      ]
     },
     "metadata": {},
     "output_type": "display_data"
    },
    {
     "data": {
      "application/vnd.jupyter.widget-view+json": {
       "model_id": "1fc40e72454b43bfb7593021dfa52905",
       "version_major": 2,
       "version_minor": 0
      },
      "text/plain": [
       "Training: |          | 0/? [00:00<?, ?it/s]"
      ]
     },
     "metadata": {},
     "output_type": "display_data"
    },
    {
     "data": {
      "application/vnd.jupyter.widget-view+json": {
       "model_id": "d14e7c4df4724177b3bebef7f70e7e18",
       "version_major": 2,
       "version_minor": 0
      },
      "text/plain": [
       "Validation: |          | 0/? [00:00<?, ?it/s]"
      ]
     },
     "metadata": {},
     "output_type": "display_data"
    },
    {
     "data": {
      "application/vnd.jupyter.widget-view+json": {
       "model_id": "11f79d42c9904256a00196f60e36e83c",
       "version_major": 2,
       "version_minor": 0
      },
      "text/plain": [
       "Validation: |          | 0/? [00:00<?, ?it/s]"
      ]
     },
     "metadata": {},
     "output_type": "display_data"
    },
    {
     "data": {
      "application/vnd.jupyter.widget-view+json": {
       "model_id": "ec235d7f069849e389470d824548da01",
       "version_major": 2,
       "version_minor": 0
      },
      "text/plain": [
       "Validation: |          | 0/? [00:00<?, ?it/s]"
      ]
     },
     "metadata": {},
     "output_type": "display_data"
    },
    {
     "data": {
      "application/vnd.jupyter.widget-view+json": {
       "model_id": "c2a5265b81ec47b78844ee12ce1b56e9",
       "version_major": 2,
       "version_minor": 0
      },
      "text/plain": [
       "Validation: |          | 0/? [00:00<?, ?it/s]"
      ]
     },
     "metadata": {},
     "output_type": "display_data"
    },
    {
     "data": {
      "application/vnd.jupyter.widget-view+json": {
       "model_id": "3a8bbc47f3ae44aca0898c14298d035a",
       "version_major": 2,
       "version_minor": 0
      },
      "text/plain": [
       "Validation: |          | 0/? [00:00<?, ?it/s]"
      ]
     },
     "metadata": {},
     "output_type": "display_data"
    },
    {
     "data": {
      "application/vnd.jupyter.widget-view+json": {
       "model_id": "01178829fd7e411a88497312613b3e78",
       "version_major": 2,
       "version_minor": 0
      },
      "text/plain": [
       "Validation: |          | 0/? [00:00<?, ?it/s]"
      ]
     },
     "metadata": {},
     "output_type": "display_data"
    },
    {
     "data": {
      "application/vnd.jupyter.widget-view+json": {
       "model_id": "67db9b7b7d294a579d680e16f59b77a8",
       "version_major": 2,
       "version_minor": 0
      },
      "text/plain": [
       "Validation: |          | 0/? [00:00<?, ?it/s]"
      ]
     },
     "metadata": {},
     "output_type": "display_data"
    },
    {
     "data": {
      "application/vnd.jupyter.widget-view+json": {
       "model_id": "3432fbaa49b04d19b39260b097b31375",
       "version_major": 2,
       "version_minor": 0
      },
      "text/plain": [
       "Validation: |          | 0/? [00:00<?, ?it/s]"
      ]
     },
     "metadata": {},
     "output_type": "display_data"
    },
    {
     "data": {
      "application/vnd.jupyter.widget-view+json": {
       "model_id": "135881ac378f43e1aebf783fd9961d87",
       "version_major": 2,
       "version_minor": 0
      },
      "text/plain": [
       "Validation: |          | 0/? [00:00<?, ?it/s]"
      ]
     },
     "metadata": {},
     "output_type": "display_data"
    },
    {
     "data": {
      "application/vnd.jupyter.widget-view+json": {
       "model_id": "5bdc554c2bdc4a0f8f364f1f8c4aea8b",
       "version_major": 2,
       "version_minor": 0
      },
      "text/plain": [
       "Validation: |          | 0/? [00:00<?, ?it/s]"
      ]
     },
     "metadata": {},
     "output_type": "display_data"
    },
    {
     "data": {
      "application/vnd.jupyter.widget-view+json": {
       "model_id": "746846373bc64319a133da3104131430",
       "version_major": 2,
       "version_minor": 0
      },
      "text/plain": [
       "Validation: |          | 0/? [00:00<?, ?it/s]"
      ]
     },
     "metadata": {},
     "output_type": "display_data"
    },
    {
     "data": {
      "application/vnd.jupyter.widget-view+json": {
       "model_id": "045da95bd23141309bfdfd4049de7124",
       "version_major": 2,
       "version_minor": 0
      },
      "text/plain": [
       "Validation: |          | 0/? [00:00<?, ?it/s]"
      ]
     },
     "metadata": {},
     "output_type": "display_data"
    },
    {
     "data": {
      "application/vnd.jupyter.widget-view+json": {
       "model_id": "13bf55b88b3b46989d54c2aafbb28333",
       "version_major": 2,
       "version_minor": 0
      },
      "text/plain": [
       "Validation: |          | 0/? [00:00<?, ?it/s]"
      ]
     },
     "metadata": {},
     "output_type": "display_data"
    },
    {
     "data": {
      "application/vnd.jupyter.widget-view+json": {
       "model_id": "5de9332a044f4e05bd9c0aaf148dc0d5",
       "version_major": 2,
       "version_minor": 0
      },
      "text/plain": [
       "Validation: |          | 0/? [00:00<?, ?it/s]"
      ]
     },
     "metadata": {},
     "output_type": "display_data"
    },
    {
     "data": {
      "application/vnd.jupyter.widget-view+json": {
       "model_id": "caef6ce3631f4d34a29dfdfb193dcc4a",
       "version_major": 2,
       "version_minor": 0
      },
      "text/plain": [
       "Validation: |          | 0/? [00:00<?, ?it/s]"
      ]
     },
     "metadata": {},
     "output_type": "display_data"
    },
    {
     "name": "stderr",
     "output_type": "stream",
     "text": [
      "INFO:pytorch_lightning.utilities.rank_zero:`Trainer.fit` stopped: `max_epochs=15` reached.\n",
      "INFO:pytorch_lightning.accelerators.cuda:LOCAL_RANK: 0 - CUDA_VISIBLE_DEVICES: [0]\n"
     ]
    },
    {
     "data": {
      "application/vnd.jupyter.widget-view+json": {
       "model_id": "79ab01cc64a9417c94ac74b4ea89aeab",
       "version_major": 2,
       "version_minor": 0
      },
      "text/plain": [
       "Testing: |          | 0/? [00:00<?, ?it/s]"
      ]
     },
     "metadata": {},
     "output_type": "display_data"
    },
    {
     "data": {
      "text/html": [
       "<pre style=\"white-space:pre;overflow-x:auto;line-height:normal;font-family:Menlo,'DejaVu Sans Mono',consolas,'Courier New',monospace\">┏━━━━━━━━━━━━━━━━━━━━━━━━━━━┳━━━━━━━━━━━━━━━━━━━━━━━━━━━┓\n",
       "┃<span style=\"font-weight: bold\">        Test metric        </span>┃<span style=\"font-weight: bold\">       DataLoader 0        </span>┃\n",
       "┡━━━━━━━━━━━━━━━━━━━━━━━━━━━╇━━━━━━━━━━━━━━━━━━━━━━━━━━━┩\n",
       "│<span style=\"color: #008080; text-decoration-color: #008080\">         test_acc          </span>│<span style=\"color: #800080; text-decoration-color: #800080\">    0.20000000298023224    </span>│\n",
       "│<span style=\"color: #008080; text-decoration-color: #008080\">          test_f1          </span>│<span style=\"color: #800080; text-decoration-color: #800080\">    0.20000000298023224    </span>│\n",
       "│<span style=\"color: #008080; text-decoration-color: #008080\">         test_loss         </span>│<span style=\"color: #800080; text-decoration-color: #800080\">    2.7677080631256104     </span>│\n",
       "└───────────────────────────┴───────────────────────────┘\n",
       "</pre>\n"
      ],
      "text/plain": [
       "┏━━━━━━━━━━━━━━━━━━━━━━━━━━━┳━━━━━━━━━━━━━━━━━━━━━━━━━━━┓\n",
       "┃\u001b[1m \u001b[0m\u001b[1m       Test metric       \u001b[0m\u001b[1m \u001b[0m┃\u001b[1m \u001b[0m\u001b[1m      DataLoader 0       \u001b[0m\u001b[1m \u001b[0m┃\n",
       "┡━━━━━━━━━━━━━━━━━━━━━━━━━━━╇━━━━━━━━━━━━━━━━━━━━━━━━━━━┩\n",
       "│\u001b[36m \u001b[0m\u001b[36m        test_acc         \u001b[0m\u001b[36m \u001b[0m│\u001b[35m \u001b[0m\u001b[35m   0.20000000298023224   \u001b[0m\u001b[35m \u001b[0m│\n",
       "│\u001b[36m \u001b[0m\u001b[36m         test_f1         \u001b[0m\u001b[36m \u001b[0m│\u001b[35m \u001b[0m\u001b[35m   0.20000000298023224   \u001b[0m\u001b[35m \u001b[0m│\n",
       "│\u001b[36m \u001b[0m\u001b[36m        test_loss        \u001b[0m\u001b[36m \u001b[0m│\u001b[35m \u001b[0m\u001b[35m   2.7677080631256104    \u001b[0m\u001b[35m \u001b[0m│\n",
       "└───────────────────────────┴───────────────────────────┘\n"
      ]
     },
     "metadata": {},
     "output_type": "display_data"
    },
    {
     "data": {
      "text/plain": [
       "[{'test_loss': 2.7677080631256104,\n",
       "  'test_acc': 0.20000000298023224,\n",
       "  'test_f1': 0.20000000298023224}]"
      ]
     },
     "execution_count": 20,
     "metadata": {},
     "output_type": "execute_result"
    }
   ],
   "source": [
    "# ===== Training =====\n",
    "model_3 = Model_3(num_labels=20,hidden_dim=128,num_layers=10)\n",
    "lit_module_3 = LitModule(model_3,tokenizer,train_dataset=train_dataset.select(range(3000)),val_dataset=val_dataset.select(range(500)),test_dataset=test_dataset.select(range(600)))\n",
    "\n",
    "early_stop_callback = EarlyStopping(\n",
    "    monitor='val_f1',  # Metric to monitor\n",
    "    min_delta=1e-4,           # Minimum change to qualify as an improvement\n",
    "    patience=5,               # Number of epochs with no improvement after which training will be stopped\n",
    "    verbose=True,             # Log information to the console\n",
    "    mode='max'                # 'max' mode means we want to maximize the monitored quantity\n",
    ")\n",
    "\n",
    "trainer_3 = pl.Trainer(\n",
    "    max_epochs=15,\n",
    "    accelerator=device,\n",
    "    logger=False, # Set to True to use a logger for better tracking (e.g., TensorBoard)\n",
    "    #callbacks=[early_stop_callback], # Pass the early stopping callback\n",
    "    gradient_clip_val=1.2 # Add gradient clipping\n",
    ")\n",
    "trainer_3.fit(lit_module_3)\n",
    "\n",
    "trainer_3.test(lit_module_3)"
   ]
  }
 ],
 "metadata": {
  "cells": [],
  "kernelspec": {
   "display_name": "",
   "name": ""
  },
  "language_info": {
   "name": ""
  },
  "metadata": {
   "kernelspec": {
    "display_name": "Python 3",
    "language": "python",
    "name": "python3"
   },
   "language_info": {
    "name": "python",
    "version": "3.10.12"
   }
  },
  "nbformat": 4,
  "nbformat_minor": 5
 },
 "nbformat": 4,
 "nbformat_minor": 4
}
