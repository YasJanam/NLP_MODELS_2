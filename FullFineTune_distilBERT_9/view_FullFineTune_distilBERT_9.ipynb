{
 "cells": [
  {
   "cell_type": "code",
   "execution_count": 1,
   "metadata": {
    "id": "MGFKS-5iSNmQ"
   },
   "outputs": [],
   "source": [
    "from transformers import (\n",
    "    AutoTokenizer,\n",
    "    AutoModelForSequenceClassification,\n",
    "    Trainer,\n",
    "    TrainingArguments\n",
    ")\n",
    "from datasets import load_dataset, Dataset\n",
    "import torch\n",
    "import numpy as np\n",
    "import pandas as pd\n",
    "from torch.utils.data import DataLoader\n",
    "from torch.nn.utils.rnn import pad_sequence\n",
    "from sklearn.metrics import accuracy_score\n",
    "from google.colab import files\n",
    "\n",
    "device = torch.device(\"cuda\" if torch.cuda.is_available() else \"cpu\")"
   ]
  },
  {
   "cell_type": "markdown",
   "metadata": {
    "id": "0P-RcfrKPUbd"
   },
   "source": [
    "##### **Load Datasets**"
   ]
  },
  {
   "cell_type": "code",
   "execution_count": 2,
   "metadata": {
    "colab": {
     "base_uri": "https://localhost:8080/",
     "height": 269,
     "referenced_widgets": [
      "fcc90d0c146e4d8a8bb72d5bc7528f6b",
      "623822e3cc004139b5496826cd1770ec",
      "d11694850d6745d1b766a1f53b8a40d2",
      "ea7ecb7c0cf54955b64d34fb12261948",
      "aafbe7384ecb4dfb9d113e70ee0a5f8b",
      "940c32718206454aa9d2521d60ec7796",
      "e9efa00359714779acf7492281d62a9e",
      "271ebef0d9eb4204ab956c0e2740a101",
      "ef094a1221a744d4ad086db68668275b",
      "b19066e981a5437494170b62394dce53",
      "c195b1336a204296ab25dd8a9b6a6c02",
      "0e7e5e5e34ae45148fb7d7194cf09d51",
      "e153b594a0da49db99075cc4f876e486",
      "cde4b267e5dd4d6b9bbaf6e852e9f43e",
      "d26f26ac2f234ab7b78400193f100db5",
      "0fa9f68680cc4ef29ccade08440df01c",
      "214378b7716a49268c8048f89beebbb2",
      "a497dbac8c4442cea1250af1f33f5b27",
      "d9bfbdf92f7e44deb2cada6110dd73e0",
      "f8a99c890c2f4bc89982f77f6739d2e0",
      "3e4fd9780dff494b884b65319ab46955",
      "8948e833b4c543f9925a02d9bbd765d3",
      "7d89e5f2d4604ed58a2814788e2cef76",
      "c1508848f2ea449ab0626dcad296a572",
      "6a4573e61a00488993746d22c8489541",
      "fec6e82ae9674db18473c5f5f4237479",
      "c3be8e141b5d4ae8ba05c0fbe758c4aa",
      "4f4cc900819540f1ac49261d2e4077fe",
      "e944fde22d504cff88a498194d5808e1",
      "231beff651f6491790e8363f99d88359",
      "fc65e2df427d4e548b1dcaa8c6d36964",
      "be55628aed204595a7f0d2f896c3dfc0",
      "4a8f9f23abbb43c89a5c0789a84cb42c",
      "51f2af84995d49fc982fae2a4eed8fdc",
      "e5e6a36c68be47d687174112616cf374",
      "1d5bb27ae60b498294974157b642eab5",
      "2a5bc463b15146c697af9f44836e9af3",
      "e7fd2466d13d4c3f9f0eb5aa1d185408",
      "43493098c12e448490702bd50d74489f",
      "b4873113fbb649e8a0b23742c9c3953f",
      "b4611635ddc0422ab74529d1b9bac19f",
      "2f4d55ae09ad49a7ba44acfdfe23ae90",
      "7fdbdc3723a4412584e496faff0a6414",
      "bba4c9b437304d838cd79bdcac51aa51"
     ]
    },
    "collapsed": true,
    "id": "cU6GT93oPU3c",
    "jupyter": {
     "outputs_hidden": true
    },
    "outputId": "24c71cb8-9291-4db1-d36a-fbe087411639"
   },
   "outputs": [
    {
     "name": "stderr",
     "output_type": "stream",
     "text": [
      "/usr/local/lib/python3.12/dist-packages/huggingface_hub/utils/_auth.py:94: UserWarning: \n",
      "The secret `HF_TOKEN` does not exist in your Colab secrets.\n",
      "To authenticate with the Hugging Face Hub, create a token in your settings tab (https://huggingface.co/settings/tokens), set it as secret in your Google Colab and restart your session.\n",
      "You will be able to reuse this secret in all of your notebooks.\n",
      "Please note that authentication is recommended but still optional to access public models or datasets.\n",
      "  warnings.warn(\n"
     ]
    },
    {
     "data": {
      "application/vnd.jupyter.widget-view+json": {
       "model_id": "fcc90d0c146e4d8a8bb72d5bc7528f6b",
       "version_major": 2,
       "version_minor": 0
      },
      "text/plain": [
       "tokenizer_config.json:   0%|          | 0.00/48.0 [00:00<?, ?B/s]"
      ]
     },
     "metadata": {},
     "output_type": "display_data"
    },
    {
     "data": {
      "application/vnd.jupyter.widget-view+json": {
       "model_id": "0e7e5e5e34ae45148fb7d7194cf09d51",
       "version_major": 2,
       "version_minor": 0
      },
      "text/plain": [
       "config.json:   0%|          | 0.00/483 [00:00<?, ?B/s]"
      ]
     },
     "metadata": {},
     "output_type": "display_data"
    },
    {
     "data": {
      "application/vnd.jupyter.widget-view+json": {
       "model_id": "7d89e5f2d4604ed58a2814788e2cef76",
       "version_major": 2,
       "version_minor": 0
      },
      "text/plain": [
       "vocab.txt:   0%|          | 0.00/232k [00:00<?, ?B/s]"
      ]
     },
     "metadata": {},
     "output_type": "display_data"
    },
    {
     "data": {
      "application/vnd.jupyter.widget-view+json": {
       "model_id": "51f2af84995d49fc982fae2a4eed8fdc",
       "version_major": 2,
       "version_minor": 0
      },
      "text/plain": [
       "tokenizer.json:   0%|          | 0.00/466k [00:00<?, ?B/s]"
      ]
     },
     "metadata": {},
     "output_type": "display_data"
    }
   ],
   "source": [
    "def upload_dataset_from_system():\n",
    "  uploaded = files.upload()\n",
    "  data = Dataset.from_pandas(pd.read_parquet(list(uploaded.keys())[0]))\n",
    "  return data\n",
    "\n",
    "# --- return dataset classes ---\n",
    "def dataset_classes(dataset):\n",
    "  return list(set([item['label'] for item in dataset]))\n",
    "\n",
    "# --- model name\n",
    "model_name = \"distilbert-base-uncased\"\n",
    "\n",
    "# --- tokenizer ---\n",
    "tokenizer = AutoTokenizer.from_pretrained(model_name)"
   ]
  },
  {
   "cell_type": "code",
   "execution_count": 4,
   "metadata": {
    "colab": {
     "base_uri": "https://localhost:8080/",
     "height": 184
    },
    "collapsed": true,
    "id": "Ie7BFs9_PaCp",
    "jupyter": {
     "outputs_hidden": true
    },
    "outputId": "891dbcee-fc7c-42f7-e710-24ec89e2d213"
   },
   "outputs": [
    {
     "data": {
      "text/html": [
       "\n",
       "     <input type=\"file\" id=\"files-8305dcd2-0523-4ce2-baf7-c88953b271eb\" name=\"files[]\" multiple disabled\n",
       "        style=\"border:none\" />\n",
       "     <output id=\"result-8305dcd2-0523-4ce2-baf7-c88953b271eb\">\n",
       "      Upload widget is only available when the cell has been executed in the\n",
       "      current browser session. Please rerun this cell to enable.\n",
       "      </output>\n",
       "      <script>// Copyright 2017 Google LLC\n",
       "//\n",
       "// Licensed under the Apache License, Version 2.0 (the \"License\");\n",
       "// you may not use this file except in compliance with the License.\n",
       "// You may obtain a copy of the License at\n",
       "//\n",
       "//      http://www.apache.org/licenses/LICENSE-2.0\n",
       "//\n",
       "// Unless required by applicable law or agreed to in writing, software\n",
       "// distributed under the License is distributed on an \"AS IS\" BASIS,\n",
       "// WITHOUT WARRANTIES OR CONDITIONS OF ANY KIND, either express or implied.\n",
       "// See the License for the specific language governing permissions and\n",
       "// limitations under the License.\n",
       "\n",
       "/**\n",
       " * @fileoverview Helpers for google.colab Python module.\n",
       " */\n",
       "(function(scope) {\n",
       "function span(text, styleAttributes = {}) {\n",
       "  const element = document.createElement('span');\n",
       "  element.textContent = text;\n",
       "  for (const key of Object.keys(styleAttributes)) {\n",
       "    element.style[key] = styleAttributes[key];\n",
       "  }\n",
       "  return element;\n",
       "}\n",
       "\n",
       "// Max number of bytes which will be uploaded at a time.\n",
       "const MAX_PAYLOAD_SIZE = 100 * 1024;\n",
       "\n",
       "function _uploadFiles(inputId, outputId) {\n",
       "  const steps = uploadFilesStep(inputId, outputId);\n",
       "  const outputElement = document.getElementById(outputId);\n",
       "  // Cache steps on the outputElement to make it available for the next call\n",
       "  // to uploadFilesContinue from Python.\n",
       "  outputElement.steps = steps;\n",
       "\n",
       "  return _uploadFilesContinue(outputId);\n",
       "}\n",
       "\n",
       "// This is roughly an async generator (not supported in the browser yet),\n",
       "// where there are multiple asynchronous steps and the Python side is going\n",
       "// to poll for completion of each step.\n",
       "// This uses a Promise to block the python side on completion of each step,\n",
       "// then passes the result of the previous step as the input to the next step.\n",
       "function _uploadFilesContinue(outputId) {\n",
       "  const outputElement = document.getElementById(outputId);\n",
       "  const steps = outputElement.steps;\n",
       "\n",
       "  const next = steps.next(outputElement.lastPromiseValue);\n",
       "  return Promise.resolve(next.value.promise).then((value) => {\n",
       "    // Cache the last promise value to make it available to the next\n",
       "    // step of the generator.\n",
       "    outputElement.lastPromiseValue = value;\n",
       "    return next.value.response;\n",
       "  });\n",
       "}\n",
       "\n",
       "/**\n",
       " * Generator function which is called between each async step of the upload\n",
       " * process.\n",
       " * @param {string} inputId Element ID of the input file picker element.\n",
       " * @param {string} outputId Element ID of the output display.\n",
       " * @return {!Iterable<!Object>} Iterable of next steps.\n",
       " */\n",
       "function* uploadFilesStep(inputId, outputId) {\n",
       "  const inputElement = document.getElementById(inputId);\n",
       "  inputElement.disabled = false;\n",
       "\n",
       "  const outputElement = document.getElementById(outputId);\n",
       "  outputElement.innerHTML = '';\n",
       "\n",
       "  const pickedPromise = new Promise((resolve) => {\n",
       "    inputElement.addEventListener('change', (e) => {\n",
       "      resolve(e.target.files);\n",
       "    });\n",
       "  });\n",
       "\n",
       "  const cancel = document.createElement('button');\n",
       "  inputElement.parentElement.appendChild(cancel);\n",
       "  cancel.textContent = 'Cancel upload';\n",
       "  const cancelPromise = new Promise((resolve) => {\n",
       "    cancel.onclick = () => {\n",
       "      resolve(null);\n",
       "    };\n",
       "  });\n",
       "\n",
       "  // Wait for the user to pick the files.\n",
       "  const files = yield {\n",
       "    promise: Promise.race([pickedPromise, cancelPromise]),\n",
       "    response: {\n",
       "      action: 'starting',\n",
       "    }\n",
       "  };\n",
       "\n",
       "  cancel.remove();\n",
       "\n",
       "  // Disable the input element since further picks are not allowed.\n",
       "  inputElement.disabled = true;\n",
       "\n",
       "  if (!files) {\n",
       "    return {\n",
       "      response: {\n",
       "        action: 'complete',\n",
       "      }\n",
       "    };\n",
       "  }\n",
       "\n",
       "  for (const file of files) {\n",
       "    const li = document.createElement('li');\n",
       "    li.append(span(file.name, {fontWeight: 'bold'}));\n",
       "    li.append(span(\n",
       "        `(${file.type || 'n/a'}) - ${file.size} bytes, ` +\n",
       "        `last modified: ${\n",
       "            file.lastModifiedDate ? file.lastModifiedDate.toLocaleDateString() :\n",
       "                                    'n/a'} - `));\n",
       "    const percent = span('0% done');\n",
       "    li.appendChild(percent);\n",
       "\n",
       "    outputElement.appendChild(li);\n",
       "\n",
       "    const fileDataPromise = new Promise((resolve) => {\n",
       "      const reader = new FileReader();\n",
       "      reader.onload = (e) => {\n",
       "        resolve(e.target.result);\n",
       "      };\n",
       "      reader.readAsArrayBuffer(file);\n",
       "    });\n",
       "    // Wait for the data to be ready.\n",
       "    let fileData = yield {\n",
       "      promise: fileDataPromise,\n",
       "      response: {\n",
       "        action: 'continue',\n",
       "      }\n",
       "    };\n",
       "\n",
       "    // Use a chunked sending to avoid message size limits. See b/62115660.\n",
       "    let position = 0;\n",
       "    do {\n",
       "      const length = Math.min(fileData.byteLength - position, MAX_PAYLOAD_SIZE);\n",
       "      const chunk = new Uint8Array(fileData, position, length);\n",
       "      position += length;\n",
       "\n",
       "      const base64 = btoa(String.fromCharCode.apply(null, chunk));\n",
       "      yield {\n",
       "        response: {\n",
       "          action: 'append',\n",
       "          file: file.name,\n",
       "          data: base64,\n",
       "        },\n",
       "      };\n",
       "\n",
       "      let percentDone = fileData.byteLength === 0 ?\n",
       "          100 :\n",
       "          Math.round((position / fileData.byteLength) * 100);\n",
       "      percent.textContent = `${percentDone}% done`;\n",
       "\n",
       "    } while (position < fileData.byteLength);\n",
       "  }\n",
       "\n",
       "  // All done.\n",
       "  yield {\n",
       "    response: {\n",
       "      action: 'complete',\n",
       "    }\n",
       "  };\n",
       "}\n",
       "\n",
       "scope.google = scope.google || {};\n",
       "scope.google.colab = scope.google.colab || {};\n",
       "scope.google.colab._files = {\n",
       "  _uploadFiles,\n",
       "  _uploadFilesContinue,\n",
       "};\n",
       "})(self);\n",
       "</script> "
      ],
      "text/plain": [
       "<IPython.core.display.HTML object>"
      ]
     },
     "metadata": {},
     "output_type": "display_data"
    },
    {
     "name": "stdout",
     "output_type": "stream",
     "text": [
      "Saving train-00000-of-00001.parquet to train-00000-of-00001.parquet\n"
     ]
    },
    {
     "data": {
      "text/html": [
       "\n",
       "     <input type=\"file\" id=\"files-2aaed274-4d62-4e24-accb-58b98d90d12d\" name=\"files[]\" multiple disabled\n",
       "        style=\"border:none\" />\n",
       "     <output id=\"result-2aaed274-4d62-4e24-accb-58b98d90d12d\">\n",
       "      Upload widget is only available when the cell has been executed in the\n",
       "      current browser session. Please rerun this cell to enable.\n",
       "      </output>\n",
       "      <script>// Copyright 2017 Google LLC\n",
       "//\n",
       "// Licensed under the Apache License, Version 2.0 (the \"License\");\n",
       "// you may not use this file except in compliance with the License.\n",
       "// You may obtain a copy of the License at\n",
       "//\n",
       "//      http://www.apache.org/licenses/LICENSE-2.0\n",
       "//\n",
       "// Unless required by applicable law or agreed to in writing, software\n",
       "// distributed under the License is distributed on an \"AS IS\" BASIS,\n",
       "// WITHOUT WARRANTIES OR CONDITIONS OF ANY KIND, either express or implied.\n",
       "// See the License for the specific language governing permissions and\n",
       "// limitations under the License.\n",
       "\n",
       "/**\n",
       " * @fileoverview Helpers for google.colab Python module.\n",
       " */\n",
       "(function(scope) {\n",
       "function span(text, styleAttributes = {}) {\n",
       "  const element = document.createElement('span');\n",
       "  element.textContent = text;\n",
       "  for (const key of Object.keys(styleAttributes)) {\n",
       "    element.style[key] = styleAttributes[key];\n",
       "  }\n",
       "  return element;\n",
       "}\n",
       "\n",
       "// Max number of bytes which will be uploaded at a time.\n",
       "const MAX_PAYLOAD_SIZE = 100 * 1024;\n",
       "\n",
       "function _uploadFiles(inputId, outputId) {\n",
       "  const steps = uploadFilesStep(inputId, outputId);\n",
       "  const outputElement = document.getElementById(outputId);\n",
       "  // Cache steps on the outputElement to make it available for the next call\n",
       "  // to uploadFilesContinue from Python.\n",
       "  outputElement.steps = steps;\n",
       "\n",
       "  return _uploadFilesContinue(outputId);\n",
       "}\n",
       "\n",
       "// This is roughly an async generator (not supported in the browser yet),\n",
       "// where there are multiple asynchronous steps and the Python side is going\n",
       "// to poll for completion of each step.\n",
       "// This uses a Promise to block the python side on completion of each step,\n",
       "// then passes the result of the previous step as the input to the next step.\n",
       "function _uploadFilesContinue(outputId) {\n",
       "  const outputElement = document.getElementById(outputId);\n",
       "  const steps = outputElement.steps;\n",
       "\n",
       "  const next = steps.next(outputElement.lastPromiseValue);\n",
       "  return Promise.resolve(next.value.promise).then((value) => {\n",
       "    // Cache the last promise value to make it available to the next\n",
       "    // step of the generator.\n",
       "    outputElement.lastPromiseValue = value;\n",
       "    return next.value.response;\n",
       "  });\n",
       "}\n",
       "\n",
       "/**\n",
       " * Generator function which is called between each async step of the upload\n",
       " * process.\n",
       " * @param {string} inputId Element ID of the input file picker element.\n",
       " * @param {string} outputId Element ID of the output display.\n",
       " * @return {!Iterable<!Object>} Iterable of next steps.\n",
       " */\n",
       "function* uploadFilesStep(inputId, outputId) {\n",
       "  const inputElement = document.getElementById(inputId);\n",
       "  inputElement.disabled = false;\n",
       "\n",
       "  const outputElement = document.getElementById(outputId);\n",
       "  outputElement.innerHTML = '';\n",
       "\n",
       "  const pickedPromise = new Promise((resolve) => {\n",
       "    inputElement.addEventListener('change', (e) => {\n",
       "      resolve(e.target.files);\n",
       "    });\n",
       "  });\n",
       "\n",
       "  const cancel = document.createElement('button');\n",
       "  inputElement.parentElement.appendChild(cancel);\n",
       "  cancel.textContent = 'Cancel upload';\n",
       "  const cancelPromise = new Promise((resolve) => {\n",
       "    cancel.onclick = () => {\n",
       "      resolve(null);\n",
       "    };\n",
       "  });\n",
       "\n",
       "  // Wait for the user to pick the files.\n",
       "  const files = yield {\n",
       "    promise: Promise.race([pickedPromise, cancelPromise]),\n",
       "    response: {\n",
       "      action: 'starting',\n",
       "    }\n",
       "  };\n",
       "\n",
       "  cancel.remove();\n",
       "\n",
       "  // Disable the input element since further picks are not allowed.\n",
       "  inputElement.disabled = true;\n",
       "\n",
       "  if (!files) {\n",
       "    return {\n",
       "      response: {\n",
       "        action: 'complete',\n",
       "      }\n",
       "    };\n",
       "  }\n",
       "\n",
       "  for (const file of files) {\n",
       "    const li = document.createElement('li');\n",
       "    li.append(span(file.name, {fontWeight: 'bold'}));\n",
       "    li.append(span(\n",
       "        `(${file.type || 'n/a'}) - ${file.size} bytes, ` +\n",
       "        `last modified: ${\n",
       "            file.lastModifiedDate ? file.lastModifiedDate.toLocaleDateString() :\n",
       "                                    'n/a'} - `));\n",
       "    const percent = span('0% done');\n",
       "    li.appendChild(percent);\n",
       "\n",
       "    outputElement.appendChild(li);\n",
       "\n",
       "    const fileDataPromise = new Promise((resolve) => {\n",
       "      const reader = new FileReader();\n",
       "      reader.onload = (e) => {\n",
       "        resolve(e.target.result);\n",
       "      };\n",
       "      reader.readAsArrayBuffer(file);\n",
       "    });\n",
       "    // Wait for the data to be ready.\n",
       "    let fileData = yield {\n",
       "      promise: fileDataPromise,\n",
       "      response: {\n",
       "        action: 'continue',\n",
       "      }\n",
       "    };\n",
       "\n",
       "    // Use a chunked sending to avoid message size limits. See b/62115660.\n",
       "    let position = 0;\n",
       "    do {\n",
       "      const length = Math.min(fileData.byteLength - position, MAX_PAYLOAD_SIZE);\n",
       "      const chunk = new Uint8Array(fileData, position, length);\n",
       "      position += length;\n",
       "\n",
       "      const base64 = btoa(String.fromCharCode.apply(null, chunk));\n",
       "      yield {\n",
       "        response: {\n",
       "          action: 'append',\n",
       "          file: file.name,\n",
       "          data: base64,\n",
       "        },\n",
       "      };\n",
       "\n",
       "      let percentDone = fileData.byteLength === 0 ?\n",
       "          100 :\n",
       "          Math.round((position / fileData.byteLength) * 100);\n",
       "      percent.textContent = `${percentDone}% done`;\n",
       "\n",
       "    } while (position < fileData.byteLength);\n",
       "  }\n",
       "\n",
       "  // All done.\n",
       "  yield {\n",
       "    response: {\n",
       "      action: 'complete',\n",
       "    }\n",
       "  };\n",
       "}\n",
       "\n",
       "scope.google = scope.google || {};\n",
       "scope.google.colab = scope.google.colab || {};\n",
       "scope.google.colab._files = {\n",
       "  _uploadFiles,\n",
       "  _uploadFilesContinue,\n",
       "};\n",
       "})(self);\n",
       "</script> "
      ],
      "text/plain": [
       "<IPython.core.display.HTML object>"
      ]
     },
     "metadata": {},
     "output_type": "display_data"
    },
    {
     "name": "stdout",
     "output_type": "stream",
     "text": [
      "Saving validation-00000-of-00001.parquet to validation-00000-of-00001.parquet\n"
     ]
    },
    {
     "data": {
      "text/html": [
       "\n",
       "     <input type=\"file\" id=\"files-858bf139-2260-4800-ad8e-af90c8078672\" name=\"files[]\" multiple disabled\n",
       "        style=\"border:none\" />\n",
       "     <output id=\"result-858bf139-2260-4800-ad8e-af90c8078672\">\n",
       "      Upload widget is only available when the cell has been executed in the\n",
       "      current browser session. Please rerun this cell to enable.\n",
       "      </output>\n",
       "      <script>// Copyright 2017 Google LLC\n",
       "//\n",
       "// Licensed under the Apache License, Version 2.0 (the \"License\");\n",
       "// you may not use this file except in compliance with the License.\n",
       "// You may obtain a copy of the License at\n",
       "//\n",
       "//      http://www.apache.org/licenses/LICENSE-2.0\n",
       "//\n",
       "// Unless required by applicable law or agreed to in writing, software\n",
       "// distributed under the License is distributed on an \"AS IS\" BASIS,\n",
       "// WITHOUT WARRANTIES OR CONDITIONS OF ANY KIND, either express or implied.\n",
       "// See the License for the specific language governing permissions and\n",
       "// limitations under the License.\n",
       "\n",
       "/**\n",
       " * @fileoverview Helpers for google.colab Python module.\n",
       " */\n",
       "(function(scope) {\n",
       "function span(text, styleAttributes = {}) {\n",
       "  const element = document.createElement('span');\n",
       "  element.textContent = text;\n",
       "  for (const key of Object.keys(styleAttributes)) {\n",
       "    element.style[key] = styleAttributes[key];\n",
       "  }\n",
       "  return element;\n",
       "}\n",
       "\n",
       "// Max number of bytes which will be uploaded at a time.\n",
       "const MAX_PAYLOAD_SIZE = 100 * 1024;\n",
       "\n",
       "function _uploadFiles(inputId, outputId) {\n",
       "  const steps = uploadFilesStep(inputId, outputId);\n",
       "  const outputElement = document.getElementById(outputId);\n",
       "  // Cache steps on the outputElement to make it available for the next call\n",
       "  // to uploadFilesContinue from Python.\n",
       "  outputElement.steps = steps;\n",
       "\n",
       "  return _uploadFilesContinue(outputId);\n",
       "}\n",
       "\n",
       "// This is roughly an async generator (not supported in the browser yet),\n",
       "// where there are multiple asynchronous steps and the Python side is going\n",
       "// to poll for completion of each step.\n",
       "// This uses a Promise to block the python side on completion of each step,\n",
       "// then passes the result of the previous step as the input to the next step.\n",
       "function _uploadFilesContinue(outputId) {\n",
       "  const outputElement = document.getElementById(outputId);\n",
       "  const steps = outputElement.steps;\n",
       "\n",
       "  const next = steps.next(outputElement.lastPromiseValue);\n",
       "  return Promise.resolve(next.value.promise).then((value) => {\n",
       "    // Cache the last promise value to make it available to the next\n",
       "    // step of the generator.\n",
       "    outputElement.lastPromiseValue = value;\n",
       "    return next.value.response;\n",
       "  });\n",
       "}\n",
       "\n",
       "/**\n",
       " * Generator function which is called between each async step of the upload\n",
       " * process.\n",
       " * @param {string} inputId Element ID of the input file picker element.\n",
       " * @param {string} outputId Element ID of the output display.\n",
       " * @return {!Iterable<!Object>} Iterable of next steps.\n",
       " */\n",
       "function* uploadFilesStep(inputId, outputId) {\n",
       "  const inputElement = document.getElementById(inputId);\n",
       "  inputElement.disabled = false;\n",
       "\n",
       "  const outputElement = document.getElementById(outputId);\n",
       "  outputElement.innerHTML = '';\n",
       "\n",
       "  const pickedPromise = new Promise((resolve) => {\n",
       "    inputElement.addEventListener('change', (e) => {\n",
       "      resolve(e.target.files);\n",
       "    });\n",
       "  });\n",
       "\n",
       "  const cancel = document.createElement('button');\n",
       "  inputElement.parentElement.appendChild(cancel);\n",
       "  cancel.textContent = 'Cancel upload';\n",
       "  const cancelPromise = new Promise((resolve) => {\n",
       "    cancel.onclick = () => {\n",
       "      resolve(null);\n",
       "    };\n",
       "  });\n",
       "\n",
       "  // Wait for the user to pick the files.\n",
       "  const files = yield {\n",
       "    promise: Promise.race([pickedPromise, cancelPromise]),\n",
       "    response: {\n",
       "      action: 'starting',\n",
       "    }\n",
       "  };\n",
       "\n",
       "  cancel.remove();\n",
       "\n",
       "  // Disable the input element since further picks are not allowed.\n",
       "  inputElement.disabled = true;\n",
       "\n",
       "  if (!files) {\n",
       "    return {\n",
       "      response: {\n",
       "        action: 'complete',\n",
       "      }\n",
       "    };\n",
       "  }\n",
       "\n",
       "  for (const file of files) {\n",
       "    const li = document.createElement('li');\n",
       "    li.append(span(file.name, {fontWeight: 'bold'}));\n",
       "    li.append(span(\n",
       "        `(${file.type || 'n/a'}) - ${file.size} bytes, ` +\n",
       "        `last modified: ${\n",
       "            file.lastModifiedDate ? file.lastModifiedDate.toLocaleDateString() :\n",
       "                                    'n/a'} - `));\n",
       "    const percent = span('0% done');\n",
       "    li.appendChild(percent);\n",
       "\n",
       "    outputElement.appendChild(li);\n",
       "\n",
       "    const fileDataPromise = new Promise((resolve) => {\n",
       "      const reader = new FileReader();\n",
       "      reader.onload = (e) => {\n",
       "        resolve(e.target.result);\n",
       "      };\n",
       "      reader.readAsArrayBuffer(file);\n",
       "    });\n",
       "    // Wait for the data to be ready.\n",
       "    let fileData = yield {\n",
       "      promise: fileDataPromise,\n",
       "      response: {\n",
       "        action: 'continue',\n",
       "      }\n",
       "    };\n",
       "\n",
       "    // Use a chunked sending to avoid message size limits. See b/62115660.\n",
       "    let position = 0;\n",
       "    do {\n",
       "      const length = Math.min(fileData.byteLength - position, MAX_PAYLOAD_SIZE);\n",
       "      const chunk = new Uint8Array(fileData, position, length);\n",
       "      position += length;\n",
       "\n",
       "      const base64 = btoa(String.fromCharCode.apply(null, chunk));\n",
       "      yield {\n",
       "        response: {\n",
       "          action: 'append',\n",
       "          file: file.name,\n",
       "          data: base64,\n",
       "        },\n",
       "      };\n",
       "\n",
       "      let percentDone = fileData.byteLength === 0 ?\n",
       "          100 :\n",
       "          Math.round((position / fileData.byteLength) * 100);\n",
       "      percent.textContent = `${percentDone}% done`;\n",
       "\n",
       "    } while (position < fileData.byteLength);\n",
       "  }\n",
       "\n",
       "  // All done.\n",
       "  yield {\n",
       "    response: {\n",
       "      action: 'complete',\n",
       "    }\n",
       "  };\n",
       "}\n",
       "\n",
       "scope.google = scope.google || {};\n",
       "scope.google.colab = scope.google.colab || {};\n",
       "scope.google.colab._files = {\n",
       "  _uploadFiles,\n",
       "  _uploadFilesContinue,\n",
       "};\n",
       "})(self);\n",
       "</script> "
      ],
      "text/plain": [
       "<IPython.core.display.HTML object>"
      ]
     },
     "metadata": {},
     "output_type": "display_data"
    },
    {
     "name": "stdout",
     "output_type": "stream",
     "text": [
      "Saving test-00000-of-00001.parquet to test-00000-of-00001.parquet\n"
     ]
    }
   ],
   "source": [
    "# --- load dataset 20-classes ---\n",
    "train_data = upload_dataset_from_system()\n",
    "val_data = upload_dataset_from_system()\n",
    "test_data = upload_dataset_from_system()  # max_length -> 40"
   ]
  },
  {
   "cell_type": "code",
   "execution_count": 3,
   "metadata": {
    "colab": {
     "base_uri": "https://localhost:8080/",
     "height": 276,
     "referenced_widgets": [
      "179017c4312b421990d59d3db8fce94e",
      "275584c9f33d4096b55475703143e3e2",
      "5769e78525c64ca896eecbf91093b7b2",
      "7b5ee9eacfc847a3996a49d3ce75009a",
      "0d7f7ef8562e4e64923254754058afe7",
      "62c7149b6f1740a590a0fa3c82e98e2b",
      "4be1de25708046a594b796c82ccbdb22",
      "238f6673b2dc4762a64a3bf52ef885f2",
      "ccecda7edc734c9195e399fb6e86516f",
      "ef110e3dee5a4d4184bc93d0ee3f1bd2",
      "c4b9eb39d11a498da50a9b573bd74578",
      "3167da181c61415f84f07dc8cf5eb930",
      "2a5a8bb4ed3f466dbf00ad39d3b4c881",
      "ee5af713cf5840e796f8101a6ab9a6e3",
      "071f1f721d7f4223835469fc06e2ecc9",
      "fdbc704572ac4ef2a9bdb0caa492dd3e",
      "8131e6a5e8a14e6e937036bf4a7fe821",
      "4c08cda712324b86bfb9088058c3ba5b",
      "518953c44fa74f8aa8be3948428242de",
      "34bfa296d2874c318ba3e30af63e07fb",
      "11f70f52534b40478bf513f22da9c658",
      "f8c13ae464754086ba65e27673f84d0c",
      "25f301545bfb4bb583640b92848911e5",
      "046b3b09abbd4a4d8b0ae9942a0972a7",
      "38b8590e806b4725bf196bc12c1a9032",
      "9c36fb780d05488d91f8db1a2402efbf",
      "a605531298f14750913322ec0036546a",
      "971ee2c5376b47c88341a36f2c6c6755",
      "301099973e584e26be9af9c5444bc4ee",
      "596aa48b2d274b299c4d1d3a319f3b53",
      "1b349e0230664b32b7a9248de663e8e7",
      "26d79f65fd9f466fb9fac52f18cc2705",
      "beb34ec0c4d84a4fa4b18d243e330b2e",
      "99ff6766eac842128e25c8da139e43da",
      "77f990336f1b4418a6b7d37b709ca2d9",
      "52e613e5c2aa4a85ab3e1877bbf9a685",
      "6df91994643d43028752be928be50913",
      "c5c1dfaaa5f84c62b5631205727a3721",
      "c14359b7f64540e386c5ffebe8c60506",
      "97b388749dbf4550b9e60d1181bcdc2a",
      "65cc754a4a894fed9806a965110c0fac",
      "b4e77ce91b72471bbd91d7a5d89ecb27",
      "d8126940e31a4ba2abc4f8658320691d",
      "5bb48b7fcab6451fb8d626b28efcb24f",
      "07bc326fe6a941b5aaae75c6df769ade",
      "c8aca84d0d5b4e0c9ddbf70ed08d1412",
      "780c4a77d71446e3b7668de3eebf02e1",
      "0d9056e8cfb44610815b437729b2eba9",
      "08dd56095a49408888df8b936fa0e5e3",
      "154ef66a5e364b5ab56a580129bd8bbc",
      "d68db718f33e492d94003712fe63308c",
      "35a30ec500434db488cb71e73ac818a8",
      "0fb3bdc920ec406d936c2feb612120b4",
      "edc7dfcd212a44489686aad5fe0e102e",
      "5467e624d6c94859b8632b08322676b4",
      "9f877ae282f74f69a4f21393de2743de",
      "d03ec966a9ba441ab89cc41d72249c2c",
      "30cbe009cafe479fa417628f7e5cde17",
      "d12b930161454978962eca6c7ff6c2e7",
      "75e971f3ddf842b3ae53a559a65883fb",
      "d695e0e94f05453dab4d3ed732ecfea7",
      "e776e98d8e434caeac0792218beae666",
      "5844cde6485c43c89a57200ebe7cdda3",
      "ee966a2b2bc7442aa4a5349e53e2ce64",
      "e151d83868aa4e4b85158d338e325120",
      "6e195c220e774e7387c9bc10e067d350",
      "0082a603827d4e55b5824b522544cb75",
      "961c0a469b704cfc8988b522f4f98a95",
      "b67d74cab9124fbd81029cb4e26a6959",
      "222bca7a41e74588af78ab5b22f2320d",
      "233284aea23749c784be05327df14f92",
      "5ad8762ee39541e0a2ff7c3cbc7c8334",
      "0a4b54f34fa84868b125caf07ef72fbb",
      "ede2d8a59ff44804b59199ebbb999dfa",
      "41f6bb3dbe5d4040a41a21ac98b74e5a",
      "ffd9936db66743caa0ebf19cef90ed61",
      "7e983321b7b44c0d9ce766e00f8a4100"
     ]
    },
    "collapsed": true,
    "id": "jZB15Vh7PfC_",
    "jupyter": {
     "outputs_hidden": true
    },
    "outputId": "aff0ef21-8465-42f3-f5b9-eea1986f1015"
   },
   "outputs": [
    {
     "data": {
      "application/vnd.jupyter.widget-view+json": {
       "model_id": "179017c4312b421990d59d3db8fce94e",
       "version_major": 2,
       "version_minor": 0
      },
      "text/plain": [
       "README.md:   0%|          | 0.00/421 [00:00<?, ?B/s]"
      ]
     },
     "metadata": {},
     "output_type": "display_data"
    },
    {
     "name": "stderr",
     "output_type": "stream",
     "text": [
      "Repo card metadata block was not found. Setting CardData to empty.\n",
      "WARNING:huggingface_hub.repocard:Repo card metadata block was not found. Setting CardData to empty.\n"
     ]
    },
    {
     "data": {
      "application/vnd.jupyter.widget-view+json": {
       "model_id": "3167da181c61415f84f07dc8cf5eb930",
       "version_major": 2,
       "version_minor": 0
      },
      "text/plain": [
       "train.jsonl: 0.00B [00:00, ?B/s]"
      ]
     },
     "metadata": {},
     "output_type": "display_data"
    },
    {
     "data": {
      "application/vnd.jupyter.widget-view+json": {
       "model_id": "25f301545bfb4bb583640b92848911e5",
       "version_major": 2,
       "version_minor": 0
      },
      "text/plain": [
       "dev.jsonl: 0.00B [00:00, ?B/s]"
      ]
     },
     "metadata": {},
     "output_type": "display_data"
    },
    {
     "data": {
      "application/vnd.jupyter.widget-view+json": {
       "model_id": "99ff6766eac842128e25c8da139e43da",
       "version_major": 2,
       "version_minor": 0
      },
      "text/plain": [
       "test.jsonl: 0.00B [00:00, ?B/s]"
      ]
     },
     "metadata": {},
     "output_type": "display_data"
    },
    {
     "data": {
      "application/vnd.jupyter.widget-view+json": {
       "model_id": "07bc326fe6a941b5aaae75c6df769ade",
       "version_major": 2,
       "version_minor": 0
      },
      "text/plain": [
       "Generating train split:   0%|          | 0/8544 [00:00<?, ? examples/s]"
      ]
     },
     "metadata": {},
     "output_type": "display_data"
    },
    {
     "data": {
      "application/vnd.jupyter.widget-view+json": {
       "model_id": "9f877ae282f74f69a4f21393de2743de",
       "version_major": 2,
       "version_minor": 0
      },
      "text/plain": [
       "Generating validation split:   0%|          | 0/1101 [00:00<?, ? examples/s]"
      ]
     },
     "metadata": {},
     "output_type": "display_data"
    },
    {
     "data": {
      "application/vnd.jupyter.widget-view+json": {
       "model_id": "0082a603827d4e55b5824b522544cb75",
       "version_major": 2,
       "version_minor": 0
      },
      "text/plain": [
       "Generating test split:   0%|          | 0/2210 [00:00<?, ? examples/s]"
      ]
     },
     "metadata": {},
     "output_type": "display_data"
    }
   ],
   "source": [
    "# --- load sst5 ---\n",
    "sst = load_dataset(\"SetFit/sst5\")  # max_length -> 60"
   ]
  },
  {
   "cell_type": "markdown",
   "metadata": {
    "id": "wDlvwT8C30a3"
   },
   "source": [
    "##### **preprocess & Dataset-utilities**"
   ]
  },
  {
   "cell_type": "code",
   "execution_count": 5,
   "metadata": {
    "id": "hXJLZBi0LoDO"
   },
   "outputs": [],
   "source": [
    "\n",
    "def preproces_data(example,max_len,text ='text',label = 'label'):\n",
    "  tokenized_item = tokenizer(example[text],truncation=True,max_length=max_len,padding=\"max_length\")\n",
    "  inp_ids = tokenized_item['input_ids']\n",
    "  attn_msk = tokenized_item['attention_mask']\n",
    "  label = example[label]\n",
    "\n",
    "  return {\n",
    "         \"input_ids\": inp_ids, # Convert list to tensor\n",
    "          \"attention_mask\": attn_msk, # Convert list to tensor\n",
    "          \"labels\": label # Return the original label index\n",
    "    }"
   ]
  },
  {
   "cell_type": "code",
   "execution_count": 6,
   "metadata": {
    "colab": {
     "base_uri": "https://localhost:8080/",
     "height": 113,
     "referenced_widgets": [
      "5333fd0896064403ac12ffeabf2f4184",
      "860e6aa2e4a84b0faf2cab9be99c88b6",
      "0653c6d9e1e34cfaa902902a062d0225",
      "3850bca4967744f890844f0343d32b10",
      "92cb3a806efb4f6b9328bbde0b120909",
      "c6cfb2b5da9442d69d442ef2cf27a21d",
      "7618bd8f681d4001844cacc5ef80bcf8",
      "ac90b93b502d49efa3ba77b234b060af",
      "78d2f4f2a0184de093d06e07c28cd06a",
      "ddc27cce887e4d739f46ca4bba84d5fb",
      "bc4a4ba9285c40b393e148fabd10e1e9",
      "264abcdff60f40f08078e55ada89dd6a",
      "08ef18b9ee45484788e59617e080087e",
      "ca43007564aa402bae5a5538b1bdadff",
      "2e927998a3074c229b86cee6d4c1f928",
      "275e80b91d5c49fab8555a9cbff040a6",
      "9206689217d6401b8b9dcc1c8e0f68ec",
      "d7fa3ae6fe3c4843a933c86c887a88b7",
      "4a11e63bfbef4ff3a903341fedb61d04",
      "c78bdc8fd3f1416f9059be2791fbb7c7",
      "feec6c28e2194c9dae215cc64d560d92",
      "c728fbd2ca604d2dba0025485feeb31e",
      "228e0d7591954c2ca1064a6b6416f17f",
      "02edd6584ae64bfd8f43908d9834c44c",
      "075634e42fa24d4488f170bd9637b6f8",
      "3f67477b6d1e452484b3157f9d9f0087",
      "e87c3732727648e1b691236b9997fa80",
      "c643616224934120bc50f578a45a663c",
      "a3149bf2f4804faa80aca894261d3a73",
      "13245b770f654a50b41c57f2913748a6",
      "e3824630d3d848539db41d2f174b4e13",
      "6b1619f9515b47b0bfb1424fe97fedf9",
      "f0b0576d2aad4b0d84f4cc5da9cba281"
     ]
    },
    "id": "373VZgLSnVuk",
    "outputId": "2126af66-c76b-4ec0-980b-b7e50845f0b0"
   },
   "outputs": [
    {
     "data": {
      "application/vnd.jupyter.widget-view+json": {
       "model_id": "5333fd0896064403ac12ffeabf2f4184",
       "version_major": 2,
       "version_minor": 0
      },
      "text/plain": [
       "Map:   0%|          | 0/45000 [00:00<?, ? examples/s]"
      ]
     },
     "metadata": {},
     "output_type": "display_data"
    },
    {
     "data": {
      "application/vnd.jupyter.widget-view+json": {
       "model_id": "264abcdff60f40f08078e55ada89dd6a",
       "version_major": 2,
       "version_minor": 0
      },
      "text/plain": [
       "Map:   0%|          | 0/5000 [00:00<?, ? examples/s]"
      ]
     },
     "metadata": {},
     "output_type": "display_data"
    },
    {
     "data": {
      "application/vnd.jupyter.widget-view+json": {
       "model_id": "228e0d7591954c2ca1064a6b6416f17f",
       "version_major": 2,
       "version_minor": 0
      },
      "text/plain": [
       "Map:   0%|          | 0/50000 [00:00<?, ? examples/s]"
      ]
     },
     "metadata": {},
     "output_type": "display_data"
    }
   ],
   "source": [
    "# --- 20 classes dataset ---\n",
    "train_dataset = train_data.map(preproces_data, fn_kwargs={'max_len': 40}, remove_columns=['text','label'])\n",
    "val_dataset = val_data.map(preproces_data, fn_kwargs={'max_len': 40}, remove_columns=['text','label'])\n",
    "test_dataset = test_data.map(preproces_data, fn_kwargs={'max_len': 40}, remove_columns=['text','label'])"
   ]
  },
  {
   "cell_type": "code",
   "execution_count": 7,
   "metadata": {
    "colab": {
     "base_uri": "https://localhost:8080/",
     "height": 113,
     "referenced_widgets": [
      "9835aae0b73a4aa7b3e8a5d95d971e6b",
      "7a0c7476ecf64f23b550f79171a39dc2",
      "a90a375d7ecb46be8f4c25aba4e830cf",
      "aba527bcea054ecba18d7d4473aec5d9",
      "d1d3b8ecab4c492dac7d680ae1b38c7a",
      "b1b98ae9d7e94eef9c4437961133f63f",
      "78d3427cea5e4302a40d61fd4dfefc9b",
      "08451e27c2dd41f18ec46d01158467f4",
      "7a526a3288bb44aba6a06beedc09b0b9",
      "46b8776ff8da4232875b8f66f47b636e",
      "023e991519ac4775b87df1fb162e8248",
      "bd80a8faa21a46c98fd6717590daad7b",
      "75ed75a9febe4ac397621cde36bae8a6",
      "2f8d723ac55a45e8ac3af2e344c9c688",
      "9ffbff59375547aaac25033d46007bac",
      "4a112107ecc040babc6173c8fd72a311",
      "0b9a9750616d4ea48da533a93227d6a8",
      "f76529fa25b24b1281ca9e77e8004de6",
      "8bfc46bdcd614715aa58c5f0c46e3631",
      "117743f2a8044dbfb5c8dfadb8c4fda8",
      "05c139c310df4abfbb736c7b39ba79ae",
      "f03fd9f2a9a44003a60fcee2183ae14c",
      "0e6073b4569f4a91a920e7af0e9ee6e2",
      "ed2e456e2abb41bb83eb69e5d95237db",
      "76bf059cecd549d9a1750a55952b0d58",
      "8790833b287147d9a3c4aca2434508d1",
      "af645a17d8314c8cb9123437b8baea46",
      "7fcd1d101c8447a8a2c164da41a790e9",
      "a06bb142be3c47f38ce4c44a188ca2d6",
      "929c27df1ff3456496d950d3a22f097d",
      "2cddd59e2a77443892750bbb83688952",
      "731ed80ed0c245a28a9d64e51177402e",
      "e1b73bc039554b6ea96e29e7d5ef4cfa"
     ]
    },
    "id": "sw4-lBOhN09d",
    "outputId": "ea59f5d7-05bd-4dc8-a465-033a297400a9"
   },
   "outputs": [
    {
     "data": {
      "application/vnd.jupyter.widget-view+json": {
       "model_id": "9835aae0b73a4aa7b3e8a5d95d971e6b",
       "version_major": 2,
       "version_minor": 0
      },
      "text/plain": [
       "Map:   0%|          | 0/8544 [00:00<?, ? examples/s]"
      ]
     },
     "metadata": {},
     "output_type": "display_data"
    },
    {
     "data": {
      "application/vnd.jupyter.widget-view+json": {
       "model_id": "bd80a8faa21a46c98fd6717590daad7b",
       "version_major": 2,
       "version_minor": 0
      },
      "text/plain": [
       "Map:   0%|          | 0/1101 [00:00<?, ? examples/s]"
      ]
     },
     "metadata": {},
     "output_type": "display_data"
    },
    {
     "data": {
      "application/vnd.jupyter.widget-view+json": {
       "model_id": "0e6073b4569f4a91a920e7af0e9ee6e2",
       "version_major": 2,
       "version_minor": 0
      },
      "text/plain": [
       "Map:   0%|          | 0/2210 [00:00<?, ? examples/s]"
      ]
     },
     "metadata": {},
     "output_type": "display_data"
    }
   ],
   "source": [
    "# --- preprocess sst5 ---\n",
    "sst_train = sst['train'].map(preproces_data,fn_kwargs={'max_len': 60},remove_columns=['text','label','label_text'])\n",
    "sst_val = sst['validation'].map(preproces_data,fn_kwargs={'max_len': 60},remove_columns=['text','label','label_text'])\n",
    "sst_test = sst['test'].map(preproces_data,fn_kwargs={'max_len': 60},remove_columns=['text','label','label_text'])"
   ]
  },
  {
   "cell_type": "code",
   "execution_count": 8,
   "metadata": {
    "id": "AW61SrZLks7i"
   },
   "outputs": [],
   "source": [
    "def collate_fn(batch):\n",
    "    input_ids = [\n",
    "        torch.tensor(item['input_ids'], dtype=torch.long)\n",
    "        if not isinstance(item['input_ids'], torch.Tensor) else item['input_ids'].long()\n",
    "        for item in batch\n",
    "    ]\n",
    "    attention_mask = [\n",
    "        torch.tensor(item['attention_mask'], dtype=torch.long)\n",
    "        if not isinstance(item['attention_mask'], torch.Tensor) else item['attention_mask'].long()\n",
    "        for item in batch\n",
    "    ]\n",
    "\n",
    "    labels = torch.stack([\n",
    "        torch.tensor(item['labels'], dtype=torch.long) # Changed to torch.long\n",
    "        if not isinstance(item['labels'], torch.Tensor) else item['labels'].long()\n",
    "        for item in batch\n",
    "    ])\n",
    "\n",
    "\n",
    "    input_ids_padded = pad_sequence(\n",
    "        input_ids, batch_first=True, padding_value=tokenizer.pad_token_id\n",
    "    )\n",
    "    attention_mask_padded = pad_sequence(\n",
    "        attention_mask, batch_first=True, padding_value=0\n",
    "    )\n",
    "\n",
    "    return {\n",
    "        \"input_ids\": input_ids_padded,        # (batch_size, seq_len)\n",
    "        \"attention_mask\": attention_mask_padded,  # (batch_size, seq_len)\n",
    "        \"labels\": labels                      # (batch_size, num_classes)\n",
    "    }"
   ]
  },
  {
   "cell_type": "markdown",
   "metadata": {
    "id": "BeZcVR99TIIt"
   },
   "source": [
    "##### **train , test methods**"
   ]
  },
  {
   "cell_type": "code",
   "execution_count": 9,
   "metadata": {
    "id": "Uah6OQ2GW6cc"
   },
   "outputs": [],
   "source": [
    "def compute_metrics(pred):\n",
    "    labels = pred.label_ids\n",
    "    preds = pred.predictions.argmax(-1)\n",
    "    acc = accuracy_score(labels, preds)\n",
    "    return {\n",
    "        'accuracy': acc,\n",
    "    }"
   ]
  },
  {
   "cell_type": "code",
   "execution_count": 10,
   "metadata": {
    "id": "zKsjlMVRVzP3"
   },
   "outputs": [],
   "source": [
    "def FineTune(model,train_data,val_data,num_epochs,batch_size,lr):\n",
    "\n",
    "  training_args = TrainingArguments(\n",
    "      output_dir='./results',\n",
    "      num_train_epochs=num_epochs,\n",
    "      per_device_train_batch_size=batch_size,\n",
    "      per_device_eval_batch_size=batch_size,\n",
    "      learning_rate=lr,\n",
    "      weight_decay=0.01,\n",
    "      eval_strategy=\"epoch\",\n",
    "      save_strategy=\"epoch\",\n",
    "      load_best_model_at_end=True,\n",
    "      logging_steps=500,\n",
    "      report_to = \"tensorboard\"\n",
    "  )\n",
    "\n",
    "  trainer = Trainer(\n",
    "      model=model,\n",
    "      args=training_args,\n",
    "      train_dataset=train_data,\n",
    "      eval_dataset=val_data,\n",
    "      compute_metrics=compute_metrics,\n",
    "      data_collator=collate_fn\n",
    "  )\n",
    "\n",
    "  trainer.train()\n",
    "\n",
    "  return trainer.model"
   ]
  },
  {
   "cell_type": "code",
   "execution_count": 11,
   "metadata": {
    "id": "e0c77544"
   },
   "outputs": [],
   "source": [
    "def test_func(model, test_data, batch_size):\n",
    "    model.eval()\n",
    "    args = TrainingArguments(\n",
    "        output_dir='./results',\n",
    "        per_device_eval_batch_size=batch_size,\n",
    "        logging_steps=500,\n",
    "        report_to = \"tensorboard\"\n",
    "    )\n",
    "    trainer = Trainer(\n",
    "        model=model,\n",
    "        args=args,\n",
    "        eval_dataset=test_data,\n",
    "        compute_metrics=compute_metrics,\n",
    "        data_collator=collate_fn\n",
    "    )\n",
    "\n",
    "    eval_results = trainer.evaluate()\n",
    "    return eval_results"
   ]
  },
  {
   "cell_type": "markdown",
   "metadata": {
    "id": "N-kYngy3Y6BQ"
   },
   "source": [
    "##### **distilBERT & sst5**"
   ]
  },
  {
   "cell_type": "code",
   "execution_count": 12,
   "metadata": {
    "colab": {
     "base_uri": "https://localhost:8080/",
     "height": 104,
     "referenced_widgets": [
      "d911d26916fe4bf2b2f2cd089bb9908c",
      "d560e9f527a04404846bc8cc4615ed26",
      "fe110fb5051a4a92ba7e04ffda951f24",
      "d73d031b6a454634a7dbe6c59e856155",
      "5cfc266cd6494cdd9329115432d9be7b",
      "c4419cf7afd34acf8abbef5d0f81e1ec",
      "3f707fd9213b430ebd5ed8a28282d850",
      "156b026bb92346b5a923dd37a8b65346",
      "a2a26fb9fa7a4ccf98c8fdaa6dd73de8",
      "c89d6ef28c7f428ca63d2867c3025270",
      "08a3de434f9644dbae4b3c74108386c2"
     ]
    },
    "id": "5lOPp2S2dUdB",
    "outputId": "766231ad-79aa-477b-b016-1831a9d10bdf"
   },
   "outputs": [
    {
     "data": {
      "application/vnd.jupyter.widget-view+json": {
       "model_id": "d911d26916fe4bf2b2f2cd089bb9908c",
       "version_major": 2,
       "version_minor": 0
      },
      "text/plain": [
       "model.safetensors:   0%|          | 0.00/268M [00:00<?, ?B/s]"
      ]
     },
     "metadata": {},
     "output_type": "display_data"
    },
    {
     "name": "stderr",
     "output_type": "stream",
     "text": [
      "Some weights of DistilBertForSequenceClassification were not initialized from the model checkpoint at distilbert-base-uncased and are newly initialized: ['classifier.bias', 'classifier.weight', 'pre_classifier.bias', 'pre_classifier.weight']\n",
      "You should probably TRAIN this model on a down-stream task to be able to use it for predictions and inference.\n"
     ]
    }
   ],
   "source": [
    "# --- load model ---\n",
    "model = AutoModelForSequenceClassification.from_pretrained(model_name, num_labels=5).to(device)"
   ]
  },
  {
   "cell_type": "code",
   "execution_count": null,
   "metadata": {
    "colab": {
     "base_uri": "https://localhost:8080/",
     "height": 144
    },
    "id": "3lSZ2CNKY9Aa",
    "outputId": "8c8732ea-275f-4a07-e1ce-3456c9598ad0"
   },
   "outputs": [
    {
     "name": "stderr",
     "output_type": "stream",
     "text": [
      "Some weights of DistilBertForSequenceClassification were not initialized from the model checkpoint at distilbert-base-uncased and are newly initialized: ['classifier.bias', 'classifier.weight', 'pre_classifier.bias', 'pre_classifier.weight']\n",
      "You should probably TRAIN this model on a down-stream task to be able to use it for predictions and inference.\n",
      "/usr/local/lib/python3.12/dist-packages/torch/utils/data/dataloader.py:666: UserWarning: 'pin_memory' argument is set as true but no accelerator is found, then device pinned memory won't be used.\n",
      "  warnings.warn(warn_msg)\n"
     ]
    },
    {
     "data": {
      "text/html": [
       "\n",
       "    <div>\n",
       "      \n",
       "      <progress value='139' max='139' style='width:300px; height:20px; vertical-align: middle;'></progress>\n",
       "      [139/139 03:39]\n",
       "    </div>\n",
       "    "
      ],
      "text/plain": [
       "<IPython.core.display.HTML object>"
      ]
     },
     "metadata": {},
     "output_type": "display_data"
    },
    {
     "name": "stdout",
     "output_type": "stream",
     "text": [
      "{'eval_loss': 1.600426435470581, 'eval_model_preparation_time': 0.002, 'eval_accuracy': 0.2823529411764706, 'eval_runtime': 221.5792, 'eval_samples_per_second': 9.974, 'eval_steps_per_second': 0.627}\n"
     ]
    }
   ],
   "source": [
    "# --- test before fine-tune\n",
    "eval_res = test_func(model,sst_test,16)\n",
    "print(eval_res)"
   ]
  },
  {
   "cell_type": "code",
   "execution_count": 13,
   "metadata": {
    "colab": {
     "base_uri": "https://localhost:8080/",
     "height": 226
    },
    "id": "0KPjpmrvP4Nm",
    "outputId": "b62fb656-96ad-4f6a-e0ad-594f3bd660e2"
   },
   "outputs": [
    {
     "data": {
      "text/html": [
       "\n",
       "    <div>\n",
       "      \n",
       "      <progress value='801' max='801' style='width:300px; height:20px; vertical-align: middle;'></progress>\n",
       "      [801/801 02:35, Epoch 3/3]\n",
       "    </div>\n",
       "    <table border=\"1\" class=\"dataframe\">\n",
       "  <thead>\n",
       " <tr style=\"text-align: left;\">\n",
       "      <th>Epoch</th>\n",
       "      <th>Training Loss</th>\n",
       "      <th>Validation Loss</th>\n",
       "      <th>Accuracy</th>\n",
       "    </tr>\n",
       "  </thead>\n",
       "  <tbody>\n",
       "    <tr>\n",
       "      <td>1</td>\n",
       "      <td>No log</td>\n",
       "      <td>1.173328</td>\n",
       "      <td>0.462307</td>\n",
       "    </tr>\n",
       "    <tr>\n",
       "      <td>2</td>\n",
       "      <td>1.136700</td>\n",
       "      <td>1.164625</td>\n",
       "      <td>0.484105</td>\n",
       "    </tr>\n",
       "    <tr>\n",
       "      <td>3</td>\n",
       "      <td>1.136700</td>\n",
       "      <td>1.206734</td>\n",
       "      <td>0.505904</td>\n",
       "    </tr>\n",
       "  </tbody>\n",
       "</table><p>"
      ],
      "text/plain": [
       "<IPython.core.display.HTML object>"
      ]
     },
     "metadata": {},
     "output_type": "display_data"
    },
    {
     "data": {
      "text/html": [
       "\n",
       "    <div>\n",
       "      \n",
       "      <progress value='139' max='139' style='width:300px; height:20px; vertical-align: middle;'></progress>\n",
       "      [139/139 00:03]\n",
       "    </div>\n",
       "    "
      ],
      "text/plain": [
       "<IPython.core.display.HTML object>"
      ]
     },
     "metadata": {},
     "output_type": "display_data"
    },
    {
     "name": "stdout",
     "output_type": "stream",
     "text": [
      "{'eval_loss': 1.0917497873306274, 'eval_model_preparation_time': 0.0012, 'eval_accuracy': 0.5221719457013575, 'eval_runtime': 3.7979, 'eval_samples_per_second': 581.907, 'eval_steps_per_second': 36.6}\n"
     ]
    }
   ],
   "source": [
    "# --- fine tune\n",
    "tuned_model = FineTune(model,sst_train,sst_val,3,32,3e-5)  # lr -> 3e-5\n",
    "\n",
    "# --- test after fine-tune\n",
    "eval_res = test_func(tuned_model,sst_test,16)\n",
    "print(eval_res)"
   ]
  },
  {
   "cell_type": "markdown",
   "metadata": {
    "id": "2COCzMGb72p3"
   },
   "source": [
    "##### **distilBERT & 20-classes**"
   ]
  },
  {
   "cell_type": "code",
   "execution_count": 14,
   "metadata": {
    "colab": {
     "base_uri": "https://localhost:8080/"
    },
    "id": "W0-Nsdum72p4",
    "outputId": "9d66a7f8-7271-4cc8-b322-4628517605f9"
   },
   "outputs": [
    {
     "name": "stderr",
     "output_type": "stream",
     "text": [
      "Some weights of DistilBertForSequenceClassification were not initialized from the model checkpoint at distilbert-base-uncased and are newly initialized: ['classifier.bias', 'classifier.weight', 'pre_classifier.bias', 'pre_classifier.weight']\n",
      "You should probably TRAIN this model on a down-stream task to be able to use it for predictions and inference.\n"
     ]
    }
   ],
   "source": [
    "# --- load model ---\n",
    "model = AutoModelForSequenceClassification.from_pretrained(model_name, num_labels=20).to(device)"
   ]
  },
  {
   "cell_type": "code",
   "execution_count": 24,
   "metadata": {
    "colab": {
     "base_uri": "https://localhost:8080/",
     "height": 74
    },
    "id": "OVXztGjG72p5",
    "outputId": "5af75eac-f705-459d-8de1-226922fa2f30"
   },
   "outputs": [
    {
     "data": {
      "text/html": [
       "\n",
       "    <div>\n",
       "      \n",
       "      <progress value='1563' max='1563' style='width:300px; height:20px; vertical-align: middle;'></progress>\n",
       "      [1563/1563 00:55]\n",
       "    </div>\n",
       "    "
      ],
      "text/plain": [
       "<IPython.core.display.HTML object>"
      ]
     },
     "metadata": {},
     "output_type": "display_data"
    },
    {
     "name": "stdout",
     "output_type": "stream",
     "text": [
      "{'eval_loss': 3.010295867919922, 'eval_model_preparation_time': 0.0023, 'eval_accuracy': 0.03048, 'eval_runtime': 55.5403, 'eval_samples_per_second': 900.248, 'eval_steps_per_second': 28.142}\n"
     ]
    }
   ],
   "source": [
    "# --- test before fine-tune\n",
    "eval_res = test_func(model,test_dataset,32)\n",
    "print(eval_res)"
   ]
  },
  {
   "cell_type": "code",
   "execution_count": 15,
   "metadata": {
    "colab": {
     "base_uri": "https://localhost:8080/",
     "height": 226
    },
    "id": "vLKc-8ZmP_0r",
    "outputId": "07e51078-b351-4b5c-8be3-cf962dc23caf"
   },
   "outputs": [
    {
     "data": {
      "text/html": [
       "\n",
       "    <div>\n",
       "      \n",
       "      <progress value='4221' max='4221' style='width:300px; height:20px; vertical-align: middle;'></progress>\n",
       "      [4221/4221 10:09, Epoch 3/3]\n",
       "    </div>\n",
       "    <table border=\"1\" class=\"dataframe\">\n",
       "  <thead>\n",
       " <tr style=\"text-align: left;\">\n",
       "      <th>Epoch</th>\n",
       "      <th>Training Loss</th>\n",
       "      <th>Validation Loss</th>\n",
       "      <th>Accuracy</th>\n",
       "    </tr>\n",
       "  </thead>\n",
       "  <tbody>\n",
       "    <tr>\n",
       "      <td>1</td>\n",
       "      <td>2.292000</td>\n",
       "      <td>2.228643</td>\n",
       "      <td>0.329600</td>\n",
       "    </tr>\n",
       "    <tr>\n",
       "      <td>2</td>\n",
       "      <td>2.021400</td>\n",
       "      <td>2.170111</td>\n",
       "      <td>0.352800</td>\n",
       "    </tr>\n",
       "    <tr>\n",
       "      <td>3</td>\n",
       "      <td>1.832800</td>\n",
       "      <td>2.184023</td>\n",
       "      <td>0.358400</td>\n",
       "    </tr>\n",
       "  </tbody>\n",
       "</table><p>"
      ],
      "text/plain": [
       "<IPython.core.display.HTML object>"
      ]
     },
     "metadata": {},
     "output_type": "display_data"
    },
    {
     "data": {
      "text/html": [
       "\n",
       "    <div>\n",
       "      \n",
       "      <progress value='1563' max='1563' style='width:300px; height:20px; vertical-align: middle;'></progress>\n",
       "      [1563/1563 00:54]\n",
       "    </div>\n",
       "    "
      ],
      "text/plain": [
       "<IPython.core.display.HTML object>"
      ]
     },
     "metadata": {},
     "output_type": "display_data"
    },
    {
     "name": "stdout",
     "output_type": "stream",
     "text": [
      "{'eval_loss': 2.1226062774658203, 'eval_model_preparation_time': 0.0012, 'eval_accuracy': 0.36282, 'eval_runtime': 54.9756, 'eval_samples_per_second': 909.495, 'eval_steps_per_second': 28.431}\n"
     ]
    }
   ],
   "source": [
    "# --- fine tune\n",
    "tuned_model = FineTune(model,train_dataset,val_dataset,3,32,3e-5)\n",
    "\n",
    "# --- test after fine-tune\n",
    "eval_res = test_func(tuned_model,test_dataset,32)\n",
    "print(eval_res)"
   ]
  }
 ],
 "metadata": {
  "cells": [],
  "kernelspec": {
   "display_name": "",
   "name": ""
  },
  "language_info": {
   "name": ""
  },
  "metadata": {
   "kernelspec": {
    "display_name": "Python 3",
    "language": "python",
    "name": "python3"
   },
   "language_info": {
    "name": "python",
    "version": "3.10.12"
   }
  },
  "nbformat": 4,
  "nbformat_minor": 5
 },
 "nbformat": 4,
 "nbformat_minor": 4
}
